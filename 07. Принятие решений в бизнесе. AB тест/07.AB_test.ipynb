{
 "cells": [
  {
   "cell_type": "markdown",
   "metadata": {},
   "source": [
    "**Вы — аналитик крупного интернет-магазина. Вместе с отделом маркетинга вы подготовили список гипотез для увеличения выручки. Приоритизируйте гипотезы, запустите A/B-тест и проанализируйте результаты.**\n",
    "\n",
    "**Часть 1. Приоритизация гипотез.**\n",
    "\n",
    "В файле - `/datasets/hypothesis.csv` 9 гипотез по увеличению выручки интернет-магазина с указанными параметрами Reach, Impact, Confidence, Effort.\n",
    "\n",
    "**Задача:**\n",
    "\n",
    "1. Примените фреймворк ICE для приоритизации гипотез. Отсортируйте их по убыванию приоритета.\n",
    "2. Примените фреймворк RICE для приоритизации гипотез. Отсортируйте их по убыванию приоритета.\n",
    "3. Укажите, как изменилась приоритизация гипотез при применении RICE вместо ICE. Объясните, почему так произошло.\n",
    "\n",
    "**Описание данных:**\n",
    "\n",
    "- Файл - `/datasets/hypothesis.csv.`\n",
    "- `Hypothesis` — краткое описание гипотезы;\n",
    "- `Reach` — охват пользователей по 10-балльной шкале;\n",
    "- `Impact` — влияние на пользователей по 10-балльной шкале;\n",
    "- `Confidence` — уверенность в гипотезе по 10-балльной шкале;\n",
    "- `Efforts` — затраты ресурсов на проверку гипотезы по 10-балльной шкале. Чем больше значение Efforts, тем дороже проверка гипотезы.\n",
    "\n",
    "**Часть 2. Анализ A/B-теста**\n",
    "\n",
    "Вы провели A/B-тест и получили результаты, которые описаны в файлах - `/datasets/orders.csv` и - `/datasets/visitors.csv.`\n",
    "\n",
    "**Задача:**\n",
    "\n",
    "Проанализируйте A/B-тест:\n",
    "\n",
    "1. Постройте график кумулятивной выручки по группам. Сделайте выводы и предположения.`\n",
    "2. Постройте график кумулятивного среднего чека по группам. Сделайте выводы и предположения.`\n",
    "3. Постройте график относительного изменения кумулятивного среднего чека группы B к группе A. Сделайте выводы и предположения.`\n",
    "4. Постройте график кумулятивной конверсии по группам. Сделайте выводы и предположения.`\n",
    "5. Постройте график относительного изменения кумулятивной конверсии группы B к группе A. Сделайте выводы и предположения.`\n",
    "6. Постройте точечный график количества заказов по пользователям. Сделайте выводы и предположения.`\n",
    "7. Посчитайте 95-й и 99-й перцентили количества заказов на пользователя. Выберите границу для определения аномальных пользователей.`\n",
    "8. Постройте точечный график стоимостей заказов. Сделайте выводы и предположения.`\n",
    "9. Посчитайте 95-й и 99-й перцентили стоимости заказов. Выберите границу для определения аномальных заказов.`\n",
    "10. Посчитайте статистическую значимость различий в конверсии между группами по «сырым» данным. Сделайте выводы и предположения.`\n",
    "11. Посчитайте статистическую значимость различий в среднем чеке заказа между группами по «сырым» данным. Сделайте выводы и предположения.`\n",
    "12. Посчитайте статистическую значимость различий в конверсии между группами по «очищенным» данным. Сделайте выводы и предположения.`\n",
    "13. Посчитайте статистическую значимость различий в среднем чеке заказа между группами по «очищенным» данным. Сделайте выводы и предположения.`\n",
    "\n",
    "\n",
    "**Примите решение по результатам теста и объясните его. Варианты решений:**\n",
    "\n",
    "1. Остановить тест, зафиксировать победу одной из групп.\n",
    "2. Остановить тест, зафиксировать отсутствие различий между группами.\n",
    "3. Продолжить тест.\n",
    "\n",
    "**Описание данных:**\n",
    "\n",
    "- Файл - `/datasets/orders.csv.` \n",
    "\n",
    "- `transactionId` — идентификатор заказа;\n",
    "- `visitorId` — идентификатор пользователя, совершившего заказ;\n",
    "- `date` — дата, когда был совершён заказ;\n",
    "- `revenue` — выручка заказа;\n",
    "- `group` — группа A/B-теста, в которую попал заказ.\n",
    "\n",
    "\n",
    "- Файл - `/datasets/visitors.csv.` \n",
    "\n",
    "\n",
    "- `date` — дата;\n",
    "- `group` — группа A/B-теста;\n",
    "- `visitors` — количество пользователей в указанную дату в указанной группе A/B-теста\n"
   ]
  },
  {
   "cell_type": "markdown",
   "metadata": {},
   "source": [
    "# Часть 1. Приоритизация гипотез."
   ]
  },
  {
   "cell_type": "code",
   "execution_count": 1,
   "metadata": {},
   "outputs": [],
   "source": [
    "import pandas as pd                    #импорт библиотек\n",
    "import scipy.stats as stats\n",
    "import datetime as dt\n",
    "import numpy as np\n",
    "import matplotlib.pyplot as plt\n",
    "from pandas.plotting import register_matplotlib_converters\n",
    "import warnings"
   ]
  },
  {
   "cell_type": "code",
   "execution_count": 2,
   "metadata": {},
   "outputs": [],
   "source": [
    "df = pd.read_csv('/datasets/hypothesis.csv')"
   ]
  },
  {
   "cell_type": "code",
   "execution_count": 3,
   "metadata": {},
   "outputs": [],
   "source": [
    "pd.options.display.max_colwidth = 100"
   ]
  },
  {
   "cell_type": "code",
   "execution_count": 4,
   "metadata": {},
   "outputs": [
    {
     "data": {
      "text/html": [
       "<div>\n",
       "<style scoped>\n",
       "    .dataframe tbody tr th:only-of-type {\n",
       "        vertical-align: middle;\n",
       "    }\n",
       "\n",
       "    .dataframe tbody tr th {\n",
       "        vertical-align: top;\n",
       "    }\n",
       "\n",
       "    .dataframe thead th {\n",
       "        text-align: right;\n",
       "    }\n",
       "</style>\n",
       "<table border=\"1\" class=\"dataframe\">\n",
       "  <thead>\n",
       "    <tr style=\"text-align: right;\">\n",
       "      <th></th>\n",
       "      <th>Hypothesis</th>\n",
       "      <th>Reach</th>\n",
       "      <th>Impact</th>\n",
       "      <th>Confidence</th>\n",
       "      <th>Efforts</th>\n",
       "    </tr>\n",
       "  </thead>\n",
       "  <tbody>\n",
       "    <tr>\n",
       "      <th>0</th>\n",
       "      <td>Добавить два новых канала привлечения трафика, что позволит привлекать на 30% больше пользователей</td>\n",
       "      <td>3</td>\n",
       "      <td>10</td>\n",
       "      <td>8</td>\n",
       "      <td>6</td>\n",
       "    </tr>\n",
       "    <tr>\n",
       "      <th>1</th>\n",
       "      <td>Запустить собственную службу доставки, что сократит срок доставки заказов</td>\n",
       "      <td>2</td>\n",
       "      <td>5</td>\n",
       "      <td>4</td>\n",
       "      <td>10</td>\n",
       "    </tr>\n",
       "    <tr>\n",
       "      <th>2</th>\n",
       "      <td>Добавить блоки рекомендаций товаров на сайт интернет магазина, чтобы повысить конверсию и средни...</td>\n",
       "      <td>8</td>\n",
       "      <td>3</td>\n",
       "      <td>7</td>\n",
       "      <td>3</td>\n",
       "    </tr>\n",
       "    <tr>\n",
       "      <th>3</th>\n",
       "      <td>Изменить структура категорий, что увеличит конверсию, т.к. пользователи быстрее найдут нужный товар</td>\n",
       "      <td>8</td>\n",
       "      <td>3</td>\n",
       "      <td>3</td>\n",
       "      <td>8</td>\n",
       "    </tr>\n",
       "    <tr>\n",
       "      <th>4</th>\n",
       "      <td>Изменить цвет фона главной страницы, чтобы увеличить вовлеченность пользователей</td>\n",
       "      <td>3</td>\n",
       "      <td>1</td>\n",
       "      <td>1</td>\n",
       "      <td>1</td>\n",
       "    </tr>\n",
       "    <tr>\n",
       "      <th>5</th>\n",
       "      <td>Добавить страницу отзывов клиентов о магазине, что позволит увеличить количество заказов</td>\n",
       "      <td>3</td>\n",
       "      <td>2</td>\n",
       "      <td>2</td>\n",
       "      <td>3</td>\n",
       "    </tr>\n",
       "    <tr>\n",
       "      <th>6</th>\n",
       "      <td>Показать на главной странице баннеры с актуальными акциями и распродажами, чтобы увеличить конве...</td>\n",
       "      <td>5</td>\n",
       "      <td>3</td>\n",
       "      <td>8</td>\n",
       "      <td>3</td>\n",
       "    </tr>\n",
       "    <tr>\n",
       "      <th>7</th>\n",
       "      <td>Добавить форму подписки на все основные страницы, чтобы собрать базу клиентов для email-рассылок</td>\n",
       "      <td>10</td>\n",
       "      <td>7</td>\n",
       "      <td>8</td>\n",
       "      <td>5</td>\n",
       "    </tr>\n",
       "    <tr>\n",
       "      <th>8</th>\n",
       "      <td>Запустить акцию, дающую скидку на товар в день рождения</td>\n",
       "      <td>1</td>\n",
       "      <td>9</td>\n",
       "      <td>9</td>\n",
       "      <td>5</td>\n",
       "    </tr>\n",
       "  </tbody>\n",
       "</table>\n",
       "</div>"
      ],
      "text/plain": [
       "                                                                                            Hypothesis  \\\n",
       "0   Добавить два новых канала привлечения трафика, что позволит привлекать на 30% больше пользователей   \n",
       "1                            Запустить собственную службу доставки, что сократит срок доставки заказов   \n",
       "2  Добавить блоки рекомендаций товаров на сайт интернет магазина, чтобы повысить конверсию и средни...   \n",
       "3  Изменить структура категорий, что увеличит конверсию, т.к. пользователи быстрее найдут нужный товар   \n",
       "4                     Изменить цвет фона главной страницы, чтобы увеличить вовлеченность пользователей   \n",
       "5             Добавить страницу отзывов клиентов о магазине, что позволит увеличить количество заказов   \n",
       "6  Показать на главной странице баннеры с актуальными акциями и распродажами, чтобы увеличить конве...   \n",
       "7     Добавить форму подписки на все основные страницы, чтобы собрать базу клиентов для email-рассылок   \n",
       "8                                              Запустить акцию, дающую скидку на товар в день рождения   \n",
       "\n",
       "   Reach  Impact  Confidence  Efforts  \n",
       "0      3      10           8        6  \n",
       "1      2       5           4       10  \n",
       "2      8       3           7        3  \n",
       "3      8       3           3        8  \n",
       "4      3       1           1        1  \n",
       "5      3       2           2        3  \n",
       "6      5       3           8        3  \n",
       "7     10       7           8        5  \n",
       "8      1       9           9        5  "
      ]
     },
     "execution_count": 4,
     "metadata": {},
     "output_type": "execute_result"
    }
   ],
   "source": [
    "df.head(10)"
   ]
  },
  {
   "cell_type": "markdown",
   "metadata": {},
   "source": [
    "Описание данных\n",
    "\n",
    "- `Hypothesis` — краткое описание гипотезы;\n",
    "- `Reach` — охват пользователей по 10-балльной шкале;\n",
    "- `Impact` — влияние на пользователей по 10-балльной шкале;\n",
    "- `Confidence` — уверенность в гипотезе по 10-балльной шкале;\n",
    "- `Efforts` — затраты ресурсов на проверку гипотезы по 10-балльной шкале. Чем больше значение Efforts, тем дороже проверка гипотезы."
   ]
  },
  {
   "cell_type": "code",
   "execution_count": 5,
   "metadata": {},
   "outputs": [
    {
     "data": {
      "text/html": [
       "<div>\n",
       "<style scoped>\n",
       "    .dataframe tbody tr th:only-of-type {\n",
       "        vertical-align: middle;\n",
       "    }\n",
       "\n",
       "    .dataframe tbody tr th {\n",
       "        vertical-align: top;\n",
       "    }\n",
       "\n",
       "    .dataframe thead th {\n",
       "        text-align: right;\n",
       "    }\n",
       "</style>\n",
       "<table border=\"1\" class=\"dataframe\">\n",
       "  <thead>\n",
       "    <tr style=\"text-align: right;\">\n",
       "      <th></th>\n",
       "      <th>Hypothesis</th>\n",
       "      <th>Reach</th>\n",
       "      <th>Impact</th>\n",
       "      <th>Confidence</th>\n",
       "      <th>Efforts</th>\n",
       "      <th>ICE</th>\n",
       "    </tr>\n",
       "  </thead>\n",
       "  <tbody>\n",
       "    <tr>\n",
       "      <th>8</th>\n",
       "      <td>Запустить акцию, дающую скидку на товар в день рождения</td>\n",
       "      <td>1</td>\n",
       "      <td>9</td>\n",
       "      <td>9</td>\n",
       "      <td>5</td>\n",
       "      <td>16.20</td>\n",
       "    </tr>\n",
       "    <tr>\n",
       "      <th>0</th>\n",
       "      <td>Добавить два новых канала привлечения трафика, что позволит привлекать на 30% больше пользователей</td>\n",
       "      <td>3</td>\n",
       "      <td>10</td>\n",
       "      <td>8</td>\n",
       "      <td>6</td>\n",
       "      <td>13.33</td>\n",
       "    </tr>\n",
       "    <tr>\n",
       "      <th>7</th>\n",
       "      <td>Добавить форму подписки на все основные страницы, чтобы собрать базу клиентов для email-рассылок</td>\n",
       "      <td>10</td>\n",
       "      <td>7</td>\n",
       "      <td>8</td>\n",
       "      <td>5</td>\n",
       "      <td>11.20</td>\n",
       "    </tr>\n",
       "    <tr>\n",
       "      <th>6</th>\n",
       "      <td>Показать на главной странице баннеры с актуальными акциями и распродажами, чтобы увеличить конве...</td>\n",
       "      <td>5</td>\n",
       "      <td>3</td>\n",
       "      <td>8</td>\n",
       "      <td>3</td>\n",
       "      <td>8.00</td>\n",
       "    </tr>\n",
       "    <tr>\n",
       "      <th>2</th>\n",
       "      <td>Добавить блоки рекомендаций товаров на сайт интернет магазина, чтобы повысить конверсию и средни...</td>\n",
       "      <td>8</td>\n",
       "      <td>3</td>\n",
       "      <td>7</td>\n",
       "      <td>3</td>\n",
       "      <td>7.00</td>\n",
       "    </tr>\n",
       "    <tr>\n",
       "      <th>1</th>\n",
       "      <td>Запустить собственную службу доставки, что сократит срок доставки заказов</td>\n",
       "      <td>2</td>\n",
       "      <td>5</td>\n",
       "      <td>4</td>\n",
       "      <td>10</td>\n",
       "      <td>2.00</td>\n",
       "    </tr>\n",
       "    <tr>\n",
       "      <th>5</th>\n",
       "      <td>Добавить страницу отзывов клиентов о магазине, что позволит увеличить количество заказов</td>\n",
       "      <td>3</td>\n",
       "      <td>2</td>\n",
       "      <td>2</td>\n",
       "      <td>3</td>\n",
       "      <td>1.33</td>\n",
       "    </tr>\n",
       "    <tr>\n",
       "      <th>3</th>\n",
       "      <td>Изменить структура категорий, что увеличит конверсию, т.к. пользователи быстрее найдут нужный товар</td>\n",
       "      <td>8</td>\n",
       "      <td>3</td>\n",
       "      <td>3</td>\n",
       "      <td>8</td>\n",
       "      <td>1.12</td>\n",
       "    </tr>\n",
       "    <tr>\n",
       "      <th>4</th>\n",
       "      <td>Изменить цвет фона главной страницы, чтобы увеличить вовлеченность пользователей</td>\n",
       "      <td>3</td>\n",
       "      <td>1</td>\n",
       "      <td>1</td>\n",
       "      <td>1</td>\n",
       "      <td>1.00</td>\n",
       "    </tr>\n",
       "  </tbody>\n",
       "</table>\n",
       "</div>"
      ],
      "text/plain": [
       "                                                                                            Hypothesis  \\\n",
       "8                                              Запустить акцию, дающую скидку на товар в день рождения   \n",
       "0   Добавить два новых канала привлечения трафика, что позволит привлекать на 30% больше пользователей   \n",
       "7     Добавить форму подписки на все основные страницы, чтобы собрать базу клиентов для email-рассылок   \n",
       "6  Показать на главной странице баннеры с актуальными акциями и распродажами, чтобы увеличить конве...   \n",
       "2  Добавить блоки рекомендаций товаров на сайт интернет магазина, чтобы повысить конверсию и средни...   \n",
       "1                            Запустить собственную службу доставки, что сократит срок доставки заказов   \n",
       "5             Добавить страницу отзывов клиентов о магазине, что позволит увеличить количество заказов   \n",
       "3  Изменить структура категорий, что увеличит конверсию, т.к. пользователи быстрее найдут нужный товар   \n",
       "4                     Изменить цвет фона главной страницы, чтобы увеличить вовлеченность пользователей   \n",
       "\n",
       "   Reach  Impact  Confidence  Efforts    ICE  \n",
       "8      1       9           9        5  16.20  \n",
       "0      3      10           8        6  13.33  \n",
       "7     10       7           8        5  11.20  \n",
       "6      5       3           8        3   8.00  \n",
       "2      8       3           7        3   7.00  \n",
       "1      2       5           4       10   2.00  \n",
       "5      3       2           2        3   1.33  \n",
       "3      8       3           3        8   1.12  \n",
       "4      3       1           1        1   1.00  "
      ]
     },
     "metadata": {},
     "output_type": "display_data"
    }
   ],
   "source": [
    "df['ICE'] = ((df['Impact'] * df['Confidence']) / df['Efforts']).round(2) # ICE\n",
    "display(df.sort_values('ICE', ascending=False))"
   ]
  },
  {
   "cell_type": "code",
   "execution_count": 6,
   "metadata": {},
   "outputs": [
    {
     "data": {
      "text/html": [
       "<div>\n",
       "<style scoped>\n",
       "    .dataframe tbody tr th:only-of-type {\n",
       "        vertical-align: middle;\n",
       "    }\n",
       "\n",
       "    .dataframe tbody tr th {\n",
       "        vertical-align: top;\n",
       "    }\n",
       "\n",
       "    .dataframe thead th {\n",
       "        text-align: right;\n",
       "    }\n",
       "</style>\n",
       "<table border=\"1\" class=\"dataframe\">\n",
       "  <thead>\n",
       "    <tr style=\"text-align: right;\">\n",
       "      <th></th>\n",
       "      <th>Hypothesis</th>\n",
       "      <th>Reach</th>\n",
       "      <th>Impact</th>\n",
       "      <th>Confidence</th>\n",
       "      <th>Efforts</th>\n",
       "      <th>ICE</th>\n",
       "      <th>RICE</th>\n",
       "    </tr>\n",
       "  </thead>\n",
       "  <tbody>\n",
       "    <tr>\n",
       "      <th>7</th>\n",
       "      <td>Добавить форму подписки на все основные страницы, чтобы собрать базу клиентов для email-рассылок</td>\n",
       "      <td>10</td>\n",
       "      <td>7</td>\n",
       "      <td>8</td>\n",
       "      <td>5</td>\n",
       "      <td>11.20</td>\n",
       "      <td>112.0</td>\n",
       "    </tr>\n",
       "    <tr>\n",
       "      <th>2</th>\n",
       "      <td>Добавить блоки рекомендаций товаров на сайт интернет магазина, чтобы повысить конверсию и средни...</td>\n",
       "      <td>8</td>\n",
       "      <td>3</td>\n",
       "      <td>7</td>\n",
       "      <td>3</td>\n",
       "      <td>7.00</td>\n",
       "      <td>56.0</td>\n",
       "    </tr>\n",
       "    <tr>\n",
       "      <th>0</th>\n",
       "      <td>Добавить два новых канала привлечения трафика, что позволит привлекать на 30% больше пользователей</td>\n",
       "      <td>3</td>\n",
       "      <td>10</td>\n",
       "      <td>8</td>\n",
       "      <td>6</td>\n",
       "      <td>13.33</td>\n",
       "      <td>40.0</td>\n",
       "    </tr>\n",
       "    <tr>\n",
       "      <th>6</th>\n",
       "      <td>Показать на главной странице баннеры с актуальными акциями и распродажами, чтобы увеличить конве...</td>\n",
       "      <td>5</td>\n",
       "      <td>3</td>\n",
       "      <td>8</td>\n",
       "      <td>3</td>\n",
       "      <td>8.00</td>\n",
       "      <td>40.0</td>\n",
       "    </tr>\n",
       "    <tr>\n",
       "      <th>8</th>\n",
       "      <td>Запустить акцию, дающую скидку на товар в день рождения</td>\n",
       "      <td>1</td>\n",
       "      <td>9</td>\n",
       "      <td>9</td>\n",
       "      <td>5</td>\n",
       "      <td>16.20</td>\n",
       "      <td>16.2</td>\n",
       "    </tr>\n",
       "    <tr>\n",
       "      <th>3</th>\n",
       "      <td>Изменить структура категорий, что увеличит конверсию, т.к. пользователи быстрее найдут нужный товар</td>\n",
       "      <td>8</td>\n",
       "      <td>3</td>\n",
       "      <td>3</td>\n",
       "      <td>8</td>\n",
       "      <td>1.12</td>\n",
       "      <td>9.0</td>\n",
       "    </tr>\n",
       "    <tr>\n",
       "      <th>1</th>\n",
       "      <td>Запустить собственную службу доставки, что сократит срок доставки заказов</td>\n",
       "      <td>2</td>\n",
       "      <td>5</td>\n",
       "      <td>4</td>\n",
       "      <td>10</td>\n",
       "      <td>2.00</td>\n",
       "      <td>4.0</td>\n",
       "    </tr>\n",
       "    <tr>\n",
       "      <th>5</th>\n",
       "      <td>Добавить страницу отзывов клиентов о магазине, что позволит увеличить количество заказов</td>\n",
       "      <td>3</td>\n",
       "      <td>2</td>\n",
       "      <td>2</td>\n",
       "      <td>3</td>\n",
       "      <td>1.33</td>\n",
       "      <td>4.0</td>\n",
       "    </tr>\n",
       "    <tr>\n",
       "      <th>4</th>\n",
       "      <td>Изменить цвет фона главной страницы, чтобы увеличить вовлеченность пользователей</td>\n",
       "      <td>3</td>\n",
       "      <td>1</td>\n",
       "      <td>1</td>\n",
       "      <td>1</td>\n",
       "      <td>1.00</td>\n",
       "      <td>3.0</td>\n",
       "    </tr>\n",
       "  </tbody>\n",
       "</table>\n",
       "</div>"
      ],
      "text/plain": [
       "                                                                                            Hypothesis  \\\n",
       "7     Добавить форму подписки на все основные страницы, чтобы собрать базу клиентов для email-рассылок   \n",
       "2  Добавить блоки рекомендаций товаров на сайт интернет магазина, чтобы повысить конверсию и средни...   \n",
       "0   Добавить два новых канала привлечения трафика, что позволит привлекать на 30% больше пользователей   \n",
       "6  Показать на главной странице баннеры с актуальными акциями и распродажами, чтобы увеличить конве...   \n",
       "8                                              Запустить акцию, дающую скидку на товар в день рождения   \n",
       "3  Изменить структура категорий, что увеличит конверсию, т.к. пользователи быстрее найдут нужный товар   \n",
       "1                            Запустить собственную службу доставки, что сократит срок доставки заказов   \n",
       "5             Добавить страницу отзывов клиентов о магазине, что позволит увеличить количество заказов   \n",
       "4                     Изменить цвет фона главной страницы, чтобы увеличить вовлеченность пользователей   \n",
       "\n",
       "   Reach  Impact  Confidence  Efforts    ICE   RICE  \n",
       "7     10       7           8        5  11.20  112.0  \n",
       "2      8       3           7        3   7.00   56.0  \n",
       "0      3      10           8        6  13.33   40.0  \n",
       "6      5       3           8        3   8.00   40.0  \n",
       "8      1       9           9        5  16.20   16.2  \n",
       "3      8       3           3        8   1.12    9.0  \n",
       "1      2       5           4       10   2.00    4.0  \n",
       "5      3       2           2        3   1.33    4.0  \n",
       "4      3       1           1        1   1.00    3.0  "
      ]
     },
     "metadata": {},
     "output_type": "display_data"
    }
   ],
   "source": [
    "df['RICE'] = df['Reach'] * df['Impact'] * df['Confidence'] / df['Efforts'] # RICE\n",
    "display(df.sort_values('RICE', ascending=False))"
   ]
  },
  {
   "cell_type": "markdown",
   "metadata": {},
   "source": [
    "По фреймворку ICE наибольшую оценку имели гпиотезы 8,0 и 7. После применения фреймворка RICE приоритеты изменились на гпиотезы 7,2 и 0. Это объясняется тем, что в случае фреймворка ICE, в отличие от RICE, мы не учитывали охват изменений, тогда как это важная составляющая оценки гипотез. \n",
    "\n",
    "В нашем случае наиболее приоритетными гипотезами будут 7, 2, 0."
   ]
  },
  {
   "cell_type": "markdown",
   "metadata": {},
   "source": [
    "# Часть 2. Анализ A/B-теста"
   ]
  },
  {
   "cell_type": "code",
   "execution_count": 7,
   "metadata": {},
   "outputs": [],
   "source": [
    "orders = pd.read_csv('/datasets/orders.csv')\n",
    "visitors = pd.read_csv('/datasets/visitors.csv')"
   ]
  },
  {
   "cell_type": "code",
   "execution_count": 8,
   "metadata": {},
   "outputs": [
    {
     "data": {
      "text/html": [
       "<div>\n",
       "<style scoped>\n",
       "    .dataframe tbody tr th:only-of-type {\n",
       "        vertical-align: middle;\n",
       "    }\n",
       "\n",
       "    .dataframe tbody tr th {\n",
       "        vertical-align: top;\n",
       "    }\n",
       "\n",
       "    .dataframe thead th {\n",
       "        text-align: right;\n",
       "    }\n",
       "</style>\n",
       "<table border=\"1\" class=\"dataframe\">\n",
       "  <thead>\n",
       "    <tr style=\"text-align: right;\">\n",
       "      <th></th>\n",
       "      <th>transactionId</th>\n",
       "      <th>visitorId</th>\n",
       "      <th>date</th>\n",
       "      <th>revenue</th>\n",
       "      <th>group</th>\n",
       "    </tr>\n",
       "  </thead>\n",
       "  <tbody>\n",
       "    <tr>\n",
       "      <th>0</th>\n",
       "      <td>3667963787</td>\n",
       "      <td>3312258926</td>\n",
       "      <td>2019-08-15</td>\n",
       "      <td>1650</td>\n",
       "      <td>B</td>\n",
       "    </tr>\n",
       "    <tr>\n",
       "      <th>1</th>\n",
       "      <td>2804400009</td>\n",
       "      <td>3642806036</td>\n",
       "      <td>2019-08-15</td>\n",
       "      <td>730</td>\n",
       "      <td>B</td>\n",
       "    </tr>\n",
       "    <tr>\n",
       "      <th>2</th>\n",
       "      <td>2961555356</td>\n",
       "      <td>4069496402</td>\n",
       "      <td>2019-08-15</td>\n",
       "      <td>400</td>\n",
       "      <td>A</td>\n",
       "    </tr>\n",
       "    <tr>\n",
       "      <th>3</th>\n",
       "      <td>3797467345</td>\n",
       "      <td>1196621759</td>\n",
       "      <td>2019-08-15</td>\n",
       "      <td>9759</td>\n",
       "      <td>B</td>\n",
       "    </tr>\n",
       "    <tr>\n",
       "      <th>4</th>\n",
       "      <td>2282983706</td>\n",
       "      <td>2322279887</td>\n",
       "      <td>2019-08-15</td>\n",
       "      <td>2308</td>\n",
       "      <td>B</td>\n",
       "    </tr>\n",
       "  </tbody>\n",
       "</table>\n",
       "</div>"
      ],
      "text/plain": [
       "   transactionId   visitorId        date  revenue group\n",
       "0     3667963787  3312258926  2019-08-15     1650     B\n",
       "1     2804400009  3642806036  2019-08-15      730     B\n",
       "2     2961555356  4069496402  2019-08-15      400     A\n",
       "3     3797467345  1196621759  2019-08-15     9759     B\n",
       "4     2282983706  2322279887  2019-08-15     2308     B"
      ]
     },
     "execution_count": 8,
     "metadata": {},
     "output_type": "execute_result"
    }
   ],
   "source": [
    "orders.head()"
   ]
  },
  {
   "cell_type": "code",
   "execution_count": 9,
   "metadata": {},
   "outputs": [
    {
     "name": "stdout",
     "output_type": "stream",
     "text": [
      "<class 'pandas.core.frame.DataFrame'>\n",
      "RangeIndex: 1197 entries, 0 to 1196\n",
      "Data columns (total 5 columns):\n",
      " #   Column         Non-Null Count  Dtype \n",
      "---  ------         --------------  ----- \n",
      " 0   transactionId  1197 non-null   int64 \n",
      " 1   visitorId      1197 non-null   int64 \n",
      " 2   date           1197 non-null   object\n",
      " 3   revenue        1197 non-null   int64 \n",
      " 4   group          1197 non-null   object\n",
      "dtypes: int64(3), object(2)\n",
      "memory usage: 46.9+ KB\n"
     ]
    }
   ],
   "source": [
    "orders.info()"
   ]
  },
  {
   "cell_type": "code",
   "execution_count": 10,
   "metadata": {},
   "outputs": [
    {
     "data": {
      "text/html": [
       "<div>\n",
       "<style scoped>\n",
       "    .dataframe tbody tr th:only-of-type {\n",
       "        vertical-align: middle;\n",
       "    }\n",
       "\n",
       "    .dataframe tbody tr th {\n",
       "        vertical-align: top;\n",
       "    }\n",
       "\n",
       "    .dataframe thead th {\n",
       "        text-align: right;\n",
       "    }\n",
       "</style>\n",
       "<table border=\"1\" class=\"dataframe\">\n",
       "  <thead>\n",
       "    <tr style=\"text-align: right;\">\n",
       "      <th></th>\n",
       "      <th>date</th>\n",
       "      <th>group</th>\n",
       "      <th>visitors</th>\n",
       "    </tr>\n",
       "  </thead>\n",
       "  <tbody>\n",
       "    <tr>\n",
       "      <th>0</th>\n",
       "      <td>2019-08-01</td>\n",
       "      <td>A</td>\n",
       "      <td>719</td>\n",
       "    </tr>\n",
       "    <tr>\n",
       "      <th>1</th>\n",
       "      <td>2019-08-02</td>\n",
       "      <td>A</td>\n",
       "      <td>619</td>\n",
       "    </tr>\n",
       "    <tr>\n",
       "      <th>2</th>\n",
       "      <td>2019-08-03</td>\n",
       "      <td>A</td>\n",
       "      <td>507</td>\n",
       "    </tr>\n",
       "    <tr>\n",
       "      <th>3</th>\n",
       "      <td>2019-08-04</td>\n",
       "      <td>A</td>\n",
       "      <td>717</td>\n",
       "    </tr>\n",
       "    <tr>\n",
       "      <th>4</th>\n",
       "      <td>2019-08-05</td>\n",
       "      <td>A</td>\n",
       "      <td>756</td>\n",
       "    </tr>\n",
       "  </tbody>\n",
       "</table>\n",
       "</div>"
      ],
      "text/plain": [
       "         date group  visitors\n",
       "0  2019-08-01     A       719\n",
       "1  2019-08-02     A       619\n",
       "2  2019-08-03     A       507\n",
       "3  2019-08-04     A       717\n",
       "4  2019-08-05     A       756"
      ]
     },
     "execution_count": 10,
     "metadata": {},
     "output_type": "execute_result"
    }
   ],
   "source": [
    "visitors.head()"
   ]
  },
  {
   "cell_type": "code",
   "execution_count": 11,
   "metadata": {},
   "outputs": [
    {
     "name": "stdout",
     "output_type": "stream",
     "text": [
      "<class 'pandas.core.frame.DataFrame'>\n",
      "RangeIndex: 62 entries, 0 to 61\n",
      "Data columns (total 3 columns):\n",
      " #   Column    Non-Null Count  Dtype \n",
      "---  ------    --------------  ----- \n",
      " 0   date      62 non-null     object\n",
      " 1   group     62 non-null     object\n",
      " 2   visitors  62 non-null     int64 \n",
      "dtypes: int64(1), object(2)\n",
      "memory usage: 1.6+ KB\n"
     ]
    }
   ],
   "source": [
    "visitors.info()"
   ]
  },
  {
   "cell_type": "code",
   "execution_count": 12,
   "metadata": {},
   "outputs": [
    {
     "name": "stdout",
     "output_type": "stream",
     "text": [
      "Количество дубликатов в таблице orders = 0\n",
      "Количество дубликатов в таблице visitors = 0\n"
     ]
    }
   ],
   "source": [
    "print(\"Количество дубликатов в таблице orders =\",orders.duplicated().sum())\n",
    "print(\"Количество дубликатов в таблице visitors =\",visitors.duplicated().sum())"
   ]
  },
  {
   "cell_type": "code",
   "execution_count": 13,
   "metadata": {},
   "outputs": [
    {
     "data": {
      "text/plain": [
       "'2019-08-31'"
      ]
     },
     "execution_count": 13,
     "metadata": {},
     "output_type": "execute_result"
    }
   ],
   "source": [
    "visitors['date'].max()"
   ]
  },
  {
   "cell_type": "code",
   "execution_count": 14,
   "metadata": {},
   "outputs": [
    {
     "data": {
      "text/plain": [
       "'2019-08-01'"
      ]
     },
     "execution_count": 14,
     "metadata": {},
     "output_type": "execute_result"
    }
   ],
   "source": [
    "visitors['date'].min()"
   ]
  },
  {
   "cell_type": "code",
   "execution_count": 15,
   "metadata": {},
   "outputs": [
    {
     "data": {
      "text/plain": [
       "'2019-08-31'"
      ]
     },
     "execution_count": 15,
     "metadata": {},
     "output_type": "execute_result"
    }
   ],
   "source": [
    "orders['date'].max()"
   ]
  },
  {
   "cell_type": "code",
   "execution_count": 16,
   "metadata": {},
   "outputs": [
    {
     "data": {
      "text/plain": [
       "'2019-08-01'"
      ]
     },
     "execution_count": 16,
     "metadata": {},
     "output_type": "execute_result"
    }
   ],
   "source": [
    "orders['date'].min()"
   ]
  },
  {
   "cell_type": "markdown",
   "metadata": {},
   "source": [
    "Дата начала теста: 2019-08-01\n",
    "\n",
    "Дата окончная теста: 2019-08-31 "
   ]
  },
  {
   "cell_type": "markdown",
   "metadata": {},
   "source": [
    "### 2.1 График кумулятивной выручки по группам"
   ]
  },
  {
   "cell_type": "code",
   "execution_count": 17,
   "metadata": {},
   "outputs": [],
   "source": [
    "orders['date'] = pd.to_datetime(orders['date'], format='%Y/%m/%d') # изменим object на datetime"
   ]
  },
  {
   "cell_type": "code",
   "execution_count": 18,
   "metadata": {},
   "outputs": [],
   "source": [
    "visitors['date'] = pd.to_datetime(visitors['date'], format='%Y/%m/%d')"
   ]
  },
  {
   "cell_type": "markdown",
   "metadata": {},
   "source": [
    "Чтобы построить графики, нужно собрать кумулятивные данные"
   ]
  },
  {
   "cell_type": "code",
   "execution_count": 19,
   "metadata": {},
   "outputs": [],
   "source": [
    "datesGroups = orders[['date','group']].drop_duplicates() # создаем массив уникальных пар значений дат и групп теста"
   ]
  },
  {
   "cell_type": "code",
   "execution_count": 20,
   "metadata": {},
   "outputs": [
    {
     "data": {
      "text/html": [
       "<div>\n",
       "<style scoped>\n",
       "    .dataframe tbody tr th:only-of-type {\n",
       "        vertical-align: middle;\n",
       "    }\n",
       "\n",
       "    .dataframe tbody tr th {\n",
       "        vertical-align: top;\n",
       "    }\n",
       "\n",
       "    .dataframe thead th {\n",
       "        text-align: right;\n",
       "    }\n",
       "</style>\n",
       "<table border=\"1\" class=\"dataframe\">\n",
       "  <thead>\n",
       "    <tr style=\"text-align: right;\">\n",
       "      <th></th>\n",
       "      <th>date</th>\n",
       "      <th>group</th>\n",
       "    </tr>\n",
       "  </thead>\n",
       "  <tbody>\n",
       "    <tr>\n",
       "      <th>0</th>\n",
       "      <td>2019-08-15</td>\n",
       "      <td>B</td>\n",
       "    </tr>\n",
       "    <tr>\n",
       "      <th>2</th>\n",
       "      <td>2019-08-15</td>\n",
       "      <td>A</td>\n",
       "    </tr>\n",
       "    <tr>\n",
       "      <th>45</th>\n",
       "      <td>2019-08-16</td>\n",
       "      <td>A</td>\n",
       "    </tr>\n",
       "    <tr>\n",
       "      <th>47</th>\n",
       "      <td>2019-08-16</td>\n",
       "      <td>B</td>\n",
       "    </tr>\n",
       "    <tr>\n",
       "      <th>55</th>\n",
       "      <td>2019-08-01</td>\n",
       "      <td>A</td>\n",
       "    </tr>\n",
       "    <tr>\n",
       "      <th>...</th>\n",
       "      <td>...</td>\n",
       "      <td>...</td>\n",
       "    </tr>\n",
       "    <tr>\n",
       "      <th>1068</th>\n",
       "      <td>2019-08-12</td>\n",
       "      <td>A</td>\n",
       "    </tr>\n",
       "    <tr>\n",
       "      <th>1114</th>\n",
       "      <td>2019-08-13</td>\n",
       "      <td>B</td>\n",
       "    </tr>\n",
       "    <tr>\n",
       "      <th>1116</th>\n",
       "      <td>2019-08-13</td>\n",
       "      <td>A</td>\n",
       "    </tr>\n",
       "    <tr>\n",
       "      <th>1149</th>\n",
       "      <td>2019-08-14</td>\n",
       "      <td>B</td>\n",
       "    </tr>\n",
       "    <tr>\n",
       "      <th>1150</th>\n",
       "      <td>2019-08-14</td>\n",
       "      <td>A</td>\n",
       "    </tr>\n",
       "  </tbody>\n",
       "</table>\n",
       "<p>62 rows × 2 columns</p>\n",
       "</div>"
      ],
      "text/plain": [
       "           date group\n",
       "0    2019-08-15     B\n",
       "2    2019-08-15     A\n",
       "45   2019-08-16     A\n",
       "47   2019-08-16     B\n",
       "55   2019-08-01     A\n",
       "...         ...   ...\n",
       "1068 2019-08-12     A\n",
       "1114 2019-08-13     B\n",
       "1116 2019-08-13     A\n",
       "1149 2019-08-14     B\n",
       "1150 2019-08-14     A\n",
       "\n",
       "[62 rows x 2 columns]"
      ]
     },
     "execution_count": 20,
     "metadata": {},
     "output_type": "execute_result"
    }
   ],
   "source": [
    "datesGroups"
   ]
  },
  {
   "cell_type": "code",
   "execution_count": 21,
   "metadata": {},
   "outputs": [],
   "source": [
    "# получаем агрегированные кумулятивные по дням данные о заказах \n",
    "ordersAggregated = datesGroups.apply(\n",
    "    lambda x: orders[np.logical_and(orders['date'] <= x['date'], orders['group'] == x['group'])].agg({\n",
    "'date' : 'max',\n",
    "'group' : 'max', \n",
    "'transactionId' : 'nunique', \n",
    "'visitorId' : 'nunique', \n",
    "'revenue' : 'sum'}), axis=1).sort_values(by=['date','group'])"
   ]
  },
  {
   "cell_type": "code",
   "execution_count": 22,
   "metadata": {},
   "outputs": [
    {
     "data": {
      "text/html": [
       "<div>\n",
       "<style scoped>\n",
       "    .dataframe tbody tr th:only-of-type {\n",
       "        vertical-align: middle;\n",
       "    }\n",
       "\n",
       "    .dataframe tbody tr th {\n",
       "        vertical-align: top;\n",
       "    }\n",
       "\n",
       "    .dataframe thead th {\n",
       "        text-align: right;\n",
       "    }\n",
       "</style>\n",
       "<table border=\"1\" class=\"dataframe\">\n",
       "  <thead>\n",
       "    <tr style=\"text-align: right;\">\n",
       "      <th></th>\n",
       "      <th>date</th>\n",
       "      <th>group</th>\n",
       "      <th>transactionId</th>\n",
       "      <th>visitorId</th>\n",
       "      <th>revenue</th>\n",
       "    </tr>\n",
       "  </thead>\n",
       "  <tbody>\n",
       "    <tr>\n",
       "      <th>55</th>\n",
       "      <td>2019-08-01</td>\n",
       "      <td>A</td>\n",
       "      <td>24</td>\n",
       "      <td>20</td>\n",
       "      <td>148579</td>\n",
       "    </tr>\n",
       "    <tr>\n",
       "      <th>66</th>\n",
       "      <td>2019-08-01</td>\n",
       "      <td>B</td>\n",
       "      <td>21</td>\n",
       "      <td>20</td>\n",
       "      <td>101217</td>\n",
       "    </tr>\n",
       "    <tr>\n",
       "      <th>175</th>\n",
       "      <td>2019-08-02</td>\n",
       "      <td>A</td>\n",
       "      <td>44</td>\n",
       "      <td>38</td>\n",
       "      <td>242401</td>\n",
       "    </tr>\n",
       "    <tr>\n",
       "      <th>173</th>\n",
       "      <td>2019-08-02</td>\n",
       "      <td>B</td>\n",
       "      <td>45</td>\n",
       "      <td>43</td>\n",
       "      <td>266748</td>\n",
       "    </tr>\n",
       "    <tr>\n",
       "      <th>291</th>\n",
       "      <td>2019-08-03</td>\n",
       "      <td>A</td>\n",
       "      <td>68</td>\n",
       "      <td>62</td>\n",
       "      <td>354874</td>\n",
       "    </tr>\n",
       "    <tr>\n",
       "      <th>...</th>\n",
       "      <td>...</td>\n",
       "      <td>...</td>\n",
       "      <td>...</td>\n",
       "      <td>...</td>\n",
       "      <td>...</td>\n",
       "    </tr>\n",
       "    <tr>\n",
       "      <th>496</th>\n",
       "      <td>2019-08-29</td>\n",
       "      <td>B</td>\n",
       "      <td>596</td>\n",
       "      <td>544</td>\n",
       "      <td>5559398</td>\n",
       "    </tr>\n",
       "    <tr>\n",
       "      <th>730</th>\n",
       "      <td>2019-08-30</td>\n",
       "      <td>A</td>\n",
       "      <td>545</td>\n",
       "      <td>493</td>\n",
       "      <td>4022970</td>\n",
       "    </tr>\n",
       "    <tr>\n",
       "      <th>690</th>\n",
       "      <td>2019-08-30</td>\n",
       "      <td>B</td>\n",
       "      <td>620</td>\n",
       "      <td>567</td>\n",
       "      <td>5774631</td>\n",
       "    </tr>\n",
       "    <tr>\n",
       "      <th>958</th>\n",
       "      <td>2019-08-31</td>\n",
       "      <td>A</td>\n",
       "      <td>557</td>\n",
       "      <td>503</td>\n",
       "      <td>4084803</td>\n",
       "    </tr>\n",
       "    <tr>\n",
       "      <th>930</th>\n",
       "      <td>2019-08-31</td>\n",
       "      <td>B</td>\n",
       "      <td>640</td>\n",
       "      <td>586</td>\n",
       "      <td>5907760</td>\n",
       "    </tr>\n",
       "  </tbody>\n",
       "</table>\n",
       "<p>62 rows × 5 columns</p>\n",
       "</div>"
      ],
      "text/plain": [
       "          date group  transactionId  visitorId  revenue\n",
       "55  2019-08-01     A             24         20   148579\n",
       "66  2019-08-01     B             21         20   101217\n",
       "175 2019-08-02     A             44         38   242401\n",
       "173 2019-08-02     B             45         43   266748\n",
       "291 2019-08-03     A             68         62   354874\n",
       "..         ...   ...            ...        ...      ...\n",
       "496 2019-08-29     B            596        544  5559398\n",
       "730 2019-08-30     A            545        493  4022970\n",
       "690 2019-08-30     B            620        567  5774631\n",
       "958 2019-08-31     A            557        503  4084803\n",
       "930 2019-08-31     B            640        586  5907760\n",
       "\n",
       "[62 rows x 5 columns]"
      ]
     },
     "execution_count": 22,
     "metadata": {},
     "output_type": "execute_result"
    }
   ],
   "source": [
    "ordersAggregated"
   ]
  },
  {
   "cell_type": "code",
   "execution_count": 23,
   "metadata": {},
   "outputs": [],
   "source": [
    "# получаем агрегированные кумулятивные по дням данные о посетителях интернет-магазина \n",
    "visitorsAggregated = datesGroups.apply(\n",
    "    lambda x: visitors[np.logical_and(visitors['date'] <= x['date'], visitors['group'] == x['group'])].agg({\n",
    "'date' : 'max', \n",
    "'group' : 'max',\n",
    "'visitors' : 'sum'}), axis=1).sort_values(by=['date','group'])"
   ]
  },
  {
   "cell_type": "code",
   "execution_count": 24,
   "metadata": {},
   "outputs": [
    {
     "data": {
      "text/html": [
       "<div>\n",
       "<style scoped>\n",
       "    .dataframe tbody tr th:only-of-type {\n",
       "        vertical-align: middle;\n",
       "    }\n",
       "\n",
       "    .dataframe tbody tr th {\n",
       "        vertical-align: top;\n",
       "    }\n",
       "\n",
       "    .dataframe thead th {\n",
       "        text-align: right;\n",
       "    }\n",
       "</style>\n",
       "<table border=\"1\" class=\"dataframe\">\n",
       "  <thead>\n",
       "    <tr style=\"text-align: right;\">\n",
       "      <th></th>\n",
       "      <th>date</th>\n",
       "      <th>group</th>\n",
       "      <th>visitors</th>\n",
       "    </tr>\n",
       "  </thead>\n",
       "  <tbody>\n",
       "    <tr>\n",
       "      <th>55</th>\n",
       "      <td>2019-08-01</td>\n",
       "      <td>A</td>\n",
       "      <td>719</td>\n",
       "    </tr>\n",
       "    <tr>\n",
       "      <th>66</th>\n",
       "      <td>2019-08-01</td>\n",
       "      <td>B</td>\n",
       "      <td>713</td>\n",
       "    </tr>\n",
       "    <tr>\n",
       "      <th>175</th>\n",
       "      <td>2019-08-02</td>\n",
       "      <td>A</td>\n",
       "      <td>1338</td>\n",
       "    </tr>\n",
       "    <tr>\n",
       "      <th>173</th>\n",
       "      <td>2019-08-02</td>\n",
       "      <td>B</td>\n",
       "      <td>1294</td>\n",
       "    </tr>\n",
       "    <tr>\n",
       "      <th>291</th>\n",
       "      <td>2019-08-03</td>\n",
       "      <td>A</td>\n",
       "      <td>1845</td>\n",
       "    </tr>\n",
       "    <tr>\n",
       "      <th>...</th>\n",
       "      <td>...</td>\n",
       "      <td>...</td>\n",
       "      <td>...</td>\n",
       "    </tr>\n",
       "    <tr>\n",
       "      <th>496</th>\n",
       "      <td>2019-08-29</td>\n",
       "      <td>B</td>\n",
       "      <td>17708</td>\n",
       "    </tr>\n",
       "    <tr>\n",
       "      <th>730</th>\n",
       "      <td>2019-08-30</td>\n",
       "      <td>A</td>\n",
       "      <td>18037</td>\n",
       "    </tr>\n",
       "    <tr>\n",
       "      <th>690</th>\n",
       "      <td>2019-08-30</td>\n",
       "      <td>B</td>\n",
       "      <td>18198</td>\n",
       "    </tr>\n",
       "    <tr>\n",
       "      <th>958</th>\n",
       "      <td>2019-08-31</td>\n",
       "      <td>A</td>\n",
       "      <td>18736</td>\n",
       "    </tr>\n",
       "    <tr>\n",
       "      <th>930</th>\n",
       "      <td>2019-08-31</td>\n",
       "      <td>B</td>\n",
       "      <td>18916</td>\n",
       "    </tr>\n",
       "  </tbody>\n",
       "</table>\n",
       "<p>62 rows × 3 columns</p>\n",
       "</div>"
      ],
      "text/plain": [
       "          date group  visitors\n",
       "55  2019-08-01     A       719\n",
       "66  2019-08-01     B       713\n",
       "175 2019-08-02     A      1338\n",
       "173 2019-08-02     B      1294\n",
       "291 2019-08-03     A      1845\n",
       "..         ...   ...       ...\n",
       "496 2019-08-29     B     17708\n",
       "730 2019-08-30     A     18037\n",
       "690 2019-08-30     B     18198\n",
       "958 2019-08-31     A     18736\n",
       "930 2019-08-31     B     18916\n",
       "\n",
       "[62 rows x 3 columns]"
      ]
     },
     "execution_count": 24,
     "metadata": {},
     "output_type": "execute_result"
    }
   ],
   "source": [
    "visitorsAggregated"
   ]
  },
  {
   "cell_type": "code",
   "execution_count": 25,
   "metadata": {},
   "outputs": [],
   "source": [
    "# объединяем кумулятивные данные в одной таблице и присваиваем ее столбцам понятные названия\n",
    "cumulativeData = ordersAggregated.merge(visitorsAggregated, left_on=['date', 'group'], right_on=['date', 'group'])\n",
    "cumulativeData.columns = ['date', 'group', 'orders', 'buyers', 'revenue', 'visitors']"
   ]
  },
  {
   "cell_type": "code",
   "execution_count": 26,
   "metadata": {},
   "outputs": [
    {
     "data": {
      "text/html": [
       "<div>\n",
       "<style scoped>\n",
       "    .dataframe tbody tr th:only-of-type {\n",
       "        vertical-align: middle;\n",
       "    }\n",
       "\n",
       "    .dataframe tbody tr th {\n",
       "        vertical-align: top;\n",
       "    }\n",
       "\n",
       "    .dataframe thead th {\n",
       "        text-align: right;\n",
       "    }\n",
       "</style>\n",
       "<table border=\"1\" class=\"dataframe\">\n",
       "  <thead>\n",
       "    <tr style=\"text-align: right;\">\n",
       "      <th></th>\n",
       "      <th>date</th>\n",
       "      <th>group</th>\n",
       "      <th>orders</th>\n",
       "      <th>buyers</th>\n",
       "      <th>revenue</th>\n",
       "      <th>visitors</th>\n",
       "    </tr>\n",
       "  </thead>\n",
       "  <tbody>\n",
       "    <tr>\n",
       "      <th>0</th>\n",
       "      <td>2019-08-01</td>\n",
       "      <td>A</td>\n",
       "      <td>24</td>\n",
       "      <td>20</td>\n",
       "      <td>148579</td>\n",
       "      <td>719</td>\n",
       "    </tr>\n",
       "    <tr>\n",
       "      <th>1</th>\n",
       "      <td>2019-08-01</td>\n",
       "      <td>B</td>\n",
       "      <td>21</td>\n",
       "      <td>20</td>\n",
       "      <td>101217</td>\n",
       "      <td>713</td>\n",
       "    </tr>\n",
       "    <tr>\n",
       "      <th>2</th>\n",
       "      <td>2019-08-02</td>\n",
       "      <td>A</td>\n",
       "      <td>44</td>\n",
       "      <td>38</td>\n",
       "      <td>242401</td>\n",
       "      <td>1338</td>\n",
       "    </tr>\n",
       "    <tr>\n",
       "      <th>3</th>\n",
       "      <td>2019-08-02</td>\n",
       "      <td>B</td>\n",
       "      <td>45</td>\n",
       "      <td>43</td>\n",
       "      <td>266748</td>\n",
       "      <td>1294</td>\n",
       "    </tr>\n",
       "    <tr>\n",
       "      <th>4</th>\n",
       "      <td>2019-08-03</td>\n",
       "      <td>A</td>\n",
       "      <td>68</td>\n",
       "      <td>62</td>\n",
       "      <td>354874</td>\n",
       "      <td>1845</td>\n",
       "    </tr>\n",
       "    <tr>\n",
       "      <th>...</th>\n",
       "      <td>...</td>\n",
       "      <td>...</td>\n",
       "      <td>...</td>\n",
       "      <td>...</td>\n",
       "      <td>...</td>\n",
       "      <td>...</td>\n",
       "    </tr>\n",
       "    <tr>\n",
       "      <th>57</th>\n",
       "      <td>2019-08-29</td>\n",
       "      <td>B</td>\n",
       "      <td>596</td>\n",
       "      <td>544</td>\n",
       "      <td>5559398</td>\n",
       "      <td>17708</td>\n",
       "    </tr>\n",
       "    <tr>\n",
       "      <th>58</th>\n",
       "      <td>2019-08-30</td>\n",
       "      <td>A</td>\n",
       "      <td>545</td>\n",
       "      <td>493</td>\n",
       "      <td>4022970</td>\n",
       "      <td>18037</td>\n",
       "    </tr>\n",
       "    <tr>\n",
       "      <th>59</th>\n",
       "      <td>2019-08-30</td>\n",
       "      <td>B</td>\n",
       "      <td>620</td>\n",
       "      <td>567</td>\n",
       "      <td>5774631</td>\n",
       "      <td>18198</td>\n",
       "    </tr>\n",
       "    <tr>\n",
       "      <th>60</th>\n",
       "      <td>2019-08-31</td>\n",
       "      <td>A</td>\n",
       "      <td>557</td>\n",
       "      <td>503</td>\n",
       "      <td>4084803</td>\n",
       "      <td>18736</td>\n",
       "    </tr>\n",
       "    <tr>\n",
       "      <th>61</th>\n",
       "      <td>2019-08-31</td>\n",
       "      <td>B</td>\n",
       "      <td>640</td>\n",
       "      <td>586</td>\n",
       "      <td>5907760</td>\n",
       "      <td>18916</td>\n",
       "    </tr>\n",
       "  </tbody>\n",
       "</table>\n",
       "<p>62 rows × 6 columns</p>\n",
       "</div>"
      ],
      "text/plain": [
       "         date group  orders  buyers  revenue  visitors\n",
       "0  2019-08-01     A      24      20   148579       719\n",
       "1  2019-08-01     B      21      20   101217       713\n",
       "2  2019-08-02     A      44      38   242401      1338\n",
       "3  2019-08-02     B      45      43   266748      1294\n",
       "4  2019-08-03     A      68      62   354874      1845\n",
       "..        ...   ...     ...     ...      ...       ...\n",
       "57 2019-08-29     B     596     544  5559398     17708\n",
       "58 2019-08-30     A     545     493  4022970     18037\n",
       "59 2019-08-30     B     620     567  5774631     18198\n",
       "60 2019-08-31     A     557     503  4084803     18736\n",
       "61 2019-08-31     B     640     586  5907760     18916\n",
       "\n",
       "[62 rows x 6 columns]"
      ]
     },
     "execution_count": 26,
     "metadata": {},
     "output_type": "execute_result"
    }
   ],
   "source": [
    "cumulativeData"
   ]
  },
  {
   "cell_type": "code",
   "execution_count": 27,
   "metadata": {},
   "outputs": [],
   "source": [
    "# датафрейм с кумулятивным количеством заказов и кумулятивной выручкой по дням в группе А\n",
    "cumulativeRevenueA = cumulativeData[cumulativeData['group']=='A'][['date','revenue', 'orders']]"
   ]
  },
  {
   "cell_type": "code",
   "execution_count": 28,
   "metadata": {},
   "outputs": [],
   "source": [
    "# датафрейм с кумулятивным количеством заказов и кумулятивной выручкой по дням в группе B\n",
    "cumulativeRevenueB = cumulativeData[cumulativeData['group']=='B'][['date','revenue', 'orders']]"
   ]
  },
  {
   "cell_type": "markdown",
   "metadata": {},
   "source": [
    "Построим график выручки по группам:"
   ]
  },
  {
   "cell_type": "code",
   "execution_count": 29,
   "metadata": {},
   "outputs": [
    {
     "data": {
      "image/png": "[encoded data removed]",
      "text/plain": [
       "<Figure size 1080x360 with 1 Axes>"
      ]
     },
     "metadata": {
      "needs_background": "light"
     },
     "output_type": "display_data"
    }
   ],
   "source": [
    "# Строим график выручки группы А\n",
    "plt.figure(figsize=(15,5))\n",
    "plt.grid()\n",
    "plt.plot(cumulativeRevenueA['date'], cumulativeRevenueA['revenue'], label='Кумулятивная выручка группы A')\n",
    "\n",
    "# Строим график выручки группы B\n",
    "plt.plot(cumulativeRevenueB['date'], cumulativeRevenueB['revenue'], label='Кумулятивная выручка группы B')\n",
    "plt.title('График кумулятивной выручки по группам')\n",
    "plt.xlabel('Дата')\n",
    "plt.ylabel('Выручка')\n",
    "plt.xticks(rotation=45) \n",
    "plt.legend()\n",
    "plt.show()"
   ]
  },
  {
   "cell_type": "markdown",
   "metadata": {},
   "source": [
    "Выручка почти равномерно увеличивается в течение всего теста. Графики выручки обеих групп в нескольких точках резко растут. Это может сигнализировать о всплесках числа заказов, либо о появлении очень дорогих заказов в выборке(более характерно группе B). "
   ]
  },
  {
   "cell_type": "markdown",
   "metadata": {},
   "source": [
    "### 2.2 График кумулятивного среднего чека по группам"
   ]
  },
  {
   "cell_type": "markdown",
   "metadata": {},
   "source": [
    "Разделим кумулятивную выручку на кумулятивное число заказов:"
   ]
  },
  {
   "cell_type": "code",
   "execution_count": 30,
   "metadata": {},
   "outputs": [
    {
     "data": {
      "image/png": "[encoded data removed]",
      "text/plain": [
       "<Figure size 1080x360 with 1 Axes>"
      ]
     },
     "metadata": {
      "needs_background": "light"
     },
     "output_type": "display_data"
    }
   ],
   "source": [
    "plt.figure(figsize=(15,5))\n",
    "plt.grid()\n",
    "plt.plot(cumulativeRevenueA['date'], cumulativeRevenueA['revenue']/cumulativeRevenueA['orders'], label='Средний кумулятивный чек группы A')\n",
    "plt.plot(cumulativeRevenueB['date'], cumulativeRevenueB['revenue']/cumulativeRevenueB['orders'], label='Средний кумулятивный чек группы B')\n",
    "plt.xticks(rotation=45)\n",
    "plt.title('График кумулятивного среднего чека по группам')\n",
    "plt.xlabel('Дата')\n",
    "plt.ylabel('Средний чек')\n",
    "plt.legend()\n",
    "plt.show()"
   ]
  },
  {
   "cell_type": "markdown",
   "metadata": {},
   "source": [
    "Возможно, в группу B в середине теста попали крупные заказы (резкий всплеск на графике). Принимать решение по этой метрике рано. Или требуется дополнительный анализ выбросов, которые искажают результат"
   ]
  },
  {
   "cell_type": "markdown",
   "metadata": {},
   "source": [
    "### 2.3 График относительного изменения кумулятивного среднего чека группы B к группе A"
   ]
  },
  {
   "cell_type": "code",
   "execution_count": 31,
   "metadata": {},
   "outputs": [
    {
     "data": {
      "image/png": "[encoded data removed]",
      "text/plain": [
       "<Figure size 1080x360 with 1 Axes>"
      ]
     },
     "metadata": {
      "needs_background": "light"
     },
     "output_type": "display_data"
    }
   ],
   "source": [
    "# собираем данные в одном датафрейме\n",
    "mergedCumulativeRevenue = cumulativeRevenueA.merge(cumulativeRevenueB, left_on='date',\n",
    "right_on='date', how='left', suffixes=['A', 'B'])\n",
    "\n",
    "# cтроим отношение средних чеков\n",
    "plt.figure(figsize=(15,5))\n",
    "plt.grid()\n",
    "plt.plot(mergedCumulativeRevenue['date'], (mergedCumulativeRevenue['revenueB']/\n",
    "mergedCumulativeRevenue['ordersB'])/(mergedCumulativeRevenue['revenueA']/mergedCumulativeRevenue['ordersA'])-1)\n",
    "plt.xticks(rotation=45)\n",
    "# добавляем ось X\n",
    "plt.axhline(y=0, color='black', linestyle='--')\n",
    "plt.title('График относительного изменения кумулятивного среднего чека группы B к группе A')\n",
    "plt.xlabel('Дата')\n",
    "plt.show()"
   ]
  },
  {
   "cell_type": "markdown",
   "metadata": {},
   "source": [
    "В нескольких точках график различия между сегментами резко «скачет». Видимо, именно тогда были совершены аномальные заказы"
   ]
  },
  {
   "cell_type": "markdown",
   "metadata": {},
   "source": [
    "### 2.4 График кумулятивной конверсии по группам"
   ]
  },
  {
   "cell_type": "code",
   "execution_count": 32,
   "metadata": {},
   "outputs": [],
   "source": [
    "# считаем кумулятивную конверсию\n",
    "cumulativeData['conversion'] = cumulativeData['orders']/cumulativeData['visitors']"
   ]
  },
  {
   "cell_type": "code",
   "execution_count": 33,
   "metadata": {},
   "outputs": [],
   "source": [
    "# отделяем данные по группе A\n",
    "cumulativeDataA = cumulativeData[cumulativeData['group']=='A']\n",
    "\n",
    "# отделяем данные по группе B\n",
    "cumulativeDataB = cumulativeData[cumulativeData['group']=='B']"
   ]
  },
  {
   "cell_type": "code",
   "execution_count": 34,
   "metadata": {},
   "outputs": [
    {
     "data": {
      "image/png": "[encoded data removed]",
      "text/plain": [
       "<Figure size 1080x360 with 1 Axes>"
      ]
     },
     "metadata": {
      "needs_background": "light"
     },
     "output_type": "display_data"
    }
   ],
   "source": [
    "# строим графики\n",
    "plt.figure(figsize=(15,5))\n",
    "plt.grid()\n",
    "plt.plot(cumulativeDataA['date'], cumulativeDataA['conversion'], label='Кумулятивная конверсия группы A')\n",
    "plt.plot(cumulativeDataB['date'], cumulativeDataB['conversion'], label='Кумулятивная конверсия группы B')\n",
    "plt.xticks(rotation=45)\n",
    "plt.title('График кумулятивной конверсии по группам')\n",
    "plt.xlabel('Дата')\n",
    "plt.ylabel('Конверсия')\n",
    "plt.legend()\n",
    "\n",
    "# задаем масштаб осей\n",
    "plt.axis([dt.datetime(2019, 8, 1), dt.datetime(2019, 9, 1), 0, 0.05])\n",
    "plt.show()"
   ]
  },
  {
   "cell_type": "markdown",
   "metadata": {},
   "source": [
    "В начале теста группа A имела большую конверсия, но конверсия группы B выровнялась и зафиксировалась примерно около одного значения, больше значения группы A "
   ]
  },
  {
   "cell_type": "markdown",
   "metadata": {},
   "source": [
    "### 2.5 График относительного изменения кумулятивной конверсии группы B к группе A"
   ]
  },
  {
   "cell_type": "code",
   "execution_count": 35,
   "metadata": {},
   "outputs": [],
   "source": [
    "mergedCumulativeConversions = cumulativeDataA[['date','conversion']].merge(cumulativeDataB[['date','conversion']],\n",
    "left_on='date', right_on='date', how='left', suffixes=['A', 'B'])"
   ]
  },
  {
   "cell_type": "code",
   "execution_count": 36,
   "metadata": {},
   "outputs": [
    {
     "data": {
      "image/png": "[encoded data removed]",
      "text/plain": [
       "<Figure size 1080x360 with 1 Axes>"
      ]
     },
     "metadata": {
      "needs_background": "light"
     },
     "output_type": "display_data"
    }
   ],
   "source": [
    "plt.figure(figsize=(15,5))\n",
    "plt.grid()\n",
    "plt.plot(mergedCumulativeConversions['date'], mergedCumulativeConversions['conversionB']/        \n",
    "mergedCumulativeConversions['conversionA']-1, label=\"Относительный прирост конверсии группы B относительно группы A\")\n",
    "plt.xticks(rotation=45)\n",
    "plt.title('График относительного изменения кумулятивной конверсии группы B к группе A')\n",
    "plt.xlabel('Дата')\n",
    "plt.legend()\n",
    "\n",
    "plt.axhline(y=0, color='black', linestyle='--')\n",
    "plt.axhline(y=0.1, color='grey', linestyle='--')\n",
    "plt.axis([dt.datetime(2019, 8, 1), dt.datetime(2019, 9, 1), -0.4, 0.4])\n",
    "plt.show()"
   ]
  },
  {
   "cell_type": "markdown",
   "metadata": {},
   "source": [
    "В начале теста конверсия группа B проигрывала конверсии группе A, затем вырвалась вперёд, зафиксироваваль около прироста в 10 - 14% относительно группы B"
   ]
  },
  {
   "cell_type": "markdown",
   "metadata": {},
   "source": [
    "### 2.6 Точечный график количества заказов по пользователям"
   ]
  },
  {
   "cell_type": "code",
   "execution_count": 37,
   "metadata": {},
   "outputs": [],
   "source": [
    "ordersByUsers = orders.groupby('visitorId', as_index=False).agg({'transactionId': 'nunique'})"
   ]
  },
  {
   "cell_type": "code",
   "execution_count": 38,
   "metadata": {},
   "outputs": [],
   "source": [
    "ordersByUsers.columns = ['visitorId', 'orders']"
   ]
  },
  {
   "cell_type": "code",
   "execution_count": 39,
   "metadata": {},
   "outputs": [
    {
     "data": {
      "text/html": [
       "<div>\n",
       "<style scoped>\n",
       "    .dataframe tbody tr th:only-of-type {\n",
       "        vertical-align: middle;\n",
       "    }\n",
       "\n",
       "    .dataframe tbody tr th {\n",
       "        vertical-align: top;\n",
       "    }\n",
       "\n",
       "    .dataframe thead th {\n",
       "        text-align: right;\n",
       "    }\n",
       "</style>\n",
       "<table border=\"1\" class=\"dataframe\">\n",
       "  <thead>\n",
       "    <tr style=\"text-align: right;\">\n",
       "      <th></th>\n",
       "      <th>visitorId</th>\n",
       "      <th>orders</th>\n",
       "    </tr>\n",
       "  </thead>\n",
       "  <tbody>\n",
       "    <tr>\n",
       "      <th>0</th>\n",
       "      <td>5114589</td>\n",
       "      <td>1</td>\n",
       "    </tr>\n",
       "    <tr>\n",
       "      <th>1</th>\n",
       "      <td>6958315</td>\n",
       "      <td>1</td>\n",
       "    </tr>\n",
       "    <tr>\n",
       "      <th>2</th>\n",
       "      <td>8300375</td>\n",
       "      <td>2</td>\n",
       "    </tr>\n",
       "    <tr>\n",
       "      <th>3</th>\n",
       "      <td>11685486</td>\n",
       "      <td>1</td>\n",
       "    </tr>\n",
       "    <tr>\n",
       "      <th>4</th>\n",
       "      <td>39475350</td>\n",
       "      <td>1</td>\n",
       "    </tr>\n",
       "    <tr>\n",
       "      <th>...</th>\n",
       "      <td>...</td>\n",
       "      <td>...</td>\n",
       "    </tr>\n",
       "    <tr>\n",
       "      <th>1026</th>\n",
       "      <td>4266935830</td>\n",
       "      <td>2</td>\n",
       "    </tr>\n",
       "    <tr>\n",
       "      <th>1027</th>\n",
       "      <td>4278982564</td>\n",
       "      <td>1</td>\n",
       "    </tr>\n",
       "    <tr>\n",
       "      <th>1028</th>\n",
       "      <td>4279090005</td>\n",
       "      <td>1</td>\n",
       "    </tr>\n",
       "    <tr>\n",
       "      <th>1029</th>\n",
       "      <td>4281247801</td>\n",
       "      <td>1</td>\n",
       "    </tr>\n",
       "    <tr>\n",
       "      <th>1030</th>\n",
       "      <td>4283872382</td>\n",
       "      <td>1</td>\n",
       "    </tr>\n",
       "  </tbody>\n",
       "</table>\n",
       "<p>1031 rows × 2 columns</p>\n",
       "</div>"
      ],
      "text/plain": [
       "       visitorId  orders\n",
       "0        5114589       1\n",
       "1        6958315       1\n",
       "2        8300375       2\n",
       "3       11685486       1\n",
       "4       39475350       1\n",
       "...          ...     ...\n",
       "1026  4266935830       2\n",
       "1027  4278982564       1\n",
       "1028  4279090005       1\n",
       "1029  4281247801       1\n",
       "1030  4283872382       1\n",
       "\n",
       "[1031 rows x 2 columns]"
      ]
     },
     "execution_count": 39,
     "metadata": {},
     "output_type": "execute_result"
    }
   ],
   "source": [
    "ordersByUsers"
   ]
  },
  {
   "cell_type": "code",
   "execution_count": 40,
   "metadata": {},
   "outputs": [
    {
     "data": {
      "image/png": "[encoded data removed]",
      "text/plain": [
       "<Figure size 1080x360 with 1 Axes>"
      ]
     },
     "metadata": {
      "needs_background": "light"
     },
     "output_type": "display_data"
    }
   ],
   "source": [
    "x_values = pd.Series(range(0, len(ordersByUsers)))\n",
    "plt.figure(figsize=(15,5))\n",
    "plt.grid()\n",
    "plt.scatter(x_values, ordersByUsers['orders'])\n",
    "plt.title('Точечный график количества заказов по пользователям')\n",
    "plt.xlabel('Пользователи')\n",
    "plt.ylabel('Количество заказов')\n",
    "plt.show()"
   ]
  },
  {
   "cell_type": "markdown",
   "metadata": {},
   "source": [
    "много пользователей с 2-4 заказами"
   ]
  },
  {
   "cell_type": "markdown",
   "metadata": {},
   "source": [
    "### 2.7 95-й и 99-й перцентили количества заказов на пользователя. Граница для определения аномальных пользователей"
   ]
  },
  {
   "cell_type": "code",
   "execution_count": 41,
   "metadata": {},
   "outputs": [
    {
     "data": {
      "text/plain": [
       "array([2., 4.])"
      ]
     },
     "execution_count": 41,
     "metadata": {},
     "output_type": "execute_result"
    }
   ],
   "source": [
    "np.percentile(ordersByUsers['orders'], [95, 99])"
   ]
  },
  {
   "cell_type": "markdown",
   "metadata": {},
   "source": [
    "не более 5% пользователей оформляли 2 заказа и не более 1% пользователей - 4 заказа.\n",
    "\n",
    "Разумно выбрать 2 заказа на одного пользователя за нижнюю границу числа заказов, и отсеять аномальных пользователей по ней."
   ]
  },
  {
   "cell_type": "markdown",
   "metadata": {},
   "source": [
    "### 2.8 Точечный график стоимостей заказов"
   ]
  },
  {
   "cell_type": "code",
   "execution_count": 42,
   "metadata": {},
   "outputs": [
    {
     "data": {
      "image/png": "[encoded data removed]",
      "text/plain": [
       "<Figure size 1080x360 with 1 Axes>"
      ]
     },
     "metadata": {
      "needs_background": "light"
     },
     "output_type": "display_data"
    }
   ],
   "source": [
    "x_values = pd.Series(range(0, len(orders['revenue'])))\n",
    "plt.figure(figsize=(15,5))\n",
    "plt.grid()\n",
    "plt.scatter(x_values, orders['revenue'])\n",
    "plt.title('Точечный график стоимостей заказов')\n",
    "plt.xlabel('Количество')\n",
    "plt.ylabel('Заказы')\n",
    "plt.show()"
   ]
  },
  {
   "cell_type": "markdown",
   "metadata": {},
   "source": [
    "есть выбросы в районе 200 000 и 1 300 000 рублей"
   ]
  },
  {
   "cell_type": "code",
   "execution_count": 43,
   "metadata": {},
   "outputs": [
    {
     "data": {
      "image/png": "[encoded data removed]",
      "text/plain": [
       "<Figure size 1080x360 with 1 Axes>"
      ]
     },
     "metadata": {
      "needs_background": "light"
     },
     "output_type": "display_data"
    }
   ],
   "source": [
    "x_values = pd.Series(range(0, len(orders['revenue'])))\n",
    "plt.figure(figsize=(15,5))\n",
    "plt.grid()\n",
    "plt.scatter(x_values, orders['revenue'], alpha=0.5)\n",
    "plt.title('Точечный график стоимостей заказов')\n",
    "plt.xlabel('Заказы')\n",
    "plt.ylabel('Стоимость')\n",
    "plt.ylim(0, 100000)\n",
    "plt.show()"
   ]
  },
  {
   "cell_type": "markdown",
   "metadata": {},
   "source": [
    "По графику без установленных выбросов видно, что основаня часть заказов в районе 60000"
   ]
  },
  {
   "cell_type": "markdown",
   "metadata": {},
   "source": [
    "### 2.9 95-й и 99-й перцентили стоимости заказов. Граница для определения аномальных заказов."
   ]
  },
  {
   "cell_type": "code",
   "execution_count": 44,
   "metadata": {},
   "outputs": [
    {
     "data": {
      "text/plain": [
       "array([28000. , 58233.2])"
      ]
     },
     "execution_count": 44,
     "metadata": {},
     "output_type": "execute_result"
    }
   ],
   "source": [
    "np.percentile(orders['revenue'], [95, 99])"
   ]
  },
  {
   "cell_type": "markdown",
   "metadata": {},
   "source": [
    "не более 5% заказов дороже 28 000 рублей и не более 1% заказаов дороже 58 233 рублей. \n",
    "\n",
    "99% заказов меньше суммы 58233.2, установим её в качестве границы для аномалий."
   ]
  },
  {
   "cell_type": "markdown",
   "metadata": {},
   "source": [
    "### 2.10 Статистическая значимость различий в конверсии между группами по «сырым» данным"
   ]
  },
  {
   "cell_type": "markdown",
   "metadata": {},
   "source": [
    "Соберем все данные по заказам и визитам (а также кумулятивные показатели) в одну таблицу. Для этого создадим несколько таблиц и затем объединим их"
   ]
  },
  {
   "cell_type": "code",
   "execution_count": 45,
   "metadata": {},
   "outputs": [],
   "source": [
    "visitorsADaily = visitors[visitors['group'] == 'A'][['date', 'visitors']]\n",
    "visitorsADaily.columns = ['date', 'visitorsPerDateA']\n",
    "\n",
    "visitorsACummulative = visitorsADaily.apply(\n",
    "    lambda x: visitorsADaily[visitorsADaily['date'] <= x['date']].agg(\n",
    "        {'date': 'max', 'visitorsPerDateA': 'sum'}), axis=1)   \n",
    "visitorsACummulative.columns = ['date', 'visitorsCummulativeA']\n",
    "\n",
    "visitorsBDaily = visitors[visitors['group'] == 'B'][['date', 'visitors']]\n",
    "visitorsBDaily.columns = ['date', 'visitorsPerDateB']\n",
    "\n",
    "visitorsBCummulative = visitorsBDaily.apply(\n",
    "    lambda x: visitorsBDaily[visitorsBDaily['date'] <= x['date']].agg(\n",
    "        {'date': 'max', 'visitorsPerDateB': 'sum'}), axis=1)\n",
    "visitorsBCummulative.columns = ['date', 'visitorsCummulativeB']\n",
    "    \n",
    "ordersADaily = ( \n",
    "    orders[orders['group'] == 'A'][['date', 'transactionId', 'visitorId', 'revenue']]\n",
    "    .groupby('date', as_index=False)\n",
    "    .agg({'transactionId': pd.Series.nunique, 'revenue': 'sum'})\n",
    ")\n",
    "ordersADaily.columns = ['date', 'ordersPerDateA', 'revenuePerDateA']\n",
    "\n",
    "ordersACummulative = ordersADaily.apply(\n",
    "    lambda x: ordersADaily[ordersADaily['date'] <= x['date']].agg(\n",
    "        {'date': 'max', 'ordersPerDateA': 'sum', 'revenuePerDateA': 'sum'}), axis=1).sort_values(by=['date'])\n",
    "ordersACummulative.columns = ['date', 'ordersCummulativeA', 'revenueCummulativeA']\n",
    "\n",
    "ordersBDaily = (\n",
    "    orders[orders['group'] == 'B'][['date', 'transactionId', 'visitorId', 'revenue']]\n",
    "    .groupby(by=['date'],  as_index=False)\n",
    "    .agg({'transactionId': pd.Series.nunique, 'revenue': 'sum'})\n",
    ")\n",
    "ordersBDaily.columns = ['date', 'ordersPerDateB', 'revenuePerDateB']\n",
    "\n",
    "ordersBCummulative = ordersBDaily.apply(\n",
    "    lambda x: ordersBDaily[ordersBDaily['date'] <= x['date']].agg(\n",
    "        {'date': 'max', 'ordersPerDateB': 'sum', 'revenuePerDateB': 'sum'}\n",
    "    ), axis=1).sort_values(by=['date'])                          \n",
    "ordersBCummulative.columns = ['date', 'ordersCummulativeB', 'revenueCummulativeB']                          "
   ]
  },
  {
   "cell_type": "markdown",
   "metadata": {},
   "source": [
    "Далее объединим всё в одну таблицу по общему столбцу 'date'"
   ]
  },
  {
   "cell_type": "code",
   "execution_count": 46,
   "metadata": {},
   "outputs": [],
   "source": [
    "data = (\n",
    "    ordersADaily.merge(ordersBDaily, left_on='date', right_on='date', how='left')\n",
    "    .merge(ordersACummulative, left_on='date', right_on='date', how='left')\n",
    "    .merge(ordersBCummulative, left_on='date', right_on='date', how='left')\n",
    "    .merge(visitorsADaily, left_on='date', right_on='date', how='left')\n",
    "    .merge(visitorsBDaily, left_on='date', right_on='date', how='left')\n",
    "    .merge(visitorsACummulative, left_on='date', right_on='date', how='left')\n",
    "    .merge(visitorsBCummulative, left_on='date', right_on='date', how='left')\n",
    ")"
   ]
  },
  {
   "cell_type": "code",
   "execution_count": 47,
   "metadata": {},
   "outputs": [
    {
     "data": {
      "text/html": [
       "<div>\n",
       "<style scoped>\n",
       "    .dataframe tbody tr th:only-of-type {\n",
       "        vertical-align: middle;\n",
       "    }\n",
       "\n",
       "    .dataframe tbody tr th {\n",
       "        vertical-align: top;\n",
       "    }\n",
       "\n",
       "    .dataframe thead th {\n",
       "        text-align: right;\n",
       "    }\n",
       "</style>\n",
       "<table border=\"1\" class=\"dataframe\">\n",
       "  <thead>\n",
       "    <tr style=\"text-align: right;\">\n",
       "      <th></th>\n",
       "      <th>date</th>\n",
       "      <th>ordersPerDateA</th>\n",
       "      <th>revenuePerDateA</th>\n",
       "      <th>ordersPerDateB</th>\n",
       "      <th>revenuePerDateB</th>\n",
       "      <th>ordersCummulativeA</th>\n",
       "      <th>revenueCummulativeA</th>\n",
       "      <th>ordersCummulativeB</th>\n",
       "      <th>revenueCummulativeB</th>\n",
       "      <th>visitorsPerDateA</th>\n",
       "      <th>visitorsPerDateB</th>\n",
       "      <th>visitorsCummulativeA</th>\n",
       "      <th>visitorsCummulativeB</th>\n",
       "    </tr>\n",
       "  </thead>\n",
       "  <tbody>\n",
       "    <tr>\n",
       "      <th>0</th>\n",
       "      <td>2019-08-01</td>\n",
       "      <td>24</td>\n",
       "      <td>148579</td>\n",
       "      <td>21</td>\n",
       "      <td>101217</td>\n",
       "      <td>24</td>\n",
       "      <td>148579</td>\n",
       "      <td>21</td>\n",
       "      <td>101217</td>\n",
       "      <td>719</td>\n",
       "      <td>713</td>\n",
       "      <td>719</td>\n",
       "      <td>713</td>\n",
       "    </tr>\n",
       "    <tr>\n",
       "      <th>1</th>\n",
       "      <td>2019-08-02</td>\n",
       "      <td>20</td>\n",
       "      <td>93822</td>\n",
       "      <td>24</td>\n",
       "      <td>165531</td>\n",
       "      <td>44</td>\n",
       "      <td>242401</td>\n",
       "      <td>45</td>\n",
       "      <td>266748</td>\n",
       "      <td>619</td>\n",
       "      <td>581</td>\n",
       "      <td>1338</td>\n",
       "      <td>1294</td>\n",
       "    </tr>\n",
       "    <tr>\n",
       "      <th>2</th>\n",
       "      <td>2019-08-03</td>\n",
       "      <td>24</td>\n",
       "      <td>112473</td>\n",
       "      <td>16</td>\n",
       "      <td>114248</td>\n",
       "      <td>68</td>\n",
       "      <td>354874</td>\n",
       "      <td>61</td>\n",
       "      <td>380996</td>\n",
       "      <td>507</td>\n",
       "      <td>509</td>\n",
       "      <td>1845</td>\n",
       "      <td>1803</td>\n",
       "    </tr>\n",
       "    <tr>\n",
       "      <th>3</th>\n",
       "      <td>2019-08-04</td>\n",
       "      <td>16</td>\n",
       "      <td>70825</td>\n",
       "      <td>17</td>\n",
       "      <td>108571</td>\n",
       "      <td>84</td>\n",
       "      <td>425699</td>\n",
       "      <td>78</td>\n",
       "      <td>489567</td>\n",
       "      <td>717</td>\n",
       "      <td>770</td>\n",
       "      <td>2562</td>\n",
       "      <td>2573</td>\n",
       "    </tr>\n",
       "    <tr>\n",
       "      <th>4</th>\n",
       "      <td>2019-08-05</td>\n",
       "      <td>25</td>\n",
       "      <td>124218</td>\n",
       "      <td>23</td>\n",
       "      <td>92428</td>\n",
       "      <td>109</td>\n",
       "      <td>549917</td>\n",
       "      <td>101</td>\n",
       "      <td>581995</td>\n",
       "      <td>756</td>\n",
       "      <td>707</td>\n",
       "      <td>3318</td>\n",
       "      <td>3280</td>\n",
       "    </tr>\n",
       "  </tbody>\n",
       "</table>\n",
       "</div>"
      ],
      "text/plain": [
       "        date  ordersPerDateA  revenuePerDateA  ordersPerDateB  \\\n",
       "0 2019-08-01              24           148579              21   \n",
       "1 2019-08-02              20            93822              24   \n",
       "2 2019-08-03              24           112473              16   \n",
       "3 2019-08-04              16            70825              17   \n",
       "4 2019-08-05              25           124218              23   \n",
       "\n",
       "   revenuePerDateB  ordersCummulativeA  revenueCummulativeA  \\\n",
       "0           101217                  24               148579   \n",
       "1           165531                  44               242401   \n",
       "2           114248                  68               354874   \n",
       "3           108571                  84               425699   \n",
       "4            92428                 109               549917   \n",
       "\n",
       "   ordersCummulativeB  revenueCummulativeB  visitorsPerDateA  \\\n",
       "0                  21               101217               719   \n",
       "1                  45               266748               619   \n",
       "2                  61               380996               507   \n",
       "3                  78               489567               717   \n",
       "4                 101               581995               756   \n",
       "\n",
       "   visitorsPerDateB  visitorsCummulativeA  visitorsCummulativeB  \n",
       "0               713                   719                   713  \n",
       "1               581                  1338                  1294  \n",
       "2               509                  1845                  1803  \n",
       "3               770                  2562                  2573  \n",
       "4               707                  3318                  3280  "
      ]
     },
     "execution_count": 47,
     "metadata": {},
     "output_type": "execute_result"
    }
   ],
   "source": [
    "data.head()"
   ]
  },
  {
   "cell_type": "markdown",
   "metadata": {},
   "source": [
    "Названия столбцов данных:\n",
    "\n",
    "- `date` — дата;\n",
    "- `ordersPerDateA` — количество заказов в выбранную дату в группе A;\n",
    "- `revenuePerDateA` — суммарная выручка в выбранную дату в группе A;\n",
    "- `ordersPerDateB` — количество заказов в выбранную дату в группе B;\n",
    "- `revenuePerDateB` — суммарная выручка в выбранную дату в группе B;\n",
    "- `ordersCummulativeA` — суммарное число заказов до выбранной даты включительно в группе A;\n",
    "- `revenueCummulativeA` — суммарная выручка до выбранной даты включительно в группе A;\n",
    "- `ordersCummulativeB` — суммарное количество заказов до выбранной даты включительно в группе B;\n",
    "- `revenueCummulativeB` — суммарная выручка до выбранной даты включительно в группе B;\n",
    "- `visitorsPerDateA` — количество пользователей в выбранную дату в группе A;\n",
    "- `visitorsPerDateB` — количество пользователей в выбранную дату в группе B;\n",
    "- `visitorsCummulativeA` — количество пользователей до выбранной даты включительно в группе A;\n",
    "- `visitorsCummulativeB` — количество пользователей до выбранной даты включительно в группе B."
   ]
  },
  {
   "cell_type": "markdown",
   "metadata": {},
   "source": [
    "Создадим переменные ordersByUsersA и ordersByUsersB со столбцами ['userId', 'orders']. В них для пользователей, которые заказывали хотя бы 1 раз, укажем число совершённых заказов. "
   ]
  },
  {
   "cell_type": "code",
   "execution_count": 48,
   "metadata": {},
   "outputs": [],
   "source": [
    "ordersByUsersA = (\n",
    "    orders[orders['group'] == 'A']\n",
    "    .groupby('visitorId', as_index=False)\n",
    "    .agg({'transactionId' : pd.Series.nunique})\n",
    ")\n",
    "ordersByUsersA.columns = ['userId', 'orders']"
   ]
  },
  {
   "cell_type": "code",
   "execution_count": 49,
   "metadata": {},
   "outputs": [],
   "source": [
    "ordersByUsersB = (\n",
    "    orders[orders['group'] == 'B']\n",
    "    .groupby('visitorId', as_index=False)\n",
    "    .agg({'transactionId' : pd.Series.nunique})\n",
    ")\n",
    "ordersByUsersB.columns = ['userId', 'orders']"
   ]
  },
  {
   "cell_type": "code",
   "execution_count": 50,
   "metadata": {},
   "outputs": [
    {
     "data": {
      "text/html": [
       "<div>\n",
       "<style scoped>\n",
       "    .dataframe tbody tr th:only-of-type {\n",
       "        vertical-align: middle;\n",
       "    }\n",
       "\n",
       "    .dataframe tbody tr th {\n",
       "        vertical-align: top;\n",
       "    }\n",
       "\n",
       "    .dataframe thead th {\n",
       "        text-align: right;\n",
       "    }\n",
       "</style>\n",
       "<table border=\"1\" class=\"dataframe\">\n",
       "  <thead>\n",
       "    <tr style=\"text-align: right;\">\n",
       "      <th></th>\n",
       "      <th>userId</th>\n",
       "      <th>orders</th>\n",
       "    </tr>\n",
       "  </thead>\n",
       "  <tbody>\n",
       "    <tr>\n",
       "      <th>0</th>\n",
       "      <td>8300375</td>\n",
       "      <td>1</td>\n",
       "    </tr>\n",
       "    <tr>\n",
       "      <th>1</th>\n",
       "      <td>11685486</td>\n",
       "      <td>1</td>\n",
       "    </tr>\n",
       "    <tr>\n",
       "      <th>2</th>\n",
       "      <td>54447517</td>\n",
       "      <td>1</td>\n",
       "    </tr>\n",
       "    <tr>\n",
       "      <th>3</th>\n",
       "      <td>66685450</td>\n",
       "      <td>1</td>\n",
       "    </tr>\n",
       "    <tr>\n",
       "      <th>4</th>\n",
       "      <td>78758296</td>\n",
       "      <td>1</td>\n",
       "    </tr>\n",
       "    <tr>\n",
       "      <th>...</th>\n",
       "      <td>...</td>\n",
       "      <td>...</td>\n",
       "    </tr>\n",
       "    <tr>\n",
       "      <th>498</th>\n",
       "      <td>4243832526</td>\n",
       "      <td>1</td>\n",
       "    </tr>\n",
       "    <tr>\n",
       "      <th>499</th>\n",
       "      <td>4256040402</td>\n",
       "      <td>7</td>\n",
       "    </tr>\n",
       "    <tr>\n",
       "      <th>500</th>\n",
       "      <td>4259830713</td>\n",
       "      <td>1</td>\n",
       "    </tr>\n",
       "    <tr>\n",
       "      <th>501</th>\n",
       "      <td>4266935830</td>\n",
       "      <td>1</td>\n",
       "    </tr>\n",
       "    <tr>\n",
       "      <th>502</th>\n",
       "      <td>4278982564</td>\n",
       "      <td>1</td>\n",
       "    </tr>\n",
       "  </tbody>\n",
       "</table>\n",
       "<p>503 rows × 2 columns</p>\n",
       "</div>"
      ],
      "text/plain": [
       "         userId  orders\n",
       "0       8300375       1\n",
       "1      11685486       1\n",
       "2      54447517       1\n",
       "3      66685450       1\n",
       "4      78758296       1\n",
       "..          ...     ...\n",
       "498  4243832526       1\n",
       "499  4256040402       7\n",
       "500  4259830713       1\n",
       "501  4266935830       1\n",
       "502  4278982564       1\n",
       "\n",
       "[503 rows x 2 columns]"
      ]
     },
     "execution_count": 50,
     "metadata": {},
     "output_type": "execute_result"
    }
   ],
   "source": [
    "ordersByUsersA"
   ]
  },
  {
   "cell_type": "markdown",
   "metadata": {},
   "source": [
    "Объявим переменные sampleA и sampleB, в которых пользователям из разных групп будет соответствовать количество заказов. Тем, кто ничего не заказал, будут соответствовать нули. Число элементов sampleA — это количество пользователей, сумма всех элементов — количество заказов."
   ]
  },
  {
   "cell_type": "code",
   "execution_count": 51,
   "metadata": {},
   "outputs": [],
   "source": [
    "sampleA = pd.concat([ordersByUsersA['orders'],pd.Series(0, index=np.arange(data['visitorsPerDateA'].sum() -\n",
    "     len(ordersByUsersA['orders'])), name='orders')],axis=0)\n",
    "                    \n",
    "sampleB = pd.concat([ordersByUsersB['orders'],pd.Series(0, index=np.arange(data['visitorsPerDateB'].sum() -\n",
    "     len(ordersByUsersB['orders'])), name='orders')],axis=0)                    \n",
    "                    "
   ]
  },
  {
   "cell_type": "markdown",
   "metadata": {},
   "source": [
    "Сформулируем гипотезы:\n",
    "- H0 = \"статистически значимых различий в конверсии между группами нет\" \n",
    "- H1 = \"статистически значимые различия в конверсиях между группами есть\"\n",
    "\n",
    "Применим критерий и отформатируем p-value, округлив его до трёх знаков после запятой. \n",
    "\n",
    "Чтобы получить конверсию в группе, поделим сумму заказов на число пользователей — найдём среднее в выборке sampleA методом mean(). Аналогично найдём конверсию группы B: SampleB.mean(). Выведем относительный прирост конверсии группы B: конверсия группы B / конверсия группы A - 1. Округлим до трёх знаков после запятой (пороговое значение возьмём равное 5%)."
   ]
  },
  {
   "cell_type": "code",
   "execution_count": 52,
   "metadata": {},
   "outputs": [
    {
     "name": "stdout",
     "output_type": "stream",
     "text": [
      "alpha = 0.05\n",
      "p-value = 0.017\n",
      "Относительный показатель 'B' и 'A' = 0.138\n"
     ]
    }
   ],
   "source": [
    "print('alpha =',0.05)\n",
    "print('p-value = {0:.3f}'.format(stats.mannwhitneyu(sampleA, sampleB)[1]))\n",
    "print(\"Относительный показатель 'B' и 'A' = {0:.3f}\".format(sampleB.mean() / sampleA.mean()-1)) "
   ]
  },
  {
   "cell_type": "markdown",
   "metadata": {},
   "source": [
    "P-value меньше alpha, поэтому нулевую гипотезу о том, что статистически значимых различий в конверсии между группами нет, отвергаем. По «сырым» данным различия в конверсии групп A и B есть. Относительный проигрыш группы А равен 13.8% "
   ]
  },
  {
   "cell_type": "markdown",
   "metadata": {},
   "source": [
    "### 2.11 Статистическая значимость различий в среднем чеке заказа между группами по «сырым» данным"
   ]
  },
  {
   "cell_type": "markdown",
   "metadata": {},
   "source": [
    "Сформулируем гипотезы:\n",
    "- H0 - \"статистически значимых различий в среднем чеке заказа между группами нет\"\n",
    "- H1 - \"статистически значимые различия в среднем чеке заказа между группами есть\"\n",
    "\n",
    "Чтобы рассчитать статистическую значимость различий в среднем чеке, передадим критерию mannwhitneyu() данные о выручке с заказов. Также найдём относительные различия в среднем чеке между группами:"
   ]
  },
  {
   "cell_type": "code",
   "execution_count": 53,
   "metadata": {},
   "outputs": [
    {
     "name": "stdout",
     "output_type": "stream",
     "text": [
      "alpha = 0.05\n",
      "p-value = 0.729\n",
      "Относительный показатель 'B' и 'A' = 0.259\n"
     ]
    }
   ],
   "source": [
    "print('alpha =',0.05)\n",
    "print('p-value = {0:.3f}'.format(stats.mannwhitneyu(orders[orders['group'] == 'A']['revenue'],\n",
    "     orders[orders['group'] == 'B']['revenue'])[1]))    \n",
    "print(\"Относительный показатель 'B' и 'A' = {0:.3f}\".format(orders[orders['group'] == 'B']['revenue'].mean() /\n",
    "      orders[orders['group'] == 'A']['revenue'].mean() -1))                                                    "
   ]
  },
  {
   "cell_type": "markdown",
   "metadata": {},
   "source": [
    "P-value больше alpha, поэтому нулевую гипотезу о том, что статистически значимых различий в среднем чеке заказа между группами нет, не отвергаем. По «сырым» данным различий в среднем чеке заказа групп A и B нет. Однако средний чек группы B выше среднего чека группы A на 25,9 %"
   ]
  },
  {
   "cell_type": "markdown",
   "metadata": {},
   "source": [
    "### 2.12 Статистическая значимость различий в конверсии между группами по «очищенным» данным"
   ]
  },
  {
   "cell_type": "markdown",
   "metadata": {},
   "source": [
    "Примем за аномальных пользователей тех, кто совершил от 3 заказов или совершил заказ дороже 58233.2 рублей. Сделаем срезы пользователей с числом заказов больше 2 — usersWithManyOrders и пользователей, совершивших заказы дороже 58233.2 — usersWithExpensiveOrders. Объединим их в таблице abnormalUsers.\n",
    "Узнаем, сколько всего аномальных пользователей атрибутом shape."
   ]
  },
  {
   "cell_type": "code",
   "execution_count": 54,
   "metadata": {},
   "outputs": [],
   "source": [
    "usersWithManyOrders = pd.concat([ordersByUsersA[ordersByUsersA['orders'] > 2]['userId'],\n",
    "    ordersByUsersB[ordersByUsersB['orders'] > 2]['userId']], axis=0)\n",
    "\n",
    "usersWithExpensiveOrders = orders[orders['revenue'] > 58233.2]['visitorId']   "
   ]
  },
  {
   "cell_type": "code",
   "execution_count": 55,
   "metadata": {},
   "outputs": [],
   "source": [
    "abnormalUsers = (\n",
    "    pd.concat([usersWithManyOrders, usersWithExpensiveOrders], axis=0)\n",
    "    .drop_duplicates()\n",
    "    .sort_values()\n",
    ")"
   ]
  },
  {
   "cell_type": "code",
   "execution_count": 56,
   "metadata": {},
   "outputs": [
    {
     "name": "stdout",
     "output_type": "stream",
     "text": [
      "Всего 31 аномальный пользователь\n"
     ]
    }
   ],
   "source": [
    "print('Всего', abnormalUsers.shape[0], 'аномальный пользователь')"
   ]
  },
  {
   "cell_type": "markdown",
   "metadata": {},
   "source": [
    "Узнаем, как их действия повлияли на результаты теста. Посчитаем статистическую значимость различий в конверсии между группами теста по очищенным данным. Сначала подготовим выборки количества заказов по пользователям по группам теста:"
   ]
  },
  {
   "cell_type": "code",
   "execution_count": 57,
   "metadata": {},
   "outputs": [],
   "source": [
    "sampleAFiltered = (\n",
    "    pd.concat([ordersByUsersA[np.logical_not(ordersByUsersA['userId'].isin(abnormalUsers))]['orders'], \n",
    "    pd.Series(0, index=np.arange(data['visitorsPerDateA'].sum() - len(ordersByUsersA['orders'])), \n",
    "    name='orders')],axis=0)\n",
    ")           \n",
    "\n",
    "sampleBFiltered = (\n",
    "pd.concat([ordersByUsersB[np.logical_not(ordersByUsersB['userId'].isin(abnormalUsers))]['orders'], \n",
    "    pd.Series(0, index=np.arange(data['visitorsPerDateB'].sum() - len(ordersByUsersB['orders'])), \n",
    "    name='orders')],axis=0)\n",
    ")                  "
   ]
  },
  {
   "cell_type": "markdown",
   "metadata": {},
   "source": [
    "Применим статистический критерий Манна-Уитни к полученным выборкам:"
   ]
  },
  {
   "cell_type": "code",
   "execution_count": 58,
   "metadata": {},
   "outputs": [
    {
     "name": "stdout",
     "output_type": "stream",
     "text": [
      "alpha = 0.05\n",
      "p-value = 0.010\n",
      "Относительный показатель 'B' и 'A' = 0.174\n"
     ]
    }
   ],
   "source": [
    "print('alpha =',0.05)\n",
    "print('p-value = {0:.3f}'.format(stats.mannwhitneyu(sampleAFiltered, sampleBFiltered)[1]))\n",
    "print(\"Относительный показатель 'B' и 'A' = {0:.3f}\".format(sampleBFiltered.mean() / sampleAFiltered.mean()-1))\n",
    "\n"
   ]
  },
  {
   "cell_type": "markdown",
   "metadata": {},
   "source": [
    "P-value меньше alpha. Результаты по конверсии практически не изменились. Нулевую гипотезу о том, что статистически значимых различий в конверсии между группами нет, отвергаем. Относительный выигрыш группы B над A равен 17,4% (выше, чем с «сырыми» данными - 13.8%)"
   ]
  },
  {
   "cell_type": "markdown",
   "metadata": {},
   "source": [
    "### 2.13 Статистическая значимость различий в среднем чеке заказа между группами по «очищенным» данным"
   ]
  },
  {
   "cell_type": "code",
   "execution_count": 59,
   "metadata": {},
   "outputs": [
    {
     "name": "stdout",
     "output_type": "stream",
     "text": [
      "alpha = 0.05\n",
      "p-value = 0.798\n",
      "Относительный показатель 'B' и 'A' = -0.020\n"
     ]
    }
   ],
   "source": [
    "print('alpha =',0.05)\n",
    "\n",
    "print(\n",
    "    'p-value = {0:.3f}'.format(\n",
    "        stats.mannwhitneyu(\n",
    "            orders[\n",
    "                np.logical_and(\n",
    "                    orders['group'] == 'A',\n",
    "                    np.logical_not(orders['visitorId'].isin(abnormalUsers)),\n",
    "                )\n",
    "            ]['revenue'],\n",
    "            orders[\n",
    "                np.logical_and(\n",
    "                    orders['group'] == 'B',\n",
    "                    np.logical_not(orders['visitorId'].isin(abnormalUsers)),\n",
    "                )\n",
    "            ]['revenue'],\n",
    "        )[1]\n",
    "    )\n",
    ")\n",
    "\n",
    "\n",
    "print(\n",
    "    \"Относительный показатель 'B' и 'A' = {0:.3f}\".format(\n",
    "        orders[\n",
    "            np.logical_and(\n",
    "                orders['group'] == 'B',\n",
    "                np.logical_not(orders['visitorId'].isin(abnormalUsers)),\n",
    "            )\n",
    "        ]['revenue'].mean()\n",
    "        / orders[\n",
    "            np.logical_and(\n",
    "                orders['group'] == 'A',\n",
    "                np.logical_not(orders['visitorId'].isin(abnormalUsers)),\n",
    "            )\n",
    "        ]['revenue'].mean()\n",
    "        - 1\n",
    "    )\n",
    ")"
   ]
  },
  {
   "cell_type": "markdown",
   "metadata": {},
   "source": [
    "P-value больше alpha. Причин отвергать нулевую гипотезу и считать, что в среднем чеке есть различия, нет (как и с \"Сырыми\" данными). Средний чек группы B оказался на 2% ниже среднего чека группы A, в то время как по \"сырым\" данным он был больше на ~26% - на разницу повлияли аномально большие заказы  "
   ]
  },
  {
   "cell_type": "markdown",
   "metadata": {},
   "source": [
    "### 2.14 Решение по результатам теста"
   ]
  },
  {
   "cell_type": "markdown",
   "metadata": {},
   "source": [
    "Анализирая полученные результаты, можно сделать следующие выводы:\n",
    "\n",
    "- И по \"сырым\" и по \"очищенным\" данным выявлены статистически значимых различия в конверсии групп A и B. Относительный выигрыш группы \"B\" над \"A\" равен 17,4% по \"очищенным данным\" и 13.8% по \"сырым\" данным.\n",
    "\n",
    "- И по \"сырым\" и по \"очищенным\" данным установлено отсутствие статистически значимых различий в среднем чеке заказа между группами. \n",
    "\n",
    "По итогу теста можно принять решение остановить тестирование и констатировать победу группы B, так как группа B значительно  эффективнее группы A по конверсии, однако по среднему чеку группы примерно равны."
   ]
  }
 ],
 "metadata": {
  "ExecuteTimeLog": [
   {
    "duration": 64,
    "start_time": "2022-07-08T11:13:42.804Z"
   },
   {
    "duration": 364,
    "start_time": "2022-07-08T11:13:55.516Z"
   },
   {
    "duration": 40,
    "start_time": "2022-07-08T11:13:56.327Z"
   },
   {
    "duration": 7,
    "start_time": "2022-07-08T11:13:57.100Z"
   },
   {
    "duration": 2,
    "start_time": "2022-07-08T11:14:05.291Z"
   },
   {
    "duration": 54,
    "start_time": "2022-07-08T11:14:05.726Z"
   },
   {
    "duration": 14,
    "start_time": "2022-07-08T11:14:06.410Z"
   },
   {
    "duration": 7,
    "start_time": "2022-07-08T11:14:15.608Z"
   },
   {
    "duration": 7,
    "start_time": "2022-07-08T11:14:22.212Z"
   },
   {
    "duration": 95,
    "start_time": "2022-07-09T15:42:08.051Z"
   },
   {
    "duration": 444,
    "start_time": "2022-07-09T15:42:14.488Z"
   },
   {
    "duration": 71,
    "start_time": "2022-07-09T15:42:14.934Z"
   },
   {
    "duration": 17,
    "start_time": "2022-07-09T15:42:15.006Z"
   },
   {
    "duration": 19,
    "start_time": "2022-07-09T15:42:15.025Z"
   },
   {
    "duration": 9,
    "start_time": "2022-07-09T15:42:48.599Z"
   },
   {
    "duration": 11,
    "start_time": "2022-07-09T15:42:58.319Z"
   },
   {
    "duration": 12,
    "start_time": "2022-07-09T15:45:38.847Z"
   },
   {
    "duration": 114,
    "start_time": "2022-07-09T15:50:39.599Z"
   },
   {
    "duration": 8,
    "start_time": "2022-07-09T15:50:42.348Z"
   },
   {
    "duration": 40,
    "start_time": "2022-07-09T15:50:42.359Z"
   },
   {
    "duration": 1473,
    "start_time": "2022-07-09T16:10:11.241Z"
   },
   {
    "duration": 136,
    "start_time": "2022-07-09T16:10:12.721Z"
   },
   {
    "duration": 0,
    "start_time": "2022-07-09T16:10:12.864Z"
   },
   {
    "duration": 0,
    "start_time": "2022-07-09T16:10:12.865Z"
   },
   {
    "duration": 0,
    "start_time": "2022-07-09T16:10:12.866Z"
   },
   {
    "duration": 0,
    "start_time": "2022-07-09T16:10:12.869Z"
   },
   {
    "duration": 0,
    "start_time": "2022-07-09T16:10:12.869Z"
   },
   {
    "duration": 0,
    "start_time": "2022-07-09T16:10:12.870Z"
   },
   {
    "duration": 1354,
    "start_time": "2022-07-09T16:10:51.811Z"
   },
   {
    "duration": 154,
    "start_time": "2022-07-09T16:10:53.172Z"
   },
   {
    "duration": 23,
    "start_time": "2022-07-09T16:10:53.336Z"
   },
   {
    "duration": 39,
    "start_time": "2022-07-09T16:10:53.364Z"
   },
   {
    "duration": 26,
    "start_time": "2022-07-09T16:10:53.410Z"
   },
   {
    "duration": 107,
    "start_time": "2022-07-09T16:10:53.442Z"
   },
   {
    "duration": 20,
    "start_time": "2022-07-09T16:10:53.554Z"
   },
   {
    "duration": 110,
    "start_time": "2022-07-09T16:10:53.581Z"
   },
   {
    "duration": 1290,
    "start_time": "2022-07-09T16:12:30.146Z"
   },
   {
    "duration": 83,
    "start_time": "2022-07-09T16:12:31.439Z"
   },
   {
    "duration": 18,
    "start_time": "2022-07-09T16:12:31.524Z"
   },
   {
    "duration": 70,
    "start_time": "2022-07-09T16:12:31.544Z"
   },
   {
    "duration": 48,
    "start_time": "2022-07-09T16:12:31.619Z"
   },
   {
    "duration": 131,
    "start_time": "2022-07-09T16:12:31.668Z"
   },
   {
    "duration": 34,
    "start_time": "2022-07-09T16:12:31.804Z"
   },
   {
    "duration": 62,
    "start_time": "2022-07-09T16:12:31.840Z"
   },
   {
    "duration": 41,
    "start_time": "2022-07-09T16:12:31.904Z"
   },
   {
    "duration": 80,
    "start_time": "2022-07-09T16:12:31.947Z"
   },
   {
    "duration": 1114,
    "start_time": "2022-07-11T13:37:30.587Z"
   },
   {
    "duration": 133,
    "start_time": "2022-07-11T13:37:31.703Z"
   },
   {
    "duration": 12,
    "start_time": "2022-07-11T13:37:31.837Z"
   },
   {
    "duration": 43,
    "start_time": "2022-07-11T13:37:31.851Z"
   },
   {
    "duration": 26,
    "start_time": "2022-07-11T13:37:31.895Z"
   },
   {
    "duration": 219,
    "start_time": "2022-07-11T13:37:31.923Z"
   },
   {
    "duration": 7,
    "start_time": "2022-07-11T13:37:32.144Z"
   },
   {
    "duration": 14,
    "start_time": "2022-07-11T13:37:32.152Z"
   },
   {
    "duration": 11,
    "start_time": "2022-07-11T13:37:32.167Z"
   },
   {
    "duration": 10,
    "start_time": "2022-07-11T13:37:32.180Z"
   },
   {
    "duration": 84,
    "start_time": "2022-07-11T13:37:32.192Z"
   },
   {
    "duration": 0,
    "start_time": "2022-07-11T13:37:32.278Z"
   },
   {
    "duration": 796,
    "start_time": "2022-07-11T13:44:01.834Z"
   },
   {
    "duration": 5,
    "start_time": "2022-07-11T13:44:46.384Z"
   },
   {
    "duration": 4,
    "start_time": "2022-07-11T13:44:58.045Z"
   },
   {
    "duration": 11,
    "start_time": "2022-07-11T13:45:07.182Z"
   },
   {
    "duration": 10,
    "start_time": "2022-07-11T13:45:18.974Z"
   },
   {
    "duration": 5,
    "start_time": "2022-07-11T15:19:55.141Z"
   },
   {
    "duration": 10,
    "start_time": "2022-07-11T15:20:10.626Z"
   },
   {
    "duration": 173,
    "start_time": "2022-07-11T15:31:33.421Z"
   },
   {
    "duration": 123,
    "start_time": "2022-07-11T15:31:35.415Z"
   },
   {
    "duration": 17,
    "start_time": "2022-07-11T15:31:37.816Z"
   },
   {
    "duration": 12,
    "start_time": "2022-07-11T15:31:59.742Z"
   },
   {
    "duration": 6,
    "start_time": "2022-07-11T15:39:53.218Z"
   },
   {
    "duration": 12,
    "start_time": "2022-07-11T15:39:54.053Z"
   },
   {
    "duration": 4,
    "start_time": "2022-07-11T17:06:12.174Z"
   },
   {
    "duration": 4,
    "start_time": "2022-07-11T17:06:12.779Z"
   },
   {
    "duration": 8,
    "start_time": "2022-07-11T17:06:34.902Z"
   },
   {
    "duration": 222,
    "start_time": "2022-07-11T17:08:31.488Z"
   },
   {
    "duration": 171,
    "start_time": "2022-07-11T17:09:22.100Z"
   },
   {
    "duration": 160,
    "start_time": "2022-07-11T17:10:14.772Z"
   },
   {
    "duration": 168,
    "start_time": "2022-07-11T17:10:31.202Z"
   },
   {
    "duration": 160,
    "start_time": "2022-07-11T17:28:21.236Z"
   },
   {
    "duration": 154,
    "start_time": "2022-07-11T17:28:42.272Z"
   },
   {
    "duration": 264,
    "start_time": "2022-07-11T17:38:17.301Z"
   },
   {
    "duration": 244,
    "start_time": "2022-07-11T17:38:33.665Z"
   },
   {
    "duration": 5,
    "start_time": "2022-07-11T17:47:52.352Z"
   },
   {
    "duration": 4,
    "start_time": "2022-07-11T17:47:53.422Z"
   },
   {
    "duration": 191,
    "start_time": "2022-07-11T17:48:44.999Z"
   },
   {
    "duration": 232,
    "start_time": "2022-07-11T17:49:54.072Z"
   },
   {
    "duration": 181,
    "start_time": "2022-07-11T17:50:15.398Z"
   },
   {
    "duration": 157,
    "start_time": "2022-07-11T17:51:22.492Z"
   },
   {
    "duration": 9,
    "start_time": "2022-07-11T18:31:13.136Z"
   },
   {
    "duration": 7,
    "start_time": "2022-07-11T18:31:18.543Z"
   },
   {
    "duration": 301,
    "start_time": "2022-07-11T18:31:19.225Z"
   },
   {
    "duration": 319,
    "start_time": "2022-07-11T18:33:00.249Z"
   },
   {
    "duration": 260,
    "start_time": "2022-07-11T18:33:41.580Z"
   },
   {
    "duration": 13,
    "start_time": "2022-07-11T18:34:43.241Z"
   },
   {
    "duration": 315,
    "start_time": "2022-07-11T18:37:35.250Z"
   },
   {
    "duration": 280,
    "start_time": "2022-07-11T18:37:55.266Z"
   },
   {
    "duration": 329,
    "start_time": "2022-07-11T18:39:14.616Z"
   },
   {
    "duration": 301,
    "start_time": "2022-07-11T18:39:49.867Z"
   },
   {
    "duration": 5,
    "start_time": "2022-07-11T18:53:57.227Z"
   },
   {
    "duration": 8,
    "start_time": "2022-07-11T18:54:03.372Z"
   },
   {
    "duration": 6,
    "start_time": "2022-07-11T18:55:00.375Z"
   },
   {
    "duration": 9,
    "start_time": "2022-07-11T18:55:02.109Z"
   },
   {
    "duration": 7,
    "start_time": "2022-07-11T18:56:29.619Z"
   },
   {
    "duration": 4,
    "start_time": "2022-07-11T18:56:30.263Z"
   },
   {
    "duration": 9,
    "start_time": "2022-07-11T18:56:30.965Z"
   },
   {
    "duration": 131,
    "start_time": "2022-07-11T18:57:31.900Z"
   },
   {
    "duration": 4,
    "start_time": "2022-07-11T19:00:43.984Z"
   },
   {
    "duration": 5,
    "start_time": "2022-07-11T19:00:55.674Z"
   },
   {
    "duration": 5,
    "start_time": "2022-07-11T19:02:14.713Z"
   },
   {
    "duration": 3,
    "start_time": "2022-07-11T19:08:17.448Z"
   },
   {
    "duration": 119,
    "start_time": "2022-07-11T19:08:56.970Z"
   },
   {
    "duration": 8,
    "start_time": "2022-07-11T19:12:26.969Z"
   },
   {
    "duration": 5,
    "start_time": "2022-07-11T19:19:35.092Z"
   },
   {
    "duration": 1013,
    "start_time": "2022-07-11T19:20:57.769Z"
   },
   {
    "duration": 86,
    "start_time": "2022-07-11T19:20:58.784Z"
   },
   {
    "duration": 15,
    "start_time": "2022-07-11T19:20:58.873Z"
   },
   {
    "duration": 18,
    "start_time": "2022-07-11T19:20:58.889Z"
   },
   {
    "duration": 10,
    "start_time": "2022-07-11T19:20:58.909Z"
   },
   {
    "duration": 55,
    "start_time": "2022-07-11T19:20:58.921Z"
   },
   {
    "duration": 7,
    "start_time": "2022-07-11T19:20:58.978Z"
   },
   {
    "duration": 12,
    "start_time": "2022-07-11T19:20:58.987Z"
   },
   {
    "duration": 10,
    "start_time": "2022-07-11T19:20:59.001Z"
   },
   {
    "duration": 10,
    "start_time": "2022-07-11T19:20:59.012Z"
   },
   {
    "duration": 6,
    "start_time": "2022-07-11T19:20:59.024Z"
   },
   {
    "duration": 7,
    "start_time": "2022-07-11T19:20:59.032Z"
   },
   {
    "duration": 15,
    "start_time": "2022-07-11T19:20:59.040Z"
   },
   {
    "duration": 9,
    "start_time": "2022-07-11T19:20:59.067Z"
   },
   {
    "duration": 157,
    "start_time": "2022-07-11T19:20:59.077Z"
   },
   {
    "duration": 28,
    "start_time": "2022-07-11T19:20:59.235Z"
   },
   {
    "duration": 126,
    "start_time": "2022-07-11T19:20:59.266Z"
   },
   {
    "duration": 25,
    "start_time": "2022-07-11T19:20:59.394Z"
   },
   {
    "duration": 21,
    "start_time": "2022-07-11T19:20:59.421Z"
   },
   {
    "duration": 38,
    "start_time": "2022-07-11T19:20:59.445Z"
   },
   {
    "duration": 21,
    "start_time": "2022-07-11T19:20:59.485Z"
   },
   {
    "duration": 11,
    "start_time": "2022-07-11T19:20:59.508Z"
   },
   {
    "duration": 292,
    "start_time": "2022-07-11T19:20:59.520Z"
   },
   {
    "duration": 191,
    "start_time": "2022-07-11T19:20:59.814Z"
   },
   {
    "duration": 321,
    "start_time": "2022-07-11T19:21:00.007Z"
   },
   {
    "duration": 4,
    "start_time": "2022-07-11T19:21:00.330Z"
   },
   {
    "duration": 18,
    "start_time": "2022-07-11T19:21:00.336Z"
   },
   {
    "duration": 184,
    "start_time": "2022-07-11T19:21:00.355Z"
   },
   {
    "duration": 22,
    "start_time": "2022-07-11T19:21:00.541Z"
   },
   {
    "duration": 300,
    "start_time": "2022-07-11T19:21:00.565Z"
   },
   {
    "duration": 7,
    "start_time": "2022-07-11T19:21:00.872Z"
   },
   {
    "duration": 12,
    "start_time": "2022-07-11T19:21:00.882Z"
   },
   {
    "duration": 18,
    "start_time": "2022-07-11T19:21:00.895Z"
   },
   {
    "duration": 130,
    "start_time": "2022-07-11T19:21:00.915Z"
   },
   {
    "duration": 12,
    "start_time": "2022-07-11T19:21:01.052Z"
   },
   {
    "duration": 151,
    "start_time": "2022-07-11T19:21:01.068Z"
   },
   {
    "duration": 4,
    "start_time": "2022-07-11T19:21:01.221Z"
   },
   {
    "duration": 1014,
    "start_time": "2022-07-11T19:31:43.616Z"
   },
   {
    "duration": 108,
    "start_time": "2022-07-11T19:31:44.633Z"
   },
   {
    "duration": 15,
    "start_time": "2022-07-11T19:31:44.743Z"
   },
   {
    "duration": 43,
    "start_time": "2022-07-11T19:31:44.760Z"
   },
   {
    "duration": 11,
    "start_time": "2022-07-11T19:31:44.806Z"
   },
   {
    "duration": 66,
    "start_time": "2022-07-11T19:31:44.819Z"
   },
   {
    "duration": 8,
    "start_time": "2022-07-11T19:31:44.887Z"
   },
   {
    "duration": 12,
    "start_time": "2022-07-11T19:31:44.896Z"
   },
   {
    "duration": 8,
    "start_time": "2022-07-11T19:31:44.910Z"
   },
   {
    "duration": 11,
    "start_time": "2022-07-11T19:31:44.919Z"
   },
   {
    "duration": 5,
    "start_time": "2022-07-11T19:31:44.932Z"
   },
   {
    "duration": 5,
    "start_time": "2022-07-11T19:31:44.939Z"
   },
   {
    "duration": 6,
    "start_time": "2022-07-11T19:31:44.945Z"
   },
   {
    "duration": 40,
    "start_time": "2022-07-11T19:31:44.955Z"
   },
   {
    "duration": 190,
    "start_time": "2022-07-11T19:31:44.996Z"
   },
   {
    "duration": 12,
    "start_time": "2022-07-11T19:31:45.188Z"
   },
   {
    "duration": 132,
    "start_time": "2022-07-11T19:31:45.201Z"
   },
   {
    "duration": 27,
    "start_time": "2022-07-11T19:31:45.335Z"
   },
   {
    "duration": 35,
    "start_time": "2022-07-11T19:31:45.369Z"
   },
   {
    "duration": 20,
    "start_time": "2022-07-11T19:31:45.406Z"
   },
   {
    "duration": 16,
    "start_time": "2022-07-11T19:31:45.428Z"
   },
   {
    "duration": 42,
    "start_time": "2022-07-11T19:31:45.445Z"
   },
   {
    "duration": 266,
    "start_time": "2022-07-11T19:31:45.489Z"
   },
   {
    "duration": 183,
    "start_time": "2022-07-11T19:31:45.760Z"
   },
   {
    "duration": 310,
    "start_time": "2022-07-11T19:31:45.944Z"
   },
   {
    "duration": 3,
    "start_time": "2022-07-11T19:31:46.256Z"
   },
   {
    "duration": 4,
    "start_time": "2022-07-11T19:31:46.261Z"
   },
   {
    "duration": 218,
    "start_time": "2022-07-11T19:31:46.266Z"
   },
   {
    "duration": 8,
    "start_time": "2022-07-11T19:31:46.487Z"
   },
   {
    "duration": 304,
    "start_time": "2022-07-11T19:31:46.497Z"
   },
   {
    "duration": 7,
    "start_time": "2022-07-11T19:31:46.803Z"
   },
   {
    "duration": 11,
    "start_time": "2022-07-11T19:31:46.813Z"
   },
   {
    "duration": 11,
    "start_time": "2022-07-11T19:31:46.825Z"
   },
   {
    "duration": 152,
    "start_time": "2022-07-11T19:31:46.837Z"
   },
   {
    "duration": 6,
    "start_time": "2022-07-11T19:31:46.990Z"
   },
   {
    "duration": 144,
    "start_time": "2022-07-11T19:31:46.998Z"
   },
   {
    "duration": 4,
    "start_time": "2022-07-11T19:31:47.144Z"
   },
   {
    "duration": 976,
    "start_time": "2022-07-11T19:49:41.792Z"
   },
   {
    "duration": 78,
    "start_time": "2022-07-11T19:49:42.770Z"
   },
   {
    "duration": 20,
    "start_time": "2022-07-11T19:49:42.850Z"
   },
   {
    "duration": 26,
    "start_time": "2022-07-11T19:49:42.873Z"
   },
   {
    "duration": 13,
    "start_time": "2022-07-11T19:49:42.901Z"
   },
   {
    "duration": 58,
    "start_time": "2022-07-11T19:49:42.916Z"
   },
   {
    "duration": 8,
    "start_time": "2022-07-11T19:49:42.975Z"
   },
   {
    "duration": 14,
    "start_time": "2022-07-11T19:49:42.984Z"
   },
   {
    "duration": 13,
    "start_time": "2022-07-11T19:49:42.999Z"
   },
   {
    "duration": 12,
    "start_time": "2022-07-11T19:49:43.014Z"
   },
   {
    "duration": 10,
    "start_time": "2022-07-11T19:49:43.027Z"
   },
   {
    "duration": 7,
    "start_time": "2022-07-11T19:49:43.038Z"
   },
   {
    "duration": 24,
    "start_time": "2022-07-11T19:49:43.052Z"
   },
   {
    "duration": 11,
    "start_time": "2022-07-11T19:49:43.077Z"
   },
   {
    "duration": 172,
    "start_time": "2022-07-11T19:49:43.090Z"
   },
   {
    "duration": 10,
    "start_time": "2022-07-11T19:49:43.268Z"
   },
   {
    "duration": 113,
    "start_time": "2022-07-11T19:49:43.279Z"
   },
   {
    "duration": 11,
    "start_time": "2022-07-11T19:49:43.394Z"
   },
   {
    "duration": 5,
    "start_time": "2022-07-11T19:49:43.407Z"
   },
   {
    "duration": 15,
    "start_time": "2022-07-11T19:49:43.413Z"
   },
   {
    "duration": 9,
    "start_time": "2022-07-11T19:49:43.429Z"
   },
   {
    "duration": 20,
    "start_time": "2022-07-11T19:49:43.439Z"
   },
   {
    "duration": 405,
    "start_time": "2022-07-11T19:49:43.467Z"
   },
   {
    "duration": 386,
    "start_time": "2022-07-11T19:49:43.874Z"
   },
   {
    "duration": 492,
    "start_time": "2022-07-11T19:49:44.263Z"
   },
   {
    "duration": 8,
    "start_time": "2022-07-11T19:49:44.756Z"
   },
   {
    "duration": 13,
    "start_time": "2022-07-11T19:49:44.766Z"
   },
   {
    "duration": 495,
    "start_time": "2022-07-11T19:49:44.783Z"
   },
   {
    "duration": 10,
    "start_time": "2022-07-11T19:49:45.280Z"
   },
   {
    "duration": 582,
    "start_time": "2022-07-11T19:49:45.292Z"
   },
   {
    "duration": 6,
    "start_time": "2022-07-11T19:49:45.876Z"
   },
   {
    "duration": 5,
    "start_time": "2022-07-11T19:49:45.884Z"
   },
   {
    "duration": 11,
    "start_time": "2022-07-11T19:49:45.890Z"
   },
   {
    "duration": 177,
    "start_time": "2022-07-11T19:49:45.902Z"
   },
   {
    "duration": 7,
    "start_time": "2022-07-11T19:49:46.081Z"
   },
   {
    "duration": 149,
    "start_time": "2022-07-11T19:49:46.090Z"
   },
   {
    "duration": 17,
    "start_time": "2022-07-11T19:49:46.243Z"
   },
   {
    "duration": 70,
    "start_time": "2022-07-12T18:39:23.463Z"
   },
   {
    "duration": 1352,
    "start_time": "2022-07-12T18:39:33.066Z"
   },
   {
    "duration": 93,
    "start_time": "2022-07-12T18:39:34.422Z"
   },
   {
    "duration": 14,
    "start_time": "2022-07-12T18:39:34.517Z"
   },
   {
    "duration": 16,
    "start_time": "2022-07-12T18:39:34.533Z"
   },
   {
    "duration": 20,
    "start_time": "2022-07-12T18:39:34.552Z"
   },
   {
    "duration": 78,
    "start_time": "2022-07-12T18:39:34.575Z"
   },
   {
    "duration": 19,
    "start_time": "2022-07-12T18:39:34.657Z"
   },
   {
    "duration": 20,
    "start_time": "2022-07-12T18:39:34.679Z"
   },
   {
    "duration": 16,
    "start_time": "2022-07-12T18:39:34.701Z"
   },
   {
    "duration": 20,
    "start_time": "2022-07-12T18:39:34.719Z"
   },
   {
    "duration": 22,
    "start_time": "2022-07-12T18:39:34.740Z"
   },
   {
    "duration": 23,
    "start_time": "2022-07-12T18:39:34.764Z"
   },
   {
    "duration": 13,
    "start_time": "2022-07-12T18:39:34.788Z"
   },
   {
    "duration": 26,
    "start_time": "2022-07-12T18:39:34.804Z"
   },
   {
    "duration": 190,
    "start_time": "2022-07-12T18:39:34.831Z"
   },
   {
    "duration": 12,
    "start_time": "2022-07-12T18:39:35.023Z"
   },
   {
    "duration": 154,
    "start_time": "2022-07-12T18:39:35.037Z"
   },
   {
    "duration": 21,
    "start_time": "2022-07-12T18:39:35.193Z"
   },
   {
    "duration": 19,
    "start_time": "2022-07-12T18:39:35.215Z"
   },
   {
    "duration": 28,
    "start_time": "2022-07-12T18:39:35.237Z"
   },
   {
    "duration": 9,
    "start_time": "2022-07-12T18:39:35.268Z"
   },
   {
    "duration": 16,
    "start_time": "2022-07-12T18:39:35.279Z"
   },
   {
    "duration": 326,
    "start_time": "2022-07-12T18:39:35.296Z"
   },
   {
    "duration": 204,
    "start_time": "2022-07-12T18:39:35.624Z"
   },
   {
    "duration": 346,
    "start_time": "2022-07-12T18:39:35.831Z"
   },
   {
    "duration": 5,
    "start_time": "2022-07-12T18:39:36.179Z"
   },
   {
    "duration": 8,
    "start_time": "2022-07-12T18:39:36.185Z"
   },
   {
    "duration": 226,
    "start_time": "2022-07-12T18:39:36.195Z"
   },
   {
    "duration": 8,
    "start_time": "2022-07-12T18:39:36.423Z"
   },
   {
    "duration": 365,
    "start_time": "2022-07-12T18:39:36.433Z"
   },
   {
    "duration": 8,
    "start_time": "2022-07-12T18:39:36.800Z"
   },
   {
    "duration": 8,
    "start_time": "2022-07-12T18:39:36.809Z"
   },
   {
    "duration": 29,
    "start_time": "2022-07-12T18:39:36.819Z"
   },
   {
    "duration": 200,
    "start_time": "2022-07-12T18:39:36.850Z"
   },
   {
    "duration": 10,
    "start_time": "2022-07-12T18:39:37.053Z"
   },
   {
    "duration": 152,
    "start_time": "2022-07-12T18:39:37.065Z"
   },
   {
    "duration": 5,
    "start_time": "2022-07-12T18:39:37.219Z"
   },
   {
    "duration": 1124,
    "start_time": "2022-07-12T18:50:22.601Z"
   },
   {
    "duration": 81,
    "start_time": "2022-07-12T18:50:23.727Z"
   },
   {
    "duration": 14,
    "start_time": "2022-07-12T18:50:23.809Z"
   },
   {
    "duration": 29,
    "start_time": "2022-07-12T18:50:23.826Z"
   },
   {
    "duration": 23,
    "start_time": "2022-07-12T18:50:23.857Z"
   },
   {
    "duration": 31,
    "start_time": "2022-07-12T18:50:23.883Z"
   },
   {
    "duration": 10,
    "start_time": "2022-07-12T18:50:23.915Z"
   },
   {
    "duration": 29,
    "start_time": "2022-07-12T18:50:23.928Z"
   },
   {
    "duration": 19,
    "start_time": "2022-07-12T18:50:23.962Z"
   },
   {
    "duration": 13,
    "start_time": "2022-07-12T18:50:23.984Z"
   },
   {
    "duration": 9,
    "start_time": "2022-07-12T18:50:23.999Z"
   },
   {
    "duration": 11,
    "start_time": "2022-07-12T18:50:24.009Z"
   },
   {
    "duration": 10,
    "start_time": "2022-07-12T18:50:24.021Z"
   },
   {
    "duration": 12,
    "start_time": "2022-07-12T18:50:24.046Z"
   },
   {
    "duration": 186,
    "start_time": "2022-07-12T18:50:24.060Z"
   },
   {
    "duration": 20,
    "start_time": "2022-07-12T18:50:24.248Z"
   },
   {
    "duration": 144,
    "start_time": "2022-07-12T18:50:24.271Z"
   },
   {
    "duration": 11,
    "start_time": "2022-07-12T18:50:24.417Z"
   },
   {
    "duration": 19,
    "start_time": "2022-07-12T18:50:24.429Z"
   },
   {
    "duration": 18,
    "start_time": "2022-07-12T18:50:24.451Z"
   },
   {
    "duration": 21,
    "start_time": "2022-07-12T18:50:24.471Z"
   },
   {
    "duration": 9,
    "start_time": "2022-07-12T18:50:24.494Z"
   },
   {
    "duration": 320,
    "start_time": "2022-07-12T18:50:24.505Z"
   },
   {
    "duration": 224,
    "start_time": "2022-07-12T18:50:24.827Z"
   },
   {
    "duration": 294,
    "start_time": "2022-07-12T18:50:25.054Z"
   },
   {
    "duration": 4,
    "start_time": "2022-07-12T18:50:25.350Z"
   },
   {
    "duration": 10,
    "start_time": "2022-07-12T18:50:25.357Z"
   },
   {
    "duration": 223,
    "start_time": "2022-07-12T18:50:25.371Z"
   },
   {
    "duration": 9,
    "start_time": "2022-07-12T18:50:25.596Z"
   },
   {
    "duration": 379,
    "start_time": "2022-07-12T18:50:25.607Z"
   },
   {
    "duration": 7,
    "start_time": "2022-07-12T18:50:25.988Z"
   },
   {
    "duration": 9,
    "start_time": "2022-07-12T18:50:25.997Z"
   },
   {
    "duration": 13,
    "start_time": "2022-07-12T18:50:26.008Z"
   },
   {
    "duration": 176,
    "start_time": "2022-07-12T18:50:26.023Z"
   },
   {
    "duration": 6,
    "start_time": "2022-07-12T18:50:26.201Z"
   },
   {
    "duration": 181,
    "start_time": "2022-07-12T18:50:26.208Z"
   },
   {
    "duration": 6,
    "start_time": "2022-07-12T18:50:26.390Z"
   },
   {
    "duration": 11,
    "start_time": "2022-07-12T18:50:26.398Z"
   },
   {
    "duration": 61,
    "start_time": "2022-07-12T19:12:13.610Z"
   },
   {
    "duration": 6,
    "start_time": "2022-07-12T19:12:53.578Z"
   },
   {
    "duration": 9,
    "start_time": "2022-07-12T19:12:54.792Z"
   },
   {
    "duration": 806,
    "start_time": "2022-07-12T19:19:26.677Z"
   },
   {
    "duration": 11,
    "start_time": "2022-07-12T19:19:28.981Z"
   },
   {
    "duration": 1080,
    "start_time": "2022-07-12T19:23:30.112Z"
   },
   {
    "duration": 82,
    "start_time": "2022-07-12T19:23:31.194Z"
   },
   {
    "duration": 12,
    "start_time": "2022-07-12T19:23:31.279Z"
   },
   {
    "duration": 33,
    "start_time": "2022-07-12T19:23:31.293Z"
   },
   {
    "duration": 51,
    "start_time": "2022-07-12T19:23:31.328Z"
   },
   {
    "duration": 46,
    "start_time": "2022-07-12T19:23:31.380Z"
   },
   {
    "duration": 8,
    "start_time": "2022-07-12T19:23:31.428Z"
   },
   {
    "duration": 26,
    "start_time": "2022-07-12T19:23:31.437Z"
   },
   {
    "duration": 27,
    "start_time": "2022-07-12T19:23:31.466Z"
   },
   {
    "duration": 27,
    "start_time": "2022-07-12T19:23:31.496Z"
   },
   {
    "duration": 15,
    "start_time": "2022-07-12T19:23:31.525Z"
   },
   {
    "duration": 37,
    "start_time": "2022-07-12T19:23:31.543Z"
   },
   {
    "duration": 28,
    "start_time": "2022-07-12T19:23:31.583Z"
   },
   {
    "duration": 41,
    "start_time": "2022-07-12T19:23:31.614Z"
   },
   {
    "duration": 194,
    "start_time": "2022-07-12T19:23:31.658Z"
   },
   {
    "duration": 13,
    "start_time": "2022-07-12T19:23:31.854Z"
   },
   {
    "duration": 146,
    "start_time": "2022-07-12T19:23:31.870Z"
   },
   {
    "duration": 18,
    "start_time": "2022-07-12T19:23:32.017Z"
   },
   {
    "duration": 16,
    "start_time": "2022-07-12T19:23:32.037Z"
   },
   {
    "duration": 38,
    "start_time": "2022-07-12T19:23:32.054Z"
   },
   {
    "duration": 11,
    "start_time": "2022-07-12T19:23:32.093Z"
   },
   {
    "duration": 14,
    "start_time": "2022-07-12T19:23:32.107Z"
   },
   {
    "duration": 294,
    "start_time": "2022-07-12T19:23:32.124Z"
   },
   {
    "duration": 200,
    "start_time": "2022-07-12T19:23:32.419Z"
   },
   {
    "duration": 325,
    "start_time": "2022-07-12T19:23:32.621Z"
   },
   {
    "duration": 6,
    "start_time": "2022-07-12T19:23:32.947Z"
   },
   {
    "duration": 17,
    "start_time": "2022-07-12T19:23:32.956Z"
   },
   {
    "duration": 194,
    "start_time": "2022-07-12T19:23:32.977Z"
   },
   {
    "duration": 9,
    "start_time": "2022-07-12T19:23:33.173Z"
   },
   {
    "duration": 306,
    "start_time": "2022-07-12T19:23:33.183Z"
   },
   {
    "duration": 10,
    "start_time": "2022-07-12T19:23:33.492Z"
   },
   {
    "duration": 4,
    "start_time": "2022-07-12T19:23:33.504Z"
   },
   {
    "duration": 20,
    "start_time": "2022-07-12T19:23:33.510Z"
   },
   {
    "duration": 163,
    "start_time": "2022-07-12T19:23:33.532Z"
   },
   {
    "duration": 7,
    "start_time": "2022-07-12T19:23:33.698Z"
   },
   {
    "duration": 244,
    "start_time": "2022-07-12T19:23:33.707Z"
   },
   {
    "duration": 11,
    "start_time": "2022-07-12T19:23:33.953Z"
   },
   {
    "duration": 1124,
    "start_time": "2022-07-12T19:23:33.965Z"
   },
   {
    "duration": 0,
    "start_time": "2022-07-12T19:23:35.092Z"
   },
   {
    "duration": 0,
    "start_time": "2022-07-12T19:23:35.094Z"
   },
   {
    "duration": 51,
    "start_time": "2022-07-12T19:23:51.767Z"
   },
   {
    "duration": 9,
    "start_time": "2022-07-12T19:23:55.259Z"
   },
   {
    "duration": 10,
    "start_time": "2022-07-12T19:24:07.510Z"
   },
   {
    "duration": 50,
    "start_time": "2022-07-12T19:25:41.762Z"
   },
   {
    "duration": 1143,
    "start_time": "2022-07-12T19:25:48.514Z"
   },
   {
    "duration": 83,
    "start_time": "2022-07-12T19:25:49.660Z"
   },
   {
    "duration": 13,
    "start_time": "2022-07-12T19:25:49.745Z"
   },
   {
    "duration": 13,
    "start_time": "2022-07-12T19:25:49.761Z"
   },
   {
    "duration": 14,
    "start_time": "2022-07-12T19:25:49.776Z"
   },
   {
    "duration": 30,
    "start_time": "2022-07-12T19:25:49.792Z"
   },
   {
    "duration": 9,
    "start_time": "2022-07-12T19:25:49.824Z"
   },
   {
    "duration": 12,
    "start_time": "2022-07-12T19:25:49.847Z"
   },
   {
    "duration": 12,
    "start_time": "2022-07-12T19:25:49.861Z"
   },
   {
    "duration": 13,
    "start_time": "2022-07-12T19:25:49.876Z"
   },
   {
    "duration": 7,
    "start_time": "2022-07-12T19:25:49.891Z"
   },
   {
    "duration": 8,
    "start_time": "2022-07-12T19:25:49.900Z"
   },
   {
    "duration": 11,
    "start_time": "2022-07-12T19:25:49.910Z"
   },
   {
    "duration": 13,
    "start_time": "2022-07-12T19:25:49.946Z"
   },
   {
    "duration": 194,
    "start_time": "2022-07-12T19:25:49.961Z"
   },
   {
    "duration": 15,
    "start_time": "2022-07-12T19:25:50.157Z"
   },
   {
    "duration": 146,
    "start_time": "2022-07-12T19:25:50.174Z"
   },
   {
    "duration": 12,
    "start_time": "2022-07-12T19:25:50.323Z"
   },
   {
    "duration": 8,
    "start_time": "2022-07-12T19:25:50.347Z"
   },
   {
    "duration": 19,
    "start_time": "2022-07-12T19:25:50.357Z"
   },
   {
    "duration": 23,
    "start_time": "2022-07-12T19:25:50.378Z"
   },
   {
    "duration": 12,
    "start_time": "2022-07-12T19:25:50.403Z"
   },
   {
    "duration": 309,
    "start_time": "2022-07-12T19:25:50.417Z"
   },
   {
    "duration": 206,
    "start_time": "2022-07-12T19:25:50.728Z"
   },
   {
    "duration": 312,
    "start_time": "2022-07-12T19:25:50.936Z"
   },
   {
    "duration": 6,
    "start_time": "2022-07-12T19:25:51.250Z"
   },
   {
    "duration": 32,
    "start_time": "2022-07-12T19:25:51.257Z"
   },
   {
    "duration": 204,
    "start_time": "2022-07-12T19:25:51.293Z"
   },
   {
    "duration": 10,
    "start_time": "2022-07-12T19:25:51.499Z"
   },
   {
    "duration": 366,
    "start_time": "2022-07-12T19:25:51.511Z"
   },
   {
    "duration": 9,
    "start_time": "2022-07-12T19:25:51.879Z"
   },
   {
    "duration": 9,
    "start_time": "2022-07-12T19:25:51.889Z"
   },
   {
    "duration": 13,
    "start_time": "2022-07-12T19:25:51.900Z"
   },
   {
    "duration": 190,
    "start_time": "2022-07-12T19:25:51.916Z"
   },
   {
    "duration": 5,
    "start_time": "2022-07-12T19:25:52.108Z"
   },
   {
    "duration": 186,
    "start_time": "2022-07-12T19:25:52.115Z"
   },
   {
    "duration": 5,
    "start_time": "2022-07-12T19:25:52.302Z"
   },
   {
    "duration": 65,
    "start_time": "2022-07-12T19:25:52.309Z"
   },
   {
    "duration": 16,
    "start_time": "2022-07-12T19:25:52.375Z"
   },
   {
    "duration": 12,
    "start_time": "2022-07-12T19:25:52.393Z"
   },
   {
    "duration": 146,
    "start_time": "2022-07-12T19:32:42.378Z"
   },
   {
    "duration": 118,
    "start_time": "2022-07-12T19:33:20.792Z"
   },
   {
    "duration": 92,
    "start_time": "2022-07-12T19:33:44.914Z"
   },
   {
    "duration": 9,
    "start_time": "2022-07-12T19:40:54.579Z"
   },
   {
    "duration": 53,
    "start_time": "2022-07-12T19:40:57.277Z"
   },
   {
    "duration": 128,
    "start_time": "2022-07-12T19:41:54.311Z"
   },
   {
    "duration": 10,
    "start_time": "2022-07-12T19:41:56.772Z"
   },
   {
    "duration": 165,
    "start_time": "2022-07-12T19:48:37.706Z"
   },
   {
    "duration": 11,
    "start_time": "2022-07-12T19:48:40.066Z"
   },
   {
    "duration": 78,
    "start_time": "2022-07-12T19:58:49.943Z"
   },
   {
    "duration": 1107,
    "start_time": "2022-07-12T20:00:04.033Z"
   },
   {
    "duration": 79,
    "start_time": "2022-07-12T20:00:05.143Z"
   },
   {
    "duration": 14,
    "start_time": "2022-07-12T20:00:05.224Z"
   },
   {
    "duration": 22,
    "start_time": "2022-07-12T20:00:05.240Z"
   },
   {
    "duration": 14,
    "start_time": "2022-07-12T20:00:05.264Z"
   },
   {
    "duration": 44,
    "start_time": "2022-07-12T20:00:05.280Z"
   },
   {
    "duration": 12,
    "start_time": "2022-07-12T20:00:05.327Z"
   },
   {
    "duration": 20,
    "start_time": "2022-07-12T20:00:05.340Z"
   },
   {
    "duration": 25,
    "start_time": "2022-07-12T20:00:05.363Z"
   },
   {
    "duration": 45,
    "start_time": "2022-07-12T20:00:05.390Z"
   },
   {
    "duration": 19,
    "start_time": "2022-07-12T20:00:05.436Z"
   },
   {
    "duration": 7,
    "start_time": "2022-07-12T20:00:05.457Z"
   },
   {
    "duration": 13,
    "start_time": "2022-07-12T20:00:05.466Z"
   },
   {
    "duration": 19,
    "start_time": "2022-07-12T20:00:05.483Z"
   },
   {
    "duration": 222,
    "start_time": "2022-07-12T20:00:05.505Z"
   },
   {
    "duration": 19,
    "start_time": "2022-07-12T20:00:05.729Z"
   },
   {
    "duration": 145,
    "start_time": "2022-07-12T20:00:05.750Z"
   },
   {
    "duration": 17,
    "start_time": "2022-07-12T20:00:05.897Z"
   },
   {
    "duration": 19,
    "start_time": "2022-07-12T20:00:05.917Z"
   },
   {
    "duration": 22,
    "start_time": "2022-07-12T20:00:05.946Z"
   },
   {
    "duration": 8,
    "start_time": "2022-07-12T20:00:05.971Z"
   },
   {
    "duration": 9,
    "start_time": "2022-07-12T20:00:05.982Z"
   },
   {
    "duration": 315,
    "start_time": "2022-07-12T20:00:05.994Z"
   },
   {
    "duration": 209,
    "start_time": "2022-07-12T20:00:06.311Z"
   },
   {
    "duration": 328,
    "start_time": "2022-07-12T20:00:06.521Z"
   },
   {
    "duration": 5,
    "start_time": "2022-07-12T20:00:06.851Z"
   },
   {
    "duration": 15,
    "start_time": "2022-07-12T20:00:06.858Z"
   },
   {
    "duration": 222,
    "start_time": "2022-07-12T20:00:06.876Z"
   },
   {
    "duration": 11,
    "start_time": "2022-07-12T20:00:07.100Z"
   },
   {
    "duration": 391,
    "start_time": "2022-07-12T20:00:07.113Z"
   },
   {
    "duration": 9,
    "start_time": "2022-07-12T20:00:07.507Z"
   },
   {
    "duration": 29,
    "start_time": "2022-07-12T20:00:07.521Z"
   },
   {
    "duration": 27,
    "start_time": "2022-07-12T20:00:07.552Z"
   },
   {
    "duration": 195,
    "start_time": "2022-07-12T20:00:07.581Z"
   },
   {
    "duration": 7,
    "start_time": "2022-07-12T20:00:07.779Z"
   },
   {
    "duration": 210,
    "start_time": "2022-07-12T20:00:07.788Z"
   },
   {
    "duration": 8,
    "start_time": "2022-07-12T20:00:08.000Z"
   },
   {
    "duration": 86,
    "start_time": "2022-07-12T20:00:08.011Z"
   },
   {
    "duration": 0,
    "start_time": "2022-07-12T20:00:08.099Z"
   },
   {
    "duration": 0,
    "start_time": "2022-07-12T20:00:08.102Z"
   },
   {
    "duration": 1014,
    "start_time": "2022-07-12T20:04:55.388Z"
   },
   {
    "duration": 80,
    "start_time": "2022-07-12T20:04:56.404Z"
   },
   {
    "duration": 15,
    "start_time": "2022-07-12T20:04:56.486Z"
   },
   {
    "duration": 19,
    "start_time": "2022-07-12T20:04:56.503Z"
   },
   {
    "duration": 36,
    "start_time": "2022-07-12T20:04:56.526Z"
   },
   {
    "duration": 29,
    "start_time": "2022-07-12T20:04:56.564Z"
   },
   {
    "duration": 10,
    "start_time": "2022-07-12T20:04:56.595Z"
   },
   {
    "duration": 13,
    "start_time": "2022-07-12T20:04:56.607Z"
   },
   {
    "duration": 25,
    "start_time": "2022-07-12T20:04:56.622Z"
   },
   {
    "duration": 13,
    "start_time": "2022-07-12T20:04:56.648Z"
   },
   {
    "duration": 10,
    "start_time": "2022-07-12T20:04:56.663Z"
   },
   {
    "duration": 7,
    "start_time": "2022-07-12T20:04:56.675Z"
   },
   {
    "duration": 8,
    "start_time": "2022-07-12T20:04:56.684Z"
   },
   {
    "duration": 12,
    "start_time": "2022-07-12T20:04:56.695Z"
   },
   {
    "duration": 222,
    "start_time": "2022-07-12T20:04:56.708Z"
   },
   {
    "duration": 22,
    "start_time": "2022-07-12T20:04:56.932Z"
   },
   {
    "duration": 154,
    "start_time": "2022-07-12T20:04:56.957Z"
   },
   {
    "duration": 11,
    "start_time": "2022-07-12T20:04:57.112Z"
   },
   {
    "duration": 24,
    "start_time": "2022-07-12T20:04:57.125Z"
   },
   {
    "duration": 23,
    "start_time": "2022-07-12T20:04:57.150Z"
   },
   {
    "duration": 7,
    "start_time": "2022-07-12T20:04:57.175Z"
   },
   {
    "duration": 8,
    "start_time": "2022-07-12T20:04:57.184Z"
   },
   {
    "duration": 292,
    "start_time": "2022-07-12T20:04:57.194Z"
   },
   {
    "duration": 201,
    "start_time": "2022-07-12T20:04:57.489Z"
   },
   {
    "duration": 341,
    "start_time": "2022-07-12T20:04:57.693Z"
   },
   {
    "duration": 10,
    "start_time": "2022-07-12T20:04:58.036Z"
   },
   {
    "duration": 13,
    "start_time": "2022-07-12T20:04:58.048Z"
   },
   {
    "duration": 189,
    "start_time": "2022-07-12T20:04:58.063Z"
   },
   {
    "duration": 9,
    "start_time": "2022-07-12T20:04:58.254Z"
   },
   {
    "duration": 315,
    "start_time": "2022-07-12T20:04:58.265Z"
   },
   {
    "duration": 8,
    "start_time": "2022-07-12T20:04:58.582Z"
   },
   {
    "duration": 12,
    "start_time": "2022-07-12T20:04:58.592Z"
   },
   {
    "duration": 12,
    "start_time": "2022-07-12T20:04:58.606Z"
   },
   {
    "duration": 184,
    "start_time": "2022-07-12T20:04:58.621Z"
   },
   {
    "duration": 7,
    "start_time": "2022-07-12T20:04:58.807Z"
   },
   {
    "duration": 224,
    "start_time": "2022-07-12T20:04:58.815Z"
   },
   {
    "duration": 12,
    "start_time": "2022-07-12T20:04:59.041Z"
   },
   {
    "duration": 73,
    "start_time": "2022-07-12T20:04:59.055Z"
   },
   {
    "duration": 64,
    "start_time": "2022-07-12T20:09:11.361Z"
   },
   {
    "duration": 56,
    "start_time": "2022-07-12T20:09:22.620Z"
   },
   {
    "duration": 221,
    "start_time": "2022-07-12T20:12:14.749Z"
   },
   {
    "duration": 220,
    "start_time": "2022-07-12T20:15:52.465Z"
   },
   {
    "duration": 10,
    "start_time": "2022-07-12T20:15:59.748Z"
   },
   {
    "duration": 53,
    "start_time": "2022-07-12T20:25:57.861Z"
   },
   {
    "duration": 77,
    "start_time": "2022-07-12T20:26:27.894Z"
   },
   {
    "duration": 28,
    "start_time": "2022-07-12T20:26:37.149Z"
   },
   {
    "duration": 12,
    "start_time": "2022-07-12T20:26:45.528Z"
   },
   {
    "duration": 56,
    "start_time": "2022-07-12T20:36:42.611Z"
   },
   {
    "duration": 82,
    "start_time": "2022-07-12T20:36:52.935Z"
   },
   {
    "duration": 11,
    "start_time": "2022-07-12T20:36:53.580Z"
   },
   {
    "duration": 84,
    "start_time": "2022-07-12T20:38:03.016Z"
   },
   {
    "duration": 13,
    "start_time": "2022-07-12T20:38:04.284Z"
   },
   {
    "duration": 70,
    "start_time": "2022-07-12T20:38:19.775Z"
   },
   {
    "duration": 11,
    "start_time": "2022-07-12T20:38:22.739Z"
   },
   {
    "duration": 128,
    "start_time": "2022-07-12T20:38:52.456Z"
   },
   {
    "duration": 16,
    "start_time": "2022-07-12T20:53:58.408Z"
   },
   {
    "duration": 6,
    "start_time": "2022-07-12T20:59:43.558Z"
   },
   {
    "duration": 7,
    "start_time": "2022-07-12T20:59:44.587Z"
   },
   {
    "duration": 8,
    "start_time": "2022-07-12T20:59:57.388Z"
   },
   {
    "duration": 7,
    "start_time": "2022-07-12T21:01:23.557Z"
   },
   {
    "duration": 9,
    "start_time": "2022-07-12T21:02:35.425Z"
   },
   {
    "duration": 6,
    "start_time": "2022-07-12T21:04:31.555Z"
   },
   {
    "duration": 33,
    "start_time": "2022-07-12T21:22:15.511Z"
   },
   {
    "duration": 21,
    "start_time": "2022-07-12T21:22:37.552Z"
   },
   {
    "duration": 22,
    "start_time": "2022-07-12T21:23:40.289Z"
   },
   {
    "duration": 24,
    "start_time": "2022-07-12T21:24:22.865Z"
   },
   {
    "duration": 1106,
    "start_time": "2022-07-12T21:31:32.889Z"
   },
   {
    "duration": 96,
    "start_time": "2022-07-12T21:31:34.000Z"
   },
   {
    "duration": 13,
    "start_time": "2022-07-12T21:31:34.098Z"
   },
   {
    "duration": 16,
    "start_time": "2022-07-12T21:31:34.113Z"
   },
   {
    "duration": 49,
    "start_time": "2022-07-12T21:31:34.131Z"
   },
   {
    "duration": 30,
    "start_time": "2022-07-12T21:31:34.182Z"
   },
   {
    "duration": 10,
    "start_time": "2022-07-12T21:31:34.213Z"
   },
   {
    "duration": 16,
    "start_time": "2022-07-12T21:31:34.225Z"
   },
   {
    "duration": 32,
    "start_time": "2022-07-12T21:31:34.243Z"
   },
   {
    "duration": 19,
    "start_time": "2022-07-12T21:31:34.278Z"
   },
   {
    "duration": 12,
    "start_time": "2022-07-12T21:31:34.299Z"
   },
   {
    "duration": 8,
    "start_time": "2022-07-12T21:31:34.313Z"
   },
   {
    "duration": 10,
    "start_time": "2022-07-12T21:31:34.323Z"
   },
   {
    "duration": 27,
    "start_time": "2022-07-12T21:31:34.336Z"
   },
   {
    "duration": 231,
    "start_time": "2022-07-12T21:31:34.372Z"
   },
   {
    "duration": 14,
    "start_time": "2022-07-12T21:31:34.605Z"
   },
   {
    "duration": 180,
    "start_time": "2022-07-12T21:31:34.621Z"
   },
   {
    "duration": 14,
    "start_time": "2022-07-12T21:31:34.803Z"
   },
   {
    "duration": 28,
    "start_time": "2022-07-12T21:31:34.819Z"
   },
   {
    "duration": 35,
    "start_time": "2022-07-12T21:31:34.850Z"
   },
   {
    "duration": 17,
    "start_time": "2022-07-12T21:31:34.888Z"
   },
   {
    "duration": 6,
    "start_time": "2022-07-12T21:31:34.907Z"
   },
   {
    "duration": 334,
    "start_time": "2022-07-12T21:31:34.915Z"
   },
   {
    "duration": 209,
    "start_time": "2022-07-12T21:31:35.251Z"
   },
   {
    "duration": 304,
    "start_time": "2022-07-12T21:31:35.462Z"
   },
   {
    "duration": 4,
    "start_time": "2022-07-12T21:31:35.768Z"
   },
   {
    "duration": 12,
    "start_time": "2022-07-12T21:31:35.774Z"
   },
   {
    "duration": 210,
    "start_time": "2022-07-12T21:31:35.789Z"
   },
   {
    "duration": 8,
    "start_time": "2022-07-12T21:31:36.001Z"
   },
   {
    "duration": 383,
    "start_time": "2022-07-12T21:31:36.010Z"
   },
   {
    "duration": 7,
    "start_time": "2022-07-12T21:31:36.395Z"
   },
   {
    "duration": 8,
    "start_time": "2022-07-12T21:31:36.404Z"
   },
   {
    "duration": 18,
    "start_time": "2022-07-12T21:31:36.414Z"
   },
   {
    "duration": 175,
    "start_time": "2022-07-12T21:31:36.434Z"
   },
   {
    "duration": 6,
    "start_time": "2022-07-12T21:31:36.611Z"
   },
   {
    "duration": 201,
    "start_time": "2022-07-12T21:31:36.619Z"
   },
   {
    "duration": 5,
    "start_time": "2022-07-12T21:31:36.822Z"
   },
   {
    "duration": 225,
    "start_time": "2022-07-12T21:31:36.829Z"
   },
   {
    "duration": 26,
    "start_time": "2022-07-12T21:31:37.056Z"
   },
   {
    "duration": 17,
    "start_time": "2022-07-12T21:31:37.084Z"
   },
   {
    "duration": 119,
    "start_time": "2022-07-12T21:31:37.103Z"
   },
   {
    "duration": 100,
    "start_time": "2022-07-12T21:31:37.224Z"
   },
   {
    "duration": 21,
    "start_time": "2022-07-12T21:31:37.326Z"
   },
   {
    "duration": 10,
    "start_time": "2022-07-12T21:31:37.349Z"
   },
   {
    "duration": 46,
    "start_time": "2022-07-12T21:31:37.361Z"
   },
   {
    "duration": 121,
    "start_time": "2022-07-12T21:52:49.459Z"
   },
   {
    "duration": 47,
    "start_time": "2022-07-12T21:53:12.803Z"
   },
   {
    "duration": 12,
    "start_time": "2022-07-12T21:53:16.952Z"
   },
   {
    "duration": 14,
    "start_time": "2022-07-12T21:55:57.500Z"
   },
   {
    "duration": 14,
    "start_time": "2022-07-12T21:56:29.646Z"
   },
   {
    "duration": 9,
    "start_time": "2022-07-12T22:13:20.847Z"
   },
   {
    "duration": 12,
    "start_time": "2022-07-12T22:14:19.545Z"
   },
   {
    "duration": 4,
    "start_time": "2022-07-12T22:14:33.581Z"
   },
   {
    "duration": 14,
    "start_time": "2022-07-12T22:14:38.891Z"
   },
   {
    "duration": 50,
    "start_time": "2022-07-12T22:15:55.336Z"
   },
   {
    "duration": 6,
    "start_time": "2022-07-12T22:17:05.061Z"
   },
   {
    "duration": 5,
    "start_time": "2022-07-12T22:17:13.102Z"
   },
   {
    "duration": 4,
    "start_time": "2022-07-12T22:18:58.165Z"
   },
   {
    "duration": 7,
    "start_time": "2022-07-12T22:22:33.139Z"
   },
   {
    "duration": 6,
    "start_time": "2022-07-12T22:22:43.043Z"
   },
   {
    "duration": 4,
    "start_time": "2022-07-12T22:24:39.314Z"
   },
   {
    "duration": 5,
    "start_time": "2022-07-12T22:24:45.924Z"
   },
   {
    "duration": 3,
    "start_time": "2022-07-12T22:26:41.956Z"
   },
   {
    "duration": 4,
    "start_time": "2022-07-12T22:26:55.650Z"
   },
   {
    "duration": 6,
    "start_time": "2022-07-12T22:42:46.329Z"
   },
   {
    "duration": 6,
    "start_time": "2022-07-12T22:42:52.119Z"
   },
   {
    "duration": 11,
    "start_time": "2022-07-12T22:44:28.178Z"
   },
   {
    "duration": 30,
    "start_time": "2022-07-12T22:47:31.261Z"
   },
   {
    "duration": 23,
    "start_time": "2022-07-12T22:47:44.242Z"
   },
   {
    "duration": 59,
    "start_time": "2022-07-12T23:03:00.341Z"
   },
   {
    "duration": 71,
    "start_time": "2022-07-12T23:03:32.813Z"
   },
   {
    "duration": 53,
    "start_time": "2022-07-12T23:03:53.964Z"
   },
   {
    "duration": 92,
    "start_time": "2022-07-12T23:07:54.307Z"
   },
   {
    "duration": 138,
    "start_time": "2022-07-12T23:08:58.850Z"
   },
   {
    "duration": 1025,
    "start_time": "2022-07-12T23:09:12.669Z"
   },
   {
    "duration": 74,
    "start_time": "2022-07-12T23:09:13.696Z"
   },
   {
    "duration": 13,
    "start_time": "2022-07-12T23:09:13.772Z"
   },
   {
    "duration": 18,
    "start_time": "2022-07-12T23:09:13.788Z"
   },
   {
    "duration": 12,
    "start_time": "2022-07-12T23:09:13.808Z"
   },
   {
    "duration": 28,
    "start_time": "2022-07-12T23:09:13.822Z"
   },
   {
    "duration": 8,
    "start_time": "2022-07-12T23:09:13.851Z"
   },
   {
    "duration": 13,
    "start_time": "2022-07-12T23:09:13.860Z"
   },
   {
    "duration": 16,
    "start_time": "2022-07-12T23:09:13.875Z"
   },
   {
    "duration": 11,
    "start_time": "2022-07-12T23:09:13.894Z"
   },
   {
    "duration": 8,
    "start_time": "2022-07-12T23:09:13.907Z"
   },
   {
    "duration": 7,
    "start_time": "2022-07-12T23:09:13.916Z"
   },
   {
    "duration": 30,
    "start_time": "2022-07-12T23:09:13.925Z"
   },
   {
    "duration": 13,
    "start_time": "2022-07-12T23:09:13.957Z"
   },
   {
    "duration": 174,
    "start_time": "2022-07-12T23:09:13.972Z"
   },
   {
    "duration": 11,
    "start_time": "2022-07-12T23:09:14.148Z"
   },
   {
    "duration": 127,
    "start_time": "2022-07-12T23:09:14.160Z"
   },
   {
    "duration": 10,
    "start_time": "2022-07-12T23:09:14.289Z"
   },
   {
    "duration": 12,
    "start_time": "2022-07-12T23:09:14.300Z"
   },
   {
    "duration": 18,
    "start_time": "2022-07-12T23:09:14.313Z"
   },
   {
    "duration": 16,
    "start_time": "2022-07-12T23:09:14.332Z"
   },
   {
    "duration": 8,
    "start_time": "2022-07-12T23:09:14.349Z"
   },
   {
    "duration": 262,
    "start_time": "2022-07-12T23:09:14.359Z"
   },
   {
    "duration": 186,
    "start_time": "2022-07-12T23:09:14.623Z"
   },
   {
    "duration": 309,
    "start_time": "2022-07-12T23:09:14.812Z"
   },
   {
    "duration": 5,
    "start_time": "2022-07-12T23:09:15.123Z"
   },
   {
    "duration": 20,
    "start_time": "2022-07-12T23:09:15.129Z"
   },
   {
    "duration": 177,
    "start_time": "2022-07-12T23:09:15.153Z"
   },
   {
    "duration": 14,
    "start_time": "2022-07-12T23:09:15.332Z"
   },
   {
    "duration": 305,
    "start_time": "2022-07-12T23:09:15.348Z"
   },
   {
    "duration": 7,
    "start_time": "2022-07-12T23:09:15.654Z"
   },
   {
    "duration": 6,
    "start_time": "2022-07-12T23:09:15.662Z"
   },
   {
    "duration": 12,
    "start_time": "2022-07-12T23:09:15.670Z"
   },
   {
    "duration": 169,
    "start_time": "2022-07-12T23:09:15.683Z"
   },
   {
    "duration": 6,
    "start_time": "2022-07-12T23:09:15.854Z"
   },
   {
    "duration": 175,
    "start_time": "2022-07-12T23:09:15.862Z"
   },
   {
    "duration": 9,
    "start_time": "2022-07-12T23:09:16.039Z"
   },
   {
    "duration": 204,
    "start_time": "2022-07-12T23:09:16.050Z"
   },
   {
    "duration": 19,
    "start_time": "2022-07-12T23:09:16.255Z"
   },
   {
    "duration": 10,
    "start_time": "2022-07-12T23:09:16.275Z"
   },
   {
    "duration": 80,
    "start_time": "2022-07-12T23:09:16.287Z"
   },
   {
    "duration": 79,
    "start_time": "2022-07-12T23:09:16.369Z"
   },
   {
    "duration": 9,
    "start_time": "2022-07-12T23:09:16.450Z"
   },
   {
    "duration": 7,
    "start_time": "2022-07-12T23:09:16.460Z"
   },
   {
    "duration": 24,
    "start_time": "2022-07-12T23:09:16.468Z"
   },
   {
    "duration": 10,
    "start_time": "2022-07-12T23:09:16.494Z"
   },
   {
    "duration": 5,
    "start_time": "2022-07-12T23:09:16.506Z"
   },
   {
    "duration": 35,
    "start_time": "2022-07-12T23:09:16.513Z"
   },
   {
    "duration": 7,
    "start_time": "2022-07-12T23:09:16.549Z"
   },
   {
    "duration": 10,
    "start_time": "2022-07-12T23:09:16.558Z"
   },
   {
    "duration": 26,
    "start_time": "2022-07-12T23:09:16.569Z"
   },
   {
    "duration": 73,
    "start_time": "2022-07-12T23:09:16.596Z"
   },
   {
    "duration": 0,
    "start_time": "2022-07-12T23:09:16.670Z"
   },
   {
    "duration": 1341,
    "start_time": "2022-07-12T23:10:05.852Z"
   },
   {
    "duration": 9,
    "start_time": "2022-07-12T23:10:24.148Z"
   },
   {
    "duration": 952,
    "start_time": "2022-07-12T23:11:08.609Z"
   },
   {
    "duration": 15,
    "start_time": "2022-07-12T23:11:21.675Z"
   },
   {
    "duration": 14,
    "start_time": "2022-07-12T23:11:54.477Z"
   },
   {
    "duration": 14,
    "start_time": "2022-07-12T23:12:12.402Z"
   },
   {
    "duration": 981,
    "start_time": "2022-07-12T23:35:10.184Z"
   },
   {
    "duration": 76,
    "start_time": "2022-07-12T23:35:11.167Z"
   },
   {
    "duration": 12,
    "start_time": "2022-07-12T23:35:11.244Z"
   },
   {
    "duration": 12,
    "start_time": "2022-07-12T23:35:11.257Z"
   },
   {
    "duration": 12,
    "start_time": "2022-07-12T23:35:11.270Z"
   },
   {
    "duration": 29,
    "start_time": "2022-07-12T23:35:11.283Z"
   },
   {
    "duration": 7,
    "start_time": "2022-07-12T23:35:11.314Z"
   },
   {
    "duration": 24,
    "start_time": "2022-07-12T23:35:11.322Z"
   },
   {
    "duration": 10,
    "start_time": "2022-07-12T23:35:11.348Z"
   },
   {
    "duration": 9,
    "start_time": "2022-07-12T23:35:11.361Z"
   },
   {
    "duration": 6,
    "start_time": "2022-07-12T23:35:11.372Z"
   },
   {
    "duration": 6,
    "start_time": "2022-07-12T23:35:11.380Z"
   },
   {
    "duration": 11,
    "start_time": "2022-07-12T23:35:11.388Z"
   },
   {
    "duration": 16,
    "start_time": "2022-07-12T23:35:11.400Z"
   },
   {
    "duration": 183,
    "start_time": "2022-07-12T23:35:11.419Z"
   },
   {
    "duration": 11,
    "start_time": "2022-07-12T23:35:11.604Z"
   },
   {
    "duration": 133,
    "start_time": "2022-07-12T23:35:11.617Z"
   },
   {
    "duration": 9,
    "start_time": "2022-07-12T23:35:11.752Z"
   },
   {
    "duration": 7,
    "start_time": "2022-07-12T23:35:11.763Z"
   },
   {
    "duration": 13,
    "start_time": "2022-07-12T23:35:11.772Z"
   },
   {
    "duration": 5,
    "start_time": "2022-07-12T23:35:11.787Z"
   },
   {
    "duration": 8,
    "start_time": "2022-07-12T23:35:11.793Z"
   },
   {
    "duration": 281,
    "start_time": "2022-07-12T23:35:11.802Z"
   },
   {
    "duration": 193,
    "start_time": "2022-07-12T23:35:12.085Z"
   },
   {
    "duration": 276,
    "start_time": "2022-07-12T23:35:12.279Z"
   },
   {
    "duration": 4,
    "start_time": "2022-07-12T23:35:12.557Z"
   },
   {
    "duration": 11,
    "start_time": "2022-07-12T23:35:12.562Z"
   },
   {
    "duration": 190,
    "start_time": "2022-07-12T23:35:12.576Z"
   },
   {
    "duration": 8,
    "start_time": "2022-07-12T23:35:12.768Z"
   },
   {
    "duration": 294,
    "start_time": "2022-07-12T23:35:12.778Z"
   },
   {
    "duration": 8,
    "start_time": "2022-07-12T23:35:13.073Z"
   },
   {
    "duration": 3,
    "start_time": "2022-07-12T23:35:13.083Z"
   },
   {
    "duration": 13,
    "start_time": "2022-07-12T23:35:13.088Z"
   },
   {
    "duration": 168,
    "start_time": "2022-07-12T23:35:13.103Z"
   },
   {
    "duration": 6,
    "start_time": "2022-07-12T23:35:13.272Z"
   },
   {
    "duration": 168,
    "start_time": "2022-07-12T23:35:13.279Z"
   },
   {
    "duration": 5,
    "start_time": "2022-07-12T23:35:13.449Z"
   },
   {
    "duration": 215,
    "start_time": "2022-07-12T23:35:13.455Z"
   },
   {
    "duration": 24,
    "start_time": "2022-07-12T23:35:13.672Z"
   },
   {
    "duration": 10,
    "start_time": "2022-07-12T23:35:13.698Z"
   },
   {
    "duration": 80,
    "start_time": "2022-07-12T23:35:13.710Z"
   },
   {
    "duration": 78,
    "start_time": "2022-07-12T23:35:13.792Z"
   },
   {
    "duration": 10,
    "start_time": "2022-07-12T23:35:13.871Z"
   },
   {
    "duration": 11,
    "start_time": "2022-07-12T23:35:13.883Z"
   },
   {
    "duration": 55,
    "start_time": "2022-07-12T23:35:13.895Z"
   },
   {
    "duration": 13,
    "start_time": "2022-07-12T23:35:13.952Z"
   },
   {
    "duration": 12,
    "start_time": "2022-07-12T23:35:13.968Z"
   },
   {
    "duration": 10,
    "start_time": "2022-07-12T23:35:13.982Z"
   },
   {
    "duration": 6,
    "start_time": "2022-07-12T23:35:13.993Z"
   },
   {
    "duration": 8,
    "start_time": "2022-07-12T23:35:14.001Z"
   },
   {
    "duration": 51,
    "start_time": "2022-07-12T23:35:14.011Z"
   },
   {
    "duration": 15,
    "start_time": "2022-07-12T23:35:14.064Z"
   },
   {
    "duration": 272,
    "start_time": "2022-07-12T23:39:08.168Z"
   },
   {
    "duration": 286,
    "start_time": "2022-07-12T23:39:25.499Z"
   },
   {
    "duration": 204,
    "start_time": "2022-07-12T23:41:21.184Z"
   },
   {
    "duration": 309,
    "start_time": "2022-07-12T23:41:37.860Z"
   },
   {
    "duration": 214,
    "start_time": "2022-07-12T23:41:51.350Z"
   },
   {
    "duration": 304,
    "start_time": "2022-07-12T23:42:38.102Z"
   },
   {
    "duration": 9,
    "start_time": "2022-07-12T23:45:04.363Z"
   },
   {
    "duration": 11,
    "start_time": "2022-07-12T23:48:13.609Z"
   },
   {
    "duration": 1079,
    "start_time": "2022-07-12T23:54:03.220Z"
   },
   {
    "duration": 77,
    "start_time": "2022-07-12T23:54:04.301Z"
   },
   {
    "duration": 14,
    "start_time": "2022-07-12T23:54:04.379Z"
   },
   {
    "duration": 13,
    "start_time": "2022-07-12T23:54:04.395Z"
   },
   {
    "duration": 36,
    "start_time": "2022-07-12T23:54:04.409Z"
   },
   {
    "duration": 33,
    "start_time": "2022-07-12T23:54:04.448Z"
   },
   {
    "duration": 8,
    "start_time": "2022-07-12T23:54:04.483Z"
   },
   {
    "duration": 18,
    "start_time": "2022-07-12T23:54:04.492Z"
   },
   {
    "duration": 9,
    "start_time": "2022-07-12T23:54:04.512Z"
   },
   {
    "duration": 31,
    "start_time": "2022-07-12T23:54:04.523Z"
   },
   {
    "duration": 7,
    "start_time": "2022-07-12T23:54:04.556Z"
   },
   {
    "duration": 7,
    "start_time": "2022-07-12T23:54:04.565Z"
   },
   {
    "duration": 9,
    "start_time": "2022-07-12T23:54:04.574Z"
   },
   {
    "duration": 11,
    "start_time": "2022-07-12T23:54:04.585Z"
   },
   {
    "duration": 176,
    "start_time": "2022-07-12T23:54:04.598Z"
   },
   {
    "duration": 11,
    "start_time": "2022-07-12T23:54:04.776Z"
   },
   {
    "duration": 121,
    "start_time": "2022-07-12T23:54:04.788Z"
   },
   {
    "duration": 11,
    "start_time": "2022-07-12T23:54:04.911Z"
   },
   {
    "duration": 25,
    "start_time": "2022-07-12T23:54:04.924Z"
   },
   {
    "duration": 17,
    "start_time": "2022-07-12T23:54:04.951Z"
   },
   {
    "duration": 6,
    "start_time": "2022-07-12T23:54:04.970Z"
   },
   {
    "duration": 7,
    "start_time": "2022-07-12T23:54:04.977Z"
   },
   {
    "duration": 295,
    "start_time": "2022-07-12T23:54:04.985Z"
   },
   {
    "duration": 210,
    "start_time": "2022-07-12T23:54:05.282Z"
   },
   {
    "duration": 312,
    "start_time": "2022-07-12T23:54:05.493Z"
   },
   {
    "duration": 3,
    "start_time": "2022-07-12T23:54:05.807Z"
   },
   {
    "duration": 8,
    "start_time": "2022-07-12T23:54:05.812Z"
   },
   {
    "duration": 214,
    "start_time": "2022-07-12T23:54:05.823Z"
   },
   {
    "duration": 10,
    "start_time": "2022-07-12T23:54:06.039Z"
   },
   {
    "duration": 322,
    "start_time": "2022-07-12T23:54:06.051Z"
   },
   {
    "duration": 7,
    "start_time": "2022-07-12T23:54:06.375Z"
   },
   {
    "duration": 3,
    "start_time": "2022-07-12T23:54:06.384Z"
   },
   {
    "duration": 13,
    "start_time": "2022-07-12T23:54:06.389Z"
   },
   {
    "duration": 156,
    "start_time": "2022-07-12T23:54:06.404Z"
   },
   {
    "duration": 6,
    "start_time": "2022-07-12T23:54:06.562Z"
   },
   {
    "duration": 158,
    "start_time": "2022-07-12T23:54:06.569Z"
   },
   {
    "duration": 5,
    "start_time": "2022-07-12T23:54:06.729Z"
   },
   {
    "duration": 207,
    "start_time": "2022-07-12T23:54:06.735Z"
   },
   {
    "duration": 20,
    "start_time": "2022-07-12T23:54:06.946Z"
   },
   {
    "duration": 10,
    "start_time": "2022-07-12T23:54:06.967Z"
   },
   {
    "duration": 85,
    "start_time": "2022-07-12T23:54:06.979Z"
   },
   {
    "duration": 87,
    "start_time": "2022-07-12T23:54:07.066Z"
   },
   {
    "duration": 10,
    "start_time": "2022-07-12T23:54:07.155Z"
   },
   {
    "duration": 7,
    "start_time": "2022-07-12T23:54:07.167Z"
   },
   {
    "duration": 25,
    "start_time": "2022-07-12T23:54:07.175Z"
   },
   {
    "duration": 9,
    "start_time": "2022-07-12T23:54:07.201Z"
   },
   {
    "duration": 36,
    "start_time": "2022-07-12T23:54:07.212Z"
   },
   {
    "duration": 6,
    "start_time": "2022-07-12T23:54:07.250Z"
   },
   {
    "duration": 8,
    "start_time": "2022-07-12T23:54:07.257Z"
   },
   {
    "duration": 8,
    "start_time": "2022-07-12T23:54:07.266Z"
   },
   {
    "duration": 24,
    "start_time": "2022-07-12T23:54:07.275Z"
   },
   {
    "duration": 13,
    "start_time": "2022-07-12T23:54:07.301Z"
   },
   {
    "duration": 1014,
    "start_time": "2022-07-13T00:14:14.845Z"
   },
   {
    "duration": 75,
    "start_time": "2022-07-13T00:14:15.861Z"
   },
   {
    "duration": 12,
    "start_time": "2022-07-13T00:14:15.940Z"
   },
   {
    "duration": 12,
    "start_time": "2022-07-13T00:14:15.954Z"
   },
   {
    "duration": 11,
    "start_time": "2022-07-13T00:14:15.967Z"
   },
   {
    "duration": 30,
    "start_time": "2022-07-13T00:14:15.980Z"
   },
   {
    "duration": 8,
    "start_time": "2022-07-13T00:14:16.012Z"
   },
   {
    "duration": 24,
    "start_time": "2022-07-13T00:14:16.022Z"
   },
   {
    "duration": 17,
    "start_time": "2022-07-13T00:14:16.048Z"
   },
   {
    "duration": 12,
    "start_time": "2022-07-13T00:14:16.067Z"
   },
   {
    "duration": 10,
    "start_time": "2022-07-13T00:14:16.080Z"
   },
   {
    "duration": 6,
    "start_time": "2022-07-13T00:14:16.092Z"
   },
   {
    "duration": 6,
    "start_time": "2022-07-13T00:14:16.101Z"
   },
   {
    "duration": 13,
    "start_time": "2022-07-13T00:14:16.109Z"
   },
   {
    "duration": 174,
    "start_time": "2022-07-13T00:14:16.124Z"
   },
   {
    "duration": 11,
    "start_time": "2022-07-13T00:14:16.299Z"
   },
   {
    "duration": 135,
    "start_time": "2022-07-13T00:14:16.311Z"
   },
   {
    "duration": 11,
    "start_time": "2022-07-13T00:14:16.448Z"
   },
   {
    "duration": 11,
    "start_time": "2022-07-13T00:14:16.460Z"
   },
   {
    "duration": 14,
    "start_time": "2022-07-13T00:14:16.473Z"
   },
   {
    "duration": 9,
    "start_time": "2022-07-13T00:14:16.488Z"
   },
   {
    "duration": 7,
    "start_time": "2022-07-13T00:14:16.499Z"
   },
   {
    "duration": 295,
    "start_time": "2022-07-13T00:14:16.508Z"
   },
   {
    "duration": 210,
    "start_time": "2022-07-13T00:14:16.805Z"
   },
   {
    "duration": 346,
    "start_time": "2022-07-13T00:14:17.016Z"
   },
   {
    "duration": 4,
    "start_time": "2022-07-13T00:14:17.364Z"
   },
   {
    "duration": 8,
    "start_time": "2022-07-13T00:14:17.369Z"
   },
   {
    "duration": 225,
    "start_time": "2022-07-13T00:14:17.379Z"
   },
   {
    "duration": 7,
    "start_time": "2022-07-13T00:14:17.606Z"
   },
   {
    "duration": 379,
    "start_time": "2022-07-13T00:14:17.615Z"
   },
   {
    "duration": 7,
    "start_time": "2022-07-13T00:14:17.996Z"
   },
   {
    "duration": 3,
    "start_time": "2022-07-13T00:14:18.004Z"
   },
   {
    "duration": 11,
    "start_time": "2022-07-13T00:14:18.009Z"
   },
   {
    "duration": 155,
    "start_time": "2022-07-13T00:14:18.022Z"
   },
   {
    "duration": 5,
    "start_time": "2022-07-13T00:14:18.178Z"
   },
   {
    "duration": 159,
    "start_time": "2022-07-13T00:14:18.185Z"
   },
   {
    "duration": 5,
    "start_time": "2022-07-13T00:14:18.346Z"
   },
   {
    "duration": 202,
    "start_time": "2022-07-13T00:14:18.352Z"
   },
   {
    "duration": 19,
    "start_time": "2022-07-13T00:14:18.556Z"
   },
   {
    "duration": 10,
    "start_time": "2022-07-13T00:14:18.580Z"
   },
   {
    "duration": 84,
    "start_time": "2022-07-13T00:14:18.592Z"
   },
   {
    "duration": 86,
    "start_time": "2022-07-13T00:14:18.678Z"
   },
   {
    "duration": 9,
    "start_time": "2022-07-13T00:14:18.765Z"
   },
   {
    "duration": 7,
    "start_time": "2022-07-13T00:14:18.775Z"
   },
   {
    "duration": 24,
    "start_time": "2022-07-13T00:14:18.784Z"
   },
   {
    "duration": 10,
    "start_time": "2022-07-13T00:14:18.809Z"
   },
   {
    "duration": 8,
    "start_time": "2022-07-13T00:14:18.855Z"
   },
   {
    "duration": 17,
    "start_time": "2022-07-13T00:14:18.867Z"
   },
   {
    "duration": 12,
    "start_time": "2022-07-13T00:14:18.885Z"
   },
   {
    "duration": 15,
    "start_time": "2022-07-13T00:14:18.900Z"
   },
   {
    "duration": 33,
    "start_time": "2022-07-13T00:14:18.917Z"
   },
   {
    "duration": 17,
    "start_time": "2022-07-13T00:14:18.952Z"
   },
   {
    "duration": 10,
    "start_time": "2022-07-13T00:17:43.760Z"
   },
   {
    "duration": 11,
    "start_time": "2022-07-13T00:17:48.669Z"
   },
   {
    "duration": 10,
    "start_time": "2022-07-13T00:17:57.604Z"
   },
   {
    "duration": 1043,
    "start_time": "2022-07-13T00:18:21.627Z"
   },
   {
    "duration": 74,
    "start_time": "2022-07-13T00:18:22.672Z"
   },
   {
    "duration": 11,
    "start_time": "2022-07-13T00:18:22.748Z"
   },
   {
    "duration": 12,
    "start_time": "2022-07-13T00:18:22.761Z"
   },
   {
    "duration": 12,
    "start_time": "2022-07-13T00:18:22.775Z"
   },
   {
    "duration": 27,
    "start_time": "2022-07-13T00:18:22.788Z"
   },
   {
    "duration": 7,
    "start_time": "2022-07-13T00:18:22.817Z"
   },
   {
    "duration": 21,
    "start_time": "2022-07-13T00:18:22.825Z"
   },
   {
    "duration": 6,
    "start_time": "2022-07-13T00:18:22.848Z"
   },
   {
    "duration": 10,
    "start_time": "2022-07-13T00:18:22.857Z"
   },
   {
    "duration": 6,
    "start_time": "2022-07-13T00:18:22.869Z"
   },
   {
    "duration": 7,
    "start_time": "2022-07-13T00:18:22.877Z"
   },
   {
    "duration": 10,
    "start_time": "2022-07-13T00:18:22.886Z"
   },
   {
    "duration": 10,
    "start_time": "2022-07-13T00:18:22.898Z"
   },
   {
    "duration": 180,
    "start_time": "2022-07-13T00:18:22.909Z"
   },
   {
    "duration": 12,
    "start_time": "2022-07-13T00:18:23.091Z"
   },
   {
    "duration": 119,
    "start_time": "2022-07-13T00:18:23.105Z"
   },
   {
    "duration": 11,
    "start_time": "2022-07-13T00:18:23.225Z"
   },
   {
    "duration": 6,
    "start_time": "2022-07-13T00:18:23.246Z"
   },
   {
    "duration": 13,
    "start_time": "2022-07-13T00:18:23.254Z"
   },
   {
    "duration": 5,
    "start_time": "2022-07-13T00:18:23.268Z"
   },
   {
    "duration": 7,
    "start_time": "2022-07-13T00:18:23.274Z"
   },
   {
    "duration": 305,
    "start_time": "2022-07-13T00:18:23.282Z"
   },
   {
    "duration": 214,
    "start_time": "2022-07-13T00:18:23.588Z"
   },
   {
    "duration": 451,
    "start_time": "2022-07-13T00:18:23.805Z"
   },
   {
    "duration": 4,
    "start_time": "2022-07-13T00:18:24.258Z"
   },
   {
    "duration": 16,
    "start_time": "2022-07-13T00:18:24.263Z"
   },
   {
    "duration": 405,
    "start_time": "2022-07-13T00:18:24.283Z"
   },
   {
    "duration": 60,
    "start_time": "2022-07-13T00:18:24.690Z"
   },
   {
    "duration": 499,
    "start_time": "2022-07-13T00:18:24.751Z"
   },
   {
    "duration": 7,
    "start_time": "2022-07-13T00:18:25.252Z"
   },
   {
    "duration": 3,
    "start_time": "2022-07-13T00:18:25.260Z"
   },
   {
    "duration": 11,
    "start_time": "2022-07-13T00:18:25.265Z"
   },
   {
    "duration": 288,
    "start_time": "2022-07-13T00:18:25.277Z"
   },
   {
    "duration": 4,
    "start_time": "2022-07-13T00:18:25.567Z"
   },
   {
    "duration": 305,
    "start_time": "2022-07-13T00:18:25.573Z"
   },
   {
    "duration": 6,
    "start_time": "2022-07-13T00:18:25.880Z"
   },
   {
    "duration": 236,
    "start_time": "2022-07-13T00:18:25.887Z"
   },
   {
    "duration": 32,
    "start_time": "2022-07-13T00:18:26.125Z"
   },
   {
    "duration": 17,
    "start_time": "2022-07-13T00:18:26.159Z"
   },
   {
    "duration": 79,
    "start_time": "2022-07-13T00:18:26.178Z"
   },
   {
    "duration": 97,
    "start_time": "2022-07-13T00:18:26.259Z"
   },
   {
    "duration": 9,
    "start_time": "2022-07-13T00:18:26.358Z"
   },
   {
    "duration": 13,
    "start_time": "2022-07-13T00:18:26.369Z"
   },
   {
    "duration": 25,
    "start_time": "2022-07-13T00:18:26.383Z"
   },
   {
    "duration": 11,
    "start_time": "2022-07-13T00:18:26.410Z"
   },
   {
    "duration": 7,
    "start_time": "2022-07-13T00:18:26.445Z"
   },
   {
    "duration": 16,
    "start_time": "2022-07-13T00:18:26.454Z"
   },
   {
    "duration": 17,
    "start_time": "2022-07-13T00:18:26.471Z"
   },
   {
    "duration": 14,
    "start_time": "2022-07-13T00:18:26.490Z"
   },
   {
    "duration": 29,
    "start_time": "2022-07-13T00:18:26.506Z"
   },
   {
    "duration": 15,
    "start_time": "2022-07-13T00:18:26.537Z"
   },
   {
    "duration": 1074,
    "start_time": "2022-07-13T00:19:05.720Z"
   },
   {
    "duration": 83,
    "start_time": "2022-07-13T00:19:06.796Z"
   },
   {
    "duration": 11,
    "start_time": "2022-07-13T00:19:06.881Z"
   },
   {
    "duration": 12,
    "start_time": "2022-07-13T00:19:06.894Z"
   },
   {
    "duration": 15,
    "start_time": "2022-07-13T00:19:06.908Z"
   },
   {
    "duration": 31,
    "start_time": "2022-07-13T00:19:06.924Z"
   },
   {
    "duration": 8,
    "start_time": "2022-07-13T00:19:06.957Z"
   },
   {
    "duration": 13,
    "start_time": "2022-07-13T00:19:06.967Z"
   },
   {
    "duration": 10,
    "start_time": "2022-07-13T00:19:06.981Z"
   },
   {
    "duration": 13,
    "start_time": "2022-07-13T00:19:06.993Z"
   },
   {
    "duration": 7,
    "start_time": "2022-07-13T00:19:07.008Z"
   },
   {
    "duration": 7,
    "start_time": "2022-07-13T00:19:07.017Z"
   },
   {
    "duration": 24,
    "start_time": "2022-07-13T00:19:07.025Z"
   },
   {
    "duration": 13,
    "start_time": "2022-07-13T00:19:07.052Z"
   },
   {
    "duration": 172,
    "start_time": "2022-07-13T00:19:07.067Z"
   },
   {
    "duration": 11,
    "start_time": "2022-07-13T00:19:07.240Z"
   },
   {
    "duration": 127,
    "start_time": "2022-07-13T00:19:07.252Z"
   },
   {
    "duration": 11,
    "start_time": "2022-07-13T00:19:07.380Z"
   },
   {
    "duration": 7,
    "start_time": "2022-07-13T00:19:07.392Z"
   },
   {
    "duration": 14,
    "start_time": "2022-07-13T00:19:07.401Z"
   },
   {
    "duration": 4,
    "start_time": "2022-07-13T00:19:07.417Z"
   },
   {
    "duration": 25,
    "start_time": "2022-07-13T00:19:07.423Z"
   },
   {
    "duration": 299,
    "start_time": "2022-07-13T00:19:07.450Z"
   },
   {
    "duration": 202,
    "start_time": "2022-07-13T00:19:07.751Z"
   },
   {
    "duration": 310,
    "start_time": "2022-07-13T00:19:07.954Z"
   },
   {
    "duration": 3,
    "start_time": "2022-07-13T00:19:08.266Z"
   },
   {
    "duration": 7,
    "start_time": "2022-07-13T00:19:08.271Z"
   },
   {
    "duration": 206,
    "start_time": "2022-07-13T00:19:08.280Z"
   },
   {
    "duration": 7,
    "start_time": "2022-07-13T00:19:08.488Z"
   },
   {
    "duration": 380,
    "start_time": "2022-07-13T00:19:08.497Z"
   },
   {
    "duration": 7,
    "start_time": "2022-07-13T00:19:08.879Z"
   },
   {
    "duration": 12,
    "start_time": "2022-07-13T00:19:08.888Z"
   },
   {
    "duration": 18,
    "start_time": "2022-07-13T00:19:08.902Z"
   },
   {
    "duration": 165,
    "start_time": "2022-07-13T00:19:08.922Z"
   },
   {
    "duration": 5,
    "start_time": "2022-07-13T00:19:09.089Z"
   },
   {
    "duration": 161,
    "start_time": "2022-07-13T00:19:09.095Z"
   },
   {
    "duration": 5,
    "start_time": "2022-07-13T00:19:09.258Z"
   },
   {
    "duration": 206,
    "start_time": "2022-07-13T00:19:09.265Z"
   },
   {
    "duration": 21,
    "start_time": "2022-07-13T00:19:09.472Z"
   },
   {
    "duration": 11,
    "start_time": "2022-07-13T00:19:09.495Z"
   },
   {
    "duration": 81,
    "start_time": "2022-07-13T00:19:09.511Z"
   },
   {
    "duration": 83,
    "start_time": "2022-07-13T00:19:09.594Z"
   },
   {
    "duration": 11,
    "start_time": "2022-07-13T00:19:09.678Z"
   },
   {
    "duration": 8,
    "start_time": "2022-07-13T00:19:09.690Z"
   },
   {
    "duration": 25,
    "start_time": "2022-07-13T00:19:09.700Z"
   },
   {
    "duration": 27,
    "start_time": "2022-07-13T00:19:09.727Z"
   },
   {
    "duration": 6,
    "start_time": "2022-07-13T00:19:09.756Z"
   },
   {
    "duration": 8,
    "start_time": "2022-07-13T00:19:09.763Z"
   },
   {
    "duration": 16,
    "start_time": "2022-07-13T00:19:09.772Z"
   },
   {
    "duration": 15,
    "start_time": "2022-07-13T00:19:09.790Z"
   },
   {
    "duration": 23,
    "start_time": "2022-07-13T00:19:09.807Z"
   },
   {
    "duration": 24,
    "start_time": "2022-07-13T00:19:09.831Z"
   },
   {
    "duration": 1128,
    "start_time": "2022-07-13T08:44:33.908Z"
   },
   {
    "duration": 67,
    "start_time": "2022-07-13T08:44:35.038Z"
   },
   {
    "duration": 11,
    "start_time": "2022-07-13T08:44:35.107Z"
   },
   {
    "duration": 27,
    "start_time": "2022-07-13T08:44:35.120Z"
   },
   {
    "duration": 35,
    "start_time": "2022-07-13T08:44:35.149Z"
   },
   {
    "duration": 48,
    "start_time": "2022-07-13T08:44:35.185Z"
   },
   {
    "duration": 9,
    "start_time": "2022-07-13T08:44:35.235Z"
   },
   {
    "duration": 54,
    "start_time": "2022-07-13T08:44:35.246Z"
   },
   {
    "duration": 27,
    "start_time": "2022-07-13T08:44:35.302Z"
   },
   {
    "duration": 18,
    "start_time": "2022-07-13T08:44:35.331Z"
   },
   {
    "duration": 9,
    "start_time": "2022-07-13T08:44:35.351Z"
   },
   {
    "duration": 7,
    "start_time": "2022-07-13T08:44:35.362Z"
   },
   {
    "duration": 16,
    "start_time": "2022-07-13T08:44:35.370Z"
   },
   {
    "duration": 9,
    "start_time": "2022-07-13T08:44:35.389Z"
   },
   {
    "duration": 163,
    "start_time": "2022-07-13T08:44:35.400Z"
   },
   {
    "duration": 10,
    "start_time": "2022-07-13T08:44:35.565Z"
   },
   {
    "duration": 118,
    "start_time": "2022-07-13T08:44:35.576Z"
   },
   {
    "duration": 10,
    "start_time": "2022-07-13T08:44:35.696Z"
   },
   {
    "duration": 8,
    "start_time": "2022-07-13T08:44:35.708Z"
   },
   {
    "duration": 19,
    "start_time": "2022-07-13T08:44:35.717Z"
   },
   {
    "duration": 24,
    "start_time": "2022-07-13T08:44:35.738Z"
   },
   {
    "duration": 6,
    "start_time": "2022-07-13T08:44:35.764Z"
   },
   {
    "duration": 298,
    "start_time": "2022-07-13T08:44:35.771Z"
   },
   {
    "duration": 223,
    "start_time": "2022-07-13T08:44:36.071Z"
   },
   {
    "duration": 387,
    "start_time": "2022-07-13T08:44:36.296Z"
   },
   {
    "duration": 4,
    "start_time": "2022-07-13T08:44:36.685Z"
   },
   {
    "duration": 10,
    "start_time": "2022-07-13T08:44:36.691Z"
   },
   {
    "duration": 215,
    "start_time": "2022-07-13T08:44:36.703Z"
   },
   {
    "duration": 7,
    "start_time": "2022-07-13T08:44:36.920Z"
   },
   {
    "duration": 338,
    "start_time": "2022-07-13T08:44:36.928Z"
   },
   {
    "duration": 6,
    "start_time": "2022-07-13T08:44:37.268Z"
   },
   {
    "duration": 7,
    "start_time": "2022-07-13T08:44:37.276Z"
   },
   {
    "duration": 12,
    "start_time": "2022-07-13T08:44:37.284Z"
   },
   {
    "duration": 147,
    "start_time": "2022-07-13T08:44:37.297Z"
   },
   {
    "duration": 4,
    "start_time": "2022-07-13T08:44:37.446Z"
   },
   {
    "duration": 149,
    "start_time": "2022-07-13T08:44:37.460Z"
   },
   {
    "duration": 6,
    "start_time": "2022-07-13T08:44:37.611Z"
   },
   {
    "duration": 219,
    "start_time": "2022-07-13T08:44:37.619Z"
   },
   {
    "duration": 36,
    "start_time": "2022-07-13T08:44:37.839Z"
   },
   {
    "duration": 12,
    "start_time": "2022-07-13T08:44:37.877Z"
   },
   {
    "duration": 97,
    "start_time": "2022-07-13T08:44:37.892Z"
   },
   {
    "duration": 101,
    "start_time": "2022-07-13T08:44:37.991Z"
   },
   {
    "duration": 9,
    "start_time": "2022-07-13T08:44:38.093Z"
   },
   {
    "duration": 9,
    "start_time": "2022-07-13T08:44:38.103Z"
   },
   {
    "duration": 32,
    "start_time": "2022-07-13T08:44:38.114Z"
   },
   {
    "duration": 20,
    "start_time": "2022-07-13T08:44:38.148Z"
   },
   {
    "duration": 7,
    "start_time": "2022-07-13T08:44:38.170Z"
   },
   {
    "duration": 8,
    "start_time": "2022-07-13T08:44:38.179Z"
   },
   {
    "duration": 6,
    "start_time": "2022-07-13T08:44:38.188Z"
   },
   {
    "duration": 10,
    "start_time": "2022-07-13T08:44:38.196Z"
   },
   {
    "duration": 23,
    "start_time": "2022-07-13T08:44:38.207Z"
   },
   {
    "duration": 32,
    "start_time": "2022-07-13T08:44:38.232Z"
   },
   {
    "duration": 43,
    "start_time": "2022-07-13T15:58:04.831Z"
   },
   {
    "duration": 1131,
    "start_time": "2022-07-13T15:58:14.243Z"
   },
   {
    "duration": 130,
    "start_time": "2022-07-13T15:58:15.376Z"
   },
   {
    "duration": 10,
    "start_time": "2022-07-13T15:58:15.508Z"
   },
   {
    "duration": 11,
    "start_time": "2022-07-13T15:58:15.519Z"
   },
   {
    "duration": 11,
    "start_time": "2022-07-13T15:58:15.531Z"
   },
   {
    "duration": 212,
    "start_time": "2022-07-13T15:58:15.543Z"
   },
   {
    "duration": 8,
    "start_time": "2022-07-13T15:58:15.756Z"
   },
   {
    "duration": 13,
    "start_time": "2022-07-13T15:58:15.765Z"
   },
   {
    "duration": 7,
    "start_time": "2022-07-13T15:58:15.780Z"
   },
   {
    "duration": 15,
    "start_time": "2022-07-13T15:58:15.788Z"
   },
   {
    "duration": 17,
    "start_time": "2022-07-13T15:58:15.804Z"
   },
   {
    "duration": 10,
    "start_time": "2022-07-13T15:58:15.822Z"
   },
   {
    "duration": 9,
    "start_time": "2022-07-13T15:58:15.834Z"
   },
   {
    "duration": 11,
    "start_time": "2022-07-13T15:58:15.845Z"
   },
   {
    "duration": 159,
    "start_time": "2022-07-13T15:58:15.857Z"
   },
   {
    "duration": 12,
    "start_time": "2022-07-13T15:58:16.018Z"
   },
   {
    "duration": 153,
    "start_time": "2022-07-13T15:58:16.032Z"
   },
   {
    "duration": 11,
    "start_time": "2022-07-13T15:58:16.187Z"
   },
   {
    "duration": 9,
    "start_time": "2022-07-13T15:58:16.199Z"
   },
   {
    "duration": 20,
    "start_time": "2022-07-13T15:58:16.210Z"
   },
   {
    "duration": 11,
    "start_time": "2022-07-13T15:58:16.232Z"
   },
   {
    "duration": 4,
    "start_time": "2022-07-13T15:58:16.252Z"
   },
   {
    "duration": 256,
    "start_time": "2022-07-13T15:58:16.257Z"
   },
   {
    "duration": 190,
    "start_time": "2022-07-13T15:58:16.514Z"
   },
   {
    "duration": 357,
    "start_time": "2022-07-13T15:58:16.706Z"
   },
   {
    "duration": 4,
    "start_time": "2022-07-13T15:58:17.065Z"
   },
   {
    "duration": 7,
    "start_time": "2022-07-13T15:58:17.070Z"
   },
   {
    "duration": 175,
    "start_time": "2022-07-13T15:58:17.079Z"
   },
   {
    "duration": 7,
    "start_time": "2022-07-13T15:58:17.255Z"
   },
   {
    "duration": 301,
    "start_time": "2022-07-13T15:58:17.264Z"
   },
   {
    "duration": 5,
    "start_time": "2022-07-13T15:58:17.567Z"
   },
   {
    "duration": 6,
    "start_time": "2022-07-13T15:58:17.573Z"
   },
   {
    "duration": 11,
    "start_time": "2022-07-13T15:58:17.580Z"
   },
   {
    "duration": 135,
    "start_time": "2022-07-13T15:58:17.592Z"
   },
   {
    "duration": 6,
    "start_time": "2022-07-13T15:58:17.728Z"
   },
   {
    "duration": 155,
    "start_time": "2022-07-13T15:58:17.735Z"
   },
   {
    "duration": 4,
    "start_time": "2022-07-13T15:58:17.892Z"
   },
   {
    "duration": 190,
    "start_time": "2022-07-13T15:58:17.898Z"
   },
   {
    "duration": 18,
    "start_time": "2022-07-13T15:58:18.090Z"
   },
   {
    "duration": 11,
    "start_time": "2022-07-13T15:58:18.109Z"
   },
   {
    "duration": 73,
    "start_time": "2022-07-13T15:58:18.123Z"
   },
   {
    "duration": 85,
    "start_time": "2022-07-13T15:58:18.197Z"
   },
   {
    "duration": 8,
    "start_time": "2022-07-13T15:58:18.283Z"
   },
   {
    "duration": 9,
    "start_time": "2022-07-13T15:58:18.293Z"
   },
   {
    "duration": 29,
    "start_time": "2022-07-13T15:58:18.303Z"
   },
   {
    "duration": 25,
    "start_time": "2022-07-13T15:58:18.333Z"
   },
   {
    "duration": 6,
    "start_time": "2022-07-13T15:58:18.359Z"
   },
   {
    "duration": 8,
    "start_time": "2022-07-13T15:58:18.366Z"
   },
   {
    "duration": 6,
    "start_time": "2022-07-13T15:58:18.375Z"
   },
   {
    "duration": 12,
    "start_time": "2022-07-13T15:58:18.382Z"
   },
   {
    "duration": 19,
    "start_time": "2022-07-13T15:58:18.395Z"
   },
   {
    "duration": 11,
    "start_time": "2022-07-13T15:58:18.415Z"
   },
   {
    "duration": 48,
    "start_time": "2022-07-14T13:10:57.719Z"
   },
   {
    "duration": 1203,
    "start_time": "2022-07-14T13:11:05.175Z"
   },
   {
    "duration": 112,
    "start_time": "2022-07-14T13:11:06.380Z"
   },
   {
    "duration": 12,
    "start_time": "2022-07-14T13:11:06.493Z"
   },
   {
    "duration": 20,
    "start_time": "2022-07-14T13:11:06.506Z"
   },
   {
    "duration": 12,
    "start_time": "2022-07-14T13:11:06.528Z"
   },
   {
    "duration": 130,
    "start_time": "2022-07-14T13:11:06.542Z"
   },
   {
    "duration": 8,
    "start_time": "2022-07-14T13:11:06.674Z"
   },
   {
    "duration": 15,
    "start_time": "2022-07-14T13:11:06.683Z"
   },
   {
    "duration": 10,
    "start_time": "2022-07-14T13:11:06.699Z"
   },
   {
    "duration": 13,
    "start_time": "2022-07-14T13:11:06.710Z"
   },
   {
    "duration": 7,
    "start_time": "2022-07-14T13:11:06.725Z"
   },
   {
    "duration": 7,
    "start_time": "2022-07-14T13:11:06.734Z"
   },
   {
    "duration": 10,
    "start_time": "2022-07-14T13:11:06.743Z"
   },
   {
    "duration": 10,
    "start_time": "2022-07-14T13:11:06.765Z"
   },
   {
    "duration": 172,
    "start_time": "2022-07-14T13:11:06.777Z"
   },
   {
    "duration": 13,
    "start_time": "2022-07-14T13:11:06.951Z"
   },
   {
    "duration": 118,
    "start_time": "2022-07-14T13:11:06.965Z"
   },
   {
    "duration": 15,
    "start_time": "2022-07-14T13:11:07.084Z"
   },
   {
    "duration": 13,
    "start_time": "2022-07-14T13:11:07.100Z"
   },
   {
    "duration": 18,
    "start_time": "2022-07-14T13:11:07.114Z"
   },
   {
    "duration": 4,
    "start_time": "2022-07-14T13:11:07.133Z"
   },
   {
    "duration": 10,
    "start_time": "2022-07-14T13:11:07.139Z"
   },
   {
    "duration": 291,
    "start_time": "2022-07-14T13:11:07.150Z"
   },
   {
    "duration": 206,
    "start_time": "2022-07-14T13:11:07.443Z"
   },
   {
    "duration": 366,
    "start_time": "2022-07-14T13:11:07.651Z"
   },
   {
    "duration": 4,
    "start_time": "2022-07-14T13:11:08.019Z"
   },
   {
    "duration": 9,
    "start_time": "2022-07-14T13:11:08.024Z"
   },
   {
    "duration": 195,
    "start_time": "2022-07-14T13:11:08.035Z"
   },
   {
    "duration": 8,
    "start_time": "2022-07-14T13:11:08.232Z"
   },
   {
    "duration": 339,
    "start_time": "2022-07-14T13:11:08.241Z"
   },
   {
    "duration": 5,
    "start_time": "2022-07-14T13:11:08.582Z"
   },
   {
    "duration": 22,
    "start_time": "2022-07-14T13:11:08.589Z"
   },
   {
    "duration": 15,
    "start_time": "2022-07-14T13:11:08.612Z"
   },
   {
    "duration": 132,
    "start_time": "2022-07-14T13:11:08.629Z"
   },
   {
    "duration": 5,
    "start_time": "2022-07-14T13:11:08.763Z"
   },
   {
    "duration": 176,
    "start_time": "2022-07-14T13:11:08.769Z"
   },
   {
    "duration": 6,
    "start_time": "2022-07-14T13:11:08.946Z"
   },
   {
    "duration": 209,
    "start_time": "2022-07-14T13:11:08.954Z"
   },
   {
    "duration": 20,
    "start_time": "2022-07-14T13:11:09.165Z"
   },
   {
    "duration": 10,
    "start_time": "2022-07-14T13:11:09.186Z"
   },
   {
    "duration": 86,
    "start_time": "2022-07-14T13:11:09.200Z"
   },
   {
    "duration": 85,
    "start_time": "2022-07-14T13:11:09.288Z"
   },
   {
    "duration": 9,
    "start_time": "2022-07-14T13:11:09.375Z"
   },
   {
    "duration": 11,
    "start_time": "2022-07-14T13:11:09.386Z"
   },
   {
    "duration": 28,
    "start_time": "2022-07-14T13:11:09.398Z"
   },
   {
    "duration": 10,
    "start_time": "2022-07-14T13:11:09.428Z"
   },
   {
    "duration": 29,
    "start_time": "2022-07-14T13:11:09.439Z"
   },
   {
    "duration": 10,
    "start_time": "2022-07-14T13:11:09.469Z"
   },
   {
    "duration": 11,
    "start_time": "2022-07-14T13:11:09.480Z"
   },
   {
    "duration": 11,
    "start_time": "2022-07-14T13:11:09.492Z"
   },
   {
    "duration": 22,
    "start_time": "2022-07-14T13:11:09.504Z"
   },
   {
    "duration": 12,
    "start_time": "2022-07-14T13:11:09.527Z"
   },
   {
    "duration": 214,
    "start_time": "2022-07-14T13:12:01.795Z"
   },
   {
    "duration": 285,
    "start_time": "2022-07-14T13:12:51.268Z"
   },
   {
    "duration": 296,
    "start_time": "2022-07-14T13:17:48.425Z"
   },
   {
    "duration": 217,
    "start_time": "2022-07-14T13:18:05.457Z"
   },
   {
    "duration": 223,
    "start_time": "2022-07-14T13:21:28.984Z"
   },
   {
    "duration": 310,
    "start_time": "2022-07-14T13:23:34.818Z"
   },
   {
    "duration": 357,
    "start_time": "2022-07-14T13:24:48.979Z"
   },
   {
    "duration": 244,
    "start_time": "2022-07-14T13:25:00.144Z"
   },
   {
    "duration": 226,
    "start_time": "2022-07-14T13:26:23.852Z"
   },
   {
    "duration": 347,
    "start_time": "2022-07-14T13:28:05.481Z"
   },
   {
    "duration": 260,
    "start_time": "2022-07-14T13:32:25.253Z"
   },
   {
    "duration": 148,
    "start_time": "2022-07-14T13:32:30.669Z"
   },
   {
    "duration": 204,
    "start_time": "2022-07-14T13:35:43.902Z"
   },
   {
    "duration": 141,
    "start_time": "2022-07-14T13:40:55.986Z"
   },
   {
    "duration": 151,
    "start_time": "2022-07-14T13:41:59.388Z"
   },
   {
    "duration": 1314,
    "start_time": "2022-07-14T13:51:16.592Z"
   },
   {
    "duration": 100,
    "start_time": "2022-07-14T13:51:17.908Z"
   },
   {
    "duration": 20,
    "start_time": "2022-07-14T13:51:18.011Z"
   },
   {
    "duration": 32,
    "start_time": "2022-07-14T13:51:18.034Z"
   },
   {
    "duration": 18,
    "start_time": "2022-07-14T13:51:18.068Z"
   },
   {
    "duration": 51,
    "start_time": "2022-07-14T13:51:18.088Z"
   },
   {
    "duration": 10,
    "start_time": "2022-07-14T13:51:18.142Z"
   },
   {
    "duration": 23,
    "start_time": "2022-07-14T13:51:18.154Z"
   },
   {
    "duration": 14,
    "start_time": "2022-07-14T13:51:18.182Z"
   },
   {
    "duration": 19,
    "start_time": "2022-07-14T13:51:18.200Z"
   },
   {
    "duration": 22,
    "start_time": "2022-07-14T13:51:18.221Z"
   },
   {
    "duration": 7,
    "start_time": "2022-07-14T13:51:18.245Z"
   },
   {
    "duration": 13,
    "start_time": "2022-07-14T13:51:18.255Z"
   },
   {
    "duration": 19,
    "start_time": "2022-07-14T13:51:18.271Z"
   },
   {
    "duration": 247,
    "start_time": "2022-07-14T13:51:18.292Z"
   },
   {
    "duration": 23,
    "start_time": "2022-07-14T13:51:18.541Z"
   },
   {
    "duration": 298,
    "start_time": "2022-07-14T13:51:18.566Z"
   },
   {
    "duration": 19,
    "start_time": "2022-07-14T13:51:18.867Z"
   },
   {
    "duration": 12,
    "start_time": "2022-07-14T13:51:18.888Z"
   },
   {
    "duration": 67,
    "start_time": "2022-07-14T13:51:18.902Z"
   },
   {
    "duration": 14,
    "start_time": "2022-07-14T13:51:18.971Z"
   },
   {
    "duration": 8,
    "start_time": "2022-07-14T13:51:18.987Z"
   },
   {
    "duration": 982,
    "start_time": "2022-07-14T13:51:18.997Z"
   },
   {
    "duration": 687,
    "start_time": "2022-07-14T13:51:19.981Z"
   },
   {
    "duration": 710,
    "start_time": "2022-07-14T13:51:20.670Z"
   },
   {
    "duration": 11,
    "start_time": "2022-07-14T13:51:21.382Z"
   },
   {
    "duration": 39,
    "start_time": "2022-07-14T13:51:21.396Z"
   },
   {
    "duration": 450,
    "start_time": "2022-07-14T13:51:21.468Z"
   },
   {
    "duration": 14,
    "start_time": "2022-07-14T13:51:21.920Z"
   },
   {
    "duration": 489,
    "start_time": "2022-07-14T13:51:21.937Z"
   },
   {
    "duration": 8,
    "start_time": "2022-07-14T13:51:22.429Z"
   },
   {
    "duration": 10,
    "start_time": "2022-07-14T13:51:22.439Z"
   },
   {
    "duration": 35,
    "start_time": "2022-07-14T13:51:22.451Z"
   },
   {
    "duration": 243,
    "start_time": "2022-07-14T13:51:22.488Z"
   },
   {
    "duration": 8,
    "start_time": "2022-07-14T13:51:22.735Z"
   },
   {
    "duration": 266,
    "start_time": "2022-07-14T13:51:22.745Z"
   },
   {
    "duration": 7,
    "start_time": "2022-07-14T13:51:23.013Z"
   },
   {
    "duration": 284,
    "start_time": "2022-07-14T13:51:23.022Z"
   },
   {
    "duration": 34,
    "start_time": "2022-07-14T13:51:23.309Z"
   },
   {
    "duration": 42,
    "start_time": "2022-07-14T13:51:23.345Z"
   },
   {
    "duration": 155,
    "start_time": "2022-07-14T13:51:23.391Z"
   },
   {
    "duration": 158,
    "start_time": "2022-07-14T13:51:23.548Z"
   },
   {
    "duration": 13,
    "start_time": "2022-07-14T13:51:23.708Z"
   },
   {
    "duration": 16,
    "start_time": "2022-07-14T13:51:23.723Z"
   },
   {
    "duration": 65,
    "start_time": "2022-07-14T13:51:23.741Z"
   },
   {
    "duration": 14,
    "start_time": "2022-07-14T13:51:23.809Z"
   },
   {
    "duration": 8,
    "start_time": "2022-07-14T13:51:23.825Z"
   },
   {
    "duration": 32,
    "start_time": "2022-07-14T13:51:23.835Z"
   },
   {
    "duration": 13,
    "start_time": "2022-07-14T13:51:23.869Z"
   },
   {
    "duration": 22,
    "start_time": "2022-07-14T13:51:23.884Z"
   },
   {
    "duration": 54,
    "start_time": "2022-07-14T13:51:23.908Z"
   },
   {
    "duration": 23,
    "start_time": "2022-07-14T13:51:23.964Z"
   },
   {
    "duration": 93,
    "start_time": "2022-07-14T13:54:04.149Z"
   },
   {
    "duration": 180,
    "start_time": "2022-07-14T13:55:53.980Z"
   },
   {
    "duration": 160,
    "start_time": "2022-07-14T13:57:31.924Z"
   },
   {
    "duration": 246,
    "start_time": "2022-07-14T14:01:18.308Z"
   },
   {
    "duration": 158,
    "start_time": "2022-07-14T14:01:57.545Z"
   },
   {
    "duration": 219,
    "start_time": "2022-07-14T14:02:25.764Z"
   },
   {
    "duration": 168,
    "start_time": "2022-07-14T14:06:29.726Z"
   },
   {
    "duration": 150,
    "start_time": "2022-07-14T14:07:27.444Z"
   },
   {
    "duration": 1053,
    "start_time": "2022-07-14T14:08:33.043Z"
   },
   {
    "duration": 76,
    "start_time": "2022-07-14T14:08:34.098Z"
   },
   {
    "duration": 12,
    "start_time": "2022-07-14T14:08:34.175Z"
   },
   {
    "duration": 16,
    "start_time": "2022-07-14T14:08:34.188Z"
   },
   {
    "duration": 11,
    "start_time": "2022-07-14T14:08:34.207Z"
   },
   {
    "duration": 54,
    "start_time": "2022-07-14T14:08:34.219Z"
   },
   {
    "duration": 8,
    "start_time": "2022-07-14T14:08:34.275Z"
   },
   {
    "duration": 14,
    "start_time": "2022-07-14T14:08:34.284Z"
   },
   {
    "duration": 11,
    "start_time": "2022-07-14T14:08:34.300Z"
   },
   {
    "duration": 14,
    "start_time": "2022-07-14T14:08:34.312Z"
   },
   {
    "duration": 8,
    "start_time": "2022-07-14T14:08:34.327Z"
   },
   {
    "duration": 6,
    "start_time": "2022-07-14T14:08:34.337Z"
   },
   {
    "duration": 20,
    "start_time": "2022-07-14T14:08:34.344Z"
   },
   {
    "duration": 11,
    "start_time": "2022-07-14T14:08:34.367Z"
   },
   {
    "duration": 176,
    "start_time": "2022-07-14T14:08:34.380Z"
   },
   {
    "duration": 13,
    "start_time": "2022-07-14T14:08:34.558Z"
   },
   {
    "duration": 140,
    "start_time": "2022-07-14T14:08:34.573Z"
   },
   {
    "duration": 14,
    "start_time": "2022-07-14T14:08:34.715Z"
   },
   {
    "duration": 10,
    "start_time": "2022-07-14T14:08:34.731Z"
   },
   {
    "duration": 21,
    "start_time": "2022-07-14T14:08:34.743Z"
   },
   {
    "duration": 7,
    "start_time": "2022-07-14T14:08:34.766Z"
   },
   {
    "duration": 15,
    "start_time": "2022-07-14T14:08:34.774Z"
   },
   {
    "duration": 307,
    "start_time": "2022-07-14T14:08:34.791Z"
   },
   {
    "duration": 230,
    "start_time": "2022-07-14T14:08:35.100Z"
   },
   {
    "duration": 359,
    "start_time": "2022-07-14T14:08:35.331Z"
   },
   {
    "duration": 4,
    "start_time": "2022-07-14T14:08:35.692Z"
   },
   {
    "duration": 15,
    "start_time": "2022-07-14T14:08:35.697Z"
   },
   {
    "duration": 213,
    "start_time": "2022-07-14T14:08:35.713Z"
   },
   {
    "duration": 8,
    "start_time": "2022-07-14T14:08:35.927Z"
   },
   {
    "duration": 366,
    "start_time": "2022-07-14T14:08:35.936Z"
   },
   {
    "duration": 6,
    "start_time": "2022-07-14T14:08:36.304Z"
   },
   {
    "duration": 8,
    "start_time": "2022-07-14T14:08:36.312Z"
   },
   {
    "duration": 26,
    "start_time": "2022-07-14T14:08:36.321Z"
   },
   {
    "duration": 146,
    "start_time": "2022-07-14T14:08:36.349Z"
   },
   {
    "duration": 4,
    "start_time": "2022-07-14T14:08:36.497Z"
   },
   {
    "duration": 163,
    "start_time": "2022-07-14T14:08:36.503Z"
   },
   {
    "duration": 180,
    "start_time": "2022-07-14T14:08:36.668Z"
   },
   {
    "duration": 5,
    "start_time": "2022-07-14T14:08:36.849Z"
   },
   {
    "duration": 327,
    "start_time": "2022-07-14T14:08:36.856Z"
   },
   {
    "duration": 22,
    "start_time": "2022-07-14T14:08:37.184Z"
   },
   {
    "duration": 12,
    "start_time": "2022-07-14T14:08:37.263Z"
   },
   {
    "duration": 126,
    "start_time": "2022-07-14T14:08:37.277Z"
   },
   {
    "duration": 182,
    "start_time": "2022-07-14T14:08:37.404Z"
   },
   {
    "duration": 21,
    "start_time": "2022-07-14T14:08:37.587Z"
   },
   {
    "duration": 55,
    "start_time": "2022-07-14T14:08:37.609Z"
   },
   {
    "duration": 34,
    "start_time": "2022-07-14T14:08:37.666Z"
   },
   {
    "duration": 10,
    "start_time": "2022-07-14T14:08:37.702Z"
   },
   {
    "duration": 55,
    "start_time": "2022-07-14T14:08:37.713Z"
   },
   {
    "duration": 44,
    "start_time": "2022-07-14T14:08:37.770Z"
   },
   {
    "duration": 20,
    "start_time": "2022-07-14T14:08:37.816Z"
   },
   {
    "duration": 30,
    "start_time": "2022-07-14T14:08:37.838Z"
   },
   {
    "duration": 26,
    "start_time": "2022-07-14T14:08:37.870Z"
   },
   {
    "duration": 70,
    "start_time": "2022-07-14T14:08:37.898Z"
   },
   {
    "duration": 3,
    "start_time": "2022-07-14T14:09:25.255Z"
   },
   {
    "duration": 1098,
    "start_time": "2022-07-14T14:09:30.716Z"
   },
   {
    "duration": 85,
    "start_time": "2022-07-14T14:09:31.816Z"
   },
   {
    "duration": 3,
    "start_time": "2022-07-14T14:09:31.902Z"
   },
   {
    "duration": 15,
    "start_time": "2022-07-14T14:09:31.907Z"
   },
   {
    "duration": 11,
    "start_time": "2022-07-14T14:09:31.924Z"
   },
   {
    "duration": 33,
    "start_time": "2022-07-14T14:09:31.936Z"
   },
   {
    "duration": 50,
    "start_time": "2022-07-14T14:09:31.971Z"
   },
   {
    "duration": 7,
    "start_time": "2022-07-14T14:09:32.023Z"
   },
   {
    "duration": 31,
    "start_time": "2022-07-14T14:09:32.031Z"
   },
   {
    "duration": 10,
    "start_time": "2022-07-14T14:09:32.065Z"
   },
   {
    "duration": 21,
    "start_time": "2022-07-14T14:09:32.077Z"
   },
   {
    "duration": 13,
    "start_time": "2022-07-14T14:09:32.099Z"
   },
   {
    "duration": 11,
    "start_time": "2022-07-14T14:09:32.114Z"
   },
   {
    "duration": 17,
    "start_time": "2022-07-14T14:09:32.126Z"
   },
   {
    "duration": 21,
    "start_time": "2022-07-14T14:09:32.145Z"
   },
   {
    "duration": 162,
    "start_time": "2022-07-14T14:09:32.167Z"
   },
   {
    "duration": 11,
    "start_time": "2022-07-14T14:09:32.330Z"
   },
   {
    "duration": 135,
    "start_time": "2022-07-14T14:09:32.343Z"
   },
   {
    "duration": 10,
    "start_time": "2022-07-14T14:09:32.480Z"
   },
   {
    "duration": 22,
    "start_time": "2022-07-14T14:09:32.491Z"
   },
   {
    "duration": 37,
    "start_time": "2022-07-14T14:09:32.515Z"
   },
   {
    "duration": 24,
    "start_time": "2022-07-14T14:09:32.554Z"
   },
   {
    "duration": 37,
    "start_time": "2022-07-14T14:09:32.580Z"
   },
   {
    "duration": 452,
    "start_time": "2022-07-14T14:09:32.620Z"
   },
   {
    "duration": 491,
    "start_time": "2022-07-14T14:09:33.073Z"
   },
   {
    "duration": 439,
    "start_time": "2022-07-14T14:09:33.566Z"
   },
   {
    "duration": 57,
    "start_time": "2022-07-14T14:09:34.007Z"
   },
   {
    "duration": 5,
    "start_time": "2022-07-14T14:09:34.068Z"
   },
   {
    "duration": 418,
    "start_time": "2022-07-14T14:09:34.074Z"
   },
   {
    "duration": 8,
    "start_time": "2022-07-14T14:09:34.493Z"
   },
   {
    "duration": 465,
    "start_time": "2022-07-14T14:09:34.503Z"
   },
   {
    "duration": 6,
    "start_time": "2022-07-14T14:09:34.969Z"
   },
   {
    "duration": 4,
    "start_time": "2022-07-14T14:09:34.977Z"
   },
   {
    "duration": 11,
    "start_time": "2022-07-14T14:09:34.983Z"
   },
   {
    "duration": 164,
    "start_time": "2022-07-14T14:09:34.995Z"
   },
   {
    "duration": 6,
    "start_time": "2022-07-14T14:09:35.160Z"
   },
   {
    "duration": 166,
    "start_time": "2022-07-14T14:09:35.168Z"
   },
   {
    "duration": 192,
    "start_time": "2022-07-14T14:09:35.336Z"
   },
   {
    "duration": 5,
    "start_time": "2022-07-14T14:09:35.530Z"
   },
   {
    "duration": 186,
    "start_time": "2022-07-14T14:09:35.537Z"
   },
   {
    "duration": 22,
    "start_time": "2022-07-14T14:09:35.725Z"
   },
   {
    "duration": 10,
    "start_time": "2022-07-14T14:09:35.763Z"
   },
   {
    "duration": 73,
    "start_time": "2022-07-14T14:09:35.775Z"
   },
   {
    "duration": 87,
    "start_time": "2022-07-14T14:09:35.850Z"
   },
   {
    "duration": 24,
    "start_time": "2022-07-14T14:09:35.939Z"
   },
   {
    "duration": 6,
    "start_time": "2022-07-14T14:09:35.965Z"
   },
   {
    "duration": 26,
    "start_time": "2022-07-14T14:09:35.972Z"
   },
   {
    "duration": 11,
    "start_time": "2022-07-14T14:09:36.000Z"
   },
   {
    "duration": 8,
    "start_time": "2022-07-14T14:09:36.012Z"
   },
   {
    "duration": 9,
    "start_time": "2022-07-14T14:09:36.021Z"
   },
   {
    "duration": 33,
    "start_time": "2022-07-14T14:09:36.032Z"
   },
   {
    "duration": 27,
    "start_time": "2022-07-14T14:09:36.066Z"
   },
   {
    "duration": 25,
    "start_time": "2022-07-14T14:09:36.095Z"
   },
   {
    "duration": 13,
    "start_time": "2022-07-14T14:09:36.121Z"
   },
   {
    "duration": 1093,
    "start_time": "2022-07-14T14:11:29.502Z"
   },
   {
    "duration": 1051,
    "start_time": "2022-07-14T14:12:18.747Z"
   },
   {
    "duration": 79,
    "start_time": "2022-07-14T14:12:19.800Z"
   },
   {
    "duration": 3,
    "start_time": "2022-07-14T14:12:19.881Z"
   },
   {
    "duration": 14,
    "start_time": "2022-07-14T14:12:19.886Z"
   },
   {
    "duration": 11,
    "start_time": "2022-07-14T14:12:19.902Z"
   },
   {
    "duration": 18,
    "start_time": "2022-07-14T14:12:19.915Z"
   },
   {
    "duration": 54,
    "start_time": "2022-07-14T14:12:19.935Z"
   },
   {
    "duration": 8,
    "start_time": "2022-07-14T14:12:19.990Z"
   },
   {
    "duration": 24,
    "start_time": "2022-07-14T14:12:19.999Z"
   },
   {
    "duration": 12,
    "start_time": "2022-07-14T14:12:20.027Z"
   },
   {
    "duration": 22,
    "start_time": "2022-07-14T14:12:20.040Z"
   },
   {
    "duration": 13,
    "start_time": "2022-07-14T14:12:20.063Z"
   },
   {
    "duration": 13,
    "start_time": "2022-07-14T14:12:20.078Z"
   },
   {
    "duration": 8,
    "start_time": "2022-07-14T14:12:20.093Z"
   },
   {
    "duration": 10,
    "start_time": "2022-07-14T14:12:20.102Z"
   },
   {
    "duration": 162,
    "start_time": "2022-07-14T14:12:20.114Z"
   },
   {
    "duration": 11,
    "start_time": "2022-07-14T14:12:20.277Z"
   },
   {
    "duration": 134,
    "start_time": "2022-07-14T14:12:20.289Z"
   },
   {
    "duration": 13,
    "start_time": "2022-07-14T14:12:20.425Z"
   },
   {
    "duration": 27,
    "start_time": "2022-07-14T14:12:20.440Z"
   },
   {
    "duration": 15,
    "start_time": "2022-07-14T14:12:20.469Z"
   },
   {
    "duration": 8,
    "start_time": "2022-07-14T14:12:20.486Z"
   },
   {
    "duration": 9,
    "start_time": "2022-07-14T14:12:20.495Z"
   },
   {
    "duration": 367,
    "start_time": "2022-07-14T14:12:20.506Z"
   },
   {
    "duration": 499,
    "start_time": "2022-07-14T14:12:20.875Z"
   },
   {
    "duration": 530,
    "start_time": "2022-07-14T14:12:21.376Z"
   },
   {
    "duration": 5,
    "start_time": "2022-07-14T14:12:21.963Z"
   },
   {
    "duration": 24,
    "start_time": "2022-07-14T14:12:21.971Z"
   },
   {
    "duration": 474,
    "start_time": "2022-07-14T14:12:21.997Z"
   },
   {
    "duration": 8,
    "start_time": "2022-07-14T14:12:22.472Z"
   },
   {
    "duration": 476,
    "start_time": "2022-07-14T14:12:22.481Z"
   },
   {
    "duration": 8,
    "start_time": "2022-07-14T14:12:22.963Z"
   },
   {
    "duration": 17,
    "start_time": "2022-07-14T14:12:22.972Z"
   },
   {
    "duration": 28,
    "start_time": "2022-07-14T14:12:22.990Z"
   },
   {
    "duration": 157,
    "start_time": "2022-07-14T14:12:23.020Z"
   },
   {
    "duration": 5,
    "start_time": "2022-07-14T14:12:23.178Z"
   },
   {
    "duration": 160,
    "start_time": "2022-07-14T14:12:23.185Z"
   },
   {
    "duration": 186,
    "start_time": "2022-07-14T14:12:23.346Z"
   },
   {
    "duration": 5,
    "start_time": "2022-07-14T14:12:23.533Z"
   },
   {
    "duration": 200,
    "start_time": "2022-07-14T14:12:23.540Z"
   },
   {
    "duration": 29,
    "start_time": "2022-07-14T14:12:23.742Z"
   },
   {
    "duration": 10,
    "start_time": "2022-07-14T14:12:23.772Z"
   },
   {
    "duration": 63,
    "start_time": "2022-07-14T14:12:23.783Z"
   },
   {
    "duration": 85,
    "start_time": "2022-07-14T14:12:23.848Z"
   },
   {
    "duration": 9,
    "start_time": "2022-07-14T14:12:23.935Z"
   },
   {
    "duration": 23,
    "start_time": "2022-07-14T14:12:23.945Z"
   },
   {
    "duration": 26,
    "start_time": "2022-07-14T14:12:23.970Z"
   },
   {
    "duration": 12,
    "start_time": "2022-07-14T14:12:23.998Z"
   },
   {
    "duration": 7,
    "start_time": "2022-07-14T14:12:24.011Z"
   },
   {
    "duration": 9,
    "start_time": "2022-07-14T14:12:24.020Z"
   },
   {
    "duration": 15,
    "start_time": "2022-07-14T14:12:24.030Z"
   },
   {
    "duration": 8,
    "start_time": "2022-07-14T14:12:24.064Z"
   },
   {
    "duration": 29,
    "start_time": "2022-07-14T14:12:24.073Z"
   },
   {
    "duration": 13,
    "start_time": "2022-07-14T14:12:24.104Z"
   },
   {
    "duration": 1196,
    "start_time": "2022-07-14T14:12:51.287Z"
   },
   {
    "duration": 996,
    "start_time": "2022-07-14T14:13:04.281Z"
   },
   {
    "duration": 81,
    "start_time": "2022-07-14T14:13:05.279Z"
   },
   {
    "duration": 3,
    "start_time": "2022-07-14T14:13:05.361Z"
   },
   {
    "duration": 19,
    "start_time": "2022-07-14T14:13:05.366Z"
   },
   {
    "duration": 13,
    "start_time": "2022-07-14T14:13:05.387Z"
   },
   {
    "duration": 13,
    "start_time": "2022-07-14T14:13:05.401Z"
   },
   {
    "duration": 50,
    "start_time": "2022-07-14T14:13:05.416Z"
   },
   {
    "duration": 8,
    "start_time": "2022-07-14T14:13:05.468Z"
   },
   {
    "duration": 15,
    "start_time": "2022-07-14T14:13:05.477Z"
   },
   {
    "duration": 9,
    "start_time": "2022-07-14T14:13:05.494Z"
   },
   {
    "duration": 14,
    "start_time": "2022-07-14T14:13:05.505Z"
   },
   {
    "duration": 7,
    "start_time": "2022-07-14T14:13:05.521Z"
   },
   {
    "duration": 12,
    "start_time": "2022-07-14T14:13:05.529Z"
   },
   {
    "duration": 10,
    "start_time": "2022-07-14T14:13:05.543Z"
   },
   {
    "duration": 10,
    "start_time": "2022-07-14T14:13:05.564Z"
   },
   {
    "duration": 170,
    "start_time": "2022-07-14T14:13:05.575Z"
   },
   {
    "duration": 20,
    "start_time": "2022-07-14T14:13:05.746Z"
   },
   {
    "duration": 121,
    "start_time": "2022-07-14T14:13:05.768Z"
   },
   {
    "duration": 15,
    "start_time": "2022-07-14T14:13:05.890Z"
   },
   {
    "duration": 11,
    "start_time": "2022-07-14T14:13:05.907Z"
   },
   {
    "duration": 18,
    "start_time": "2022-07-14T14:13:05.919Z"
   },
   {
    "duration": 8,
    "start_time": "2022-07-14T14:13:05.938Z"
   },
   {
    "duration": 16,
    "start_time": "2022-07-14T14:13:05.948Z"
   },
   {
    "duration": 518,
    "start_time": "2022-07-14T14:13:05.965Z"
   },
   {
    "duration": 482,
    "start_time": "2022-07-14T14:13:06.485Z"
   },
   {
    "duration": 440,
    "start_time": "2022-07-14T14:13:06.968Z"
   },
   {
    "duration": 56,
    "start_time": "2022-07-14T14:13:07.410Z"
   },
   {
    "duration": 20,
    "start_time": "2022-07-14T14:13:07.470Z"
   },
   {
    "duration": 418,
    "start_time": "2022-07-14T14:13:07.492Z"
   },
   {
    "duration": 8,
    "start_time": "2022-07-14T14:13:07.912Z"
   },
   {
    "duration": 391,
    "start_time": "2022-07-14T14:13:07.922Z"
   },
   {
    "duration": 5,
    "start_time": "2022-07-14T14:13:08.315Z"
   },
   {
    "duration": 7,
    "start_time": "2022-07-14T14:13:08.322Z"
   },
   {
    "duration": 12,
    "start_time": "2022-07-14T14:13:08.330Z"
   },
   {
    "duration": 159,
    "start_time": "2022-07-14T14:13:08.344Z"
   },
   {
    "duration": 4,
    "start_time": "2022-07-14T14:13:08.505Z"
   },
   {
    "duration": 176,
    "start_time": "2022-07-14T14:13:08.510Z"
   },
   {
    "duration": 208,
    "start_time": "2022-07-14T14:13:08.688Z"
   },
   {
    "duration": 6,
    "start_time": "2022-07-14T14:13:08.898Z"
   },
   {
    "duration": 199,
    "start_time": "2022-07-14T14:13:08.906Z"
   },
   {
    "duration": 21,
    "start_time": "2022-07-14T14:13:09.106Z"
   },
   {
    "duration": 10,
    "start_time": "2022-07-14T14:13:09.128Z"
   },
   {
    "duration": 99,
    "start_time": "2022-07-14T14:13:09.139Z"
   },
   {
    "duration": 85,
    "start_time": "2022-07-14T14:13:09.240Z"
   },
   {
    "duration": 9,
    "start_time": "2022-07-14T14:13:09.326Z"
   },
   {
    "duration": 9,
    "start_time": "2022-07-14T14:13:09.337Z"
   },
   {
    "duration": 38,
    "start_time": "2022-07-14T14:13:09.348Z"
   },
   {
    "duration": 13,
    "start_time": "2022-07-14T14:13:09.387Z"
   },
   {
    "duration": 9,
    "start_time": "2022-07-14T14:13:09.402Z"
   },
   {
    "duration": 13,
    "start_time": "2022-07-14T14:13:09.413Z"
   },
   {
    "duration": 6,
    "start_time": "2022-07-14T14:13:09.427Z"
   },
   {
    "duration": 11,
    "start_time": "2022-07-14T14:13:09.435Z"
   },
   {
    "duration": 23,
    "start_time": "2022-07-14T14:13:09.463Z"
   },
   {
    "duration": 13,
    "start_time": "2022-07-14T14:13:09.488Z"
   },
   {
    "duration": 93,
    "start_time": "2022-07-14T14:14:54.209Z"
   },
   {
    "duration": 1083,
    "start_time": "2022-07-14T14:16:00.725Z"
   },
   {
    "duration": 91,
    "start_time": "2022-07-14T14:16:01.810Z"
   },
   {
    "duration": 2,
    "start_time": "2022-07-14T14:16:01.903Z"
   },
   {
    "duration": 18,
    "start_time": "2022-07-14T14:16:01.907Z"
   },
   {
    "duration": 13,
    "start_time": "2022-07-14T14:16:01.927Z"
   },
   {
    "duration": 26,
    "start_time": "2022-07-14T14:16:01.942Z"
   },
   {
    "duration": 55,
    "start_time": "2022-07-14T14:16:01.970Z"
   },
   {
    "duration": 9,
    "start_time": "2022-07-14T14:16:02.027Z"
   },
   {
    "duration": 16,
    "start_time": "2022-07-14T14:16:02.037Z"
   },
   {
    "duration": 12,
    "start_time": "2022-07-14T14:16:02.056Z"
   },
   {
    "duration": 19,
    "start_time": "2022-07-14T14:16:02.069Z"
   },
   {
    "duration": 9,
    "start_time": "2022-07-14T14:16:02.089Z"
   },
   {
    "duration": 13,
    "start_time": "2022-07-14T14:16:02.100Z"
   },
   {
    "duration": 11,
    "start_time": "2022-07-14T14:16:02.114Z"
   },
   {
    "duration": 14,
    "start_time": "2022-07-14T14:16:02.126Z"
   },
   {
    "duration": 168,
    "start_time": "2022-07-14T14:16:02.141Z"
   },
   {
    "duration": 10,
    "start_time": "2022-07-14T14:16:02.311Z"
   },
   {
    "duration": 115,
    "start_time": "2022-07-14T14:16:02.323Z"
   },
   {
    "duration": 11,
    "start_time": "2022-07-14T14:16:02.440Z"
   },
   {
    "duration": 16,
    "start_time": "2022-07-14T14:16:02.452Z"
   },
   {
    "duration": 20,
    "start_time": "2022-07-14T14:16:02.470Z"
   },
   {
    "duration": 8,
    "start_time": "2022-07-14T14:16:02.491Z"
   },
   {
    "duration": 11,
    "start_time": "2022-07-14T14:16:02.500Z"
   },
   {
    "duration": 698,
    "start_time": "2022-07-14T14:16:02.513Z"
   },
   {
    "duration": 501,
    "start_time": "2022-07-14T14:16:03.265Z"
   },
   {
    "duration": 609,
    "start_time": "2022-07-14T14:16:03.769Z"
   },
   {
    "duration": 4,
    "start_time": "2022-07-14T14:16:04.379Z"
   },
   {
    "duration": 7,
    "start_time": "2022-07-14T14:16:04.386Z"
   },
   {
    "duration": 278,
    "start_time": "2022-07-14T14:16:04.394Z"
   },
   {
    "duration": 7,
    "start_time": "2022-07-14T14:16:04.674Z"
   },
   {
    "duration": 331,
    "start_time": "2022-07-14T14:16:04.683Z"
   },
   {
    "duration": 8,
    "start_time": "2022-07-14T14:16:05.016Z"
   },
   {
    "duration": 8,
    "start_time": "2022-07-14T14:16:05.026Z"
   },
   {
    "duration": 21,
    "start_time": "2022-07-14T14:16:05.036Z"
   },
   {
    "duration": 160,
    "start_time": "2022-07-14T14:16:05.064Z"
   },
   {
    "duration": 6,
    "start_time": "2022-07-14T14:16:05.225Z"
   },
   {
    "duration": 172,
    "start_time": "2022-07-14T14:16:05.232Z"
   },
   {
    "duration": 210,
    "start_time": "2022-07-14T14:16:05.406Z"
   },
   {
    "duration": 6,
    "start_time": "2022-07-14T14:16:05.617Z"
   },
   {
    "duration": 198,
    "start_time": "2022-07-14T14:16:05.625Z"
   },
   {
    "duration": 21,
    "start_time": "2022-07-14T14:16:05.824Z"
   },
   {
    "duration": 18,
    "start_time": "2022-07-14T14:16:05.847Z"
   },
   {
    "duration": 66,
    "start_time": "2022-07-14T14:16:05.867Z"
   },
   {
    "duration": 93,
    "start_time": "2022-07-14T14:16:05.935Z"
   },
   {
    "duration": 11,
    "start_time": "2022-07-14T14:16:06.030Z"
   },
   {
    "duration": 24,
    "start_time": "2022-07-14T14:16:06.043Z"
   },
   {
    "duration": 26,
    "start_time": "2022-07-14T14:16:06.069Z"
   },
   {
    "duration": 10,
    "start_time": "2022-07-14T14:16:06.097Z"
   },
   {
    "duration": 8,
    "start_time": "2022-07-14T14:16:06.109Z"
   },
   {
    "duration": 13,
    "start_time": "2022-07-14T14:16:06.118Z"
   },
   {
    "duration": 10,
    "start_time": "2022-07-14T14:16:06.132Z"
   },
   {
    "duration": 25,
    "start_time": "2022-07-14T14:16:06.143Z"
   },
   {
    "duration": 28,
    "start_time": "2022-07-14T14:16:06.170Z"
   },
   {
    "duration": 14,
    "start_time": "2022-07-14T14:16:06.199Z"
   },
   {
    "duration": 1028,
    "start_time": "2022-07-14T14:21:08.752Z"
   },
   {
    "duration": 88,
    "start_time": "2022-07-14T14:21:09.781Z"
   },
   {
    "duration": 8,
    "start_time": "2022-07-14T14:21:09.871Z"
   },
   {
    "duration": 22,
    "start_time": "2022-07-14T14:21:09.882Z"
   },
   {
    "duration": 15,
    "start_time": "2022-07-14T14:21:09.906Z"
   },
   {
    "duration": 15,
    "start_time": "2022-07-14T14:21:09.923Z"
   },
   {
    "duration": 50,
    "start_time": "2022-07-14T14:21:09.940Z"
   },
   {
    "duration": 9,
    "start_time": "2022-07-14T14:21:09.992Z"
   },
   {
    "duration": 17,
    "start_time": "2022-07-14T14:21:10.003Z"
   },
   {
    "duration": 21,
    "start_time": "2022-07-14T14:21:10.023Z"
   },
   {
    "duration": 17,
    "start_time": "2022-07-14T14:21:10.046Z"
   },
   {
    "duration": 11,
    "start_time": "2022-07-14T14:21:10.065Z"
   },
   {
    "duration": 9,
    "start_time": "2022-07-14T14:21:10.078Z"
   },
   {
    "duration": 20,
    "start_time": "2022-07-14T14:21:10.089Z"
   },
   {
    "duration": 16,
    "start_time": "2022-07-14T14:21:10.111Z"
   },
   {
    "duration": 188,
    "start_time": "2022-07-14T14:21:10.129Z"
   },
   {
    "duration": 11,
    "start_time": "2022-07-14T14:21:10.319Z"
   },
   {
    "duration": 180,
    "start_time": "2022-07-14T14:21:10.332Z"
   },
   {
    "duration": 11,
    "start_time": "2022-07-14T14:21:10.514Z"
   },
   {
    "duration": 15,
    "start_time": "2022-07-14T14:21:10.527Z"
   },
   {
    "duration": 28,
    "start_time": "2022-07-14T14:21:10.543Z"
   },
   {
    "duration": 5,
    "start_time": "2022-07-14T14:21:10.572Z"
   },
   {
    "duration": 15,
    "start_time": "2022-07-14T14:21:10.578Z"
   },
   {
    "duration": 334,
    "start_time": "2022-07-14T14:21:10.595Z"
   },
   {
    "duration": 436,
    "start_time": "2022-07-14T14:21:10.931Z"
   },
   {
    "duration": 535,
    "start_time": "2022-07-14T14:21:11.368Z"
   },
   {
    "duration": 4,
    "start_time": "2022-07-14T14:21:11.905Z"
   },
   {
    "duration": 5,
    "start_time": "2022-07-14T14:21:11.965Z"
   },
   {
    "duration": 437,
    "start_time": "2022-07-14T14:21:11.972Z"
   },
   {
    "duration": 8,
    "start_time": "2022-07-14T14:21:12.463Z"
   },
   {
    "duration": 596,
    "start_time": "2022-07-14T14:21:12.473Z"
   },
   {
    "duration": 6,
    "start_time": "2022-07-14T14:21:13.071Z"
   },
   {
    "duration": 17,
    "start_time": "2022-07-14T14:21:13.078Z"
   },
   {
    "duration": 16,
    "start_time": "2022-07-14T14:21:13.096Z"
   },
   {
    "duration": 145,
    "start_time": "2022-07-14T14:21:13.114Z"
   },
   {
    "duration": 6,
    "start_time": "2022-07-14T14:21:13.261Z"
   },
   {
    "duration": 183,
    "start_time": "2022-07-14T14:21:13.268Z"
   },
   {
    "duration": 235,
    "start_time": "2022-07-14T14:21:13.453Z"
   },
   {
    "duration": 5,
    "start_time": "2022-07-14T14:21:13.689Z"
   },
   {
    "duration": 210,
    "start_time": "2022-07-14T14:21:13.696Z"
   },
   {
    "duration": 21,
    "start_time": "2022-07-14T14:21:13.908Z"
   },
   {
    "duration": 11,
    "start_time": "2022-07-14T14:21:13.930Z"
   },
   {
    "duration": 83,
    "start_time": "2022-07-14T14:21:13.942Z"
   },
   {
    "duration": 82,
    "start_time": "2022-07-14T14:21:14.027Z"
   },
   {
    "duration": 9,
    "start_time": "2022-07-14T14:21:14.111Z"
   },
   {
    "duration": 14,
    "start_time": "2022-07-14T14:21:14.122Z"
   },
   {
    "duration": 45,
    "start_time": "2022-07-14T14:21:14.138Z"
   },
   {
    "duration": 11,
    "start_time": "2022-07-14T14:21:14.186Z"
   },
   {
    "duration": 8,
    "start_time": "2022-07-14T14:21:14.198Z"
   },
   {
    "duration": 11,
    "start_time": "2022-07-14T14:21:14.207Z"
   },
   {
    "duration": 8,
    "start_time": "2022-07-14T14:21:14.219Z"
   },
   {
    "duration": 10,
    "start_time": "2022-07-14T14:21:14.228Z"
   },
   {
    "duration": 44,
    "start_time": "2022-07-14T14:21:14.240Z"
   },
   {
    "duration": 14,
    "start_time": "2022-07-14T14:21:14.286Z"
   },
   {
    "duration": 9,
    "start_time": "2022-07-14T14:24:35.697Z"
   },
   {
    "duration": 8,
    "start_time": "2022-07-14T14:26:41.243Z"
   },
   {
    "duration": 5,
    "start_time": "2022-07-14T14:27:08.685Z"
   },
   {
    "duration": 6,
    "start_time": "2022-07-14T14:27:20.198Z"
   },
   {
    "duration": 5,
    "start_time": "2022-07-14T14:27:34.701Z"
   },
   {
    "duration": 5,
    "start_time": "2022-07-14T14:27:37.451Z"
   },
   {
    "duration": 5,
    "start_time": "2022-07-14T14:27:40.675Z"
   },
   {
    "duration": 5,
    "start_time": "2022-07-14T14:28:18.127Z"
   },
   {
    "duration": 5,
    "start_time": "2022-07-14T14:28:19.062Z"
   },
   {
    "duration": 1057,
    "start_time": "2022-07-14T14:39:13.482Z"
   },
   {
    "duration": 84,
    "start_time": "2022-07-14T14:39:14.541Z"
   },
   {
    "duration": 2,
    "start_time": "2022-07-14T14:39:14.627Z"
   },
   {
    "duration": 11,
    "start_time": "2022-07-14T14:39:14.632Z"
   },
   {
    "duration": 30,
    "start_time": "2022-07-14T14:39:14.645Z"
   },
   {
    "duration": 14,
    "start_time": "2022-07-14T14:39:14.676Z"
   },
   {
    "duration": 50,
    "start_time": "2022-07-14T14:39:14.692Z"
   },
   {
    "duration": 8,
    "start_time": "2022-07-14T14:39:14.743Z"
   },
   {
    "duration": 39,
    "start_time": "2022-07-14T14:39:14.752Z"
   },
   {
    "duration": 12,
    "start_time": "2022-07-14T14:39:14.794Z"
   },
   {
    "duration": 11,
    "start_time": "2022-07-14T14:39:14.807Z"
   },
   {
    "duration": 7,
    "start_time": "2022-07-14T14:39:14.820Z"
   },
   {
    "duration": 8,
    "start_time": "2022-07-14T14:39:14.828Z"
   },
   {
    "duration": 7,
    "start_time": "2022-07-14T14:39:14.837Z"
   },
   {
    "duration": 6,
    "start_time": "2022-07-14T14:39:14.845Z"
   },
   {
    "duration": 14,
    "start_time": "2022-07-14T14:39:14.853Z"
   },
   {
    "duration": 20,
    "start_time": "2022-07-14T14:39:14.869Z"
   },
   {
    "duration": 7,
    "start_time": "2022-07-14T14:39:14.890Z"
   },
   {
    "duration": 13,
    "start_time": "2022-07-14T14:39:14.899Z"
   },
   {
    "duration": 16,
    "start_time": "2022-07-14T14:39:14.914Z"
   },
   {
    "duration": 175,
    "start_time": "2022-07-14T14:39:14.932Z"
   },
   {
    "duration": 10,
    "start_time": "2022-07-14T14:39:15.109Z"
   },
   {
    "duration": 129,
    "start_time": "2022-07-14T14:39:15.121Z"
   },
   {
    "duration": 17,
    "start_time": "2022-07-14T14:39:15.252Z"
   },
   {
    "duration": 19,
    "start_time": "2022-07-14T14:39:15.272Z"
   },
   {
    "duration": 25,
    "start_time": "2022-07-14T14:39:15.293Z"
   },
   {
    "duration": 6,
    "start_time": "2022-07-14T14:39:15.320Z"
   },
   {
    "duration": 9,
    "start_time": "2022-07-14T14:39:15.329Z"
   },
   {
    "duration": 339,
    "start_time": "2022-07-14T14:39:15.340Z"
   },
   {
    "duration": 247,
    "start_time": "2022-07-14T14:39:15.681Z"
   },
   {
    "duration": 369,
    "start_time": "2022-07-14T14:39:15.930Z"
   },
   {
    "duration": 4,
    "start_time": "2022-07-14T14:39:16.301Z"
   },
   {
    "duration": 8,
    "start_time": "2022-07-14T14:39:16.306Z"
   },
   {
    "duration": 240,
    "start_time": "2022-07-14T14:39:16.316Z"
   },
   {
    "duration": 12,
    "start_time": "2022-07-14T14:39:16.558Z"
   },
   {
    "duration": 343,
    "start_time": "2022-07-14T14:39:16.572Z"
   },
   {
    "duration": 6,
    "start_time": "2022-07-14T14:39:16.917Z"
   },
   {
    "duration": 6,
    "start_time": "2022-07-14T14:39:16.924Z"
   },
   {
    "duration": 35,
    "start_time": "2022-07-14T14:39:16.932Z"
   },
   {
    "duration": 342,
    "start_time": "2022-07-14T14:39:16.969Z"
   },
   {
    "duration": 7,
    "start_time": "2022-07-14T14:39:17.363Z"
   },
   {
    "duration": 415,
    "start_time": "2022-07-14T14:39:17.372Z"
   },
   {
    "duration": 431,
    "start_time": "2022-07-14T14:39:17.789Z"
   },
   {
    "duration": 45,
    "start_time": "2022-07-14T14:39:18.222Z"
   },
   {
    "duration": 507,
    "start_time": "2022-07-14T14:39:18.269Z"
   },
   {
    "duration": 23,
    "start_time": "2022-07-14T14:39:18.778Z"
   },
   {
    "duration": 74,
    "start_time": "2022-07-14T14:39:18.803Z"
   },
   {
    "duration": 195,
    "start_time": "2022-07-14T14:39:18.879Z"
   },
   {
    "duration": 93,
    "start_time": "2022-07-14T14:39:19.077Z"
   },
   {
    "duration": 12,
    "start_time": "2022-07-14T14:39:19.173Z"
   },
   {
    "duration": 7,
    "start_time": "2022-07-14T14:39:19.186Z"
   },
   {
    "duration": 24,
    "start_time": "2022-07-14T14:39:19.194Z"
   },
   {
    "duration": 10,
    "start_time": "2022-07-14T14:39:19.220Z"
   },
   {
    "duration": 33,
    "start_time": "2022-07-14T14:39:19.231Z"
   },
   {
    "duration": 24,
    "start_time": "2022-07-14T14:39:19.266Z"
   },
   {
    "duration": 8,
    "start_time": "2022-07-14T14:39:19.292Z"
   },
   {
    "duration": 14,
    "start_time": "2022-07-14T14:39:19.301Z"
   },
   {
    "duration": 24,
    "start_time": "2022-07-14T14:39:19.316Z"
   },
   {
    "duration": 13,
    "start_time": "2022-07-14T14:39:19.341Z"
   },
   {
    "duration": 1056,
    "start_time": "2022-07-14T14:58:58.666Z"
   },
   {
    "duration": 88,
    "start_time": "2022-07-14T14:58:59.723Z"
   },
   {
    "duration": 3,
    "start_time": "2022-07-14T14:58:59.812Z"
   },
   {
    "duration": 21,
    "start_time": "2022-07-14T14:58:59.816Z"
   },
   {
    "duration": 18,
    "start_time": "2022-07-14T14:58:59.840Z"
   },
   {
    "duration": 17,
    "start_time": "2022-07-14T14:58:59.860Z"
   },
   {
    "duration": 65,
    "start_time": "2022-07-14T14:58:59.879Z"
   },
   {
    "duration": 7,
    "start_time": "2022-07-14T14:58:59.945Z"
   },
   {
    "duration": 18,
    "start_time": "2022-07-14T14:58:59.954Z"
   },
   {
    "duration": 20,
    "start_time": "2022-07-14T14:58:59.974Z"
   },
   {
    "duration": 16,
    "start_time": "2022-07-14T14:58:59.996Z"
   },
   {
    "duration": 24,
    "start_time": "2022-07-14T14:59:00.014Z"
   },
   {
    "duration": 16,
    "start_time": "2022-07-14T14:59:00.040Z"
   },
   {
    "duration": 10,
    "start_time": "2022-07-14T14:59:00.059Z"
   },
   {
    "duration": 18,
    "start_time": "2022-07-14T14:59:00.071Z"
   },
   {
    "duration": 11,
    "start_time": "2022-07-14T14:59:00.091Z"
   },
   {
    "duration": 11,
    "start_time": "2022-07-14T14:59:00.103Z"
   },
   {
    "duration": 10,
    "start_time": "2022-07-14T14:59:00.116Z"
   },
   {
    "duration": 12,
    "start_time": "2022-07-14T14:59:00.127Z"
   },
   {
    "duration": 14,
    "start_time": "2022-07-14T14:59:00.141Z"
   },
   {
    "duration": 192,
    "start_time": "2022-07-14T14:59:00.156Z"
   },
   {
    "duration": 18,
    "start_time": "2022-07-14T14:59:00.350Z"
   },
   {
    "duration": 153,
    "start_time": "2022-07-14T14:59:00.370Z"
   },
   {
    "duration": 40,
    "start_time": "2022-07-14T14:59:00.525Z"
   },
   {
    "duration": 38,
    "start_time": "2022-07-14T14:59:00.567Z"
   },
   {
    "duration": 43,
    "start_time": "2022-07-14T14:59:00.607Z"
   },
   {
    "duration": 53,
    "start_time": "2022-07-14T14:59:00.652Z"
   },
   {
    "duration": 35,
    "start_time": "2022-07-14T14:59:00.706Z"
   },
   {
    "duration": 621,
    "start_time": "2022-07-14T14:59:00.743Z"
   },
   {
    "duration": 532,
    "start_time": "2022-07-14T14:59:01.366Z"
   },
   {
    "duration": 593,
    "start_time": "2022-07-14T14:59:01.900Z"
   },
   {
    "duration": 4,
    "start_time": "2022-07-14T14:59:02.495Z"
   },
   {
    "duration": 69,
    "start_time": "2022-07-14T14:59:02.501Z"
   },
   {
    "duration": 449,
    "start_time": "2022-07-14T14:59:02.573Z"
   },
   {
    "duration": 8,
    "start_time": "2022-07-14T14:59:03.023Z"
   },
   {
    "duration": 372,
    "start_time": "2022-07-14T14:59:03.033Z"
   },
   {
    "duration": 8,
    "start_time": "2022-07-14T14:59:03.406Z"
   },
   {
    "duration": 16,
    "start_time": "2022-07-14T14:59:03.415Z"
   },
   {
    "duration": 25,
    "start_time": "2022-07-14T14:59:03.433Z"
   },
   {
    "duration": 165,
    "start_time": "2022-07-14T14:59:03.460Z"
   },
   {
    "duration": 5,
    "start_time": "2022-07-14T14:59:03.629Z"
   },
   {
    "duration": 177,
    "start_time": "2022-07-14T14:59:03.635Z"
   },
   {
    "duration": 201,
    "start_time": "2022-07-14T14:59:03.814Z"
   },
   {
    "duration": 5,
    "start_time": "2022-07-14T14:59:04.017Z"
   },
   {
    "duration": 203,
    "start_time": "2022-07-14T14:59:04.023Z"
   },
   {
    "duration": 22,
    "start_time": "2022-07-14T14:59:04.227Z"
   },
   {
    "duration": 51,
    "start_time": "2022-07-14T14:59:04.251Z"
   },
   {
    "duration": 92,
    "start_time": "2022-07-14T14:59:04.304Z"
   },
   {
    "duration": 78,
    "start_time": "2022-07-14T14:59:04.398Z"
   },
   {
    "duration": 9,
    "start_time": "2022-07-14T14:59:04.479Z"
   },
   {
    "duration": 44,
    "start_time": "2022-07-14T14:59:04.489Z"
   },
   {
    "duration": 45,
    "start_time": "2022-07-14T14:59:04.534Z"
   },
   {
    "duration": 10,
    "start_time": "2022-07-14T14:59:04.581Z"
   },
   {
    "duration": 13,
    "start_time": "2022-07-14T14:59:04.592Z"
   },
   {
    "duration": 24,
    "start_time": "2022-07-14T14:59:04.607Z"
   },
   {
    "duration": 24,
    "start_time": "2022-07-14T14:59:04.633Z"
   },
   {
    "duration": 29,
    "start_time": "2022-07-14T14:59:04.658Z"
   },
   {
    "duration": 39,
    "start_time": "2022-07-14T14:59:04.689Z"
   },
   {
    "duration": 14,
    "start_time": "2022-07-14T14:59:04.731Z"
   },
   {
    "duration": 1014,
    "start_time": "2022-07-14T15:03:59.416Z"
   },
   {
    "duration": 101,
    "start_time": "2022-07-14T15:04:00.433Z"
   },
   {
    "duration": 3,
    "start_time": "2022-07-14T15:04:00.535Z"
   },
   {
    "duration": 20,
    "start_time": "2022-07-14T15:04:00.540Z"
   },
   {
    "duration": 29,
    "start_time": "2022-07-14T15:04:00.563Z"
   },
   {
    "duration": 17,
    "start_time": "2022-07-14T15:04:00.593Z"
   },
   {
    "duration": 68,
    "start_time": "2022-07-14T15:04:00.612Z"
   },
   {
    "duration": 11,
    "start_time": "2022-07-14T15:04:00.681Z"
   },
   {
    "duration": 28,
    "start_time": "2022-07-14T15:04:00.694Z"
   },
   {
    "duration": 36,
    "start_time": "2022-07-14T15:04:00.724Z"
   },
   {
    "duration": 41,
    "start_time": "2022-07-14T15:04:00.763Z"
   },
   {
    "duration": 25,
    "start_time": "2022-07-14T15:04:00.806Z"
   },
   {
    "duration": 45,
    "start_time": "2022-07-14T15:04:00.833Z"
   },
   {
    "duration": 30,
    "start_time": "2022-07-14T15:04:00.881Z"
   },
   {
    "duration": 21,
    "start_time": "2022-07-14T15:04:00.913Z"
   },
   {
    "duration": 23,
    "start_time": "2022-07-14T15:04:00.936Z"
   },
   {
    "duration": 34,
    "start_time": "2022-07-14T15:04:00.962Z"
   },
   {
    "duration": 15,
    "start_time": "2022-07-14T15:04:00.998Z"
   },
   {
    "duration": 20,
    "start_time": "2022-07-14T15:04:01.015Z"
   },
   {
    "duration": 49,
    "start_time": "2022-07-14T15:04:01.037Z"
   },
   {
    "duration": 170,
    "start_time": "2022-07-14T15:04:01.088Z"
   },
   {
    "duration": 21,
    "start_time": "2022-07-14T15:04:01.260Z"
   },
   {
    "duration": 168,
    "start_time": "2022-07-14T15:04:01.283Z"
   },
   {
    "duration": 24,
    "start_time": "2022-07-14T15:04:01.452Z"
   },
   {
    "duration": 27,
    "start_time": "2022-07-14T15:04:01.478Z"
   },
   {
    "duration": 33,
    "start_time": "2022-07-14T15:04:01.507Z"
   },
   {
    "duration": 23,
    "start_time": "2022-07-14T15:04:01.542Z"
   },
   {
    "duration": 54,
    "start_time": "2022-07-14T15:04:01.568Z"
   },
   {
    "duration": 433,
    "start_time": "2022-07-14T15:04:01.624Z"
   },
   {
    "duration": 247,
    "start_time": "2022-07-14T15:04:02.063Z"
   },
   {
    "duration": 359,
    "start_time": "2022-07-14T15:04:02.311Z"
   },
   {
    "duration": 6,
    "start_time": "2022-07-14T15:04:02.672Z"
   },
   {
    "duration": 20,
    "start_time": "2022-07-14T15:04:02.680Z"
   },
   {
    "duration": 279,
    "start_time": "2022-07-14T15:04:02.703Z"
   },
   {
    "duration": 9,
    "start_time": "2022-07-14T15:04:02.983Z"
   },
   {
    "duration": 340,
    "start_time": "2022-07-14T15:04:02.994Z"
   },
   {
    "duration": 6,
    "start_time": "2022-07-14T15:04:03.336Z"
   },
   {
    "duration": 4,
    "start_time": "2022-07-14T15:04:03.344Z"
   },
   {
    "duration": 19,
    "start_time": "2022-07-14T15:04:03.349Z"
   },
   {
    "duration": 183,
    "start_time": "2022-07-14T15:04:03.370Z"
   },
   {
    "duration": 7,
    "start_time": "2022-07-14T15:04:03.563Z"
   },
   {
    "duration": 180,
    "start_time": "2022-07-14T15:04:03.572Z"
   },
   {
    "duration": 206,
    "start_time": "2022-07-14T15:04:03.754Z"
   },
   {
    "duration": 6,
    "start_time": "2022-07-14T15:04:03.962Z"
   },
   {
    "duration": 210,
    "start_time": "2022-07-14T15:04:03.970Z"
   },
   {
    "duration": 20,
    "start_time": "2022-07-14T15:04:04.181Z"
   },
   {
    "duration": 13,
    "start_time": "2022-07-14T15:04:04.202Z"
   },
   {
    "duration": 91,
    "start_time": "2022-07-14T15:04:04.216Z"
   },
   {
    "duration": 104,
    "start_time": "2022-07-14T15:04:04.309Z"
   },
   {
    "duration": 9,
    "start_time": "2022-07-14T15:04:04.415Z"
   },
   {
    "duration": 10,
    "start_time": "2022-07-14T15:04:04.426Z"
   },
   {
    "duration": 50,
    "start_time": "2022-07-14T15:04:04.437Z"
   },
   {
    "duration": 13,
    "start_time": "2022-07-14T15:04:04.489Z"
   },
   {
    "duration": 7,
    "start_time": "2022-07-14T15:04:04.504Z"
   },
   {
    "duration": 11,
    "start_time": "2022-07-14T15:04:04.513Z"
   },
   {
    "duration": 7,
    "start_time": "2022-07-14T15:04:04.525Z"
   },
   {
    "duration": 34,
    "start_time": "2022-07-14T15:04:04.534Z"
   },
   {
    "duration": 26,
    "start_time": "2022-07-14T15:04:04.571Z"
   },
   {
    "duration": 14,
    "start_time": "2022-07-14T15:04:04.599Z"
   },
   {
    "duration": 1063,
    "start_time": "2022-07-14T15:10:28.839Z"
   },
   {
    "duration": 86,
    "start_time": "2022-07-14T15:10:29.904Z"
   },
   {
    "duration": 2,
    "start_time": "2022-07-14T15:10:29.992Z"
   },
   {
    "duration": 15,
    "start_time": "2022-07-14T15:10:29.997Z"
   },
   {
    "duration": 27,
    "start_time": "2022-07-14T15:10:30.014Z"
   },
   {
    "duration": 20,
    "start_time": "2022-07-14T15:10:30.044Z"
   },
   {
    "duration": 70,
    "start_time": "2022-07-14T15:10:30.066Z"
   },
   {
    "duration": 7,
    "start_time": "2022-07-14T15:10:30.138Z"
   },
   {
    "duration": 14,
    "start_time": "2022-07-14T15:10:30.147Z"
   },
   {
    "duration": 21,
    "start_time": "2022-07-14T15:10:30.164Z"
   },
   {
    "duration": 17,
    "start_time": "2022-07-14T15:10:30.186Z"
   },
   {
    "duration": 10,
    "start_time": "2022-07-14T15:10:30.205Z"
   },
   {
    "duration": 9,
    "start_time": "2022-07-14T15:10:30.216Z"
   },
   {
    "duration": 10,
    "start_time": "2022-07-14T15:10:30.227Z"
   },
   {
    "duration": 8,
    "start_time": "2022-07-14T15:10:30.239Z"
   },
   {
    "duration": 9,
    "start_time": "2022-07-14T15:10:30.248Z"
   },
   {
    "duration": 17,
    "start_time": "2022-07-14T15:10:30.259Z"
   },
   {
    "duration": 8,
    "start_time": "2022-07-14T15:10:30.278Z"
   },
   {
    "duration": 10,
    "start_time": "2022-07-14T15:10:30.287Z"
   },
   {
    "duration": 13,
    "start_time": "2022-07-14T15:10:30.298Z"
   },
   {
    "duration": 187,
    "start_time": "2022-07-14T15:10:30.312Z"
   },
   {
    "duration": 11,
    "start_time": "2022-07-14T15:10:30.501Z"
   },
   {
    "duration": 150,
    "start_time": "2022-07-14T15:10:30.514Z"
   },
   {
    "duration": 16,
    "start_time": "2022-07-14T15:10:30.666Z"
   },
   {
    "duration": 40,
    "start_time": "2022-07-14T15:10:30.683Z"
   },
   {
    "duration": 35,
    "start_time": "2022-07-14T15:10:30.725Z"
   },
   {
    "duration": 36,
    "start_time": "2022-07-14T15:10:30.762Z"
   },
   {
    "duration": 49,
    "start_time": "2022-07-14T15:10:30.802Z"
   },
   {
    "duration": 358,
    "start_time": "2022-07-14T15:10:30.853Z"
   },
   {
    "duration": 248,
    "start_time": "2022-07-14T15:10:31.213Z"
   },
   {
    "duration": 347,
    "start_time": "2022-07-14T15:10:31.463Z"
   },
   {
    "duration": 4,
    "start_time": "2022-07-14T15:10:31.812Z"
   },
   {
    "duration": 16,
    "start_time": "2022-07-14T15:10:31.818Z"
   },
   {
    "duration": 228,
    "start_time": "2022-07-14T15:10:31.836Z"
   },
   {
    "duration": 14,
    "start_time": "2022-07-14T15:10:32.067Z"
   },
   {
    "duration": 326,
    "start_time": "2022-07-14T15:10:32.082Z"
   },
   {
    "duration": 7,
    "start_time": "2022-07-14T15:10:32.410Z"
   },
   {
    "duration": 7,
    "start_time": "2022-07-14T15:10:32.418Z"
   },
   {
    "duration": 14,
    "start_time": "2022-07-14T15:10:32.426Z"
   },
   {
    "duration": 201,
    "start_time": "2022-07-14T15:10:32.442Z"
   },
   {
    "duration": 6,
    "start_time": "2022-07-14T15:10:32.647Z"
   },
   {
    "duration": 215,
    "start_time": "2022-07-14T15:10:32.664Z"
   },
   {
    "duration": 200,
    "start_time": "2022-07-14T15:10:32.880Z"
   },
   {
    "duration": 5,
    "start_time": "2022-07-14T15:10:33.082Z"
   },
   {
    "duration": 199,
    "start_time": "2022-07-14T15:10:33.088Z"
   },
   {
    "duration": 19,
    "start_time": "2022-07-14T15:10:33.289Z"
   },
   {
    "duration": 10,
    "start_time": "2022-07-14T15:10:33.310Z"
   },
   {
    "duration": 85,
    "start_time": "2022-07-14T15:10:33.321Z"
   },
   {
    "duration": 91,
    "start_time": "2022-07-14T15:10:33.408Z"
   },
   {
    "duration": 8,
    "start_time": "2022-07-14T15:10:33.501Z"
   },
   {
    "duration": 9,
    "start_time": "2022-07-14T15:10:33.511Z"
   },
   {
    "duration": 23,
    "start_time": "2022-07-14T15:10:33.521Z"
   },
   {
    "duration": 29,
    "start_time": "2022-07-14T15:10:33.545Z"
   },
   {
    "duration": 15,
    "start_time": "2022-07-14T15:10:33.576Z"
   },
   {
    "duration": 12,
    "start_time": "2022-07-14T15:10:33.592Z"
   },
   {
    "duration": 7,
    "start_time": "2022-07-14T15:10:33.605Z"
   },
   {
    "duration": 14,
    "start_time": "2022-07-14T15:10:33.613Z"
   },
   {
    "duration": 22,
    "start_time": "2022-07-14T15:10:33.628Z"
   },
   {
    "duration": 27,
    "start_time": "2022-07-14T15:10:33.652Z"
   },
   {
    "duration": 1132,
    "start_time": "2022-07-14T16:38:22.044Z"
   },
   {
    "duration": 128,
    "start_time": "2022-07-14T16:38:23.179Z"
   },
   {
    "duration": 2,
    "start_time": "2022-07-14T16:38:23.309Z"
   },
   {
    "duration": 15,
    "start_time": "2022-07-14T16:38:23.312Z"
   },
   {
    "duration": 18,
    "start_time": "2022-07-14T16:38:23.329Z"
   },
   {
    "duration": 23,
    "start_time": "2022-07-14T16:38:23.348Z"
   },
   {
    "duration": 195,
    "start_time": "2022-07-14T16:38:23.372Z"
   },
   {
    "duration": 7,
    "start_time": "2022-07-14T16:38:23.569Z"
   },
   {
    "duration": 15,
    "start_time": "2022-07-14T16:38:23.578Z"
   },
   {
    "duration": 9,
    "start_time": "2022-07-14T16:38:23.594Z"
   },
   {
    "duration": 11,
    "start_time": "2022-07-14T16:38:23.605Z"
   },
   {
    "duration": 8,
    "start_time": "2022-07-14T16:38:23.618Z"
   },
   {
    "duration": 9,
    "start_time": "2022-07-14T16:38:23.628Z"
   },
   {
    "duration": 5,
    "start_time": "2022-07-14T16:38:23.639Z"
   },
   {
    "duration": 7,
    "start_time": "2022-07-14T16:38:23.645Z"
   },
   {
    "duration": 6,
    "start_time": "2022-07-14T16:38:23.653Z"
   },
   {
    "duration": 9,
    "start_time": "2022-07-14T16:38:23.660Z"
   },
   {
    "duration": 5,
    "start_time": "2022-07-14T16:38:23.670Z"
   },
   {
    "duration": 9,
    "start_time": "2022-07-14T16:38:23.677Z"
   },
   {
    "duration": 24,
    "start_time": "2022-07-14T16:38:23.688Z"
   },
   {
    "duration": 160,
    "start_time": "2022-07-14T16:38:23.714Z"
   },
   {
    "duration": 10,
    "start_time": "2022-07-14T16:38:23.876Z"
   },
   {
    "duration": 135,
    "start_time": "2022-07-14T16:38:23.888Z"
   },
   {
    "duration": 10,
    "start_time": "2022-07-14T16:38:24.024Z"
   },
   {
    "duration": 10,
    "start_time": "2022-07-14T16:38:24.036Z"
   },
   {
    "duration": 22,
    "start_time": "2022-07-14T16:38:24.047Z"
   },
   {
    "duration": 6,
    "start_time": "2022-07-14T16:38:24.070Z"
   },
   {
    "duration": 11,
    "start_time": "2022-07-14T16:38:24.078Z"
   },
   {
    "duration": 313,
    "start_time": "2022-07-14T16:38:24.091Z"
   },
   {
    "duration": 219,
    "start_time": "2022-07-14T16:38:24.406Z"
   },
   {
    "duration": 328,
    "start_time": "2022-07-14T16:38:24.626Z"
   },
   {
    "duration": 3,
    "start_time": "2022-07-14T16:38:24.956Z"
   },
   {
    "duration": 13,
    "start_time": "2022-07-14T16:38:24.961Z"
   },
   {
    "duration": 222,
    "start_time": "2022-07-14T16:38:24.976Z"
   },
   {
    "duration": 13,
    "start_time": "2022-07-14T16:38:25.199Z"
   },
   {
    "duration": 348,
    "start_time": "2022-07-14T16:38:25.214Z"
   },
   {
    "duration": 8,
    "start_time": "2022-07-14T16:38:25.563Z"
   },
   {
    "duration": 6,
    "start_time": "2022-07-14T16:38:25.573Z"
   },
   {
    "duration": 14,
    "start_time": "2022-07-14T16:38:25.580Z"
   },
   {
    "duration": 156,
    "start_time": "2022-07-14T16:38:25.595Z"
   },
   {
    "duration": 5,
    "start_time": "2022-07-14T16:38:25.755Z"
   },
   {
    "duration": 164,
    "start_time": "2022-07-14T16:38:25.761Z"
   },
   {
    "duration": 201,
    "start_time": "2022-07-14T16:38:25.927Z"
   },
   {
    "duration": 4,
    "start_time": "2022-07-14T16:38:26.130Z"
   },
   {
    "duration": 198,
    "start_time": "2022-07-14T16:38:26.135Z"
   },
   {
    "duration": 19,
    "start_time": "2022-07-14T16:38:26.335Z"
   },
   {
    "duration": 13,
    "start_time": "2022-07-14T16:38:26.356Z"
   },
   {
    "duration": 73,
    "start_time": "2022-07-14T16:38:26.370Z"
   },
   {
    "duration": 78,
    "start_time": "2022-07-14T16:38:26.444Z"
   },
   {
    "duration": 8,
    "start_time": "2022-07-14T16:38:26.524Z"
   },
   {
    "duration": 7,
    "start_time": "2022-07-14T16:38:26.533Z"
   },
   {
    "duration": 24,
    "start_time": "2022-07-14T16:38:26.541Z"
   },
   {
    "duration": 10,
    "start_time": "2022-07-14T16:38:26.567Z"
   },
   {
    "duration": 33,
    "start_time": "2022-07-14T16:38:26.579Z"
   },
   {
    "duration": 12,
    "start_time": "2022-07-14T16:38:26.613Z"
   },
   {
    "duration": 6,
    "start_time": "2022-07-14T16:38:26.626Z"
   },
   {
    "duration": 8,
    "start_time": "2022-07-14T16:38:26.633Z"
   },
   {
    "duration": 25,
    "start_time": "2022-07-14T16:38:26.642Z"
   },
   {
    "duration": 14,
    "start_time": "2022-07-14T16:38:26.668Z"
   }
  ],
  "kernelspec": {
   "display_name": "Python 3 (ipykernel)",
   "language": "python",
   "name": "python3"
  },
  "language_info": {
   "codemirror_mode": {
    "name": "ipython",
    "version": 3
   },
   "file_extension": ".py",
   "mimetype": "text/x-python",
   "name": "python",
   "nbconvert_exporter": "python",
   "pygments_lexer": "ipython3",
   "version": "3.9.7"
  },
  "toc": {
   "base_numbering": 1,
   "nav_menu": {},
   "number_sections": false,
   "sideBar": true,
   "skip_h1_title": false,
   "title_cell": "Содержание",
   "title_sidebar": "Contents",
   "toc_cell": false,
   "toc_position": {
    "height": "calc(100% - 180px)",
    "left": "10px",
    "top": "150px",
    "width": "366.4px"
   },
   "toc_section_display": true,
   "toc_window_display": false
  }
 },
 "nbformat": 4,
 "nbformat_minor": 2
}
