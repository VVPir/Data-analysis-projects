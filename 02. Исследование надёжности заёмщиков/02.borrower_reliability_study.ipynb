{
 "cells": [
  {
   "cell_type": "markdown",
   "id": "1c8cbdc4",
   "metadata": {},
   "source": [
    "# Исследование надежности заемщиков.\n",
    "\n",
    "Заказчик — кредитный отдел банка. Нужно разобраться, влияет ли семейное положение и количество детей клиента на факт погашения кредита в срок. Входные данные от банка — статистика о платёжеспособности клиентов.\n"
   ]
  },
  {
   "cell_type": "markdown",
   "id": "8aecfbf5",
   "metadata": {},
   "source": [
    "### Шаг 1. Обзор данных"
   ]
  },
  {
   "cell_type": "code",
   "execution_count": 1,
   "id": "9a7b7cfc",
   "metadata": {
    "scrolled": false
   },
   "outputs": [],
   "source": [
    "import pandas as pd # импорт библиотеки pandas"
   ]
  },
  {
   "cell_type": "code",
   "execution_count": 2,
   "id": "d72ef5a3",
   "metadata": {},
   "outputs": [],
   "source": [
    "data = pd.read_csv('/datasets/data.csv') # чтение файла с данными и сохранение в data"
   ]
  },
  {
   "cell_type": "code",
   "execution_count": 3,
   "id": "76d9a154",
   "metadata": {},
   "outputs": [
    {
     "data": {
      "text/html": [
       "<div>\n",
       "<style scoped>\n",
       "    .dataframe tbody tr th:only-of-type {\n",
       "        vertical-align: middle;\n",
       "    }\n",
       "\n",
       "    .dataframe tbody tr th {\n",
       "        vertical-align: top;\n",
       "    }\n",
       "\n",
       "    .dataframe thead th {\n",
       "        text-align: right;\n",
       "    }\n",
       "</style>\n",
       "<table border=\"1\" class=\"dataframe\">\n",
       "  <thead>\n",
       "    <tr style=\"text-align: right;\">\n",
       "      <th></th>\n",
       "      <th>children</th>\n",
       "      <th>days_employed</th>\n",
       "      <th>dob_years</th>\n",
       "      <th>education</th>\n",
       "      <th>education_id</th>\n",
       "      <th>family_status</th>\n",
       "      <th>family_status_id</th>\n",
       "      <th>gender</th>\n",
       "      <th>income_type</th>\n",
       "      <th>debt</th>\n",
       "      <th>total_income</th>\n",
       "      <th>purpose</th>\n",
       "    </tr>\n",
       "  </thead>\n",
       "  <tbody>\n",
       "    <tr>\n",
       "      <th>0</th>\n",
       "      <td>1</td>\n",
       "      <td>-8437.673028</td>\n",
       "      <td>42</td>\n",
       "      <td>высшее</td>\n",
       "      <td>0</td>\n",
       "      <td>женат / замужем</td>\n",
       "      <td>0</td>\n",
       "      <td>F</td>\n",
       "      <td>сотрудник</td>\n",
       "      <td>0</td>\n",
       "      <td>253875.639453</td>\n",
       "      <td>покупка жилья</td>\n",
       "    </tr>\n",
       "    <tr>\n",
       "      <th>1</th>\n",
       "      <td>1</td>\n",
       "      <td>-4024.803754</td>\n",
       "      <td>36</td>\n",
       "      <td>среднее</td>\n",
       "      <td>1</td>\n",
       "      <td>женат / замужем</td>\n",
       "      <td>0</td>\n",
       "      <td>F</td>\n",
       "      <td>сотрудник</td>\n",
       "      <td>0</td>\n",
       "      <td>112080.014102</td>\n",
       "      <td>приобретение автомобиля</td>\n",
       "    </tr>\n",
       "    <tr>\n",
       "      <th>2</th>\n",
       "      <td>0</td>\n",
       "      <td>-5623.422610</td>\n",
       "      <td>33</td>\n",
       "      <td>Среднее</td>\n",
       "      <td>1</td>\n",
       "      <td>женат / замужем</td>\n",
       "      <td>0</td>\n",
       "      <td>M</td>\n",
       "      <td>сотрудник</td>\n",
       "      <td>0</td>\n",
       "      <td>145885.952297</td>\n",
       "      <td>покупка жилья</td>\n",
       "    </tr>\n",
       "    <tr>\n",
       "      <th>3</th>\n",
       "      <td>3</td>\n",
       "      <td>-4124.747207</td>\n",
       "      <td>32</td>\n",
       "      <td>среднее</td>\n",
       "      <td>1</td>\n",
       "      <td>женат / замужем</td>\n",
       "      <td>0</td>\n",
       "      <td>M</td>\n",
       "      <td>сотрудник</td>\n",
       "      <td>0</td>\n",
       "      <td>267628.550329</td>\n",
       "      <td>дополнительное образование</td>\n",
       "    </tr>\n",
       "    <tr>\n",
       "      <th>4</th>\n",
       "      <td>0</td>\n",
       "      <td>340266.072047</td>\n",
       "      <td>53</td>\n",
       "      <td>среднее</td>\n",
       "      <td>1</td>\n",
       "      <td>гражданский брак</td>\n",
       "      <td>1</td>\n",
       "      <td>F</td>\n",
       "      <td>пенсионер</td>\n",
       "      <td>0</td>\n",
       "      <td>158616.077870</td>\n",
       "      <td>сыграть свадьбу</td>\n",
       "    </tr>\n",
       "    <tr>\n",
       "      <th>5</th>\n",
       "      <td>0</td>\n",
       "      <td>-926.185831</td>\n",
       "      <td>27</td>\n",
       "      <td>высшее</td>\n",
       "      <td>0</td>\n",
       "      <td>гражданский брак</td>\n",
       "      <td>1</td>\n",
       "      <td>M</td>\n",
       "      <td>компаньон</td>\n",
       "      <td>0</td>\n",
       "      <td>255763.565419</td>\n",
       "      <td>покупка жилья</td>\n",
       "    </tr>\n",
       "    <tr>\n",
       "      <th>6</th>\n",
       "      <td>0</td>\n",
       "      <td>-2879.202052</td>\n",
       "      <td>43</td>\n",
       "      <td>высшее</td>\n",
       "      <td>0</td>\n",
       "      <td>женат / замужем</td>\n",
       "      <td>0</td>\n",
       "      <td>F</td>\n",
       "      <td>компаньон</td>\n",
       "      <td>0</td>\n",
       "      <td>240525.971920</td>\n",
       "      <td>операции с жильем</td>\n",
       "    </tr>\n",
       "    <tr>\n",
       "      <th>7</th>\n",
       "      <td>0</td>\n",
       "      <td>-152.779569</td>\n",
       "      <td>50</td>\n",
       "      <td>СРЕДНЕЕ</td>\n",
       "      <td>1</td>\n",
       "      <td>женат / замужем</td>\n",
       "      <td>0</td>\n",
       "      <td>M</td>\n",
       "      <td>сотрудник</td>\n",
       "      <td>0</td>\n",
       "      <td>135823.934197</td>\n",
       "      <td>образование</td>\n",
       "    </tr>\n",
       "    <tr>\n",
       "      <th>8</th>\n",
       "      <td>2</td>\n",
       "      <td>-6929.865299</td>\n",
       "      <td>35</td>\n",
       "      <td>ВЫСШЕЕ</td>\n",
       "      <td>0</td>\n",
       "      <td>гражданский брак</td>\n",
       "      <td>1</td>\n",
       "      <td>F</td>\n",
       "      <td>сотрудник</td>\n",
       "      <td>0</td>\n",
       "      <td>95856.832424</td>\n",
       "      <td>на проведение свадьбы</td>\n",
       "    </tr>\n",
       "    <tr>\n",
       "      <th>9</th>\n",
       "      <td>0</td>\n",
       "      <td>-2188.756445</td>\n",
       "      <td>41</td>\n",
       "      <td>среднее</td>\n",
       "      <td>1</td>\n",
       "      <td>женат / замужем</td>\n",
       "      <td>0</td>\n",
       "      <td>M</td>\n",
       "      <td>сотрудник</td>\n",
       "      <td>0</td>\n",
       "      <td>144425.938277</td>\n",
       "      <td>покупка жилья для семьи</td>\n",
       "    </tr>\n",
       "  </tbody>\n",
       "</table>\n",
       "</div>"
      ],
      "text/plain": [
       "   children  days_employed  dob_years education  education_id  \\\n",
       "0         1   -8437.673028         42    высшее             0   \n",
       "1         1   -4024.803754         36   среднее             1   \n",
       "2         0   -5623.422610         33   Среднее             1   \n",
       "3         3   -4124.747207         32   среднее             1   \n",
       "4         0  340266.072047         53   среднее             1   \n",
       "5         0    -926.185831         27    высшее             0   \n",
       "6         0   -2879.202052         43    высшее             0   \n",
       "7         0    -152.779569         50   СРЕДНЕЕ             1   \n",
       "8         2   -6929.865299         35    ВЫСШЕЕ             0   \n",
       "9         0   -2188.756445         41   среднее             1   \n",
       "\n",
       "      family_status  family_status_id gender income_type  debt   total_income  \\\n",
       "0   женат / замужем                 0      F   сотрудник     0  253875.639453   \n",
       "1   женат / замужем                 0      F   сотрудник     0  112080.014102   \n",
       "2   женат / замужем                 0      M   сотрудник     0  145885.952297   \n",
       "3   женат / замужем                 0      M   сотрудник     0  267628.550329   \n",
       "4  гражданский брак                 1      F   пенсионер     0  158616.077870   \n",
       "5  гражданский брак                 1      M   компаньон     0  255763.565419   \n",
       "6   женат / замужем                 0      F   компаньон     0  240525.971920   \n",
       "7   женат / замужем                 0      M   сотрудник     0  135823.934197   \n",
       "8  гражданский брак                 1      F   сотрудник     0   95856.832424   \n",
       "9   женат / замужем                 0      M   сотрудник     0  144425.938277   \n",
       "\n",
       "                      purpose  \n",
       "0               покупка жилья  \n",
       "1     приобретение автомобиля  \n",
       "2               покупка жилья  \n",
       "3  дополнительное образование  \n",
       "4             сыграть свадьбу  \n",
       "5               покупка жилья  \n",
       "6           операции с жильем  \n",
       "7                 образование  \n",
       "8       на проведение свадьбы  \n",
       "9     покупка жилья для семьи  "
      ]
     },
     "execution_count": 3,
     "metadata": {},
     "output_type": "execute_result"
    }
   ],
   "source": [
    "data.head(10) # получение первых 10 строк таблицы data"
   ]
  },
  {
   "cell_type": "markdown",
   "id": "c77216f2",
   "metadata": {},
   "source": [
    "Описание данных:\n",
    "\n",
    "* `children` — количество детей в семье\n",
    "* `days_employed` — общий трудовой стаж в днях\n",
    "* `dob_years` — возраст клиента в годах\n",
    "* `education` - уровень образования клиента\n",
    "* `family_status` - семейное положение\n",
    "* `gender` - пол клиента\n",
    "* `income_type` - тип занятости\n",
    "* `debt` - имел ли задолженность по возврату кредитов\n",
    "* `total_income` - ежемесячный доход\n",
    "* `purpose` - цель получения кредита\n",
    "\n",
    "Обнаруженные недостатки:\n",
    "- в столбце education есть одни и те же значения, но записанные по-разному: с использованием заглавных и строчных букв\n",
    "- в столбце days_employed указаны отрицательные значения\n"
   ]
  },
  {
   "cell_type": "markdown",
   "id": "832613c1",
   "metadata": {},
   "source": [
    "Посмотрим общую информацию:"
   ]
  },
  {
   "cell_type": "code",
   "execution_count": 4,
   "id": "815c862e",
   "metadata": {},
   "outputs": [
    {
     "name": "stdout",
     "output_type": "stream",
     "text": [
      "<class 'pandas.core.frame.DataFrame'>\n",
      "RangeIndex: 21525 entries, 0 to 21524\n",
      "Data columns (total 12 columns):\n",
      " #   Column            Non-Null Count  Dtype  \n",
      "---  ------            --------------  -----  \n",
      " 0   children          21525 non-null  int64  \n",
      " 1   days_employed     19351 non-null  float64\n",
      " 2   dob_years         21525 non-null  int64  \n",
      " 3   education         21525 non-null  object \n",
      " 4   education_id      21525 non-null  int64  \n",
      " 5   family_status     21525 non-null  object \n",
      " 6   family_status_id  21525 non-null  int64  \n",
      " 7   gender            21525 non-null  object \n",
      " 8   income_type       21525 non-null  object \n",
      " 9   debt              21525 non-null  int64  \n",
      " 10  total_income      19351 non-null  float64\n",
      " 11  purpose           21525 non-null  object \n",
      "dtypes: float64(2), int64(5), object(5)\n",
      "memory usage: 2.0+ MB\n"
     ]
    }
   ],
   "source": [
    "data.info()"
   ]
  },
  {
   "cell_type": "markdown",
   "id": "38d46bb2",
   "metadata": {},
   "source": [
    "Мы видим наличие двух столбцов(days_employed и total_income), содержащие пропущенные значения."
   ]
  },
  {
   "cell_type": "markdown",
   "id": "60400295",
   "metadata": {},
   "source": [
    "Посмотрим корректность названий столбцов"
   ]
  },
  {
   "cell_type": "code",
   "execution_count": 5,
   "id": "6479d6f2",
   "metadata": {},
   "outputs": [
    {
     "data": {
      "text/plain": [
       "Index(['children', 'days_employed', 'dob_years', 'education', 'education_id',\n",
       "       'family_status', 'family_status_id', 'gender', 'income_type', 'debt',\n",
       "       'total_income', 'purpose'],\n",
       "      dtype='object')"
      ]
     },
     "execution_count": 5,
     "metadata": {},
     "output_type": "execute_result"
    }
   ],
   "source": [
    "data.columns"
   ]
  },
  {
   "cell_type": "markdown",
   "id": "aac0ddff",
   "metadata": {},
   "source": [
    " Столбцы не содержат пробелов, все знаки в одном регистре и на одном языке"
   ]
  },
  {
   "cell_type": "markdown",
   "id": "ace52003",
   "metadata": {},
   "source": [
    "Даее проверим величины, хранящиеся в таблице"
   ]
  },
  {
   "cell_type": "code",
   "execution_count": 6,
   "id": "6b4e9bd2",
   "metadata": {},
   "outputs": [
    {
     "data": {
      "text/html": [
       "<div>\n",
       "<style scoped>\n",
       "    .dataframe tbody tr th:only-of-type {\n",
       "        vertical-align: middle;\n",
       "    }\n",
       "\n",
       "    .dataframe tbody tr th {\n",
       "        vertical-align: top;\n",
       "    }\n",
       "\n",
       "    .dataframe thead th {\n",
       "        text-align: right;\n",
       "    }\n",
       "</style>\n",
       "<table border=\"1\" class=\"dataframe\">\n",
       "  <thead>\n",
       "    <tr style=\"text-align: right;\">\n",
       "      <th></th>\n",
       "      <th>children</th>\n",
       "      <th>days_employed</th>\n",
       "      <th>dob_years</th>\n",
       "      <th>education_id</th>\n",
       "      <th>family_status_id</th>\n",
       "      <th>debt</th>\n",
       "      <th>total_income</th>\n",
       "    </tr>\n",
       "  </thead>\n",
       "  <tbody>\n",
       "    <tr>\n",
       "      <th>count</th>\n",
       "      <td>21525.000000</td>\n",
       "      <td>19351.000000</td>\n",
       "      <td>21525.000000</td>\n",
       "      <td>21525.000000</td>\n",
       "      <td>21525.000000</td>\n",
       "      <td>21525.000000</td>\n",
       "      <td>1.935100e+04</td>\n",
       "    </tr>\n",
       "    <tr>\n",
       "      <th>mean</th>\n",
       "      <td>0.538908</td>\n",
       "      <td>63046.497661</td>\n",
       "      <td>43.293380</td>\n",
       "      <td>0.817236</td>\n",
       "      <td>0.972544</td>\n",
       "      <td>0.080883</td>\n",
       "      <td>1.674223e+05</td>\n",
       "    </tr>\n",
       "    <tr>\n",
       "      <th>std</th>\n",
       "      <td>1.381587</td>\n",
       "      <td>140827.311974</td>\n",
       "      <td>12.574584</td>\n",
       "      <td>0.548138</td>\n",
       "      <td>1.420324</td>\n",
       "      <td>0.272661</td>\n",
       "      <td>1.029716e+05</td>\n",
       "    </tr>\n",
       "    <tr>\n",
       "      <th>min</th>\n",
       "      <td>-1.000000</td>\n",
       "      <td>-18388.949901</td>\n",
       "      <td>0.000000</td>\n",
       "      <td>0.000000</td>\n",
       "      <td>0.000000</td>\n",
       "      <td>0.000000</td>\n",
       "      <td>2.066726e+04</td>\n",
       "    </tr>\n",
       "    <tr>\n",
       "      <th>25%</th>\n",
       "      <td>0.000000</td>\n",
       "      <td>-2747.423625</td>\n",
       "      <td>33.000000</td>\n",
       "      <td>1.000000</td>\n",
       "      <td>0.000000</td>\n",
       "      <td>0.000000</td>\n",
       "      <td>1.030532e+05</td>\n",
       "    </tr>\n",
       "    <tr>\n",
       "      <th>50%</th>\n",
       "      <td>0.000000</td>\n",
       "      <td>-1203.369529</td>\n",
       "      <td>42.000000</td>\n",
       "      <td>1.000000</td>\n",
       "      <td>0.000000</td>\n",
       "      <td>0.000000</td>\n",
       "      <td>1.450179e+05</td>\n",
       "    </tr>\n",
       "    <tr>\n",
       "      <th>75%</th>\n",
       "      <td>1.000000</td>\n",
       "      <td>-291.095954</td>\n",
       "      <td>53.000000</td>\n",
       "      <td>1.000000</td>\n",
       "      <td>1.000000</td>\n",
       "      <td>0.000000</td>\n",
       "      <td>2.034351e+05</td>\n",
       "    </tr>\n",
       "    <tr>\n",
       "      <th>max</th>\n",
       "      <td>20.000000</td>\n",
       "      <td>401755.400475</td>\n",
       "      <td>75.000000</td>\n",
       "      <td>4.000000</td>\n",
       "      <td>4.000000</td>\n",
       "      <td>1.000000</td>\n",
       "      <td>2.265604e+06</td>\n",
       "    </tr>\n",
       "  </tbody>\n",
       "</table>\n",
       "</div>"
      ],
      "text/plain": [
       "           children  days_employed     dob_years  education_id  \\\n",
       "count  21525.000000   19351.000000  21525.000000  21525.000000   \n",
       "mean       0.538908   63046.497661     43.293380      0.817236   \n",
       "std        1.381587  140827.311974     12.574584      0.548138   \n",
       "min       -1.000000  -18388.949901      0.000000      0.000000   \n",
       "25%        0.000000   -2747.423625     33.000000      1.000000   \n",
       "50%        0.000000   -1203.369529     42.000000      1.000000   \n",
       "75%        1.000000    -291.095954     53.000000      1.000000   \n",
       "max       20.000000  401755.400475     75.000000      4.000000   \n",
       "\n",
       "       family_status_id          debt  total_income  \n",
       "count      21525.000000  21525.000000  1.935100e+04  \n",
       "mean           0.972544      0.080883  1.674223e+05  \n",
       "std            1.420324      0.272661  1.029716e+05  \n",
       "min            0.000000      0.000000  2.066726e+04  \n",
       "25%            0.000000      0.000000  1.030532e+05  \n",
       "50%            0.000000      0.000000  1.450179e+05  \n",
       "75%            1.000000      0.000000  2.034351e+05  \n",
       "max            4.000000      1.000000  2.265604e+06  "
      ]
     },
     "execution_count": 6,
     "metadata": {},
     "output_type": "execute_result"
    }
   ],
   "source": [
    "data.describe()"
   ]
  },
  {
   "cell_type": "markdown",
   "id": "44e67d40",
   "metadata": {},
   "source": [
    "Вывод:\n",
    "1. В столбце children минимальное и максимальное значение = -1 и 20 соответственное, что является ошибочным значением.\n",
    "2. Как и было сказано ранее, в столбце days_employed содержатся отрицательные значения.\n",
    "3. В столбце dob_years всречеается значение равное 0"
   ]
  },
  {
   "cell_type": "markdown",
   "id": "4cf291fa",
   "metadata": {},
   "source": [
    "### Шаг 2.1 Заполнение пропусков"
   ]
  },
  {
   "cell_type": "code",
   "execution_count": 7,
   "id": "c501ed5f",
   "metadata": {},
   "outputs": [
    {
     "data": {
      "text/plain": [
       "children               0\n",
       "days_employed       2174\n",
       "dob_years              0\n",
       "education              0\n",
       "education_id           0\n",
       "family_status          0\n",
       "family_status_id       0\n",
       "gender                 0\n",
       "income_type            0\n",
       "debt                   0\n",
       "total_income        2174\n",
       "purpose                0\n",
       "dtype: int64"
      ]
     },
     "execution_count": 7,
     "metadata": {},
     "output_type": "execute_result"
    }
   ],
   "source": [
    "data.isna().sum() # подсчёт пропусков"
   ]
  },
  {
   "cell_type": "markdown",
   "id": "f5a07b2b",
   "metadata": {},
   "source": [
    "найдём все строки с пропусками в столбце total_income и просмотрим первые 10."
   ]
  },
  {
   "cell_type": "code",
   "execution_count": 8,
   "id": "1e5ab767",
   "metadata": {},
   "outputs": [
    {
     "data": {
      "text/html": [
       "<div>\n",
       "<style scoped>\n",
       "    .dataframe tbody tr th:only-of-type {\n",
       "        vertical-align: middle;\n",
       "    }\n",
       "\n",
       "    .dataframe tbody tr th {\n",
       "        vertical-align: top;\n",
       "    }\n",
       "\n",
       "    .dataframe thead th {\n",
       "        text-align: right;\n",
       "    }\n",
       "</style>\n",
       "<table border=\"1\" class=\"dataframe\">\n",
       "  <thead>\n",
       "    <tr style=\"text-align: right;\">\n",
       "      <th></th>\n",
       "      <th>children</th>\n",
       "      <th>days_employed</th>\n",
       "      <th>dob_years</th>\n",
       "      <th>education</th>\n",
       "      <th>education_id</th>\n",
       "      <th>family_status</th>\n",
       "      <th>family_status_id</th>\n",
       "      <th>gender</th>\n",
       "      <th>income_type</th>\n",
       "      <th>debt</th>\n",
       "      <th>total_income</th>\n",
       "      <th>purpose</th>\n",
       "    </tr>\n",
       "  </thead>\n",
       "  <tbody>\n",
       "    <tr>\n",
       "      <th>12</th>\n",
       "      <td>0</td>\n",
       "      <td>NaN</td>\n",
       "      <td>65</td>\n",
       "      <td>среднее</td>\n",
       "      <td>1</td>\n",
       "      <td>гражданский брак</td>\n",
       "      <td>1</td>\n",
       "      <td>M</td>\n",
       "      <td>пенсионер</td>\n",
       "      <td>0</td>\n",
       "      <td>NaN</td>\n",
       "      <td>сыграть свадьбу</td>\n",
       "    </tr>\n",
       "    <tr>\n",
       "      <th>26</th>\n",
       "      <td>0</td>\n",
       "      <td>NaN</td>\n",
       "      <td>41</td>\n",
       "      <td>среднее</td>\n",
       "      <td>1</td>\n",
       "      <td>женат / замужем</td>\n",
       "      <td>0</td>\n",
       "      <td>M</td>\n",
       "      <td>госслужащий</td>\n",
       "      <td>0</td>\n",
       "      <td>NaN</td>\n",
       "      <td>образование</td>\n",
       "    </tr>\n",
       "    <tr>\n",
       "      <th>29</th>\n",
       "      <td>0</td>\n",
       "      <td>NaN</td>\n",
       "      <td>63</td>\n",
       "      <td>среднее</td>\n",
       "      <td>1</td>\n",
       "      <td>Не женат / не замужем</td>\n",
       "      <td>4</td>\n",
       "      <td>F</td>\n",
       "      <td>пенсионер</td>\n",
       "      <td>0</td>\n",
       "      <td>NaN</td>\n",
       "      <td>строительство жилой недвижимости</td>\n",
       "    </tr>\n",
       "    <tr>\n",
       "      <th>41</th>\n",
       "      <td>0</td>\n",
       "      <td>NaN</td>\n",
       "      <td>50</td>\n",
       "      <td>среднее</td>\n",
       "      <td>1</td>\n",
       "      <td>женат / замужем</td>\n",
       "      <td>0</td>\n",
       "      <td>F</td>\n",
       "      <td>госслужащий</td>\n",
       "      <td>0</td>\n",
       "      <td>NaN</td>\n",
       "      <td>сделка с подержанным автомобилем</td>\n",
       "    </tr>\n",
       "    <tr>\n",
       "      <th>55</th>\n",
       "      <td>0</td>\n",
       "      <td>NaN</td>\n",
       "      <td>54</td>\n",
       "      <td>среднее</td>\n",
       "      <td>1</td>\n",
       "      <td>гражданский брак</td>\n",
       "      <td>1</td>\n",
       "      <td>F</td>\n",
       "      <td>пенсионер</td>\n",
       "      <td>1</td>\n",
       "      <td>NaN</td>\n",
       "      <td>сыграть свадьбу</td>\n",
       "    </tr>\n",
       "    <tr>\n",
       "      <th>65</th>\n",
       "      <td>0</td>\n",
       "      <td>NaN</td>\n",
       "      <td>21</td>\n",
       "      <td>среднее</td>\n",
       "      <td>1</td>\n",
       "      <td>Не женат / не замужем</td>\n",
       "      <td>4</td>\n",
       "      <td>M</td>\n",
       "      <td>компаньон</td>\n",
       "      <td>0</td>\n",
       "      <td>NaN</td>\n",
       "      <td>операции с коммерческой недвижимостью</td>\n",
       "    </tr>\n",
       "    <tr>\n",
       "      <th>67</th>\n",
       "      <td>0</td>\n",
       "      <td>NaN</td>\n",
       "      <td>52</td>\n",
       "      <td>высшее</td>\n",
       "      <td>0</td>\n",
       "      <td>женат / замужем</td>\n",
       "      <td>0</td>\n",
       "      <td>F</td>\n",
       "      <td>пенсионер</td>\n",
       "      <td>0</td>\n",
       "      <td>NaN</td>\n",
       "      <td>покупка жилья для семьи</td>\n",
       "    </tr>\n",
       "    <tr>\n",
       "      <th>72</th>\n",
       "      <td>1</td>\n",
       "      <td>NaN</td>\n",
       "      <td>32</td>\n",
       "      <td>высшее</td>\n",
       "      <td>0</td>\n",
       "      <td>женат / замужем</td>\n",
       "      <td>0</td>\n",
       "      <td>M</td>\n",
       "      <td>госслужащий</td>\n",
       "      <td>0</td>\n",
       "      <td>NaN</td>\n",
       "      <td>операции с коммерческой недвижимостью</td>\n",
       "    </tr>\n",
       "    <tr>\n",
       "      <th>82</th>\n",
       "      <td>2</td>\n",
       "      <td>NaN</td>\n",
       "      <td>50</td>\n",
       "      <td>высшее</td>\n",
       "      <td>0</td>\n",
       "      <td>женат / замужем</td>\n",
       "      <td>0</td>\n",
       "      <td>F</td>\n",
       "      <td>сотрудник</td>\n",
       "      <td>0</td>\n",
       "      <td>NaN</td>\n",
       "      <td>жилье</td>\n",
       "    </tr>\n",
       "    <tr>\n",
       "      <th>83</th>\n",
       "      <td>0</td>\n",
       "      <td>NaN</td>\n",
       "      <td>52</td>\n",
       "      <td>среднее</td>\n",
       "      <td>1</td>\n",
       "      <td>женат / замужем</td>\n",
       "      <td>0</td>\n",
       "      <td>M</td>\n",
       "      <td>сотрудник</td>\n",
       "      <td>0</td>\n",
       "      <td>NaN</td>\n",
       "      <td>жилье</td>\n",
       "    </tr>\n",
       "  </tbody>\n",
       "</table>\n",
       "</div>"
      ],
      "text/plain": [
       "    children  days_employed  dob_years education  education_id  \\\n",
       "12         0            NaN         65   среднее             1   \n",
       "26         0            NaN         41   среднее             1   \n",
       "29         0            NaN         63   среднее             1   \n",
       "41         0            NaN         50   среднее             1   \n",
       "55         0            NaN         54   среднее             1   \n",
       "65         0            NaN         21   среднее             1   \n",
       "67         0            NaN         52    высшее             0   \n",
       "72         1            NaN         32    высшее             0   \n",
       "82         2            NaN         50    высшее             0   \n",
       "83         0            NaN         52   среднее             1   \n",
       "\n",
       "            family_status  family_status_id gender  income_type  debt  \\\n",
       "12       гражданский брак                 1      M    пенсионер     0   \n",
       "26        женат / замужем                 0      M  госслужащий     0   \n",
       "29  Не женат / не замужем                 4      F    пенсионер     0   \n",
       "41        женат / замужем                 0      F  госслужащий     0   \n",
       "55       гражданский брак                 1      F    пенсионер     1   \n",
       "65  Не женат / не замужем                 4      M    компаньон     0   \n",
       "67        женат / замужем                 0      F    пенсионер     0   \n",
       "72        женат / замужем                 0      M  госслужащий     0   \n",
       "82        женат / замужем                 0      F    сотрудник     0   \n",
       "83        женат / замужем                 0      M    сотрудник     0   \n",
       "\n",
       "    total_income                                purpose  \n",
       "12           NaN                        сыграть свадьбу  \n",
       "26           NaN                            образование  \n",
       "29           NaN       строительство жилой недвижимости  \n",
       "41           NaN       сделка с подержанным автомобилем  \n",
       "55           NaN                        сыграть свадьбу  \n",
       "65           NaN  операции с коммерческой недвижимостью  \n",
       "67           NaN                покупка жилья для семьи  \n",
       "72           NaN  операции с коммерческой недвижимостью  \n",
       "82           NaN                                  жилье  \n",
       "83           NaN                                  жилье  "
      ]
     },
     "metadata": {},
     "output_type": "display_data"
    }
   ],
   "source": [
    "display(data[data['total_income'].isna()].head(10))"
   ]
  },
  {
   "cell_type": "markdown",
   "id": "4fc93d03",
   "metadata": {},
   "source": [
    "Пропущенные значения в столбце days_employed соответствуют пропущенным значениям в столбце total_income\t\n",
    "Всего 2174 пропуска, что достаточно много для того, чтобы удалить их."
   ]
  },
  {
   "cell_type": "markdown",
   "id": "79d00706",
   "metadata": {},
   "source": [
    "Проверим, в каких ежемесячных доходах встречаются пропущенные значения "
   ]
  },
  {
   "cell_type": "code",
   "execution_count": 9,
   "id": "698b22ae",
   "metadata": {},
   "outputs": [
    {
     "data": {
      "text/plain": [
       "сотрудник          1105\n",
       "компаньон           508\n",
       "пенсионер           413\n",
       "госслужащий         147\n",
       "предприниматель       1\n",
       "Name: income_type, dtype: int64"
      ]
     },
     "execution_count": 9,
     "metadata": {},
     "output_type": "execute_result"
    }
   ],
   "source": [
    "data.loc[data['total_income'].isna(), 'income_type'].value_counts()"
   ]
  },
  {
   "cell_type": "markdown",
   "id": "ba77a676",
   "metadata": {},
   "source": [
    "Заменим пустые значения в ежемесячном доходе на медианные по каждому типу занятости."
   ]
  },
  {
   "cell_type": "code",
   "execution_count": 10,
   "id": "aa0268fd",
   "metadata": {},
   "outputs": [
    {
     "name": "stdout",
     "output_type": "stream",
     "text": [
      "income_type\n",
      "безработный        131339.751676\n",
      "в декрете           53829.130729\n",
      "госслужащий        150447.935283\n",
      "компаньон          172357.950966\n",
      "пенсионер          118514.486412\n",
      "предприниматель    499163.144947\n",
      "сотрудник          142594.396847\n",
      "студент             98201.625314\n",
      "Name: total_income, dtype: float64\n"
     ]
    }
   ],
   "source": [
    "median_total_income = data.groupby('income_type')['total_income'].median() # медианное значение ежемесячного доходе\n",
    "print(median_total_income)                                                 # для каждого типа занятости"
   ]
  },
  {
   "cell_type": "code",
   "execution_count": 11,
   "id": "d2f4b3b6",
   "metadata": {},
   "outputs": [],
   "source": [
    "data.loc[(data['total_income'].isna() == True) & (data['income_type'] == 'сотрудник'), 'total_income'] = median_total_income[6]\n",
    "data.loc[(data['total_income'].isna() == True) & (data['income_type'] == 'компаньон'), 'total_income'] = median_total_income[3]\n",
    "data.loc[(data['total_income'].isna() == True) & (data['income_type'] == 'пенсионер'), 'total_income'] = median_total_income[4]\n",
    "data.loc[(data['total_income'].isna() == True) & (data['income_type'] == 'госслужащий'), 'total_income'] = median_total_income[2]\n",
    "data.loc[(data['total_income'].isna() == True) & (data['income_type'] == 'предприниматель'), 'total_income'] = median_total_income[5]"
   ]
  },
  {
   "cell_type": "markdown",
   "id": "ce2b9749",
   "metadata": {},
   "source": [
    "Тоже самое сделаем для столбца трудового стажа в днях, но сперва уберем отрицательны значения"
   ]
  },
  {
   "cell_type": "code",
   "execution_count": 12,
   "id": "dbc327ea",
   "metadata": {},
   "outputs": [
    {
     "name": "stdout",
     "output_type": "stream",
     "text": [
      "income_type\n",
      "безработный        366413.652744\n",
      "в декрете            3296.759962\n",
      "госслужащий          2689.368353\n",
      "компаньон            1547.382223\n",
      "пенсионер          365213.306266\n",
      "предприниматель       520.848083\n",
      "сотрудник            1574.202821\n",
      "студент               578.751554\n",
      "Name: days_employed, dtype: float64\n"
     ]
    }
   ],
   "source": [
    "data['days_employed'] = data['days_employed'].abs()                          \n",
    "median_days_employed = data.groupby('income_type')['days_employed'].median() # медианное значение трудового стажа для каждого типа занятости\n",
    "print(median_days_employed)"
   ]
  },
  {
   "cell_type": "code",
   "execution_count": 13,
   "id": "de5a64f0",
   "metadata": {},
   "outputs": [
    {
     "data": {
      "text/plain": [
       "сотрудник          1105\n",
       "компаньон           508\n",
       "пенсионер           413\n",
       "госслужащий         147\n",
       "предприниматель       1\n",
       "Name: income_type, dtype: int64"
      ]
     },
     "execution_count": 13,
     "metadata": {},
     "output_type": "execute_result"
    }
   ],
   "source": [
    "data.loc[data['days_employed'].isna(), 'income_type'].value_counts()"
   ]
  },
  {
   "cell_type": "code",
   "execution_count": 14,
   "id": "197f4b22",
   "metadata": {},
   "outputs": [],
   "source": [
    "data.loc[(data['days_employed'].isna() == True) & (data['income_type'] == 'сотрудник'), 'days_employed'] = median_days_employed[6]\n",
    "data.loc[(data['days_employed'].isna() == True) & (data['income_type'] == 'пенсионер'), 'days_employed'] = median_days_employed[4]\n",
    "data.loc[(data['days_employed'].isna() == True) & (data['income_type'] == 'компаньон'), 'days_employed'] = median_days_employed[3]\n",
    "data.loc[(data['days_employed'].isna() == True) & (data['income_type'] == 'госслужащий'), 'days_employed'] = median_days_employed[2]\n",
    "data.loc[(data['days_employed'].isna() == True) & (data['income_type'] == 'предприниматель'), 'days_employed'] = median_days_employed[5]"
   ]
  },
  {
   "cell_type": "markdown",
   "id": "0d88eafc",
   "metadata": {},
   "source": [
    "Проверим результат"
   ]
  },
  {
   "cell_type": "code",
   "execution_count": 15,
   "id": "c0604745",
   "metadata": {},
   "outputs": [
    {
     "data": {
      "text/plain": [
       "children            0\n",
       "days_employed       0\n",
       "dob_years           0\n",
       "education           0\n",
       "education_id        0\n",
       "family_status       0\n",
       "family_status_id    0\n",
       "gender              0\n",
       "income_type         0\n",
       "debt                0\n",
       "total_income        0\n",
       "purpose             0\n",
       "dtype: int64"
      ]
     },
     "execution_count": 15,
     "metadata": {},
     "output_type": "execute_result"
    }
   ],
   "source": [
    "data.isna().sum()"
   ]
  },
  {
   "cell_type": "markdown",
   "id": "7a02c382",
   "metadata": {},
   "source": [
    "### Шаг 2.2 Проверка данных на аномалии и исправления."
   ]
  },
  {
   "cell_type": "markdown",
   "id": "16b62cf3",
   "metadata": {},
   "source": [
    "Проверим уникальные значения в столбце children"
   ]
  },
  {
   "cell_type": "code",
   "execution_count": 16,
   "id": "232c635a",
   "metadata": {},
   "outputs": [
    {
     "data": {
      "text/plain": [
       " 0     14149\n",
       " 1      4818\n",
       " 2      2055\n",
       " 3       330\n",
       " 20       76\n",
       "-1        47\n",
       " 4        41\n",
       " 5         9\n",
       "Name: children, dtype: int64"
      ]
     },
     "execution_count": 16,
     "metadata": {},
     "output_type": "execute_result"
    }
   ],
   "source": [
    "data['children'].value_counts()"
   ]
  },
  {
   "cell_type": "markdown",
   "id": "e5e2ffc1",
   "metadata": {},
   "source": [
    "Значение -1 встречается 47 раз, а значение 20 - 76 раз. На мой взгляд данный факт является технической ошибкой.\n",
    "Заменим значение -1 на 1. Значение 20 заменим на медианное значение всего столбца, так как непонятно, ввели лишний ноль при вводе 2 или же вместо 0 случайно поставили 20"
   ]
  },
  {
   "cell_type": "code",
   "execution_count": 17,
   "id": "2ea75f81",
   "metadata": {},
   "outputs": [],
   "source": [
    "median_children = data['children'].median()\n",
    "data['children'] = data['children'].replace(-1, 1)\n",
    "data['children'] = data['children'].replace(20, median_children,)"
   ]
  },
  {
   "cell_type": "code",
   "execution_count": 18,
   "id": "8549c5da",
   "metadata": {},
   "outputs": [
    {
     "data": {
      "text/plain": [
       "0.0    14225\n",
       "1.0     4865\n",
       "2.0     2055\n",
       "3.0      330\n",
       "4.0       41\n",
       "5.0        9\n",
       "Name: children, dtype: int64"
      ]
     },
     "execution_count": 18,
     "metadata": {},
     "output_type": "execute_result"
    }
   ],
   "source": [
    "data['children'].value_counts()"
   ]
  },
  {
   "cell_type": "markdown",
   "id": "636feb49",
   "metadata": {},
   "source": [
    "Определим, какой тип занятость имеют люди с ошибочным нулевым возрастом"
   ]
  },
  {
   "cell_type": "code",
   "execution_count": 19,
   "id": "49fc15f2",
   "metadata": {},
   "outputs": [
    {
     "data": {
      "text/plain": [
       "сотрудник      55\n",
       "компаньон      20\n",
       "пенсионер      20\n",
       "госслужащий     6\n",
       "Name: income_type, dtype: int64"
      ]
     },
     "execution_count": 19,
     "metadata": {},
     "output_type": "execute_result"
    }
   ],
   "source": [
    "data.loc[data['dob_years'] == 0, 'income_type'].value_counts()"
   ]
  },
  {
   "cell_type": "markdown",
   "id": "e2e662aa",
   "metadata": {},
   "source": [
    "Найдем среднее значения возрастов клиентов для каждого типа занятости"
   ]
  },
  {
   "cell_type": "code",
   "execution_count": 20,
   "id": "12a98552",
   "metadata": {},
   "outputs": [
    {
     "name": "stdout",
     "output_type": "stream",
     "text": [
      "income_type\n",
      "безработный        38.000000\n",
      "в декрете          39.000000\n",
      "госслужащий        40.636737\n",
      "компаньон          39.697542\n",
      "пенсионер          59.063019\n",
      "предприниматель    42.500000\n",
      "сотрудник          39.821027\n",
      "студент            22.000000\n",
      "Name: dob_years, dtype: float64\n"
     ]
    }
   ],
   "source": [
    "mean_dob_years = data.groupby('income_type')['dob_years'].mean()\n",
    "print(mean_dob_years)"
   ]
  },
  {
   "cell_type": "markdown",
   "id": "77ebe9f5",
   "metadata": {},
   "source": [
    "Заменим ошибочный возраст на среднее значение по каждому типу занятости"
   ]
  },
  {
   "cell_type": "code",
   "execution_count": 21,
   "id": "21e000b4",
   "metadata": {},
   "outputs": [],
   "source": [
    "data.loc[(data['dob_years'] == 0) & (data['income_type'] == 'сотрудник'), 'dob_years'] = mean_dob_years[6]\n",
    "data.loc[(data['dob_years'] == 0) & (data['income_type'] == 'пенсионер'), 'dob_years'] = mean_dob_years[4]\n",
    "data.loc[(data['dob_years'] == 0) & (data['income_type'] == 'компаньон'), 'dob_years'] = mean_dob_years[3]\n",
    "data.loc[(data['dob_years'] == 0) & (data['income_type'] == 'госслужащий'), 'dob_years'] = mean_dob_years[2]"
   ]
  },
  {
   "cell_type": "markdown",
   "id": "c214198f",
   "metadata": {},
   "source": [
    "Проверим результат"
   ]
  },
  {
   "cell_type": "code",
   "execution_count": 22,
   "id": "f274a8d3",
   "metadata": {},
   "outputs": [
    {
     "data": {
      "text/html": [
       "<div>\n",
       "<style scoped>\n",
       "    .dataframe tbody tr th:only-of-type {\n",
       "        vertical-align: middle;\n",
       "    }\n",
       "\n",
       "    .dataframe tbody tr th {\n",
       "        vertical-align: top;\n",
       "    }\n",
       "\n",
       "    .dataframe thead th {\n",
       "        text-align: right;\n",
       "    }\n",
       "</style>\n",
       "<table border=\"1\" class=\"dataframe\">\n",
       "  <thead>\n",
       "    <tr style=\"text-align: right;\">\n",
       "      <th></th>\n",
       "      <th>children</th>\n",
       "      <th>days_employed</th>\n",
       "      <th>dob_years</th>\n",
       "      <th>education_id</th>\n",
       "      <th>family_status_id</th>\n",
       "      <th>debt</th>\n",
       "      <th>total_income</th>\n",
       "    </tr>\n",
       "  </thead>\n",
       "  <tbody>\n",
       "    <tr>\n",
       "      <th>count</th>\n",
       "      <td>21525.000000</td>\n",
       "      <td>21525.000000</td>\n",
       "      <td>21525.00000</td>\n",
       "      <td>21525.000000</td>\n",
       "      <td>21525.000000</td>\n",
       "      <td>21525.000000</td>\n",
       "      <td>2.152500e+04</td>\n",
       "    </tr>\n",
       "    <tr>\n",
       "      <th>mean</th>\n",
       "      <td>0.472660</td>\n",
       "      <td>67299.486032</td>\n",
       "      <td>43.49822</td>\n",
       "      <td>0.817236</td>\n",
       "      <td>0.972544</td>\n",
       "      <td>0.080883</td>\n",
       "      <td>1.652253e+05</td>\n",
       "    </tr>\n",
       "    <tr>\n",
       "      <th>std</th>\n",
       "      <td>0.750616</td>\n",
       "      <td>139401.804684</td>\n",
       "      <td>12.22943</td>\n",
       "      <td>0.548138</td>\n",
       "      <td>1.420324</td>\n",
       "      <td>0.272661</td>\n",
       "      <td>9.804367e+04</td>\n",
       "    </tr>\n",
       "    <tr>\n",
       "      <th>min</th>\n",
       "      <td>0.000000</td>\n",
       "      <td>24.141633</td>\n",
       "      <td>19.00000</td>\n",
       "      <td>0.000000</td>\n",
       "      <td>0.000000</td>\n",
       "      <td>0.000000</td>\n",
       "      <td>2.066726e+04</td>\n",
       "    </tr>\n",
       "    <tr>\n",
       "      <th>25%</th>\n",
       "      <td>0.000000</td>\n",
       "      <td>1025.549623</td>\n",
       "      <td>34.00000</td>\n",
       "      <td>1.000000</td>\n",
       "      <td>0.000000</td>\n",
       "      <td>0.000000</td>\n",
       "      <td>1.077982e+05</td>\n",
       "    </tr>\n",
       "    <tr>\n",
       "      <th>50%</th>\n",
       "      <td>0.000000</td>\n",
       "      <td>1993.522017</td>\n",
       "      <td>43.00000</td>\n",
       "      <td>1.000000</td>\n",
       "      <td>0.000000</td>\n",
       "      <td>0.000000</td>\n",
       "      <td>1.425944e+05</td>\n",
       "    </tr>\n",
       "    <tr>\n",
       "      <th>75%</th>\n",
       "      <td>1.000000</td>\n",
       "      <td>5347.024506</td>\n",
       "      <td>53.00000</td>\n",
       "      <td>1.000000</td>\n",
       "      <td>1.000000</td>\n",
       "      <td>0.000000</td>\n",
       "      <td>1.955499e+05</td>\n",
       "    </tr>\n",
       "    <tr>\n",
       "      <th>max</th>\n",
       "      <td>5.000000</td>\n",
       "      <td>401755.400475</td>\n",
       "      <td>75.00000</td>\n",
       "      <td>4.000000</td>\n",
       "      <td>4.000000</td>\n",
       "      <td>1.000000</td>\n",
       "      <td>2.265604e+06</td>\n",
       "    </tr>\n",
       "  </tbody>\n",
       "</table>\n",
       "</div>"
      ],
      "text/plain": [
       "           children  days_employed    dob_years  education_id  \\\n",
       "count  21525.000000   21525.000000  21525.00000  21525.000000   \n",
       "mean       0.472660   67299.486032     43.49822      0.817236   \n",
       "std        0.750616  139401.804684     12.22943      0.548138   \n",
       "min        0.000000      24.141633     19.00000      0.000000   \n",
       "25%        0.000000    1025.549623     34.00000      1.000000   \n",
       "50%        0.000000    1993.522017     43.00000      1.000000   \n",
       "75%        1.000000    5347.024506     53.00000      1.000000   \n",
       "max        5.000000  401755.400475     75.00000      4.000000   \n",
       "\n",
       "       family_status_id          debt  total_income  \n",
       "count      21525.000000  21525.000000  2.152500e+04  \n",
       "mean           0.972544      0.080883  1.652253e+05  \n",
       "std            1.420324      0.272661  9.804367e+04  \n",
       "min            0.000000      0.000000  2.066726e+04  \n",
       "25%            0.000000      0.000000  1.077982e+05  \n",
       "50%            0.000000      0.000000  1.425944e+05  \n",
       "75%            1.000000      0.000000  1.955499e+05  \n",
       "max            4.000000      1.000000  2.265604e+06  "
      ]
     },
     "execution_count": 22,
     "metadata": {},
     "output_type": "execute_result"
    }
   ],
   "source": [
    "data.describe()"
   ]
  },
  {
   "cell_type": "markdown",
   "id": "d5c9638c",
   "metadata": {},
   "source": [
    "### Шаг 2.3. Изменение типов данных.\n",
    "\n",
    "Ежемесячный доход и общий трудовой стаж в днях переведем в целочисленные значения"
   ]
  },
  {
   "cell_type": "code",
   "execution_count": 23,
   "id": "1f720c76",
   "metadata": {},
   "outputs": [],
   "source": [
    "data['total_income'] = data['total_income'].astype('int')\n",
    "data['days_employed'] = data['days_employed'].astype('int')"
   ]
  },
  {
   "cell_type": "markdown",
   "id": "aa05789e",
   "metadata": {},
   "source": [
    "Проверим результат"
   ]
  },
  {
   "cell_type": "code",
   "execution_count": 24,
   "id": "a02a043f",
   "metadata": {},
   "outputs": [
    {
     "data": {
      "text/plain": [
       "children            float64\n",
       "days_employed         int64\n",
       "dob_years           float64\n",
       "education            object\n",
       "education_id          int64\n",
       "family_status        object\n",
       "family_status_id      int64\n",
       "gender               object\n",
       "income_type          object\n",
       "debt                  int64\n",
       "total_income          int64\n",
       "purpose              object\n",
       "dtype: object"
      ]
     },
     "execution_count": 24,
     "metadata": {},
     "output_type": "execute_result"
    }
   ],
   "source": [
    "data.dtypes"
   ]
  },
  {
   "cell_type": "markdown",
   "id": "08b0504b",
   "metadata": {},
   "source": [
    "### Шаг 2.4. Удаление дубликатов."
   ]
  },
  {
   "cell_type": "markdown",
   "id": "1e45f90b",
   "metadata": {},
   "source": [
    "Ранее было установлено, что в столбце 'education' есть одни и те же значения, \n",
    "но записанные по-разному: с использованием заглавных и строчных букв"
   ]
  },
  {
   "cell_type": "code",
   "execution_count": 25,
   "id": "3af6adde",
   "metadata": {},
   "outputs": [
    {
     "data": {
      "text/plain": [
       "array(['высшее', 'среднее', 'Среднее', 'СРЕДНЕЕ', 'ВЫСШЕЕ',\n",
       "       'неоконченное высшее', 'начальное', 'Высшее',\n",
       "       'НЕОКОНЧЕННОЕ ВЫСШЕЕ', 'Неоконченное высшее', 'НАЧАЛЬНОЕ',\n",
       "       'Начальное', 'Ученая степень', 'УЧЕНАЯ СТЕПЕНЬ', 'ученая степень'],\n",
       "      dtype=object)"
      ]
     },
     "execution_count": 25,
     "metadata": {},
     "output_type": "execute_result"
    }
   ],
   "source": [
    "data['education'].unique()"
   ]
  },
  {
   "cell_type": "markdown",
   "id": "41586463",
   "metadata": {},
   "source": [
    "Видим наличие дубликатов, отличающихся по регистру. Приведем значения к общему виду"
   ]
  },
  {
   "cell_type": "code",
   "execution_count": 26,
   "id": "535cf46f",
   "metadata": {},
   "outputs": [],
   "source": [
    "data['education'] = data['education'].str.lower()"
   ]
  },
  {
   "cell_type": "code",
   "execution_count": 27,
   "id": "ff03d5a1",
   "metadata": {},
   "outputs": [
    {
     "data": {
      "text/plain": [
       "71"
      ]
     },
     "execution_count": 27,
     "metadata": {},
     "output_type": "execute_result"
    }
   ],
   "source": [
    "data.duplicated().sum() # общее количество дубликатов"
   ]
  },
  {
   "cell_type": "markdown",
   "id": "3eed0d6f",
   "metadata": {},
   "source": [
    "Удалим их"
   ]
  },
  {
   "cell_type": "code",
   "execution_count": 28,
   "id": "abd44206",
   "metadata": {},
   "outputs": [],
   "source": [
    "data = data.drop_duplicates().reset_index(drop = True)\n"
   ]
  },
  {
   "cell_type": "markdown",
   "id": "78bb27be",
   "metadata": {},
   "source": [
    "Проверим еще раз"
   ]
  },
  {
   "cell_type": "code",
   "execution_count": 29,
   "id": "a81b4ef4",
   "metadata": {},
   "outputs": [
    {
     "data": {
      "text/plain": [
       "0"
      ]
     },
     "execution_count": 29,
     "metadata": {},
     "output_type": "execute_result"
    }
   ],
   "source": [
    "data.duplicated().sum()"
   ]
  },
  {
   "cell_type": "markdown",
   "id": "ff8c1e48",
   "metadata": {},
   "source": [
    "Возникновение дубликатов могло произойти по причине задвоения данных/ошибочного создания дублей"
   ]
  },
  {
   "cell_type": "markdown",
   "id": "b9322cd7",
   "metadata": {},
   "source": [
    "### Шаг 2.5. Формирование дополнительных датафреймов словарей, декомпозиция исходного датафрейма."
   ]
  },
  {
   "cell_type": "markdown",
   "id": "95404286",
   "metadata": {},
   "source": [
    "Создадим два новых датафрейма, в которых:\n",
    "каждому уникальному значению из education соответствует уникальное значение education_id — в первом;\n",
    "каждому уникальному значению из family_status соответствует уникальное значение family_status_id — во втором."
   ]
  },
  {
   "cell_type": "code",
   "execution_count": 30,
   "id": "76115667",
   "metadata": {},
   "outputs": [],
   "source": [
    "education_dict = data[['education', 'education_id']]\n",
    "family_status_dict = data[['family_status', 'family_status_id']]"
   ]
  },
  {
   "cell_type": "markdown",
   "id": "3a3074b7",
   "metadata": {},
   "source": [
    "Удалим дубликаты"
   ]
  },
  {
   "cell_type": "code",
   "execution_count": 31,
   "id": "f53b0475",
   "metadata": {},
   "outputs": [],
   "source": [
    "education_dict = education_dict.drop_duplicates().reset_index(drop=True)\n",
    "family_status_dict = family_status_dict.drop_duplicates().reset_index(drop=True)"
   ]
  },
  {
   "cell_type": "markdown",
   "id": "b24c77ec",
   "metadata": {},
   "source": [
    "Удалим из исходного датафрейма столбцы education и family_status, оставив только их идентификаторы: education_id и family_status_id. Новые датафреймы — это те самые «словари», к которым сможно обращаться по идентификатору."
   ]
  },
  {
   "cell_type": "code",
   "execution_count": 32,
   "id": "4d0eac42",
   "metadata": {},
   "outputs": [],
   "source": [
    "data.drop(columns = ['education', 'family_status'],axis = 1, inplace=True)"
   ]
  },
  {
   "cell_type": "markdown",
   "id": "2aaf0aef",
   "metadata": {},
   "source": [
    "Проверим результат:"
   ]
  },
  {
   "cell_type": "code",
   "execution_count": 33,
   "id": "db38dd5b",
   "metadata": {},
   "outputs": [
    {
     "data": {
      "text/html": [
       "<div>\n",
       "<style scoped>\n",
       "    .dataframe tbody tr th:only-of-type {\n",
       "        vertical-align: middle;\n",
       "    }\n",
       "\n",
       "    .dataframe tbody tr th {\n",
       "        vertical-align: top;\n",
       "    }\n",
       "\n",
       "    .dataframe thead th {\n",
       "        text-align: right;\n",
       "    }\n",
       "</style>\n",
       "<table border=\"1\" class=\"dataframe\">\n",
       "  <thead>\n",
       "    <tr style=\"text-align: right;\">\n",
       "      <th></th>\n",
       "      <th>education</th>\n",
       "      <th>education_id</th>\n",
       "    </tr>\n",
       "  </thead>\n",
       "  <tbody>\n",
       "    <tr>\n",
       "      <th>0</th>\n",
       "      <td>высшее</td>\n",
       "      <td>0</td>\n",
       "    </tr>\n",
       "    <tr>\n",
       "      <th>1</th>\n",
       "      <td>среднее</td>\n",
       "      <td>1</td>\n",
       "    </tr>\n",
       "    <tr>\n",
       "      <th>2</th>\n",
       "      <td>неоконченное высшее</td>\n",
       "      <td>2</td>\n",
       "    </tr>\n",
       "    <tr>\n",
       "      <th>3</th>\n",
       "      <td>начальное</td>\n",
       "      <td>3</td>\n",
       "    </tr>\n",
       "    <tr>\n",
       "      <th>4</th>\n",
       "      <td>ученая степень</td>\n",
       "      <td>4</td>\n",
       "    </tr>\n",
       "  </tbody>\n",
       "</table>\n",
       "</div>"
      ],
      "text/plain": [
       "             education  education_id\n",
       "0               высшее             0\n",
       "1              среднее             1\n",
       "2  неоконченное высшее             2\n",
       "3            начальное             3\n",
       "4       ученая степень             4"
      ]
     },
     "metadata": {},
     "output_type": "display_data"
    },
    {
     "data": {
      "text/html": [
       "<div>\n",
       "<style scoped>\n",
       "    .dataframe tbody tr th:only-of-type {\n",
       "        vertical-align: middle;\n",
       "    }\n",
       "\n",
       "    .dataframe tbody tr th {\n",
       "        vertical-align: top;\n",
       "    }\n",
       "\n",
       "    .dataframe thead th {\n",
       "        text-align: right;\n",
       "    }\n",
       "</style>\n",
       "<table border=\"1\" class=\"dataframe\">\n",
       "  <thead>\n",
       "    <tr style=\"text-align: right;\">\n",
       "      <th></th>\n",
       "      <th>family_status</th>\n",
       "      <th>family_status_id</th>\n",
       "    </tr>\n",
       "  </thead>\n",
       "  <tbody>\n",
       "    <tr>\n",
       "      <th>0</th>\n",
       "      <td>женат / замужем</td>\n",
       "      <td>0</td>\n",
       "    </tr>\n",
       "    <tr>\n",
       "      <th>1</th>\n",
       "      <td>гражданский брак</td>\n",
       "      <td>1</td>\n",
       "    </tr>\n",
       "    <tr>\n",
       "      <th>2</th>\n",
       "      <td>вдовец / вдова</td>\n",
       "      <td>2</td>\n",
       "    </tr>\n",
       "    <tr>\n",
       "      <th>3</th>\n",
       "      <td>в разводе</td>\n",
       "      <td>3</td>\n",
       "    </tr>\n",
       "    <tr>\n",
       "      <th>4</th>\n",
       "      <td>Не женат / не замужем</td>\n",
       "      <td>4</td>\n",
       "    </tr>\n",
       "  </tbody>\n",
       "</table>\n",
       "</div>"
      ],
      "text/plain": [
       "           family_status  family_status_id\n",
       "0        женат / замужем                 0\n",
       "1       гражданский брак                 1\n",
       "2         вдовец / вдова                 2\n",
       "3              в разводе                 3\n",
       "4  Не женат / не замужем                 4"
      ]
     },
     "metadata": {},
     "output_type": "display_data"
    }
   ],
   "source": [
    "display(education_dict.head())\n",
    "display(family_status_dict.head())"
   ]
  },
  {
   "cell_type": "raw",
   "id": "b2d94f95",
   "metadata": {},
   "source": [
    "<div class=\"alert alert-success\"; style=\"border-left: 7px solid green\">\n",
    "<h5> ✔️ <font color=\"green\">Комментарий ревьюера (зеленый)</font></h5>\n",
    "\n",
    "Правильно созданы новые таблицы!\n",
    "\n",
    "</div>"
   ]
  },
  {
   "cell_type": "code",
   "execution_count": 34,
   "id": "195fb580",
   "metadata": {},
   "outputs": [
    {
     "data": {
      "text/html": [
       "<div>\n",
       "<style scoped>\n",
       "    .dataframe tbody tr th:only-of-type {\n",
       "        vertical-align: middle;\n",
       "    }\n",
       "\n",
       "    .dataframe tbody tr th {\n",
       "        vertical-align: top;\n",
       "    }\n",
       "\n",
       "    .dataframe thead th {\n",
       "        text-align: right;\n",
       "    }\n",
       "</style>\n",
       "<table border=\"1\" class=\"dataframe\">\n",
       "  <thead>\n",
       "    <tr style=\"text-align: right;\">\n",
       "      <th></th>\n",
       "      <th>children</th>\n",
       "      <th>days_employed</th>\n",
       "      <th>dob_years</th>\n",
       "      <th>education_id</th>\n",
       "      <th>family_status_id</th>\n",
       "      <th>gender</th>\n",
       "      <th>income_type</th>\n",
       "      <th>debt</th>\n",
       "      <th>total_income</th>\n",
       "      <th>purpose</th>\n",
       "    </tr>\n",
       "  </thead>\n",
       "  <tbody>\n",
       "    <tr>\n",
       "      <th>0</th>\n",
       "      <td>1.0</td>\n",
       "      <td>8437</td>\n",
       "      <td>42.0</td>\n",
       "      <td>0</td>\n",
       "      <td>0</td>\n",
       "      <td>F</td>\n",
       "      <td>сотрудник</td>\n",
       "      <td>0</td>\n",
       "      <td>253875</td>\n",
       "      <td>покупка жилья</td>\n",
       "    </tr>\n",
       "    <tr>\n",
       "      <th>1</th>\n",
       "      <td>1.0</td>\n",
       "      <td>4024</td>\n",
       "      <td>36.0</td>\n",
       "      <td>1</td>\n",
       "      <td>0</td>\n",
       "      <td>F</td>\n",
       "      <td>сотрудник</td>\n",
       "      <td>0</td>\n",
       "      <td>112080</td>\n",
       "      <td>приобретение автомобиля</td>\n",
       "    </tr>\n",
       "    <tr>\n",
       "      <th>2</th>\n",
       "      <td>0.0</td>\n",
       "      <td>5623</td>\n",
       "      <td>33.0</td>\n",
       "      <td>1</td>\n",
       "      <td>0</td>\n",
       "      <td>M</td>\n",
       "      <td>сотрудник</td>\n",
       "      <td>0</td>\n",
       "      <td>145885</td>\n",
       "      <td>покупка жилья</td>\n",
       "    </tr>\n",
       "  </tbody>\n",
       "</table>\n",
       "</div>"
      ],
      "text/plain": [
       "   children  days_employed  dob_years  education_id  family_status_id gender  \\\n",
       "0       1.0           8437       42.0             0                 0      F   \n",
       "1       1.0           4024       36.0             1                 0      F   \n",
       "2       0.0           5623       33.0             1                 0      M   \n",
       "\n",
       "  income_type  debt  total_income                  purpose  \n",
       "0   сотрудник     0        253875            покупка жилья  \n",
       "1   сотрудник     0        112080  приобретение автомобиля  \n",
       "2   сотрудник     0        145885            покупка жилья  "
      ]
     },
     "metadata": {},
     "output_type": "display_data"
    }
   ],
   "source": [
    "display(data.head(3))"
   ]
  },
  {
   "cell_type": "markdown",
   "id": "14ec5d0d",
   "metadata": {},
   "source": [
    "### Шаг 2.6. Категоризация дохода."
   ]
  },
  {
   "cell_type": "markdown",
   "id": "89cb52ba",
   "metadata": {},
   "source": [
    "Создадим новый столбец на основании диапазонов ежемесячного дохода"
   ]
  },
  {
   "cell_type": "code",
   "execution_count": 35,
   "id": "cb632348",
   "metadata": {},
   "outputs": [],
   "source": [
    "def income(total_income):\n",
    "    if total_income < 30000:\n",
    "        return 'E'\n",
    "    if total_income >= 30001 and total_income <= 50000:\n",
    "        return 'D'\n",
    "    if total_income >= 50001 and total_income <= 200000:\n",
    "        return 'C'\n",
    "    if total_income >= 200001 and total_income <= 1000000:\n",
    "        return 'B'\n",
    "    if total_income > 1000001:\n",
    "        return 'A'\n",
    "data['total_income_category'] = data['total_income'].apply(income)    "
   ]
  },
  {
   "cell_type": "code",
   "execution_count": 36,
   "id": "ed67af5f",
   "metadata": {},
   "outputs": [
    {
     "data": {
      "text/html": [
       "<div>\n",
       "<style scoped>\n",
       "    .dataframe tbody tr th:only-of-type {\n",
       "        vertical-align: middle;\n",
       "    }\n",
       "\n",
       "    .dataframe tbody tr th {\n",
       "        vertical-align: top;\n",
       "    }\n",
       "\n",
       "    .dataframe thead th {\n",
       "        text-align: right;\n",
       "    }\n",
       "</style>\n",
       "<table border=\"1\" class=\"dataframe\">\n",
       "  <thead>\n",
       "    <tr style=\"text-align: right;\">\n",
       "      <th></th>\n",
       "      <th>children</th>\n",
       "      <th>days_employed</th>\n",
       "      <th>dob_years</th>\n",
       "      <th>education_id</th>\n",
       "      <th>family_status_id</th>\n",
       "      <th>gender</th>\n",
       "      <th>income_type</th>\n",
       "      <th>debt</th>\n",
       "      <th>total_income</th>\n",
       "      <th>purpose</th>\n",
       "      <th>total_income_category</th>\n",
       "    </tr>\n",
       "  </thead>\n",
       "  <tbody>\n",
       "    <tr>\n",
       "      <th>0</th>\n",
       "      <td>1.0</td>\n",
       "      <td>8437</td>\n",
       "      <td>42.0</td>\n",
       "      <td>0</td>\n",
       "      <td>0</td>\n",
       "      <td>F</td>\n",
       "      <td>сотрудник</td>\n",
       "      <td>0</td>\n",
       "      <td>253875</td>\n",
       "      <td>покупка жилья</td>\n",
       "      <td>B</td>\n",
       "    </tr>\n",
       "    <tr>\n",
       "      <th>1</th>\n",
       "      <td>1.0</td>\n",
       "      <td>4024</td>\n",
       "      <td>36.0</td>\n",
       "      <td>1</td>\n",
       "      <td>0</td>\n",
       "      <td>F</td>\n",
       "      <td>сотрудник</td>\n",
       "      <td>0</td>\n",
       "      <td>112080</td>\n",
       "      <td>приобретение автомобиля</td>\n",
       "      <td>C</td>\n",
       "    </tr>\n",
       "    <tr>\n",
       "      <th>2</th>\n",
       "      <td>0.0</td>\n",
       "      <td>5623</td>\n",
       "      <td>33.0</td>\n",
       "      <td>1</td>\n",
       "      <td>0</td>\n",
       "      <td>M</td>\n",
       "      <td>сотрудник</td>\n",
       "      <td>0</td>\n",
       "      <td>145885</td>\n",
       "      <td>покупка жилья</td>\n",
       "      <td>C</td>\n",
       "    </tr>\n",
       "  </tbody>\n",
       "</table>\n",
       "</div>"
      ],
      "text/plain": [
       "   children  days_employed  dob_years  education_id  family_status_id gender  \\\n",
       "0       1.0           8437       42.0             0                 0      F   \n",
       "1       1.0           4024       36.0             1                 0      F   \n",
       "2       0.0           5623       33.0             1                 0      M   \n",
       "\n",
       "  income_type  debt  total_income                  purpose  \\\n",
       "0   сотрудник     0        253875            покупка жилья   \n",
       "1   сотрудник     0        112080  приобретение автомобиля   \n",
       "2   сотрудник     0        145885            покупка жилья   \n",
       "\n",
       "  total_income_category  \n",
       "0                     B  \n",
       "1                     C  \n",
       "2                     C  "
      ]
     },
     "metadata": {},
     "output_type": "display_data"
    }
   ],
   "source": [
    "display(data.head(3))"
   ]
  },
  {
   "cell_type": "markdown",
   "id": "2593a3df",
   "metadata": {},
   "source": [
    "### Шаг 2.7. Категоризация целей кредита."
   ]
  },
  {
   "cell_type": "markdown",
   "id": "c9dc06d3",
   "metadata": {},
   "source": [
    "Создадим функцию, которая на основании данных из столбца purpose сформирует новый столбец purpose_category, в который войдут новые категории. Для начала посмотрим все уникальные значения стобца purpose."
   ]
  },
  {
   "cell_type": "code",
   "execution_count": 37,
   "id": "dac43a14",
   "metadata": {},
   "outputs": [
    {
     "data": {
      "text/plain": [
       "array(['покупка жилья', 'приобретение автомобиля',\n",
       "       'дополнительное образование', 'сыграть свадьбу',\n",
       "       'операции с жильем', 'образование', 'на проведение свадьбы',\n",
       "       'покупка жилья для семьи', 'покупка недвижимости',\n",
       "       'покупка коммерческой недвижимости', 'покупка жилой недвижимости',\n",
       "       'строительство собственной недвижимости', 'недвижимость',\n",
       "       'строительство недвижимости', 'на покупку подержанного автомобиля',\n",
       "       'на покупку своего автомобиля',\n",
       "       'операции с коммерческой недвижимостью',\n",
       "       'строительство жилой недвижимости', 'жилье',\n",
       "       'операции со своей недвижимостью', 'автомобили',\n",
       "       'заняться образованием', 'сделка с подержанным автомобилем',\n",
       "       'получение образования', 'автомобиль', 'свадьба',\n",
       "       'получение дополнительного образования', 'покупка своего жилья',\n",
       "       'операции с недвижимостью', 'получение высшего образования',\n",
       "       'свой автомобиль', 'сделка с автомобилем',\n",
       "       'профильное образование', 'высшее образование',\n",
       "       'покупка жилья для сдачи', 'на покупку автомобиля', 'ремонт жилью',\n",
       "       'заняться высшим образованием'], dtype=object)"
      ]
     },
     "execution_count": 37,
     "metadata": {},
     "output_type": "execute_result"
    }
   ],
   "source": [
    "data['purpose'].unique() "
   ]
  },
  {
   "cell_type": "code",
   "execution_count": 38,
   "id": "5c4ca581",
   "metadata": {},
   "outputs": [],
   "source": [
    "def object(purpose):\n",
    "    if 'автомобил' in purpose:\n",
    "        return 'операции с автомобилем'\n",
    "    if 'недвижимост' in purpose or 'жиль' in purpose:\n",
    "        return 'операции с недвижимостью'\n",
    "    if 'свадьб' in purpose:\n",
    "        return 'проведение свадьбы'\n",
    "    if 'образован' in purpose:\n",
    "        return 'получение образования'\n",
    "data['purpose_category'] = data['purpose'].apply(object)"
   ]
  },
  {
   "cell_type": "code",
   "execution_count": 39,
   "id": "9067055a",
   "metadata": {},
   "outputs": [
    {
     "data": {
      "text/html": [
       "<div>\n",
       "<style scoped>\n",
       "    .dataframe tbody tr th:only-of-type {\n",
       "        vertical-align: middle;\n",
       "    }\n",
       "\n",
       "    .dataframe tbody tr th {\n",
       "        vertical-align: top;\n",
       "    }\n",
       "\n",
       "    .dataframe thead th {\n",
       "        text-align: right;\n",
       "    }\n",
       "</style>\n",
       "<table border=\"1\" class=\"dataframe\">\n",
       "  <thead>\n",
       "    <tr style=\"text-align: right;\">\n",
       "      <th></th>\n",
       "      <th>children</th>\n",
       "      <th>days_employed</th>\n",
       "      <th>dob_years</th>\n",
       "      <th>education_id</th>\n",
       "      <th>family_status_id</th>\n",
       "      <th>gender</th>\n",
       "      <th>income_type</th>\n",
       "      <th>debt</th>\n",
       "      <th>total_income</th>\n",
       "      <th>purpose</th>\n",
       "      <th>total_income_category</th>\n",
       "      <th>purpose_category</th>\n",
       "    </tr>\n",
       "  </thead>\n",
       "  <tbody>\n",
       "    <tr>\n",
       "      <th>0</th>\n",
       "      <td>1.0</td>\n",
       "      <td>8437</td>\n",
       "      <td>42.0</td>\n",
       "      <td>0</td>\n",
       "      <td>0</td>\n",
       "      <td>F</td>\n",
       "      <td>сотрудник</td>\n",
       "      <td>0</td>\n",
       "      <td>253875</td>\n",
       "      <td>покупка жилья</td>\n",
       "      <td>B</td>\n",
       "      <td>операции с недвижимостью</td>\n",
       "    </tr>\n",
       "    <tr>\n",
       "      <th>1</th>\n",
       "      <td>1.0</td>\n",
       "      <td>4024</td>\n",
       "      <td>36.0</td>\n",
       "      <td>1</td>\n",
       "      <td>0</td>\n",
       "      <td>F</td>\n",
       "      <td>сотрудник</td>\n",
       "      <td>0</td>\n",
       "      <td>112080</td>\n",
       "      <td>приобретение автомобиля</td>\n",
       "      <td>C</td>\n",
       "      <td>операции с автомобилем</td>\n",
       "    </tr>\n",
       "    <tr>\n",
       "      <th>2</th>\n",
       "      <td>0.0</td>\n",
       "      <td>5623</td>\n",
       "      <td>33.0</td>\n",
       "      <td>1</td>\n",
       "      <td>0</td>\n",
       "      <td>M</td>\n",
       "      <td>сотрудник</td>\n",
       "      <td>0</td>\n",
       "      <td>145885</td>\n",
       "      <td>покупка жилья</td>\n",
       "      <td>C</td>\n",
       "      <td>операции с недвижимостью</td>\n",
       "    </tr>\n",
       "  </tbody>\n",
       "</table>\n",
       "</div>"
      ],
      "text/plain": [
       "   children  days_employed  dob_years  education_id  family_status_id gender  \\\n",
       "0       1.0           8437       42.0             0                 0      F   \n",
       "1       1.0           4024       36.0             1                 0      F   \n",
       "2       0.0           5623       33.0             1                 0      M   \n",
       "\n",
       "  income_type  debt  total_income                  purpose  \\\n",
       "0   сотрудник     0        253875            покупка жилья   \n",
       "1   сотрудник     0        112080  приобретение автомобиля   \n",
       "2   сотрудник     0        145885            покупка жилья   \n",
       "\n",
       "  total_income_category          purpose_category  \n",
       "0                     B  операции с недвижимостью  \n",
       "1                     C    операции с автомобилем  \n",
       "2                     C  операции с недвижимостью  "
      ]
     },
     "execution_count": 39,
     "metadata": {},
     "output_type": "execute_result"
    }
   ],
   "source": [
    "data.head(3)"
   ]
  },
  {
   "cell_type": "markdown",
   "id": "6f911389",
   "metadata": {},
   "source": [
    "### Ответы на вопросы."
   ]
  },
  {
   "cell_type": "markdown",
   "id": "80e39c20",
   "metadata": {},
   "source": [
    "##### Вопрос 1: Есть ли зависимость между количеством детей и возвратом кредита в срок?"
   ]
  },
  {
   "cell_type": "markdown",
   "id": "ca73d9cb",
   "metadata": {},
   "source": [
    "Для дальнейшего ответа на данный вопрос проведем категоризациию столбца 'children', в который войдут новые значения в зависимости от количества детей."
   ]
  },
  {
   "cell_type": "code",
   "execution_count": 40,
   "id": "a711ed68",
   "metadata": {},
   "outputs": [],
   "source": [
    "def having_children(children):\n",
    "    if children == 0:\n",
    "        return 'бездетные'\n",
    "    if children > 0 and children <= 2:\n",
    "        return '1-2 ребенка'\n",
    "    if children > 2:\n",
    "        return 'многодетные'\n",
    "data['children_category'] = data['children'].apply(having_children)"
   ]
  },
  {
   "cell_type": "markdown",
   "id": "87843f29",
   "metadata": {},
   "source": [
    "Создадим сводную таблицу с помощью метода pivot_table"
   ]
  },
  {
   "cell_type": "code",
   "execution_count": 41,
   "id": "f0800a05",
   "metadata": {},
   "outputs": [
    {
     "data": {
      "text/html": [
       "<div>\n",
       "<style scoped>\n",
       "    .dataframe tbody tr th:only-of-type {\n",
       "        vertical-align: middle;\n",
       "    }\n",
       "\n",
       "    .dataframe tbody tr th {\n",
       "        vertical-align: top;\n",
       "    }\n",
       "\n",
       "    .dataframe thead th {\n",
       "        text-align: right;\n",
       "    }\n",
       "</style>\n",
       "<table border=\"1\" class=\"dataframe\">\n",
       "  <thead>\n",
       "    <tr style=\"text-align: right;\">\n",
       "      <th>debt</th>\n",
       "      <th>0</th>\n",
       "      <th>1</th>\n",
       "      <th>ratio</th>\n",
       "    </tr>\n",
       "    <tr>\n",
       "      <th>children_category</th>\n",
       "      <th></th>\n",
       "      <th></th>\n",
       "      <th></th>\n",
       "    </tr>\n",
       "  </thead>\n",
       "  <tbody>\n",
       "    <tr>\n",
       "      <th>1-2 ребенка</th>\n",
       "      <td>6268</td>\n",
       "      <td>639</td>\n",
       "      <td>10.194639</td>\n",
       "    </tr>\n",
       "    <tr>\n",
       "      <th>многодетные</th>\n",
       "      <td>349</td>\n",
       "      <td>31</td>\n",
       "      <td>8.882521</td>\n",
       "    </tr>\n",
       "    <tr>\n",
       "      <th>бездетные</th>\n",
       "      <td>13096</td>\n",
       "      <td>1071</td>\n",
       "      <td>8.178070</td>\n",
       "    </tr>\n",
       "  </tbody>\n",
       "</table>\n",
       "</div>"
      ],
      "text/plain": [
       "debt                   0     1      ratio\n",
       "children_category                        \n",
       "1-2 ребенка         6268   639  10.194639\n",
       "многодетные          349    31   8.882521\n",
       "бездетные          13096  1071   8.178070"
      ]
     },
     "metadata": {},
     "output_type": "display_data"
    }
   ],
   "source": [
    "children_dobt = data.pivot_table(index='children_category', columns='debt', values='days_employed', aggfunc='count')\n",
    "children_dobt['ratio'] = children_dobt[1] / children_dobt[0] * 100\n",
    "display(children_dobt.sort_values(by='ratio', ascending=False))"
   ]
  },
  {
   "cell_type": "markdown",
   "id": "b5095dc1",
   "metadata": {},
   "source": [
    "##### Вывод 1:"
   ]
  },
  {
   "cell_type": "markdown",
   "id": "37d7a7e3",
   "metadata": {},
   "source": [
    "Заемщики, не имеющие детей, более склонны возвращать кредит в срок."
   ]
  },
  {
   "cell_type": "markdown",
   "id": "374d57b6",
   "metadata": {},
   "source": [
    "##### Вопрос 2: Есть ли зависимость между семейным положением и возвратом кредита в срок?"
   ]
  },
  {
   "cell_type": "markdown",
   "id": "f44538bd",
   "metadata": {},
   "source": [
    "Ответим на данный вопрос таким же способом, добавив объединение двух таблиц."
   ]
  },
  {
   "cell_type": "code",
   "execution_count": 42,
   "id": "82eb41fe",
   "metadata": {},
   "outputs": [
    {
     "data": {
      "text/html": [
       "<div>\n",
       "<style scoped>\n",
       "    .dataframe tbody tr th:only-of-type {\n",
       "        vertical-align: middle;\n",
       "    }\n",
       "\n",
       "    .dataframe tbody tr th {\n",
       "        vertical-align: top;\n",
       "    }\n",
       "\n",
       "    .dataframe thead th {\n",
       "        text-align: right;\n",
       "    }\n",
       "</style>\n",
       "<table border=\"1\" class=\"dataframe\">\n",
       "  <thead>\n",
       "    <tr style=\"text-align: right;\">\n",
       "      <th></th>\n",
       "      <th>family_status_id</th>\n",
       "      <th>0</th>\n",
       "      <th>1</th>\n",
       "      <th>ratio</th>\n",
       "      <th>family_status</th>\n",
       "    </tr>\n",
       "  </thead>\n",
       "  <tbody>\n",
       "    <tr>\n",
       "      <th>4</th>\n",
       "      <td>4</td>\n",
       "      <td>2536</td>\n",
       "      <td>274</td>\n",
       "      <td>10.804416</td>\n",
       "      <td>Не женат / не замужем</td>\n",
       "    </tr>\n",
       "    <tr>\n",
       "      <th>1</th>\n",
       "      <td>1</td>\n",
       "      <td>3763</td>\n",
       "      <td>388</td>\n",
       "      <td>10.310922</td>\n",
       "      <td>гражданский брак</td>\n",
       "    </tr>\n",
       "    <tr>\n",
       "      <th>0</th>\n",
       "      <td>0</td>\n",
       "      <td>11408</td>\n",
       "      <td>931</td>\n",
       "      <td>8.160940</td>\n",
       "      <td>женат / замужем</td>\n",
       "    </tr>\n",
       "    <tr>\n",
       "      <th>3</th>\n",
       "      <td>3</td>\n",
       "      <td>1110</td>\n",
       "      <td>85</td>\n",
       "      <td>7.657658</td>\n",
       "      <td>в разводе</td>\n",
       "    </tr>\n",
       "    <tr>\n",
       "      <th>2</th>\n",
       "      <td>2</td>\n",
       "      <td>896</td>\n",
       "      <td>63</td>\n",
       "      <td>7.031250</td>\n",
       "      <td>вдовец / вдова</td>\n",
       "    </tr>\n",
       "  </tbody>\n",
       "</table>\n",
       "</div>"
      ],
      "text/plain": [
       "   family_status_id      0    1      ratio          family_status\n",
       "4                 4   2536  274  10.804416  Не женат / не замужем\n",
       "1                 1   3763  388  10.310922       гражданский брак\n",
       "0                 0  11408  931   8.160940        женат / замужем\n",
       "3                 3   1110   85   7.657658              в разводе\n",
       "2                 2    896   63   7.031250         вдовец / вдова"
      ]
     },
     "metadata": {},
     "output_type": "display_data"
    }
   ],
   "source": [
    "family_debt = data.pivot_table(index='family_status_id', columns='debt', values='days_employed', aggfunc='count') #сводная таблица\n",
    "family_debt['ratio'] = family_debt[1] / family_debt[0] * 100\n",
    "family_debt_final = family_debt.merge(family_status_dict, on='family_status_id', how='left') #объединим две таблицы методом merge\n",
    "display(family_debt_final.sort_values(by='ratio', ascending=False))\n",
    "\n"
   ]
  },
  {
   "cell_type": "markdown",
   "id": "efde1cde",
   "metadata": {},
   "source": [
    "##### Вывод 2:"
   ]
  },
  {
   "cell_type": "markdown",
   "id": "7c406e54",
   "metadata": {},
   "source": [
    "Люди, не состоящие в браке, имеют больший процент невозвратов в срок.  Но те, кто развелись или овдовели, чаще платят в срок, чем люди в браке."
   ]
  },
  {
   "cell_type": "markdown",
   "id": "ac1da284",
   "metadata": {},
   "source": [
    "##### Вопрос 3: Есть ли зависимость между уровнем дохода и возвратом кредита в срок?"
   ]
  },
  {
   "cell_type": "code",
   "execution_count": 43,
   "id": "2889b201",
   "metadata": {},
   "outputs": [
    {
     "data": {
      "text/html": [
       "<div>\n",
       "<style scoped>\n",
       "    .dataframe tbody tr th:only-of-type {\n",
       "        vertical-align: middle;\n",
       "    }\n",
       "\n",
       "    .dataframe tbody tr th {\n",
       "        vertical-align: top;\n",
       "    }\n",
       "\n",
       "    .dataframe thead th {\n",
       "        text-align: right;\n",
       "    }\n",
       "</style>\n",
       "<table border=\"1\" class=\"dataframe\">\n",
       "  <thead>\n",
       "    <tr style=\"text-align: right;\">\n",
       "      <th>debt</th>\n",
       "      <th>0</th>\n",
       "      <th>1</th>\n",
       "      <th>ratio</th>\n",
       "    </tr>\n",
       "    <tr>\n",
       "      <th>total_income_category</th>\n",
       "      <th></th>\n",
       "      <th></th>\n",
       "      <th></th>\n",
       "    </tr>\n",
       "  </thead>\n",
       "  <tbody>\n",
       "    <tr>\n",
       "      <th>E</th>\n",
       "      <td>20</td>\n",
       "      <td>2</td>\n",
       "      <td>10.000000</td>\n",
       "    </tr>\n",
       "    <tr>\n",
       "      <th>C</th>\n",
       "      <td>14655</td>\n",
       "      <td>1360</td>\n",
       "      <td>9.280109</td>\n",
       "    </tr>\n",
       "    <tr>\n",
       "      <th>A</th>\n",
       "      <td>23</td>\n",
       "      <td>2</td>\n",
       "      <td>8.695652</td>\n",
       "    </tr>\n",
       "    <tr>\n",
       "      <th>B</th>\n",
       "      <td>4686</td>\n",
       "      <td>356</td>\n",
       "      <td>7.597098</td>\n",
       "    </tr>\n",
       "    <tr>\n",
       "      <th>D</th>\n",
       "      <td>329</td>\n",
       "      <td>21</td>\n",
       "      <td>6.382979</td>\n",
       "    </tr>\n",
       "  </tbody>\n",
       "</table>\n",
       "</div>"
      ],
      "text/plain": [
       "debt                       0     1      ratio\n",
       "total_income_category                        \n",
       "E                         20     2  10.000000\n",
       "C                      14655  1360   9.280109\n",
       "A                         23     2   8.695652\n",
       "B                       4686   356   7.597098\n",
       "D                        329    21   6.382979"
      ]
     },
     "metadata": {},
     "output_type": "display_data"
    }
   ],
   "source": [
    "employed_dept = data.pivot_table(index='total_income_category', columns='debt', values='days_employed', aggfunc='count') #сводная таблица\n",
    "employed_dept['ratio'] = employed_dept[1] / employed_dept[0] * 100\n",
    "display(employed_dept.sort_values(by='ratio', ascending=False))\n"
   ]
  },
  {
   "cell_type": "markdown",
   "id": "00d798c9",
   "metadata": {},
   "source": [
    "##### Вывод 3:  "
   ]
  },
  {
   "cell_type": "markdown",
   "id": "2124fd89",
   "metadata": {},
   "source": [
    "Люди с самым малым доходом в месяц более склонны к невыплате кредитных платежей в установленные сроки."
   ]
  },
  {
   "cell_type": "markdown",
   "id": "703491f6",
   "metadata": {},
   "source": [
    "##### Вопрос 4: Как разные цели кредита влияют на его возврат в срок?"
   ]
  },
  {
   "cell_type": "code",
   "execution_count": 44,
   "id": "7793c0e5",
   "metadata": {},
   "outputs": [
    {
     "data": {
      "text/html": [
       "<div>\n",
       "<style scoped>\n",
       "    .dataframe tbody tr th:only-of-type {\n",
       "        vertical-align: middle;\n",
       "    }\n",
       "\n",
       "    .dataframe tbody tr th {\n",
       "        vertical-align: top;\n",
       "    }\n",
       "\n",
       "    .dataframe thead th {\n",
       "        text-align: right;\n",
       "    }\n",
       "</style>\n",
       "<table border=\"1\" class=\"dataframe\">\n",
       "  <thead>\n",
       "    <tr style=\"text-align: right;\">\n",
       "      <th>debt</th>\n",
       "      <th>0</th>\n",
       "      <th>1</th>\n",
       "      <th>ratio</th>\n",
       "    </tr>\n",
       "    <tr>\n",
       "      <th>purpose_category</th>\n",
       "      <th></th>\n",
       "      <th></th>\n",
       "      <th></th>\n",
       "    </tr>\n",
       "  </thead>\n",
       "  <tbody>\n",
       "    <tr>\n",
       "      <th>операции с автомобилем</th>\n",
       "      <td>3903</td>\n",
       "      <td>403</td>\n",
       "      <td>10.325391</td>\n",
       "    </tr>\n",
       "    <tr>\n",
       "      <th>получение образования</th>\n",
       "      <td>3643</td>\n",
       "      <td>370</td>\n",
       "      <td>10.156464</td>\n",
       "    </tr>\n",
       "    <tr>\n",
       "      <th>проведение свадьбы</th>\n",
       "      <td>2138</td>\n",
       "      <td>186</td>\n",
       "      <td>8.699719</td>\n",
       "    </tr>\n",
       "    <tr>\n",
       "      <th>операции с недвижимостью</th>\n",
       "      <td>10029</td>\n",
       "      <td>782</td>\n",
       "      <td>7.797388</td>\n",
       "    </tr>\n",
       "  </tbody>\n",
       "</table>\n",
       "</div>"
      ],
      "text/plain": [
       "debt                          0    1      ratio\n",
       "purpose_category                               \n",
       "операции с автомобилем     3903  403  10.325391\n",
       "получение образования      3643  370  10.156464\n",
       "проведение свадьбы         2138  186   8.699719\n",
       "операции с недвижимостью  10029  782   7.797388"
      ]
     },
     "metadata": {},
     "output_type": "display_data"
    }
   ],
   "source": [
    "purpose_debt = data.pivot_table(index='purpose_category', columns='debt', values='days_employed', aggfunc='count') #сводная таблица\n",
    "purpose_debt['ratio'] = purpose_debt[1] / purpose_debt[0] * 100\n",
    "display(purpose_debt.sort_values(by='ratio', ascending=False))"
   ]
  },
  {
   "cell_type": "markdown",
   "id": "983996d5",
   "metadata": {},
   "source": [
    "##### Вывод 4:"
   ]
  },
  {
   "cell_type": "markdown",
   "id": "4751a573",
   "metadata": {},
   "source": [
    "Наибольшая вероятность стать должником есть у людей, получающих кредитные средства на операции с автомобилем. В то время как кредитные средства на операции с недвижимостью возвращаются в срок чаще остальных."
   ]
  },
  {
   "cell_type": "markdown",
   "id": "e85b8508",
   "metadata": {},
   "source": [
    "## Общий вывод:"
   ]
  },
  {
   "cell_type": "markdown",
   "id": "99226047",
   "metadata": {},
   "source": [
    "    \n",
    "Основываясь на полученных данных можно придти к следующим выводам:\n",
    "    \n",
    "1. Заемщики, не имеющие детей, более склонны возвращать кредит в срок.\n",
    "- Вероятность клиента, принадлежащего к группе \"бездетные\", стать должником стоставляет 8.1%\n",
    "- Вероятность клиента, принадлежащего к группе \"1-2 ребенка\", стать должником стоставляет 10.1% \n",
    "- Вероятность клиента, принадлежащего к группе \"многодетные\", стать должником стоставляет 8.8%\n",
    "\n",
    "2. Люди, не состоящие в браке, имеют больший процент невозвратов в срок.  В то время как те, кто развелись или овдовели, чаще платят в срок, чем люди в браке. Полученные вероятности невозврата кредита в срок распределились следубщим образом:\n",
    "- Не женат / не замужем 10.8%\n",
    "- гражданский брак 10.3%\n",
    "- женат / замужем 8.1%\n",
    "- в разводе 7.6%\n",
    "- вдовец / вдова 7%\n",
    "   \n",
    "3. Люди с самым малым доходом в месяц более склонны к невыплате кредитных платежей в установленные сроки. Получившиеся вероятности задолженности по убыванию :\n",
    "\n",
    "- доход в диапазоне до 30 000 рублей в месяц = 10% (категория E)    \n",
    "- доход в диапазоне от 50 001 до 200 000 рублей в месяц = 9.2% (категория C)\n",
    "- доход в диапазоне более 1 000 001 рублей в месяц = 8.6% (категория A)\n",
    "- доход в диапазоне от 200 001 до 1000 000 рублей в месяц = 7.5% (категория B)\n",
    "- доход в диапазоне от 30 001 до 50 000 рублей в месяц = 6.3% (категория D)\n",
    "    \n",
    "Однако следует учитывать тот факт, что такие категории, как E, A и D, состоят из относительно малого числа данных, в связи с чем, дать обективный вывод затруднительно. \n",
    "    \n",
    "4. Наибольшая вероятность стать должником есть у людей, получающие кредитные средства на операции с автомобилем. В то время как кредитные средства на операции с недвижимостью возвращаются в срок чаще остальных. Получившиеся вероятности задолженности по убыванию :\n",
    "    \n",
    "- операции с автомобилем 10.3%\n",
    "- получение образования 10.1%\n",
    "- проведение свадьбы 8.6%\t\n",
    "- операции с недвижимостью 7.7% \n",
    " \n",
    "Подводя итоги можно придти к выводу, что семейное положение и количество детей клиента влияет на факт погашения кредита в срок. Наиболее безопасными для банка заемщиками являются люди без детей, имеющие семейное положение вдова/вдовец.    \n",
    "    \n",
    "</div>"
   ]
  },
  {
   "cell_type": "code",
   "execution_count": null,
   "id": "526961dc",
   "metadata": {},
   "outputs": [],
   "source": []
  }
 ],
 "metadata": {
  "ExecuteTimeLog": [
   {
    "duration": 634,
    "start_time": "2022-04-12T15:53:01.109Z"
   },
   {
    "duration": 255,
    "start_time": "2022-04-12T16:13:08.883Z"
   },
   {
    "duration": 27,
    "start_time": "2022-04-12T16:14:03.441Z"
   },
   {
    "duration": 100,
    "start_time": "2022-04-12T16:19:19.114Z"
   },
   {
    "duration": 57,
    "start_time": "2022-04-12T16:19:54.781Z"
   },
   {
    "duration": 14,
    "start_time": "2022-04-12T16:20:36.423Z"
   },
   {
    "duration": 110,
    "start_time": "2022-04-12T16:25:38.003Z"
   },
   {
    "duration": 43,
    "start_time": "2022-04-13T16:04:57.984Z"
   },
   {
    "duration": 6,
    "start_time": "2022-04-13T16:05:36.070Z"
   },
   {
    "duration": 6,
    "start_time": "2022-04-13T16:05:48.125Z"
   },
   {
    "duration": 8,
    "start_time": "2022-04-13T16:06:19.471Z"
   },
   {
    "duration": 423,
    "start_time": "2022-04-13T16:06:42.090Z"
   },
   {
    "duration": 14,
    "start_time": "2022-04-13T16:06:42.514Z"
   },
   {
    "duration": 12,
    "start_time": "2022-04-13T16:06:42.530Z"
   },
   {
    "duration": 5,
    "start_time": "2022-04-13T16:06:42.548Z"
   },
   {
    "duration": 65,
    "start_time": "2022-04-13T16:44:18.950Z"
   },
   {
    "duration": 3,
    "start_time": "2022-04-13T17:36:52.118Z"
   },
   {
    "duration": 429,
    "start_time": "2022-04-13T18:06:25.010Z"
   },
   {
    "duration": 15,
    "start_time": "2022-04-13T18:06:25.441Z"
   },
   {
    "duration": 4,
    "start_time": "2022-04-13T18:06:25.457Z"
   },
   {
    "duration": 10,
    "start_time": "2022-04-13T18:06:25.463Z"
   },
   {
    "duration": 5,
    "start_time": "2022-04-13T18:06:25.475Z"
   },
   {
    "duration": 0,
    "start_time": "2022-04-13T20:51:56.338Z"
   },
   {
    "duration": 10,
    "start_time": "2022-04-13T20:52:17.381Z"
   },
   {
    "duration": 13,
    "start_time": "2022-04-13T20:52:50.524Z"
   },
   {
    "duration": 6,
    "start_time": "2022-04-13T20:59:40.547Z"
   },
   {
    "duration": 13,
    "start_time": "2022-04-13T21:24:34.015Z"
   },
   {
    "duration": 7,
    "start_time": "2022-04-13T21:25:21.248Z"
   },
   {
    "duration": 7,
    "start_time": "2022-04-13T21:25:51.693Z"
   },
   {
    "duration": 6,
    "start_time": "2022-04-13T21:40:47.748Z"
   },
   {
    "duration": 16,
    "start_time": "2022-04-13T21:45:52.834Z"
   },
   {
    "duration": 407,
    "start_time": "2022-04-13T21:46:03.399Z"
   },
   {
    "duration": 14,
    "start_time": "2022-04-13T21:46:03.808Z"
   },
   {
    "duration": 4,
    "start_time": "2022-04-13T21:46:03.823Z"
   },
   {
    "duration": 26,
    "start_time": "2022-04-13T21:46:03.829Z"
   },
   {
    "duration": 12,
    "start_time": "2022-04-13T21:46:03.856Z"
   },
   {
    "duration": 5,
    "start_time": "2022-04-13T21:46:03.870Z"
   },
   {
    "duration": 92,
    "start_time": "2022-04-13T21:46:03.877Z"
   },
   {
    "duration": 12,
    "start_time": "2022-04-13T21:50:21.242Z"
   },
   {
    "duration": 431,
    "start_time": "2022-04-13T21:50:33.579Z"
   },
   {
    "duration": 16,
    "start_time": "2022-04-13T21:50:34.013Z"
   },
   {
    "duration": 16,
    "start_time": "2022-04-13T21:50:34.031Z"
   },
   {
    "duration": 10,
    "start_time": "2022-04-13T21:50:34.049Z"
   },
   {
    "duration": 13,
    "start_time": "2022-04-13T21:50:34.061Z"
   },
   {
    "duration": 8,
    "start_time": "2022-04-13T21:50:34.075Z"
   },
   {
    "duration": 106,
    "start_time": "2022-04-13T21:50:34.085Z"
   },
   {
    "duration": 4,
    "start_time": "2022-04-13T21:51:45.730Z"
   },
   {
    "duration": 17,
    "start_time": "2022-04-13T22:31:21.516Z"
   },
   {
    "duration": 17,
    "start_time": "2022-04-13T22:31:28.189Z"
   },
   {
    "duration": 23,
    "start_time": "2022-04-13T22:31:36.287Z"
   },
   {
    "duration": 15,
    "start_time": "2022-04-13T22:33:17.906Z"
   },
   {
    "duration": 31,
    "start_time": "2022-04-13T22:36:11.758Z"
   },
   {
    "duration": 450,
    "start_time": "2022-04-13T22:36:28.565Z"
   },
   {
    "duration": 16,
    "start_time": "2022-04-13T22:36:29.017Z"
   },
   {
    "duration": 4,
    "start_time": "2022-04-13T22:36:29.047Z"
   },
   {
    "duration": 11,
    "start_time": "2022-04-13T22:36:29.054Z"
   },
   {
    "duration": 14,
    "start_time": "2022-04-13T22:36:29.067Z"
   },
   {
    "duration": 7,
    "start_time": "2022-04-13T22:36:29.083Z"
   },
   {
    "duration": 110,
    "start_time": "2022-04-13T22:36:29.092Z"
   },
   {
    "duration": 0,
    "start_time": "2022-04-13T22:36:29.204Z"
   },
   {
    "duration": 0,
    "start_time": "2022-04-13T22:36:29.206Z"
   },
   {
    "duration": 0,
    "start_time": "2022-04-13T22:36:29.207Z"
   },
   {
    "duration": 17,
    "start_time": "2022-04-13T22:36:35.056Z"
   },
   {
    "duration": 30,
    "start_time": "2022-04-13T22:36:39.739Z"
   },
   {
    "duration": 25,
    "start_time": "2022-04-13T22:37:35.509Z"
   },
   {
    "duration": 17,
    "start_time": "2022-04-13T22:40:03.010Z"
   },
   {
    "duration": 21,
    "start_time": "2022-04-13T22:40:44.837Z"
   },
   {
    "duration": 485,
    "start_time": "2022-04-13T22:41:13.833Z"
   },
   {
    "duration": 16,
    "start_time": "2022-04-13T22:41:14.320Z"
   },
   {
    "duration": 11,
    "start_time": "2022-04-13T22:41:14.338Z"
   },
   {
    "duration": 14,
    "start_time": "2022-04-13T22:41:14.351Z"
   },
   {
    "duration": 21,
    "start_time": "2022-04-13T22:41:14.367Z"
   },
   {
    "duration": 7,
    "start_time": "2022-04-13T22:41:14.390Z"
   },
   {
    "duration": 102,
    "start_time": "2022-04-13T22:41:14.399Z"
   },
   {
    "duration": 0,
    "start_time": "2022-04-13T22:41:14.503Z"
   },
   {
    "duration": 0,
    "start_time": "2022-04-13T22:41:14.504Z"
   },
   {
    "duration": 0,
    "start_time": "2022-04-13T22:41:14.505Z"
   },
   {
    "duration": 0,
    "start_time": "2022-04-13T22:41:14.506Z"
   },
   {
    "duration": 6,
    "start_time": "2022-04-13T22:41:21.441Z"
   },
   {
    "duration": 17,
    "start_time": "2022-04-13T22:41:28.797Z"
   },
   {
    "duration": 26,
    "start_time": "2022-04-13T22:41:30.517Z"
   },
   {
    "duration": 22,
    "start_time": "2022-04-13T22:41:31.981Z"
   },
   {
    "duration": 13,
    "start_time": "2022-04-13T22:41:50.048Z"
   },
   {
    "duration": 476,
    "start_time": "2022-04-13T22:52:05.746Z"
   },
   {
    "duration": 16,
    "start_time": "2022-04-13T22:52:06.224Z"
   },
   {
    "duration": 8,
    "start_time": "2022-04-13T22:52:06.241Z"
   },
   {
    "duration": 12,
    "start_time": "2022-04-13T22:52:06.251Z"
   },
   {
    "duration": 14,
    "start_time": "2022-04-13T22:52:06.265Z"
   },
   {
    "duration": 11,
    "start_time": "2022-04-13T22:52:06.280Z"
   },
   {
    "duration": 99,
    "start_time": "2022-04-13T22:52:06.292Z"
   },
   {
    "duration": 0,
    "start_time": "2022-04-13T22:52:06.392Z"
   },
   {
    "duration": 0,
    "start_time": "2022-04-13T22:52:06.393Z"
   },
   {
    "duration": 0,
    "start_time": "2022-04-13T22:52:06.394Z"
   },
   {
    "duration": 0,
    "start_time": "2022-04-13T22:52:06.395Z"
   },
   {
    "duration": 18,
    "start_time": "2022-04-13T22:52:21.197Z"
   },
   {
    "duration": 30,
    "start_time": "2022-04-13T22:52:23.783Z"
   },
   {
    "duration": 26,
    "start_time": "2022-04-13T22:56:25.353Z"
   },
   {
    "duration": 25,
    "start_time": "2022-04-13T22:57:44.543Z"
   },
   {
    "duration": 477,
    "start_time": "2022-04-13T22:58:25.928Z"
   },
   {
    "duration": 14,
    "start_time": "2022-04-13T22:58:26.407Z"
   },
   {
    "duration": 4,
    "start_time": "2022-04-13T22:58:26.422Z"
   },
   {
    "duration": 23,
    "start_time": "2022-04-13T22:58:26.427Z"
   },
   {
    "duration": 11,
    "start_time": "2022-04-13T22:58:26.452Z"
   },
   {
    "duration": 6,
    "start_time": "2022-04-13T22:58:26.464Z"
   },
   {
    "duration": 98,
    "start_time": "2022-04-13T22:58:26.472Z"
   },
   {
    "duration": 0,
    "start_time": "2022-04-13T22:58:26.572Z"
   },
   {
    "duration": 0,
    "start_time": "2022-04-13T22:58:26.573Z"
   },
   {
    "duration": 0,
    "start_time": "2022-04-13T22:58:26.573Z"
   },
   {
    "duration": 0,
    "start_time": "2022-04-13T22:58:26.574Z"
   },
   {
    "duration": 26,
    "start_time": "2022-04-13T22:58:32.497Z"
   },
   {
    "duration": 4,
    "start_time": "2022-04-13T23:04:47.710Z"
   },
   {
    "duration": 423,
    "start_time": "2022-04-13T23:04:59.987Z"
   },
   {
    "duration": 14,
    "start_time": "2022-04-13T23:05:00.412Z"
   },
   {
    "duration": 21,
    "start_time": "2022-04-13T23:05:00.448Z"
   },
   {
    "duration": 16,
    "start_time": "2022-04-13T23:05:00.470Z"
   },
   {
    "duration": 17,
    "start_time": "2022-04-13T23:05:00.487Z"
   },
   {
    "duration": 7,
    "start_time": "2022-04-13T23:05:00.505Z"
   },
   {
    "duration": 79,
    "start_time": "2022-04-13T23:05:00.513Z"
   },
   {
    "duration": 0,
    "start_time": "2022-04-13T23:05:00.593Z"
   },
   {
    "duration": 0,
    "start_time": "2022-04-13T23:05:00.595Z"
   },
   {
    "duration": 0,
    "start_time": "2022-04-13T23:05:00.595Z"
   },
   {
    "duration": 0,
    "start_time": "2022-04-13T23:05:00.598Z"
   },
   {
    "duration": 0,
    "start_time": "2022-04-13T23:05:00.599Z"
   },
   {
    "duration": 6,
    "start_time": "2022-04-13T23:05:07.379Z"
   },
   {
    "duration": 110,
    "start_time": "2022-04-13T23:10:14.314Z"
   },
   {
    "duration": 18,
    "start_time": "2022-04-13T23:15:41.767Z"
   },
   {
    "duration": 476,
    "start_time": "2022-04-13T23:17:11.516Z"
   },
   {
    "duration": 14,
    "start_time": "2022-04-13T23:17:11.994Z"
   },
   {
    "duration": 4,
    "start_time": "2022-04-13T23:17:12.009Z"
   },
   {
    "duration": 11,
    "start_time": "2022-04-13T23:17:12.014Z"
   },
   {
    "duration": 31,
    "start_time": "2022-04-13T23:17:12.027Z"
   },
   {
    "duration": 6,
    "start_time": "2022-04-13T23:17:12.059Z"
   },
   {
    "duration": 85,
    "start_time": "2022-04-13T23:17:12.067Z"
   },
   {
    "duration": 0,
    "start_time": "2022-04-13T23:17:12.153Z"
   },
   {
    "duration": 0,
    "start_time": "2022-04-13T23:17:12.154Z"
   },
   {
    "duration": 0,
    "start_time": "2022-04-13T23:17:12.155Z"
   },
   {
    "duration": 0,
    "start_time": "2022-04-13T23:17:12.156Z"
   },
   {
    "duration": 0,
    "start_time": "2022-04-13T23:17:12.157Z"
   },
   {
    "duration": 0,
    "start_time": "2022-04-13T23:17:12.158Z"
   },
   {
    "duration": 5,
    "start_time": "2022-04-13T23:17:24.449Z"
   },
   {
    "duration": 10,
    "start_time": "2022-04-13T23:17:33.013Z"
   },
   {
    "duration": 20,
    "start_time": "2022-04-13T23:17:36.137Z"
   },
   {
    "duration": 16,
    "start_time": "2022-04-13T23:17:39.733Z"
   },
   {
    "duration": 18,
    "start_time": "2022-04-13T23:17:41.534Z"
   },
   {
    "duration": 5,
    "start_time": "2022-04-13T23:24:33.336Z"
   },
   {
    "duration": 5,
    "start_time": "2022-04-13T23:34:39.988Z"
   },
   {
    "duration": 6,
    "start_time": "2022-04-14T17:30:00.032Z"
   },
   {
    "duration": 19,
    "start_time": "2022-04-14T17:51:42.248Z"
   },
   {
    "duration": 19,
    "start_time": "2022-04-14T17:51:43.844Z"
   },
   {
    "duration": 17,
    "start_time": "2022-04-14T17:51:44.909Z"
   },
   {
    "duration": 8,
    "start_time": "2022-04-14T17:55:59.045Z"
   },
   {
    "duration": 7,
    "start_time": "2022-04-14T17:56:00.715Z"
   },
   {
    "duration": 496,
    "start_time": "2022-04-14T17:56:12.721Z"
   },
   {
    "duration": 14,
    "start_time": "2022-04-14T17:56:13.219Z"
   },
   {
    "duration": 5,
    "start_time": "2022-04-14T17:56:13.235Z"
   },
   {
    "duration": 10,
    "start_time": "2022-04-14T17:56:13.241Z"
   },
   {
    "duration": 10,
    "start_time": "2022-04-14T17:56:13.252Z"
   },
   {
    "duration": 17,
    "start_time": "2022-04-14T17:56:13.263Z"
   },
   {
    "duration": 6,
    "start_time": "2022-04-14T17:56:13.281Z"
   },
   {
    "duration": 84,
    "start_time": "2022-04-14T17:56:13.288Z"
   },
   {
    "duration": 0,
    "start_time": "2022-04-14T17:56:13.374Z"
   },
   {
    "duration": 0,
    "start_time": "2022-04-14T17:56:13.375Z"
   },
   {
    "duration": 0,
    "start_time": "2022-04-14T17:56:13.378Z"
   },
   {
    "duration": 0,
    "start_time": "2022-04-14T17:56:13.379Z"
   },
   {
    "duration": 0,
    "start_time": "2022-04-14T17:56:13.380Z"
   },
   {
    "duration": 0,
    "start_time": "2022-04-14T17:56:13.381Z"
   },
   {
    "duration": 7,
    "start_time": "2022-04-14T17:58:22.926Z"
   },
   {
    "duration": 29,
    "start_time": "2022-04-14T17:58:38.167Z"
   },
   {
    "duration": 45,
    "start_time": "2022-04-14T18:57:23.998Z"
   },
   {
    "duration": 433,
    "start_time": "2022-04-14T18:57:42.196Z"
   },
   {
    "duration": 16,
    "start_time": "2022-04-14T18:57:42.632Z"
   },
   {
    "duration": 5,
    "start_time": "2022-04-14T18:57:42.650Z"
   },
   {
    "duration": 35,
    "start_time": "2022-04-14T18:57:42.657Z"
   },
   {
    "duration": 10,
    "start_time": "2022-04-14T18:57:42.695Z"
   },
   {
    "duration": 12,
    "start_time": "2022-04-14T18:57:42.706Z"
   },
   {
    "duration": 29,
    "start_time": "2022-04-14T18:57:42.720Z"
   },
   {
    "duration": 7,
    "start_time": "2022-04-14T18:57:42.752Z"
   },
   {
    "duration": 70,
    "start_time": "2022-04-14T18:57:42.760Z"
   },
   {
    "duration": 0,
    "start_time": "2022-04-14T18:57:42.832Z"
   },
   {
    "duration": 0,
    "start_time": "2022-04-14T18:57:42.834Z"
   },
   {
    "duration": 0,
    "start_time": "2022-04-14T18:57:42.848Z"
   },
   {
    "duration": 0,
    "start_time": "2022-04-14T18:57:42.851Z"
   },
   {
    "duration": 0,
    "start_time": "2022-04-14T18:57:42.852Z"
   },
   {
    "duration": 0,
    "start_time": "2022-04-14T18:57:42.853Z"
   },
   {
    "duration": 7,
    "start_time": "2022-04-14T19:12:29.642Z"
   },
   {
    "duration": 3,
    "start_time": "2022-04-14T19:13:12.605Z"
   },
   {
    "duration": 5,
    "start_time": "2022-04-14T19:13:14.434Z"
   },
   {
    "duration": 9,
    "start_time": "2022-04-14T19:15:17.876Z"
   },
   {
    "duration": 5,
    "start_time": "2022-04-14T19:15:18.930Z"
   },
   {
    "duration": 6,
    "start_time": "2022-04-14T19:29:14.162Z"
   },
   {
    "duration": 452,
    "start_time": "2022-04-14T19:29:22.072Z"
   },
   {
    "duration": 22,
    "start_time": "2022-04-14T19:29:22.526Z"
   },
   {
    "duration": 5,
    "start_time": "2022-04-14T19:29:22.550Z"
   },
   {
    "duration": 32,
    "start_time": "2022-04-14T19:29:22.557Z"
   },
   {
    "duration": 10,
    "start_time": "2022-04-14T19:29:22.591Z"
   },
   {
    "duration": 12,
    "start_time": "2022-04-14T19:29:22.602Z"
   },
   {
    "duration": 32,
    "start_time": "2022-04-14T19:29:22.616Z"
   },
   {
    "duration": 5,
    "start_time": "2022-04-14T19:29:22.650Z"
   },
   {
    "duration": 7,
    "start_time": "2022-04-14T19:29:22.656Z"
   },
   {
    "duration": 5,
    "start_time": "2022-04-14T19:29:22.665Z"
   },
   {
    "duration": 85,
    "start_time": "2022-04-14T19:29:22.671Z"
   },
   {
    "duration": 0,
    "start_time": "2022-04-14T19:29:22.758Z"
   },
   {
    "duration": 0,
    "start_time": "2022-04-14T19:29:22.759Z"
   },
   {
    "duration": 0,
    "start_time": "2022-04-14T19:29:22.760Z"
   },
   {
    "duration": 0,
    "start_time": "2022-04-14T19:29:22.761Z"
   },
   {
    "duration": 0,
    "start_time": "2022-04-14T19:29:22.762Z"
   },
   {
    "duration": 0,
    "start_time": "2022-04-14T19:29:22.763Z"
   },
   {
    "duration": 5,
    "start_time": "2022-04-14T19:29:41.348Z"
   },
   {
    "duration": 7,
    "start_time": "2022-04-14T19:29:58.960Z"
   },
   {
    "duration": 489,
    "start_time": "2022-04-14T19:30:15.220Z"
   },
   {
    "duration": 14,
    "start_time": "2022-04-14T19:30:15.711Z"
   },
   {
    "duration": 3,
    "start_time": "2022-04-14T19:30:15.728Z"
   },
   {
    "duration": 42,
    "start_time": "2022-04-14T19:30:15.733Z"
   },
   {
    "duration": 9,
    "start_time": "2022-04-14T19:30:15.776Z"
   },
   {
    "duration": 13,
    "start_time": "2022-04-14T19:30:15.787Z"
   },
   {
    "duration": 6,
    "start_time": "2022-04-14T19:30:15.801Z"
   },
   {
    "duration": 5,
    "start_time": "2022-04-14T19:30:15.809Z"
   },
   {
    "duration": 36,
    "start_time": "2022-04-14T19:30:15.815Z"
   },
   {
    "duration": 7,
    "start_time": "2022-04-14T19:30:15.853Z"
   },
   {
    "duration": 66,
    "start_time": "2022-04-14T19:30:15.861Z"
   },
   {
    "duration": 0,
    "start_time": "2022-04-14T19:30:15.928Z"
   },
   {
    "duration": 0,
    "start_time": "2022-04-14T19:30:15.929Z"
   },
   {
    "duration": 0,
    "start_time": "2022-04-14T19:30:15.931Z"
   },
   {
    "duration": 0,
    "start_time": "2022-04-14T19:30:15.947Z"
   },
   {
    "duration": 0,
    "start_time": "2022-04-14T19:30:15.948Z"
   },
   {
    "duration": 0,
    "start_time": "2022-04-14T19:30:15.949Z"
   },
   {
    "duration": 6,
    "start_time": "2022-04-14T19:32:33.092Z"
   },
   {
    "duration": 11,
    "start_time": "2022-04-14T19:55:38.072Z"
   },
   {
    "duration": 7,
    "start_time": "2022-04-14T19:55:52.532Z"
   },
   {
    "duration": 18,
    "start_time": "2022-04-14T19:56:20.413Z"
   },
   {
    "duration": 8,
    "start_time": "2022-04-14T19:56:29.573Z"
   },
   {
    "duration": 89,
    "start_time": "2022-04-14T20:13:36.331Z"
   },
   {
    "duration": 9,
    "start_time": "2022-04-14T20:25:29.686Z"
   },
   {
    "duration": 4,
    "start_time": "2022-04-14T20:27:49.377Z"
   },
   {
    "duration": 5,
    "start_time": "2022-04-14T20:30:07.556Z"
   },
   {
    "duration": 5,
    "start_time": "2022-04-14T20:30:51.506Z"
   },
   {
    "duration": 4,
    "start_time": "2022-04-14T21:54:11.123Z"
   },
   {
    "duration": 4,
    "start_time": "2022-04-14T21:54:27.212Z"
   },
   {
    "duration": 8,
    "start_time": "2022-04-14T22:34:08.340Z"
   },
   {
    "duration": 483,
    "start_time": "2022-04-14T22:34:41.826Z"
   },
   {
    "duration": 14,
    "start_time": "2022-04-14T22:34:42.311Z"
   },
   {
    "duration": 4,
    "start_time": "2022-04-14T22:34:42.327Z"
   },
   {
    "duration": 41,
    "start_time": "2022-04-14T22:34:42.332Z"
   },
   {
    "duration": 9,
    "start_time": "2022-04-14T22:34:42.375Z"
   },
   {
    "duration": 13,
    "start_time": "2022-04-14T22:34:42.385Z"
   },
   {
    "duration": 85,
    "start_time": "2022-04-14T22:34:42.399Z"
   },
   {
    "duration": 0,
    "start_time": "2022-04-14T22:34:42.485Z"
   },
   {
    "duration": 0,
    "start_time": "2022-04-14T22:34:42.486Z"
   },
   {
    "duration": 0,
    "start_time": "2022-04-14T22:34:42.487Z"
   },
   {
    "duration": 0,
    "start_time": "2022-04-14T22:34:42.488Z"
   },
   {
    "duration": 0,
    "start_time": "2022-04-14T22:34:42.490Z"
   },
   {
    "duration": 0,
    "start_time": "2022-04-14T22:34:42.490Z"
   },
   {
    "duration": 0,
    "start_time": "2022-04-14T22:34:42.491Z"
   },
   {
    "duration": 0,
    "start_time": "2022-04-14T22:34:42.492Z"
   },
   {
    "duration": 0,
    "start_time": "2022-04-14T22:34:42.493Z"
   },
   {
    "duration": 0,
    "start_time": "2022-04-14T22:34:42.495Z"
   },
   {
    "duration": 0,
    "start_time": "2022-04-14T22:34:42.496Z"
   },
   {
    "duration": 0,
    "start_time": "2022-04-14T22:34:42.497Z"
   },
   {
    "duration": 7,
    "start_time": "2022-04-14T22:35:24.893Z"
   },
   {
    "duration": 6,
    "start_time": "2022-04-14T22:35:33.258Z"
   },
   {
    "duration": 8,
    "start_time": "2022-04-14T22:36:18.781Z"
   },
   {
    "duration": 16,
    "start_time": "2022-04-14T22:38:57.600Z"
   },
   {
    "duration": 4,
    "start_time": "2022-04-14T22:39:27.794Z"
   },
   {
    "duration": 9,
    "start_time": "2022-04-14T22:39:56.153Z"
   },
   {
    "duration": 302,
    "start_time": "2022-04-14T22:40:02.430Z"
   },
   {
    "duration": 24,
    "start_time": "2022-04-14T22:40:30.081Z"
   },
   {
    "duration": 461,
    "start_time": "2022-04-14T22:48:37.862Z"
   },
   {
    "duration": 16,
    "start_time": "2022-04-14T22:48:38.324Z"
   },
   {
    "duration": 9,
    "start_time": "2022-04-14T22:48:38.341Z"
   },
   {
    "duration": 31,
    "start_time": "2022-04-14T22:48:38.352Z"
   },
   {
    "duration": 10,
    "start_time": "2022-04-14T22:48:38.384Z"
   },
   {
    "duration": 13,
    "start_time": "2022-04-14T22:48:38.395Z"
   },
   {
    "duration": 7,
    "start_time": "2022-04-14T22:48:38.409Z"
   },
   {
    "duration": 36,
    "start_time": "2022-04-14T22:48:38.417Z"
   },
   {
    "duration": 5,
    "start_time": "2022-04-14T22:48:38.455Z"
   },
   {
    "duration": 7,
    "start_time": "2022-04-14T22:48:38.462Z"
   },
   {
    "duration": 6,
    "start_time": "2022-04-14T22:48:38.471Z"
   },
   {
    "duration": 136,
    "start_time": "2022-04-14T22:48:38.479Z"
   },
   {
    "duration": 1,
    "start_time": "2022-04-14T22:48:38.617Z"
   },
   {
    "duration": 0,
    "start_time": "2022-04-14T22:48:38.619Z"
   },
   {
    "duration": 0,
    "start_time": "2022-04-14T22:48:38.621Z"
   },
   {
    "duration": 0,
    "start_time": "2022-04-14T22:48:38.622Z"
   },
   {
    "duration": 0,
    "start_time": "2022-04-14T22:48:38.624Z"
   },
   {
    "duration": 0,
    "start_time": "2022-04-14T22:48:38.626Z"
   },
   {
    "duration": 1690,
    "start_time": "2022-04-15T14:40:11.019Z"
   },
   {
    "duration": 0,
    "start_time": "2022-04-15T14:40:30.553Z"
   },
   {
    "duration": 0,
    "start_time": "2022-04-15T14:40:51.370Z"
   },
   {
    "duration": 15,
    "start_time": "2022-04-15T14:41:15.278Z"
   },
   {
    "duration": 17,
    "start_time": "2022-04-15T14:41:33.850Z"
   },
   {
    "duration": 28,
    "start_time": "2022-04-15T14:41:57.256Z"
   },
   {
    "duration": 455,
    "start_time": "2022-04-15T14:42:10.158Z"
   },
   {
    "duration": 15,
    "start_time": "2022-04-15T14:42:10.615Z"
   },
   {
    "duration": 4,
    "start_time": "2022-04-15T14:42:10.632Z"
   },
   {
    "duration": 37,
    "start_time": "2022-04-15T14:42:10.637Z"
   },
   {
    "duration": 9,
    "start_time": "2022-04-15T14:42:10.675Z"
   },
   {
    "duration": 16,
    "start_time": "2022-04-15T14:42:10.686Z"
   },
   {
    "duration": 3,
    "start_time": "2022-04-15T14:42:10.704Z"
   },
   {
    "duration": 48,
    "start_time": "2022-04-15T14:42:10.708Z"
   },
   {
    "duration": 5,
    "start_time": "2022-04-15T14:42:10.757Z"
   },
   {
    "duration": 10,
    "start_time": "2022-04-15T14:42:10.764Z"
   },
   {
    "duration": 5,
    "start_time": "2022-04-15T14:42:10.776Z"
   },
   {
    "duration": 10,
    "start_time": "2022-04-15T14:42:10.782Z"
   },
   {
    "duration": 5,
    "start_time": "2022-04-15T14:42:10.793Z"
   },
   {
    "duration": 97,
    "start_time": "2022-04-15T14:42:10.799Z"
   },
   {
    "duration": 0,
    "start_time": "2022-04-15T14:42:10.898Z"
   },
   {
    "duration": 0,
    "start_time": "2022-04-15T14:42:10.899Z"
   },
   {
    "duration": 0,
    "start_time": "2022-04-15T14:42:10.900Z"
   },
   {
    "duration": 0,
    "start_time": "2022-04-15T14:42:10.901Z"
   },
   {
    "duration": 0,
    "start_time": "2022-04-15T14:42:10.902Z"
   },
   {
    "duration": 0,
    "start_time": "2022-04-15T14:42:10.903Z"
   },
   {
    "duration": 28,
    "start_time": "2022-04-15T14:43:09.549Z"
   },
   {
    "duration": 26,
    "start_time": "2022-04-15T14:43:56.412Z"
   },
   {
    "duration": 7,
    "start_time": "2022-04-15T14:50:25.229Z"
   },
   {
    "duration": 7,
    "start_time": "2022-04-15T14:50:55.785Z"
   },
   {
    "duration": 434,
    "start_time": "2022-04-15T14:51:03.080Z"
   },
   {
    "duration": 14,
    "start_time": "2022-04-15T14:51:03.515Z"
   },
   {
    "duration": 3,
    "start_time": "2022-04-15T14:51:03.531Z"
   },
   {
    "duration": 38,
    "start_time": "2022-04-15T14:51:03.536Z"
   },
   {
    "duration": 9,
    "start_time": "2022-04-15T14:51:03.576Z"
   },
   {
    "duration": 17,
    "start_time": "2022-04-15T14:51:03.586Z"
   },
   {
    "duration": 4,
    "start_time": "2022-04-15T14:51:03.604Z"
   },
   {
    "duration": 9,
    "start_time": "2022-04-15T14:51:03.609Z"
   },
   {
    "duration": 5,
    "start_time": "2022-04-15T14:51:03.619Z"
   },
   {
    "duration": 29,
    "start_time": "2022-04-15T14:51:03.625Z"
   },
   {
    "duration": 6,
    "start_time": "2022-04-15T14:51:03.656Z"
   },
   {
    "duration": 10,
    "start_time": "2022-04-15T14:51:03.663Z"
   },
   {
    "duration": 6,
    "start_time": "2022-04-15T14:51:03.674Z"
   },
   {
    "duration": 99,
    "start_time": "2022-04-15T14:51:03.683Z"
   },
   {
    "duration": 0,
    "start_time": "2022-04-15T14:51:03.784Z"
   },
   {
    "duration": 0,
    "start_time": "2022-04-15T14:51:03.785Z"
   },
   {
    "duration": 0,
    "start_time": "2022-04-15T14:51:03.786Z"
   },
   {
    "duration": 0,
    "start_time": "2022-04-15T14:51:03.788Z"
   },
   {
    "duration": 0,
    "start_time": "2022-04-15T14:51:03.789Z"
   },
   {
    "duration": 0,
    "start_time": "2022-04-15T14:51:03.791Z"
   },
   {
    "duration": 8,
    "start_time": "2022-04-15T14:51:45.617Z"
   },
   {
    "duration": 15,
    "start_time": "2022-04-15T15:03:05.123Z"
   },
   {
    "duration": 9,
    "start_time": "2022-04-15T15:04:45.142Z"
   },
   {
    "duration": 6,
    "start_time": "2022-04-15T15:05:24.263Z"
   },
   {
    "duration": 5,
    "start_time": "2022-04-15T15:05:25.883Z"
   },
   {
    "duration": 6,
    "start_time": "2022-04-15T15:05:46.354Z"
   },
   {
    "duration": 11,
    "start_time": "2022-04-15T15:47:45.225Z"
   },
   {
    "duration": 340,
    "start_time": "2022-04-15T15:59:20.226Z"
   },
   {
    "duration": 109,
    "start_time": "2022-04-15T16:01:13.589Z"
   },
   {
    "duration": 14,
    "start_time": "2022-04-15T16:02:13.586Z"
   },
   {
    "duration": 6,
    "start_time": "2022-04-15T16:02:56.178Z"
   },
   {
    "duration": 7,
    "start_time": "2022-04-15T16:03:11.964Z"
   },
   {
    "duration": 13,
    "start_time": "2022-04-15T16:03:24.269Z"
   },
   {
    "duration": 449,
    "start_time": "2022-04-15T16:03:45.071Z"
   },
   {
    "duration": 14,
    "start_time": "2022-04-15T16:03:45.522Z"
   },
   {
    "duration": 3,
    "start_time": "2022-04-15T16:03:45.538Z"
   },
   {
    "duration": 29,
    "start_time": "2022-04-15T16:03:45.548Z"
   },
   {
    "duration": 9,
    "start_time": "2022-04-15T16:03:45.578Z"
   },
   {
    "duration": 13,
    "start_time": "2022-04-15T16:03:45.588Z"
   },
   {
    "duration": 3,
    "start_time": "2022-04-15T16:03:45.602Z"
   },
   {
    "duration": 109,
    "start_time": "2022-04-15T16:03:45.607Z"
   },
   {
    "duration": 0,
    "start_time": "2022-04-15T16:03:45.717Z"
   },
   {
    "duration": 0,
    "start_time": "2022-04-15T16:03:45.719Z"
   },
   {
    "duration": 0,
    "start_time": "2022-04-15T16:03:45.720Z"
   },
   {
    "duration": 0,
    "start_time": "2022-04-15T16:03:45.721Z"
   },
   {
    "duration": 0,
    "start_time": "2022-04-15T16:03:45.722Z"
   },
   {
    "duration": 0,
    "start_time": "2022-04-15T16:03:45.723Z"
   },
   {
    "duration": 0,
    "start_time": "2022-04-15T16:03:45.724Z"
   },
   {
    "duration": 0,
    "start_time": "2022-04-15T16:03:45.725Z"
   },
   {
    "duration": 0,
    "start_time": "2022-04-15T16:03:45.725Z"
   },
   {
    "duration": 0,
    "start_time": "2022-04-15T16:03:45.726Z"
   },
   {
    "duration": 0,
    "start_time": "2022-04-15T16:03:45.727Z"
   },
   {
    "duration": 0,
    "start_time": "2022-04-15T16:03:45.728Z"
   },
   {
    "duration": 1,
    "start_time": "2022-04-15T16:03:45.729Z"
   },
   {
    "duration": 1,
    "start_time": "2022-04-15T16:03:45.730Z"
   },
   {
    "duration": 10,
    "start_time": "2022-04-15T16:04:06.018Z"
   },
   {
    "duration": 62,
    "start_time": "2022-04-15T16:04:11.596Z"
   },
   {
    "duration": 7,
    "start_time": "2022-04-15T16:04:38.598Z"
   },
   {
    "duration": 18,
    "start_time": "2022-04-15T16:04:50.468Z"
   },
   {
    "duration": 6,
    "start_time": "2022-04-15T16:06:13.913Z"
   },
   {
    "duration": 6,
    "start_time": "2022-04-15T16:06:32.063Z"
   },
   {
    "duration": 7,
    "start_time": "2022-04-15T16:06:38.414Z"
   },
   {
    "duration": 5,
    "start_time": "2022-04-15T16:10:56.845Z"
   },
   {
    "duration": 15,
    "start_time": "2022-04-15T16:16:49.204Z"
   },
   {
    "duration": 479,
    "start_time": "2022-04-15T16:17:13.638Z"
   },
   {
    "duration": 15,
    "start_time": "2022-04-15T16:17:14.119Z"
   },
   {
    "duration": 13,
    "start_time": "2022-04-15T16:17:14.136Z"
   },
   {
    "duration": 33,
    "start_time": "2022-04-15T16:17:14.151Z"
   },
   {
    "duration": 11,
    "start_time": "2022-04-15T16:17:14.185Z"
   },
   {
    "duration": 15,
    "start_time": "2022-04-15T16:17:14.198Z"
   },
   {
    "duration": 32,
    "start_time": "2022-04-15T16:17:14.215Z"
   },
   {
    "duration": 9,
    "start_time": "2022-04-15T16:17:14.249Z"
   },
   {
    "duration": 6,
    "start_time": "2022-04-15T16:17:14.260Z"
   },
   {
    "duration": 16,
    "start_time": "2022-04-15T16:17:14.269Z"
   },
   {
    "duration": 8,
    "start_time": "2022-04-15T16:17:14.287Z"
   },
   {
    "duration": 7,
    "start_time": "2022-04-15T16:17:14.296Z"
   },
   {
    "duration": 47,
    "start_time": "2022-04-15T16:17:14.305Z"
   },
   {
    "duration": 7,
    "start_time": "2022-04-15T16:17:14.354Z"
   },
   {
    "duration": 10,
    "start_time": "2022-04-15T16:17:14.362Z"
   },
   {
    "duration": 89,
    "start_time": "2022-04-15T16:17:14.374Z"
   },
   {
    "duration": 0,
    "start_time": "2022-04-15T16:17:14.465Z"
   },
   {
    "duration": 0,
    "start_time": "2022-04-15T16:17:14.467Z"
   },
   {
    "duration": 0,
    "start_time": "2022-04-15T16:17:14.468Z"
   },
   {
    "duration": 0,
    "start_time": "2022-04-15T16:17:14.469Z"
   },
   {
    "duration": 0,
    "start_time": "2022-04-15T16:17:14.471Z"
   },
   {
    "duration": 0,
    "start_time": "2022-04-15T16:17:14.473Z"
   },
   {
    "duration": 10,
    "start_time": "2022-04-15T16:17:24.033Z"
   },
   {
    "duration": 3,
    "start_time": "2022-04-15T16:22:57.658Z"
   },
   {
    "duration": 7,
    "start_time": "2022-04-15T16:23:15.473Z"
   },
   {
    "duration": 117,
    "start_time": "2022-04-15T16:23:50.550Z"
   },
   {
    "duration": 5,
    "start_time": "2022-04-15T16:24:15.970Z"
   },
   {
    "duration": 476,
    "start_time": "2022-04-15T16:24:55.322Z"
   },
   {
    "duration": 14,
    "start_time": "2022-04-15T16:24:55.800Z"
   },
   {
    "duration": 3,
    "start_time": "2022-04-15T16:24:55.816Z"
   },
   {
    "duration": 46,
    "start_time": "2022-04-15T16:24:55.821Z"
   },
   {
    "duration": 9,
    "start_time": "2022-04-15T16:24:55.869Z"
   },
   {
    "duration": 15,
    "start_time": "2022-04-15T16:24:55.880Z"
   },
   {
    "duration": 6,
    "start_time": "2022-04-15T16:24:55.896Z"
   },
   {
    "duration": 7,
    "start_time": "2022-04-15T16:24:55.904Z"
   },
   {
    "duration": 42,
    "start_time": "2022-04-15T16:24:55.912Z"
   },
   {
    "duration": 5,
    "start_time": "2022-04-15T16:24:55.955Z"
   },
   {
    "duration": 11,
    "start_time": "2022-04-15T16:24:55.961Z"
   },
   {
    "duration": 5,
    "start_time": "2022-04-15T16:24:55.974Z"
   },
   {
    "duration": 9,
    "start_time": "2022-04-15T16:24:55.980Z"
   },
   {
    "duration": 91,
    "start_time": "2022-04-15T16:24:55.991Z"
   },
   {
    "duration": 0,
    "start_time": "2022-04-15T16:24:56.083Z"
   },
   {
    "duration": 0,
    "start_time": "2022-04-15T16:24:56.085Z"
   },
   {
    "duration": 0,
    "start_time": "2022-04-15T16:24:56.086Z"
   },
   {
    "duration": 0,
    "start_time": "2022-04-15T16:24:56.087Z"
   },
   {
    "duration": 0,
    "start_time": "2022-04-15T16:24:56.088Z"
   },
   {
    "duration": 0,
    "start_time": "2022-04-15T16:24:56.089Z"
   },
   {
    "duration": 6,
    "start_time": "2022-04-15T16:32:07.291Z"
   },
   {
    "duration": 485,
    "start_time": "2022-04-15T16:32:29.723Z"
   },
   {
    "duration": 15,
    "start_time": "2022-04-15T16:32:30.210Z"
   },
   {
    "duration": 4,
    "start_time": "2022-04-15T16:32:30.227Z"
   },
   {
    "duration": 38,
    "start_time": "2022-04-15T16:32:30.232Z"
   },
   {
    "duration": 10,
    "start_time": "2022-04-15T16:32:30.272Z"
   },
   {
    "duration": 18,
    "start_time": "2022-04-15T16:32:30.283Z"
   },
   {
    "duration": 6,
    "start_time": "2022-04-15T16:32:30.303Z"
   },
   {
    "duration": 18,
    "start_time": "2022-04-15T16:32:30.310Z"
   },
   {
    "duration": 17,
    "start_time": "2022-04-15T16:32:30.348Z"
   },
   {
    "duration": 5,
    "start_time": "2022-04-15T16:32:30.366Z"
   },
   {
    "duration": 10,
    "start_time": "2022-04-15T16:32:30.373Z"
   },
   {
    "duration": 10,
    "start_time": "2022-04-15T16:32:30.385Z"
   },
   {
    "duration": 22,
    "start_time": "2022-04-15T16:32:30.396Z"
   },
   {
    "duration": 83,
    "start_time": "2022-04-15T16:32:30.420Z"
   },
   {
    "duration": 0,
    "start_time": "2022-04-15T16:32:30.504Z"
   },
   {
    "duration": 0,
    "start_time": "2022-04-15T16:32:30.505Z"
   },
   {
    "duration": 0,
    "start_time": "2022-04-15T16:32:30.506Z"
   },
   {
    "duration": 0,
    "start_time": "2022-04-15T16:32:30.507Z"
   },
   {
    "duration": 0,
    "start_time": "2022-04-15T16:32:30.508Z"
   },
   {
    "duration": 0,
    "start_time": "2022-04-15T16:32:30.509Z"
   },
   {
    "duration": 9,
    "start_time": "2022-04-15T16:33:28.727Z"
   },
   {
    "duration": 5,
    "start_time": "2022-04-15T16:34:01.583Z"
   },
   {
    "duration": 5,
    "start_time": "2022-04-15T16:34:35.424Z"
   },
   {
    "duration": 7,
    "start_time": "2022-04-15T16:34:57.505Z"
   },
   {
    "duration": 9,
    "start_time": "2022-04-15T16:45:14.375Z"
   },
   {
    "duration": 15,
    "start_time": "2022-04-15T16:45:18.791Z"
   },
   {
    "duration": 7,
    "start_time": "2022-04-15T16:45:57.272Z"
   },
   {
    "duration": 9,
    "start_time": "2022-04-15T16:46:58.379Z"
   },
   {
    "duration": 50,
    "start_time": "2022-04-15T20:09:47.467Z"
   },
   {
    "duration": 499,
    "start_time": "2022-04-15T20:10:12.495Z"
   },
   {
    "duration": 16,
    "start_time": "2022-04-15T20:10:12.996Z"
   },
   {
    "duration": 5,
    "start_time": "2022-04-15T20:10:13.014Z"
   },
   {
    "duration": 50,
    "start_time": "2022-04-15T20:10:13.021Z"
   },
   {
    "duration": 11,
    "start_time": "2022-04-15T20:10:13.073Z"
   },
   {
    "duration": 27,
    "start_time": "2022-04-15T20:10:13.086Z"
   },
   {
    "duration": 20,
    "start_time": "2022-04-15T20:10:13.114Z"
   },
   {
    "duration": 10,
    "start_time": "2022-04-15T20:10:13.136Z"
   },
   {
    "duration": 21,
    "start_time": "2022-04-15T20:10:13.148Z"
   },
   {
    "duration": 2711,
    "start_time": "2022-04-15T20:10:13.172Z"
   },
   {
    "duration": 1,
    "start_time": "2022-04-15T20:10:15.884Z"
   },
   {
    "duration": 0,
    "start_time": "2022-04-15T20:10:15.886Z"
   },
   {
    "duration": 0,
    "start_time": "2022-04-15T20:10:15.887Z"
   },
   {
    "duration": 0,
    "start_time": "2022-04-15T20:10:15.888Z"
   },
   {
    "duration": 0,
    "start_time": "2022-04-15T20:10:15.890Z"
   },
   {
    "duration": 0,
    "start_time": "2022-04-15T20:10:15.891Z"
   },
   {
    "duration": 0,
    "start_time": "2022-04-15T20:10:15.892Z"
   },
   {
    "duration": 0,
    "start_time": "2022-04-15T20:10:15.893Z"
   },
   {
    "duration": 0,
    "start_time": "2022-04-15T20:10:15.894Z"
   },
   {
    "duration": 0,
    "start_time": "2022-04-15T20:10:15.895Z"
   },
   {
    "duration": 0,
    "start_time": "2022-04-15T20:10:15.896Z"
   },
   {
    "duration": 0,
    "start_time": "2022-04-15T20:10:15.897Z"
   },
   {
    "duration": 1,
    "start_time": "2022-04-15T20:10:15.897Z"
   },
   {
    "duration": 12,
    "start_time": "2022-04-15T20:11:26.925Z"
   },
   {
    "duration": 2728,
    "start_time": "2022-04-15T20:13:32.692Z"
   },
   {
    "duration": 7,
    "start_time": "2022-04-15T20:13:35.496Z"
   },
   {
    "duration": 12,
    "start_time": "2022-04-15T20:14:32.979Z"
   },
   {
    "duration": 7,
    "start_time": "2022-04-15T20:23:12.915Z"
   },
   {
    "duration": 6,
    "start_time": "2022-04-15T20:28:07.786Z"
   },
   {
    "duration": 6,
    "start_time": "2022-04-15T20:28:45.953Z"
   },
   {
    "duration": 9,
    "start_time": "2022-04-15T20:30:06.457Z"
   },
   {
    "duration": 9,
    "start_time": "2022-04-15T20:32:16.560Z"
   },
   {
    "duration": 7,
    "start_time": "2022-04-15T20:32:19.106Z"
   },
   {
    "duration": 9,
    "start_time": "2022-04-15T20:32:29.886Z"
   },
   {
    "duration": 6,
    "start_time": "2022-04-15T20:32:58.044Z"
   },
   {
    "duration": 7,
    "start_time": "2022-04-15T20:32:59.508Z"
   },
   {
    "duration": 17,
    "start_time": "2022-04-15T20:36:51.358Z"
   },
   {
    "duration": 12,
    "start_time": "2022-04-15T20:37:49.100Z"
   },
   {
    "duration": 12,
    "start_time": "2022-04-15T20:37:51.554Z"
   },
   {
    "duration": 475,
    "start_time": "2022-04-15T20:38:03.764Z"
   },
   {
    "duration": 17,
    "start_time": "2022-04-15T20:38:04.241Z"
   },
   {
    "duration": 4,
    "start_time": "2022-04-15T20:38:04.260Z"
   },
   {
    "duration": 36,
    "start_time": "2022-04-15T20:38:04.266Z"
   },
   {
    "duration": 10,
    "start_time": "2022-04-15T20:38:04.305Z"
   },
   {
    "duration": 20,
    "start_time": "2022-04-15T20:38:04.333Z"
   },
   {
    "duration": 7,
    "start_time": "2022-04-15T20:38:04.355Z"
   },
   {
    "duration": 12,
    "start_time": "2022-04-15T20:38:04.365Z"
   },
   {
    "duration": 22,
    "start_time": "2022-04-15T20:38:04.379Z"
   },
   {
    "duration": 36,
    "start_time": "2022-04-15T20:38:04.403Z"
   },
   {
    "duration": 12,
    "start_time": "2022-04-15T20:38:04.441Z"
   },
   {
    "duration": 29,
    "start_time": "2022-04-15T20:38:04.455Z"
   },
   {
    "duration": 96,
    "start_time": "2022-04-15T20:38:04.486Z"
   },
   {
    "duration": 0,
    "start_time": "2022-04-15T20:38:04.584Z"
   },
   {
    "duration": 0,
    "start_time": "2022-04-15T20:38:04.586Z"
   },
   {
    "duration": 0,
    "start_time": "2022-04-15T20:38:04.587Z"
   },
   {
    "duration": 0,
    "start_time": "2022-04-15T20:38:04.588Z"
   },
   {
    "duration": 0,
    "start_time": "2022-04-15T20:38:04.589Z"
   },
   {
    "duration": 0,
    "start_time": "2022-04-15T20:38:04.590Z"
   },
   {
    "duration": 0,
    "start_time": "2022-04-15T20:38:04.591Z"
   },
   {
    "duration": 0,
    "start_time": "2022-04-15T20:38:04.593Z"
   },
   {
    "duration": 0,
    "start_time": "2022-04-15T20:38:04.594Z"
   },
   {
    "duration": 0,
    "start_time": "2022-04-15T20:38:04.595Z"
   },
   {
    "duration": 0,
    "start_time": "2022-04-15T20:38:04.596Z"
   },
   {
    "duration": 11,
    "start_time": "2022-04-15T20:38:29.595Z"
   },
   {
    "duration": 9,
    "start_time": "2022-04-15T20:44:20.655Z"
   },
   {
    "duration": 22,
    "start_time": "2022-04-15T20:44:23.535Z"
   },
   {
    "duration": 11,
    "start_time": "2022-04-15T20:44:34.270Z"
   },
   {
    "duration": 7,
    "start_time": "2022-04-15T20:46:32.540Z"
   },
   {
    "duration": 17,
    "start_time": "2022-04-15T20:46:35.165Z"
   },
   {
    "duration": 13,
    "start_time": "2022-04-15T20:46:36.841Z"
   },
   {
    "duration": 6,
    "start_time": "2022-04-15T20:47:08.907Z"
   },
   {
    "duration": 43,
    "start_time": "2022-04-15T20:49:18.683Z"
   },
   {
    "duration": 483,
    "start_time": "2022-04-15T20:49:47.863Z"
   },
   {
    "duration": 17,
    "start_time": "2022-04-15T20:49:48.348Z"
   },
   {
    "duration": 4,
    "start_time": "2022-04-15T20:49:48.367Z"
   },
   {
    "duration": 38,
    "start_time": "2022-04-15T20:49:48.373Z"
   },
   {
    "duration": 28,
    "start_time": "2022-04-15T20:49:48.412Z"
   },
   {
    "duration": 17,
    "start_time": "2022-04-15T20:49:48.442Z"
   },
   {
    "duration": 8,
    "start_time": "2022-04-15T20:49:48.461Z"
   },
   {
    "duration": 11,
    "start_time": "2022-04-15T20:49:48.471Z"
   },
   {
    "duration": 50,
    "start_time": "2022-04-15T20:49:48.483Z"
   },
   {
    "duration": 7,
    "start_time": "2022-04-15T20:49:48.537Z"
   },
   {
    "duration": 13,
    "start_time": "2022-04-15T20:49:48.546Z"
   },
   {
    "duration": 18,
    "start_time": "2022-04-15T20:49:48.561Z"
   },
   {
    "duration": 72,
    "start_time": "2022-04-15T20:49:48.581Z"
   },
   {
    "duration": 10,
    "start_time": "2022-04-15T20:49:48.655Z"
   },
   {
    "duration": 6,
    "start_time": "2022-04-15T20:49:48.667Z"
   },
   {
    "duration": 12,
    "start_time": "2022-04-15T20:49:48.675Z"
   },
   {
    "duration": 8,
    "start_time": "2022-04-15T20:49:48.688Z"
   },
   {
    "duration": 107,
    "start_time": "2022-04-15T20:49:48.698Z"
   },
   {
    "duration": 0,
    "start_time": "2022-04-15T20:49:48.807Z"
   },
   {
    "duration": 0,
    "start_time": "2022-04-15T20:49:48.809Z"
   },
   {
    "duration": 0,
    "start_time": "2022-04-15T20:49:48.810Z"
   },
   {
    "duration": 0,
    "start_time": "2022-04-15T20:49:48.812Z"
   },
   {
    "duration": 0,
    "start_time": "2022-04-15T20:49:48.834Z"
   },
   {
    "duration": 0,
    "start_time": "2022-04-15T20:49:48.836Z"
   },
   {
    "duration": 17,
    "start_time": "2022-04-15T20:51:38.873Z"
   },
   {
    "duration": 43,
    "start_time": "2022-04-15T20:51:40.092Z"
   },
   {
    "duration": 36,
    "start_time": "2022-04-15T20:53:23.302Z"
   },
   {
    "duration": 13,
    "start_time": "2022-04-15T21:00:37.545Z"
   },
   {
    "duration": 3,
    "start_time": "2022-04-15T21:03:58.487Z"
   },
   {
    "duration": 3,
    "start_time": "2022-04-15T21:03:59.918Z"
   },
   {
    "duration": 2,
    "start_time": "2022-04-15T21:06:11.788Z"
   },
   {
    "duration": 17,
    "start_time": "2022-04-15T21:11:16.238Z"
   },
   {
    "duration": 10,
    "start_time": "2022-04-15T21:12:52.955Z"
   },
   {
    "duration": 9,
    "start_time": "2022-04-15T21:13:08.036Z"
   },
   {
    "duration": 8,
    "start_time": "2022-04-15T21:18:11.990Z"
   },
   {
    "duration": 20,
    "start_time": "2022-04-15T21:52:08.013Z"
   },
   {
    "duration": 43,
    "start_time": "2022-04-15T21:52:22.741Z"
   },
   {
    "duration": 564,
    "start_time": "2022-04-15T21:53:42.147Z"
   },
   {
    "duration": 16,
    "start_time": "2022-04-15T21:53:42.713Z"
   },
   {
    "duration": 8,
    "start_time": "2022-04-15T21:53:42.734Z"
   },
   {
    "duration": 43,
    "start_time": "2022-04-15T21:53:42.745Z"
   },
   {
    "duration": 11,
    "start_time": "2022-04-15T21:53:42.791Z"
   },
   {
    "duration": 40,
    "start_time": "2022-04-15T21:53:42.803Z"
   },
   {
    "duration": 8,
    "start_time": "2022-04-15T21:53:42.846Z"
   },
   {
    "duration": 8,
    "start_time": "2022-04-15T21:53:42.856Z"
   },
   {
    "duration": 20,
    "start_time": "2022-04-15T21:53:42.866Z"
   },
   {
    "duration": 7,
    "start_time": "2022-04-15T21:53:42.887Z"
   },
   {
    "duration": 43,
    "start_time": "2022-04-15T21:53:42.895Z"
   },
   {
    "duration": 24,
    "start_time": "2022-04-15T21:53:42.941Z"
   },
   {
    "duration": 11,
    "start_time": "2022-04-15T21:53:42.966Z"
   },
   {
    "duration": 8,
    "start_time": "2022-04-15T21:53:42.981Z"
   },
   {
    "duration": 56,
    "start_time": "2022-04-15T21:53:42.991Z"
   },
   {
    "duration": 36,
    "start_time": "2022-04-15T21:53:43.049Z"
   },
   {
    "duration": 7,
    "start_time": "2022-04-15T21:53:43.087Z"
   },
   {
    "duration": 40,
    "start_time": "2022-04-15T21:53:43.096Z"
   },
   {
    "duration": 10,
    "start_time": "2022-04-15T21:53:43.138Z"
   },
   {
    "duration": 8,
    "start_time": "2022-04-15T21:53:43.150Z"
   },
   {
    "duration": 9,
    "start_time": "2022-04-15T21:53:43.160Z"
   },
   {
    "duration": 9,
    "start_time": "2022-04-15T21:53:43.170Z"
   },
   {
    "duration": 16,
    "start_time": "2022-04-15T21:53:43.181Z"
   },
   {
    "duration": 54,
    "start_time": "2022-04-15T21:53:43.199Z"
   },
   {
    "duration": 23,
    "start_time": "2022-04-15T21:53:43.255Z"
   },
   {
    "duration": 21,
    "start_time": "2022-04-15T21:53:43.279Z"
   },
   {
    "duration": 12,
    "start_time": "2022-04-15T21:54:12.946Z"
   },
   {
    "duration": 5,
    "start_time": "2022-04-15T21:55:06.256Z"
   },
   {
    "duration": 35,
    "start_time": "2022-04-15T22:01:52.202Z"
   },
   {
    "duration": 473,
    "start_time": "2022-04-15T22:11:59.977Z"
   },
   {
    "duration": 16,
    "start_time": "2022-04-15T22:12:00.452Z"
   },
   {
    "duration": 11,
    "start_time": "2022-04-15T22:12:00.470Z"
   },
   {
    "duration": 47,
    "start_time": "2022-04-15T22:12:00.483Z"
   },
   {
    "duration": 11,
    "start_time": "2022-04-15T22:12:00.532Z"
   },
   {
    "duration": 19,
    "start_time": "2022-04-15T22:12:00.545Z"
   },
   {
    "duration": 6,
    "start_time": "2022-04-15T22:12:00.566Z"
   },
   {
    "duration": 14,
    "start_time": "2022-04-15T22:12:00.574Z"
   },
   {
    "duration": 44,
    "start_time": "2022-04-15T22:12:00.590Z"
   },
   {
    "duration": 9,
    "start_time": "2022-04-15T22:12:00.637Z"
   },
   {
    "duration": 7,
    "start_time": "2022-04-15T22:12:00.647Z"
   },
   {
    "duration": 22,
    "start_time": "2022-04-15T22:12:00.655Z"
   },
   {
    "duration": 11,
    "start_time": "2022-04-15T22:12:00.679Z"
   },
   {
    "duration": 8,
    "start_time": "2022-04-15T22:12:00.691Z"
   },
   {
    "duration": 40,
    "start_time": "2022-04-15T22:12:00.700Z"
   },
   {
    "duration": 9,
    "start_time": "2022-04-15T22:12:00.742Z"
   },
   {
    "duration": 9,
    "start_time": "2022-04-15T22:12:00.753Z"
   },
   {
    "duration": 11,
    "start_time": "2022-04-15T22:12:00.763Z"
   },
   {
    "duration": 16,
    "start_time": "2022-04-15T22:12:00.777Z"
   },
   {
    "duration": 52,
    "start_time": "2022-04-15T22:12:00.794Z"
   },
   {
    "duration": 5,
    "start_time": "2022-04-15T22:12:00.848Z"
   },
   {
    "duration": 23,
    "start_time": "2022-04-15T22:12:00.854Z"
   },
   {
    "duration": 49,
    "start_time": "2022-04-15T22:12:00.879Z"
   },
   {
    "duration": 15,
    "start_time": "2022-04-15T22:12:00.929Z"
   },
   {
    "duration": 23,
    "start_time": "2022-04-15T22:12:00.947Z"
   },
   {
    "duration": 21,
    "start_time": "2022-04-15T22:12:00.972Z"
   },
   {
    "duration": 19,
    "start_time": "2022-04-15T22:12:00.995Z"
   },
   {
    "duration": 7,
    "start_time": "2022-04-16T21:38:18.726Z"
   },
   {
    "duration": 7,
    "start_time": "2022-04-16T21:39:00.928Z"
   },
   {
    "duration": 8,
    "start_time": "2022-04-16T21:39:46.381Z"
   },
   {
    "duration": 66,
    "start_time": "2022-04-16T21:40:18.751Z"
   },
   {
    "duration": 12,
    "start_time": "2022-04-16T21:40:32.631Z"
   },
   {
    "duration": 12,
    "start_time": "2022-04-16T21:43:04.280Z"
   },
   {
    "duration": 533,
    "start_time": "2022-04-16T21:44:58.433Z"
   },
   {
    "duration": 18,
    "start_time": "2022-04-16T21:44:58.968Z"
   },
   {
    "duration": 5,
    "start_time": "2022-04-16T21:44:58.988Z"
   },
   {
    "duration": 55,
    "start_time": "2022-04-16T21:44:58.996Z"
   },
   {
    "duration": 11,
    "start_time": "2022-04-16T21:44:59.053Z"
   },
   {
    "duration": 18,
    "start_time": "2022-04-16T21:44:59.066Z"
   },
   {
    "duration": 7,
    "start_time": "2022-04-16T21:44:59.085Z"
   },
   {
    "duration": 39,
    "start_time": "2022-04-16T21:44:59.094Z"
   },
   {
    "duration": 21,
    "start_time": "2022-04-16T21:44:59.135Z"
   },
   {
    "duration": 8,
    "start_time": "2022-04-16T21:44:59.159Z"
   },
   {
    "duration": 9,
    "start_time": "2022-04-16T21:44:59.170Z"
   },
   {
    "duration": 19,
    "start_time": "2022-04-16T21:44:59.181Z"
   },
   {
    "duration": 36,
    "start_time": "2022-04-16T21:44:59.202Z"
   },
   {
    "duration": 7,
    "start_time": "2022-04-16T21:44:59.240Z"
   },
   {
    "duration": 14,
    "start_time": "2022-04-16T21:44:59.249Z"
   },
   {
    "duration": 6,
    "start_time": "2022-04-16T21:44:59.265Z"
   },
   {
    "duration": 10,
    "start_time": "2022-04-16T21:44:59.272Z"
   },
   {
    "duration": 13,
    "start_time": "2022-04-16T21:44:59.283Z"
   },
   {
    "duration": 47,
    "start_time": "2022-04-16T21:44:59.297Z"
   },
   {
    "duration": 37,
    "start_time": "2022-04-16T21:44:59.345Z"
   },
   {
    "duration": 6,
    "start_time": "2022-04-16T21:44:59.384Z"
   },
   {
    "duration": 14,
    "start_time": "2022-04-16T21:44:59.392Z"
   },
   {
    "duration": 28,
    "start_time": "2022-04-16T21:44:59.408Z"
   },
   {
    "duration": 21,
    "start_time": "2022-04-16T21:44:59.438Z"
   },
   {
    "duration": 25,
    "start_time": "2022-04-16T21:44:59.461Z"
   },
   {
    "duration": 47,
    "start_time": "2022-04-16T21:44:59.487Z"
   },
   {
    "duration": 18,
    "start_time": "2022-04-16T21:44:59.536Z"
   },
   {
    "duration": 5,
    "start_time": "2022-04-16T21:44:59.557Z"
   },
   {
    "duration": 100,
    "start_time": "2022-04-16T21:44:59.564Z"
   },
   {
    "duration": 0,
    "start_time": "2022-04-16T21:44:59.665Z"
   },
   {
    "duration": 11,
    "start_time": "2022-04-16T21:45:30.230Z"
   },
   {
    "duration": 12,
    "start_time": "2022-04-16T21:45:33.044Z"
   },
   {
    "duration": 11,
    "start_time": "2022-04-16T21:47:21.706Z"
   },
   {
    "duration": 13,
    "start_time": "2022-04-16T21:49:00.514Z"
   },
   {
    "duration": 10,
    "start_time": "2022-04-16T21:51:52.452Z"
   },
   {
    "duration": 5,
    "start_time": "2022-04-16T21:56:08.708Z"
   },
   {
    "duration": 13,
    "start_time": "2022-04-16T21:56:12.245Z"
   },
   {
    "duration": 16,
    "start_time": "2022-04-16T21:56:13.679Z"
   },
   {
    "duration": 14,
    "start_time": "2022-04-16T21:56:29.769Z"
   },
   {
    "duration": 522,
    "start_time": "2022-04-16T22:05:31.722Z"
   },
   {
    "duration": 17,
    "start_time": "2022-04-16T22:05:32.246Z"
   },
   {
    "duration": 5,
    "start_time": "2022-04-16T22:05:32.265Z"
   },
   {
    "duration": 37,
    "start_time": "2022-04-16T22:05:32.271Z"
   },
   {
    "duration": 28,
    "start_time": "2022-04-16T22:05:32.311Z"
   },
   {
    "duration": 18,
    "start_time": "2022-04-16T22:05:32.340Z"
   },
   {
    "duration": 9,
    "start_time": "2022-04-16T22:05:32.359Z"
   },
   {
    "duration": 8,
    "start_time": "2022-04-16T22:05:32.370Z"
   },
   {
    "duration": 20,
    "start_time": "2022-04-16T22:05:32.379Z"
   },
   {
    "duration": 39,
    "start_time": "2022-04-16T22:05:32.401Z"
   },
   {
    "duration": 6,
    "start_time": "2022-04-16T22:05:32.442Z"
   },
   {
    "duration": 19,
    "start_time": "2022-04-16T22:05:32.450Z"
   },
   {
    "duration": 10,
    "start_time": "2022-04-16T22:05:32.471Z"
   },
   {
    "duration": 8,
    "start_time": "2022-04-16T22:05:32.484Z"
   },
   {
    "duration": 46,
    "start_time": "2022-04-16T22:05:32.493Z"
   },
   {
    "duration": 9,
    "start_time": "2022-04-16T22:05:32.541Z"
   },
   {
    "duration": 7,
    "start_time": "2022-04-16T22:05:32.552Z"
   },
   {
    "duration": 10,
    "start_time": "2022-04-16T22:05:32.561Z"
   },
   {
    "duration": 15,
    "start_time": "2022-04-16T22:05:32.573Z"
   },
   {
    "duration": 60,
    "start_time": "2022-04-16T22:05:32.590Z"
   },
   {
    "duration": 6,
    "start_time": "2022-04-16T22:05:32.652Z"
   },
   {
    "duration": 9,
    "start_time": "2022-04-16T22:05:32.660Z"
   },
   {
    "duration": 9,
    "start_time": "2022-04-16T22:05:32.670Z"
   },
   {
    "duration": 15,
    "start_time": "2022-04-16T22:05:32.681Z"
   },
   {
    "duration": 48,
    "start_time": "2022-04-16T22:05:32.698Z"
   },
   {
    "duration": 21,
    "start_time": "2022-04-16T22:05:32.748Z"
   },
   {
    "duration": 19,
    "start_time": "2022-04-16T22:05:32.771Z"
   },
   {
    "duration": 5,
    "start_time": "2022-04-16T22:05:32.792Z"
   },
   {
    "duration": 36,
    "start_time": "2022-04-16T22:05:32.799Z"
   },
   {
    "duration": 6,
    "start_time": "2022-04-16T22:05:32.837Z"
   },
   {
    "duration": 15,
    "start_time": "2022-04-16T22:05:32.844Z"
   },
   {
    "duration": 14,
    "start_time": "2022-04-16T22:05:32.861Z"
   },
   {
    "duration": 13,
    "start_time": "2022-04-16T22:21:55.591Z"
   },
   {
    "duration": 12,
    "start_time": "2022-04-16T22:22:00.945Z"
   },
   {
    "duration": 13,
    "start_time": "2022-04-16T22:22:03.503Z"
   },
   {
    "duration": 14,
    "start_time": "2022-04-16T22:22:04.556Z"
   },
   {
    "duration": 12,
    "start_time": "2022-04-16T22:25:09.610Z"
   },
   {
    "duration": 12,
    "start_time": "2022-04-16T22:28:52.885Z"
   },
   {
    "duration": 526,
    "start_time": "2022-04-16T22:29:10.615Z"
   },
   {
    "duration": 16,
    "start_time": "2022-04-16T22:29:11.143Z"
   },
   {
    "duration": 4,
    "start_time": "2022-04-16T22:29:11.161Z"
   },
   {
    "duration": 39,
    "start_time": "2022-04-16T22:29:11.167Z"
   },
   {
    "duration": 27,
    "start_time": "2022-04-16T22:29:11.207Z"
   },
   {
    "duration": 14,
    "start_time": "2022-04-16T22:29:11.236Z"
   },
   {
    "duration": 10,
    "start_time": "2022-04-16T22:29:11.252Z"
   },
   {
    "duration": 9,
    "start_time": "2022-04-16T22:29:11.263Z"
   },
   {
    "duration": 21,
    "start_time": "2022-04-16T22:29:11.274Z"
   },
   {
    "duration": 36,
    "start_time": "2022-04-16T22:29:11.298Z"
   },
   {
    "duration": 6,
    "start_time": "2022-04-16T22:29:11.336Z"
   },
   {
    "duration": 18,
    "start_time": "2022-04-16T22:29:11.344Z"
   },
   {
    "duration": 11,
    "start_time": "2022-04-16T22:29:11.364Z"
   },
   {
    "duration": 12,
    "start_time": "2022-04-16T22:29:11.377Z"
   },
   {
    "duration": 12,
    "start_time": "2022-04-16T22:29:11.390Z"
   },
   {
    "duration": 33,
    "start_time": "2022-04-16T22:29:11.404Z"
   },
   {
    "duration": 6,
    "start_time": "2022-04-16T22:29:11.439Z"
   },
   {
    "duration": 9,
    "start_time": "2022-04-16T22:29:11.446Z"
   },
   {
    "duration": 14,
    "start_time": "2022-04-16T22:29:11.457Z"
   },
   {
    "duration": 34,
    "start_time": "2022-04-16T22:29:11.473Z"
   },
   {
    "duration": 6,
    "start_time": "2022-04-16T22:29:11.533Z"
   },
   {
    "duration": 9,
    "start_time": "2022-04-16T22:29:11.541Z"
   },
   {
    "duration": 8,
    "start_time": "2022-04-16T22:29:11.551Z"
   },
   {
    "duration": 16,
    "start_time": "2022-04-16T22:29:11.561Z"
   },
   {
    "duration": 20,
    "start_time": "2022-04-16T22:29:11.579Z"
   },
   {
    "duration": 53,
    "start_time": "2022-04-16T22:29:11.600Z"
   },
   {
    "duration": 19,
    "start_time": "2022-04-16T22:29:11.654Z"
   },
   {
    "duration": 5,
    "start_time": "2022-04-16T22:29:11.676Z"
   },
   {
    "duration": 13,
    "start_time": "2022-04-16T22:29:11.683Z"
   },
   {
    "duration": 6,
    "start_time": "2022-04-16T22:29:11.698Z"
   },
   {
    "duration": 36,
    "start_time": "2022-04-16T22:29:11.705Z"
   },
   {
    "duration": 13,
    "start_time": "2022-04-16T22:29:11.743Z"
   },
   {
    "duration": 17,
    "start_time": "2022-04-16T22:29:11.757Z"
   },
   {
    "duration": 12,
    "start_time": "2022-04-16T22:29:11.775Z"
   },
   {
    "duration": 6,
    "start_time": "2022-04-16T22:33:05.054Z"
   },
   {
    "duration": 14,
    "start_time": "2022-04-16T23:02:16.029Z"
   },
   {
    "duration": 11,
    "start_time": "2022-04-16T23:02:28.414Z"
   },
   {
    "duration": 9,
    "start_time": "2022-04-16T23:02:40.630Z"
   },
   {
    "duration": 11,
    "start_time": "2022-04-16T23:02:42.358Z"
   },
   {
    "duration": 13,
    "start_time": "2022-04-16T23:03:01.741Z"
   },
   {
    "duration": 710,
    "start_time": "2022-04-16T23:05:49.237Z"
   },
   {
    "duration": 17,
    "start_time": "2022-04-16T23:05:49.949Z"
   },
   {
    "duration": 5,
    "start_time": "2022-04-16T23:05:49.967Z"
   },
   {
    "duration": 41,
    "start_time": "2022-04-16T23:05:49.973Z"
   },
   {
    "duration": 26,
    "start_time": "2022-04-16T23:05:50.016Z"
   },
   {
    "duration": 17,
    "start_time": "2022-04-16T23:05:50.043Z"
   },
   {
    "duration": 7,
    "start_time": "2022-04-16T23:05:50.062Z"
   },
   {
    "duration": 12,
    "start_time": "2022-04-16T23:05:50.071Z"
   },
   {
    "duration": 54,
    "start_time": "2022-04-16T23:05:50.085Z"
   },
   {
    "duration": 9,
    "start_time": "2022-04-16T23:05:50.142Z"
   },
   {
    "duration": 12,
    "start_time": "2022-04-16T23:05:50.152Z"
   },
   {
    "duration": 20,
    "start_time": "2022-04-16T23:05:50.166Z"
   },
   {
    "duration": 11,
    "start_time": "2022-04-16T23:05:50.187Z"
   },
   {
    "duration": 5,
    "start_time": "2022-04-16T23:05:50.200Z"
   },
   {
    "duration": 10,
    "start_time": "2022-04-16T23:05:50.234Z"
   },
   {
    "duration": 6,
    "start_time": "2022-04-16T23:05:50.246Z"
   },
   {
    "duration": 7,
    "start_time": "2022-04-16T23:05:50.254Z"
   },
   {
    "duration": 9,
    "start_time": "2022-04-16T23:05:50.262Z"
   },
   {
    "duration": 16,
    "start_time": "2022-04-16T23:05:50.273Z"
   },
   {
    "duration": 71,
    "start_time": "2022-04-16T23:05:50.291Z"
   },
   {
    "duration": 6,
    "start_time": "2022-04-16T23:05:50.365Z"
   },
   {
    "duration": 6,
    "start_time": "2022-04-16T23:05:50.373Z"
   },
   {
    "duration": 8,
    "start_time": "2022-04-16T23:05:50.381Z"
   },
   {
    "duration": 42,
    "start_time": "2022-04-16T23:05:50.391Z"
   },
   {
    "duration": 22,
    "start_time": "2022-04-16T23:05:50.436Z"
   },
   {
    "duration": 21,
    "start_time": "2022-04-16T23:05:50.459Z"
   },
   {
    "duration": 18,
    "start_time": "2022-04-16T23:05:50.482Z"
   },
   {
    "duration": 34,
    "start_time": "2022-04-16T23:05:50.503Z"
   },
   {
    "duration": 13,
    "start_time": "2022-04-16T23:05:50.538Z"
   },
   {
    "duration": 5,
    "start_time": "2022-04-16T23:05:50.553Z"
   },
   {
    "duration": 14,
    "start_time": "2022-04-16T23:05:50.560Z"
   },
   {
    "duration": 10,
    "start_time": "2022-04-16T23:05:50.576Z"
   },
   {
    "duration": 12,
    "start_time": "2022-04-16T23:05:50.587Z"
   },
   {
    "duration": 39,
    "start_time": "2022-04-16T23:05:50.601Z"
   },
   {
    "duration": 10,
    "start_time": "2022-04-16T23:05:50.642Z"
   },
   {
    "duration": 11,
    "start_time": "2022-04-16T23:05:50.653Z"
   },
   {
    "duration": 15,
    "start_time": "2022-04-16T23:05:50.665Z"
   },
   {
    "duration": 68,
    "start_time": "2022-04-17T18:09:55.529Z"
   },
   {
    "duration": 9,
    "start_time": "2022-04-17T18:10:42.467Z"
   },
   {
    "duration": 609,
    "start_time": "2022-04-17T18:10:58.379Z"
   },
   {
    "duration": 21,
    "start_time": "2022-04-17T18:10:58.990Z"
   },
   {
    "duration": 8,
    "start_time": "2022-04-17T18:10:59.013Z"
   },
   {
    "duration": 43,
    "start_time": "2022-04-17T18:10:59.023Z"
   },
   {
    "duration": 34,
    "start_time": "2022-04-17T18:10:59.069Z"
   },
   {
    "duration": 21,
    "start_time": "2022-04-17T18:10:59.106Z"
   },
   {
    "duration": 10,
    "start_time": "2022-04-17T18:10:59.130Z"
   },
   {
    "duration": 10,
    "start_time": "2022-04-17T18:10:59.143Z"
   },
   {
    "duration": 58,
    "start_time": "2022-04-17T18:10:59.155Z"
   },
   {
    "duration": 11,
    "start_time": "2022-04-17T18:10:59.215Z"
   },
   {
    "duration": 11,
    "start_time": "2022-04-17T18:10:59.229Z"
   },
   {
    "duration": 75,
    "start_time": "2022-04-17T18:10:59.242Z"
   },
   {
    "duration": 22,
    "start_time": "2022-04-17T18:10:59.320Z"
   },
   {
    "duration": 10,
    "start_time": "2022-04-17T18:10:59.349Z"
   },
   {
    "duration": 50,
    "start_time": "2022-04-17T18:10:59.362Z"
   },
   {
    "duration": 10,
    "start_time": "2022-04-17T18:10:59.415Z"
   },
   {
    "duration": 11,
    "start_time": "2022-04-17T18:10:59.428Z"
   },
   {
    "duration": 15,
    "start_time": "2022-04-17T18:10:59.443Z"
   },
   {
    "duration": 47,
    "start_time": "2022-04-17T18:10:59.461Z"
   },
   {
    "duration": 42,
    "start_time": "2022-04-17T18:10:59.510Z"
   },
   {
    "duration": 7,
    "start_time": "2022-04-17T18:10:59.555Z"
   },
   {
    "duration": 6,
    "start_time": "2022-04-17T18:10:59.594Z"
   },
   {
    "duration": 8,
    "start_time": "2022-04-17T18:10:59.602Z"
   },
   {
    "duration": 16,
    "start_time": "2022-04-17T18:10:59.612Z"
   },
   {
    "duration": 27,
    "start_time": "2022-04-17T18:10:59.630Z"
   },
   {
    "duration": 64,
    "start_time": "2022-04-17T18:10:59.660Z"
   },
   {
    "duration": 26,
    "start_time": "2022-04-17T18:10:59.726Z"
   },
   {
    "duration": 6,
    "start_time": "2022-04-17T18:10:59.755Z"
   },
   {
    "duration": 44,
    "start_time": "2022-04-17T18:10:59.763Z"
   },
   {
    "duration": 6,
    "start_time": "2022-04-17T18:10:59.810Z"
   },
   {
    "duration": 20,
    "start_time": "2022-04-17T18:10:59.818Z"
   },
   {
    "duration": 52,
    "start_time": "2022-04-17T18:10:59.841Z"
   },
   {
    "duration": 23,
    "start_time": "2022-04-17T18:10:59.897Z"
   },
   {
    "duration": 18,
    "start_time": "2022-04-17T18:10:59.922Z"
   },
   {
    "duration": 10,
    "start_time": "2022-04-17T18:10:59.942Z"
   },
   {
    "duration": 51,
    "start_time": "2022-04-17T18:10:59.954Z"
   },
   {
    "duration": 26,
    "start_time": "2022-04-17T18:11:00.007Z"
   },
   {
    "duration": 193,
    "start_time": "2022-04-17T18:11:00.035Z"
   },
   {
    "duration": 25,
    "start_time": "2022-04-17T18:11:37.717Z"
   },
   {
    "duration": 26,
    "start_time": "2022-04-17T18:17:12.691Z"
   },
   {
    "duration": 52,
    "start_time": "2022-04-17T18:21:24.163Z"
   },
   {
    "duration": 261,
    "start_time": "2022-04-17T18:22:14.374Z"
   },
   {
    "duration": 202,
    "start_time": "2022-04-17T18:22:37.420Z"
   },
   {
    "duration": 212,
    "start_time": "2022-04-17T18:22:49.840Z"
   },
   {
    "duration": 607,
    "start_time": "2022-04-17T18:23:08.949Z"
   },
   {
    "duration": 22,
    "start_time": "2022-04-17T18:23:09.559Z"
   },
   {
    "duration": 15,
    "start_time": "2022-04-17T18:23:09.583Z"
   },
   {
    "duration": 42,
    "start_time": "2022-04-17T18:23:09.600Z"
   },
   {
    "duration": 13,
    "start_time": "2022-04-17T18:23:09.645Z"
   },
   {
    "duration": 52,
    "start_time": "2022-04-17T18:23:09.660Z"
   },
   {
    "duration": 10,
    "start_time": "2022-04-17T18:23:09.714Z"
   },
   {
    "duration": 12,
    "start_time": "2022-04-17T18:23:09.726Z"
   },
   {
    "duration": 60,
    "start_time": "2022-04-17T18:23:09.741Z"
   },
   {
    "duration": 11,
    "start_time": "2022-04-17T18:23:09.803Z"
   },
   {
    "duration": 10,
    "start_time": "2022-04-17T18:23:09.816Z"
   },
   {
    "duration": 22,
    "start_time": "2022-04-17T18:23:09.828Z"
   },
   {
    "duration": 41,
    "start_time": "2022-04-17T18:23:09.853Z"
   },
   {
    "duration": 8,
    "start_time": "2022-04-17T18:23:09.898Z"
   },
   {
    "duration": 14,
    "start_time": "2022-04-17T18:23:09.908Z"
   },
   {
    "duration": 7,
    "start_time": "2022-04-17T18:23:09.924Z"
   },
   {
    "duration": 9,
    "start_time": "2022-04-17T18:23:09.933Z"
   },
   {
    "duration": 55,
    "start_time": "2022-04-17T18:23:09.944Z"
   },
   {
    "duration": 19,
    "start_time": "2022-04-17T18:23:10.002Z"
   },
   {
    "duration": 42,
    "start_time": "2022-04-17T18:23:10.023Z"
   },
   {
    "duration": 8,
    "start_time": "2022-04-17T18:23:10.092Z"
   },
   {
    "duration": 10,
    "start_time": "2022-04-17T18:23:10.102Z"
   },
   {
    "duration": 8,
    "start_time": "2022-04-17T18:23:10.114Z"
   },
   {
    "duration": 15,
    "start_time": "2022-04-17T18:23:10.124Z"
   },
   {
    "duration": 62,
    "start_time": "2022-04-17T18:23:10.141Z"
   },
   {
    "duration": 27,
    "start_time": "2022-04-17T18:23:10.205Z"
   },
   {
    "duration": 25,
    "start_time": "2022-04-17T18:23:10.234Z"
   },
   {
    "duration": 36,
    "start_time": "2022-04-17T18:23:10.261Z"
   },
   {
    "duration": 23,
    "start_time": "2022-04-17T18:23:10.299Z"
   },
   {
    "duration": 6,
    "start_time": "2022-04-17T18:23:10.324Z"
   },
   {
    "duration": 17,
    "start_time": "2022-04-17T18:23:10.332Z"
   },
   {
    "duration": 41,
    "start_time": "2022-04-17T18:23:10.351Z"
   },
   {
    "duration": 15,
    "start_time": "2022-04-17T18:23:10.395Z"
   },
   {
    "duration": 17,
    "start_time": "2022-04-17T18:23:10.412Z"
   },
   {
    "duration": 9,
    "start_time": "2022-04-17T18:23:10.431Z"
   },
   {
    "duration": 13,
    "start_time": "2022-04-17T18:23:10.442Z"
   },
   {
    "duration": 47,
    "start_time": "2022-04-17T18:23:10.457Z"
   },
   {
    "duration": 205,
    "start_time": "2022-04-17T18:23:10.506Z"
   },
   {
    "duration": 219,
    "start_time": "2022-04-17T18:24:05.959Z"
   },
   {
    "duration": 206,
    "start_time": "2022-04-17T18:24:58.186Z"
   },
   {
    "duration": 583,
    "start_time": "2022-04-17T18:25:06.799Z"
   },
   {
    "duration": 22,
    "start_time": "2022-04-17T18:25:07.386Z"
   },
   {
    "duration": 6,
    "start_time": "2022-04-17T18:25:07.413Z"
   },
   {
    "duration": 72,
    "start_time": "2022-04-17T18:25:07.423Z"
   },
   {
    "duration": 14,
    "start_time": "2022-04-17T18:25:07.498Z"
   },
   {
    "duration": 20,
    "start_time": "2022-04-17T18:25:07.514Z"
   },
   {
    "duration": 10,
    "start_time": "2022-04-17T18:25:07.536Z"
   },
   {
    "duration": 48,
    "start_time": "2022-04-17T18:25:07.548Z"
   },
   {
    "duration": 24,
    "start_time": "2022-04-17T18:25:07.598Z"
   },
   {
    "duration": 14,
    "start_time": "2022-04-17T18:25:07.624Z"
   },
   {
    "duration": 13,
    "start_time": "2022-04-17T18:25:07.640Z"
   },
   {
    "duration": 52,
    "start_time": "2022-04-17T18:25:07.655Z"
   },
   {
    "duration": 13,
    "start_time": "2022-04-17T18:25:07.712Z"
   },
   {
    "duration": 10,
    "start_time": "2022-04-17T18:25:07.728Z"
   },
   {
    "duration": 17,
    "start_time": "2022-04-17T18:25:07.741Z"
   },
   {
    "duration": 33,
    "start_time": "2022-04-17T18:25:07.761Z"
   },
   {
    "duration": 9,
    "start_time": "2022-04-17T18:25:07.796Z"
   },
   {
    "duration": 10,
    "start_time": "2022-04-17T18:25:07.808Z"
   },
   {
    "duration": 19,
    "start_time": "2022-04-17T18:25:07.821Z"
   },
   {
    "duration": 78,
    "start_time": "2022-04-17T18:25:07.842Z"
   },
   {
    "duration": 7,
    "start_time": "2022-04-17T18:25:07.922Z"
   },
   {
    "duration": 11,
    "start_time": "2022-04-17T18:25:07.932Z"
   },
   {
    "duration": 11,
    "start_time": "2022-04-17T18:25:07.945Z"
   },
   {
    "duration": 39,
    "start_time": "2022-04-17T18:25:07.958Z"
   },
   {
    "duration": 48,
    "start_time": "2022-04-17T18:25:08.000Z"
   },
   {
    "duration": 27,
    "start_time": "2022-04-17T18:25:08.050Z"
   },
   {
    "duration": 31,
    "start_time": "2022-04-17T18:25:08.080Z"
   },
   {
    "duration": 16,
    "start_time": "2022-04-17T18:25:08.113Z"
   },
   {
    "duration": 18,
    "start_time": "2022-04-17T18:25:08.131Z"
   },
   {
    "duration": 7,
    "start_time": "2022-04-17T18:25:08.151Z"
   },
   {
    "duration": 33,
    "start_time": "2022-04-17T18:25:08.161Z"
   },
   {
    "duration": 14,
    "start_time": "2022-04-17T18:25:08.196Z"
   },
   {
    "duration": 19,
    "start_time": "2022-04-17T18:25:08.212Z"
   },
   {
    "duration": 19,
    "start_time": "2022-04-17T18:25:08.233Z"
   },
   {
    "duration": 40,
    "start_time": "2022-04-17T18:25:08.254Z"
   },
   {
    "duration": 14,
    "start_time": "2022-04-17T18:25:08.297Z"
   },
   {
    "duration": 18,
    "start_time": "2022-04-17T18:25:08.313Z"
   },
   {
    "duration": 213,
    "start_time": "2022-04-17T18:25:08.333Z"
   },
   {
    "duration": 31,
    "start_time": "2022-04-17T18:25:34.088Z"
   },
   {
    "duration": 33,
    "start_time": "2022-04-17T18:30:00.590Z"
   },
   {
    "duration": 30,
    "start_time": "2022-04-17T18:36:07.327Z"
   },
   {
    "duration": 22,
    "start_time": "2022-04-17T18:42:08.251Z"
   },
   {
    "duration": 26,
    "start_time": "2022-04-17T18:45:14.526Z"
   },
   {
    "duration": 24,
    "start_time": "2022-04-17T18:48:21.992Z"
   },
   {
    "duration": 26,
    "start_time": "2022-04-17T18:48:30.298Z"
   },
   {
    "duration": 27,
    "start_time": "2022-04-17T18:49:03.860Z"
   },
   {
    "duration": 13,
    "start_time": "2022-04-17T18:56:51.144Z"
   },
   {
    "duration": 17,
    "start_time": "2022-04-17T18:57:09.289Z"
   },
   {
    "duration": 13,
    "start_time": "2022-04-17T18:57:31.520Z"
   },
   {
    "duration": 17,
    "start_time": "2022-04-17T18:57:32.470Z"
   },
   {
    "duration": 31,
    "start_time": "2022-04-17T18:58:50.564Z"
   },
   {
    "duration": 13,
    "start_time": "2022-04-17T19:01:29.805Z"
   },
   {
    "duration": 17,
    "start_time": "2022-04-17T19:01:30.840Z"
   },
   {
    "duration": 27,
    "start_time": "2022-04-17T19:01:32.350Z"
   },
   {
    "duration": 26,
    "start_time": "2022-04-17T19:14:10.563Z"
   },
   {
    "duration": 31,
    "start_time": "2022-04-17T19:22:43.481Z"
   },
   {
    "duration": 112,
    "start_time": "2022-04-17T19:46:44.471Z"
   },
   {
    "duration": 615,
    "start_time": "2022-04-17T19:46:51.465Z"
   },
   {
    "duration": 22,
    "start_time": "2022-04-17T19:46:52.083Z"
   },
   {
    "duration": 6,
    "start_time": "2022-04-17T19:46:52.107Z"
   },
   {
    "duration": 80,
    "start_time": "2022-04-17T19:46:52.116Z"
   },
   {
    "duration": 13,
    "start_time": "2022-04-17T19:46:52.199Z"
   },
   {
    "duration": 22,
    "start_time": "2022-04-17T19:46:52.214Z"
   },
   {
    "duration": 9,
    "start_time": "2022-04-17T19:46:52.238Z"
   },
   {
    "duration": 51,
    "start_time": "2022-04-17T19:46:52.249Z"
   },
   {
    "duration": 28,
    "start_time": "2022-04-17T19:46:52.302Z"
   },
   {
    "duration": 10,
    "start_time": "2022-04-17T19:46:52.332Z"
   },
   {
    "duration": 48,
    "start_time": "2022-04-17T19:46:52.345Z"
   },
   {
    "duration": 24,
    "start_time": "2022-04-17T19:46:52.396Z"
   },
   {
    "duration": 13,
    "start_time": "2022-04-17T19:46:52.423Z"
   },
   {
    "duration": 7,
    "start_time": "2022-04-17T19:46:52.441Z"
   },
   {
    "duration": 15,
    "start_time": "2022-04-17T19:46:52.494Z"
   },
   {
    "duration": 9,
    "start_time": "2022-04-17T19:46:52.511Z"
   },
   {
    "duration": 13,
    "start_time": "2022-04-17T19:46:52.522Z"
   },
   {
    "duration": 11,
    "start_time": "2022-04-17T19:46:52.537Z"
   },
   {
    "duration": 20,
    "start_time": "2022-04-17T19:46:52.594Z"
   },
   {
    "duration": 43,
    "start_time": "2022-04-17T19:46:52.616Z"
   },
   {
    "duration": 37,
    "start_time": "2022-04-17T19:46:52.661Z"
   },
   {
    "duration": 7,
    "start_time": "2022-04-17T19:46:52.700Z"
   },
   {
    "duration": 11,
    "start_time": "2022-04-17T19:46:52.709Z"
   },
   {
    "duration": 16,
    "start_time": "2022-04-17T19:46:52.722Z"
   },
   {
    "duration": 78,
    "start_time": "2022-04-17T19:46:52.740Z"
   },
   {
    "duration": 29,
    "start_time": "2022-04-17T19:46:52.820Z"
   },
   {
    "duration": 54,
    "start_time": "2022-04-17T19:46:52.852Z"
   },
   {
    "duration": 7,
    "start_time": "2022-04-17T19:46:52.908Z"
   },
   {
    "duration": 16,
    "start_time": "2022-04-17T19:46:52.918Z"
   },
   {
    "duration": 7,
    "start_time": "2022-04-17T19:46:52.936Z"
   },
   {
    "duration": 58,
    "start_time": "2022-04-17T19:46:52.945Z"
   },
   {
    "duration": 14,
    "start_time": "2022-04-17T19:46:53.005Z"
   },
   {
    "duration": 19,
    "start_time": "2022-04-17T19:46:53.021Z"
   },
   {
    "duration": 50,
    "start_time": "2022-04-17T19:46:53.042Z"
   },
   {
    "duration": 9,
    "start_time": "2022-04-17T19:46:53.095Z"
   },
   {
    "duration": 15,
    "start_time": "2022-04-17T19:46:53.106Z"
   },
   {
    "duration": 15,
    "start_time": "2022-04-17T19:46:53.123Z"
   },
   {
    "duration": 66,
    "start_time": "2022-04-17T19:46:53.140Z"
   },
   {
    "duration": 134,
    "start_time": "2022-04-17T19:46:53.208Z"
   },
   {
    "duration": 0,
    "start_time": "2022-04-17T19:46:53.344Z"
   },
   {
    "duration": 1,
    "start_time": "2022-04-17T19:46:53.346Z"
   },
   {
    "duration": 0,
    "start_time": "2022-04-17T19:46:53.348Z"
   },
   {
    "duration": 27,
    "start_time": "2022-04-17T19:47:55.296Z"
   },
   {
    "duration": 29,
    "start_time": "2022-04-17T19:48:36.332Z"
   },
   {
    "duration": 27,
    "start_time": "2022-04-17T19:49:00.559Z"
   },
   {
    "duration": 28,
    "start_time": "2022-04-17T19:49:19.515Z"
   },
   {
    "duration": 37,
    "start_time": "2022-04-17T20:00:37.718Z"
   },
   {
    "duration": 29,
    "start_time": "2022-04-17T20:01:06.761Z"
   },
   {
    "duration": 0,
    "start_time": "2022-04-17T20:05:32.362Z"
   },
   {
    "duration": 3142,
    "start_time": "2022-04-17T20:05:34.450Z"
   },
   {
    "duration": 42,
    "start_time": "2022-04-17T20:13:06.521Z"
   },
   {
    "duration": 29,
    "start_time": "2022-04-17T20:13:44.393Z"
   },
   {
    "duration": 29,
    "start_time": "2022-04-17T20:14:18.483Z"
   },
   {
    "duration": 29,
    "start_time": "2022-04-17T20:14:48.205Z"
   },
   {
    "duration": 29,
    "start_time": "2022-04-17T20:15:30.312Z"
   },
   {
    "duration": 38,
    "start_time": "2022-04-17T21:29:45.412Z"
   },
   {
    "duration": 603,
    "start_time": "2022-04-17T21:31:13.147Z"
   },
   {
    "duration": 21,
    "start_time": "2022-04-17T21:31:13.753Z"
   },
   {
    "duration": 18,
    "start_time": "2022-04-17T21:31:13.776Z"
   },
   {
    "duration": 43,
    "start_time": "2022-04-17T21:31:13.796Z"
   },
   {
    "duration": 13,
    "start_time": "2022-04-17T21:31:13.841Z"
   },
   {
    "duration": 56,
    "start_time": "2022-04-17T21:31:13.856Z"
   },
   {
    "duration": 15,
    "start_time": "2022-04-17T21:31:13.915Z"
   },
   {
    "duration": 13,
    "start_time": "2022-04-17T21:31:13.932Z"
   },
   {
    "duration": 64,
    "start_time": "2022-04-17T21:31:13.947Z"
   },
   {
    "duration": 11,
    "start_time": "2022-04-17T21:31:14.015Z"
   },
   {
    "duration": 10,
    "start_time": "2022-04-17T21:31:14.028Z"
   },
   {
    "duration": 60,
    "start_time": "2022-04-17T21:31:14.040Z"
   },
   {
    "duration": 13,
    "start_time": "2022-04-17T21:31:14.102Z"
   },
   {
    "duration": 7,
    "start_time": "2022-04-17T21:31:14.118Z"
   },
   {
    "duration": 14,
    "start_time": "2022-04-17T21:31:14.127Z"
   },
   {
    "duration": 56,
    "start_time": "2022-04-17T21:31:14.143Z"
   },
   {
    "duration": 11,
    "start_time": "2022-04-17T21:31:14.201Z"
   },
   {
    "duration": 11,
    "start_time": "2022-04-17T21:31:14.214Z"
   },
   {
    "duration": 67,
    "start_time": "2022-04-17T21:31:14.228Z"
   },
   {
    "duration": 42,
    "start_time": "2022-04-17T21:31:14.297Z"
   },
   {
    "duration": 7,
    "start_time": "2022-04-17T21:31:14.342Z"
   },
   {
    "duration": 43,
    "start_time": "2022-04-17T21:31:14.351Z"
   },
   {
    "duration": 9,
    "start_time": "2022-04-17T21:31:14.397Z"
   },
   {
    "duration": 16,
    "start_time": "2022-04-17T21:31:14.408Z"
   },
   {
    "duration": 31,
    "start_time": "2022-04-17T21:31:14.426Z"
   },
   {
    "duration": 30,
    "start_time": "2022-04-17T21:31:14.492Z"
   },
   {
    "duration": 24,
    "start_time": "2022-04-17T21:31:14.524Z"
   },
   {
    "duration": 40,
    "start_time": "2022-04-17T21:31:14.553Z"
   },
   {
    "duration": 27,
    "start_time": "2022-04-17T21:31:14.596Z"
   },
   {
    "duration": 7,
    "start_time": "2022-04-17T21:31:14.625Z"
   },
   {
    "duration": 19,
    "start_time": "2022-04-17T21:31:14.635Z"
   },
   {
    "duration": 42,
    "start_time": "2022-04-17T21:31:14.656Z"
   },
   {
    "duration": 16,
    "start_time": "2022-04-17T21:31:14.700Z"
   },
   {
    "duration": 15,
    "start_time": "2022-04-17T21:31:14.718Z"
   },
   {
    "duration": 12,
    "start_time": "2022-04-17T21:31:14.735Z"
   },
   {
    "duration": 14,
    "start_time": "2022-04-17T21:31:14.794Z"
   },
   {
    "duration": 19,
    "start_time": "2022-04-17T21:31:14.810Z"
   },
   {
    "duration": 12,
    "start_time": "2022-04-17T21:31:14.832Z"
   },
   {
    "duration": 65,
    "start_time": "2022-04-17T21:31:14.847Z"
   },
   {
    "duration": 31,
    "start_time": "2022-04-17T21:31:14.915Z"
   },
   {
    "duration": 55,
    "start_time": "2022-04-17T21:31:14.948Z"
   },
   {
    "duration": 29,
    "start_time": "2022-04-17T21:31:15.006Z"
   },
   {
    "duration": 126,
    "start_time": "2022-04-17T21:33:03.995Z"
   },
   {
    "duration": 685,
    "start_time": "2022-04-17T21:33:11.793Z"
   },
   {
    "duration": 20,
    "start_time": "2022-04-17T21:33:12.481Z"
   },
   {
    "duration": 5,
    "start_time": "2022-04-17T21:33:12.504Z"
   },
   {
    "duration": 45,
    "start_time": "2022-04-17T21:33:12.511Z"
   },
   {
    "duration": 42,
    "start_time": "2022-04-17T21:33:12.559Z"
   },
   {
    "duration": 23,
    "start_time": "2022-04-17T21:33:12.603Z"
   },
   {
    "duration": 8,
    "start_time": "2022-04-17T21:33:12.628Z"
   },
   {
    "duration": 57,
    "start_time": "2022-04-17T21:33:12.638Z"
   },
   {
    "duration": 25,
    "start_time": "2022-04-17T21:33:12.697Z"
   },
   {
    "duration": 11,
    "start_time": "2022-04-17T21:33:12.724Z"
   },
   {
    "duration": 8,
    "start_time": "2022-04-17T21:33:12.738Z"
   },
   {
    "duration": 64,
    "start_time": "2022-04-17T21:33:12.749Z"
   },
   {
    "duration": 13,
    "start_time": "2022-04-17T21:33:12.815Z"
   },
   {
    "duration": 8,
    "start_time": "2022-04-17T21:33:12.832Z"
   },
   {
    "duration": 51,
    "start_time": "2022-04-17T21:33:12.842Z"
   },
   {
    "duration": 8,
    "start_time": "2022-04-17T21:33:12.896Z"
   },
   {
    "duration": 16,
    "start_time": "2022-04-17T21:33:12.907Z"
   },
   {
    "duration": 16,
    "start_time": "2022-04-17T21:33:12.926Z"
   },
   {
    "duration": 64,
    "start_time": "2022-04-17T21:33:12.946Z"
   },
   {
    "duration": 41,
    "start_time": "2022-04-17T21:33:13.013Z"
   },
   {
    "duration": 36,
    "start_time": "2022-04-17T21:33:13.057Z"
   },
   {
    "duration": 12,
    "start_time": "2022-04-17T21:33:13.095Z"
   },
   {
    "duration": 10,
    "start_time": "2022-04-17T21:33:13.109Z"
   },
   {
    "duration": 14,
    "start_time": "2022-04-17T21:33:13.121Z"
   },
   {
    "duration": 70,
    "start_time": "2022-04-17T21:33:13.137Z"
   },
   {
    "duration": 31,
    "start_time": "2022-04-17T21:33:13.209Z"
   },
   {
    "duration": 51,
    "start_time": "2022-04-17T21:33:13.243Z"
   },
   {
    "duration": 7,
    "start_time": "2022-04-17T21:33:13.296Z"
   },
   {
    "duration": 17,
    "start_time": "2022-04-17T21:33:13.305Z"
   },
   {
    "duration": 6,
    "start_time": "2022-04-17T21:33:13.324Z"
   },
   {
    "duration": 19,
    "start_time": "2022-04-17T21:33:13.333Z"
   },
   {
    "duration": 14,
    "start_time": "2022-04-17T21:33:13.394Z"
   },
   {
    "duration": 15,
    "start_time": "2022-04-17T21:33:13.411Z"
   },
   {
    "duration": 29,
    "start_time": "2022-04-17T21:33:13.429Z"
   },
   {
    "duration": 39,
    "start_time": "2022-04-17T21:33:13.460Z"
   },
   {
    "duration": 15,
    "start_time": "2022-04-17T21:33:13.501Z"
   },
   {
    "duration": 17,
    "start_time": "2022-04-17T21:33:13.518Z"
   },
   {
    "duration": 73,
    "start_time": "2022-04-17T21:33:13.538Z"
   },
   {
    "duration": 90,
    "start_time": "2022-04-17T21:33:13.613Z"
   },
   {
    "duration": 404,
    "start_time": "2022-04-17T21:33:13.706Z"
   },
   {
    "duration": 0,
    "start_time": "2022-04-17T21:33:14.114Z"
   },
   {
    "duration": 0,
    "start_time": "2022-04-17T21:33:14.116Z"
   },
   {
    "duration": 32,
    "start_time": "2022-04-17T21:37:03.877Z"
   },
   {
    "duration": 30,
    "start_time": "2022-04-17T21:38:46.767Z"
   },
   {
    "duration": 30,
    "start_time": "2022-04-17T21:40:59.758Z"
   },
   {
    "duration": 28,
    "start_time": "2022-04-17T21:43:25.866Z"
   },
   {
    "duration": 26,
    "start_time": "2022-04-17T21:43:41.201Z"
   },
   {
    "duration": 594,
    "start_time": "2022-04-17T21:43:46.887Z"
   },
   {
    "duration": 28,
    "start_time": "2022-04-17T21:43:47.484Z"
   },
   {
    "duration": 6,
    "start_time": "2022-04-17T21:43:47.514Z"
   },
   {
    "duration": 72,
    "start_time": "2022-04-17T21:43:47.522Z"
   },
   {
    "duration": 13,
    "start_time": "2022-04-17T21:43:47.598Z"
   },
   {
    "duration": 23,
    "start_time": "2022-04-17T21:43:47.614Z"
   },
   {
    "duration": 8,
    "start_time": "2022-04-17T21:43:47.639Z"
   },
   {
    "duration": 51,
    "start_time": "2022-04-17T21:43:47.649Z"
   },
   {
    "duration": 23,
    "start_time": "2022-04-17T21:43:47.703Z"
   },
   {
    "duration": 10,
    "start_time": "2022-04-17T21:43:47.728Z"
   },
   {
    "duration": 53,
    "start_time": "2022-04-17T21:43:47.741Z"
   },
   {
    "duration": 23,
    "start_time": "2022-04-17T21:43:47.796Z"
   },
   {
    "duration": 12,
    "start_time": "2022-04-17T21:43:47.822Z"
   },
   {
    "duration": 9,
    "start_time": "2022-04-17T21:43:47.838Z"
   },
   {
    "duration": 54,
    "start_time": "2022-04-17T21:43:47.849Z"
   },
   {
    "duration": 7,
    "start_time": "2022-04-17T21:43:47.905Z"
   },
   {
    "duration": 9,
    "start_time": "2022-04-17T21:43:47.914Z"
   },
   {
    "duration": 11,
    "start_time": "2022-04-17T21:43:47.925Z"
   },
   {
    "duration": 68,
    "start_time": "2022-04-17T21:43:47.938Z"
   },
   {
    "duration": 44,
    "start_time": "2022-04-17T21:43:48.008Z"
   },
   {
    "duration": 9,
    "start_time": "2022-04-17T21:43:48.055Z"
   },
   {
    "duration": 7,
    "start_time": "2022-04-17T21:43:48.094Z"
   },
   {
    "duration": 10,
    "start_time": "2022-04-17T21:43:48.104Z"
   },
   {
    "duration": 18,
    "start_time": "2022-04-17T21:43:48.117Z"
   },
   {
    "duration": 81,
    "start_time": "2022-04-17T21:43:48.137Z"
   },
   {
    "duration": 34,
    "start_time": "2022-04-17T21:43:48.221Z"
   },
   {
    "duration": 61,
    "start_time": "2022-04-17T21:43:48.257Z"
   },
   {
    "duration": 9,
    "start_time": "2022-04-17T21:43:48.320Z"
   },
   {
    "duration": 17,
    "start_time": "2022-04-17T21:43:48.332Z"
   },
   {
    "duration": 45,
    "start_time": "2022-04-17T21:43:48.351Z"
   },
   {
    "duration": 17,
    "start_time": "2022-04-17T21:43:48.398Z"
   },
   {
    "duration": 13,
    "start_time": "2022-04-17T21:43:48.418Z"
   },
   {
    "duration": 60,
    "start_time": "2022-04-17T21:43:48.433Z"
   },
   {
    "duration": 15,
    "start_time": "2022-04-17T21:43:48.495Z"
   },
   {
    "duration": 12,
    "start_time": "2022-04-17T21:43:48.512Z"
   },
   {
    "duration": 14,
    "start_time": "2022-04-17T21:43:48.526Z"
   },
   {
    "duration": 58,
    "start_time": "2022-04-17T21:43:48.542Z"
   },
   {
    "duration": 13,
    "start_time": "2022-04-17T21:43:48.602Z"
   },
   {
    "duration": 31,
    "start_time": "2022-04-17T21:43:48.617Z"
   },
   {
    "duration": 148,
    "start_time": "2022-04-17T21:43:48.650Z"
   },
   {
    "duration": 0,
    "start_time": "2022-04-17T21:43:48.800Z"
   },
   {
    "duration": 0,
    "start_time": "2022-04-17T21:43:48.802Z"
   },
   {
    "duration": 27,
    "start_time": "2022-04-17T21:44:34.347Z"
   },
   {
    "duration": 27,
    "start_time": "2022-04-17T21:45:34.405Z"
   },
   {
    "duration": 32,
    "start_time": "2022-04-17T21:45:39.902Z"
   },
   {
    "duration": 31,
    "start_time": "2022-04-17T21:45:55.996Z"
   },
   {
    "duration": 32,
    "start_time": "2022-04-17T21:46:35.723Z"
   },
   {
    "duration": 28,
    "start_time": "2022-04-17T21:49:11.789Z"
   },
   {
    "duration": 29,
    "start_time": "2022-04-17T21:49:18.869Z"
   },
   {
    "duration": 27,
    "start_time": "2022-04-17T22:03:40.063Z"
   },
   {
    "duration": 28,
    "start_time": "2022-04-17T22:12:03.784Z"
   },
   {
    "duration": 708,
    "start_time": "2022-04-17T22:23:51.900Z"
   },
   {
    "duration": 28,
    "start_time": "2022-04-17T22:23:52.612Z"
   },
   {
    "duration": 8,
    "start_time": "2022-04-17T22:23:52.643Z"
   },
   {
    "duration": 86,
    "start_time": "2022-04-17T22:23:52.654Z"
   },
   {
    "duration": 13,
    "start_time": "2022-04-17T22:23:52.743Z"
   },
   {
    "duration": 52,
    "start_time": "2022-04-17T22:23:52.759Z"
   },
   {
    "duration": 8,
    "start_time": "2022-04-17T22:23:52.813Z"
   },
   {
    "duration": 10,
    "start_time": "2022-04-17T22:23:52.824Z"
   },
   {
    "duration": 69,
    "start_time": "2022-04-17T22:23:52.837Z"
   },
   {
    "duration": 11,
    "start_time": "2022-04-17T22:23:52.909Z"
   },
   {
    "duration": 9,
    "start_time": "2022-04-17T22:23:52.922Z"
   },
   {
    "duration": 69,
    "start_time": "2022-04-17T22:23:52.934Z"
   },
   {
    "duration": 13,
    "start_time": "2022-04-17T22:23:53.005Z"
   },
   {
    "duration": 7,
    "start_time": "2022-04-17T22:23:53.023Z"
   },
   {
    "duration": 18,
    "start_time": "2022-04-17T22:23:53.032Z"
   },
   {
    "duration": 46,
    "start_time": "2022-04-17T22:23:53.052Z"
   },
   {
    "duration": 11,
    "start_time": "2022-04-17T22:23:53.100Z"
   },
   {
    "duration": 13,
    "start_time": "2022-04-17T22:23:53.113Z"
   },
   {
    "duration": 66,
    "start_time": "2022-04-17T22:23:53.128Z"
   },
   {
    "duration": 46,
    "start_time": "2022-04-17T22:23:53.197Z"
   },
   {
    "duration": 8,
    "start_time": "2022-04-17T22:23:53.246Z"
   },
   {
    "duration": 38,
    "start_time": "2022-04-17T22:23:53.256Z"
   },
   {
    "duration": 19,
    "start_time": "2022-04-17T22:23:53.297Z"
   },
   {
    "duration": 16,
    "start_time": "2022-04-17T22:23:53.318Z"
   },
   {
    "duration": 67,
    "start_time": "2022-04-17T22:23:53.336Z"
   },
   {
    "duration": 33,
    "start_time": "2022-04-17T22:23:53.405Z"
   },
   {
    "duration": 52,
    "start_time": "2022-04-17T22:23:53.441Z"
   },
   {
    "duration": 6,
    "start_time": "2022-04-17T22:23:53.496Z"
   },
   {
    "duration": 18,
    "start_time": "2022-04-17T22:23:53.505Z"
   },
   {
    "duration": 8,
    "start_time": "2022-04-17T22:23:53.526Z"
   },
   {
    "duration": 18,
    "start_time": "2022-04-17T22:23:53.537Z"
   },
   {
    "duration": 15,
    "start_time": "2022-04-17T22:23:53.593Z"
   },
   {
    "duration": 16,
    "start_time": "2022-04-17T22:23:53.610Z"
   },
   {
    "duration": 20,
    "start_time": "2022-04-17T22:23:53.628Z"
   },
   {
    "duration": 48,
    "start_time": "2022-04-17T22:23:53.651Z"
   },
   {
    "duration": 13,
    "start_time": "2022-04-17T22:23:53.702Z"
   },
   {
    "duration": 15,
    "start_time": "2022-04-17T22:23:53.718Z"
   },
   {
    "duration": 12,
    "start_time": "2022-04-17T22:23:53.736Z"
   },
   {
    "duration": 71,
    "start_time": "2022-04-17T22:23:53.750Z"
   },
   {
    "duration": 30,
    "start_time": "2022-04-17T22:23:53.823Z"
   },
   {
    "duration": 56,
    "start_time": "2022-04-17T22:23:53.858Z"
   },
   {
    "duration": 28,
    "start_time": "2022-04-17T22:23:53.916Z"
   },
   {
    "duration": 555,
    "start_time": "2022-04-17T22:28:22.638Z"
   },
   {
    "duration": 21,
    "start_time": "2022-04-17T22:28:23.195Z"
   },
   {
    "duration": 6,
    "start_time": "2022-04-17T22:28:23.218Z"
   },
   {
    "duration": 79,
    "start_time": "2022-04-17T22:28:23.227Z"
   },
   {
    "duration": 13,
    "start_time": "2022-04-17T22:28:23.308Z"
   },
   {
    "duration": 19,
    "start_time": "2022-04-17T22:28:23.323Z"
   },
   {
    "duration": 7,
    "start_time": "2022-04-17T22:28:23.345Z"
   },
   {
    "duration": 9,
    "start_time": "2022-04-17T22:28:23.394Z"
   },
   {
    "duration": 26,
    "start_time": "2022-04-17T22:28:23.406Z"
   },
   {
    "duration": 10,
    "start_time": "2022-04-17T22:28:23.436Z"
   },
   {
    "duration": 46,
    "start_time": "2022-04-17T22:28:23.448Z"
   },
   {
    "duration": 24,
    "start_time": "2022-04-17T22:28:23.496Z"
   },
   {
    "duration": 13,
    "start_time": "2022-04-17T22:28:23.522Z"
   },
   {
    "duration": 13,
    "start_time": "2022-04-17T22:28:23.537Z"
   },
   {
    "duration": 17,
    "start_time": "2022-04-17T22:28:23.594Z"
   },
   {
    "duration": 11,
    "start_time": "2022-04-17T22:28:23.614Z"
   },
   {
    "duration": 10,
    "start_time": "2022-04-17T22:28:23.628Z"
   },
   {
    "duration": 61,
    "start_time": "2022-04-17T22:28:23.641Z"
   },
   {
    "duration": 22,
    "start_time": "2022-04-17T22:28:23.705Z"
   },
   {
    "duration": 89,
    "start_time": "2022-04-17T22:28:23.730Z"
   },
   {
    "duration": 7,
    "start_time": "2022-04-17T22:28:23.822Z"
   },
   {
    "duration": 19,
    "start_time": "2022-04-17T22:28:23.832Z"
   },
   {
    "duration": 9,
    "start_time": "2022-04-17T22:28:23.854Z"
   },
   {
    "duration": 47,
    "start_time": "2022-04-17T22:28:23.865Z"
   },
   {
    "duration": 31,
    "start_time": "2022-04-17T22:28:23.915Z"
   },
   {
    "duration": 69,
    "start_time": "2022-04-17T22:28:23.948Z"
   },
   {
    "duration": 28,
    "start_time": "2022-04-17T22:28:24.020Z"
   },
   {
    "duration": 41,
    "start_time": "2022-04-17T22:28:24.056Z"
   },
   {
    "duration": 16,
    "start_time": "2022-04-17T22:28:24.100Z"
   },
   {
    "duration": 7,
    "start_time": "2022-04-17T22:28:24.118Z"
   },
   {
    "duration": 16,
    "start_time": "2022-04-17T22:28:24.127Z"
   },
   {
    "duration": 56,
    "start_time": "2022-04-17T22:28:24.145Z"
   },
   {
    "duration": 17,
    "start_time": "2022-04-17T22:28:24.204Z"
   },
   {
    "duration": 17,
    "start_time": "2022-04-17T22:28:24.223Z"
   },
   {
    "duration": 51,
    "start_time": "2022-04-17T22:28:24.243Z"
   },
   {
    "duration": 14,
    "start_time": "2022-04-17T22:28:24.297Z"
   },
   {
    "duration": 19,
    "start_time": "2022-04-17T22:28:24.313Z"
   },
   {
    "duration": 12,
    "start_time": "2022-04-17T22:28:24.334Z"
   },
   {
    "duration": 68,
    "start_time": "2022-04-17T22:28:24.349Z"
   },
   {
    "duration": 86,
    "start_time": "2022-04-17T22:28:24.420Z"
   },
   {
    "duration": 86,
    "start_time": "2022-04-17T22:28:24.509Z"
   },
   {
    "duration": 97,
    "start_time": "2022-04-17T22:28:24.598Z"
   },
   {
    "duration": 588,
    "start_time": "2022-04-17T22:32:26.299Z"
   },
   {
    "duration": 22,
    "start_time": "2022-04-17T22:32:26.889Z"
   },
   {
    "duration": 6,
    "start_time": "2022-04-17T22:32:26.913Z"
   },
   {
    "duration": 73,
    "start_time": "2022-04-17T22:32:26.923Z"
   },
   {
    "duration": 15,
    "start_time": "2022-04-17T22:32:26.998Z"
   },
   {
    "duration": 23,
    "start_time": "2022-04-17T22:32:27.015Z"
   },
   {
    "duration": 9,
    "start_time": "2022-04-17T22:32:27.040Z"
   },
   {
    "duration": 11,
    "start_time": "2022-04-17T22:32:27.094Z"
   },
   {
    "duration": 33,
    "start_time": "2022-04-17T22:32:27.107Z"
   },
   {
    "duration": 11,
    "start_time": "2022-04-17T22:32:27.143Z"
   },
   {
    "duration": 43,
    "start_time": "2022-04-17T22:32:27.156Z"
   },
   {
    "duration": 34,
    "start_time": "2022-04-17T22:32:27.201Z"
   },
   {
    "duration": 12,
    "start_time": "2022-04-17T22:32:27.238Z"
   },
   {
    "duration": 9,
    "start_time": "2022-04-17T22:32:27.252Z"
   },
   {
    "duration": 13,
    "start_time": "2022-04-17T22:32:27.294Z"
   },
   {
    "duration": 8,
    "start_time": "2022-04-17T22:32:27.309Z"
   },
   {
    "duration": 21,
    "start_time": "2022-04-17T22:32:27.319Z"
   },
   {
    "duration": 23,
    "start_time": "2022-04-17T22:32:27.342Z"
   },
   {
    "duration": 40,
    "start_time": "2022-04-17T22:32:27.367Z"
   },
   {
    "duration": 51,
    "start_time": "2022-04-17T22:32:27.409Z"
   },
   {
    "duration": 6,
    "start_time": "2022-04-17T22:32:27.462Z"
   },
   {
    "duration": 25,
    "start_time": "2022-04-17T22:32:27.469Z"
   },
   {
    "duration": 25,
    "start_time": "2022-04-17T22:32:27.496Z"
   },
   {
    "duration": 24,
    "start_time": "2022-04-17T22:32:27.523Z"
   },
   {
    "duration": 49,
    "start_time": "2022-04-17T22:32:27.549Z"
   },
   {
    "duration": 31,
    "start_time": "2022-04-17T22:32:27.601Z"
   },
   {
    "duration": 60,
    "start_time": "2022-04-17T22:32:27.634Z"
   },
   {
    "duration": 7,
    "start_time": "2022-04-17T22:32:27.701Z"
   },
   {
    "duration": 31,
    "start_time": "2022-04-17T22:32:27.711Z"
   },
   {
    "duration": 9,
    "start_time": "2022-04-17T22:32:27.744Z"
   },
   {
    "duration": 48,
    "start_time": "2022-04-17T22:32:27.756Z"
   },
   {
    "duration": 23,
    "start_time": "2022-04-17T22:32:27.808Z"
   },
   {
    "duration": 23,
    "start_time": "2022-04-17T22:32:27.833Z"
   },
   {
    "duration": 41,
    "start_time": "2022-04-17T22:32:27.858Z"
   },
   {
    "duration": 17,
    "start_time": "2022-04-17T22:32:27.901Z"
   },
   {
    "duration": 18,
    "start_time": "2022-04-17T22:32:27.921Z"
   },
   {
    "duration": 53,
    "start_time": "2022-04-17T22:32:27.941Z"
   },
   {
    "duration": 21,
    "start_time": "2022-04-17T22:32:27.997Z"
   },
   {
    "duration": 45,
    "start_time": "2022-04-17T22:32:28.020Z"
   },
   {
    "duration": 50,
    "start_time": "2022-04-17T22:32:28.068Z"
   },
   {
    "duration": 30,
    "start_time": "2022-04-17T22:32:28.121Z"
   },
   {
    "duration": 64,
    "start_time": "2022-04-17T22:32:28.154Z"
   },
   {
    "duration": 462,
    "start_time": "2022-04-26T13:16:53.274Z"
   },
   {
    "duration": 16,
    "start_time": "2022-04-26T13:16:53.738Z"
   },
   {
    "duration": 6,
    "start_time": "2022-04-26T13:16:53.756Z"
   },
   {
    "duration": 59,
    "start_time": "2022-04-26T13:16:53.764Z"
   },
   {
    "duration": 12,
    "start_time": "2022-04-26T13:16:53.824Z"
   },
   {
    "duration": 21,
    "start_time": "2022-04-26T13:16:53.838Z"
   },
   {
    "duration": 7,
    "start_time": "2022-04-26T13:16:53.861Z"
   },
   {
    "duration": 10,
    "start_time": "2022-04-26T13:16:53.870Z"
   },
   {
    "duration": 18,
    "start_time": "2022-04-26T13:16:53.882Z"
   },
   {
    "duration": 36,
    "start_time": "2022-04-26T13:16:53.903Z"
   },
   {
    "duration": 7,
    "start_time": "2022-04-26T13:16:53.941Z"
   },
   {
    "duration": 18,
    "start_time": "2022-04-26T13:16:53.950Z"
   },
   {
    "duration": 10,
    "start_time": "2022-04-26T13:16:53.970Z"
   },
   {
    "duration": 5,
    "start_time": "2022-04-26T13:16:53.982Z"
   },
   {
    "duration": 45,
    "start_time": "2022-04-26T13:16:53.988Z"
   },
   {
    "duration": 6,
    "start_time": "2022-04-26T13:16:54.035Z"
   },
   {
    "duration": 15,
    "start_time": "2022-04-26T13:16:54.042Z"
   },
   {
    "duration": 12,
    "start_time": "2022-04-26T13:16:54.059Z"
   },
   {
    "duration": 15,
    "start_time": "2022-04-26T13:16:54.072Z"
   },
   {
    "duration": 49,
    "start_time": "2022-04-26T13:16:54.089Z"
   },
   {
    "duration": 5,
    "start_time": "2022-04-26T13:16:54.140Z"
   },
   {
    "duration": 23,
    "start_time": "2022-04-26T13:16:54.146Z"
   },
   {
    "duration": 12,
    "start_time": "2022-04-26T13:16:54.170Z"
   },
   {
    "duration": 14,
    "start_time": "2022-04-26T13:16:54.183Z"
   },
   {
    "duration": 27,
    "start_time": "2022-04-26T13:16:54.199Z"
   },
   {
    "duration": 23,
    "start_time": "2022-04-26T13:16:54.228Z"
   },
   {
    "duration": 18,
    "start_time": "2022-04-26T13:16:54.252Z"
   },
   {
    "duration": 4,
    "start_time": "2022-04-26T13:16:54.274Z"
   },
   {
    "duration": 17,
    "start_time": "2022-04-26T13:16:54.280Z"
   },
   {
    "duration": 8,
    "start_time": "2022-04-26T13:16:54.299Z"
   },
   {
    "duration": 32,
    "start_time": "2022-04-26T13:16:54.309Z"
   },
   {
    "duration": 15,
    "start_time": "2022-04-26T13:16:54.343Z"
   },
   {
    "duration": 13,
    "start_time": "2022-04-26T13:16:54.359Z"
   },
   {
    "duration": 11,
    "start_time": "2022-04-26T13:16:54.374Z"
   },
   {
    "duration": 23,
    "start_time": "2022-04-26T13:16:54.387Z"
   },
   {
    "duration": 23,
    "start_time": "2022-04-26T13:16:54.412Z"
   },
   {
    "duration": 13,
    "start_time": "2022-04-26T13:16:54.436Z"
   },
   {
    "duration": 11,
    "start_time": "2022-04-26T13:16:54.450Z"
   },
   {
    "duration": 26,
    "start_time": "2022-04-26T13:16:54.463Z"
   },
   {
    "duration": 47,
    "start_time": "2022-04-26T13:16:54.491Z"
   },
   {
    "duration": 19,
    "start_time": "2022-04-26T13:16:54.540Z"
   },
   {
    "duration": 20,
    "start_time": "2022-04-26T13:16:54.560Z"
   },
   {
    "duration": 496,
    "start_time": "2022-04-29T21:31:43.605Z"
   },
   {
    "duration": 31,
    "start_time": "2022-04-29T21:31:44.104Z"
   },
   {
    "duration": 22,
    "start_time": "2022-04-29T21:31:44.138Z"
   },
   {
    "duration": 4,
    "start_time": "2022-04-29T21:31:44.162Z"
   },
   {
    "duration": 57,
    "start_time": "2022-04-29T21:31:44.168Z"
   },
   {
    "duration": 10,
    "start_time": "2022-04-29T21:31:44.227Z"
   },
   {
    "duration": 18,
    "start_time": "2022-04-29T21:31:44.239Z"
   },
   {
    "duration": 6,
    "start_time": "2022-04-29T21:31:44.259Z"
   },
   {
    "duration": 10,
    "start_time": "2022-04-29T21:31:44.267Z"
   },
   {
    "duration": 55,
    "start_time": "2022-04-29T21:31:44.279Z"
   },
   {
    "duration": 10,
    "start_time": "2022-04-29T21:31:44.335Z"
   },
   {
    "duration": 11,
    "start_time": "2022-04-29T21:31:44.347Z"
   },
   {
    "duration": 20,
    "start_time": "2022-04-29T21:31:44.359Z"
   },
   {
    "duration": 13,
    "start_time": "2022-04-29T21:31:44.382Z"
   },
   {
    "duration": 33,
    "start_time": "2022-04-29T21:31:44.397Z"
   },
   {
    "duration": 17,
    "start_time": "2022-04-29T21:31:44.432Z"
   },
   {
    "duration": 7,
    "start_time": "2022-04-29T21:31:44.451Z"
   },
   {
    "duration": 11,
    "start_time": "2022-04-29T21:31:44.460Z"
   },
   {
    "duration": 11,
    "start_time": "2022-04-29T21:31:44.473Z"
   },
   {
    "duration": 39,
    "start_time": "2022-04-29T21:31:44.485Z"
   },
   {
    "duration": 32,
    "start_time": "2022-04-29T21:31:44.526Z"
   },
   {
    "duration": 4,
    "start_time": "2022-04-29T21:31:44.560Z"
   },
   {
    "duration": 8,
    "start_time": "2022-04-29T21:31:44.566Z"
   },
   {
    "duration": 11,
    "start_time": "2022-04-29T21:31:44.576Z"
   },
   {
    "duration": 44,
    "start_time": "2022-04-29T21:31:44.588Z"
   },
   {
    "duration": 19,
    "start_time": "2022-04-29T21:31:44.634Z"
   },
   {
    "duration": 27,
    "start_time": "2022-04-29T21:31:44.656Z"
   },
   {
    "duration": 45,
    "start_time": "2022-04-29T21:31:44.685Z"
   },
   {
    "duration": 6,
    "start_time": "2022-04-29T21:31:44.732Z"
   },
   {
    "duration": 17,
    "start_time": "2022-04-29T21:31:44.740Z"
   },
   {
    "duration": 5,
    "start_time": "2022-04-29T21:31:44.759Z"
   },
   {
    "duration": 14,
    "start_time": "2022-04-29T21:31:44.766Z"
   },
   {
    "duration": 11,
    "start_time": "2022-04-29T21:31:44.782Z"
   },
   {
    "duration": 41,
    "start_time": "2022-04-29T21:31:44.795Z"
   },
   {
    "duration": 16,
    "start_time": "2022-04-29T21:31:44.838Z"
   },
   {
    "duration": 10,
    "start_time": "2022-04-29T21:31:44.856Z"
   },
   {
    "duration": 9,
    "start_time": "2022-04-29T21:31:44.868Z"
   },
   {
    "duration": 16,
    "start_time": "2022-04-29T21:31:44.878Z"
   },
   {
    "duration": 31,
    "start_time": "2022-04-29T21:31:44.895Z"
   },
   {
    "duration": 21,
    "start_time": "2022-04-29T21:31:44.927Z"
   },
   {
    "duration": 21,
    "start_time": "2022-04-29T21:31:44.951Z"
   },
   {
    "duration": 18,
    "start_time": "2022-04-29T21:31:44.973Z"
   },
   {
    "duration": 19,
    "start_time": "2022-04-29T21:31:45.024Z"
   },
   {
    "duration": 482,
    "start_time": "2022-04-29T21:35:05.543Z"
   },
   {
    "duration": 83,
    "start_time": "2022-04-29T21:35:06.028Z"
   },
   {
    "duration": 36,
    "start_time": "2022-04-29T21:35:06.113Z"
   },
   {
    "duration": 21,
    "start_time": "2022-04-29T21:35:06.152Z"
   },
   {
    "duration": 5,
    "start_time": "2022-04-29T21:35:06.175Z"
   },
   {
    "duration": 68,
    "start_time": "2022-04-29T21:35:06.182Z"
   },
   {
    "duration": 14,
    "start_time": "2022-04-29T21:35:06.252Z"
   },
   {
    "duration": 20,
    "start_time": "2022-04-29T21:35:06.268Z"
   },
   {
    "duration": 9,
    "start_time": "2022-04-29T21:35:06.290Z"
   },
   {
    "duration": 9,
    "start_time": "2022-04-29T21:35:06.326Z"
   },
   {
    "duration": 27,
    "start_time": "2022-04-29T21:35:06.337Z"
   },
   {
    "duration": 10,
    "start_time": "2022-04-29T21:35:06.367Z"
   },
   {
    "duration": 17,
    "start_time": "2022-04-29T21:35:06.379Z"
   },
   {
    "duration": 34,
    "start_time": "2022-04-29T21:35:06.398Z"
   },
   {
    "duration": 24,
    "start_time": "2022-04-29T21:35:06.435Z"
   },
   {
    "duration": 6,
    "start_time": "2022-04-29T21:35:06.461Z"
   },
   {
    "duration": 20,
    "start_time": "2022-04-29T21:35:06.469Z"
   },
   {
    "duration": 7,
    "start_time": "2022-04-29T21:35:06.490Z"
   },
   {
    "duration": 22,
    "start_time": "2022-04-29T21:35:06.499Z"
   },
   {
    "duration": 17,
    "start_time": "2022-04-29T21:35:06.524Z"
   },
   {
    "duration": 19,
    "start_time": "2022-04-29T21:35:06.543Z"
   },
   {
    "duration": 49,
    "start_time": "2022-04-29T21:35:06.565Z"
   },
   {
    "duration": 10,
    "start_time": "2022-04-29T21:35:06.616Z"
   },
   {
    "duration": 7,
    "start_time": "2022-04-29T21:35:06.628Z"
   },
   {
    "duration": 24,
    "start_time": "2022-04-29T21:35:06.637Z"
   },
   {
    "duration": 24,
    "start_time": "2022-04-29T21:35:06.664Z"
   },
   {
    "duration": 47,
    "start_time": "2022-04-29T21:35:06.690Z"
   },
   {
    "duration": 27,
    "start_time": "2022-04-29T21:35:06.742Z"
   },
   {
    "duration": 24,
    "start_time": "2022-04-29T21:35:06.771Z"
   },
   {
    "duration": 6,
    "start_time": "2022-04-29T21:35:06.797Z"
   },
   {
    "duration": 18,
    "start_time": "2022-04-29T21:35:06.823Z"
   },
   {
    "duration": 19,
    "start_time": "2022-04-29T21:35:06.844Z"
   },
   {
    "duration": 23,
    "start_time": "2022-04-29T21:35:06.866Z"
   },
   {
    "duration": 15,
    "start_time": "2022-04-29T21:35:06.891Z"
   },
   {
    "duration": 25,
    "start_time": "2022-04-29T21:35:06.908Z"
   },
   {
    "duration": 13,
    "start_time": "2022-04-29T21:35:06.935Z"
   },
   {
    "duration": 15,
    "start_time": "2022-04-29T21:35:06.950Z"
   },
   {
    "duration": 17,
    "start_time": "2022-04-29T21:35:06.967Z"
   },
   {
    "duration": 29,
    "start_time": "2022-04-29T21:35:06.985Z"
   },
   {
    "duration": 27,
    "start_time": "2022-04-29T21:35:07.016Z"
   },
   {
    "duration": 29,
    "start_time": "2022-04-29T21:35:07.044Z"
   },
   {
    "duration": 28,
    "start_time": "2022-04-29T21:35:07.075Z"
   },
   {
    "duration": 24,
    "start_time": "2022-04-29T21:35:07.105Z"
   },
   {
    "duration": 19,
    "start_time": "2022-04-29T21:35:07.131Z"
   },
   {
    "duration": 412,
    "start_time": "2022-04-30T06:05:08.392Z"
   },
   {
    "duration": 56,
    "start_time": "2022-04-30T06:05:08.806Z"
   },
   {
    "duration": 20,
    "start_time": "2022-04-30T06:05:08.863Z"
   },
   {
    "duration": 15,
    "start_time": "2022-04-30T06:05:08.885Z"
   },
   {
    "duration": 5,
    "start_time": "2022-04-30T06:05:08.901Z"
   },
   {
    "duration": 64,
    "start_time": "2022-04-30T06:05:08.907Z"
   },
   {
    "duration": 15,
    "start_time": "2022-04-30T06:05:08.972Z"
   },
   {
    "duration": 18,
    "start_time": "2022-04-30T06:05:08.989Z"
   },
   {
    "duration": 8,
    "start_time": "2022-04-30T06:05:09.008Z"
   },
   {
    "duration": 39,
    "start_time": "2022-04-30T06:05:09.018Z"
   },
   {
    "duration": 24,
    "start_time": "2022-04-30T06:05:09.058Z"
   },
   {
    "duration": 9,
    "start_time": "2022-04-30T06:05:09.084Z"
   },
   {
    "duration": 7,
    "start_time": "2022-04-30T06:05:09.095Z"
   },
   {
    "duration": 23,
    "start_time": "2022-04-30T06:05:09.103Z"
   },
   {
    "duration": 35,
    "start_time": "2022-04-30T06:05:09.128Z"
   },
   {
    "duration": 6,
    "start_time": "2022-04-30T06:05:09.165Z"
   },
   {
    "duration": 13,
    "start_time": "2022-04-30T06:05:09.172Z"
   },
   {
    "duration": 6,
    "start_time": "2022-04-30T06:05:09.187Z"
   },
   {
    "duration": 7,
    "start_time": "2022-04-30T06:05:09.194Z"
   },
   {
    "duration": 9,
    "start_time": "2022-04-30T06:05:09.202Z"
   },
   {
    "duration": 60,
    "start_time": "2022-04-30T06:05:09.212Z"
   },
   {
    "duration": 38,
    "start_time": "2022-04-30T06:05:09.273Z"
   },
   {
    "duration": 5,
    "start_time": "2022-04-30T06:05:09.312Z"
   },
   {
    "duration": 7,
    "start_time": "2022-04-30T06:05:09.319Z"
   },
   {
    "duration": 27,
    "start_time": "2022-04-30T06:05:09.328Z"
   },
   {
    "duration": 18,
    "start_time": "2022-04-30T06:05:09.357Z"
   },
   {
    "duration": 32,
    "start_time": "2022-04-30T06:05:09.377Z"
   },
   {
    "duration": 44,
    "start_time": "2022-04-30T06:05:09.414Z"
   },
   {
    "duration": 24,
    "start_time": "2022-04-30T06:05:09.461Z"
   },
   {
    "duration": 5,
    "start_time": "2022-04-30T06:05:09.487Z"
   },
   {
    "duration": 18,
    "start_time": "2022-04-30T06:05:09.494Z"
   },
   {
    "duration": 5,
    "start_time": "2022-04-30T06:05:09.514Z"
   },
   {
    "duration": 36,
    "start_time": "2022-04-30T06:05:09.521Z"
   },
   {
    "duration": 13,
    "start_time": "2022-04-30T06:05:09.559Z"
   },
   {
    "duration": 17,
    "start_time": "2022-04-30T06:05:09.574Z"
   },
   {
    "duration": 13,
    "start_time": "2022-04-30T06:05:09.593Z"
   },
   {
    "duration": 16,
    "start_time": "2022-04-30T06:05:09.608Z"
   },
   {
    "duration": 38,
    "start_time": "2022-04-30T06:05:09.626Z"
   },
   {
    "duration": 15,
    "start_time": "2022-04-30T06:05:09.666Z"
   },
   {
    "duration": 15,
    "start_time": "2022-04-30T06:05:09.682Z"
   },
   {
    "duration": 27,
    "start_time": "2022-04-30T06:05:09.698Z"
   },
   {
    "duration": 51,
    "start_time": "2022-04-30T06:05:09.726Z"
   },
   {
    "duration": 22,
    "start_time": "2022-04-30T06:05:09.779Z"
   },
   {
    "duration": 25,
    "start_time": "2022-04-30T06:05:09.803Z"
   }
  ],
  "kernelspec": {
   "display_name": "Python 3 (ipykernel)",
   "language": "python",
   "name": "python3"
  },
  "language_info": {
   "codemirror_mode": {
    "name": "ipython",
    "version": 3
   },
   "file_extension": ".py",
   "mimetype": "text/x-python",
   "name": "python",
   "nbconvert_exporter": "python",
   "pygments_lexer": "ipython3",
   "version": "3.9.7"
  },
  "toc": {
   "base_numbering": "",
   "nav_menu": {},
   "number_sections": false,
   "sideBar": true,
   "skip_h1_title": true,
   "title_cell": "Table of Contents",
   "title_sidebar": "Содержание",
   "toc_cell": false,
   "toc_position": {
    "height": "calc(100% - 180px)",
    "left": "10px",
    "top": "150px",
    "width": "366.383px"
   },
   "toc_section_display": true,
   "toc_window_display": true
  }
 },
 "nbformat": 4,
 "nbformat_minor": 5
}
