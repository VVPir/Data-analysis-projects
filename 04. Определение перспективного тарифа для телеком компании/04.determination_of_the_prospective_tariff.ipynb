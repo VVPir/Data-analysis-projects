{
 "cells": [
  {
   "cell_type": "markdown",
   "metadata": {},
   "source": [
    "### Определение перспективного тарифа для телеком-компании\n",
    "Вы аналитик компании «Мегалайн» — федерального оператора сотовой связи. Клиентам предлагают два тарифных плана: «Смарт» и «Ультра». Чтобы скорректировать рекламный бюджет, коммерческий департамент хочет понять, какой тариф приносит больше денег.\n",
    "Вам предстоит сделать предварительный анализ тарифов на небольшой выборке клиентов. В вашем распоряжении данные 500 пользователей «Мегалайна»: кто они, откуда, каким тарифом пользуются, сколько звонков и сообщений каждый отправил за 2018 год. Нужно проанализировать поведение клиентов и сделать вывод — какой тариф лучше.\n"
   ]
  },
  {
   "cell_type": "markdown",
   "metadata": {},
   "source": [
    "### 1. Изучение данных"
   ]
  },
  {
   "cell_type": "code",
   "execution_count": 1,
   "metadata": {},
   "outputs": [],
   "source": [
    "import pandas as pd   #импорт библиотек \n",
    "import numpy as np\n",
    "import matplotlib.pyplot as plt\n",
    "from scipy import stats as st"
   ]
  },
  {
   "cell_type": "code",
   "execution_count": 2,
   "metadata": {},
   "outputs": [],
   "source": [
    "data_calls = pd.read_csv('/datasets/calls.csv') #чтение файла"
   ]
  },
  {
   "cell_type": "code",
   "execution_count": 3,
   "metadata": {},
   "outputs": [
    {
     "data": {
      "text/html": [
       "<div>\n",
       "<style scoped>\n",
       "    .dataframe tbody tr th:only-of-type {\n",
       "        vertical-align: middle;\n",
       "    }\n",
       "\n",
       "    .dataframe tbody tr th {\n",
       "        vertical-align: top;\n",
       "    }\n",
       "\n",
       "    .dataframe thead th {\n",
       "        text-align: right;\n",
       "    }\n",
       "</style>\n",
       "<table border=\"1\" class=\"dataframe\">\n",
       "  <thead>\n",
       "    <tr style=\"text-align: right;\">\n",
       "      <th></th>\n",
       "      <th>id</th>\n",
       "      <th>call_date</th>\n",
       "      <th>duration</th>\n",
       "      <th>user_id</th>\n",
       "    </tr>\n",
       "  </thead>\n",
       "  <tbody>\n",
       "    <tr>\n",
       "      <th>0</th>\n",
       "      <td>1000_0</td>\n",
       "      <td>2018-07-25</td>\n",
       "      <td>0.00</td>\n",
       "      <td>1000</td>\n",
       "    </tr>\n",
       "    <tr>\n",
       "      <th>1</th>\n",
       "      <td>1000_1</td>\n",
       "      <td>2018-08-17</td>\n",
       "      <td>0.00</td>\n",
       "      <td>1000</td>\n",
       "    </tr>\n",
       "    <tr>\n",
       "      <th>2</th>\n",
       "      <td>1000_2</td>\n",
       "      <td>2018-06-11</td>\n",
       "      <td>2.85</td>\n",
       "      <td>1000</td>\n",
       "    </tr>\n",
       "    <tr>\n",
       "      <th>3</th>\n",
       "      <td>1000_3</td>\n",
       "      <td>2018-09-21</td>\n",
       "      <td>13.80</td>\n",
       "      <td>1000</td>\n",
       "    </tr>\n",
       "    <tr>\n",
       "      <th>4</th>\n",
       "      <td>1000_4</td>\n",
       "      <td>2018-12-15</td>\n",
       "      <td>5.18</td>\n",
       "      <td>1000</td>\n",
       "    </tr>\n",
       "  </tbody>\n",
       "</table>\n",
       "</div>"
      ],
      "text/plain": [
       "       id   call_date  duration  user_id\n",
       "0  1000_0  2018-07-25      0.00     1000\n",
       "1  1000_1  2018-08-17      0.00     1000\n",
       "2  1000_2  2018-06-11      2.85     1000\n",
       "3  1000_3  2018-09-21     13.80     1000\n",
       "4  1000_4  2018-12-15      5.18     1000"
      ]
     },
     "metadata": {},
     "output_type": "display_data"
    }
   ],
   "source": [
    "display(data_calls.head()) #первые 5 строк таблицы"
   ]
  },
  {
   "cell_type": "code",
   "execution_count": 4,
   "metadata": {},
   "outputs": [
    {
     "name": "stdout",
     "output_type": "stream",
     "text": [
      "<class 'pandas.core.frame.DataFrame'>\n",
      "RangeIndex: 202607 entries, 0 to 202606\n",
      "Data columns (total 4 columns):\n",
      " #   Column     Non-Null Count   Dtype  \n",
      "---  ------     --------------   -----  \n",
      " 0   id         202607 non-null  object \n",
      " 1   call_date  202607 non-null  object \n",
      " 2   duration   202607 non-null  float64\n",
      " 3   user_id    202607 non-null  int64  \n",
      "dtypes: float64(1), int64(1), object(2)\n",
      "memory usage: 6.2+ MB\n"
     ]
    }
   ],
   "source": [
    "data_calls.info() #общая информация "
   ]
  },
  {
   "cell_type": "markdown",
   "metadata": {},
   "source": [
    "Таблица calls (информация о звонках):\n",
    "\n",
    "- id — уникальный номер звонка\n",
    "- call_date — дата звонка\n",
    "- duration — длительность звонка в минутах\n",
    "- user_id — идентификатор пользователя, сделавшего звонок\n",
    "\n"
   ]
  },
  {
   "cell_type": "code",
   "execution_count": 5,
   "metadata": {},
   "outputs": [],
   "source": [
    "data_internet = pd.read_csv('/datasets/internet.csv')"
   ]
  },
  {
   "cell_type": "code",
   "execution_count": 6,
   "metadata": {},
   "outputs": [
    {
     "data": {
      "text/html": [
       "<div>\n",
       "<style scoped>\n",
       "    .dataframe tbody tr th:only-of-type {\n",
       "        vertical-align: middle;\n",
       "    }\n",
       "\n",
       "    .dataframe tbody tr th {\n",
       "        vertical-align: top;\n",
       "    }\n",
       "\n",
       "    .dataframe thead th {\n",
       "        text-align: right;\n",
       "    }\n",
       "</style>\n",
       "<table border=\"1\" class=\"dataframe\">\n",
       "  <thead>\n",
       "    <tr style=\"text-align: right;\">\n",
       "      <th></th>\n",
       "      <th>Unnamed: 0</th>\n",
       "      <th>id</th>\n",
       "      <th>mb_used</th>\n",
       "      <th>session_date</th>\n",
       "      <th>user_id</th>\n",
       "    </tr>\n",
       "  </thead>\n",
       "  <tbody>\n",
       "    <tr>\n",
       "      <th>0</th>\n",
       "      <td>0</td>\n",
       "      <td>1000_0</td>\n",
       "      <td>112.95</td>\n",
       "      <td>2018-11-25</td>\n",
       "      <td>1000</td>\n",
       "    </tr>\n",
       "    <tr>\n",
       "      <th>1</th>\n",
       "      <td>1</td>\n",
       "      <td>1000_1</td>\n",
       "      <td>1052.81</td>\n",
       "      <td>2018-09-07</td>\n",
       "      <td>1000</td>\n",
       "    </tr>\n",
       "    <tr>\n",
       "      <th>2</th>\n",
       "      <td>2</td>\n",
       "      <td>1000_2</td>\n",
       "      <td>1197.26</td>\n",
       "      <td>2018-06-25</td>\n",
       "      <td>1000</td>\n",
       "    </tr>\n",
       "    <tr>\n",
       "      <th>3</th>\n",
       "      <td>3</td>\n",
       "      <td>1000_3</td>\n",
       "      <td>550.27</td>\n",
       "      <td>2018-08-22</td>\n",
       "      <td>1000</td>\n",
       "    </tr>\n",
       "    <tr>\n",
       "      <th>4</th>\n",
       "      <td>4</td>\n",
       "      <td>1000_4</td>\n",
       "      <td>302.56</td>\n",
       "      <td>2018-09-24</td>\n",
       "      <td>1000</td>\n",
       "    </tr>\n",
       "  </tbody>\n",
       "</table>\n",
       "</div>"
      ],
      "text/plain": [
       "   Unnamed: 0      id  mb_used session_date  user_id\n",
       "0           0  1000_0   112.95   2018-11-25     1000\n",
       "1           1  1000_1  1052.81   2018-09-07     1000\n",
       "2           2  1000_2  1197.26   2018-06-25     1000\n",
       "3           3  1000_3   550.27   2018-08-22     1000\n",
       "4           4  1000_4   302.56   2018-09-24     1000"
      ]
     },
     "metadata": {},
     "output_type": "display_data"
    }
   ],
   "source": [
    "display(data_internet.head()) #первые 5 строк таблицы"
   ]
  },
  {
   "cell_type": "code",
   "execution_count": 7,
   "metadata": {},
   "outputs": [
    {
     "name": "stdout",
     "output_type": "stream",
     "text": [
      "<class 'pandas.core.frame.DataFrame'>\n",
      "RangeIndex: 149396 entries, 0 to 149395\n",
      "Data columns (total 5 columns):\n",
      " #   Column        Non-Null Count   Dtype  \n",
      "---  ------        --------------   -----  \n",
      " 0   Unnamed: 0    149396 non-null  int64  \n",
      " 1   id            149396 non-null  object \n",
      " 2   mb_used       149396 non-null  float64\n",
      " 3   session_date  149396 non-null  object \n",
      " 4   user_id       149396 non-null  int64  \n",
      "dtypes: float64(1), int64(2), object(2)\n",
      "memory usage: 5.7+ MB\n"
     ]
    }
   ],
   "source": [
    "data_internet.info() #общая информация "
   ]
  },
  {
   "cell_type": "markdown",
   "metadata": {},
   "source": [
    "Таблица internet (информация об интернет-сессиях):\n",
    "\n",
    "- id — уникальный номер сессии\n",
    "- mb_used — объём потраченного за сессию интернет-трафика (в мегабайтах)\n",
    "- session_date — дата интернет-сессии\n",
    "- user_id — идентификатор пользователя\n",
    "\n"
   ]
  },
  {
   "cell_type": "code",
   "execution_count": 8,
   "metadata": {},
   "outputs": [],
   "source": [
    "data_messages = pd.read_csv('/datasets/messages.csv') #чтение файла"
   ]
  },
  {
   "cell_type": "code",
   "execution_count": 9,
   "metadata": {},
   "outputs": [
    {
     "data": {
      "text/html": [
       "<div>\n",
       "<style scoped>\n",
       "    .dataframe tbody tr th:only-of-type {\n",
       "        vertical-align: middle;\n",
       "    }\n",
       "\n",
       "    .dataframe tbody tr th {\n",
       "        vertical-align: top;\n",
       "    }\n",
       "\n",
       "    .dataframe thead th {\n",
       "        text-align: right;\n",
       "    }\n",
       "</style>\n",
       "<table border=\"1\" class=\"dataframe\">\n",
       "  <thead>\n",
       "    <tr style=\"text-align: right;\">\n",
       "      <th></th>\n",
       "      <th>id</th>\n",
       "      <th>message_date</th>\n",
       "      <th>user_id</th>\n",
       "    </tr>\n",
       "  </thead>\n",
       "  <tbody>\n",
       "    <tr>\n",
       "      <th>0</th>\n",
       "      <td>1000_0</td>\n",
       "      <td>2018-06-27</td>\n",
       "      <td>1000</td>\n",
       "    </tr>\n",
       "    <tr>\n",
       "      <th>1</th>\n",
       "      <td>1000_1</td>\n",
       "      <td>2018-10-08</td>\n",
       "      <td>1000</td>\n",
       "    </tr>\n",
       "    <tr>\n",
       "      <th>2</th>\n",
       "      <td>1000_2</td>\n",
       "      <td>2018-08-04</td>\n",
       "      <td>1000</td>\n",
       "    </tr>\n",
       "    <tr>\n",
       "      <th>3</th>\n",
       "      <td>1000_3</td>\n",
       "      <td>2018-06-16</td>\n",
       "      <td>1000</td>\n",
       "    </tr>\n",
       "    <tr>\n",
       "      <th>4</th>\n",
       "      <td>1000_4</td>\n",
       "      <td>2018-12-05</td>\n",
       "      <td>1000</td>\n",
       "    </tr>\n",
       "  </tbody>\n",
       "</table>\n",
       "</div>"
      ],
      "text/plain": [
       "       id message_date  user_id\n",
       "0  1000_0   2018-06-27     1000\n",
       "1  1000_1   2018-10-08     1000\n",
       "2  1000_2   2018-08-04     1000\n",
       "3  1000_3   2018-06-16     1000\n",
       "4  1000_4   2018-12-05     1000"
      ]
     },
     "metadata": {},
     "output_type": "display_data"
    }
   ],
   "source": [
    "display(data_messages.head()) #первые 5 строк таблицы"
   ]
  },
  {
   "cell_type": "code",
   "execution_count": 10,
   "metadata": {},
   "outputs": [
    {
     "name": "stdout",
     "output_type": "stream",
     "text": [
      "<class 'pandas.core.frame.DataFrame'>\n",
      "RangeIndex: 123036 entries, 0 to 123035\n",
      "Data columns (total 3 columns):\n",
      " #   Column        Non-Null Count   Dtype \n",
      "---  ------        --------------   ----- \n",
      " 0   id            123036 non-null  object\n",
      " 1   message_date  123036 non-null  object\n",
      " 2   user_id       123036 non-null  int64 \n",
      "dtypes: int64(1), object(2)\n",
      "memory usage: 2.8+ MB\n"
     ]
    }
   ],
   "source": [
    "data_messages.info() #общая информация "
   ]
  },
  {
   "cell_type": "markdown",
   "metadata": {},
   "source": [
    "Таблица messages (информация о сообщениях):\n",
    "\n",
    "- id — уникальный номер сообщения\n",
    "- message_date — дата сообщения\n",
    "- user_id — идентификатор пользователя, отправившего сообщение\n",
    "\n"
   ]
  },
  {
   "cell_type": "code",
   "execution_count": 11,
   "metadata": {},
   "outputs": [],
   "source": [
    "data_tariffs = pd.read_csv('/datasets/tariffs.csv') #чтение файла"
   ]
  },
  {
   "cell_type": "code",
   "execution_count": 12,
   "metadata": {},
   "outputs": [
    {
     "data": {
      "text/html": [
       "<div>\n",
       "<style scoped>\n",
       "    .dataframe tbody tr th:only-of-type {\n",
       "        vertical-align: middle;\n",
       "    }\n",
       "\n",
       "    .dataframe tbody tr th {\n",
       "        vertical-align: top;\n",
       "    }\n",
       "\n",
       "    .dataframe thead th {\n",
       "        text-align: right;\n",
       "    }\n",
       "</style>\n",
       "<table border=\"1\" class=\"dataframe\">\n",
       "  <thead>\n",
       "    <tr style=\"text-align: right;\">\n",
       "      <th></th>\n",
       "      <th>messages_included</th>\n",
       "      <th>mb_per_month_included</th>\n",
       "      <th>minutes_included</th>\n",
       "      <th>rub_monthly_fee</th>\n",
       "      <th>rub_per_gb</th>\n",
       "      <th>rub_per_message</th>\n",
       "      <th>rub_per_minute</th>\n",
       "      <th>tariff_name</th>\n",
       "    </tr>\n",
       "  </thead>\n",
       "  <tbody>\n",
       "    <tr>\n",
       "      <th>0</th>\n",
       "      <td>50</td>\n",
       "      <td>15360</td>\n",
       "      <td>500</td>\n",
       "      <td>550</td>\n",
       "      <td>200</td>\n",
       "      <td>3</td>\n",
       "      <td>3</td>\n",
       "      <td>smart</td>\n",
       "    </tr>\n",
       "    <tr>\n",
       "      <th>1</th>\n",
       "      <td>1000</td>\n",
       "      <td>30720</td>\n",
       "      <td>3000</td>\n",
       "      <td>1950</td>\n",
       "      <td>150</td>\n",
       "      <td>1</td>\n",
       "      <td>1</td>\n",
       "      <td>ultra</td>\n",
       "    </tr>\n",
       "  </tbody>\n",
       "</table>\n",
       "</div>"
      ],
      "text/plain": [
       "   messages_included  mb_per_month_included  minutes_included  \\\n",
       "0                 50                  15360               500   \n",
       "1               1000                  30720              3000   \n",
       "\n",
       "   rub_monthly_fee  rub_per_gb  rub_per_message  rub_per_minute tariff_name  \n",
       "0              550         200                3               3       smart  \n",
       "1             1950         150                1               1       ultra  "
      ]
     },
     "metadata": {},
     "output_type": "display_data"
    }
   ],
   "source": [
    "display(data_tariffs.head()) #первые 5 строк таблицы"
   ]
  },
  {
   "cell_type": "code",
   "execution_count": 13,
   "metadata": {},
   "outputs": [
    {
     "name": "stdout",
     "output_type": "stream",
     "text": [
      "<class 'pandas.core.frame.DataFrame'>\n",
      "RangeIndex: 2 entries, 0 to 1\n",
      "Data columns (total 8 columns):\n",
      " #   Column                 Non-Null Count  Dtype \n",
      "---  ------                 --------------  ----- \n",
      " 0   messages_included      2 non-null      int64 \n",
      " 1   mb_per_month_included  2 non-null      int64 \n",
      " 2   minutes_included       2 non-null      int64 \n",
      " 3   rub_monthly_fee        2 non-null      int64 \n",
      " 4   rub_per_gb             2 non-null      int64 \n",
      " 5   rub_per_message        2 non-null      int64 \n",
      " 6   rub_per_minute         2 non-null      int64 \n",
      " 7   tariff_name            2 non-null      object\n",
      "dtypes: int64(7), object(1)\n",
      "memory usage: 256.0+ bytes\n"
     ]
    }
   ],
   "source": [
    "data_tariffs.info() #общая информация "
   ]
  },
  {
   "cell_type": "markdown",
   "metadata": {},
   "source": [
    "Таблица tariffs (информация о тарифах):\n",
    "\n",
    "- tariff_name — название тарифа\n",
    "- rub_monthly_fee — ежемесячная абонентская плата в рублях\n",
    "- minutes_included — количество минут разговора в месяц, включённых в абонентскую плату\n",
    "- messages_included — количество сообщений в месяц, включённых в абонентскую плату\n",
    "- mb_per_month_included — объём интернет-трафика, включённого в абонентскую плату (в мегабайтах)\n",
    "- rub_per_minute — стоимость минуты разговора сверх тарифного пакета (например, если в тарифе 100 минут разговора в месяц, то со 101 минуты будет взиматься плата)\n",
    "- rub_per_message — стоимость отправки сообщения сверх тарифного пакета\n",
    "- rub_per_gb — стоимость дополнительного гигабайта интернет-трафика сверх тарифного пакета (1 гигабайт = 1024 мегабайта)"
   ]
  },
  {
   "cell_type": "code",
   "execution_count": 14,
   "metadata": {},
   "outputs": [],
   "source": [
    "data_users = pd.read_csv('/datasets/users.csv') #чтение файла"
   ]
  },
  {
   "cell_type": "code",
   "execution_count": 15,
   "metadata": {},
   "outputs": [
    {
     "data": {
      "text/html": [
       "<div>\n",
       "<style scoped>\n",
       "    .dataframe tbody tr th:only-of-type {\n",
       "        vertical-align: middle;\n",
       "    }\n",
       "\n",
       "    .dataframe tbody tr th {\n",
       "        vertical-align: top;\n",
       "    }\n",
       "\n",
       "    .dataframe thead th {\n",
       "        text-align: right;\n",
       "    }\n",
       "</style>\n",
       "<table border=\"1\" class=\"dataframe\">\n",
       "  <thead>\n",
       "    <tr style=\"text-align: right;\">\n",
       "      <th></th>\n",
       "      <th>user_id</th>\n",
       "      <th>age</th>\n",
       "      <th>churn_date</th>\n",
       "      <th>city</th>\n",
       "      <th>first_name</th>\n",
       "      <th>last_name</th>\n",
       "      <th>reg_date</th>\n",
       "      <th>tariff</th>\n",
       "    </tr>\n",
       "  </thead>\n",
       "  <tbody>\n",
       "    <tr>\n",
       "      <th>0</th>\n",
       "      <td>1000</td>\n",
       "      <td>52</td>\n",
       "      <td>NaN</td>\n",
       "      <td>Краснодар</td>\n",
       "      <td>Рафаил</td>\n",
       "      <td>Верещагин</td>\n",
       "      <td>2018-05-25</td>\n",
       "      <td>ultra</td>\n",
       "    </tr>\n",
       "    <tr>\n",
       "      <th>1</th>\n",
       "      <td>1001</td>\n",
       "      <td>41</td>\n",
       "      <td>NaN</td>\n",
       "      <td>Москва</td>\n",
       "      <td>Иван</td>\n",
       "      <td>Ежов</td>\n",
       "      <td>2018-11-01</td>\n",
       "      <td>smart</td>\n",
       "    </tr>\n",
       "    <tr>\n",
       "      <th>2</th>\n",
       "      <td>1002</td>\n",
       "      <td>59</td>\n",
       "      <td>NaN</td>\n",
       "      <td>Стерлитамак</td>\n",
       "      <td>Евгений</td>\n",
       "      <td>Абрамович</td>\n",
       "      <td>2018-06-17</td>\n",
       "      <td>smart</td>\n",
       "    </tr>\n",
       "    <tr>\n",
       "      <th>3</th>\n",
       "      <td>1003</td>\n",
       "      <td>23</td>\n",
       "      <td>NaN</td>\n",
       "      <td>Москва</td>\n",
       "      <td>Белла</td>\n",
       "      <td>Белякова</td>\n",
       "      <td>2018-08-17</td>\n",
       "      <td>ultra</td>\n",
       "    </tr>\n",
       "    <tr>\n",
       "      <th>4</th>\n",
       "      <td>1004</td>\n",
       "      <td>68</td>\n",
       "      <td>NaN</td>\n",
       "      <td>Новокузнецк</td>\n",
       "      <td>Татьяна</td>\n",
       "      <td>Авдеенко</td>\n",
       "      <td>2018-05-14</td>\n",
       "      <td>ultra</td>\n",
       "    </tr>\n",
       "  </tbody>\n",
       "</table>\n",
       "</div>"
      ],
      "text/plain": [
       "   user_id  age churn_date         city first_name  last_name    reg_date  \\\n",
       "0     1000   52        NaN    Краснодар     Рафаил  Верещагин  2018-05-25   \n",
       "1     1001   41        NaN       Москва       Иван       Ежов  2018-11-01   \n",
       "2     1002   59        NaN  Стерлитамак    Евгений  Абрамович  2018-06-17   \n",
       "3     1003   23        NaN       Москва      Белла   Белякова  2018-08-17   \n",
       "4     1004   68        NaN  Новокузнецк    Татьяна   Авдеенко  2018-05-14   \n",
       "\n",
       "  tariff  \n",
       "0  ultra  \n",
       "1  smart  \n",
       "2  smart  \n",
       "3  ultra  \n",
       "4  ultra  "
      ]
     },
     "metadata": {},
     "output_type": "display_data"
    }
   ],
   "source": [
    "display(data_users.head()) #первые 5 строк таблицы"
   ]
  },
  {
   "cell_type": "code",
   "execution_count": 16,
   "metadata": {},
   "outputs": [
    {
     "name": "stdout",
     "output_type": "stream",
     "text": [
      "<class 'pandas.core.frame.DataFrame'>\n",
      "RangeIndex: 500 entries, 0 to 499\n",
      "Data columns (total 8 columns):\n",
      " #   Column      Non-Null Count  Dtype \n",
      "---  ------      --------------  ----- \n",
      " 0   user_id     500 non-null    int64 \n",
      " 1   age         500 non-null    int64 \n",
      " 2   churn_date  38 non-null     object\n",
      " 3   city        500 non-null    object\n",
      " 4   first_name  500 non-null    object\n",
      " 5   last_name   500 non-null    object\n",
      " 6   reg_date    500 non-null    object\n",
      " 7   tariff      500 non-null    object\n",
      "dtypes: int64(2), object(6)\n",
      "memory usage: 31.4+ KB\n"
     ]
    }
   ],
   "source": [
    "data_users.info() #общая информация "
   ]
  },
  {
   "cell_type": "markdown",
   "metadata": {},
   "source": [
    "Таблица users (информация о пользователях):\n",
    "\n",
    "- user_id — уникальный идентификатор пользователя\n",
    "- first_name — имя пользователя\n",
    "- last_name — фамилия пользователя\n",
    "- age — возраст пользователя \n",
    "- reg_date — дата подключения тарифа (день, месяц, год)\n",
    "- churn_date — дата прекращения пользования тарифом (если значение пропущено, то тариф ещё действовал на момент выгрузки данных)\n",
    "- city — город проживания пользователя\n",
    "- tariff — тарифный плана\n",
    "\n"
   ]
  },
  {
   "cell_type": "markdown",
   "metadata": {},
   "source": [
    "Вывод:\n",
    "- столбцы с датой необходимо перевести в date_time \n",
    "- имеются пропуски в churn_date \t\n",
    "- длительность звонков необходимо округлить в большую сторону    "
   ]
  },
  {
   "cell_type": "markdown",
   "metadata": {},
   "source": [
    "###  2. Подготовка данных"
   ]
  },
  {
   "cell_type": "markdown",
   "metadata": {},
   "source": [
    "В столбцах, в которых есть дата, меняем тип на date_time"
   ]
  },
  {
   "cell_type": "code",
   "execution_count": 17,
   "metadata": {},
   "outputs": [],
   "source": [
    "data_calls['call_date'] = pd.to_datetime(data_calls['call_date'],format='%Y-%m-%d')"
   ]
  },
  {
   "cell_type": "code",
   "execution_count": 18,
   "metadata": {},
   "outputs": [],
   "source": [
    "data_internet['session_date'] = pd.to_datetime(data_internet['session_date'], format='%Y-%m-%d')"
   ]
  },
  {
   "cell_type": "code",
   "execution_count": 19,
   "metadata": {},
   "outputs": [],
   "source": [
    "data_messages['message_date'] = pd.to_datetime(data_messages['message_date'], format='%Y-%m-%d')"
   ]
  },
  {
   "cell_type": "code",
   "execution_count": 20,
   "metadata": {},
   "outputs": [],
   "source": [
    "data_users['reg_date'] = pd.to_datetime(data_users['reg_date'], format='%Y-%m-%d')"
   ]
  },
  {
   "cell_type": "code",
   "execution_count": 21,
   "metadata": {},
   "outputs": [],
   "source": [
    "data_users['churn_date'] = pd.to_datetime(data_users['churn_date'], format='%Y-%m-%d')"
   ]
  },
  {
   "cell_type": "markdown",
   "metadata": {},
   "source": [
    "Округлим значения в 'duration' и 'mb_used' в большую сторону "
   ]
  },
  {
   "cell_type": "code",
   "execution_count": 22,
   "metadata": {},
   "outputs": [],
   "source": [
    "data_calls['duration'] = np.ceil(data_calls['duration'])"
   ]
  },
  {
   "cell_type": "markdown",
   "metadata": {},
   "source": [
    "Переведем значения в 'duration' и 'mb_used' в целочисленные"
   ]
  },
  {
   "cell_type": "code",
   "execution_count": 23,
   "metadata": {},
   "outputs": [],
   "source": [
    "data_calls['duration'] = data_calls['duration'].astype('int64')"
   ]
  },
  {
   "cell_type": "code",
   "execution_count": 24,
   "metadata": {},
   "outputs": [],
   "source": [
    "data_internet['mb_used'] = data_internet['mb_used'].astype('int64')"
   ]
  },
  {
   "cell_type": "markdown",
   "metadata": {},
   "source": [
    "Заменим значения NaN нулями в столбце churn_date (смены оператора не было)"
   ]
  },
  {
   "cell_type": "code",
   "execution_count": 25,
   "metadata": {},
   "outputs": [],
   "source": [
    "data_users['churn_date'] = data_users['churn_date'].fillna(0)"
   ]
  },
  {
   "cell_type": "markdown",
   "metadata": {},
   "source": [
    "Посчитаем для каждого пользователя количество сделанных звонков и израсходованных минут разговора по месяцам"
   ]
  },
  {
   "cell_type": "code",
   "execution_count": 26,
   "metadata": {},
   "outputs": [],
   "source": [
    "data_calls['month'] = data_calls['call_date'].dt.month #добавим столбец месяца"
   ]
  },
  {
   "cell_type": "code",
   "execution_count": 27,
   "metadata": {},
   "outputs": [],
   "source": [
    "call_pivot = data_calls.pivot_table(index=['user_id', 'month'], values='duration', aggfunc=['sum', 'count'])#сводная таблица \n",
    "call_pivot.columns = ['minutes_calls', 'count_calls'] #переименование столбцов               "
   ]
  },
  {
   "cell_type": "code",
   "execution_count": 28,
   "metadata": {},
   "outputs": [
    {
     "data": {
      "text/html": [
       "<div>\n",
       "<style scoped>\n",
       "    .dataframe tbody tr th:only-of-type {\n",
       "        vertical-align: middle;\n",
       "    }\n",
       "\n",
       "    .dataframe tbody tr th {\n",
       "        vertical-align: top;\n",
       "    }\n",
       "\n",
       "    .dataframe thead th {\n",
       "        text-align: right;\n",
       "    }\n",
       "</style>\n",
       "<table border=\"1\" class=\"dataframe\">\n",
       "  <thead>\n",
       "    <tr style=\"text-align: right;\">\n",
       "      <th></th>\n",
       "      <th></th>\n",
       "      <th>minutes_calls</th>\n",
       "      <th>count_calls</th>\n",
       "    </tr>\n",
       "    <tr>\n",
       "      <th>user_id</th>\n",
       "      <th>month</th>\n",
       "      <th></th>\n",
       "      <th></th>\n",
       "    </tr>\n",
       "  </thead>\n",
       "  <tbody>\n",
       "    <tr>\n",
       "      <th rowspan=\"5\" valign=\"top\">1000</th>\n",
       "      <th>5</th>\n",
       "      <td>159</td>\n",
       "      <td>22</td>\n",
       "    </tr>\n",
       "    <tr>\n",
       "      <th>6</th>\n",
       "      <td>172</td>\n",
       "      <td>43</td>\n",
       "    </tr>\n",
       "    <tr>\n",
       "      <th>7</th>\n",
       "      <td>340</td>\n",
       "      <td>47</td>\n",
       "    </tr>\n",
       "    <tr>\n",
       "      <th>8</th>\n",
       "      <td>408</td>\n",
       "      <td>52</td>\n",
       "    </tr>\n",
       "    <tr>\n",
       "      <th>9</th>\n",
       "      <td>466</td>\n",
       "      <td>58</td>\n",
       "    </tr>\n",
       "    <tr>\n",
       "      <th>...</th>\n",
       "      <th>...</th>\n",
       "      <td>...</td>\n",
       "      <td>...</td>\n",
       "    </tr>\n",
       "    <tr>\n",
       "      <th>1498</th>\n",
       "      <th>10</th>\n",
       "      <td>247</td>\n",
       "      <td>41</td>\n",
       "    </tr>\n",
       "    <tr>\n",
       "      <th rowspan=\"4\" valign=\"top\">1499</th>\n",
       "      <th>9</th>\n",
       "      <td>70</td>\n",
       "      <td>9</td>\n",
       "    </tr>\n",
       "    <tr>\n",
       "      <th>10</th>\n",
       "      <td>449</td>\n",
       "      <td>68</td>\n",
       "    </tr>\n",
       "    <tr>\n",
       "      <th>11</th>\n",
       "      <td>612</td>\n",
       "      <td>74</td>\n",
       "    </tr>\n",
       "    <tr>\n",
       "      <th>12</th>\n",
       "      <td>492</td>\n",
       "      <td>69</td>\n",
       "    </tr>\n",
       "  </tbody>\n",
       "</table>\n",
       "<p>3174 rows × 2 columns</p>\n",
       "</div>"
      ],
      "text/plain": [
       "               minutes_calls  count_calls\n",
       "user_id month                            \n",
       "1000    5                159           22\n",
       "        6                172           43\n",
       "        7                340           47\n",
       "        8                408           52\n",
       "        9                466           58\n",
       "...                      ...          ...\n",
       "1498    10               247           41\n",
       "1499    9                 70            9\n",
       "        10               449           68\n",
       "        11               612           74\n",
       "        12               492           69\n",
       "\n",
       "[3174 rows x 2 columns]"
      ]
     },
     "execution_count": 28,
     "metadata": {},
     "output_type": "execute_result"
    }
   ],
   "source": [
    "call_pivot"
   ]
  },
  {
   "cell_type": "markdown",
   "metadata": {},
   "source": [
    "Посчитаем для каждого пользователя количество отправленных сообщений по месяцам"
   ]
  },
  {
   "cell_type": "code",
   "execution_count": 29,
   "metadata": {},
   "outputs": [],
   "source": [
    "data_messages['month'] = data_messages['message_date'].dt.month # добавим столбец месяца"
   ]
  },
  {
   "cell_type": "code",
   "execution_count": 30,
   "metadata": {},
   "outputs": [],
   "source": [
    "messages_pivot = data_messages.pivot_table(index=['user_id', 'month'], values='message_date', aggfunc='count') # сводная таблица\n",
    "messages_pivot.columns = ['messages_count'] #переименование столбца"
   ]
  },
  {
   "cell_type": "code",
   "execution_count": 31,
   "metadata": {},
   "outputs": [
    {
     "data": {
      "text/html": [
       "<div>\n",
       "<style scoped>\n",
       "    .dataframe tbody tr th:only-of-type {\n",
       "        vertical-align: middle;\n",
       "    }\n",
       "\n",
       "    .dataframe tbody tr th {\n",
       "        vertical-align: top;\n",
       "    }\n",
       "\n",
       "    .dataframe thead th {\n",
       "        text-align: right;\n",
       "    }\n",
       "</style>\n",
       "<table border=\"1\" class=\"dataframe\">\n",
       "  <thead>\n",
       "    <tr style=\"text-align: right;\">\n",
       "      <th></th>\n",
       "      <th></th>\n",
       "      <th>messages_count</th>\n",
       "    </tr>\n",
       "    <tr>\n",
       "      <th>user_id</th>\n",
       "      <th>month</th>\n",
       "      <th></th>\n",
       "    </tr>\n",
       "  </thead>\n",
       "  <tbody>\n",
       "    <tr>\n",
       "      <th rowspan=\"5\" valign=\"top\">1000</th>\n",
       "      <th>5</th>\n",
       "      <td>22</td>\n",
       "    </tr>\n",
       "    <tr>\n",
       "      <th>6</th>\n",
       "      <td>60</td>\n",
       "    </tr>\n",
       "    <tr>\n",
       "      <th>7</th>\n",
       "      <td>75</td>\n",
       "    </tr>\n",
       "    <tr>\n",
       "      <th>8</th>\n",
       "      <td>81</td>\n",
       "    </tr>\n",
       "    <tr>\n",
       "      <th>9</th>\n",
       "      <td>57</td>\n",
       "    </tr>\n",
       "    <tr>\n",
       "      <th>...</th>\n",
       "      <th>...</th>\n",
       "      <td>...</td>\n",
       "    </tr>\n",
       "    <tr>\n",
       "      <th>1498</th>\n",
       "      <th>10</th>\n",
       "      <td>42</td>\n",
       "    </tr>\n",
       "    <tr>\n",
       "      <th rowspan=\"4\" valign=\"top\">1499</th>\n",
       "      <th>9</th>\n",
       "      <td>11</td>\n",
       "    </tr>\n",
       "    <tr>\n",
       "      <th>10</th>\n",
       "      <td>48</td>\n",
       "    </tr>\n",
       "    <tr>\n",
       "      <th>11</th>\n",
       "      <td>59</td>\n",
       "    </tr>\n",
       "    <tr>\n",
       "      <th>12</th>\n",
       "      <td>66</td>\n",
       "    </tr>\n",
       "  </tbody>\n",
       "</table>\n",
       "<p>2717 rows × 1 columns</p>\n",
       "</div>"
      ],
      "text/plain": [
       "               messages_count\n",
       "user_id month                \n",
       "1000    5                  22\n",
       "        6                  60\n",
       "        7                  75\n",
       "        8                  81\n",
       "        9                  57\n",
       "...                       ...\n",
       "1498    10                 42\n",
       "1499    9                  11\n",
       "        10                 48\n",
       "        11                 59\n",
       "        12                 66\n",
       "\n",
       "[2717 rows x 1 columns]"
      ]
     },
     "execution_count": 31,
     "metadata": {},
     "output_type": "execute_result"
    }
   ],
   "source": [
    "messages_pivot"
   ]
  },
  {
   "cell_type": "markdown",
   "metadata": {},
   "source": [
    "Посчитаем для каждого пользователя объем израсходованного интернет-трафика по месяцам"
   ]
  },
  {
   "cell_type": "code",
   "execution_count": 32,
   "metadata": {},
   "outputs": [],
   "source": [
    "data_internet['month'] = data_internet['session_date'].dt.month # добавим столбец месяца"
   ]
  },
  {
   "cell_type": "code",
   "execution_count": 33,
   "metadata": {},
   "outputs": [],
   "source": [
    "internet_pivot = data_internet.pivot_table(index=['user_id', 'month'], values='mb_used', aggfunc='sum') # сводная таблица\n",
    "internet_pivot.columns = ['sum_mb_used'] #переименование столбца"
   ]
  },
  {
   "cell_type": "code",
   "execution_count": 34,
   "metadata": {},
   "outputs": [
    {
     "data": {
      "text/html": [
       "<div>\n",
       "<style scoped>\n",
       "    .dataframe tbody tr th:only-of-type {\n",
       "        vertical-align: middle;\n",
       "    }\n",
       "\n",
       "    .dataframe tbody tr th {\n",
       "        vertical-align: top;\n",
       "    }\n",
       "\n",
       "    .dataframe thead th {\n",
       "        text-align: right;\n",
       "    }\n",
       "</style>\n",
       "<table border=\"1\" class=\"dataframe\">\n",
       "  <thead>\n",
       "    <tr style=\"text-align: right;\">\n",
       "      <th></th>\n",
       "      <th></th>\n",
       "      <th>sum_mb_used</th>\n",
       "    </tr>\n",
       "    <tr>\n",
       "      <th>user_id</th>\n",
       "      <th>month</th>\n",
       "      <th></th>\n",
       "    </tr>\n",
       "  </thead>\n",
       "  <tbody>\n",
       "    <tr>\n",
       "      <th rowspan=\"5\" valign=\"top\">1000</th>\n",
       "      <th>5</th>\n",
       "      <td>2252</td>\n",
       "    </tr>\n",
       "    <tr>\n",
       "      <th>6</th>\n",
       "      <td>23213</td>\n",
       "    </tr>\n",
       "    <tr>\n",
       "      <th>7</th>\n",
       "      <td>13988</td>\n",
       "    </tr>\n",
       "    <tr>\n",
       "      <th>8</th>\n",
       "      <td>14043</td>\n",
       "    </tr>\n",
       "    <tr>\n",
       "      <th>9</th>\n",
       "      <td>14556</td>\n",
       "    </tr>\n",
       "    <tr>\n",
       "      <th>...</th>\n",
       "      <th>...</th>\n",
       "      <td>...</td>\n",
       "    </tr>\n",
       "    <tr>\n",
       "      <th>1498</th>\n",
       "      <th>10</th>\n",
       "      <td>20555</td>\n",
       "    </tr>\n",
       "    <tr>\n",
       "      <th rowspan=\"4\" valign=\"top\">1499</th>\n",
       "      <th>9</th>\n",
       "      <td>1844</td>\n",
       "    </tr>\n",
       "    <tr>\n",
       "      <th>10</th>\n",
       "      <td>17766</td>\n",
       "    </tr>\n",
       "    <tr>\n",
       "      <th>11</th>\n",
       "      <td>17945</td>\n",
       "    </tr>\n",
       "    <tr>\n",
       "      <th>12</th>\n",
       "      <td>13037</td>\n",
       "    </tr>\n",
       "  </tbody>\n",
       "</table>\n",
       "<p>3203 rows × 1 columns</p>\n",
       "</div>"
      ],
      "text/plain": [
       "               sum_mb_used\n",
       "user_id month             \n",
       "1000    5             2252\n",
       "        6            23213\n",
       "        7            13988\n",
       "        8            14043\n",
       "        9            14556\n",
       "...                    ...\n",
       "1498    10           20555\n",
       "1499    9             1844\n",
       "        10           17766\n",
       "        11           17945\n",
       "        12           13037\n",
       "\n",
       "[3203 rows x 1 columns]"
      ]
     },
     "execution_count": 34,
     "metadata": {},
     "output_type": "execute_result"
    }
   ],
   "source": [
    "internet_pivot"
   ]
  },
  {
   "cell_type": "markdown",
   "metadata": {},
   "source": [
    "Объединим таблицу data_users c полученными сводными таблицами, используя метод merge:"
   ]
  },
  {
   "cell_type": "code",
   "execution_count": 35,
   "metadata": {},
   "outputs": [],
   "source": [
    "data_merge = (\n",
    "    data_users.merge(call_pivot.reset_index(), on='user_id', how='right')\n",
    "    .merge(messages_pivot.reset_index(), on=['user_id', 'month'], how='outer')\n",
    "    .merge(internet_pivot.reset_index(), on=['user_id', 'month'], how='outer')\n",
    ")"
   ]
  },
  {
   "cell_type": "code",
   "execution_count": 36,
   "metadata": {},
   "outputs": [
    {
     "data": {
      "text/html": [
       "<div>\n",
       "<style scoped>\n",
       "    .dataframe tbody tr th:only-of-type {\n",
       "        vertical-align: middle;\n",
       "    }\n",
       "\n",
       "    .dataframe tbody tr th {\n",
       "        vertical-align: top;\n",
       "    }\n",
       "\n",
       "    .dataframe thead th {\n",
       "        text-align: right;\n",
       "    }\n",
       "</style>\n",
       "<table border=\"1\" class=\"dataframe\">\n",
       "  <thead>\n",
       "    <tr style=\"text-align: right;\">\n",
       "      <th></th>\n",
       "      <th>user_id</th>\n",
       "      <th>age</th>\n",
       "      <th>churn_date</th>\n",
       "      <th>city</th>\n",
       "      <th>first_name</th>\n",
       "      <th>last_name</th>\n",
       "      <th>reg_date</th>\n",
       "      <th>tariff</th>\n",
       "      <th>month</th>\n",
       "      <th>minutes_calls</th>\n",
       "      <th>count_calls</th>\n",
       "      <th>messages_count</th>\n",
       "      <th>sum_mb_used</th>\n",
       "    </tr>\n",
       "  </thead>\n",
       "  <tbody>\n",
       "    <tr>\n",
       "      <th>3208</th>\n",
       "      <td>1489</td>\n",
       "      <td>NaN</td>\n",
       "      <td>NaN</td>\n",
       "      <td>NaN</td>\n",
       "      <td>NaN</td>\n",
       "      <td>NaN</td>\n",
       "      <td>NaT</td>\n",
       "      <td>NaN</td>\n",
       "      <td>8</td>\n",
       "      <td>NaN</td>\n",
       "      <td>NaN</td>\n",
       "      <td>17.0</td>\n",
       "      <td>11038.0</td>\n",
       "    </tr>\n",
       "    <tr>\n",
       "      <th>3209</th>\n",
       "      <td>1489</td>\n",
       "      <td>NaN</td>\n",
       "      <td>NaN</td>\n",
       "      <td>NaN</td>\n",
       "      <td>NaN</td>\n",
       "      <td>NaN</td>\n",
       "      <td>NaT</td>\n",
       "      <td>NaN</td>\n",
       "      <td>9</td>\n",
       "      <td>NaN</td>\n",
       "      <td>NaN</td>\n",
       "      <td>32.0</td>\n",
       "      <td>17183.0</td>\n",
       "    </tr>\n",
       "    <tr>\n",
       "      <th>3210</th>\n",
       "      <td>1489</td>\n",
       "      <td>NaN</td>\n",
       "      <td>NaN</td>\n",
       "      <td>NaN</td>\n",
       "      <td>NaN</td>\n",
       "      <td>NaN</td>\n",
       "      <td>NaT</td>\n",
       "      <td>NaN</td>\n",
       "      <td>10</td>\n",
       "      <td>NaN</td>\n",
       "      <td>NaN</td>\n",
       "      <td>21.0</td>\n",
       "      <td>19538.0</td>\n",
       "    </tr>\n",
       "    <tr>\n",
       "      <th>3211</th>\n",
       "      <td>1489</td>\n",
       "      <td>NaN</td>\n",
       "      <td>NaN</td>\n",
       "      <td>NaN</td>\n",
       "      <td>NaN</td>\n",
       "      <td>NaN</td>\n",
       "      <td>NaT</td>\n",
       "      <td>NaN</td>\n",
       "      <td>11</td>\n",
       "      <td>NaN</td>\n",
       "      <td>NaN</td>\n",
       "      <td>20.0</td>\n",
       "      <td>17471.0</td>\n",
       "    </tr>\n",
       "    <tr>\n",
       "      <th>3212</th>\n",
       "      <td>1489</td>\n",
       "      <td>NaN</td>\n",
       "      <td>NaN</td>\n",
       "      <td>NaN</td>\n",
       "      <td>NaN</td>\n",
       "      <td>NaN</td>\n",
       "      <td>NaT</td>\n",
       "      <td>NaN</td>\n",
       "      <td>12</td>\n",
       "      <td>NaN</td>\n",
       "      <td>NaN</td>\n",
       "      <td>35.0</td>\n",
       "      <td>17298.0</td>\n",
       "    </tr>\n",
       "  </tbody>\n",
       "</table>\n",
       "</div>"
      ],
      "text/plain": [
       "      user_id  age churn_date city first_name last_name reg_date tariff  \\\n",
       "3208     1489  NaN        NaN  NaN        NaN       NaN      NaT    NaN   \n",
       "3209     1489  NaN        NaN  NaN        NaN       NaN      NaT    NaN   \n",
       "3210     1489  NaN        NaN  NaN        NaN       NaN      NaT    NaN   \n",
       "3211     1489  NaN        NaN  NaN        NaN       NaN      NaT    NaN   \n",
       "3212     1489  NaN        NaN  NaN        NaN       NaN      NaT    NaN   \n",
       "\n",
       "      month  minutes_calls  count_calls  messages_count  sum_mb_used  \n",
       "3208      8            NaN          NaN            17.0      11038.0  \n",
       "3209      9            NaN          NaN            32.0      17183.0  \n",
       "3210     10            NaN          NaN            21.0      19538.0  \n",
       "3211     11            NaN          NaN            20.0      17471.0  \n",
       "3212     12            NaN          NaN            35.0      17298.0  "
      ]
     },
     "metadata": {},
     "output_type": "display_data"
    },
    {
     "data": {
      "text/html": [
       "<div>\n",
       "<style scoped>\n",
       "    .dataframe tbody tr th:only-of-type {\n",
       "        vertical-align: middle;\n",
       "    }\n",
       "\n",
       "    .dataframe tbody tr th {\n",
       "        vertical-align: top;\n",
       "    }\n",
       "\n",
       "    .dataframe thead th {\n",
       "        text-align: right;\n",
       "    }\n",
       "</style>\n",
       "<table border=\"1\" class=\"dataframe\">\n",
       "  <thead>\n",
       "    <tr style=\"text-align: right;\">\n",
       "      <th></th>\n",
       "      <th>user_id</th>\n",
       "      <th>month</th>\n",
       "      <th>sum_mb_used</th>\n",
       "    </tr>\n",
       "  </thead>\n",
       "  <tbody>\n",
       "    <tr>\n",
       "      <th>3138</th>\n",
       "      <td>1489</td>\n",
       "      <td>8</td>\n",
       "      <td>11038</td>\n",
       "    </tr>\n",
       "    <tr>\n",
       "      <th>3139</th>\n",
       "      <td>1489</td>\n",
       "      <td>9</td>\n",
       "      <td>17183</td>\n",
       "    </tr>\n",
       "    <tr>\n",
       "      <th>3140</th>\n",
       "      <td>1489</td>\n",
       "      <td>10</td>\n",
       "      <td>19538</td>\n",
       "    </tr>\n",
       "    <tr>\n",
       "      <th>3141</th>\n",
       "      <td>1489</td>\n",
       "      <td>11</td>\n",
       "      <td>17471</td>\n",
       "    </tr>\n",
       "    <tr>\n",
       "      <th>3142</th>\n",
       "      <td>1489</td>\n",
       "      <td>12</td>\n",
       "      <td>17298</td>\n",
       "    </tr>\n",
       "  </tbody>\n",
       "</table>\n",
       "</div>"
      ],
      "text/plain": [
       "      user_id  month  sum_mb_used\n",
       "3138     1489      8        11038\n",
       "3139     1489      9        17183\n",
       "3140     1489     10        19538\n",
       "3141     1489     11        17471\n",
       "3142     1489     12        17298"
      ]
     },
     "metadata": {},
     "output_type": "display_data"
    }
   ],
   "source": [
    "#### КОД РЕВЬЮЕРА\n",
    "display(data_merge[data_merge['user_id']==1489])\n",
    "display(internet_pivot.reset_index()[internet_pivot.reset_index()['user_id']==1489])"
   ]
  },
  {
   "cell_type": "code",
   "execution_count": 37,
   "metadata": {},
   "outputs": [
    {
     "data": {
      "text/html": [
       "<div>\n",
       "<style scoped>\n",
       "    .dataframe tbody tr th:only-of-type {\n",
       "        vertical-align: middle;\n",
       "    }\n",
       "\n",
       "    .dataframe tbody tr th {\n",
       "        vertical-align: top;\n",
       "    }\n",
       "\n",
       "    .dataframe thead th {\n",
       "        text-align: right;\n",
       "    }\n",
       "</style>\n",
       "<table border=\"1\" class=\"dataframe\">\n",
       "  <thead>\n",
       "    <tr style=\"text-align: right;\">\n",
       "      <th></th>\n",
       "      <th>user_id</th>\n",
       "      <th>age</th>\n",
       "      <th>churn_date</th>\n",
       "      <th>city</th>\n",
       "      <th>first_name</th>\n",
       "      <th>last_name</th>\n",
       "      <th>reg_date</th>\n",
       "      <th>tariff</th>\n",
       "      <th>month</th>\n",
       "      <th>minutes_calls</th>\n",
       "      <th>count_calls</th>\n",
       "      <th>messages_count</th>\n",
       "      <th>sum_mb_used</th>\n",
       "    </tr>\n",
       "  </thead>\n",
       "  <tbody>\n",
       "    <tr>\n",
       "      <th>0</th>\n",
       "      <td>1000</td>\n",
       "      <td>52.0</td>\n",
       "      <td>0</td>\n",
       "      <td>Краснодар</td>\n",
       "      <td>Рафаил</td>\n",
       "      <td>Верещагин</td>\n",
       "      <td>2018-05-25</td>\n",
       "      <td>ultra</td>\n",
       "      <td>5</td>\n",
       "      <td>159.0</td>\n",
       "      <td>22.0</td>\n",
       "      <td>22.0</td>\n",
       "      <td>2252.0</td>\n",
       "    </tr>\n",
       "    <tr>\n",
       "      <th>1</th>\n",
       "      <td>1000</td>\n",
       "      <td>52.0</td>\n",
       "      <td>0</td>\n",
       "      <td>Краснодар</td>\n",
       "      <td>Рафаил</td>\n",
       "      <td>Верещагин</td>\n",
       "      <td>2018-05-25</td>\n",
       "      <td>ultra</td>\n",
       "      <td>6</td>\n",
       "      <td>172.0</td>\n",
       "      <td>43.0</td>\n",
       "      <td>60.0</td>\n",
       "      <td>23213.0</td>\n",
       "    </tr>\n",
       "    <tr>\n",
       "      <th>2</th>\n",
       "      <td>1000</td>\n",
       "      <td>52.0</td>\n",
       "      <td>0</td>\n",
       "      <td>Краснодар</td>\n",
       "      <td>Рафаил</td>\n",
       "      <td>Верещагин</td>\n",
       "      <td>2018-05-25</td>\n",
       "      <td>ultra</td>\n",
       "      <td>7</td>\n",
       "      <td>340.0</td>\n",
       "      <td>47.0</td>\n",
       "      <td>75.0</td>\n",
       "      <td>13988.0</td>\n",
       "    </tr>\n",
       "    <tr>\n",
       "      <th>3</th>\n",
       "      <td>1000</td>\n",
       "      <td>52.0</td>\n",
       "      <td>0</td>\n",
       "      <td>Краснодар</td>\n",
       "      <td>Рафаил</td>\n",
       "      <td>Верещагин</td>\n",
       "      <td>2018-05-25</td>\n",
       "      <td>ultra</td>\n",
       "      <td>8</td>\n",
       "      <td>408.0</td>\n",
       "      <td>52.0</td>\n",
       "      <td>81.0</td>\n",
       "      <td>14043.0</td>\n",
       "    </tr>\n",
       "    <tr>\n",
       "      <th>4</th>\n",
       "      <td>1000</td>\n",
       "      <td>52.0</td>\n",
       "      <td>0</td>\n",
       "      <td>Краснодар</td>\n",
       "      <td>Рафаил</td>\n",
       "      <td>Верещагин</td>\n",
       "      <td>2018-05-25</td>\n",
       "      <td>ultra</td>\n",
       "      <td>9</td>\n",
       "      <td>466.0</td>\n",
       "      <td>58.0</td>\n",
       "      <td>57.0</td>\n",
       "      <td>14556.0</td>\n",
       "    </tr>\n",
       "  </tbody>\n",
       "</table>\n",
       "</div>"
      ],
      "text/plain": [
       "   user_id   age churn_date       city first_name  last_name   reg_date  \\\n",
       "0     1000  52.0          0  Краснодар     Рафаил  Верещагин 2018-05-25   \n",
       "1     1000  52.0          0  Краснодар     Рафаил  Верещагин 2018-05-25   \n",
       "2     1000  52.0          0  Краснодар     Рафаил  Верещагин 2018-05-25   \n",
       "3     1000  52.0          0  Краснодар     Рафаил  Верещагин 2018-05-25   \n",
       "4     1000  52.0          0  Краснодар     Рафаил  Верещагин 2018-05-25   \n",
       "\n",
       "  tariff  month  minutes_calls  count_calls  messages_count  sum_mb_used  \n",
       "0  ultra      5          159.0         22.0            22.0       2252.0  \n",
       "1  ultra      6          172.0         43.0            60.0      23213.0  \n",
       "2  ultra      7          340.0         47.0            75.0      13988.0  \n",
       "3  ultra      8          408.0         52.0            81.0      14043.0  \n",
       "4  ultra      9          466.0         58.0            57.0      14556.0  "
      ]
     },
     "execution_count": 37,
     "metadata": {},
     "output_type": "execute_result"
    }
   ],
   "source": [
    "data_merge.head() #проверим результат"
   ]
  },
  {
   "cell_type": "code",
   "execution_count": 38,
   "metadata": {},
   "outputs": [
    {
     "name": "stdout",
     "output_type": "stream",
     "text": [
      "<class 'pandas.core.frame.DataFrame'>\n",
      "Int64Index: 3214 entries, 0 to 3213\n",
      "Data columns (total 13 columns):\n",
      " #   Column          Non-Null Count  Dtype         \n",
      "---  ------          --------------  -----         \n",
      " 0   user_id         3214 non-null   int64         \n",
      " 1   age             3174 non-null   float64       \n",
      " 2   churn_date      3174 non-null   object        \n",
      " 3   city            3174 non-null   object        \n",
      " 4   first_name      3174 non-null   object        \n",
      " 5   last_name       3174 non-null   object        \n",
      " 6   reg_date        3174 non-null   datetime64[ns]\n",
      " 7   tariff          3174 non-null   object        \n",
      " 8   month           3214 non-null   int64         \n",
      " 9   minutes_calls   3174 non-null   float64       \n",
      " 10  count_calls     3174 non-null   float64       \n",
      " 11  messages_count  2717 non-null   float64       \n",
      " 12  sum_mb_used     3203 non-null   float64       \n",
      "dtypes: datetime64[ns](1), float64(5), int64(2), object(5)\n",
      "memory usage: 351.5+ KB\n"
     ]
    }
   ],
   "source": [
    "data_merge.info()"
   ]
  },
  {
   "cell_type": "markdown",
   "metadata": {},
   "source": [
    "После объединения data_users со сводными таблицами появились пропуски. Заменим их на 0 "
   ]
  },
  {
   "cell_type": "code",
   "execution_count": 39,
   "metadata": {},
   "outputs": [],
   "source": [
    "data_merge = data_merge.fillna(0) #замена NaN на 0"
   ]
  },
  {
   "cell_type": "markdown",
   "metadata": {},
   "source": [
    "Посчитаем для каждого пользователя помесячную выручку: "
   ]
  },
  {
   "cell_type": "code",
   "execution_count": 40,
   "metadata": {},
   "outputs": [],
   "source": [
    "def get_revenue(row):\n",
    "    \n",
    "    calls = row['minutes_calls']\n",
    "    messages = row['messages_count']\n",
    "    internet = row['sum_mb_used']\n",
    "    tariff = row['tariff']\n",
    "    \n",
    "    \n",
    "    if tariff == 'smart':\n",
    "        i=0\n",
    "    else:\n",
    "        i=1\n",
    "        \n",
    "    overrun_call = data_tariffs['minutes_included'][i] - calls\n",
    "    if overrun_call < 0:\n",
    "        call_revenue = -overrun_call * data_tariffs['rub_per_minute'][i]\n",
    "    else:\n",
    "        call_revenue = 0\n",
    "         \n",
    "    overrun_internet = data_tariffs['mb_per_month_included'][i] - internet\n",
    "    if overrun_internet < 0:\n",
    "        internet_revenue = np.ceil((-overrun_internet / 1024)) * data_tariffs['rub_per_gb'][i]\n",
    "    else:\n",
    "        internet_revenue = 0\n",
    "            \n",
    "    overrun_messages = data_tariffs['messages_included'][i] - messages\n",
    "    if overrun_messages < 0:\n",
    "        messages_revenue = -overrun_messages * data_tariffs['rub_per_message'][i]\n",
    "    else:\n",
    "        messages_revenue = 0\n",
    "            \n",
    "    revenue = call_revenue + internet_revenue + messages_revenue + data_tariffs['rub_monthly_fee'][i]\n",
    "    return revenue     "
   ]
  },
  {
   "cell_type": "code",
   "execution_count": 41,
   "metadata": {},
   "outputs": [],
   "source": [
    "data_merge['revenue'] = data_merge.apply(get_revenue,axis=1) # добавим новый столбец в таблицу"
   ]
  },
  {
   "cell_type": "code",
   "execution_count": 42,
   "metadata": {
    "scrolled": true
   },
   "outputs": [
    {
     "data": {
      "text/html": [
       "<div>\n",
       "<style scoped>\n",
       "    .dataframe tbody tr th:only-of-type {\n",
       "        vertical-align: middle;\n",
       "    }\n",
       "\n",
       "    .dataframe tbody tr th {\n",
       "        vertical-align: top;\n",
       "    }\n",
       "\n",
       "    .dataframe thead th {\n",
       "        text-align: right;\n",
       "    }\n",
       "</style>\n",
       "<table border=\"1\" class=\"dataframe\">\n",
       "  <thead>\n",
       "    <tr style=\"text-align: right;\">\n",
       "      <th></th>\n",
       "      <th>user_id</th>\n",
       "      <th>age</th>\n",
       "      <th>churn_date</th>\n",
       "      <th>city</th>\n",
       "      <th>first_name</th>\n",
       "      <th>last_name</th>\n",
       "      <th>reg_date</th>\n",
       "      <th>tariff</th>\n",
       "      <th>month</th>\n",
       "      <th>minutes_calls</th>\n",
       "      <th>count_calls</th>\n",
       "      <th>messages_count</th>\n",
       "      <th>sum_mb_used</th>\n",
       "      <th>revenue</th>\n",
       "    </tr>\n",
       "  </thead>\n",
       "  <tbody>\n",
       "    <tr>\n",
       "      <th>0</th>\n",
       "      <td>1000</td>\n",
       "      <td>52.0</td>\n",
       "      <td>0</td>\n",
       "      <td>Краснодар</td>\n",
       "      <td>Рафаил</td>\n",
       "      <td>Верещагин</td>\n",
       "      <td>2018-05-25 00:00:00</td>\n",
       "      <td>ultra</td>\n",
       "      <td>5</td>\n",
       "      <td>159.0</td>\n",
       "      <td>22.0</td>\n",
       "      <td>22.0</td>\n",
       "      <td>2252.0</td>\n",
       "      <td>1950.0</td>\n",
       "    </tr>\n",
       "    <tr>\n",
       "      <th>1</th>\n",
       "      <td>1000</td>\n",
       "      <td>52.0</td>\n",
       "      <td>0</td>\n",
       "      <td>Краснодар</td>\n",
       "      <td>Рафаил</td>\n",
       "      <td>Верещагин</td>\n",
       "      <td>2018-05-25 00:00:00</td>\n",
       "      <td>ultra</td>\n",
       "      <td>6</td>\n",
       "      <td>172.0</td>\n",
       "      <td>43.0</td>\n",
       "      <td>60.0</td>\n",
       "      <td>23213.0</td>\n",
       "      <td>1950.0</td>\n",
       "    </tr>\n",
       "    <tr>\n",
       "      <th>2</th>\n",
       "      <td>1000</td>\n",
       "      <td>52.0</td>\n",
       "      <td>0</td>\n",
       "      <td>Краснодар</td>\n",
       "      <td>Рафаил</td>\n",
       "      <td>Верещагин</td>\n",
       "      <td>2018-05-25 00:00:00</td>\n",
       "      <td>ultra</td>\n",
       "      <td>7</td>\n",
       "      <td>340.0</td>\n",
       "      <td>47.0</td>\n",
       "      <td>75.0</td>\n",
       "      <td>13988.0</td>\n",
       "      <td>1950.0</td>\n",
       "    </tr>\n",
       "    <tr>\n",
       "      <th>3</th>\n",
       "      <td>1000</td>\n",
       "      <td>52.0</td>\n",
       "      <td>0</td>\n",
       "      <td>Краснодар</td>\n",
       "      <td>Рафаил</td>\n",
       "      <td>Верещагин</td>\n",
       "      <td>2018-05-25 00:00:00</td>\n",
       "      <td>ultra</td>\n",
       "      <td>8</td>\n",
       "      <td>408.0</td>\n",
       "      <td>52.0</td>\n",
       "      <td>81.0</td>\n",
       "      <td>14043.0</td>\n",
       "      <td>1950.0</td>\n",
       "    </tr>\n",
       "    <tr>\n",
       "      <th>4</th>\n",
       "      <td>1000</td>\n",
       "      <td>52.0</td>\n",
       "      <td>0</td>\n",
       "      <td>Краснодар</td>\n",
       "      <td>Рафаил</td>\n",
       "      <td>Верещагин</td>\n",
       "      <td>2018-05-25 00:00:00</td>\n",
       "      <td>ultra</td>\n",
       "      <td>9</td>\n",
       "      <td>466.0</td>\n",
       "      <td>58.0</td>\n",
       "      <td>57.0</td>\n",
       "      <td>14556.0</td>\n",
       "      <td>1950.0</td>\n",
       "    </tr>\n",
       "  </tbody>\n",
       "</table>\n",
       "</div>"
      ],
      "text/plain": [
       "   user_id   age churn_date       city first_name  last_name  \\\n",
       "0     1000  52.0          0  Краснодар     Рафаил  Верещагин   \n",
       "1     1000  52.0          0  Краснодар     Рафаил  Верещагин   \n",
       "2     1000  52.0          0  Краснодар     Рафаил  Верещагин   \n",
       "3     1000  52.0          0  Краснодар     Рафаил  Верещагин   \n",
       "4     1000  52.0          0  Краснодар     Рафаил  Верещагин   \n",
       "\n",
       "              reg_date tariff  month  minutes_calls  count_calls  \\\n",
       "0  2018-05-25 00:00:00  ultra      5          159.0         22.0   \n",
       "1  2018-05-25 00:00:00  ultra      6          172.0         43.0   \n",
       "2  2018-05-25 00:00:00  ultra      7          340.0         47.0   \n",
       "3  2018-05-25 00:00:00  ultra      8          408.0         52.0   \n",
       "4  2018-05-25 00:00:00  ultra      9          466.0         58.0   \n",
       "\n",
       "   messages_count  sum_mb_used  revenue  \n",
       "0            22.0       2252.0   1950.0  \n",
       "1            60.0      23213.0   1950.0  \n",
       "2            75.0      13988.0   1950.0  \n",
       "3            81.0      14043.0   1950.0  \n",
       "4            57.0      14556.0   1950.0  "
      ]
     },
     "execution_count": 42,
     "metadata": {},
     "output_type": "execute_result"
    }
   ],
   "source": [
    "data_merge.head() #проверим результат"
   ]
  },
  {
   "cell_type": "markdown",
   "metadata": {},
   "source": [
    "### 3. Анализ данных"
   ]
  },
  {
   "cell_type": "markdown",
   "metadata": {},
   "source": [
    "Посчитаем среднее количество, дисперсию и стандартное отклонение минут разговора, количества сообщений и объём интернет-трафика в месяц для тарифа \"Ультра\""
   ]
  },
  {
   "cell_type": "code",
   "execution_count": 43,
   "metadata": {},
   "outputs": [],
   "source": [
    "tariff_ultra = (  \n",
    "    data_merge.query('tariff == \"ultra\"')\n",
    "    .pivot_table(index='month', values=['minutes_calls', 'messages_count', 'sum_mb_used'], aggfunc=['mean', 'var', 'std'])\n",
    ") # сводная таблица для среднего количества, дисперсии и стандартного отклонения для тарифа \"Ультра\"     "
   ]
  },
  {
   "cell_type": "code",
   "execution_count": 44,
   "metadata": {},
   "outputs": [],
   "source": [
    "tariff_ultra.columns = ['Среднее количество сообщений',        #переименование столбцов\n",
    "                      'Среднее количество минут разговора',\n",
    "                      'Среднее количество Мб', \n",
    "                      'Дисперсия (сообщения)',\n",
    "                      'Дисперсия (звонки)',\n",
    "                      'Дисперсия (интернет)',\n",
    "                      'Стандартное отклонение (сообщения)',\n",
    "                      'Стандартное отклонение (звонки)',\n",
    "                      'Стандартное отклонение (интернет)',]                                       "
   ]
  },
  {
   "cell_type": "code",
   "execution_count": 45,
   "metadata": {},
   "outputs": [
    {
     "data": {
      "text/html": [
       "<div>\n",
       "<style scoped>\n",
       "    .dataframe tbody tr th:only-of-type {\n",
       "        vertical-align: middle;\n",
       "    }\n",
       "\n",
       "    .dataframe tbody tr th {\n",
       "        vertical-align: top;\n",
       "    }\n",
       "\n",
       "    .dataframe thead th {\n",
       "        text-align: right;\n",
       "    }\n",
       "</style>\n",
       "<table border=\"1\" class=\"dataframe\">\n",
       "  <thead>\n",
       "    <tr style=\"text-align: right;\">\n",
       "      <th></th>\n",
       "      <th>Среднее количество сообщений</th>\n",
       "      <th>Среднее количество минут разговора</th>\n",
       "      <th>Среднее количество Мб</th>\n",
       "      <th>Дисперсия (сообщения)</th>\n",
       "      <th>Дисперсия (звонки)</th>\n",
       "      <th>Дисперсия (интернет)</th>\n",
       "      <th>Стандартное отклонение (сообщения)</th>\n",
       "      <th>Стандартное отклонение (звонки)</th>\n",
       "      <th>Стандартное отклонение (интернет)</th>\n",
       "    </tr>\n",
       "    <tr>\n",
       "      <th>month</th>\n",
       "      <th></th>\n",
       "      <th></th>\n",
       "      <th></th>\n",
       "      <th></th>\n",
       "      <th></th>\n",
       "      <th></th>\n",
       "      <th></th>\n",
       "      <th></th>\n",
       "      <th></th>\n",
       "    </tr>\n",
       "  </thead>\n",
       "  <tbody>\n",
       "    <tr>\n",
       "      <th>1</th>\n",
       "      <td>33.777778</td>\n",
       "      <td>428.111111</td>\n",
       "      <td>13127.333333</td>\n",
       "      <td>940.694444</td>\n",
       "      <td>72769.361111</td>\n",
       "      <td>4.703700e+07</td>\n",
       "      <td>30.670742</td>\n",
       "      <td>269.757968</td>\n",
       "      <td>6858.352809</td>\n",
       "    </tr>\n",
       "    <tr>\n",
       "      <th>2</th>\n",
       "      <td>21.958333</td>\n",
       "      <td>297.125000</td>\n",
       "      <td>11764.416667</td>\n",
       "      <td>716.824275</td>\n",
       "      <td>87919.679348</td>\n",
       "      <td>1.130994e+08</td>\n",
       "      <td>26.773574</td>\n",
       "      <td>296.512528</td>\n",
       "      <td>10634.817821</td>\n",
       "    </tr>\n",
       "    <tr>\n",
       "      <th>3</th>\n",
       "      <td>32.297297</td>\n",
       "      <td>489.648649</td>\n",
       "      <td>17519.540541</td>\n",
       "      <td>1732.381381</td>\n",
       "      <td>111384.900901</td>\n",
       "      <td>1.197215e+08</td>\n",
       "      <td>41.621886</td>\n",
       "      <td>333.743765</td>\n",
       "      <td>10941.731946</td>\n",
       "    </tr>\n",
       "    <tr>\n",
       "      <th>4</th>\n",
       "      <td>32.584906</td>\n",
       "      <td>475.301887</td>\n",
       "      <td>17381.754717</td>\n",
       "      <td>1431.401306</td>\n",
       "      <td>66036.830189</td>\n",
       "      <td>8.876294e+07</td>\n",
       "      <td>37.833865</td>\n",
       "      <td>256.976322</td>\n",
       "      <td>9421.408603</td>\n",
       "    </tr>\n",
       "    <tr>\n",
       "      <th>5</th>\n",
       "      <td>37.859375</td>\n",
       "      <td>534.250000</td>\n",
       "      <td>19656.484375</td>\n",
       "      <td>1694.821181</td>\n",
       "      <td>74881.015873</td>\n",
       "      <td>1.029863e+08</td>\n",
       "      <td>41.168206</td>\n",
       "      <td>273.643958</td>\n",
       "      <td>10148.218594</td>\n",
       "    </tr>\n",
       "    <tr>\n",
       "      <th>6</th>\n",
       "      <td>40.049383</td>\n",
       "      <td>497.469136</td>\n",
       "      <td>18891.074074</td>\n",
       "      <td>1737.397531</td>\n",
       "      <td>86019.652160</td>\n",
       "      <td>8.748296e+07</td>\n",
       "      <td>41.682101</td>\n",
       "      <td>293.291071</td>\n",
       "      <td>9353.232609</td>\n",
       "    </tr>\n",
       "    <tr>\n",
       "      <th>7</th>\n",
       "      <td>48.477273</td>\n",
       "      <td>564.397727</td>\n",
       "      <td>20427.829545</td>\n",
       "      <td>2143.217868</td>\n",
       "      <td>86952.587121</td>\n",
       "      <td>1.038129e+08</td>\n",
       "      <td>46.294901</td>\n",
       "      <td>294.877241</td>\n",
       "      <td>10188.863356</td>\n",
       "    </tr>\n",
       "    <tr>\n",
       "      <th>8</th>\n",
       "      <td>47.864078</td>\n",
       "      <td>530.611650</td>\n",
       "      <td>19573.718447</td>\n",
       "      <td>2068.824481</td>\n",
       "      <td>91169.553588</td>\n",
       "      <td>1.114204e+08</td>\n",
       "      <td>45.484332</td>\n",
       "      <td>301.942964</td>\n",
       "      <td>10555.587913</td>\n",
       "    </tr>\n",
       "    <tr>\n",
       "      <th>9</th>\n",
       "      <td>51.810811</td>\n",
       "      <td>558.882883</td>\n",
       "      <td>19076.576577</td>\n",
       "      <td>2041.863882</td>\n",
       "      <td>98597.904341</td>\n",
       "      <td>9.113643e+07</td>\n",
       "      <td>45.186988</td>\n",
       "      <td>314.003032</td>\n",
       "      <td>9546.540145</td>\n",
       "    </tr>\n",
       "    <tr>\n",
       "      <th>10</th>\n",
       "      <td>58.466102</td>\n",
       "      <td>581.728814</td>\n",
       "      <td>20055.652542</td>\n",
       "      <td>2632.097132</td>\n",
       "      <td>97140.336086</td>\n",
       "      <td>9.812396e+07</td>\n",
       "      <td>51.303968</td>\n",
       "      <td>311.673445</td>\n",
       "      <td>9905.753782</td>\n",
       "    </tr>\n",
       "    <tr>\n",
       "      <th>11</th>\n",
       "      <td>56.000000</td>\n",
       "      <td>562.364341</td>\n",
       "      <td>19622.426357</td>\n",
       "      <td>2423.203125</td>\n",
       "      <td>88449.624031</td>\n",
       "      <td>9.886968e+07</td>\n",
       "      <td>49.226041</td>\n",
       "      <td>297.404815</td>\n",
       "      <td>9943.323178</td>\n",
       "    </tr>\n",
       "    <tr>\n",
       "      <th>12</th>\n",
       "      <td>60.753731</td>\n",
       "      <td>614.925373</td>\n",
       "      <td>21673.858209</td>\n",
       "      <td>2608.262204</td>\n",
       "      <td>107981.031983</td>\n",
       "      <td>1.076665e+08</td>\n",
       "      <td>51.071148</td>\n",
       "      <td>328.604674</td>\n",
       "      <td>10376.248435</td>\n",
       "    </tr>\n",
       "  </tbody>\n",
       "</table>\n",
       "</div>"
      ],
      "text/plain": [
       "       Среднее количество сообщений  Среднее количество минут разговора  \\\n",
       "month                                                                     \n",
       "1                         33.777778                          428.111111   \n",
       "2                         21.958333                          297.125000   \n",
       "3                         32.297297                          489.648649   \n",
       "4                         32.584906                          475.301887   \n",
       "5                         37.859375                          534.250000   \n",
       "6                         40.049383                          497.469136   \n",
       "7                         48.477273                          564.397727   \n",
       "8                         47.864078                          530.611650   \n",
       "9                         51.810811                          558.882883   \n",
       "10                        58.466102                          581.728814   \n",
       "11                        56.000000                          562.364341   \n",
       "12                        60.753731                          614.925373   \n",
       "\n",
       "       Среднее количество Мб  Дисперсия (сообщения)  Дисперсия (звонки)  \\\n",
       "month                                                                     \n",
       "1               13127.333333             940.694444        72769.361111   \n",
       "2               11764.416667             716.824275        87919.679348   \n",
       "3               17519.540541            1732.381381       111384.900901   \n",
       "4               17381.754717            1431.401306        66036.830189   \n",
       "5               19656.484375            1694.821181        74881.015873   \n",
       "6               18891.074074            1737.397531        86019.652160   \n",
       "7               20427.829545            2143.217868        86952.587121   \n",
       "8               19573.718447            2068.824481        91169.553588   \n",
       "9               19076.576577            2041.863882        98597.904341   \n",
       "10              20055.652542            2632.097132        97140.336086   \n",
       "11              19622.426357            2423.203125        88449.624031   \n",
       "12              21673.858209            2608.262204       107981.031983   \n",
       "\n",
       "       Дисперсия (интернет)  Стандартное отклонение (сообщения)  \\\n",
       "month                                                             \n",
       "1              4.703700e+07                           30.670742   \n",
       "2              1.130994e+08                           26.773574   \n",
       "3              1.197215e+08                           41.621886   \n",
       "4              8.876294e+07                           37.833865   \n",
       "5              1.029863e+08                           41.168206   \n",
       "6              8.748296e+07                           41.682101   \n",
       "7              1.038129e+08                           46.294901   \n",
       "8              1.114204e+08                           45.484332   \n",
       "9              9.113643e+07                           45.186988   \n",
       "10             9.812396e+07                           51.303968   \n",
       "11             9.886968e+07                           49.226041   \n",
       "12             1.076665e+08                           51.071148   \n",
       "\n",
       "       Стандартное отклонение (звонки)  Стандартное отклонение (интернет)  \n",
       "month                                                                      \n",
       "1                           269.757968                        6858.352809  \n",
       "2                           296.512528                       10634.817821  \n",
       "3                           333.743765                       10941.731946  \n",
       "4                           256.976322                        9421.408603  \n",
       "5                           273.643958                       10148.218594  \n",
       "6                           293.291071                        9353.232609  \n",
       "7                           294.877241                       10188.863356  \n",
       "8                           301.942964                       10555.587913  \n",
       "9                           314.003032                        9546.540145  \n",
       "10                          311.673445                        9905.753782  \n",
       "11                          297.404815                        9943.323178  \n",
       "12                          328.604674                       10376.248435  "
      ]
     },
     "execution_count": 45,
     "metadata": {},
     "output_type": "execute_result"
    }
   ],
   "source": [
    "tariff_ultra"
   ]
  },
  {
   "cell_type": "markdown",
   "metadata": {},
   "source": [
    "Посчитаем среднее количество, дисперсию и стандартное отклонение минут разговора, количества сообщений и объём интернет-трафика в месяц для тарифа \"Смарт\""
   ]
  },
  {
   "cell_type": "code",
   "execution_count": 46,
   "metadata": {},
   "outputs": [],
   "source": [
    "tariff_smart = (\n",
    "    data_merge.query('tariff == \"smart\"')\n",
    "    .pivot_table(index='month', values=['minutes_calls', 'messages_count', 'sum_mb_used'], aggfunc=['mean', 'var', 'std'])\n",
    ") # сводная таблица для среднего количества, дисперсии и стандартного отклонения для тарифа \"Смарт\""
   ]
  },
  {
   "cell_type": "code",
   "execution_count": 47,
   "metadata": {},
   "outputs": [],
   "source": [
    "tariff_smart.columns = ['Среднее количество сообщений',      #переименование столбцов\n",
    "                      'Среднее количество минут разговора',\n",
    "                      'Среднее количество Мб', \n",
    "                      'Дисперсия (сообщения)',\n",
    "                      'Дисперсия (звонки)',\n",
    "                      'Дисперсия (интернет)',\n",
    "                      'Стандартное отклонение (сообщения)',\n",
    "                      'Стандартное отклонение (звонки)',\n",
    "                      'Стандартное отклонение (интернет)',]        "
   ]
  },
  {
   "cell_type": "code",
   "execution_count": 48,
   "metadata": {
    "scrolled": false
   },
   "outputs": [
    {
     "data": {
      "text/html": [
       "<div>\n",
       "<style scoped>\n",
       "    .dataframe tbody tr th:only-of-type {\n",
       "        vertical-align: middle;\n",
       "    }\n",
       "\n",
       "    .dataframe tbody tr th {\n",
       "        vertical-align: top;\n",
       "    }\n",
       "\n",
       "    .dataframe thead th {\n",
       "        text-align: right;\n",
       "    }\n",
       "</style>\n",
       "<table border=\"1\" class=\"dataframe\">\n",
       "  <thead>\n",
       "    <tr style=\"text-align: right;\">\n",
       "      <th></th>\n",
       "      <th>Среднее количество сообщений</th>\n",
       "      <th>Среднее количество минут разговора</th>\n",
       "      <th>Среднее количество Мб</th>\n",
       "      <th>Дисперсия (сообщения)</th>\n",
       "      <th>Дисперсия (звонки)</th>\n",
       "      <th>Дисперсия (интернет)</th>\n",
       "      <th>Стандартное отклонение (сообщения)</th>\n",
       "      <th>Стандартное отклонение (звонки)</th>\n",
       "      <th>Стандартное отклонение (интернет)</th>\n",
       "    </tr>\n",
       "    <tr>\n",
       "      <th>month</th>\n",
       "      <th></th>\n",
       "      <th></th>\n",
       "      <th></th>\n",
       "      <th></th>\n",
       "      <th></th>\n",
       "      <th></th>\n",
       "      <th></th>\n",
       "      <th></th>\n",
       "      <th></th>\n",
       "    </tr>\n",
       "  </thead>\n",
       "  <tbody>\n",
       "    <tr>\n",
       "      <th>1</th>\n",
       "      <td>18.235294</td>\n",
       "      <td>203.852941</td>\n",
       "      <td>8503.352941</td>\n",
       "      <td>262.367201</td>\n",
       "      <td>23787.341355</td>\n",
       "      <td>4.143752e+07</td>\n",
       "      <td>16.197753</td>\n",
       "      <td>154.231454</td>\n",
       "      <td>6437.197903</td>\n",
       "    </tr>\n",
       "    <tr>\n",
       "      <th>2</th>\n",
       "      <td>24.086207</td>\n",
       "      <td>298.689655</td>\n",
       "      <td>11582.086207</td>\n",
       "      <td>473.097701</td>\n",
       "      <td>36412.287961</td>\n",
       "      <td>3.893244e+07</td>\n",
       "      <td>21.750809</td>\n",
       "      <td>190.820041</td>\n",
       "      <td>6239.586863</td>\n",
       "    </tr>\n",
       "    <tr>\n",
       "      <th>3</th>\n",
       "      <td>31.857143</td>\n",
       "      <td>390.051948</td>\n",
       "      <td>15084.532468</td>\n",
       "      <td>718.492481</td>\n",
       "      <td>36823.155161</td>\n",
       "      <td>3.388529e+07</td>\n",
       "      <td>26.804710</td>\n",
       "      <td>191.893604</td>\n",
       "      <td>5821.107158</td>\n",
       "    </tr>\n",
       "    <tr>\n",
       "      <th>4</th>\n",
       "      <td>30.741071</td>\n",
       "      <td>367.133929</td>\n",
       "      <td>13444.651786</td>\n",
       "      <td>602.139559</td>\n",
       "      <td>34778.207127</td>\n",
       "      <td>3.238468e+07</td>\n",
       "      <td>24.538532</td>\n",
       "      <td>186.489161</td>\n",
       "      <td>5690.754295</td>\n",
       "    </tr>\n",
       "    <tr>\n",
       "      <th>5</th>\n",
       "      <td>33.773050</td>\n",
       "      <td>387.361702</td>\n",
       "      <td>15784.829787</td>\n",
       "      <td>730.990983</td>\n",
       "      <td>34820.061094</td>\n",
       "      <td>3.565202e+07</td>\n",
       "      <td>27.036845</td>\n",
       "      <td>186.601343</td>\n",
       "      <td>5970.931176</td>\n",
       "    </tr>\n",
       "    <tr>\n",
       "      <th>6</th>\n",
       "      <td>33.312883</td>\n",
       "      <td>398.067485</td>\n",
       "      <td>15794.981595</td>\n",
       "      <td>810.463228</td>\n",
       "      <td>29960.520109</td>\n",
       "      <td>3.360031e+07</td>\n",
       "      <td>28.468636</td>\n",
       "      <td>173.091075</td>\n",
       "      <td>5796.577566</td>\n",
       "    </tr>\n",
       "    <tr>\n",
       "      <th>7</th>\n",
       "      <td>33.751244</td>\n",
       "      <td>408.353234</td>\n",
       "      <td>15722.706468</td>\n",
       "      <td>799.887811</td>\n",
       "      <td>32250.269602</td>\n",
       "      <td>3.469128e+07</td>\n",
       "      <td>28.282288</td>\n",
       "      <td>179.583601</td>\n",
       "      <td>5889.930217</td>\n",
       "    </tr>\n",
       "    <tr>\n",
       "      <th>8</th>\n",
       "      <td>33.709402</td>\n",
       "      <td>423.269231</td>\n",
       "      <td>16613.367521</td>\n",
       "      <td>840.661971</td>\n",
       "      <td>34177.270551</td>\n",
       "      <td>3.121548e+07</td>\n",
       "      <td>28.994171</td>\n",
       "      <td>184.870956</td>\n",
       "      <td>5587.081736</td>\n",
       "    </tr>\n",
       "    <tr>\n",
       "      <th>9</th>\n",
       "      <td>33.644788</td>\n",
       "      <td>430.266409</td>\n",
       "      <td>16279.177606</td>\n",
       "      <td>793.671785</td>\n",
       "      <td>32950.529526</td>\n",
       "      <td>2.703876e+07</td>\n",
       "      <td>28.172181</td>\n",
       "      <td>181.522807</td>\n",
       "      <td>5199.880822</td>\n",
       "    </tr>\n",
       "    <tr>\n",
       "      <th>10</th>\n",
       "      <td>33.808874</td>\n",
       "      <td>427.590444</td>\n",
       "      <td>16726.102389</td>\n",
       "      <td>818.346907</td>\n",
       "      <td>34889.530319</td>\n",
       "      <td>3.434180e+07</td>\n",
       "      <td>28.606763</td>\n",
       "      <td>186.787393</td>\n",
       "      <td>5860.188002</td>\n",
       "    </tr>\n",
       "    <tr>\n",
       "      <th>11</th>\n",
       "      <td>34.120635</td>\n",
       "      <td>436.647619</td>\n",
       "      <td>16872.038095</td>\n",
       "      <td>807.870751</td>\n",
       "      <td>31100.611101</td>\n",
       "      <td>2.853756e+07</td>\n",
       "      <td>28.423067</td>\n",
       "      <td>176.353653</td>\n",
       "      <td>5342.056224</td>\n",
       "    </tr>\n",
       "    <tr>\n",
       "      <th>12</th>\n",
       "      <td>35.997024</td>\n",
       "      <td>479.985119</td>\n",
       "      <td>18092.842262</td>\n",
       "      <td>937.740290</td>\n",
       "      <td>39131.447539</td>\n",
       "      <td>3.108314e+07</td>\n",
       "      <td>30.622545</td>\n",
       "      <td>197.816702</td>\n",
       "      <td>5575.225930</td>\n",
       "    </tr>\n",
       "  </tbody>\n",
       "</table>\n",
       "</div>"
      ],
      "text/plain": [
       "       Среднее количество сообщений  Среднее количество минут разговора  \\\n",
       "month                                                                     \n",
       "1                         18.235294                          203.852941   \n",
       "2                         24.086207                          298.689655   \n",
       "3                         31.857143                          390.051948   \n",
       "4                         30.741071                          367.133929   \n",
       "5                         33.773050                          387.361702   \n",
       "6                         33.312883                          398.067485   \n",
       "7                         33.751244                          408.353234   \n",
       "8                         33.709402                          423.269231   \n",
       "9                         33.644788                          430.266409   \n",
       "10                        33.808874                          427.590444   \n",
       "11                        34.120635                          436.647619   \n",
       "12                        35.997024                          479.985119   \n",
       "\n",
       "       Среднее количество Мб  Дисперсия (сообщения)  Дисперсия (звонки)  \\\n",
       "month                                                                     \n",
       "1                8503.352941             262.367201        23787.341355   \n",
       "2               11582.086207             473.097701        36412.287961   \n",
       "3               15084.532468             718.492481        36823.155161   \n",
       "4               13444.651786             602.139559        34778.207127   \n",
       "5               15784.829787             730.990983        34820.061094   \n",
       "6               15794.981595             810.463228        29960.520109   \n",
       "7               15722.706468             799.887811        32250.269602   \n",
       "8               16613.367521             840.661971        34177.270551   \n",
       "9               16279.177606             793.671785        32950.529526   \n",
       "10              16726.102389             818.346907        34889.530319   \n",
       "11              16872.038095             807.870751        31100.611101   \n",
       "12              18092.842262             937.740290        39131.447539   \n",
       "\n",
       "       Дисперсия (интернет)  Стандартное отклонение (сообщения)  \\\n",
       "month                                                             \n",
       "1              4.143752e+07                           16.197753   \n",
       "2              3.893244e+07                           21.750809   \n",
       "3              3.388529e+07                           26.804710   \n",
       "4              3.238468e+07                           24.538532   \n",
       "5              3.565202e+07                           27.036845   \n",
       "6              3.360031e+07                           28.468636   \n",
       "7              3.469128e+07                           28.282288   \n",
       "8              3.121548e+07                           28.994171   \n",
       "9              2.703876e+07                           28.172181   \n",
       "10             3.434180e+07                           28.606763   \n",
       "11             2.853756e+07                           28.423067   \n",
       "12             3.108314e+07                           30.622545   \n",
       "\n",
       "       Стандартное отклонение (звонки)  Стандартное отклонение (интернет)  \n",
       "month                                                                      \n",
       "1                           154.231454                        6437.197903  \n",
       "2                           190.820041                        6239.586863  \n",
       "3                           191.893604                        5821.107158  \n",
       "4                           186.489161                        5690.754295  \n",
       "5                           186.601343                        5970.931176  \n",
       "6                           173.091075                        5796.577566  \n",
       "7                           179.583601                        5889.930217  \n",
       "8                           184.870956                        5587.081736  \n",
       "9                           181.522807                        5199.880822  \n",
       "10                          186.787393                        5860.188002  \n",
       "11                          176.353653                        5342.056224  \n",
       "12                          197.816702                        5575.225930  "
      ]
     },
     "execution_count": 48,
     "metadata": {},
     "output_type": "execute_result"
    }
   ],
   "source": [
    "tariff_smart"
   ]
  },
  {
   "cell_type": "markdown",
   "metadata": {},
   "source": [
    "Среднее количество сообщений по месяцам:"
   ]
  },
  {
   "cell_type": "code",
   "execution_count": 49,
   "metadata": {},
   "outputs": [
    {
     "data": {
      "text/plain": [
       "Text(0, 0.5, 'Количество сообщений')"
      ]
     },
     "execution_count": 49,
     "metadata": {},
     "output_type": "execute_result"
    },
    {
     "data": {
      "image/png": "[encoded data removed]",
      "text/plain": [
       "<Figure size 864x576 with 1 Axes>"
      ]
     },
     "metadata": {
      "needs_background": "light"
     },
     "output_type": "display_data"
    }
   ],
   "source": [
    "ax = tariff_ultra.plot(y='Среднее количество сообщений', kind='bar', alpha=0.5, figsize=(12, 8), label='ultra')\n",
    "tariff_smart.plot(y='Среднее количество сообщений', kind='bar', figsize=(12, 8), grid=True, ax=ax, label='smart')\n",
    "plt.title('Среднее количество сообщений по месяцам')\n",
    "plt.xlabel('Месяц')\n",
    "plt.ylabel('Количество сообщений')"
   ]
  },
  {
   "cell_type": "markdown",
   "metadata": {},
   "source": [
    "Среднее количество минут разговора по месяцам:"
   ]
  },
  {
   "cell_type": "code",
   "execution_count": 50,
   "metadata": {},
   "outputs": [
    {
     "data": {
      "text/plain": [
       "Text(0, 0.5, 'Количество минут')"
      ]
     },
     "execution_count": 50,
     "metadata": {},
     "output_type": "execute_result"
    },
    {
     "data": {
      "image/png": "[encoded data removed]",
      "text/plain": [
       "<Figure size 864x576 with 1 Axes>"
      ]
     },
     "metadata": {
      "needs_background": "light"
     },
     "output_type": "display_data"
    }
   ],
   "source": [
    "ax = tariff_ultra.plot(y='Среднее количество минут разговора', kind='bar', alpha=0.5, figsize=(12, 8), label='ultra')\n",
    "tariff_smart.plot(y='Среднее количество минут разговора', kind='bar', figsize=(12, 8), grid=True, ax=ax, label='smart')\n",
    "plt.title('Среднее количество минут разговора по месяцам')\n",
    "plt.xlabel('Месяц')\n",
    "plt.ylabel('Количество минут')"
   ]
  },
  {
   "cell_type": "markdown",
   "metadata": {},
   "source": [
    "Среднее количество мегабайт интернета по месяцам:"
   ]
  },
  {
   "cell_type": "code",
   "execution_count": 51,
   "metadata": {},
   "outputs": [
    {
     "data": {
      "text/plain": [
       "Text(0, 0.5, 'Количество мегабайт')"
      ]
     },
     "execution_count": 51,
     "metadata": {},
     "output_type": "execute_result"
    },
    {
     "data": {
      "image/png": "[encoded data removed]",
      "text/plain": [
       "<Figure size 864x576 with 1 Axes>"
      ]
     },
     "metadata": {
      "needs_background": "light"
     },
     "output_type": "display_data"
    }
   ],
   "source": [
    "ax = tariff_ultra.plot(y='Среднее количество Мб', kind='bar', alpha=0.5, figsize=(12, 8), label='ultra')\n",
    "tariff_smart.plot(y='Среднее количество Мб', kind='bar', figsize=(12, 8), grid=True, ax=ax, label='smart')\n",
    "\n",
    "plt.title('Среднее количество потребления итернета по месяцам')\n",
    "plt.xlabel('Месяц')\n",
    "plt.ylabel('Количество мегабайт')"
   ]
  },
  {
   "cell_type": "markdown",
   "metadata": {},
   "source": [
    "Вывод:\n",
    "\n",
    "Пользователи тарифа Ultra используют (в месяц):\n",
    "- от 21 до 60 сообщений \n",
    "- от 297 до 614 минут разговоров\n",
    "- от 11764 до 21673 мб интренета\n",
    "\n",
    "Пользователи тарифа Smart используют (в месяц):\n",
    "\n",
    "- от 18 до 35 сообщений\n",
    "- от 203 до 479 минут разговора\n",
    "- от 8503 до 18092 мб интернета "
   ]
  },
  {
   "cell_type": "markdown",
   "metadata": {},
   "source": [
    "Построим гистограммы для тарифов \"Смарт\""
   ]
  },
  {
   "cell_type": "code",
   "execution_count": 52,
   "metadata": {},
   "outputs": [
    {
     "data": {
      "text/plain": [
       "count    2223.000000\n",
       "mean      419.062978\n",
       "std       189.325618\n",
       "min         0.000000\n",
       "25%       285.000000\n",
       "50%       423.000000\n",
       "75%       545.500000\n",
       "max      1435.000000\n",
       "Name: minutes_calls, dtype: float64"
      ]
     },
     "execution_count": 52,
     "metadata": {},
     "output_type": "execute_result"
    },
    {
     "data": {
      "image/png": "[encoded data removed]",
      "text/plain": [
       "<Figure size 720x432 with 1 Axes>"
      ]
     },
     "metadata": {
      "needs_background": "light"
     },
     "output_type": "display_data"
    }
   ],
   "source": [
    "data_merge[data_merge['tariff'] == 'smart'].plot(y='minutes_calls', kind='hist', bins=70, figsize=(10, 6), grid=True)\n",
    "plt.title('Распределение звонков')\n",
    "plt.xlabel('Количество минут')\n",
    "\n",
    "data_merge[data_merge['tariff'] == 'smart']['minutes_calls'].describe()"
   ]
  },
  {
   "cell_type": "markdown",
   "metadata": {},
   "source": [
    "Чаще всего пользователи тарифа \"Смарт\" используют от 285 до 545 минут разговоров в месяц, в среднем 419 минут в месяц. "
   ]
  },
  {
   "cell_type": "code",
   "execution_count": 53,
   "metadata": {},
   "outputs": [
    {
     "data": {
      "text/plain": [
       "Text(0.5, 0, 'Количество сообщений')"
      ]
     },
     "execution_count": 53,
     "metadata": {},
     "output_type": "execute_result"
    },
    {
     "data": {
      "image/png": "[encoded data removed]",
      "text/plain": [
       "<Figure size 720x432 with 1 Axes>"
      ]
     },
     "metadata": {
      "needs_background": "light"
     },
     "output_type": "display_data"
    }
   ],
   "source": [
    "data_merge[data_merge['tariff'] == 'smart'].plot(y='messages_count', kind='hist', bins=70, figsize=(10, 6), grid=True)\n",
    "plt.title('Распределение сообщений')\n",
    "plt.xlabel('Количество сообщений')"
   ]
  },
  {
   "cell_type": "markdown",
   "metadata": {},
   "source": [
    "Гистограмма распределения сообщений имеет выбивающееся значение, равное 0. Построим гистограмму, исключая 0"
   ]
  },
  {
   "cell_type": "code",
   "execution_count": 54,
   "metadata": {},
   "outputs": [
    {
     "data": {
      "text/plain": [
       "count    2223.000000\n",
       "mean       33.396311\n",
       "std        28.259437\n",
       "min         0.000000\n",
       "25%        10.000000\n",
       "50%        28.000000\n",
       "75%        51.000000\n",
       "max       143.000000\n",
       "Name: messages_count, dtype: float64"
      ]
     },
     "execution_count": 54,
     "metadata": {},
     "output_type": "execute_result"
    },
    {
     "data": {
      "image/png": "[encoded data removed]",
      "text/plain": [
       "<Figure size 720x432 with 1 Axes>"
      ]
     },
     "metadata": {
      "needs_background": "light"
     },
     "output_type": "display_data"
    }
   ],
   "source": [
    "data_merge[(data_merge['tariff'] == 'smart') & (data_merge['messages_count'] > 0)].plot(y='messages_count', kind='hist', \n",
    "bins=70, figsize=(10, 6), grid=True)\n",
    "plt.title('Распределение сообщений без учета 0')\n",
    "plt.xlabel('Количество сообщений')\n",
    "\n",
    "data_merge[data_merge['tariff'] == 'smart']['messages_count'].describe()"
   ]
  },
  {
   "cell_type": "markdown",
   "metadata": {},
   "source": [
    "Чаще всего пользователи тарифа \"Смарт\" используют от 1 до 51 сообщения в месяц, в среднем 33 сообщения в месяц."
   ]
  },
  {
   "cell_type": "code",
   "execution_count": 55,
   "metadata": {},
   "outputs": [
    {
     "data": {
      "text/plain": [
       "count     2223.000000\n",
       "mean     16188.556905\n",
       "std       5869.202863\n",
       "min          0.000000\n",
       "25%      12628.500000\n",
       "50%      16480.000000\n",
       "75%      20022.500000\n",
       "max      38510.000000\n",
       "Name: sum_mb_used, dtype: float64"
      ]
     },
     "execution_count": 55,
     "metadata": {},
     "output_type": "execute_result"
    },
    {
     "data": {
      "image/png": "[encoded data removed]",
      "text/plain": [
       "<Figure size 720x432 with 1 Axes>"
      ]
     },
     "metadata": {
      "needs_background": "light"
     },
     "output_type": "display_data"
    }
   ],
   "source": [
    "data_merge[data_merge['tariff'] == 'smart'].plot(y='sum_mb_used', kind='hist', bins=70, figsize=(10, 6), grid=True)\n",
    "plt.title('Распределение использования интрнета в мегабайтах')\n",
    "plt.xlabel('Количество мегабайт')\n",
    "\n",
    "data_merge[data_merge['tariff'] == 'smart']['sum_mb_used'].describe()"
   ]
  },
  {
   "cell_type": "markdown",
   "metadata": {},
   "source": [
    "Чаще всего пользователи тарифа \"Смарт\" используют от 12 до 20 Гб интернета в месяц, в среднем 16 Гб в месяц. "
   ]
  },
  {
   "cell_type": "markdown",
   "metadata": {},
   "source": [
    "Построим гистограммы для тарифов \"Ультра\""
   ]
  },
  {
   "cell_type": "code",
   "execution_count": 56,
   "metadata": {},
   "outputs": [
    {
     "data": {
      "text/plain": [
       "count     951.000000\n",
       "mean      545.451104\n",
       "std       306.925754\n",
       "min         0.000000\n",
       "25%       310.000000\n",
       "50%       528.000000\n",
       "75%       756.500000\n",
       "max      1673.000000\n",
       "Name: minutes_calls, dtype: float64"
      ]
     },
     "execution_count": 56,
     "metadata": {},
     "output_type": "execute_result"
    },
    {
     "data": {
      "image/png": "[encoded data removed]",
      "text/plain": [
       "<Figure size 720x432 with 1 Axes>"
      ]
     },
     "metadata": {
      "needs_background": "light"
     },
     "output_type": "display_data"
    }
   ],
   "source": [
    "data_merge[data_merge['tariff'] == 'ultra'].plot(y='minutes_calls', kind='hist', bins=70, figsize=(10, 6), grid=True)\n",
    "plt.title('Распределение звонков')\n",
    "plt.xlabel('Количество минут')\n",
    "\n",
    "data_merge[data_merge['tariff'] == 'ultra']['minutes_calls'].describe()"
   ]
  },
  {
   "cell_type": "markdown",
   "metadata": {},
   "source": [
    "Чаще всего пользователи тарифа \"Ультра\" используют от 310 до 756 минту разговор в месяц, в среднем 545 минут в месяц."
   ]
  },
  {
   "cell_type": "code",
   "execution_count": 57,
   "metadata": {},
   "outputs": [
    {
     "data": {
      "text/plain": [
       "Text(0.5, 0, 'Количество сообщений')"
      ]
     },
     "execution_count": 57,
     "metadata": {},
     "output_type": "execute_result"
    },
    {
     "data": {
      "image/png": "[encoded data removed]",
      "text/plain": [
       "<Figure size 720x432 with 1 Axes>"
      ]
     },
     "metadata": {
      "needs_background": "light"
     },
     "output_type": "display_data"
    }
   ],
   "source": [
    "data_merge[data_merge['tariff'] == 'ultra'].plot(y='messages_count', kind='hist', bins=70, figsize=(10, 6), grid=True)\n",
    "plt.title('Распределение сообщений')\n",
    "plt.xlabel('Количество сообщений')"
   ]
  },
  {
   "cell_type": "markdown",
   "metadata": {},
   "source": [
    "Гистограмма распределения сообщений имеет выбивающееся значение, равное 0. Построим гистограмму, исключая 0"
   ]
  },
  {
   "cell_type": "code",
   "execution_count": 58,
   "metadata": {},
   "outputs": [
    {
     "data": {
      "text/plain": [
       "count    951.000000\n",
       "mean      49.033649\n",
       "std       46.890656\n",
       "min        0.000000\n",
       "25%        5.000000\n",
       "50%       39.000000\n",
       "75%       79.000000\n",
       "max      224.000000\n",
       "Name: messages_count, dtype: float64"
      ]
     },
     "execution_count": 58,
     "metadata": {},
     "output_type": "execute_result"
    },
    {
     "data": {
      "image/png": "[encoded data removed]",
      "text/plain": [
       "<Figure size 720x432 with 1 Axes>"
      ]
     },
     "metadata": {
      "needs_background": "light"
     },
     "output_type": "display_data"
    }
   ],
   "source": [
    "data_merge[(data_merge['tariff'] == 'ultra') & (data_merge['messages_count'] > 0)].plot(y='messages_count', \n",
    "kind='hist', bins=70, figsize=(10, 6), grid=True)\n",
    "plt.title('Распределение сообщений без учета 0')\n",
    "plt.xlabel('Количество сообщений')\n",
    "\n",
    "data_merge[data_merge['tariff'] == 'ultra']['messages_count'].describe()"
   ]
  },
  {
   "cell_type": "markdown",
   "metadata": {},
   "source": [
    "Чаще всего пользователи тарифа \"Ультра\" используют от 5 до 79 сообщений в месяц, в среднем 49"
   ]
  },
  {
   "cell_type": "code",
   "execution_count": 59,
   "metadata": {},
   "outputs": [
    {
     "data": {
      "text/plain": [
       "count      951.000000\n",
       "mean     19444.310200\n",
       "std      10117.631086\n",
       "min          0.000000\n",
       "25%      11612.000000\n",
       "50%      19333.000000\n",
       "75%      26808.000000\n",
       "max      49701.000000\n",
       "Name: sum_mb_used, dtype: float64"
      ]
     },
     "execution_count": 59,
     "metadata": {},
     "output_type": "execute_result"
    },
    {
     "data": {
      "image/png": "[encoded data removed]",
      "text/plain": [
       "<Figure size 720x432 with 1 Axes>"
      ]
     },
     "metadata": {
      "needs_background": "light"
     },
     "output_type": "display_data"
    }
   ],
   "source": [
    "data_merge[data_merge['tariff'] == 'ultra'].plot(y='sum_mb_used', kind='hist', bins=70, figsize=(10, 6), grid=True)\n",
    "plt.title('Распределение интрнета в мегабайтах')\n",
    "plt.xlabel('Количество мегабайт')\n",
    "\n",
    "data_merge[data_merge['tariff'] == 'ultra']['sum_mb_used'].describe()"
   ]
  },
  {
   "cell_type": "markdown",
   "metadata": {},
   "source": [
    " Чаще всего пользователи тарифа \"Ультра\" используют от 11 до 26 Гб интернета в месяц, в среднем 19 Гб в месяц. "
   ]
  },
  {
   "cell_type": "markdown",
   "metadata": {},
   "source": [
    "Гистограмма выручки:"
   ]
  },
  {
   "cell_type": "code",
   "execution_count": 60,
   "metadata": {},
   "outputs": [
    {
     "data": {
      "text/plain": [
       "Text(0.5, 0, 'Выручка за месяц')"
      ]
     },
     "execution_count": 60,
     "metadata": {},
     "output_type": "execute_result"
    },
    {
     "data": {
      "image/png": "[encoded data removed]",
      "text/plain": [
       "<Figure size 864x576 with 1 Axes>"
      ]
     },
     "metadata": {
      "needs_background": "light"
     },
     "output_type": "display_data"
    }
   ],
   "source": [
    "ax = data_merge[data_merge['tariff'] == 'ultra']['revenue'].plot(kind='hist', bins=20, alpha=1, figsize=(12, 8), label='ultra')\n",
    "data_merge[data_merge['tariff'] == 'smart']['revenue'].plot(kind='hist', bins=20, figsize=(12, 8), grid=True, ax=ax, label='smart', alpha=0.3)\n",
    "\n",
    "plt.title('Гистограмма распределения выручки тарифов')\n",
    "plt.xlabel('Выручка за месяц')"
   ]
  },
  {
   "cell_type": "markdown",
   "metadata": {},
   "source": [
    "Вывод:\n",
    "\n",
    "Распределение выручки говорит о том, что пользователи тарифа \"Смарт\" чаще пользователей тарифа \"Ультра\" пользуются услугами сверх тарифного пакета. "
   ]
  },
  {
   "cell_type": "markdown",
   "metadata": {},
   "source": [
    "### 4. Проверка гипотезы"
   ]
  },
  {
   "cell_type": "markdown",
   "metadata": {},
   "source": [
    "#### 4.1 Cредняя выручка пользователей тарифов «Ультра» и «Смарт» различается.\n",
    "\n",
    "Нулевая гипотеза - cредняя выручка пользователей тарифов «Ультра» равна средней выручке пользователей тарифов «Смарт»\n",
    "\n",
    "Альтернативная гипотеза - cредняя выручка пользователей тарифов «Ультра» не равна средней выручке пользователей тарифов «Смарт»\n",
    "\n",
    "Для проверки гипотезы используем scipy.stats.ttest_ind, так как имеем две независимые генеральные совокупности."
   ]
  },
  {
   "cell_type": "code",
   "execution_count": 61,
   "metadata": {},
   "outputs": [
    {
     "name": "stdout",
     "output_type": "stream",
     "text": [
      "p-значение: 4.7466794674017725e-157\n",
      "Отвергаем нулевую гипотезу\n"
     ]
    }
   ],
   "source": [
    "alpha = .05 # критический уровень статистической значимости\n",
    "            # если p-value окажется меньше него - отвергнем гипотезу\n",
    "results = st.ttest_ind(data_merge[data_merge['tariff'] == 'ultra']['revenue'],\n",
    "    data_merge[data_merge['tariff'] == 'smart']['revenue'])\n",
    "                \n",
    "print('p-значение:', results.pvalue)\n",
    "\n",
    "if results.pvalue < alpha:\n",
    "    print(\"Отвергаем нулевую гипотезу\")\n",
    "else:\n",
    "    print(\"Не получилось отвергнуть нулевую гипотезу\") "
   ]
  },
  {
   "cell_type": "markdown",
   "metadata": {},
   "source": [
    "Вывод: \n",
    "средние выручки пользователей тарифов «Ультра» и «Смарт» различаются статистически значимо."
   ]
  },
  {
   "cell_type": "code",
   "execution_count": 62,
   "metadata": {},
   "outputs": [
    {
     "name": "stdout",
     "output_type": "stream",
     "text": [
      "Средняя выручка пользователей тарифов \"Ультра\": 2070.347003154574\n"
     ]
    }
   ],
   "source": [
    "print('Средняя выручка пользователей тарифов \"Ультра\":', data_merge[data_merge['tariff'] == 'ultra']['revenue'].mean()) "
   ]
  },
  {
   "cell_type": "code",
   "execution_count": 63,
   "metadata": {},
   "outputs": [
    {
     "name": "stdout",
     "output_type": "stream",
     "text": [
      "Средняя выручка пользователей тарифов \"Смарт\": 1287.472334682861\n"
     ]
    }
   ],
   "source": [
    "print('Средняя выручка пользователей тарифов \"Смарт\":', data_merge[data_merge['tariff'] == 'smart']['revenue'].mean()) "
   ]
  },
  {
   "cell_type": "markdown",
   "metadata": {},
   "source": [
    "#### 4.2 Cредняя выручка пользователей из Москвы отличается от выручки пользователей из других регионов"
   ]
  },
  {
   "cell_type": "markdown",
   "metadata": {},
   "source": [
    "Нулевая гипотеза - cредняя выручка пользователей из Москвы равна средней выручке пользователей из других регионов\n",
    "\n",
    "Альтернативная гипотеза - cредняя выручка пользователей из Москвы отличается от средней выручки пользователей из других регионов\n",
    "\n",
    "Для проверки гипотезы также используем scipy.stats.ttest_ind"
   ]
  },
  {
   "cell_type": "code",
   "execution_count": 64,
   "metadata": {},
   "outputs": [
    {
     "name": "stdout",
     "output_type": "stream",
     "text": [
      "p-значение: 0.5949040197865747\n",
      "Не получилось отвергнуть нулевую гипотезу\n"
     ]
    }
   ],
   "source": [
    "alpha = .05 # критический уровень статистической значимости\n",
    "            # если p-value окажется меньше него - отвергнем гипотезу\n",
    "results = st.ttest_ind(data_merge[data_merge['city'] == 'Москва']['revenue'],\n",
    "    data_merge[data_merge['city'] != 'Москва']['revenue'])\n",
    "                \n",
    "print('p-значение:', results.pvalue)\n",
    "\n",
    "if results.pvalue < alpha:\n",
    "    print(\"Отвергаем нулевую гипотезу\")\n",
    "else:\n",
    "    print(\"Не получилось отвергнуть нулевую гипотезу\") "
   ]
  },
  {
   "cell_type": "markdown",
   "metadata": {},
   "source": [
    "Вывод: \n",
    "\n",
    "Так как принятая нулевая гипотеза не отвергается по результатам стат. теста, мы можем говорить, что разница между средними, если она есть, получена случайно. Между cредней выручкой пользователей из Москвы и пользователей из других регионов  нет статистически значимой разницы. "
   ]
  },
  {
   "cell_type": "markdown",
   "metadata": {},
   "source": [
    "### 5. Общий вывод"
   ]
  },
  {
   "cell_type": "markdown",
   "metadata": {},
   "source": [
    "В ходе проведения работы мы изучили данные, заменили пропущенные значения, где они были необходимы, исправили ошибки в длительности звонков, а также округлили в большую сторону значения минут разговора и мегабайт интернет-трафика.\n",
    "Для каждого пользователя расчитано:\n",
    "- количество сделанных звонков и израсходованных минут разговора по месяцам;\n",
    "- количество отправленных сообщений по месяцам;\n",
    "- объем израсходованного интернет-трафика по месяцам;\n",
    "- помесячная выручка с каждого пользователя.\n",
    "\n",
    "Установлено, какое количество минут разговора, сообщений и объёма интернет-трафика требуется пользователям каждого тарифа в месяц. Посчитано среднее количество, дисперсия и стандартное отклонение количества минут разговоров, сообщений и объёма интернет-трафика.\n",
    "\n",
    "Пользователи тарифа Ultra чаще всего используют:\n",
    "\n",
    "- от 310 до 756 минту разговор в месяц, в среднем 545 минут в месяц \n",
    "- от 5 до 79 сообщений в месяц, в среднем 49 сооющений\n",
    "- от 11 до 26 Гб интернета в месяц, в среднем 19 Гб в месяц\n",
    "\n",
    "Пользователи тарифа Smart чаще всего используют:\n",
    "\n",
    "- от 285 до 545 минут разговоров в месяц, в среднем 419 минут в месяц\n",
    "- от 1 до 51 сообщения в месяц, в среднем 33 сообщения в месяц\n",
    "- от 12 до 20 Гб интернета в месяц, в среднем 16 Гб в месяц\n",
    "\n",
    "Распределение выручки говорит о том, что пользователи тарифа \"Смарт\" чаще пользователей тарифа \"Ультра\" пользуются услугами сверх тарифного пакета. \n",
    "\n",
    "Было проверено 2 гипотезы, по результатам которых было установлено: \n",
    "\n",
    "- Средние выручки пользователей тарифа «Ультра» и «Смарт» различаются статистически значимо.\n",
    "- Между cредней выручкой пользователей из Москвы и пользователей из других регионов  нет статистически значимой разницы. "
   ]
  },
  {
   "cell_type": "code",
   "execution_count": null,
   "metadata": {},
   "outputs": [],
   "source": []
  }
 ],
 "metadata": {
  "ExecuteTimeLog": [
   {
    "duration": 1187,
    "start_time": "2022-05-17T19:48:47.404Z"
   },
   {
    "duration": 607,
    "start_time": "2022-05-17T19:48:48.593Z"
   },
   {
    "duration": 0,
    "start_time": "2022-05-17T19:48:49.201Z"
   },
   {
    "duration": 360,
    "start_time": "2022-05-17T19:51:57.041Z"
   },
   {
    "duration": 156,
    "start_time": "2022-05-17T19:53:06.658Z"
   },
   {
    "duration": 7,
    "start_time": "2022-05-17T19:53:23.851Z"
   },
   {
    "duration": 11,
    "start_time": "2022-05-17T19:53:40.583Z"
   },
   {
    "duration": 24,
    "start_time": "2022-05-17T19:53:54.879Z"
   },
   {
    "duration": 8,
    "start_time": "2022-05-17T19:55:00.216Z"
   },
   {
    "duration": 23,
    "start_time": "2022-05-17T19:55:01.481Z"
   },
   {
    "duration": 35,
    "start_time": "2022-05-17T19:55:53.878Z"
   },
   {
    "duration": 34,
    "start_time": "2022-05-17T19:56:29.272Z"
   },
   {
    "duration": 1114,
    "start_time": "2022-05-17T19:56:44.155Z"
   },
   {
    "duration": 136,
    "start_time": "2022-05-17T19:56:45.271Z"
   },
   {
    "duration": 15,
    "start_time": "2022-05-17T19:56:45.409Z"
   },
   {
    "duration": 34,
    "start_time": "2022-05-17T19:56:45.426Z"
   },
   {
    "duration": 145,
    "start_time": "2022-05-17T19:56:45.462Z"
   },
   {
    "duration": 8,
    "start_time": "2022-05-17T19:56:45.609Z"
   },
   {
    "duration": 23,
    "start_time": "2022-05-17T19:56:45.619Z"
   },
   {
    "duration": 119,
    "start_time": "2022-05-17T19:56:45.644Z"
   },
   {
    "duration": 0,
    "start_time": "2022-05-17T19:56:45.765Z"
   },
   {
    "duration": 0,
    "start_time": "2022-05-17T19:56:45.766Z"
   },
   {
    "duration": 0,
    "start_time": "2022-05-17T19:56:45.768Z"
   },
   {
    "duration": 134,
    "start_time": "2022-05-17T19:56:57.839Z"
   },
   {
    "duration": 9,
    "start_time": "2022-05-17T19:57:00.730Z"
   },
   {
    "duration": 18,
    "start_time": "2022-05-17T19:57:02.384Z"
   },
   {
    "duration": 14,
    "start_time": "2022-05-17T19:57:05.314Z"
   },
   {
    "duration": 40,
    "start_time": "2022-05-17T19:57:13.005Z"
   },
   {
    "duration": 11,
    "start_time": "2022-05-17T19:57:43.296Z"
   },
   {
    "duration": 9,
    "start_time": "2022-05-17T19:57:45.076Z"
   },
   {
    "duration": 53,
    "start_time": "2022-05-17T19:58:41.048Z"
   },
   {
    "duration": 13,
    "start_time": "2022-05-17T19:58:41.748Z"
   },
   {
    "duration": 10,
    "start_time": "2022-05-17T19:58:43.229Z"
   },
   {
    "duration": 60,
    "start_time": "2022-05-18T16:09:24.592Z"
   },
   {
    "duration": 1157,
    "start_time": "2022-05-18T16:09:48.757Z"
   },
   {
    "duration": 517,
    "start_time": "2022-05-18T16:09:49.918Z"
   },
   {
    "duration": 13,
    "start_time": "2022-05-18T16:09:50.436Z"
   },
   {
    "duration": 25,
    "start_time": "2022-05-18T16:09:50.450Z"
   },
   {
    "duration": 464,
    "start_time": "2022-05-18T16:09:50.477Z"
   },
   {
    "duration": 9,
    "start_time": "2022-05-18T16:09:50.942Z"
   },
   {
    "duration": 36,
    "start_time": "2022-05-18T16:09:50.954Z"
   },
   {
    "duration": 380,
    "start_time": "2022-05-18T16:09:50.992Z"
   },
   {
    "duration": 9,
    "start_time": "2022-05-18T16:09:51.374Z"
   },
   {
    "duration": 35,
    "start_time": "2022-05-18T16:09:51.386Z"
   },
   {
    "duration": 92,
    "start_time": "2022-05-18T16:09:51.425Z"
   },
   {
    "duration": 8,
    "start_time": "2022-05-18T16:09:51.519Z"
   },
   {
    "duration": 11,
    "start_time": "2022-05-18T16:09:51.529Z"
   },
   {
    "duration": 74,
    "start_time": "2022-05-18T16:09:51.542Z"
   },
   {
    "duration": 9,
    "start_time": "2022-05-18T16:09:51.618Z"
   },
   {
    "duration": 13,
    "start_time": "2022-05-18T16:09:51.628Z"
   },
   {
    "duration": 6,
    "start_time": "2022-05-18T16:09:51.643Z"
   },
   {
    "duration": 0,
    "start_time": "2022-05-18T16:09:51.650Z"
   },
   {
    "duration": 0,
    "start_time": "2022-05-18T16:09:51.652Z"
   },
   {
    "duration": 0,
    "start_time": "2022-05-18T16:09:51.653Z"
   },
   {
    "duration": 0,
    "start_time": "2022-05-18T16:09:51.654Z"
   },
   {
    "duration": 0,
    "start_time": "2022-05-18T16:09:51.655Z"
   },
   {
    "duration": 981,
    "start_time": "2022-05-18T16:10:09.602Z"
   },
   {
    "duration": 172,
    "start_time": "2022-05-18T16:10:10.584Z"
   },
   {
    "duration": 13,
    "start_time": "2022-05-18T16:10:10.758Z"
   },
   {
    "duration": 40,
    "start_time": "2022-05-18T16:10:10.773Z"
   },
   {
    "duration": 121,
    "start_time": "2022-05-18T16:10:10.816Z"
   },
   {
    "duration": 8,
    "start_time": "2022-05-18T16:10:10.939Z"
   },
   {
    "duration": 20,
    "start_time": "2022-05-18T16:10:10.949Z"
   },
   {
    "duration": 83,
    "start_time": "2022-05-18T16:10:10.970Z"
   },
   {
    "duration": 7,
    "start_time": "2022-05-18T16:10:11.055Z"
   },
   {
    "duration": 25,
    "start_time": "2022-05-18T16:10:11.064Z"
   },
   {
    "duration": 29,
    "start_time": "2022-05-18T16:10:11.092Z"
   },
   {
    "duration": 12,
    "start_time": "2022-05-18T16:10:11.123Z"
   },
   {
    "duration": 25,
    "start_time": "2022-05-18T16:10:11.139Z"
   },
   {
    "duration": 34,
    "start_time": "2022-05-18T16:10:11.166Z"
   },
   {
    "duration": 16,
    "start_time": "2022-05-18T16:10:11.202Z"
   },
   {
    "duration": 15,
    "start_time": "2022-05-18T16:10:11.220Z"
   },
   {
    "duration": 41,
    "start_time": "2022-05-18T16:10:11.237Z"
   },
   {
    "duration": 40,
    "start_time": "2022-05-18T16:10:11.280Z"
   },
   {
    "duration": 17,
    "start_time": "2022-05-18T16:10:11.322Z"
   },
   {
    "duration": 3,
    "start_time": "2022-05-18T16:10:11.341Z"
   },
   {
    "duration": 8,
    "start_time": "2022-05-18T16:10:11.345Z"
   },
   {
    "duration": 94,
    "start_time": "2022-05-18T16:14:20.422Z"
   },
   {
    "duration": 11,
    "start_time": "2022-05-18T16:27:19.455Z"
   },
   {
    "duration": 1037,
    "start_time": "2022-05-18T16:27:57.846Z"
   },
   {
    "duration": 162,
    "start_time": "2022-05-18T16:27:58.885Z"
   },
   {
    "duration": 14,
    "start_time": "2022-05-18T16:27:59.049Z"
   },
   {
    "duration": 25,
    "start_time": "2022-05-18T16:27:59.065Z"
   },
   {
    "duration": 136,
    "start_time": "2022-05-18T16:27:59.103Z"
   },
   {
    "duration": 8,
    "start_time": "2022-05-18T16:27:59.241Z"
   },
   {
    "duration": 22,
    "start_time": "2022-05-18T16:27:59.250Z"
   },
   {
    "duration": 87,
    "start_time": "2022-05-18T16:27:59.273Z"
   },
   {
    "duration": 6,
    "start_time": "2022-05-18T16:27:59.362Z"
   },
   {
    "duration": 18,
    "start_time": "2022-05-18T16:27:59.370Z"
   },
   {
    "duration": 20,
    "start_time": "2022-05-18T16:27:59.389Z"
   },
   {
    "duration": 8,
    "start_time": "2022-05-18T16:27:59.412Z"
   },
   {
    "duration": 12,
    "start_time": "2022-05-18T16:27:59.421Z"
   },
   {
    "duration": 26,
    "start_time": "2022-05-18T16:27:59.435Z"
   },
   {
    "duration": 9,
    "start_time": "2022-05-18T16:27:59.462Z"
   },
   {
    "duration": 13,
    "start_time": "2022-05-18T16:27:59.473Z"
   },
   {
    "duration": 42,
    "start_time": "2022-05-18T16:27:59.488Z"
   },
   {
    "duration": 60,
    "start_time": "2022-05-18T16:27:59.531Z"
   },
   {
    "duration": 23,
    "start_time": "2022-05-18T16:27:59.593Z"
   },
   {
    "duration": 5,
    "start_time": "2022-05-18T16:27:59.618Z"
   },
   {
    "duration": 8,
    "start_time": "2022-05-18T16:27:59.625Z"
   },
   {
    "duration": 109,
    "start_time": "2022-05-18T16:27:59.634Z"
   },
   {
    "duration": 0,
    "start_time": "2022-05-18T16:27:59.744Z"
   },
   {
    "duration": 5,
    "start_time": "2022-05-18T16:28:39.219Z"
   },
   {
    "duration": 4,
    "start_time": "2022-05-18T16:29:09.950Z"
   },
   {
    "duration": 8,
    "start_time": "2022-05-18T16:29:22.992Z"
   },
   {
    "duration": 8,
    "start_time": "2022-05-18T16:29:40.582Z"
   },
   {
    "duration": 5,
    "start_time": "2022-05-18T16:30:05.398Z"
   },
   {
    "duration": 4,
    "start_time": "2022-05-18T16:30:30.186Z"
   },
   {
    "duration": 8,
    "start_time": "2022-05-18T16:30:40.025Z"
   },
   {
    "duration": 8,
    "start_time": "2022-05-18T16:30:52.590Z"
   },
   {
    "duration": 1355,
    "start_time": "2022-05-18T18:41:22.338Z"
   },
   {
    "duration": 218,
    "start_time": "2022-05-18T18:41:23.696Z"
   },
   {
    "duration": 16,
    "start_time": "2022-05-18T18:41:23.916Z"
   },
   {
    "duration": 36,
    "start_time": "2022-05-18T18:41:23.933Z"
   },
   {
    "duration": 307,
    "start_time": "2022-05-18T18:41:23.973Z"
   },
   {
    "duration": 10,
    "start_time": "2022-05-18T18:41:24.282Z"
   },
   {
    "duration": 33,
    "start_time": "2022-05-18T18:41:24.293Z"
   },
   {
    "duration": 139,
    "start_time": "2022-05-18T18:41:24.328Z"
   },
   {
    "duration": 8,
    "start_time": "2022-05-18T18:41:24.469Z"
   },
   {
    "duration": 46,
    "start_time": "2022-05-18T18:41:24.479Z"
   },
   {
    "duration": 46,
    "start_time": "2022-05-18T18:41:24.527Z"
   },
   {
    "duration": 9,
    "start_time": "2022-05-18T18:41:24.575Z"
   },
   {
    "duration": 34,
    "start_time": "2022-05-18T18:41:24.586Z"
   },
   {
    "duration": 60,
    "start_time": "2022-05-18T18:41:24.625Z"
   },
   {
    "duration": 15,
    "start_time": "2022-05-18T18:41:24.687Z"
   },
   {
    "duration": 42,
    "start_time": "2022-05-18T18:41:24.703Z"
   },
   {
    "duration": 109,
    "start_time": "2022-05-18T18:41:24.748Z"
   },
   {
    "duration": 27,
    "start_time": "2022-05-18T18:41:24.859Z"
   },
   {
    "duration": 28,
    "start_time": "2022-05-18T18:41:24.887Z"
   },
   {
    "duration": 20,
    "start_time": "2022-05-18T18:41:24.916Z"
   },
   {
    "duration": 22,
    "start_time": "2022-05-18T18:41:24.938Z"
   },
   {
    "duration": 30,
    "start_time": "2022-05-18T18:41:24.962Z"
   },
   {
    "duration": 22,
    "start_time": "2022-05-18T18:41:24.994Z"
   },
   {
    "duration": 29,
    "start_time": "2022-05-18T18:41:25.018Z"
   },
   {
    "duration": 20,
    "start_time": "2022-05-18T18:41:25.050Z"
   },
   {
    "duration": 28,
    "start_time": "2022-05-18T18:41:25.072Z"
   },
   {
    "duration": 161,
    "start_time": "2022-05-18T18:41:25.102Z"
   },
   {
    "duration": 0,
    "start_time": "2022-05-18T18:41:25.265Z"
   },
   {
    "duration": 0,
    "start_time": "2022-05-18T18:41:25.266Z"
   },
   {
    "duration": 0,
    "start_time": "2022-05-18T18:41:25.268Z"
   },
   {
    "duration": 0,
    "start_time": "2022-05-18T18:41:25.270Z"
   },
   {
    "duration": 0,
    "start_time": "2022-05-18T18:41:25.271Z"
   },
   {
    "duration": 0,
    "start_time": "2022-05-18T18:41:25.273Z"
   },
   {
    "duration": 0,
    "start_time": "2022-05-18T18:41:25.274Z"
   },
   {
    "duration": 0,
    "start_time": "2022-05-18T18:41:25.276Z"
   },
   {
    "duration": 0,
    "start_time": "2022-05-18T18:41:25.277Z"
   },
   {
    "duration": 0,
    "start_time": "2022-05-18T18:41:25.279Z"
   },
   {
    "duration": 0,
    "start_time": "2022-05-18T18:41:25.282Z"
   },
   {
    "duration": 1080,
    "start_time": "2022-05-18T18:42:03.782Z"
   },
   {
    "duration": 157,
    "start_time": "2022-05-18T18:42:04.865Z"
   },
   {
    "duration": 15,
    "start_time": "2022-05-18T18:42:05.024Z"
   },
   {
    "duration": 39,
    "start_time": "2022-05-18T18:42:05.041Z"
   },
   {
    "duration": 146,
    "start_time": "2022-05-18T18:42:05.082Z"
   },
   {
    "duration": 12,
    "start_time": "2022-05-18T18:42:05.230Z"
   },
   {
    "duration": 63,
    "start_time": "2022-05-18T18:42:05.244Z"
   },
   {
    "duration": 91,
    "start_time": "2022-05-18T18:42:05.309Z"
   },
   {
    "duration": 9,
    "start_time": "2022-05-18T18:42:05.402Z"
   },
   {
    "duration": 39,
    "start_time": "2022-05-18T18:42:05.414Z"
   },
   {
    "duration": 10,
    "start_time": "2022-05-18T18:42:05.465Z"
   },
   {
    "duration": 9,
    "start_time": "2022-05-18T18:42:05.477Z"
   },
   {
    "duration": 19,
    "start_time": "2022-05-18T18:42:05.488Z"
   },
   {
    "duration": 18,
    "start_time": "2022-05-18T18:42:05.508Z"
   },
   {
    "duration": 37,
    "start_time": "2022-05-18T18:42:05.528Z"
   },
   {
    "duration": 12,
    "start_time": "2022-05-18T18:42:05.566Z"
   },
   {
    "duration": 42,
    "start_time": "2022-05-18T18:42:05.580Z"
   },
   {
    "duration": 51,
    "start_time": "2022-05-18T18:42:05.624Z"
   },
   {
    "duration": 20,
    "start_time": "2022-05-18T18:42:05.676Z"
   },
   {
    "duration": 4,
    "start_time": "2022-05-18T18:42:05.698Z"
   },
   {
    "duration": 11,
    "start_time": "2022-05-18T18:42:05.704Z"
   },
   {
    "duration": 8,
    "start_time": "2022-05-18T18:42:05.717Z"
   },
   {
    "duration": 8,
    "start_time": "2022-05-18T18:42:05.726Z"
   },
   {
    "duration": 6,
    "start_time": "2022-05-18T18:42:05.764Z"
   },
   {
    "duration": 11,
    "start_time": "2022-05-18T18:42:05.771Z"
   },
   {
    "duration": 6,
    "start_time": "2022-05-18T18:42:05.783Z"
   },
   {
    "duration": 150,
    "start_time": "2022-05-18T18:42:05.791Z"
   },
   {
    "duration": 0,
    "start_time": "2022-05-18T18:42:05.943Z"
   },
   {
    "duration": 0,
    "start_time": "2022-05-18T18:42:05.945Z"
   },
   {
    "duration": 0,
    "start_time": "2022-05-18T18:42:05.947Z"
   },
   {
    "duration": 0,
    "start_time": "2022-05-18T18:42:05.948Z"
   },
   {
    "duration": 0,
    "start_time": "2022-05-18T18:42:05.950Z"
   },
   {
    "duration": 0,
    "start_time": "2022-05-18T18:42:05.965Z"
   },
   {
    "duration": 0,
    "start_time": "2022-05-18T18:42:05.967Z"
   },
   {
    "duration": 0,
    "start_time": "2022-05-18T18:42:05.968Z"
   },
   {
    "duration": 0,
    "start_time": "2022-05-18T18:42:05.969Z"
   },
   {
    "duration": 0,
    "start_time": "2022-05-18T18:42:05.971Z"
   },
   {
    "duration": 0,
    "start_time": "2022-05-18T18:42:05.972Z"
   },
   {
    "duration": 1100,
    "start_time": "2022-05-18T18:44:19.678Z"
   },
   {
    "duration": 156,
    "start_time": "2022-05-18T18:44:20.780Z"
   },
   {
    "duration": 16,
    "start_time": "2022-05-18T18:44:20.938Z"
   },
   {
    "duration": 49,
    "start_time": "2022-05-18T18:44:20.964Z"
   },
   {
    "duration": 158,
    "start_time": "2022-05-18T18:44:21.016Z"
   },
   {
    "duration": 9,
    "start_time": "2022-05-18T18:44:21.176Z"
   },
   {
    "duration": 23,
    "start_time": "2022-05-18T18:44:21.186Z"
   },
   {
    "duration": 113,
    "start_time": "2022-05-18T18:44:21.211Z"
   },
   {
    "duration": 8,
    "start_time": "2022-05-18T18:44:21.326Z"
   },
   {
    "duration": 38,
    "start_time": "2022-05-18T18:44:21.336Z"
   },
   {
    "duration": 11,
    "start_time": "2022-05-18T18:44:21.376Z"
   },
   {
    "duration": 9,
    "start_time": "2022-05-18T18:44:21.388Z"
   },
   {
    "duration": 15,
    "start_time": "2022-05-18T18:44:21.399Z"
   },
   {
    "duration": 47,
    "start_time": "2022-05-18T18:44:21.418Z"
   },
   {
    "duration": 11,
    "start_time": "2022-05-18T18:44:21.467Z"
   },
   {
    "duration": 15,
    "start_time": "2022-05-18T18:44:21.479Z"
   },
   {
    "duration": 35,
    "start_time": "2022-05-18T18:44:21.496Z"
   },
   {
    "duration": 54,
    "start_time": "2022-05-18T18:44:21.533Z"
   },
   {
    "duration": 40,
    "start_time": "2022-05-18T18:44:21.590Z"
   },
   {
    "duration": 6,
    "start_time": "2022-05-18T18:44:21.633Z"
   },
   {
    "duration": 6,
    "start_time": "2022-05-18T18:44:21.665Z"
   },
   {
    "duration": 14,
    "start_time": "2022-05-18T18:44:21.673Z"
   },
   {
    "duration": 5,
    "start_time": "2022-05-18T18:44:21.690Z"
   },
   {
    "duration": 7,
    "start_time": "2022-05-18T18:44:21.697Z"
   },
   {
    "duration": 6,
    "start_time": "2022-05-18T18:44:21.707Z"
   },
   {
    "duration": 11,
    "start_time": "2022-05-18T18:44:21.715Z"
   },
   {
    "duration": 173,
    "start_time": "2022-05-18T18:44:21.729Z"
   },
   {
    "duration": 0,
    "start_time": "2022-05-18T18:44:21.904Z"
   },
   {
    "duration": 0,
    "start_time": "2022-05-18T18:44:21.906Z"
   },
   {
    "duration": 0,
    "start_time": "2022-05-18T18:44:21.908Z"
   },
   {
    "duration": 0,
    "start_time": "2022-05-18T18:44:21.909Z"
   },
   {
    "duration": 0,
    "start_time": "2022-05-18T18:44:21.910Z"
   },
   {
    "duration": 0,
    "start_time": "2022-05-18T18:44:21.911Z"
   },
   {
    "duration": 0,
    "start_time": "2022-05-18T18:44:21.912Z"
   },
   {
    "duration": 0,
    "start_time": "2022-05-18T18:44:21.914Z"
   },
   {
    "duration": 0,
    "start_time": "2022-05-18T18:44:21.915Z"
   },
   {
    "duration": 0,
    "start_time": "2022-05-18T18:44:21.916Z"
   },
   {
    "duration": 0,
    "start_time": "2022-05-18T18:44:21.918Z"
   },
   {
    "duration": 24,
    "start_time": "2022-05-18T18:44:34.153Z"
   },
   {
    "duration": 10,
    "start_time": "2022-05-18T18:44:36.107Z"
   },
   {
    "duration": 54,
    "start_time": "2022-05-18T18:44:47.874Z"
   },
   {
    "duration": 22,
    "start_time": "2022-05-18T18:44:49.559Z"
   },
   {
    "duration": 18,
    "start_time": "2022-05-18T18:44:59.419Z"
   },
   {
    "duration": 12,
    "start_time": "2022-05-18T18:45:00.914Z"
   },
   {
    "duration": 32,
    "start_time": "2022-05-18T18:45:06.025Z"
   },
   {
    "duration": 15,
    "start_time": "2022-05-18T18:45:07.251Z"
   },
   {
    "duration": 24,
    "start_time": "2022-05-18T18:45:24.285Z"
   },
   {
    "duration": 27,
    "start_time": "2022-05-18T18:45:28.070Z"
   },
   {
    "duration": 15,
    "start_time": "2022-05-18T18:45:30.331Z"
   },
   {
    "duration": 40,
    "start_time": "2022-05-18T18:45:45.406Z"
   },
   {
    "duration": 68,
    "start_time": "2022-05-18T18:45:55.507Z"
   },
   {
    "duration": 25,
    "start_time": "2022-05-18T18:45:57.186Z"
   },
   {
    "duration": 27,
    "start_time": "2022-05-18T18:47:24.435Z"
   },
   {
    "duration": 32,
    "start_time": "2022-05-18T18:48:57.910Z"
   },
   {
    "duration": 25,
    "start_time": "2022-05-18T18:48:59.369Z"
   },
   {
    "duration": 31,
    "start_time": "2022-05-18T18:49:37.860Z"
   },
   {
    "duration": 36,
    "start_time": "2022-05-18T18:49:39.196Z"
   },
   {
    "duration": 33,
    "start_time": "2022-05-18T18:50:10.491Z"
   },
   {
    "duration": 34,
    "start_time": "2022-05-18T18:50:11.197Z"
   },
   {
    "duration": 15,
    "start_time": "2022-05-18T18:54:07.108Z"
   },
   {
    "duration": 10,
    "start_time": "2022-05-18T18:58:55.992Z"
   },
   {
    "duration": 7,
    "start_time": "2022-05-18T18:59:22.108Z"
   },
   {
    "duration": 6,
    "start_time": "2022-05-18T18:59:30.644Z"
   },
   {
    "duration": 18,
    "start_time": "2022-05-18T19:05:25.044Z"
   },
   {
    "duration": 18,
    "start_time": "2022-05-18T19:09:24.694Z"
   },
   {
    "duration": 16,
    "start_time": "2022-05-18T19:09:39.130Z"
   },
   {
    "duration": 807,
    "start_time": "2022-05-18T19:09:47.545Z"
   },
   {
    "duration": 21,
    "start_time": "2022-05-18T19:09:59.140Z"
   },
   {
    "duration": 8,
    "start_time": "2022-05-18T19:10:19.536Z"
   },
   {
    "duration": 38,
    "start_time": "2022-05-18T19:10:40.351Z"
   },
   {
    "duration": 9,
    "start_time": "2022-05-18T19:11:36.342Z"
   },
   {
    "duration": 7,
    "start_time": "2022-05-18T19:13:06.294Z"
   },
   {
    "duration": 27,
    "start_time": "2022-05-18T19:19:17.704Z"
   },
   {
    "duration": 17,
    "start_time": "2022-05-18T19:19:28.593Z"
   },
   {
    "duration": 23,
    "start_time": "2022-05-18T19:19:47.095Z"
   },
   {
    "duration": 10,
    "start_time": "2022-05-18T19:34:37.752Z"
   },
   {
    "duration": 33,
    "start_time": "2022-05-18T19:36:28.105Z"
   },
   {
    "duration": 18,
    "start_time": "2022-05-18T19:36:50.713Z"
   },
   {
    "duration": 16,
    "start_time": "2022-05-18T19:36:56.408Z"
   },
   {
    "duration": 26,
    "start_time": "2022-05-18T19:37:00.364Z"
   },
   {
    "duration": 62,
    "start_time": "2022-05-20T16:33:29.758Z"
   },
   {
    "duration": 1197,
    "start_time": "2022-05-20T16:33:53.029Z"
   },
   {
    "duration": 849,
    "start_time": "2022-05-20T16:33:54.228Z"
   },
   {
    "duration": 13,
    "start_time": "2022-05-20T16:33:55.079Z"
   },
   {
    "duration": 23,
    "start_time": "2022-05-20T16:33:55.093Z"
   },
   {
    "duration": 409,
    "start_time": "2022-05-20T16:33:55.117Z"
   },
   {
    "duration": 8,
    "start_time": "2022-05-20T16:33:55.528Z"
   },
   {
    "duration": 36,
    "start_time": "2022-05-20T16:33:55.538Z"
   },
   {
    "duration": 291,
    "start_time": "2022-05-20T16:33:55.576Z"
   },
   {
    "duration": 8,
    "start_time": "2022-05-20T16:33:55.869Z"
   },
   {
    "duration": 26,
    "start_time": "2022-05-20T16:33:55.879Z"
   },
   {
    "duration": 69,
    "start_time": "2022-05-20T16:33:55.907Z"
   },
   {
    "duration": 7,
    "start_time": "2022-05-20T16:33:55.978Z"
   },
   {
    "duration": 10,
    "start_time": "2022-05-20T16:33:55.986Z"
   },
   {
    "duration": 65,
    "start_time": "2022-05-20T16:33:55.998Z"
   },
   {
    "duration": 9,
    "start_time": "2022-05-20T16:33:56.064Z"
   },
   {
    "duration": 12,
    "start_time": "2022-05-20T16:33:56.074Z"
   },
   {
    "duration": 33,
    "start_time": "2022-05-20T16:33:56.087Z"
   },
   {
    "duration": 22,
    "start_time": "2022-05-20T16:33:56.121Z"
   },
   {
    "duration": 25,
    "start_time": "2022-05-20T16:33:56.144Z"
   },
   {
    "duration": 4,
    "start_time": "2022-05-20T16:33:56.170Z"
   },
   {
    "duration": 6,
    "start_time": "2022-05-20T16:33:56.176Z"
   },
   {
    "duration": 7,
    "start_time": "2022-05-20T16:33:56.183Z"
   },
   {
    "duration": 5,
    "start_time": "2022-05-20T16:33:56.191Z"
   },
   {
    "duration": 7,
    "start_time": "2022-05-20T16:33:56.197Z"
   },
   {
    "duration": 5,
    "start_time": "2022-05-20T16:33:56.206Z"
   },
   {
    "duration": 16,
    "start_time": "2022-05-20T16:33:56.212Z"
   },
   {
    "duration": 31,
    "start_time": "2022-05-20T16:33:56.230Z"
   },
   {
    "duration": 45,
    "start_time": "2022-05-20T16:33:56.264Z"
   },
   {
    "duration": 11,
    "start_time": "2022-05-20T16:33:56.311Z"
   },
   {
    "duration": 15,
    "start_time": "2022-05-20T16:33:56.323Z"
   },
   {
    "duration": 34,
    "start_time": "2022-05-20T16:33:56.339Z"
   },
   {
    "duration": 9,
    "start_time": "2022-05-20T16:33:56.374Z"
   },
   {
    "duration": 16,
    "start_time": "2022-05-20T16:33:56.385Z"
   },
   {
    "duration": 19,
    "start_time": "2022-05-20T16:33:56.403Z"
   },
   {
    "duration": 10,
    "start_time": "2022-05-20T16:33:56.423Z"
   },
   {
    "duration": 43,
    "start_time": "2022-05-20T16:33:56.435Z"
   },
   {
    "duration": 13,
    "start_time": "2022-05-20T16:33:56.480Z"
   },
   {
    "duration": 12,
    "start_time": "2022-05-20T16:33:56.495Z"
   },
   {
    "duration": 14,
    "start_time": "2022-05-20T16:33:56.508Z"
   },
   {
    "duration": 5,
    "start_time": "2022-05-20T16:33:56.524Z"
   },
   {
    "duration": 31,
    "start_time": "2022-05-20T16:33:56.530Z"
   },
   {
    "duration": 7,
    "start_time": "2022-05-20T16:33:56.562Z"
   },
   {
    "duration": 18,
    "start_time": "2022-05-20T16:33:56.571Z"
   },
   {
    "duration": 6,
    "start_time": "2022-05-20T16:33:56.590Z"
   },
   {
    "duration": 5,
    "start_time": "2022-05-20T16:33:56.598Z"
   },
   {
    "duration": 17,
    "start_time": "2022-05-20T16:34:21.902Z"
   },
   {
    "duration": 6,
    "start_time": "2022-05-20T16:36:03.151Z"
   },
   {
    "duration": 15,
    "start_time": "2022-05-20T16:36:04.877Z"
   },
   {
    "duration": 1033,
    "start_time": "2022-05-20T17:17:45.532Z"
   },
   {
    "duration": 149,
    "start_time": "2022-05-20T17:17:46.566Z"
   },
   {
    "duration": 12,
    "start_time": "2022-05-20T17:17:46.717Z"
   },
   {
    "duration": 31,
    "start_time": "2022-05-20T17:17:46.731Z"
   },
   {
    "duration": 123,
    "start_time": "2022-05-20T17:17:46.763Z"
   },
   {
    "duration": 8,
    "start_time": "2022-05-20T17:17:46.888Z"
   },
   {
    "duration": 21,
    "start_time": "2022-05-20T17:17:46.898Z"
   },
   {
    "duration": 87,
    "start_time": "2022-05-20T17:17:46.920Z"
   },
   {
    "duration": 7,
    "start_time": "2022-05-20T17:17:47.009Z"
   },
   {
    "duration": 17,
    "start_time": "2022-05-20T17:17:47.018Z"
   },
   {
    "duration": 24,
    "start_time": "2022-05-20T17:17:47.036Z"
   },
   {
    "duration": 9,
    "start_time": "2022-05-20T17:17:47.061Z"
   },
   {
    "duration": 12,
    "start_time": "2022-05-20T17:17:47.071Z"
   },
   {
    "duration": 28,
    "start_time": "2022-05-20T17:17:47.084Z"
   },
   {
    "duration": 9,
    "start_time": "2022-05-20T17:17:47.113Z"
   },
   {
    "duration": 12,
    "start_time": "2022-05-20T17:17:47.124Z"
   },
   {
    "duration": 40,
    "start_time": "2022-05-20T17:17:47.138Z"
   },
   {
    "duration": 27,
    "start_time": "2022-05-20T17:17:47.180Z"
   },
   {
    "duration": 19,
    "start_time": "2022-05-20T17:17:47.259Z"
   },
   {
    "duration": 4,
    "start_time": "2022-05-20T17:17:47.279Z"
   },
   {
    "duration": 6,
    "start_time": "2022-05-20T17:17:47.285Z"
   },
   {
    "duration": 10,
    "start_time": "2022-05-20T17:17:47.292Z"
   },
   {
    "duration": 56,
    "start_time": "2022-05-20T17:17:47.304Z"
   },
   {
    "duration": 5,
    "start_time": "2022-05-20T17:17:47.362Z"
   },
   {
    "duration": 5,
    "start_time": "2022-05-20T17:17:47.369Z"
   },
   {
    "duration": 8,
    "start_time": "2022-05-20T17:17:47.375Z"
   },
   {
    "duration": 76,
    "start_time": "2022-05-20T17:17:47.384Z"
   },
   {
    "duration": 104,
    "start_time": "2022-05-20T17:17:47.463Z"
   },
   {
    "duration": 11,
    "start_time": "2022-05-20T17:17:47.569Z"
   },
   {
    "duration": 18,
    "start_time": "2022-05-20T17:17:47.582Z"
   },
   {
    "duration": 70,
    "start_time": "2022-05-20T17:17:47.601Z"
   },
   {
    "duration": 10,
    "start_time": "2022-05-20T17:17:47.672Z"
   },
   {
    "duration": 16,
    "start_time": "2022-05-20T17:17:47.683Z"
   },
   {
    "duration": 27,
    "start_time": "2022-05-20T17:17:47.759Z"
   },
   {
    "duration": 73,
    "start_time": "2022-05-20T17:17:47.788Z"
   },
   {
    "duration": 39,
    "start_time": "2022-05-20T17:17:47.864Z"
   },
   {
    "duration": 67,
    "start_time": "2022-05-20T17:17:47.905Z"
   },
   {
    "duration": 26,
    "start_time": "2022-05-20T17:17:47.974Z"
   },
   {
    "duration": 61,
    "start_time": "2022-05-20T17:17:48.002Z"
   },
   {
    "duration": 4,
    "start_time": "2022-05-20T17:17:48.065Z"
   },
   {
    "duration": 7,
    "start_time": "2022-05-20T17:17:48.071Z"
   },
   {
    "duration": 9,
    "start_time": "2022-05-20T17:17:48.080Z"
   },
   {
    "duration": 16,
    "start_time": "2022-05-20T17:17:48.090Z"
   },
   {
    "duration": 7,
    "start_time": "2022-05-20T17:17:48.159Z"
   },
   {
    "duration": 9,
    "start_time": "2022-05-20T17:17:48.168Z"
   },
   {
    "duration": 215,
    "start_time": "2022-05-20T17:17:48.179Z"
   },
   {
    "duration": 0,
    "start_time": "2022-05-20T17:17:48.396Z"
   },
   {
    "duration": 21,
    "start_time": "2022-05-20T17:18:27.777Z"
   },
   {
    "duration": 4,
    "start_time": "2022-05-20T17:19:29.835Z"
   },
   {
    "duration": 75,
    "start_time": "2022-05-20T17:19:30.995Z"
   },
   {
    "duration": 19,
    "start_time": "2022-05-20T17:19:32.410Z"
   },
   {
    "duration": 25,
    "start_time": "2022-05-20T17:19:47.106Z"
   },
   {
    "duration": 1041,
    "start_time": "2022-05-20T17:27:37.203Z"
   },
   {
    "duration": 167,
    "start_time": "2022-05-20T17:27:38.245Z"
   },
   {
    "duration": 13,
    "start_time": "2022-05-20T17:27:38.414Z"
   },
   {
    "duration": 42,
    "start_time": "2022-05-20T17:27:38.429Z"
   },
   {
    "duration": 134,
    "start_time": "2022-05-20T17:27:38.472Z"
   },
   {
    "duration": 10,
    "start_time": "2022-05-20T17:27:38.608Z"
   },
   {
    "duration": 34,
    "start_time": "2022-05-20T17:27:38.619Z"
   },
   {
    "duration": 91,
    "start_time": "2022-05-20T17:27:38.655Z"
   },
   {
    "duration": 8,
    "start_time": "2022-05-20T17:27:38.748Z"
   },
   {
    "duration": 36,
    "start_time": "2022-05-20T17:27:38.759Z"
   },
   {
    "duration": 21,
    "start_time": "2022-05-20T17:27:38.797Z"
   },
   {
    "duration": 7,
    "start_time": "2022-05-20T17:27:38.819Z"
   },
   {
    "duration": 20,
    "start_time": "2022-05-20T17:27:38.827Z"
   },
   {
    "duration": 56,
    "start_time": "2022-05-20T17:27:38.849Z"
   },
   {
    "duration": 9,
    "start_time": "2022-05-20T17:27:38.907Z"
   },
   {
    "duration": 32,
    "start_time": "2022-05-20T17:27:38.917Z"
   },
   {
    "duration": 43,
    "start_time": "2022-05-20T17:27:38.950Z"
   },
   {
    "duration": 24,
    "start_time": "2022-05-20T17:27:38.994Z"
   },
   {
    "duration": 17,
    "start_time": "2022-05-20T17:27:39.020Z"
   },
   {
    "duration": 3,
    "start_time": "2022-05-20T17:27:39.038Z"
   },
   {
    "duration": 29,
    "start_time": "2022-05-20T17:27:39.043Z"
   },
   {
    "duration": 15,
    "start_time": "2022-05-20T17:27:39.074Z"
   },
   {
    "duration": 26,
    "start_time": "2022-05-20T17:27:39.090Z"
   },
   {
    "duration": 11,
    "start_time": "2022-05-20T17:27:39.117Z"
   },
   {
    "duration": 28,
    "start_time": "2022-05-20T17:27:39.129Z"
   },
   {
    "duration": 12,
    "start_time": "2022-05-20T17:27:39.163Z"
   },
   {
    "duration": 39,
    "start_time": "2022-05-20T17:27:39.176Z"
   },
   {
    "duration": 58,
    "start_time": "2022-05-20T17:27:39.218Z"
   },
   {
    "duration": 14,
    "start_time": "2022-05-20T17:27:39.278Z"
   },
   {
    "duration": 43,
    "start_time": "2022-05-20T17:27:39.294Z"
   },
   {
    "duration": 26,
    "start_time": "2022-05-20T17:27:39.339Z"
   },
   {
    "duration": 33,
    "start_time": "2022-05-20T17:27:39.372Z"
   },
   {
    "duration": 31,
    "start_time": "2022-05-20T17:27:39.407Z"
   },
   {
    "duration": 27,
    "start_time": "2022-05-20T17:27:39.440Z"
   },
   {
    "duration": 28,
    "start_time": "2022-05-20T17:27:39.468Z"
   },
   {
    "duration": 56,
    "start_time": "2022-05-20T17:27:39.497Z"
   },
   {
    "duration": 21,
    "start_time": "2022-05-20T17:27:39.555Z"
   },
   {
    "duration": 30,
    "start_time": "2022-05-20T17:27:39.577Z"
   },
   {
    "duration": 15,
    "start_time": "2022-05-20T17:27:39.608Z"
   },
   {
    "duration": 16,
    "start_time": "2022-05-20T17:27:39.625Z"
   },
   {
    "duration": 33,
    "start_time": "2022-05-20T17:27:39.642Z"
   },
   {
    "duration": 16,
    "start_time": "2022-05-20T17:27:39.677Z"
   },
   {
    "duration": 34,
    "start_time": "2022-05-20T17:27:39.694Z"
   },
   {
    "duration": 30,
    "start_time": "2022-05-20T17:27:39.730Z"
   },
   {
    "duration": 31,
    "start_time": "2022-05-20T17:27:39.766Z"
   },
   {
    "duration": 178,
    "start_time": "2022-05-20T17:27:39.799Z"
   },
   {
    "duration": 0,
    "start_time": "2022-05-20T17:27:39.978Z"
   },
   {
    "duration": 5,
    "start_time": "2022-05-20T17:30:44.175Z"
   },
   {
    "duration": 159,
    "start_time": "2022-05-20T17:30:46.526Z"
   },
   {
    "duration": 30,
    "start_time": "2022-05-20T17:30:47.995Z"
   },
   {
    "duration": 993,
    "start_time": "2022-05-20T17:42:11.736Z"
   },
   {
    "duration": 164,
    "start_time": "2022-05-20T17:42:12.731Z"
   },
   {
    "duration": 12,
    "start_time": "2022-05-20T17:42:12.897Z"
   },
   {
    "duration": 41,
    "start_time": "2022-05-20T17:42:12.911Z"
   },
   {
    "duration": 151,
    "start_time": "2022-05-20T17:42:12.953Z"
   },
   {
    "duration": 8,
    "start_time": "2022-05-20T17:42:13.105Z"
   },
   {
    "duration": 28,
    "start_time": "2022-05-20T17:42:13.115Z"
   },
   {
    "duration": 98,
    "start_time": "2022-05-20T17:42:13.144Z"
   },
   {
    "duration": 8,
    "start_time": "2022-05-20T17:42:13.243Z"
   },
   {
    "duration": 39,
    "start_time": "2022-05-20T17:42:13.253Z"
   },
   {
    "duration": 25,
    "start_time": "2022-05-20T17:42:13.293Z"
   },
   {
    "duration": 13,
    "start_time": "2022-05-20T17:42:13.319Z"
   },
   {
    "duration": 18,
    "start_time": "2022-05-20T17:42:13.334Z"
   },
   {
    "duration": 82,
    "start_time": "2022-05-20T17:42:13.353Z"
   },
   {
    "duration": 13,
    "start_time": "2022-05-20T17:42:13.437Z"
   },
   {
    "duration": 41,
    "start_time": "2022-05-20T17:42:13.451Z"
   },
   {
    "duration": 60,
    "start_time": "2022-05-20T17:42:13.494Z"
   },
   {
    "duration": 31,
    "start_time": "2022-05-20T17:42:13.555Z"
   },
   {
    "duration": 16,
    "start_time": "2022-05-20T17:42:13.588Z"
   },
   {
    "duration": 21,
    "start_time": "2022-05-20T17:42:13.606Z"
   },
   {
    "duration": 25,
    "start_time": "2022-05-20T17:42:13.628Z"
   },
   {
    "duration": 36,
    "start_time": "2022-05-20T17:42:13.655Z"
   },
   {
    "duration": 11,
    "start_time": "2022-05-20T17:42:13.693Z"
   },
   {
    "duration": 15,
    "start_time": "2022-05-20T17:42:13.705Z"
   },
   {
    "duration": 25,
    "start_time": "2022-05-20T17:42:13.722Z"
   },
   {
    "duration": 15,
    "start_time": "2022-05-20T17:42:13.749Z"
   },
   {
    "duration": 52,
    "start_time": "2022-05-20T17:42:13.766Z"
   },
   {
    "duration": 58,
    "start_time": "2022-05-20T17:42:13.822Z"
   },
   {
    "duration": 14,
    "start_time": "2022-05-20T17:42:13.881Z"
   },
   {
    "duration": 54,
    "start_time": "2022-05-20T17:42:13.896Z"
   },
   {
    "duration": 43,
    "start_time": "2022-05-20T17:42:13.952Z"
   },
   {
    "duration": 13,
    "start_time": "2022-05-20T17:42:13.996Z"
   },
   {
    "duration": 38,
    "start_time": "2022-05-20T17:42:14.011Z"
   },
   {
    "duration": 26,
    "start_time": "2022-05-20T17:42:14.050Z"
   },
   {
    "duration": 11,
    "start_time": "2022-05-20T17:42:14.077Z"
   },
   {
    "duration": 49,
    "start_time": "2022-05-20T17:42:14.090Z"
   },
   {
    "duration": 25,
    "start_time": "2022-05-20T17:42:14.141Z"
   },
   {
    "duration": 37,
    "start_time": "2022-05-20T17:42:14.167Z"
   },
   {
    "duration": 21,
    "start_time": "2022-05-20T17:42:14.206Z"
   },
   {
    "duration": 14,
    "start_time": "2022-05-20T17:42:14.229Z"
   },
   {
    "duration": 14,
    "start_time": "2022-05-20T17:42:14.244Z"
   },
   {
    "duration": 31,
    "start_time": "2022-05-20T17:42:14.259Z"
   },
   {
    "duration": 211,
    "start_time": "2022-05-20T17:42:14.291Z"
   },
   {
    "duration": 21,
    "start_time": "2022-05-20T17:42:14.503Z"
   },
   {
    "duration": 17,
    "start_time": "2022-05-20T17:49:24.046Z"
   },
   {
    "duration": 59,
    "start_time": "2022-05-20T17:58:14.054Z"
   },
   {
    "duration": 122,
    "start_time": "2022-05-20T17:58:29.857Z"
   },
   {
    "duration": 16,
    "start_time": "2022-05-20T17:58:58.442Z"
   },
   {
    "duration": 15,
    "start_time": "2022-05-20T17:59:07.728Z"
   },
   {
    "duration": 30,
    "start_time": "2022-05-20T18:00:57.147Z"
   },
   {
    "duration": 16,
    "start_time": "2022-05-20T18:01:06.317Z"
   },
   {
    "duration": 1075,
    "start_time": "2022-05-20T18:16:58.575Z"
   },
   {
    "duration": 172,
    "start_time": "2022-05-20T18:16:59.652Z"
   },
   {
    "duration": 14,
    "start_time": "2022-05-20T18:16:59.826Z"
   },
   {
    "duration": 46,
    "start_time": "2022-05-20T18:16:59.841Z"
   },
   {
    "duration": 142,
    "start_time": "2022-05-20T18:16:59.890Z"
   },
   {
    "duration": 8,
    "start_time": "2022-05-20T18:17:00.034Z"
   },
   {
    "duration": 57,
    "start_time": "2022-05-20T18:17:00.044Z"
   },
   {
    "duration": 104,
    "start_time": "2022-05-20T18:17:00.103Z"
   },
   {
    "duration": 7,
    "start_time": "2022-05-20T18:17:00.209Z"
   },
   {
    "duration": 24,
    "start_time": "2022-05-20T18:17:00.218Z"
   },
   {
    "duration": 32,
    "start_time": "2022-05-20T18:17:00.243Z"
   },
   {
    "duration": 25,
    "start_time": "2022-05-20T18:17:00.277Z"
   },
   {
    "duration": 19,
    "start_time": "2022-05-20T18:17:00.304Z"
   },
   {
    "duration": 51,
    "start_time": "2022-05-20T18:17:00.325Z"
   },
   {
    "duration": 9,
    "start_time": "2022-05-20T18:17:00.378Z"
   },
   {
    "duration": 25,
    "start_time": "2022-05-20T18:17:00.388Z"
   },
   {
    "duration": 43,
    "start_time": "2022-05-20T18:17:00.414Z"
   },
   {
    "duration": 41,
    "start_time": "2022-05-20T18:17:00.459Z"
   },
   {
    "duration": 38,
    "start_time": "2022-05-20T18:17:00.502Z"
   },
   {
    "duration": 13,
    "start_time": "2022-05-20T18:17:00.541Z"
   },
   {
    "duration": 38,
    "start_time": "2022-05-20T18:17:00.555Z"
   },
   {
    "duration": 18,
    "start_time": "2022-05-20T18:17:00.594Z"
   },
   {
    "duration": 29,
    "start_time": "2022-05-20T18:17:00.614Z"
   },
   {
    "duration": 53,
    "start_time": "2022-05-20T18:17:00.644Z"
   },
   {
    "duration": 40,
    "start_time": "2022-05-20T18:17:00.698Z"
   },
   {
    "duration": 36,
    "start_time": "2022-05-20T18:17:00.740Z"
   },
   {
    "duration": 66,
    "start_time": "2022-05-20T18:17:00.778Z"
   },
   {
    "duration": 140,
    "start_time": "2022-05-20T18:17:00.846Z"
   },
   {
    "duration": 14,
    "start_time": "2022-05-20T18:17:00.988Z"
   },
   {
    "duration": 82,
    "start_time": "2022-05-20T18:17:01.004Z"
   },
   {
    "duration": 30,
    "start_time": "2022-05-20T18:17:01.088Z"
   },
   {
    "duration": 45,
    "start_time": "2022-05-20T18:17:01.120Z"
   },
   {
    "duration": 45,
    "start_time": "2022-05-20T18:17:01.168Z"
   },
   {
    "duration": 34,
    "start_time": "2022-05-20T18:17:01.214Z"
   },
   {
    "duration": 31,
    "start_time": "2022-05-20T18:17:01.250Z"
   },
   {
    "duration": 47,
    "start_time": "2022-05-20T18:17:01.283Z"
   },
   {
    "duration": 17,
    "start_time": "2022-05-20T18:17:01.332Z"
   },
   {
    "duration": 49,
    "start_time": "2022-05-20T18:17:01.351Z"
   },
   {
    "duration": 31,
    "start_time": "2022-05-20T18:17:01.401Z"
   },
   {
    "duration": 61,
    "start_time": "2022-05-20T18:17:01.433Z"
   },
   {
    "duration": 47,
    "start_time": "2022-05-20T18:17:01.498Z"
   },
   {
    "duration": 41,
    "start_time": "2022-05-20T18:17:01.546Z"
   },
   {
    "duration": 246,
    "start_time": "2022-05-20T18:17:01.588Z"
   },
   {
    "duration": 42,
    "start_time": "2022-05-20T18:17:01.837Z"
   },
   {
    "duration": 51,
    "start_time": "2022-05-20T18:17:01.882Z"
   },
   {
    "duration": 150,
    "start_time": "2022-05-20T18:17:01.935Z"
   },
   {
    "duration": 0,
    "start_time": "2022-05-20T18:17:02.086Z"
   },
   {
    "duration": 16,
    "start_time": "2022-05-20T18:17:21.228Z"
   },
   {
    "duration": 3,
    "start_time": "2022-05-20T18:25:51.486Z"
   },
   {
    "duration": 17,
    "start_time": "2022-05-20T18:25:53.566Z"
   },
   {
    "duration": 8,
    "start_time": "2022-05-20T18:27:00.061Z"
   },
   {
    "duration": 28,
    "start_time": "2022-05-20T18:27:02.639Z"
   },
   {
    "duration": 23,
    "start_time": "2022-05-20T18:27:03.514Z"
   },
   {
    "duration": 44,
    "start_time": "2022-05-20T18:27:50.246Z"
   },
   {
    "duration": 16,
    "start_time": "2022-05-20T18:27:52.110Z"
   },
   {
    "duration": 6,
    "start_time": "2022-05-20T18:28:56.738Z"
   },
   {
    "duration": 21,
    "start_time": "2022-05-20T18:28:58.305Z"
   },
   {
    "duration": 1096,
    "start_time": "2022-05-20T18:29:18.528Z"
   },
   {
    "duration": 143,
    "start_time": "2022-05-20T18:29:19.627Z"
   },
   {
    "duration": 17,
    "start_time": "2022-05-20T18:29:19.773Z"
   },
   {
    "duration": 34,
    "start_time": "2022-05-20T18:29:19.793Z"
   },
   {
    "duration": 141,
    "start_time": "2022-05-20T18:29:19.829Z"
   },
   {
    "duration": 11,
    "start_time": "2022-05-20T18:29:19.973Z"
   },
   {
    "duration": 29,
    "start_time": "2022-05-20T18:29:19.986Z"
   },
   {
    "duration": 80,
    "start_time": "2022-05-20T18:29:20.017Z"
   },
   {
    "duration": 7,
    "start_time": "2022-05-20T18:29:20.099Z"
   },
   {
    "duration": 29,
    "start_time": "2022-05-20T18:29:20.110Z"
   },
   {
    "duration": 19,
    "start_time": "2022-05-20T18:29:20.141Z"
   },
   {
    "duration": 10,
    "start_time": "2022-05-20T18:29:20.161Z"
   },
   {
    "duration": 11,
    "start_time": "2022-05-20T18:29:20.173Z"
   },
   {
    "duration": 28,
    "start_time": "2022-05-20T18:29:20.186Z"
   },
   {
    "duration": 9,
    "start_time": "2022-05-20T18:29:20.215Z"
   },
   {
    "duration": 11,
    "start_time": "2022-05-20T18:29:20.226Z"
   },
   {
    "duration": 63,
    "start_time": "2022-05-20T18:29:20.239Z"
   },
   {
    "duration": 24,
    "start_time": "2022-05-20T18:29:20.304Z"
   },
   {
    "duration": 31,
    "start_time": "2022-05-20T18:29:20.330Z"
   },
   {
    "duration": 5,
    "start_time": "2022-05-20T18:29:20.363Z"
   },
   {
    "duration": 10,
    "start_time": "2022-05-20T18:29:20.370Z"
   },
   {
    "duration": 8,
    "start_time": "2022-05-20T18:29:20.382Z"
   },
   {
    "duration": 6,
    "start_time": "2022-05-20T18:29:20.391Z"
   },
   {
    "duration": 4,
    "start_time": "2022-05-20T18:29:20.399Z"
   },
   {
    "duration": 6,
    "start_time": "2022-05-20T18:29:20.405Z"
   },
   {
    "duration": 9,
    "start_time": "2022-05-20T18:29:20.413Z"
   },
   {
    "duration": 54,
    "start_time": "2022-05-20T18:29:20.424Z"
   },
   {
    "duration": 66,
    "start_time": "2022-05-20T18:29:20.483Z"
   },
   {
    "duration": 18,
    "start_time": "2022-05-20T18:29:20.551Z"
   },
   {
    "duration": 16,
    "start_time": "2022-05-20T18:29:20.571Z"
   },
   {
    "duration": 20,
    "start_time": "2022-05-20T18:29:20.589Z"
   },
   {
    "duration": 10,
    "start_time": "2022-05-20T18:29:20.611Z"
   },
   {
    "duration": 50,
    "start_time": "2022-05-20T18:29:20.622Z"
   },
   {
    "duration": 28,
    "start_time": "2022-05-20T18:29:20.674Z"
   },
   {
    "duration": 13,
    "start_time": "2022-05-20T18:29:20.704Z"
   },
   {
    "duration": 48,
    "start_time": "2022-05-20T18:29:20.719Z"
   },
   {
    "duration": 19,
    "start_time": "2022-05-20T18:29:20.769Z"
   },
   {
    "duration": 33,
    "start_time": "2022-05-20T18:29:20.790Z"
   },
   {
    "duration": 26,
    "start_time": "2022-05-20T18:29:20.825Z"
   },
   {
    "duration": 23,
    "start_time": "2022-05-20T18:29:20.853Z"
   },
   {
    "duration": 20,
    "start_time": "2022-05-20T18:29:20.878Z"
   },
   {
    "duration": 14,
    "start_time": "2022-05-20T18:29:20.900Z"
   },
   {
    "duration": 204,
    "start_time": "2022-05-20T18:29:20.916Z"
   },
   {
    "duration": 21,
    "start_time": "2022-05-20T18:29:21.123Z"
   },
   {
    "duration": 54,
    "start_time": "2022-05-20T18:29:21.145Z"
   },
   {
    "duration": 3,
    "start_time": "2022-05-20T18:29:21.201Z"
   },
   {
    "duration": 27,
    "start_time": "2022-05-20T18:29:21.206Z"
   },
   {
    "duration": 38,
    "start_time": "2022-05-20T18:29:21.234Z"
   },
   {
    "duration": 3,
    "start_time": "2022-05-20T18:29:21.274Z"
   },
   {
    "duration": 24,
    "start_time": "2022-05-20T18:29:21.279Z"
   },
   {
    "duration": 1859,
    "start_time": "2022-05-20T18:31:27.922Z"
   },
   {
    "duration": 209,
    "start_time": "2022-05-20T18:43:10.378Z"
   },
   {
    "duration": 99,
    "start_time": "2022-05-20T18:43:28.199Z"
   },
   {
    "duration": 156,
    "start_time": "2022-05-20T18:43:48.699Z"
   },
   {
    "duration": 258,
    "start_time": "2022-05-20T18:44:02.489Z"
   },
   {
    "duration": 109,
    "start_time": "2022-05-20T18:44:57.613Z"
   },
   {
    "duration": 160,
    "start_time": "2022-05-20T18:45:04.627Z"
   },
   {
    "duration": 10,
    "start_time": "2022-05-20T18:46:28.635Z"
   },
   {
    "duration": 376,
    "start_time": "2022-05-20T18:46:37.741Z"
   },
   {
    "duration": 178,
    "start_time": "2022-05-20T18:48:14.025Z"
   },
   {
    "duration": 175,
    "start_time": "2022-05-20T18:48:18.804Z"
   },
   {
    "duration": 197,
    "start_time": "2022-05-20T18:48:23.716Z"
   },
   {
    "duration": 203,
    "start_time": "2022-05-20T18:48:30.212Z"
   },
   {
    "duration": 225,
    "start_time": "2022-05-20T18:48:43.507Z"
   },
   {
    "duration": 65,
    "start_time": "2022-05-21T08:31:48.574Z"
   },
   {
    "duration": 1320,
    "start_time": "2022-05-21T08:32:06.781Z"
   },
   {
    "duration": 544,
    "start_time": "2022-05-21T08:32:08.103Z"
   },
   {
    "duration": 14,
    "start_time": "2022-05-21T08:32:08.649Z"
   },
   {
    "duration": 34,
    "start_time": "2022-05-21T08:32:08.665Z"
   },
   {
    "duration": 433,
    "start_time": "2022-05-21T08:32:08.702Z"
   },
   {
    "duration": 9,
    "start_time": "2022-05-21T08:32:09.137Z"
   },
   {
    "duration": 36,
    "start_time": "2022-05-21T08:32:09.147Z"
   },
   {
    "duration": 320,
    "start_time": "2022-05-21T08:32:09.185Z"
   },
   {
    "duration": 8,
    "start_time": "2022-05-21T08:32:09.507Z"
   },
   {
    "duration": 35,
    "start_time": "2022-05-21T08:32:09.516Z"
   },
   {
    "duration": 73,
    "start_time": "2022-05-21T08:32:09.552Z"
   },
   {
    "duration": 8,
    "start_time": "2022-05-21T08:32:09.626Z"
   },
   {
    "duration": 27,
    "start_time": "2022-05-21T08:32:09.635Z"
   },
   {
    "duration": 85,
    "start_time": "2022-05-21T08:32:09.664Z"
   },
   {
    "duration": 10,
    "start_time": "2022-05-21T08:32:09.750Z"
   },
   {
    "duration": 26,
    "start_time": "2022-05-21T08:32:09.762Z"
   },
   {
    "duration": 52,
    "start_time": "2022-05-21T08:32:09.789Z"
   },
   {
    "duration": 25,
    "start_time": "2022-05-21T08:32:09.842Z"
   },
   {
    "duration": 20,
    "start_time": "2022-05-21T08:32:09.868Z"
   },
   {
    "duration": 12,
    "start_time": "2022-05-21T08:32:09.890Z"
   },
   {
    "duration": 9,
    "start_time": "2022-05-21T08:32:09.904Z"
   },
   {
    "duration": 31,
    "start_time": "2022-05-21T08:32:09.915Z"
   },
   {
    "duration": 13,
    "start_time": "2022-05-21T08:32:09.948Z"
   },
   {
    "duration": 27,
    "start_time": "2022-05-21T08:32:09.963Z"
   },
   {
    "duration": 16,
    "start_time": "2022-05-21T08:32:09.992Z"
   },
   {
    "duration": 30,
    "start_time": "2022-05-21T08:32:10.010Z"
   },
   {
    "duration": 30,
    "start_time": "2022-05-21T08:32:10.041Z"
   },
   {
    "duration": 57,
    "start_time": "2022-05-21T08:32:10.072Z"
   },
   {
    "duration": 11,
    "start_time": "2022-05-21T08:32:10.131Z"
   },
   {
    "duration": 19,
    "start_time": "2022-05-21T08:32:10.144Z"
   },
   {
    "duration": 30,
    "start_time": "2022-05-21T08:32:10.165Z"
   },
   {
    "duration": 12,
    "start_time": "2022-05-21T08:32:10.197Z"
   },
   {
    "duration": 37,
    "start_time": "2022-05-21T08:32:10.211Z"
   },
   {
    "duration": 21,
    "start_time": "2022-05-21T08:32:10.250Z"
   },
   {
    "duration": 10,
    "start_time": "2022-05-21T08:32:10.273Z"
   },
   {
    "duration": 30,
    "start_time": "2022-05-21T08:32:10.284Z"
   },
   {
    "duration": 14,
    "start_time": "2022-05-21T08:32:10.315Z"
   },
   {
    "duration": 22,
    "start_time": "2022-05-21T08:32:10.331Z"
   },
   {
    "duration": 23,
    "start_time": "2022-05-21T08:32:10.355Z"
   },
   {
    "duration": 5,
    "start_time": "2022-05-21T08:32:10.380Z"
   },
   {
    "duration": 15,
    "start_time": "2022-05-21T08:32:10.395Z"
   },
   {
    "duration": 15,
    "start_time": "2022-05-21T08:32:10.411Z"
   },
   {
    "duration": 189,
    "start_time": "2022-05-21T08:32:10.427Z"
   },
   {
    "duration": 16,
    "start_time": "2022-05-21T08:32:10.617Z"
   },
   {
    "duration": 38,
    "start_time": "2022-05-21T08:32:10.635Z"
   },
   {
    "duration": 3,
    "start_time": "2022-05-21T08:32:10.674Z"
   },
   {
    "duration": 51,
    "start_time": "2022-05-21T08:32:10.679Z"
   },
   {
    "duration": 39,
    "start_time": "2022-05-21T08:32:10.732Z"
   },
   {
    "duration": 4,
    "start_time": "2022-05-21T08:32:10.773Z"
   },
   {
    "duration": 21,
    "start_time": "2022-05-21T08:32:10.779Z"
   },
   {
    "duration": 418,
    "start_time": "2022-05-21T08:32:10.801Z"
   },
   {
    "duration": 248,
    "start_time": "2022-05-21T08:33:08.374Z"
   },
   {
    "duration": 246,
    "start_time": "2022-05-21T08:36:51.902Z"
   },
   {
    "duration": 226,
    "start_time": "2022-05-21T08:37:26.679Z"
   },
   {
    "duration": 265,
    "start_time": "2022-05-21T08:38:55.802Z"
   },
   {
    "duration": 235,
    "start_time": "2022-05-21T08:39:57.062Z"
   },
   {
    "duration": 223,
    "start_time": "2022-05-21T08:41:01.460Z"
   },
   {
    "duration": 1212,
    "start_time": "2022-05-21T10:00:25.792Z"
   },
   {
    "duration": 180,
    "start_time": "2022-05-21T10:00:27.007Z"
   },
   {
    "duration": 22,
    "start_time": "2022-05-21T10:00:27.190Z"
   },
   {
    "duration": 62,
    "start_time": "2022-05-21T10:00:27.214Z"
   },
   {
    "duration": 224,
    "start_time": "2022-05-21T10:00:27.278Z"
   },
   {
    "duration": 12,
    "start_time": "2022-05-21T10:00:27.504Z"
   },
   {
    "duration": 68,
    "start_time": "2022-05-21T10:00:27.518Z"
   },
   {
    "duration": 147,
    "start_time": "2022-05-21T10:00:27.588Z"
   },
   {
    "duration": 8,
    "start_time": "2022-05-21T10:00:27.737Z"
   },
   {
    "duration": 24,
    "start_time": "2022-05-21T10:00:27.747Z"
   },
   {
    "duration": 16,
    "start_time": "2022-05-21T10:00:27.773Z"
   },
   {
    "duration": 14,
    "start_time": "2022-05-21T10:00:27.791Z"
   },
   {
    "duration": 28,
    "start_time": "2022-05-21T10:00:27.807Z"
   },
   {
    "duration": 31,
    "start_time": "2022-05-21T10:00:27.839Z"
   },
   {
    "duration": 12,
    "start_time": "2022-05-21T10:00:27.872Z"
   },
   {
    "duration": 22,
    "start_time": "2022-05-21T10:00:27.886Z"
   },
   {
    "duration": 67,
    "start_time": "2022-05-21T10:00:27.910Z"
   },
   {
    "duration": 41,
    "start_time": "2022-05-21T10:00:27.979Z"
   },
   {
    "duration": 20,
    "start_time": "2022-05-21T10:00:28.022Z"
   },
   {
    "duration": 4,
    "start_time": "2022-05-21T10:00:28.044Z"
   },
   {
    "duration": 7,
    "start_time": "2022-05-21T10:00:28.050Z"
   },
   {
    "duration": 9,
    "start_time": "2022-05-21T10:00:28.059Z"
   },
   {
    "duration": 27,
    "start_time": "2022-05-21T10:00:28.070Z"
   },
   {
    "duration": 6,
    "start_time": "2022-05-21T10:00:28.099Z"
   },
   {
    "duration": 23,
    "start_time": "2022-05-21T10:00:28.106Z"
   },
   {
    "duration": 9,
    "start_time": "2022-05-21T10:00:28.132Z"
   },
   {
    "duration": 39,
    "start_time": "2022-05-21T10:00:28.142Z"
   },
   {
    "duration": 74,
    "start_time": "2022-05-21T10:00:28.183Z"
   },
   {
    "duration": 17,
    "start_time": "2022-05-21T10:00:28.259Z"
   },
   {
    "duration": 51,
    "start_time": "2022-05-21T10:00:28.277Z"
   },
   {
    "duration": 23,
    "start_time": "2022-05-21T10:00:28.331Z"
   },
   {
    "duration": 11,
    "start_time": "2022-05-21T10:00:28.356Z"
   },
   {
    "duration": 32,
    "start_time": "2022-05-21T10:00:28.369Z"
   },
   {
    "duration": 30,
    "start_time": "2022-05-21T10:00:28.405Z"
   },
   {
    "duration": 16,
    "start_time": "2022-05-21T10:00:28.437Z"
   },
   {
    "duration": 27,
    "start_time": "2022-05-21T10:00:28.455Z"
   },
   {
    "duration": 36,
    "start_time": "2022-05-21T10:00:28.484Z"
   },
   {
    "duration": 19,
    "start_time": "2022-05-21T10:00:28.522Z"
   },
   {
    "duration": 24,
    "start_time": "2022-05-21T10:00:28.543Z"
   },
   {
    "duration": 27,
    "start_time": "2022-05-21T10:00:28.570Z"
   },
   {
    "duration": 24,
    "start_time": "2022-05-21T10:00:28.604Z"
   },
   {
    "duration": 7,
    "start_time": "2022-05-21T10:00:28.633Z"
   },
   {
    "duration": 247,
    "start_time": "2022-05-21T10:00:28.642Z"
   },
   {
    "duration": 31,
    "start_time": "2022-05-21T10:00:28.891Z"
   },
   {
    "duration": 36,
    "start_time": "2022-05-21T10:00:28.924Z"
   },
   {
    "duration": 3,
    "start_time": "2022-05-21T10:00:28.962Z"
   },
   {
    "duration": 31,
    "start_time": "2022-05-21T10:00:28.967Z"
   },
   {
    "duration": 48,
    "start_time": "2022-05-21T10:00:29.000Z"
   },
   {
    "duration": 4,
    "start_time": "2022-05-21T10:00:29.050Z"
   },
   {
    "duration": 19,
    "start_time": "2022-05-21T10:00:29.056Z"
   },
   {
    "duration": 306,
    "start_time": "2022-05-21T10:00:29.077Z"
   },
   {
    "duration": 343,
    "start_time": "2022-05-21T10:00:29.386Z"
   },
   {
    "duration": 302,
    "start_time": "2022-05-21T10:00:29.730Z"
   },
   {
    "duration": 1129,
    "start_time": "2022-05-21T10:01:41.382Z"
   },
   {
    "duration": 182,
    "start_time": "2022-05-21T10:01:42.515Z"
   },
   {
    "duration": 23,
    "start_time": "2022-05-21T10:01:42.700Z"
   },
   {
    "duration": 33,
    "start_time": "2022-05-21T10:01:42.725Z"
   },
   {
    "duration": 158,
    "start_time": "2022-05-21T10:01:42.761Z"
   },
   {
    "duration": 11,
    "start_time": "2022-05-21T10:01:42.921Z"
   },
   {
    "duration": 30,
    "start_time": "2022-05-21T10:01:42.933Z"
   },
   {
    "duration": 113,
    "start_time": "2022-05-21T10:01:42.965Z"
   },
   {
    "duration": 10,
    "start_time": "2022-05-21T10:01:43.079Z"
   },
   {
    "duration": 39,
    "start_time": "2022-05-21T10:01:43.100Z"
   },
   {
    "duration": 22,
    "start_time": "2022-05-21T10:01:43.141Z"
   },
   {
    "duration": 8,
    "start_time": "2022-05-21T10:01:43.165Z"
   },
   {
    "duration": 38,
    "start_time": "2022-05-21T10:01:43.174Z"
   },
   {
    "duration": 34,
    "start_time": "2022-05-21T10:01:43.216Z"
   },
   {
    "duration": 10,
    "start_time": "2022-05-21T10:01:43.252Z"
   },
   {
    "duration": 26,
    "start_time": "2022-05-21T10:01:43.264Z"
   },
   {
    "duration": 69,
    "start_time": "2022-05-21T10:01:43.292Z"
   },
   {
    "duration": 32,
    "start_time": "2022-05-21T10:01:43.362Z"
   },
   {
    "duration": 35,
    "start_time": "2022-05-21T10:01:43.400Z"
   },
   {
    "duration": 9,
    "start_time": "2022-05-21T10:01:43.437Z"
   },
   {
    "duration": 21,
    "start_time": "2022-05-21T10:01:43.448Z"
   },
   {
    "duration": 21,
    "start_time": "2022-05-21T10:01:43.471Z"
   },
   {
    "duration": 39,
    "start_time": "2022-05-21T10:01:43.493Z"
   },
   {
    "duration": 13,
    "start_time": "2022-05-21T10:01:43.534Z"
   },
   {
    "duration": 20,
    "start_time": "2022-05-21T10:01:43.549Z"
   },
   {
    "duration": 21,
    "start_time": "2022-05-21T10:01:43.571Z"
   },
   {
    "duration": 57,
    "start_time": "2022-05-21T10:01:43.593Z"
   },
   {
    "duration": 71,
    "start_time": "2022-05-21T10:01:43.652Z"
   },
   {
    "duration": 17,
    "start_time": "2022-05-21T10:01:43.725Z"
   },
   {
    "duration": 42,
    "start_time": "2022-05-21T10:01:43.744Z"
   },
   {
    "duration": 45,
    "start_time": "2022-05-21T10:01:43.788Z"
   },
   {
    "duration": 29,
    "start_time": "2022-05-21T10:01:43.835Z"
   },
   {
    "duration": 47,
    "start_time": "2022-05-21T10:01:43.865Z"
   },
   {
    "duration": 40,
    "start_time": "2022-05-21T10:01:43.915Z"
   },
   {
    "duration": 12,
    "start_time": "2022-05-21T10:01:43.957Z"
   },
   {
    "duration": 35,
    "start_time": "2022-05-21T10:01:43.970Z"
   },
   {
    "duration": 20,
    "start_time": "2022-05-21T10:01:44.011Z"
   },
   {
    "duration": 23,
    "start_time": "2022-05-21T10:01:44.032Z"
   },
   {
    "duration": 20,
    "start_time": "2022-05-21T10:01:44.057Z"
   },
   {
    "duration": 22,
    "start_time": "2022-05-21T10:01:44.079Z"
   },
   {
    "duration": 24,
    "start_time": "2022-05-21T10:01:44.113Z"
   },
   {
    "duration": 19,
    "start_time": "2022-05-21T10:01:44.139Z"
   },
   {
    "duration": 252,
    "start_time": "2022-05-21T10:01:44.160Z"
   },
   {
    "duration": 22,
    "start_time": "2022-05-21T10:01:44.414Z"
   },
   {
    "duration": 61,
    "start_time": "2022-05-21T10:01:44.440Z"
   },
   {
    "duration": 15,
    "start_time": "2022-05-21T10:01:44.505Z"
   },
   {
    "duration": 58,
    "start_time": "2022-05-21T10:01:44.521Z"
   },
   {
    "duration": 39,
    "start_time": "2022-05-21T10:01:44.581Z"
   },
   {
    "duration": 12,
    "start_time": "2022-05-21T10:01:44.622Z"
   },
   {
    "duration": 38,
    "start_time": "2022-05-21T10:01:44.636Z"
   },
   {
    "duration": 293,
    "start_time": "2022-05-21T10:01:44.677Z"
   },
   {
    "duration": 348,
    "start_time": "2022-05-21T10:01:44.971Z"
   },
   {
    "duration": 301,
    "start_time": "2022-05-21T10:01:45.321Z"
   },
   {
    "duration": 330,
    "start_time": "2022-05-21T10:11:31.172Z"
   },
   {
    "duration": 305,
    "start_time": "2022-05-21T10:11:54.578Z"
   },
   {
    "duration": 283,
    "start_time": "2022-05-21T10:12:09.987Z"
   },
   {
    "duration": 294,
    "start_time": "2022-05-21T10:12:22.437Z"
   },
   {
    "duration": 264,
    "start_time": "2022-05-21T10:14:52.918Z"
   },
   {
    "duration": 302,
    "start_time": "2022-05-21T10:15:01.123Z"
   },
   {
    "duration": 204,
    "start_time": "2022-05-21T10:15:14.765Z"
   },
   {
    "duration": 300,
    "start_time": "2022-05-21T10:15:20.171Z"
   },
   {
    "duration": 318,
    "start_time": "2022-05-21T10:15:42.885Z"
   },
   {
    "duration": 327,
    "start_time": "2022-05-21T10:19:27.497Z"
   },
   {
    "duration": 251,
    "start_time": "2022-05-21T10:20:31.166Z"
   },
   {
    "duration": 265,
    "start_time": "2022-05-21T10:20:44.512Z"
   },
   {
    "duration": 473,
    "start_time": "2022-05-21T10:20:50.879Z"
   },
   {
    "duration": 307,
    "start_time": "2022-05-21T10:21:32.935Z"
   },
   {
    "duration": 267,
    "start_time": "2022-05-21T10:21:39.271Z"
   },
   {
    "duration": 52,
    "start_time": "2022-05-21T10:34:59.169Z"
   },
   {
    "duration": 5,
    "start_time": "2022-05-21T10:42:33.566Z"
   },
   {
    "duration": 6,
    "start_time": "2022-05-21T10:43:25.665Z"
   },
   {
    "duration": 8,
    "start_time": "2022-05-21T10:44:00.769Z"
   },
   {
    "duration": 8,
    "start_time": "2022-05-21T10:46:53.878Z"
   },
   {
    "duration": 10,
    "start_time": "2022-05-21T12:00:22.383Z"
   },
   {
    "duration": 32,
    "start_time": "2022-05-21T12:02:39.781Z"
   },
   {
    "duration": 1221,
    "start_time": "2022-05-21T12:05:08.896Z"
   },
   {
    "duration": 206,
    "start_time": "2022-05-21T12:05:10.119Z"
   },
   {
    "duration": 18,
    "start_time": "2022-05-21T12:05:10.327Z"
   },
   {
    "duration": 49,
    "start_time": "2022-05-21T12:05:10.348Z"
   },
   {
    "duration": 158,
    "start_time": "2022-05-21T12:05:10.400Z"
   },
   {
    "duration": 9,
    "start_time": "2022-05-21T12:05:10.560Z"
   },
   {
    "duration": 35,
    "start_time": "2022-05-21T12:05:10.571Z"
   },
   {
    "duration": 98,
    "start_time": "2022-05-21T12:05:10.612Z"
   },
   {
    "duration": 10,
    "start_time": "2022-05-21T12:05:10.711Z"
   },
   {
    "duration": 31,
    "start_time": "2022-05-21T12:05:10.723Z"
   },
   {
    "duration": 17,
    "start_time": "2022-05-21T12:05:10.757Z"
   },
   {
    "duration": 12,
    "start_time": "2022-05-21T12:05:10.776Z"
   },
   {
    "duration": 24,
    "start_time": "2022-05-21T12:05:10.790Z"
   },
   {
    "duration": 30,
    "start_time": "2022-05-21T12:05:10.818Z"
   },
   {
    "duration": 15,
    "start_time": "2022-05-21T12:05:10.850Z"
   },
   {
    "duration": 13,
    "start_time": "2022-05-21T12:05:10.867Z"
   },
   {
    "duration": 56,
    "start_time": "2022-05-21T12:05:10.881Z"
   },
   {
    "duration": 26,
    "start_time": "2022-05-21T12:05:10.939Z"
   },
   {
    "duration": 40,
    "start_time": "2022-05-21T12:05:10.967Z"
   },
   {
    "duration": 5,
    "start_time": "2022-05-21T12:05:11.013Z"
   },
   {
    "duration": 8,
    "start_time": "2022-05-21T12:05:11.021Z"
   },
   {
    "duration": 13,
    "start_time": "2022-05-21T12:05:11.031Z"
   },
   {
    "duration": 7,
    "start_time": "2022-05-21T12:05:11.048Z"
   },
   {
    "duration": 7,
    "start_time": "2022-05-21T12:05:11.056Z"
   },
   {
    "duration": 4,
    "start_time": "2022-05-21T12:05:11.065Z"
   },
   {
    "duration": 7,
    "start_time": "2022-05-21T12:05:11.071Z"
   },
   {
    "duration": 27,
    "start_time": "2022-05-21T12:05:11.095Z"
   },
   {
    "duration": 71,
    "start_time": "2022-05-21T12:05:11.124Z"
   },
   {
    "duration": 19,
    "start_time": "2022-05-21T12:05:11.197Z"
   },
   {
    "duration": 18,
    "start_time": "2022-05-21T12:05:11.218Z"
   },
   {
    "duration": 21,
    "start_time": "2022-05-21T12:05:11.238Z"
   },
   {
    "duration": 37,
    "start_time": "2022-05-21T12:05:11.260Z"
   },
   {
    "duration": 41,
    "start_time": "2022-05-21T12:05:11.301Z"
   },
   {
    "duration": 25,
    "start_time": "2022-05-21T12:05:11.344Z"
   },
   {
    "duration": 15,
    "start_time": "2022-05-21T12:05:11.371Z"
   },
   {
    "duration": 29,
    "start_time": "2022-05-21T12:05:11.388Z"
   },
   {
    "duration": 28,
    "start_time": "2022-05-21T12:05:11.420Z"
   },
   {
    "duration": 16,
    "start_time": "2022-05-21T12:05:11.450Z"
   },
   {
    "duration": 43,
    "start_time": "2022-05-21T12:05:11.468Z"
   },
   {
    "duration": 9,
    "start_time": "2022-05-21T12:05:11.519Z"
   },
   {
    "duration": 7,
    "start_time": "2022-05-21T12:05:11.534Z"
   },
   {
    "duration": 10,
    "start_time": "2022-05-21T12:05:11.543Z"
   },
   {
    "duration": 247,
    "start_time": "2022-05-21T12:05:11.554Z"
   },
   {
    "duration": 20,
    "start_time": "2022-05-21T12:05:11.810Z"
   },
   {
    "duration": 31,
    "start_time": "2022-05-21T12:05:11.833Z"
   },
   {
    "duration": 4,
    "start_time": "2022-05-21T12:05:11.866Z"
   },
   {
    "duration": 24,
    "start_time": "2022-05-21T12:05:11.872Z"
   },
   {
    "duration": 37,
    "start_time": "2022-05-21T12:05:11.898Z"
   },
   {
    "duration": 7,
    "start_time": "2022-05-21T12:05:11.937Z"
   },
   {
    "duration": 18,
    "start_time": "2022-05-21T12:05:11.946Z"
   },
   {
    "duration": 296,
    "start_time": "2022-05-21T12:05:11.966Z"
   },
   {
    "duration": 455,
    "start_time": "2022-05-21T12:05:12.264Z"
   },
   {
    "duration": 679,
    "start_time": "2022-05-21T12:05:12.721Z"
   },
   {
    "duration": 16,
    "start_time": "2022-05-21T12:05:13.405Z"
   },
   {
    "duration": 14,
    "start_time": "2022-05-21T12:05:13.425Z"
   },
   {
    "duration": 54,
    "start_time": "2022-05-21T12:05:13.441Z"
   },
   {
    "duration": 10,
    "start_time": "2022-05-21T12:07:42.664Z"
   },
   {
    "duration": 60,
    "start_time": "2022-05-21T12:13:25.793Z"
   },
   {
    "duration": 1243,
    "start_time": "2022-05-21T12:13:43.599Z"
   },
   {
    "duration": 208,
    "start_time": "2022-05-21T12:13:44.844Z"
   },
   {
    "duration": 19,
    "start_time": "2022-05-21T12:13:45.053Z"
   },
   {
    "duration": 54,
    "start_time": "2022-05-21T12:13:45.074Z"
   },
   {
    "duration": 158,
    "start_time": "2022-05-21T12:13:45.131Z"
   },
   {
    "duration": 19,
    "start_time": "2022-05-21T12:13:45.290Z"
   },
   {
    "duration": 50,
    "start_time": "2022-05-21T12:13:45.311Z"
   },
   {
    "duration": 105,
    "start_time": "2022-05-21T12:13:45.364Z"
   },
   {
    "duration": 10,
    "start_time": "2022-05-21T12:13:45.471Z"
   },
   {
    "duration": 33,
    "start_time": "2022-05-21T12:13:45.500Z"
   },
   {
    "duration": 26,
    "start_time": "2022-05-21T12:13:45.537Z"
   },
   {
    "duration": 11,
    "start_time": "2022-05-21T12:13:45.565Z"
   },
   {
    "duration": 28,
    "start_time": "2022-05-21T12:13:45.578Z"
   },
   {
    "duration": 68,
    "start_time": "2022-05-21T12:13:45.611Z"
   },
   {
    "duration": 11,
    "start_time": "2022-05-21T12:13:45.680Z"
   },
   {
    "duration": 47,
    "start_time": "2022-05-21T12:13:45.693Z"
   },
   {
    "duration": 39,
    "start_time": "2022-05-21T12:13:45.742Z"
   },
   {
    "duration": 35,
    "start_time": "2022-05-21T12:13:45.782Z"
   },
   {
    "duration": 25,
    "start_time": "2022-05-21T12:13:45.819Z"
   },
   {
    "duration": 4,
    "start_time": "2022-05-21T12:13:45.847Z"
   },
   {
    "duration": 8,
    "start_time": "2022-05-21T12:13:45.853Z"
   },
   {
    "duration": 8,
    "start_time": "2022-05-21T12:13:45.863Z"
   },
   {
    "duration": 26,
    "start_time": "2022-05-21T12:13:45.873Z"
   },
   {
    "duration": 6,
    "start_time": "2022-05-21T12:13:45.901Z"
   },
   {
    "duration": 26,
    "start_time": "2022-05-21T12:13:45.909Z"
   },
   {
    "duration": 11,
    "start_time": "2022-05-21T12:13:45.937Z"
   },
   {
    "duration": 34,
    "start_time": "2022-05-21T12:13:45.951Z"
   },
   {
    "duration": 67,
    "start_time": "2022-05-21T12:13:45.988Z"
   },
   {
    "duration": 14,
    "start_time": "2022-05-21T12:13:46.057Z"
   },
   {
    "duration": 31,
    "start_time": "2022-05-21T12:13:46.073Z"
   },
   {
    "duration": 29,
    "start_time": "2022-05-21T12:13:46.112Z"
   },
   {
    "duration": 12,
    "start_time": "2022-05-21T12:13:46.143Z"
   },
   {
    "duration": 22,
    "start_time": "2022-05-21T12:13:46.157Z"
   },
   {
    "duration": 41,
    "start_time": "2022-05-21T12:13:46.181Z"
   },
   {
    "duration": 18,
    "start_time": "2022-05-21T12:13:46.225Z"
   },
   {
    "duration": 27,
    "start_time": "2022-05-21T12:13:46.245Z"
   },
   {
    "duration": 32,
    "start_time": "2022-05-21T12:13:46.274Z"
   },
   {
    "duration": 20,
    "start_time": "2022-05-21T12:13:46.324Z"
   },
   {
    "duration": 22,
    "start_time": "2022-05-21T12:13:46.345Z"
   },
   {
    "duration": 6,
    "start_time": "2022-05-21T12:13:46.369Z"
   },
   {
    "duration": 15,
    "start_time": "2022-05-21T12:13:46.380Z"
   },
   {
    "duration": 34,
    "start_time": "2022-05-21T12:13:46.406Z"
   },
   {
    "duration": 237,
    "start_time": "2022-05-21T12:13:46.442Z"
   },
   {
    "duration": 23,
    "start_time": "2022-05-21T12:13:46.681Z"
   },
   {
    "duration": 58,
    "start_time": "2022-05-21T12:13:46.706Z"
   },
   {
    "duration": 3,
    "start_time": "2022-05-21T12:13:46.766Z"
   },
   {
    "duration": 23,
    "start_time": "2022-05-21T12:13:46.770Z"
   },
   {
    "duration": 52,
    "start_time": "2022-05-21T12:13:46.797Z"
   },
   {
    "duration": 4,
    "start_time": "2022-05-21T12:13:46.850Z"
   },
   {
    "duration": 21,
    "start_time": "2022-05-21T12:13:46.855Z"
   },
   {
    "duration": 307,
    "start_time": "2022-05-21T12:13:46.879Z"
   },
   {
    "duration": 527,
    "start_time": "2022-05-21T12:13:47.195Z"
   },
   {
    "duration": 609,
    "start_time": "2022-05-21T12:13:47.724Z"
   },
   {
    "duration": 68,
    "start_time": "2022-05-21T12:13:48.335Z"
   },
   {
    "duration": 9,
    "start_time": "2022-05-21T12:13:48.406Z"
   },
   {
    "duration": 30,
    "start_time": "2022-05-21T12:13:48.417Z"
   },
   {
    "duration": 1177,
    "start_time": "2022-05-21T12:35:53.208Z"
   },
   {
    "duration": 191,
    "start_time": "2022-05-21T12:35:54.387Z"
   },
   {
    "duration": 13,
    "start_time": "2022-05-21T12:35:54.580Z"
   },
   {
    "duration": 41,
    "start_time": "2022-05-21T12:35:54.595Z"
   },
   {
    "duration": 141,
    "start_time": "2022-05-21T12:35:54.638Z"
   },
   {
    "duration": 9,
    "start_time": "2022-05-21T12:35:54.780Z"
   },
   {
    "duration": 44,
    "start_time": "2022-05-21T12:35:54.791Z"
   },
   {
    "duration": 102,
    "start_time": "2022-05-21T12:35:54.837Z"
   },
   {
    "duration": 9,
    "start_time": "2022-05-21T12:35:54.941Z"
   },
   {
    "duration": 60,
    "start_time": "2022-05-21T12:35:54.953Z"
   },
   {
    "duration": 15,
    "start_time": "2022-05-21T12:35:55.020Z"
   },
   {
    "duration": 9,
    "start_time": "2022-05-21T12:35:55.037Z"
   },
   {
    "duration": 12,
    "start_time": "2022-05-21T12:35:55.048Z"
   },
   {
    "duration": 29,
    "start_time": "2022-05-21T12:35:55.062Z"
   },
   {
    "duration": 23,
    "start_time": "2022-05-21T12:35:55.092Z"
   },
   {
    "duration": 27,
    "start_time": "2022-05-21T12:35:55.116Z"
   },
   {
    "duration": 37,
    "start_time": "2022-05-21T12:35:55.145Z"
   },
   {
    "duration": 39,
    "start_time": "2022-05-21T12:35:55.184Z"
   },
   {
    "duration": 21,
    "start_time": "2022-05-21T12:35:55.228Z"
   },
   {
    "duration": 4,
    "start_time": "2022-05-21T12:35:55.251Z"
   },
   {
    "duration": 8,
    "start_time": "2022-05-21T12:35:55.257Z"
   },
   {
    "duration": 7,
    "start_time": "2022-05-21T12:35:55.267Z"
   },
   {
    "duration": 35,
    "start_time": "2022-05-21T12:35:55.275Z"
   },
   {
    "duration": 17,
    "start_time": "2022-05-21T12:35:55.316Z"
   },
   {
    "duration": 5,
    "start_time": "2022-05-21T12:35:55.335Z"
   },
   {
    "duration": 6,
    "start_time": "2022-05-21T12:35:55.341Z"
   },
   {
    "duration": 26,
    "start_time": "2022-05-21T12:35:55.348Z"
   },
   {
    "duration": 64,
    "start_time": "2022-05-21T12:35:55.380Z"
   },
   {
    "duration": 12,
    "start_time": "2022-05-21T12:35:55.446Z"
   },
   {
    "duration": 16,
    "start_time": "2022-05-21T12:35:55.460Z"
   },
   {
    "duration": 35,
    "start_time": "2022-05-21T12:35:55.495Z"
   },
   {
    "duration": 36,
    "start_time": "2022-05-21T12:35:55.532Z"
   },
   {
    "duration": 21,
    "start_time": "2022-05-21T12:35:55.569Z"
   },
   {
    "duration": 31,
    "start_time": "2022-05-21T12:35:55.591Z"
   },
   {
    "duration": 27,
    "start_time": "2022-05-21T12:35:55.628Z"
   },
   {
    "duration": 27,
    "start_time": "2022-05-21T12:35:55.657Z"
   },
   {
    "duration": 25,
    "start_time": "2022-05-21T12:35:55.686Z"
   },
   {
    "duration": 26,
    "start_time": "2022-05-21T12:35:55.721Z"
   },
   {
    "duration": 15,
    "start_time": "2022-05-21T12:35:55.749Z"
   },
   {
    "duration": 5,
    "start_time": "2022-05-21T12:35:55.766Z"
   },
   {
    "duration": 5,
    "start_time": "2022-05-21T12:35:55.773Z"
   },
   {
    "duration": 6,
    "start_time": "2022-05-21T12:35:55.780Z"
   },
   {
    "duration": 219,
    "start_time": "2022-05-21T12:35:55.800Z"
   },
   {
    "duration": 20,
    "start_time": "2022-05-21T12:35:56.021Z"
   },
   {
    "duration": 27,
    "start_time": "2022-05-21T12:35:56.042Z"
   },
   {
    "duration": 4,
    "start_time": "2022-05-21T12:35:56.071Z"
   },
   {
    "duration": 43,
    "start_time": "2022-05-21T12:35:56.076Z"
   },
   {
    "duration": 33,
    "start_time": "2022-05-21T12:35:56.120Z"
   },
   {
    "duration": 3,
    "start_time": "2022-05-21T12:35:56.155Z"
   },
   {
    "duration": 17,
    "start_time": "2022-05-21T12:35:56.160Z"
   },
   {
    "duration": 284,
    "start_time": "2022-05-21T12:35:56.179Z"
   },
   {
    "duration": 353,
    "start_time": "2022-05-21T12:35:56.465Z"
   },
   {
    "duration": 256,
    "start_time": "2022-05-21T12:35:56.821Z"
   },
   {
    "duration": 26,
    "start_time": "2022-05-21T12:35:57.079Z"
   },
   {
    "duration": 28,
    "start_time": "2022-05-21T12:35:57.114Z"
   },
   {
    "duration": 10,
    "start_time": "2022-05-21T12:35:57.144Z"
   },
   {
    "duration": 1291,
    "start_time": "2022-05-21T13:20:15.238Z"
   },
   {
    "duration": 222,
    "start_time": "2022-05-21T13:20:16.540Z"
   },
   {
    "duration": 15,
    "start_time": "2022-05-21T13:20:16.764Z"
   },
   {
    "duration": 60,
    "start_time": "2022-05-21T13:20:16.781Z"
   },
   {
    "duration": 189,
    "start_time": "2022-05-21T13:20:16.844Z"
   },
   {
    "duration": 13,
    "start_time": "2022-05-21T13:20:17.042Z"
   },
   {
    "duration": 36,
    "start_time": "2022-05-21T13:20:17.057Z"
   },
   {
    "duration": 138,
    "start_time": "2022-05-21T13:20:17.094Z"
   },
   {
    "duration": 18,
    "start_time": "2022-05-21T13:20:17.240Z"
   },
   {
    "duration": 58,
    "start_time": "2022-05-21T13:20:17.262Z"
   },
   {
    "duration": 45,
    "start_time": "2022-05-21T13:20:17.326Z"
   },
   {
    "duration": 11,
    "start_time": "2022-05-21T13:20:17.373Z"
   },
   {
    "duration": 47,
    "start_time": "2022-05-21T13:20:17.386Z"
   },
   {
    "duration": 48,
    "start_time": "2022-05-21T13:20:17.442Z"
   },
   {
    "duration": 22,
    "start_time": "2022-05-21T13:20:17.492Z"
   },
   {
    "duration": 57,
    "start_time": "2022-05-21T13:20:17.519Z"
   },
   {
    "duration": 83,
    "start_time": "2022-05-21T13:20:17.578Z"
   },
   {
    "duration": 30,
    "start_time": "2022-05-21T13:20:17.663Z"
   },
   {
    "duration": 76,
    "start_time": "2022-05-21T13:20:17.698Z"
   },
   {
    "duration": 5,
    "start_time": "2022-05-21T13:20:17.777Z"
   },
   {
    "duration": 40,
    "start_time": "2022-05-21T13:20:17.783Z"
   },
   {
    "duration": 28,
    "start_time": "2022-05-21T13:20:17.825Z"
   },
   {
    "duration": 13,
    "start_time": "2022-05-21T13:20:17.855Z"
   },
   {
    "duration": 44,
    "start_time": "2022-05-21T13:20:17.871Z"
   },
   {
    "duration": 39,
    "start_time": "2022-05-21T13:20:17.917Z"
   },
   {
    "duration": 6,
    "start_time": "2022-05-21T13:20:17.958Z"
   },
   {
    "duration": 89,
    "start_time": "2022-05-21T13:20:17.965Z"
   },
   {
    "duration": 167,
    "start_time": "2022-05-21T13:20:18.056Z"
   },
   {
    "duration": 71,
    "start_time": "2022-05-21T13:20:18.226Z"
   },
   {
    "duration": 66,
    "start_time": "2022-05-21T13:20:18.301Z"
   },
   {
    "duration": 30,
    "start_time": "2022-05-21T13:20:18.399Z"
   },
   {
    "duration": 67,
    "start_time": "2022-05-21T13:20:18.430Z"
   },
   {
    "duration": 91,
    "start_time": "2022-05-21T13:20:18.504Z"
   },
   {
    "duration": 43,
    "start_time": "2022-05-21T13:20:18.596Z"
   },
   {
    "duration": 73,
    "start_time": "2022-05-21T13:20:18.641Z"
   },
   {
    "duration": 96,
    "start_time": "2022-05-21T13:20:18.719Z"
   },
   {
    "duration": 18,
    "start_time": "2022-05-21T13:20:18.817Z"
   },
   {
    "duration": 70,
    "start_time": "2022-05-21T13:20:18.836Z"
   },
   {
    "duration": 98,
    "start_time": "2022-05-21T13:20:18.913Z"
   },
   {
    "duration": 9,
    "start_time": "2022-05-21T13:20:19.013Z"
   },
   {
    "duration": 30,
    "start_time": "2022-05-21T13:20:19.029Z"
   },
   {
    "duration": 42,
    "start_time": "2022-05-21T13:20:19.100Z"
   },
   {
    "duration": 559,
    "start_time": "2022-05-21T13:20:19.144Z"
   },
   {
    "duration": 22,
    "start_time": "2022-05-21T13:20:19.705Z"
   },
   {
    "duration": 46,
    "start_time": "2022-05-21T13:20:19.729Z"
   },
   {
    "duration": 5,
    "start_time": "2022-05-21T13:20:19.777Z"
   },
   {
    "duration": 78,
    "start_time": "2022-05-21T13:20:19.784Z"
   },
   {
    "duration": 26,
    "start_time": "2022-05-21T13:20:19.864Z"
   },
   {
    "duration": 14,
    "start_time": "2022-05-21T13:20:19.891Z"
   },
   {
    "duration": 53,
    "start_time": "2022-05-21T13:20:19.907Z"
   },
   {
    "duration": 305,
    "start_time": "2022-05-21T13:20:19.961Z"
   },
   {
    "duration": 401,
    "start_time": "2022-05-21T13:20:20.268Z"
   },
   {
    "duration": 294,
    "start_time": "2022-05-21T13:20:20.672Z"
   },
   {
    "duration": 8,
    "start_time": "2022-05-21T13:20:20.968Z"
   },
   {
    "duration": 51,
    "start_time": "2022-05-21T13:20:20.978Z"
   },
   {
    "duration": 7,
    "start_time": "2022-05-21T13:25:23.677Z"
   },
   {
    "duration": 16,
    "start_time": "2022-05-21T13:25:36.224Z"
   },
   {
    "duration": 32,
    "start_time": "2022-05-21T13:25:49.163Z"
   },
   {
    "duration": 11,
    "start_time": "2022-05-21T13:26:43.427Z"
   },
   {
    "duration": 6,
    "start_time": "2022-05-21T13:27:34.171Z"
   },
   {
    "duration": 12,
    "start_time": "2022-05-21T13:27:35.425Z"
   },
   {
    "duration": 199,
    "start_time": "2022-05-21T13:28:55.936Z"
   },
   {
    "duration": 5,
    "start_time": "2022-05-21T13:29:33.434Z"
   },
   {
    "duration": 5,
    "start_time": "2022-05-21T13:30:20.469Z"
   },
   {
    "duration": 1127,
    "start_time": "2022-05-21T13:31:45.159Z"
   },
   {
    "duration": 201,
    "start_time": "2022-05-21T13:31:46.288Z"
   },
   {
    "duration": 33,
    "start_time": "2022-05-21T13:31:46.490Z"
   },
   {
    "duration": 37,
    "start_time": "2022-05-21T13:31:46.527Z"
   },
   {
    "duration": 173,
    "start_time": "2022-05-21T13:31:46.566Z"
   },
   {
    "duration": 8,
    "start_time": "2022-05-21T13:31:46.741Z"
   },
   {
    "duration": 24,
    "start_time": "2022-05-21T13:31:46.751Z"
   },
   {
    "duration": 124,
    "start_time": "2022-05-21T13:31:46.777Z"
   },
   {
    "duration": 10,
    "start_time": "2022-05-21T13:31:46.902Z"
   },
   {
    "duration": 46,
    "start_time": "2022-05-21T13:31:46.913Z"
   },
   {
    "duration": 16,
    "start_time": "2022-05-21T13:31:46.961Z"
   },
   {
    "duration": 9,
    "start_time": "2022-05-21T13:31:46.978Z"
   },
   {
    "duration": 15,
    "start_time": "2022-05-21T13:31:46.988Z"
   },
   {
    "duration": 60,
    "start_time": "2022-05-21T13:31:47.007Z"
   },
   {
    "duration": 10,
    "start_time": "2022-05-21T13:31:47.069Z"
   },
   {
    "duration": 17,
    "start_time": "2022-05-21T13:31:47.081Z"
   },
   {
    "duration": 71,
    "start_time": "2022-05-21T13:31:47.100Z"
   },
   {
    "duration": 35,
    "start_time": "2022-05-21T13:31:47.172Z"
   },
   {
    "duration": 38,
    "start_time": "2022-05-21T13:31:47.220Z"
   },
   {
    "duration": 10,
    "start_time": "2022-05-21T13:31:47.261Z"
   },
   {
    "duration": 18,
    "start_time": "2022-05-21T13:31:47.274Z"
   },
   {
    "duration": 51,
    "start_time": "2022-05-21T13:31:47.294Z"
   },
   {
    "duration": 9,
    "start_time": "2022-05-21T13:31:47.347Z"
   },
   {
    "duration": 18,
    "start_time": "2022-05-21T13:31:47.359Z"
   },
   {
    "duration": 11,
    "start_time": "2022-05-21T13:31:47.379Z"
   },
   {
    "duration": 42,
    "start_time": "2022-05-21T13:31:47.392Z"
   },
   {
    "duration": 31,
    "start_time": "2022-05-21T13:31:47.438Z"
   },
   {
    "duration": 76,
    "start_time": "2022-05-21T13:31:47.472Z"
   },
   {
    "duration": 18,
    "start_time": "2022-05-21T13:31:47.550Z"
   },
   {
    "duration": 24,
    "start_time": "2022-05-21T13:31:47.570Z"
   },
   {
    "duration": 53,
    "start_time": "2022-05-21T13:31:47.596Z"
   },
   {
    "duration": 15,
    "start_time": "2022-05-21T13:31:47.651Z"
   },
   {
    "duration": 25,
    "start_time": "2022-05-21T13:31:47.668Z"
   },
   {
    "duration": 29,
    "start_time": "2022-05-21T13:31:47.694Z"
   },
   {
    "duration": 23,
    "start_time": "2022-05-21T13:31:47.725Z"
   },
   {
    "duration": 23,
    "start_time": "2022-05-21T13:31:47.749Z"
   },
   {
    "duration": 29,
    "start_time": "2022-05-21T13:31:47.774Z"
   },
   {
    "duration": 44,
    "start_time": "2022-05-21T13:31:47.805Z"
   },
   {
    "duration": 17,
    "start_time": "2022-05-21T13:31:47.850Z"
   },
   {
    "duration": 6,
    "start_time": "2022-05-21T13:31:47.869Z"
   },
   {
    "duration": 5,
    "start_time": "2022-05-21T13:31:47.880Z"
   },
   {
    "duration": 46,
    "start_time": "2022-05-21T13:31:47.887Z"
   },
   {
    "duration": 214,
    "start_time": "2022-05-21T13:31:47.935Z"
   },
   {
    "duration": 15,
    "start_time": "2022-05-21T13:31:48.150Z"
   },
   {
    "duration": 35,
    "start_time": "2022-05-21T13:31:48.167Z"
   },
   {
    "duration": 15,
    "start_time": "2022-05-21T13:31:48.211Z"
   },
   {
    "duration": 33,
    "start_time": "2022-05-21T13:31:48.233Z"
   },
   {
    "duration": 41,
    "start_time": "2022-05-21T13:31:48.269Z"
   },
   {
    "duration": 11,
    "start_time": "2022-05-21T13:31:48.314Z"
   },
   {
    "duration": 31,
    "start_time": "2022-05-21T13:31:48.326Z"
   },
   {
    "duration": 294,
    "start_time": "2022-05-21T13:31:48.359Z"
   },
   {
    "duration": 361,
    "start_time": "2022-05-21T13:31:48.655Z"
   },
   {
    "duration": 265,
    "start_time": "2022-05-21T13:31:49.026Z"
   },
   {
    "duration": 8,
    "start_time": "2022-05-21T13:31:49.294Z"
   },
   {
    "duration": 39,
    "start_time": "2022-05-21T13:31:49.304Z"
   },
   {
    "duration": 6,
    "start_time": "2022-05-21T13:31:49.345Z"
   },
   {
    "duration": 9,
    "start_time": "2022-05-21T13:31:49.353Z"
   },
   {
    "duration": 1175,
    "start_time": "2022-05-21T13:37:02.561Z"
   },
   {
    "duration": 199,
    "start_time": "2022-05-21T13:37:03.739Z"
   },
   {
    "duration": 16,
    "start_time": "2022-05-21T13:37:03.940Z"
   },
   {
    "duration": 25,
    "start_time": "2022-05-21T13:37:03.957Z"
   },
   {
    "duration": 185,
    "start_time": "2022-05-21T13:37:03.985Z"
   },
   {
    "duration": 9,
    "start_time": "2022-05-21T13:37:04.172Z"
   },
   {
    "duration": 56,
    "start_time": "2022-05-21T13:37:04.182Z"
   },
   {
    "duration": 106,
    "start_time": "2022-05-21T13:37:04.240Z"
   },
   {
    "duration": 8,
    "start_time": "2022-05-21T13:37:04.348Z"
   },
   {
    "duration": 21,
    "start_time": "2022-05-21T13:37:04.357Z"
   },
   {
    "duration": 20,
    "start_time": "2022-05-21T13:37:04.379Z"
   },
   {
    "duration": 12,
    "start_time": "2022-05-21T13:37:04.401Z"
   },
   {
    "duration": 29,
    "start_time": "2022-05-21T13:37:04.420Z"
   },
   {
    "duration": 28,
    "start_time": "2022-05-21T13:37:04.452Z"
   },
   {
    "duration": 13,
    "start_time": "2022-05-21T13:37:04.482Z"
   },
   {
    "duration": 51,
    "start_time": "2022-05-21T13:37:04.497Z"
   },
   {
    "duration": 41,
    "start_time": "2022-05-21T13:37:04.549Z"
   },
   {
    "duration": 42,
    "start_time": "2022-05-21T13:37:04.592Z"
   },
   {
    "duration": 32,
    "start_time": "2022-05-21T13:37:04.638Z"
   },
   {
    "duration": 4,
    "start_time": "2022-05-21T13:37:04.671Z"
   },
   {
    "duration": 8,
    "start_time": "2022-05-21T13:37:04.676Z"
   },
   {
    "duration": 15,
    "start_time": "2022-05-21T13:37:04.686Z"
   },
   {
    "duration": 30,
    "start_time": "2022-05-21T13:37:04.708Z"
   },
   {
    "duration": 6,
    "start_time": "2022-05-21T13:37:04.740Z"
   },
   {
    "duration": 5,
    "start_time": "2022-05-21T13:37:04.748Z"
   },
   {
    "duration": 5,
    "start_time": "2022-05-21T13:37:04.754Z"
   },
   {
    "duration": 24,
    "start_time": "2022-05-21T13:37:04.761Z"
   },
   {
    "duration": 64,
    "start_time": "2022-05-21T13:37:04.786Z"
   },
   {
    "duration": 13,
    "start_time": "2022-05-21T13:37:04.852Z"
   },
   {
    "duration": 15,
    "start_time": "2022-05-21T13:37:04.867Z"
   },
   {
    "duration": 28,
    "start_time": "2022-05-21T13:37:04.901Z"
   },
   {
    "duration": 35,
    "start_time": "2022-05-21T13:37:04.930Z"
   },
   {
    "duration": 20,
    "start_time": "2022-05-21T13:37:04.967Z"
   },
   {
    "duration": 31,
    "start_time": "2022-05-21T13:37:04.988Z"
   },
   {
    "duration": 21,
    "start_time": "2022-05-21T13:37:05.024Z"
   },
   {
    "duration": 22,
    "start_time": "2022-05-21T13:37:05.046Z"
   },
   {
    "duration": 14,
    "start_time": "2022-05-21T13:37:05.070Z"
   },
   {
    "duration": 17,
    "start_time": "2022-05-21T13:37:05.085Z"
   },
   {
    "duration": 46,
    "start_time": "2022-05-21T13:37:05.104Z"
   },
   {
    "duration": 5,
    "start_time": "2022-05-21T13:37:05.151Z"
   },
   {
    "duration": 5,
    "start_time": "2022-05-21T13:37:05.159Z"
   },
   {
    "duration": 6,
    "start_time": "2022-05-21T13:37:05.165Z"
   },
   {
    "duration": 216,
    "start_time": "2022-05-21T13:37:05.172Z"
   },
   {
    "duration": 28,
    "start_time": "2022-05-21T13:37:05.390Z"
   },
   {
    "duration": 51,
    "start_time": "2022-05-21T13:37:05.426Z"
   },
   {
    "duration": 7,
    "start_time": "2022-05-21T13:37:05.478Z"
   },
   {
    "duration": 88,
    "start_time": "2022-05-21T13:37:05.488Z"
   },
   {
    "duration": 101,
    "start_time": "2022-05-21T13:37:05.578Z"
   },
   {
    "duration": 4,
    "start_time": "2022-05-21T13:37:05.681Z"
   },
   {
    "duration": 77,
    "start_time": "2022-05-21T13:37:05.687Z"
   },
   {
    "duration": 367,
    "start_time": "2022-05-21T13:37:05.766Z"
   },
   {
    "duration": 349,
    "start_time": "2022-05-21T13:37:06.135Z"
   },
   {
    "duration": 265,
    "start_time": "2022-05-21T13:37:06.486Z"
   },
   {
    "duration": 8,
    "start_time": "2022-05-21T13:37:06.753Z"
   },
   {
    "duration": 7,
    "start_time": "2022-05-21T13:37:06.763Z"
   },
   {
    "duration": 5,
    "start_time": "2022-05-21T13:37:06.772Z"
   },
   {
    "duration": 37,
    "start_time": "2022-05-21T13:37:06.778Z"
   },
   {
    "duration": 1157,
    "start_time": "2022-05-21T13:38:08.968Z"
   },
   {
    "duration": 200,
    "start_time": "2022-05-21T13:38:10.127Z"
   },
   {
    "duration": 14,
    "start_time": "2022-05-21T13:38:10.333Z"
   },
   {
    "duration": 25,
    "start_time": "2022-05-21T13:38:10.349Z"
   },
   {
    "duration": 165,
    "start_time": "2022-05-21T13:38:10.377Z"
   },
   {
    "duration": 9,
    "start_time": "2022-05-21T13:38:10.543Z"
   },
   {
    "duration": 22,
    "start_time": "2022-05-21T13:38:10.553Z"
   },
   {
    "duration": 116,
    "start_time": "2022-05-21T13:38:10.577Z"
   },
   {
    "duration": 23,
    "start_time": "2022-05-21T13:38:10.702Z"
   },
   {
    "duration": 31,
    "start_time": "2022-05-21T13:38:10.727Z"
   },
   {
    "duration": 74,
    "start_time": "2022-05-21T13:38:10.759Z"
   },
   {
    "duration": 11,
    "start_time": "2022-05-21T13:38:10.835Z"
   },
   {
    "duration": 45,
    "start_time": "2022-05-21T13:38:10.847Z"
   },
   {
    "duration": 64,
    "start_time": "2022-05-21T13:38:10.896Z"
   },
   {
    "duration": 10,
    "start_time": "2022-05-21T13:38:10.961Z"
   },
   {
    "duration": 35,
    "start_time": "2022-05-21T13:38:10.972Z"
   },
   {
    "duration": 66,
    "start_time": "2022-05-21T13:38:11.009Z"
   },
   {
    "duration": 44,
    "start_time": "2022-05-21T13:38:11.076Z"
   },
   {
    "duration": 23,
    "start_time": "2022-05-21T13:38:11.129Z"
   },
   {
    "duration": 4,
    "start_time": "2022-05-21T13:38:11.153Z"
   },
   {
    "duration": 8,
    "start_time": "2022-05-21T13:38:11.159Z"
   },
   {
    "duration": 6,
    "start_time": "2022-05-21T13:38:11.169Z"
   },
   {
    "duration": 4,
    "start_time": "2022-05-21T13:38:11.177Z"
   },
   {
    "duration": 9,
    "start_time": "2022-05-21T13:38:11.183Z"
   },
   {
    "duration": 48,
    "start_time": "2022-05-21T13:38:11.193Z"
   },
   {
    "duration": 5,
    "start_time": "2022-05-21T13:38:11.243Z"
   },
   {
    "duration": 26,
    "start_time": "2022-05-21T13:38:11.249Z"
   },
   {
    "duration": 69,
    "start_time": "2022-05-21T13:38:11.277Z"
   },
   {
    "duration": 12,
    "start_time": "2022-05-21T13:38:11.348Z"
   },
   {
    "duration": 15,
    "start_time": "2022-05-21T13:38:11.362Z"
   },
   {
    "duration": 45,
    "start_time": "2022-05-21T13:38:11.378Z"
   },
   {
    "duration": 17,
    "start_time": "2022-05-21T13:38:11.425Z"
   },
   {
    "duration": 29,
    "start_time": "2022-05-21T13:38:11.443Z"
   },
   {
    "duration": 37,
    "start_time": "2022-05-21T13:38:11.474Z"
   },
   {
    "duration": 15,
    "start_time": "2022-05-21T13:38:11.516Z"
   },
   {
    "duration": 28,
    "start_time": "2022-05-21T13:38:11.532Z"
   },
   {
    "duration": 15,
    "start_time": "2022-05-21T13:38:11.562Z"
   },
   {
    "duration": 25,
    "start_time": "2022-05-21T13:38:11.579Z"
   },
   {
    "duration": 40,
    "start_time": "2022-05-21T13:38:11.609Z"
   },
   {
    "duration": 5,
    "start_time": "2022-05-21T13:38:11.651Z"
   },
   {
    "duration": 6,
    "start_time": "2022-05-21T13:38:11.659Z"
   },
   {
    "duration": 5,
    "start_time": "2022-05-21T13:38:11.667Z"
   },
   {
    "duration": 210,
    "start_time": "2022-05-21T13:38:11.674Z"
   },
   {
    "duration": 22,
    "start_time": "2022-05-21T13:38:11.886Z"
   },
   {
    "duration": 46,
    "start_time": "2022-05-21T13:38:11.918Z"
   },
   {
    "duration": 3,
    "start_time": "2022-05-21T13:38:11.965Z"
   },
   {
    "duration": 21,
    "start_time": "2022-05-21T13:38:11.970Z"
   },
   {
    "duration": 57,
    "start_time": "2022-05-21T13:38:11.993Z"
   },
   {
    "duration": 3,
    "start_time": "2022-05-21T13:38:12.052Z"
   },
   {
    "duration": 18,
    "start_time": "2022-05-21T13:38:12.056Z"
   },
   {
    "duration": 274,
    "start_time": "2022-05-21T13:38:12.076Z"
   },
   {
    "duration": 333,
    "start_time": "2022-05-21T13:38:12.352Z"
   },
   {
    "duration": 263,
    "start_time": "2022-05-21T13:38:12.687Z"
   },
   {
    "duration": 9,
    "start_time": "2022-05-21T13:38:12.952Z"
   },
   {
    "duration": 9,
    "start_time": "2022-05-21T13:38:12.962Z"
   },
   {
    "duration": 24,
    "start_time": "2022-05-21T13:38:12.972Z"
   },
   {
    "duration": 14,
    "start_time": "2022-05-21T13:38:12.997Z"
   },
   {
    "duration": 1503,
    "start_time": "2022-05-21T17:03:32.326Z"
   },
   {
    "duration": 237,
    "start_time": "2022-05-21T17:03:33.832Z"
   },
   {
    "duration": 15,
    "start_time": "2022-05-21T17:03:34.071Z"
   },
   {
    "duration": 28,
    "start_time": "2022-05-21T17:03:35.884Z"
   },
   {
    "duration": 325,
    "start_time": "2022-05-21T17:03:38.219Z"
   },
   {
    "duration": 9,
    "start_time": "2022-05-21T17:03:38.698Z"
   },
   {
    "duration": 22,
    "start_time": "2022-05-21T17:03:39.005Z"
   },
   {
    "duration": 140,
    "start_time": "2022-05-21T17:03:39.570Z"
   },
   {
    "duration": 8,
    "start_time": "2022-05-21T17:03:39.884Z"
   },
   {
    "duration": 21,
    "start_time": "2022-05-21T17:03:40.202Z"
   },
   {
    "duration": 34,
    "start_time": "2022-05-21T17:03:40.789Z"
   },
   {
    "duration": 18,
    "start_time": "2022-05-21T17:03:41.118Z"
   },
   {
    "duration": 12,
    "start_time": "2022-05-21T17:03:41.449Z"
   },
   {
    "duration": 45,
    "start_time": "2022-05-21T17:03:44.650Z"
   },
   {
    "duration": 10,
    "start_time": "2022-05-21T17:03:44.893Z"
   },
   {
    "duration": 11,
    "start_time": "2022-05-21T17:03:45.088Z"
   },
   {
    "duration": 36,
    "start_time": "2022-05-21T17:05:20.262Z"
   },
   {
    "duration": 32,
    "start_time": "2022-05-21T17:05:20.749Z"
   },
   {
    "duration": 21,
    "start_time": "2022-05-21T17:05:21.103Z"
   },
   {
    "duration": 6,
    "start_time": "2022-05-21T17:05:21.411Z"
   },
   {
    "duration": 5,
    "start_time": "2022-05-21T17:05:21.640Z"
   },
   {
    "duration": 6,
    "start_time": "2022-05-21T17:16:16.942Z"
   },
   {
    "duration": 5,
    "start_time": "2022-05-21T17:16:17.262Z"
   },
   {
    "duration": 1162,
    "start_time": "2022-05-21T17:16:24.262Z"
   },
   {
    "duration": 179,
    "start_time": "2022-05-21T17:16:25.438Z"
   },
   {
    "duration": 23,
    "start_time": "2022-05-21T17:16:25.619Z"
   },
   {
    "duration": 30,
    "start_time": "2022-05-21T17:16:25.643Z"
   },
   {
    "duration": 157,
    "start_time": "2022-05-21T17:16:25.675Z"
   },
   {
    "duration": 11,
    "start_time": "2022-05-21T17:16:25.838Z"
   },
   {
    "duration": 25,
    "start_time": "2022-05-21T17:16:25.850Z"
   },
   {
    "duration": 100,
    "start_time": "2022-05-21T17:16:25.877Z"
   },
   {
    "duration": 8,
    "start_time": "2022-05-21T17:16:25.979Z"
   },
   {
    "duration": 32,
    "start_time": "2022-05-21T17:16:25.989Z"
   },
   {
    "duration": 19,
    "start_time": "2022-05-21T17:16:26.022Z"
   },
   {
    "duration": 10,
    "start_time": "2022-05-21T17:16:26.044Z"
   },
   {
    "duration": 14,
    "start_time": "2022-05-21T17:16:26.056Z"
   },
   {
    "duration": 18,
    "start_time": "2022-05-21T17:16:26.074Z"
   },
   {
    "duration": 10,
    "start_time": "2022-05-21T17:16:26.094Z"
   },
   {
    "duration": 35,
    "start_time": "2022-05-21T17:16:26.106Z"
   },
   {
    "duration": 40,
    "start_time": "2022-05-21T17:16:26.144Z"
   },
   {
    "duration": 27,
    "start_time": "2022-05-21T17:16:26.186Z"
   },
   {
    "duration": 32,
    "start_time": "2022-05-21T17:16:26.215Z"
   },
   {
    "duration": 5,
    "start_time": "2022-05-21T17:16:26.248Z"
   },
   {
    "duration": 8,
    "start_time": "2022-05-21T17:16:26.255Z"
   },
   {
    "duration": 13,
    "start_time": "2022-05-21T17:16:26.264Z"
   },
   {
    "duration": 7,
    "start_time": "2022-05-21T17:16:26.279Z"
   },
   {
    "duration": 6,
    "start_time": "2022-05-21T17:16:26.287Z"
   },
   {
    "duration": 7,
    "start_time": "2022-05-21T17:16:26.295Z"
   },
   {
    "duration": 5,
    "start_time": "2022-05-21T17:16:28.990Z"
   },
   {
    "duration": 21,
    "start_time": "2022-05-21T17:16:34.749Z"
   },
   {
    "duration": 59,
    "start_time": "2022-05-21T17:16:49.248Z"
   },
   {
    "duration": 126,
    "start_time": "2022-05-21T17:17:56.449Z"
   },
   {
    "duration": 3,
    "start_time": "2022-05-21T17:18:01.358Z"
   },
   {
    "duration": 241,
    "start_time": "2022-05-21T17:18:01.363Z"
   },
   {
    "duration": 9,
    "start_time": "2022-05-21T17:18:03.584Z"
   },
   {
    "duration": 45,
    "start_time": "2022-05-21T17:18:03.595Z"
   },
   {
    "duration": 178,
    "start_time": "2022-05-21T17:18:03.641Z"
   },
   {
    "duration": 23,
    "start_time": "2022-05-21T17:18:03.822Z"
   },
   {
    "duration": 25,
    "start_time": "2022-05-21T17:18:03.847Z"
   },
   {
    "duration": 98,
    "start_time": "2022-05-21T17:18:03.874Z"
   },
   {
    "duration": 9,
    "start_time": "2022-05-21T17:18:03.974Z"
   },
   {
    "duration": 24,
    "start_time": "2022-05-21T17:18:03.984Z"
   },
   {
    "duration": 14,
    "start_time": "2022-05-21T17:18:04.027Z"
   },
   {
    "duration": 11,
    "start_time": "2022-05-21T17:18:04.043Z"
   },
   {
    "duration": 14,
    "start_time": "2022-05-21T17:18:04.056Z"
   },
   {
    "duration": 20,
    "start_time": "2022-05-21T17:18:04.072Z"
   },
   {
    "duration": 11,
    "start_time": "2022-05-21T17:18:04.093Z"
   },
   {
    "duration": 23,
    "start_time": "2022-05-21T17:18:04.106Z"
   },
   {
    "duration": 49,
    "start_time": "2022-05-21T17:18:04.131Z"
   },
   {
    "duration": 40,
    "start_time": "2022-05-21T17:18:04.182Z"
   },
   {
    "duration": 32,
    "start_time": "2022-05-21T17:18:04.226Z"
   },
   {
    "duration": 5,
    "start_time": "2022-05-21T17:18:04.260Z"
   },
   {
    "duration": 10,
    "start_time": "2022-05-21T17:18:04.267Z"
   },
   {
    "duration": 13,
    "start_time": "2022-05-21T17:18:04.279Z"
   },
   {
    "duration": 6,
    "start_time": "2022-05-21T17:18:04.294Z"
   },
   {
    "duration": 26,
    "start_time": "2022-05-21T17:18:04.302Z"
   },
   {
    "duration": 30,
    "start_time": "2022-05-21T17:18:04.331Z"
   },
   {
    "duration": 7,
    "start_time": "2022-05-21T17:18:04.365Z"
   },
   {
    "duration": 35,
    "start_time": "2022-05-21T17:18:04.374Z"
   },
   {
    "duration": 61,
    "start_time": "2022-05-21T17:18:04.412Z"
   },
   {
    "duration": 22,
    "start_time": "2022-05-21T17:18:04.476Z"
   },
   {
    "duration": 37,
    "start_time": "2022-05-21T17:18:04.500Z"
   },
   {
    "duration": 24,
    "start_time": "2022-05-21T17:18:04.539Z"
   },
   {
    "duration": 22,
    "start_time": "2022-05-21T17:18:04.565Z"
   },
   {
    "duration": 29,
    "start_time": "2022-05-21T17:18:04.589Z"
   },
   {
    "duration": 33,
    "start_time": "2022-05-21T17:18:04.620Z"
   },
   {
    "duration": 22,
    "start_time": "2022-05-21T17:18:04.655Z"
   },
   {
    "duration": 24,
    "start_time": "2022-05-21T17:18:04.679Z"
   },
   {
    "duration": 22,
    "start_time": "2022-05-21T17:18:09.161Z"
   },
   {
    "duration": 36,
    "start_time": "2022-05-21T17:18:16.508Z"
   },
   {
    "duration": 15,
    "start_time": "2022-05-21T17:19:18.308Z"
   },
   {
    "duration": 692,
    "start_time": "2022-05-21T17:20:12.610Z"
   },
   {
    "duration": 15,
    "start_time": "2022-05-21T17:20:22.851Z"
   },
   {
    "duration": 20,
    "start_time": "2022-05-21T17:20:36.792Z"
   },
   {
    "duration": 18,
    "start_time": "2022-05-21T17:22:37.632Z"
   },
   {
    "duration": 14,
    "start_time": "2022-05-21T17:22:38.075Z"
   },
   {
    "duration": 14,
    "start_time": "2022-05-21T17:22:39.584Z"
   },
   {
    "duration": 6,
    "start_time": "2022-05-21T17:22:42.651Z"
   },
   {
    "duration": 6,
    "start_time": "2022-05-21T17:23:29.067Z"
   },
   {
    "duration": 15,
    "start_time": "2022-05-21T17:23:41.046Z"
   },
   {
    "duration": 15,
    "start_time": "2022-05-21T17:23:43.896Z"
   },
   {
    "duration": 8,
    "start_time": "2022-05-21T17:23:54.061Z"
   },
   {
    "duration": 186,
    "start_time": "2022-05-21T17:23:54.611Z"
   },
   {
    "duration": 19,
    "start_time": "2022-05-21T17:23:56.475Z"
   },
   {
    "duration": 15,
    "start_time": "2022-05-21T17:24:13.862Z"
   },
   {
    "duration": 28,
    "start_time": "2022-05-21T17:25:16.420Z"
   },
   {
    "duration": 5,
    "start_time": "2022-05-21T17:25:19.571Z"
   },
   {
    "duration": 24,
    "start_time": "2022-05-21T17:25:20.348Z"
   },
   {
    "duration": 36,
    "start_time": "2022-05-21T17:25:21.805Z"
   },
   {
    "duration": 911,
    "start_time": "2022-05-21T17:25:47.949Z"
   },
   {
    "duration": 1215,
    "start_time": "2022-05-21T17:26:01.696Z"
   },
   {
    "duration": 182,
    "start_time": "2022-05-21T17:26:02.914Z"
   },
   {
    "duration": 34,
    "start_time": "2022-05-21T17:26:03.097Z"
   },
   {
    "duration": 32,
    "start_time": "2022-05-21T17:26:03.135Z"
   },
   {
    "duration": 162,
    "start_time": "2022-05-21T17:26:03.170Z"
   },
   {
    "duration": 13,
    "start_time": "2022-05-21T17:26:03.334Z"
   },
   {
    "duration": 47,
    "start_time": "2022-05-21T17:26:03.349Z"
   },
   {
    "duration": 116,
    "start_time": "2022-05-21T17:26:03.398Z"
   },
   {
    "duration": 9,
    "start_time": "2022-05-21T17:26:03.515Z"
   },
   {
    "duration": 59,
    "start_time": "2022-05-21T17:26:03.532Z"
   },
   {
    "duration": 14,
    "start_time": "2022-05-21T17:26:03.593Z"
   },
   {
    "duration": 46,
    "start_time": "2022-05-21T17:26:03.608Z"
   },
   {
    "duration": 22,
    "start_time": "2022-05-21T17:26:03.656Z"
   },
   {
    "duration": 19,
    "start_time": "2022-05-21T17:26:03.682Z"
   },
   {
    "duration": 17,
    "start_time": "2022-05-21T17:26:03.703Z"
   },
   {
    "duration": 40,
    "start_time": "2022-05-21T17:26:03.722Z"
   },
   {
    "duration": 53,
    "start_time": "2022-05-21T17:26:03.764Z"
   },
   {
    "duration": 37,
    "start_time": "2022-05-21T17:26:03.819Z"
   },
   {
    "duration": 22,
    "start_time": "2022-05-21T17:26:03.858Z"
   },
   {
    "duration": 5,
    "start_time": "2022-05-21T17:26:03.882Z"
   },
   {
    "duration": 10,
    "start_time": "2022-05-21T17:26:03.889Z"
   },
   {
    "duration": 28,
    "start_time": "2022-05-21T17:26:03.901Z"
   },
   {
    "duration": 21,
    "start_time": "2022-05-21T17:26:03.931Z"
   },
   {
    "duration": 21,
    "start_time": "2022-05-21T17:26:03.954Z"
   },
   {
    "duration": 13,
    "start_time": "2022-05-21T17:26:03.977Z"
   },
   {
    "duration": 9,
    "start_time": "2022-05-21T17:26:03.993Z"
   },
   {
    "duration": 38,
    "start_time": "2022-05-21T17:26:04.005Z"
   },
   {
    "duration": 69,
    "start_time": "2022-05-21T17:26:04.050Z"
   },
   {
    "duration": 33,
    "start_time": "2022-05-21T17:26:04.121Z"
   },
   {
    "duration": 34,
    "start_time": "2022-05-21T17:26:04.156Z"
   },
   {
    "duration": 24,
    "start_time": "2022-05-21T17:26:04.192Z"
   },
   {
    "duration": 17,
    "start_time": "2022-05-21T17:26:04.218Z"
   },
   {
    "duration": 41,
    "start_time": "2022-05-21T17:26:04.237Z"
   },
   {
    "duration": 27,
    "start_time": "2022-05-21T17:26:04.281Z"
   },
   {
    "duration": 10,
    "start_time": "2022-05-21T17:26:04.310Z"
   },
   {
    "duration": 47,
    "start_time": "2022-05-21T17:26:04.322Z"
   },
   {
    "duration": 32,
    "start_time": "2022-05-21T17:26:04.371Z"
   },
   {
    "duration": 30,
    "start_time": "2022-05-21T17:26:04.406Z"
   },
   {
    "duration": 43,
    "start_time": "2022-05-21T17:26:04.445Z"
   },
   {
    "duration": 20,
    "start_time": "2022-05-21T17:26:04.491Z"
   },
   {
    "duration": 34,
    "start_time": "2022-05-21T17:26:04.513Z"
   },
   {
    "duration": 28,
    "start_time": "2022-05-21T17:26:04.551Z"
   },
   {
    "duration": 19,
    "start_time": "2022-05-21T17:26:04.581Z"
   },
   {
    "duration": 241,
    "start_time": "2022-05-21T17:26:04.602Z"
   },
   {
    "duration": 17,
    "start_time": "2022-05-21T17:26:04.845Z"
   },
   {
    "duration": 31,
    "start_time": "2022-05-21T17:26:04.863Z"
   },
   {
    "duration": 3,
    "start_time": "2022-05-21T17:26:04.897Z"
   },
   {
    "duration": 42,
    "start_time": "2022-05-21T17:26:04.902Z"
   },
   {
    "duration": 41,
    "start_time": "2022-05-21T17:26:04.945Z"
   },
   {
    "duration": 4,
    "start_time": "2022-05-21T17:26:04.988Z"
   },
   {
    "duration": 26,
    "start_time": "2022-05-21T17:26:04.994Z"
   },
   {
    "duration": 32,
    "start_time": "2022-05-21T17:26:06.852Z"
   },
   {
    "duration": 7,
    "start_time": "2022-05-21T17:26:07.625Z"
   },
   {
    "duration": 19,
    "start_time": "2022-05-21T17:26:08.253Z"
   },
   {
    "duration": 34,
    "start_time": "2022-05-21T17:26:09.681Z"
   },
   {
    "duration": 4,
    "start_time": "2022-05-21T17:26:09.910Z"
   },
   {
    "duration": 15,
    "start_time": "2022-05-21T17:26:10.091Z"
   },
   {
    "duration": 253,
    "start_time": "2022-05-21T17:26:13.565Z"
   },
   {
    "duration": 454,
    "start_time": "2022-05-21T17:26:16.066Z"
   },
   {
    "duration": 250,
    "start_time": "2022-05-21T17:26:19.754Z"
   },
   {
    "duration": 25,
    "start_time": "2022-05-21T17:30:56.842Z"
   },
   {
    "duration": 10,
    "start_time": "2022-05-21T17:33:19.290Z"
   },
   {
    "duration": 6,
    "start_time": "2022-05-21T17:33:59.517Z"
   },
   {
    "duration": 6,
    "start_time": "2022-05-21T17:33:59.864Z"
   },
   {
    "duration": 10,
    "start_time": "2022-05-21T17:34:01.942Z"
   },
   {
    "duration": 1268,
    "start_time": "2022-05-21T17:42:42.713Z"
   },
   {
    "duration": 185,
    "start_time": "2022-05-21T17:42:43.983Z"
   },
   {
    "duration": 14,
    "start_time": "2022-05-21T17:42:44.170Z"
   },
   {
    "duration": 50,
    "start_time": "2022-05-21T17:42:44.185Z"
   },
   {
    "duration": 157,
    "start_time": "2022-05-21T17:42:44.248Z"
   },
   {
    "duration": 26,
    "start_time": "2022-05-21T17:42:44.409Z"
   },
   {
    "duration": 52,
    "start_time": "2022-05-21T17:42:44.439Z"
   },
   {
    "duration": 112,
    "start_time": "2022-05-21T17:42:44.493Z"
   },
   {
    "duration": 7,
    "start_time": "2022-05-21T17:42:44.607Z"
   },
   {
    "duration": 35,
    "start_time": "2022-05-21T17:42:44.616Z"
   },
   {
    "duration": 9,
    "start_time": "2022-05-21T17:42:44.653Z"
   },
   {
    "duration": 8,
    "start_time": "2022-05-21T17:42:44.663Z"
   },
   {
    "duration": 15,
    "start_time": "2022-05-21T17:42:44.674Z"
   },
   {
    "duration": 66,
    "start_time": "2022-05-21T17:42:44.690Z"
   },
   {
    "duration": 9,
    "start_time": "2022-05-21T17:42:44.758Z"
   },
   {
    "duration": 14,
    "start_time": "2022-05-21T17:42:44.769Z"
   },
   {
    "duration": 39,
    "start_time": "2022-05-21T17:42:44.784Z"
   },
   {
    "duration": 34,
    "start_time": "2022-05-21T17:42:44.825Z"
   },
   {
    "duration": 20,
    "start_time": "2022-05-21T17:42:44.861Z"
   },
   {
    "duration": 4,
    "start_time": "2022-05-21T17:42:44.882Z"
   },
   {
    "duration": 10,
    "start_time": "2022-05-21T17:42:44.888Z"
   },
   {
    "duration": 30,
    "start_time": "2022-05-21T17:42:44.900Z"
   },
   {
    "duration": 20,
    "start_time": "2022-05-21T17:42:44.931Z"
   },
   {
    "duration": 9,
    "start_time": "2022-05-21T17:42:44.952Z"
   },
   {
    "duration": 8,
    "start_time": "2022-05-21T17:42:44.963Z"
   },
   {
    "duration": 10,
    "start_time": "2022-05-21T17:42:44.973Z"
   },
   {
    "duration": 58,
    "start_time": "2022-05-21T17:42:44.984Z"
   },
   {
    "duration": 97,
    "start_time": "2022-05-21T17:42:45.048Z"
   },
   {
    "duration": 14,
    "start_time": "2022-05-21T17:42:45.146Z"
   },
   {
    "duration": 31,
    "start_time": "2022-05-21T17:42:45.162Z"
   },
   {
    "duration": 47,
    "start_time": "2022-05-21T17:42:45.195Z"
   },
   {
    "duration": 15,
    "start_time": "2022-05-21T17:42:45.245Z"
   },
   {
    "duration": 23,
    "start_time": "2022-05-21T17:42:45.263Z"
   },
   {
    "duration": 54,
    "start_time": "2022-05-21T17:42:45.289Z"
   },
   {
    "duration": 12,
    "start_time": "2022-05-21T17:42:45.344Z"
   },
   {
    "duration": 28,
    "start_time": "2022-05-21T17:42:45.357Z"
   },
   {
    "duration": 56,
    "start_time": "2022-05-21T17:42:45.387Z"
   },
   {
    "duration": 16,
    "start_time": "2022-05-21T17:42:45.444Z"
   },
   {
    "duration": 50,
    "start_time": "2022-05-21T17:42:45.462Z"
   },
   {
    "duration": 25,
    "start_time": "2022-05-21T17:42:45.517Z"
   },
   {
    "duration": 7,
    "start_time": "2022-05-21T17:42:45.545Z"
   },
   {
    "duration": 7,
    "start_time": "2022-05-21T17:42:45.553Z"
   },
   {
    "duration": 6,
    "start_time": "2022-05-21T17:42:45.561Z"
   },
   {
    "duration": 217,
    "start_time": "2022-05-21T17:42:45.569Z"
   },
   {
    "duration": 18,
    "start_time": "2022-05-21T17:42:45.788Z"
   },
   {
    "duration": 63,
    "start_time": "2022-05-21T17:42:45.807Z"
   },
   {
    "duration": 4,
    "start_time": "2022-05-21T17:42:45.872Z"
   },
   {
    "duration": 35,
    "start_time": "2022-05-21T17:42:45.877Z"
   },
   {
    "duration": 49,
    "start_time": "2022-05-21T17:42:45.913Z"
   },
   {
    "duration": 3,
    "start_time": "2022-05-21T17:42:45.964Z"
   },
   {
    "duration": 24,
    "start_time": "2022-05-21T17:42:45.969Z"
   },
   {
    "duration": 297,
    "start_time": "2022-05-21T17:42:45.994Z"
   },
   {
    "duration": 360,
    "start_time": "2022-05-21T17:42:46.293Z"
   },
   {
    "duration": 258,
    "start_time": "2022-05-21T17:42:46.655Z"
   },
   {
    "duration": 20,
    "start_time": "2022-05-21T17:42:46.915Z"
   },
   {
    "duration": 17,
    "start_time": "2022-05-21T17:42:46.941Z"
   },
   {
    "duration": 9,
    "start_time": "2022-05-21T17:42:46.960Z"
   },
   {
    "duration": 12,
    "start_time": "2022-05-21T17:42:46.971Z"
   },
   {
    "duration": 1347,
    "start_time": "2022-05-23T17:53:50.243Z"
   },
   {
    "duration": 875,
    "start_time": "2022-05-23T17:53:51.596Z"
   },
   {
    "duration": 25,
    "start_time": "2022-05-23T17:53:52.473Z"
   },
   {
    "duration": 33,
    "start_time": "2022-05-23T17:53:52.503Z"
   },
   {
    "duration": 463,
    "start_time": "2022-05-23T17:53:52.538Z"
   },
   {
    "duration": 14,
    "start_time": "2022-05-23T17:53:53.006Z"
   },
   {
    "duration": 22,
    "start_time": "2022-05-23T17:53:53.022Z"
   },
   {
    "duration": 188,
    "start_time": "2022-05-23T17:53:53.046Z"
   },
   {
    "duration": 9,
    "start_time": "2022-05-23T17:53:53.236Z"
   },
   {
    "duration": 26,
    "start_time": "2022-05-23T17:53:53.247Z"
   },
   {
    "duration": 49,
    "start_time": "2022-05-23T17:53:53.275Z"
   },
   {
    "duration": 9,
    "start_time": "2022-05-23T17:53:53.325Z"
   },
   {
    "duration": 16,
    "start_time": "2022-05-23T17:53:53.336Z"
   },
   {
    "duration": 61,
    "start_time": "2022-05-23T17:53:53.355Z"
   },
   {
    "duration": 11,
    "start_time": "2022-05-23T17:53:53.417Z"
   },
   {
    "duration": 11,
    "start_time": "2022-05-23T17:53:53.430Z"
   },
   {
    "duration": 38,
    "start_time": "2022-05-23T17:53:53.443Z"
   },
   {
    "duration": 38,
    "start_time": "2022-05-23T17:53:53.483Z"
   },
   {
    "duration": 18,
    "start_time": "2022-05-23T17:53:53.523Z"
   },
   {
    "duration": 4,
    "start_time": "2022-05-23T17:53:53.543Z"
   },
   {
    "duration": 7,
    "start_time": "2022-05-23T17:53:53.549Z"
   },
   {
    "duration": 27,
    "start_time": "2022-05-23T17:53:53.557Z"
   },
   {
    "duration": 5,
    "start_time": "2022-05-23T17:53:53.585Z"
   },
   {
    "duration": 22,
    "start_time": "2022-05-23T17:53:53.592Z"
   },
   {
    "duration": 8,
    "start_time": "2022-05-23T17:53:53.616Z"
   },
   {
    "duration": 23,
    "start_time": "2022-05-23T17:53:53.626Z"
   },
   {
    "duration": 88,
    "start_time": "2022-05-23T17:53:53.650Z"
   },
   {
    "duration": 13,
    "start_time": "2022-05-23T17:53:53.740Z"
   },
   {
    "duration": 33,
    "start_time": "2022-05-23T17:53:53.755Z"
   },
   {
    "duration": 26,
    "start_time": "2022-05-23T17:53:53.792Z"
   },
   {
    "duration": 12,
    "start_time": "2022-05-23T17:53:53.820Z"
   },
   {
    "duration": 19,
    "start_time": "2022-05-23T17:53:53.834Z"
   },
   {
    "duration": 59,
    "start_time": "2022-05-23T17:53:53.854Z"
   },
   {
    "duration": 12,
    "start_time": "2022-05-23T17:53:53.917Z"
   },
   {
    "duration": 23,
    "start_time": "2022-05-23T17:53:53.930Z"
   },
   {
    "duration": 33,
    "start_time": "2022-05-23T17:53:53.954Z"
   },
   {
    "duration": 37,
    "start_time": "2022-05-23T17:53:53.989Z"
   },
   {
    "duration": 11,
    "start_time": "2022-05-23T17:53:54.027Z"
   },
   {
    "duration": 14,
    "start_time": "2022-05-23T17:53:54.040Z"
   },
   {
    "duration": 6,
    "start_time": "2022-05-23T17:53:54.056Z"
   },
   {
    "duration": 10,
    "start_time": "2022-05-23T17:53:54.088Z"
   },
   {
    "duration": 11,
    "start_time": "2022-05-23T17:53:54.101Z"
   },
   {
    "duration": 477,
    "start_time": "2022-05-23T17:53:54.115Z"
   },
   {
    "duration": 20,
    "start_time": "2022-05-23T17:53:54.593Z"
   },
   {
    "duration": 93,
    "start_time": "2022-05-23T17:53:54.615Z"
   },
   {
    "duration": 7,
    "start_time": "2022-05-23T17:53:54.711Z"
   },
   {
    "duration": 73,
    "start_time": "2022-05-23T17:53:54.721Z"
   },
   {
    "duration": 33,
    "start_time": "2022-05-23T17:53:54.800Z"
   },
   {
    "duration": 56,
    "start_time": "2022-05-23T17:53:54.834Z"
   },
   {
    "duration": 28,
    "start_time": "2022-05-23T17:53:54.901Z"
   },
   {
    "duration": 870,
    "start_time": "2022-05-23T17:53:54.930Z"
   },
   {
    "duration": 931,
    "start_time": "2022-05-23T17:53:55.802Z"
   },
   {
    "duration": 287,
    "start_time": "2022-05-23T17:53:56.786Z"
   },
   {
    "duration": 16,
    "start_time": "2022-05-23T17:53:57.075Z"
   },
   {
    "duration": 16,
    "start_time": "2022-05-23T17:53:57.097Z"
   },
   {
    "duration": 9,
    "start_time": "2022-05-23T17:53:57.119Z"
   },
   {
    "duration": 34,
    "start_time": "2022-05-23T17:53:57.130Z"
   },
   {
    "duration": 1151,
    "start_time": "2022-05-23T18:09:45.824Z"
   },
   {
    "duration": 200,
    "start_time": "2022-05-23T18:09:46.977Z"
   },
   {
    "duration": 26,
    "start_time": "2022-05-23T18:09:47.179Z"
   },
   {
    "duration": 43,
    "start_time": "2022-05-23T18:09:47.208Z"
   },
   {
    "duration": 173,
    "start_time": "2022-05-23T18:09:47.253Z"
   },
   {
    "duration": 10,
    "start_time": "2022-05-23T18:09:47.427Z"
   },
   {
    "duration": 24,
    "start_time": "2022-05-23T18:09:47.439Z"
   },
   {
    "duration": 110,
    "start_time": "2022-05-23T18:09:47.489Z"
   },
   {
    "duration": 9,
    "start_time": "2022-05-23T18:09:47.600Z"
   },
   {
    "duration": 21,
    "start_time": "2022-05-23T18:09:47.611Z"
   },
   {
    "duration": 17,
    "start_time": "2022-05-23T18:09:47.633Z"
   },
   {
    "duration": 8,
    "start_time": "2022-05-23T18:09:47.652Z"
   },
   {
    "duration": 30,
    "start_time": "2022-05-23T18:09:47.661Z"
   },
   {
    "duration": 31,
    "start_time": "2022-05-23T18:09:47.693Z"
   },
   {
    "duration": 12,
    "start_time": "2022-05-23T18:09:47.726Z"
   },
   {
    "duration": 14,
    "start_time": "2022-05-23T18:09:47.741Z"
   },
   {
    "duration": 56,
    "start_time": "2022-05-23T18:09:47.757Z"
   },
   {
    "duration": 26,
    "start_time": "2022-05-23T18:09:47.815Z"
   },
   {
    "duration": 20,
    "start_time": "2022-05-23T18:09:47.843Z"
   },
   {
    "duration": 12,
    "start_time": "2022-05-23T18:09:47.891Z"
   },
   {
    "duration": 6,
    "start_time": "2022-05-23T18:09:47.905Z"
   },
   {
    "duration": 7,
    "start_time": "2022-05-23T18:09:47.913Z"
   },
   {
    "duration": 5,
    "start_time": "2022-05-23T18:09:47.922Z"
   },
   {
    "duration": 7,
    "start_time": "2022-05-23T18:09:47.929Z"
   },
   {
    "duration": 6,
    "start_time": "2022-05-23T18:09:47.941Z"
   },
   {
    "duration": 60,
    "start_time": "2022-05-23T18:09:47.949Z"
   },
   {
    "duration": 94,
    "start_time": "2022-05-23T18:09:48.011Z"
   },
   {
    "duration": 17,
    "start_time": "2022-05-23T18:09:48.110Z"
   },
   {
    "duration": 15,
    "start_time": "2022-05-23T18:09:48.130Z"
   },
   {
    "duration": 52,
    "start_time": "2022-05-23T18:09:48.147Z"
   },
   {
    "duration": 15,
    "start_time": "2022-05-23T18:09:48.202Z"
   },
   {
    "duration": 19,
    "start_time": "2022-05-23T18:09:48.219Z"
   },
   {
    "duration": 60,
    "start_time": "2022-05-23T18:09:48.240Z"
   },
   {
    "duration": 16,
    "start_time": "2022-05-23T18:09:48.303Z"
   },
   {
    "duration": 30,
    "start_time": "2022-05-23T18:09:48.321Z"
   },
   {
    "duration": 42,
    "start_time": "2022-05-23T18:09:48.352Z"
   },
   {
    "duration": 15,
    "start_time": "2022-05-23T18:09:48.400Z"
   },
   {
    "duration": 14,
    "start_time": "2022-05-23T18:09:48.417Z"
   },
   {
    "duration": 16,
    "start_time": "2022-05-23T18:09:48.434Z"
   },
   {
    "duration": 53,
    "start_time": "2022-05-23T18:09:48.452Z"
   },
   {
    "duration": 6,
    "start_time": "2022-05-23T18:09:48.507Z"
   },
   {
    "duration": 7,
    "start_time": "2022-05-23T18:09:48.514Z"
   },
   {
    "duration": 206,
    "start_time": "2022-05-23T18:09:48.522Z"
   },
   {
    "duration": 16,
    "start_time": "2022-05-23T18:09:48.730Z"
   },
   {
    "duration": 41,
    "start_time": "2022-05-23T18:09:48.747Z"
   },
   {
    "duration": 6,
    "start_time": "2022-05-23T18:09:48.797Z"
   },
   {
    "duration": 28,
    "start_time": "2022-05-23T18:09:48.806Z"
   },
   {
    "duration": 27,
    "start_time": "2022-05-23T18:09:48.836Z"
   },
   {
    "duration": 3,
    "start_time": "2022-05-23T18:09:48.865Z"
   },
   {
    "duration": 20,
    "start_time": "2022-05-23T18:09:48.891Z"
   },
   {
    "duration": 267,
    "start_time": "2022-05-23T18:09:48.913Z"
   },
   {
    "duration": 318,
    "start_time": "2022-05-23T18:09:49.181Z"
   },
   {
    "duration": 264,
    "start_time": "2022-05-23T18:09:49.500Z"
   },
   {
    "duration": 8,
    "start_time": "2022-05-23T18:09:49.766Z"
   },
   {
    "duration": 27,
    "start_time": "2022-05-23T18:09:49.776Z"
   },
   {
    "duration": 9,
    "start_time": "2022-05-23T18:09:49.805Z"
   },
   {
    "duration": 8,
    "start_time": "2022-05-23T18:09:49.816Z"
   },
   {
    "duration": 9,
    "start_time": "2022-05-23T18:16:31.999Z"
   },
   {
    "duration": 8,
    "start_time": "2022-05-23T18:19:08.697Z"
   },
   {
    "duration": 1229,
    "start_time": "2022-05-23T18:21:11.577Z"
   },
   {
    "duration": 190,
    "start_time": "2022-05-23T18:21:12.812Z"
   },
   {
    "duration": 16,
    "start_time": "2022-05-23T18:21:13.005Z"
   },
   {
    "duration": 27,
    "start_time": "2022-05-23T18:21:13.023Z"
   },
   {
    "duration": 168,
    "start_time": "2022-05-23T18:21:13.053Z"
   },
   {
    "duration": 9,
    "start_time": "2022-05-23T18:21:13.223Z"
   },
   {
    "duration": 43,
    "start_time": "2022-05-23T18:21:13.233Z"
   },
   {
    "duration": 98,
    "start_time": "2022-05-23T18:21:13.278Z"
   },
   {
    "duration": 18,
    "start_time": "2022-05-23T18:21:13.378Z"
   },
   {
    "duration": 27,
    "start_time": "2022-05-23T18:21:13.398Z"
   },
   {
    "duration": 15,
    "start_time": "2022-05-23T18:21:13.426Z"
   },
   {
    "duration": 8,
    "start_time": "2022-05-23T18:21:13.442Z"
   },
   {
    "duration": 16,
    "start_time": "2022-05-23T18:21:13.451Z"
   },
   {
    "duration": 27,
    "start_time": "2022-05-23T18:21:13.500Z"
   },
   {
    "duration": 10,
    "start_time": "2022-05-23T18:21:13.528Z"
   },
   {
    "duration": 51,
    "start_time": "2022-05-23T18:21:13.539Z"
   },
   {
    "duration": 100,
    "start_time": "2022-05-23T18:21:13.593Z"
   },
   {
    "duration": 38,
    "start_time": "2022-05-23T18:21:13.696Z"
   },
   {
    "duration": 39,
    "start_time": "2022-05-23T18:21:13.785Z"
   },
   {
    "duration": 4,
    "start_time": "2022-05-23T18:21:13.826Z"
   },
   {
    "duration": 62,
    "start_time": "2022-05-23T18:21:13.832Z"
   },
   {
    "duration": 7,
    "start_time": "2022-05-23T18:21:13.897Z"
   },
   {
    "duration": 12,
    "start_time": "2022-05-23T18:21:13.906Z"
   },
   {
    "duration": 6,
    "start_time": "2022-05-23T18:21:13.920Z"
   },
   {
    "duration": 7,
    "start_time": "2022-05-23T18:21:13.928Z"
   },
   {
    "duration": 36,
    "start_time": "2022-05-23T18:21:13.990Z"
   },
   {
    "duration": 169,
    "start_time": "2022-05-23T18:21:14.028Z"
   },
   {
    "duration": 17,
    "start_time": "2022-05-23T18:21:14.199Z"
   },
   {
    "duration": 14,
    "start_time": "2022-05-23T18:21:14.218Z"
   },
   {
    "duration": 39,
    "start_time": "2022-05-23T18:21:14.284Z"
   },
   {
    "duration": 10,
    "start_time": "2022-05-23T18:21:14.325Z"
   },
   {
    "duration": 31,
    "start_time": "2022-05-23T18:21:14.385Z"
   },
   {
    "duration": 94,
    "start_time": "2022-05-23T18:21:14.418Z"
   },
   {
    "duration": 11,
    "start_time": "2022-05-23T18:21:14.516Z"
   },
   {
    "duration": 99,
    "start_time": "2022-05-23T18:21:14.528Z"
   },
   {
    "duration": 76,
    "start_time": "2022-05-23T18:21:14.629Z"
   },
   {
    "duration": 17,
    "start_time": "2022-05-23T18:21:14.707Z"
   },
   {
    "duration": 59,
    "start_time": "2022-05-23T18:21:14.725Z"
   },
   {
    "duration": 32,
    "start_time": "2022-05-23T18:21:14.789Z"
   },
   {
    "duration": 80,
    "start_time": "2022-05-23T18:21:14.823Z"
   },
   {
    "duration": 11,
    "start_time": "2022-05-23T18:21:14.909Z"
   },
   {
    "duration": 7,
    "start_time": "2022-05-23T18:21:14.922Z"
   },
   {
    "duration": 464,
    "start_time": "2022-05-23T18:21:14.931Z"
   },
   {
    "duration": 29,
    "start_time": "2022-05-23T18:21:15.397Z"
   },
   {
    "duration": 89,
    "start_time": "2022-05-23T18:21:15.428Z"
   },
   {
    "duration": 3,
    "start_time": "2022-05-23T18:21:15.519Z"
   },
   {
    "duration": 80,
    "start_time": "2022-05-23T18:21:15.523Z"
   },
   {
    "duration": 29,
    "start_time": "2022-05-23T18:21:15.605Z"
   },
   {
    "duration": 6,
    "start_time": "2022-05-23T18:21:15.697Z"
   },
   {
    "duration": 22,
    "start_time": "2022-05-23T18:21:15.705Z"
   },
   {
    "duration": 500,
    "start_time": "2022-05-23T18:21:15.729Z"
   },
   {
    "duration": 392,
    "start_time": "2022-05-23T18:21:16.232Z"
   },
   {
    "duration": 304,
    "start_time": "2022-05-23T18:21:16.626Z"
   },
   {
    "duration": 9,
    "start_time": "2022-05-23T18:21:16.931Z"
   },
   {
    "duration": 7,
    "start_time": "2022-05-23T18:21:16.941Z"
   },
   {
    "duration": 6,
    "start_time": "2022-05-23T18:21:16.950Z"
   },
   {
    "duration": 39,
    "start_time": "2022-05-23T18:21:16.958Z"
   },
   {
    "duration": 1117,
    "start_time": "2022-05-23T18:23:42.166Z"
   },
   {
    "duration": 167,
    "start_time": "2022-05-23T18:23:43.291Z"
   },
   {
    "duration": 14,
    "start_time": "2022-05-23T18:23:43.460Z"
   },
   {
    "duration": 36,
    "start_time": "2022-05-23T18:23:43.483Z"
   },
   {
    "duration": 137,
    "start_time": "2022-05-23T18:23:43.521Z"
   },
   {
    "duration": 9,
    "start_time": "2022-05-23T18:23:43.659Z"
   },
   {
    "duration": 37,
    "start_time": "2022-05-23T18:23:43.669Z"
   },
   {
    "duration": 102,
    "start_time": "2022-05-23T18:23:43.708Z"
   },
   {
    "duration": 7,
    "start_time": "2022-05-23T18:23:43.812Z"
   },
   {
    "duration": 19,
    "start_time": "2022-05-23T18:23:43.822Z"
   },
   {
    "duration": 14,
    "start_time": "2022-05-23T18:23:43.843Z"
   },
   {
    "duration": 8,
    "start_time": "2022-05-23T18:23:43.858Z"
   },
   {
    "duration": 15,
    "start_time": "2022-05-23T18:23:43.883Z"
   },
   {
    "duration": 26,
    "start_time": "2022-05-23T18:23:43.899Z"
   },
   {
    "duration": 11,
    "start_time": "2022-05-23T18:23:43.926Z"
   },
   {
    "duration": 14,
    "start_time": "2022-05-23T18:23:43.938Z"
   },
   {
    "duration": 61,
    "start_time": "2022-05-23T18:23:43.954Z"
   },
   {
    "duration": 27,
    "start_time": "2022-05-23T18:23:44.017Z"
   },
   {
    "duration": 20,
    "start_time": "2022-05-23T18:23:44.046Z"
   },
   {
    "duration": 7,
    "start_time": "2022-05-23T18:23:44.083Z"
   },
   {
    "duration": 10,
    "start_time": "2022-05-23T18:23:44.091Z"
   },
   {
    "duration": 8,
    "start_time": "2022-05-23T18:23:44.102Z"
   },
   {
    "duration": 3,
    "start_time": "2022-05-23T18:23:44.112Z"
   },
   {
    "duration": 5,
    "start_time": "2022-05-23T18:23:44.117Z"
   },
   {
    "duration": 6,
    "start_time": "2022-05-23T18:23:44.123Z"
   },
   {
    "duration": 23,
    "start_time": "2022-05-23T18:23:44.130Z"
   },
   {
    "duration": 80,
    "start_time": "2022-05-23T18:23:44.155Z"
   },
   {
    "duration": 13,
    "start_time": "2022-05-23T18:23:44.239Z"
   },
   {
    "duration": 40,
    "start_time": "2022-05-23T18:23:44.254Z"
   },
   {
    "duration": 22,
    "start_time": "2022-05-23T18:23:44.297Z"
   },
   {
    "duration": 13,
    "start_time": "2022-05-23T18:23:44.320Z"
   },
   {
    "duration": 17,
    "start_time": "2022-05-23T18:23:44.335Z"
   },
   {
    "duration": 24,
    "start_time": "2022-05-23T18:23:44.397Z"
   },
   {
    "duration": 11,
    "start_time": "2022-05-23T18:23:44.422Z"
   },
   {
    "duration": 23,
    "start_time": "2022-05-23T18:23:44.434Z"
   },
   {
    "duration": 49,
    "start_time": "2022-05-23T18:23:44.458Z"
   },
   {
    "duration": 15,
    "start_time": "2022-05-23T18:23:44.508Z"
   },
   {
    "duration": 16,
    "start_time": "2022-05-23T18:23:44.525Z"
   },
   {
    "duration": 15,
    "start_time": "2022-05-23T18:23:44.545Z"
   },
   {
    "duration": 38,
    "start_time": "2022-05-23T18:23:44.561Z"
   },
   {
    "duration": 7,
    "start_time": "2022-05-23T18:23:44.601Z"
   },
   {
    "duration": 8,
    "start_time": "2022-05-23T18:23:44.610Z"
   },
   {
    "duration": 11,
    "start_time": "2022-05-23T18:23:44.619Z"
   },
   {
    "duration": 190,
    "start_time": "2022-05-23T18:23:44.632Z"
   },
   {
    "duration": 15,
    "start_time": "2022-05-23T18:23:44.824Z"
   },
   {
    "duration": 22,
    "start_time": "2022-05-23T18:23:44.841Z"
   },
   {
    "duration": 18,
    "start_time": "2022-05-23T18:23:44.865Z"
   },
   {
    "duration": 15,
    "start_time": "2022-05-23T18:23:44.897Z"
   },
   {
    "duration": 23,
    "start_time": "2022-05-23T18:23:44.913Z"
   },
   {
    "duration": 3,
    "start_time": "2022-05-23T18:23:44.938Z"
   },
   {
    "duration": 19,
    "start_time": "2022-05-23T18:23:44.942Z"
   },
   {
    "duration": 269,
    "start_time": "2022-05-23T18:23:44.963Z"
   },
   {
    "duration": 341,
    "start_time": "2022-05-23T18:23:45.234Z"
   },
   {
    "duration": 252,
    "start_time": "2022-05-23T18:23:45.582Z"
   },
   {
    "duration": 8,
    "start_time": "2022-05-23T18:23:45.835Z"
   },
   {
    "duration": 9,
    "start_time": "2022-05-23T18:23:45.845Z"
   },
   {
    "duration": 13,
    "start_time": "2022-05-23T18:23:45.855Z"
   },
   {
    "duration": 15,
    "start_time": "2022-05-23T18:23:45.893Z"
   },
   {
    "duration": 1171,
    "start_time": "2022-05-23T18:26:54.338Z"
   },
   {
    "duration": 177,
    "start_time": "2022-05-23T18:26:55.511Z"
   },
   {
    "duration": 22,
    "start_time": "2022-05-23T18:26:55.691Z"
   },
   {
    "duration": 34,
    "start_time": "2022-05-23T18:26:55.715Z"
   },
   {
    "duration": 163,
    "start_time": "2022-05-23T18:26:55.751Z"
   },
   {
    "duration": 10,
    "start_time": "2022-05-23T18:26:55.917Z"
   },
   {
    "duration": 26,
    "start_time": "2022-05-23T18:26:55.929Z"
   },
   {
    "duration": 113,
    "start_time": "2022-05-23T18:26:55.957Z"
   },
   {
    "duration": 19,
    "start_time": "2022-05-23T18:26:56.072Z"
   },
   {
    "duration": 28,
    "start_time": "2022-05-23T18:26:56.097Z"
   },
   {
    "duration": 15,
    "start_time": "2022-05-23T18:26:56.127Z"
   },
   {
    "duration": 8,
    "start_time": "2022-05-23T18:26:56.143Z"
   },
   {
    "duration": 10,
    "start_time": "2022-05-23T18:26:56.153Z"
   },
   {
    "duration": 48,
    "start_time": "2022-05-23T18:26:56.165Z"
   },
   {
    "duration": 9,
    "start_time": "2022-05-23T18:26:56.215Z"
   },
   {
    "duration": 12,
    "start_time": "2022-05-23T18:26:56.226Z"
   },
   {
    "duration": 37,
    "start_time": "2022-05-23T18:26:56.239Z"
   },
   {
    "duration": 44,
    "start_time": "2022-05-23T18:26:56.278Z"
   },
   {
    "duration": 21,
    "start_time": "2022-05-23T18:26:56.323Z"
   },
   {
    "duration": 4,
    "start_time": "2022-05-23T18:26:56.346Z"
   },
   {
    "duration": 40,
    "start_time": "2022-05-23T18:26:56.351Z"
   },
   {
    "duration": 19,
    "start_time": "2022-05-23T18:26:56.393Z"
   },
   {
    "duration": 4,
    "start_time": "2022-05-23T18:26:56.415Z"
   },
   {
    "duration": 14,
    "start_time": "2022-05-23T18:26:56.420Z"
   },
   {
    "duration": 7,
    "start_time": "2022-05-23T18:26:56.436Z"
   },
   {
    "duration": 36,
    "start_time": "2022-05-23T18:26:56.445Z"
   },
   {
    "duration": 64,
    "start_time": "2022-05-23T18:26:56.482Z"
   },
   {
    "duration": 12,
    "start_time": "2022-05-23T18:26:56.549Z"
   },
   {
    "duration": 39,
    "start_time": "2022-05-23T18:26:56.563Z"
   },
   {
    "duration": 21,
    "start_time": "2022-05-23T18:26:56.609Z"
   },
   {
    "duration": 11,
    "start_time": "2022-05-23T18:26:56.632Z"
   },
   {
    "duration": 55,
    "start_time": "2022-05-23T18:26:56.644Z"
   },
   {
    "duration": 26,
    "start_time": "2022-05-23T18:26:56.703Z"
   },
   {
    "duration": 11,
    "start_time": "2022-05-23T18:26:56.730Z"
   },
   {
    "duration": 28,
    "start_time": "2022-05-23T18:26:56.743Z"
   },
   {
    "duration": 46,
    "start_time": "2022-05-23T18:26:56.772Z"
   },
   {
    "duration": 16,
    "start_time": "2022-05-23T18:26:56.819Z"
   },
   {
    "duration": 14,
    "start_time": "2022-05-23T18:26:56.837Z"
   },
   {
    "duration": 58,
    "start_time": "2022-05-23T18:26:56.853Z"
   },
   {
    "duration": 25,
    "start_time": "2022-05-23T18:26:56.913Z"
   },
   {
    "duration": 10,
    "start_time": "2022-05-23T18:26:56.940Z"
   },
   {
    "duration": 31,
    "start_time": "2022-05-23T18:26:56.952Z"
   },
   {
    "duration": 13,
    "start_time": "2022-05-23T18:26:56.991Z"
   },
   {
    "duration": 221,
    "start_time": "2022-05-23T18:26:57.006Z"
   },
   {
    "duration": 83,
    "start_time": "2022-05-23T18:26:57.229Z"
   },
   {
    "duration": 71,
    "start_time": "2022-05-23T18:26:57.313Z"
   },
   {
    "duration": 4,
    "start_time": "2022-05-23T18:26:57.387Z"
   },
   {
    "duration": 26,
    "start_time": "2022-05-23T18:26:57.393Z"
   },
   {
    "duration": 72,
    "start_time": "2022-05-23T18:26:57.420Z"
   },
   {
    "duration": 3,
    "start_time": "2022-05-23T18:26:57.494Z"
   },
   {
    "duration": 23,
    "start_time": "2022-05-23T18:26:57.499Z"
   },
   {
    "duration": 777,
    "start_time": "2022-05-23T18:26:57.523Z"
   },
   {
    "duration": 821,
    "start_time": "2022-05-23T18:26:58.304Z"
   },
   {
    "duration": 685,
    "start_time": "2022-05-23T18:26:59.127Z"
   },
   {
    "duration": 9,
    "start_time": "2022-05-23T18:26:59.814Z"
   },
   {
    "duration": 16,
    "start_time": "2022-05-23T18:26:59.824Z"
   },
   {
    "duration": 10,
    "start_time": "2022-05-23T18:26:59.887Z"
   },
   {
    "duration": 12,
    "start_time": "2022-05-23T18:26:59.899Z"
   },
   {
    "duration": 1241,
    "start_time": "2022-05-23T18:28:52.172Z"
   },
   {
    "duration": 199,
    "start_time": "2022-05-23T18:28:53.419Z"
   },
   {
    "duration": 15,
    "start_time": "2022-05-23T18:28:53.623Z"
   },
   {
    "duration": 43,
    "start_time": "2022-05-23T18:28:53.641Z"
   },
   {
    "duration": 172,
    "start_time": "2022-05-23T18:28:53.689Z"
   },
   {
    "duration": 9,
    "start_time": "2022-05-23T18:28:53.862Z"
   },
   {
    "duration": 48,
    "start_time": "2022-05-23T18:28:53.872Z"
   },
   {
    "duration": 115,
    "start_time": "2022-05-23T18:28:53.922Z"
   },
   {
    "duration": 9,
    "start_time": "2022-05-23T18:28:54.038Z"
   },
   {
    "duration": 43,
    "start_time": "2022-05-23T18:28:54.049Z"
   },
   {
    "duration": 20,
    "start_time": "2022-05-23T18:28:54.096Z"
   },
   {
    "duration": 14,
    "start_time": "2022-05-23T18:28:54.119Z"
   },
   {
    "duration": 13,
    "start_time": "2022-05-23T18:28:54.135Z"
   },
   {
    "duration": 28,
    "start_time": "2022-05-23T18:28:54.150Z"
   },
   {
    "duration": 17,
    "start_time": "2022-05-23T18:28:54.180Z"
   },
   {
    "duration": 21,
    "start_time": "2022-05-23T18:28:54.199Z"
   },
   {
    "duration": 63,
    "start_time": "2022-05-23T18:28:54.222Z"
   },
   {
    "duration": 54,
    "start_time": "2022-05-23T18:28:54.288Z"
   },
   {
    "duration": 24,
    "start_time": "2022-05-23T18:28:54.344Z"
   },
   {
    "duration": 20,
    "start_time": "2022-05-23T18:28:54.370Z"
   },
   {
    "duration": 16,
    "start_time": "2022-05-23T18:28:54.398Z"
   },
   {
    "duration": 9,
    "start_time": "2022-05-23T18:28:54.417Z"
   },
   {
    "duration": 8,
    "start_time": "2022-05-23T18:28:54.429Z"
   },
   {
    "duration": 5,
    "start_time": "2022-05-23T18:28:54.439Z"
   },
   {
    "duration": 11,
    "start_time": "2022-05-23T18:28:54.446Z"
   },
   {
    "duration": 79,
    "start_time": "2022-05-23T18:28:54.459Z"
   },
   {
    "duration": 89,
    "start_time": "2022-05-23T18:28:54.540Z"
   },
   {
    "duration": 16,
    "start_time": "2022-05-23T18:28:54.636Z"
   },
   {
    "duration": 35,
    "start_time": "2022-05-23T18:28:54.654Z"
   },
   {
    "duration": 52,
    "start_time": "2022-05-23T18:28:54.691Z"
   },
   {
    "duration": 51,
    "start_time": "2022-05-23T18:28:54.745Z"
   },
   {
    "duration": 51,
    "start_time": "2022-05-23T18:28:54.798Z"
   },
   {
    "duration": 89,
    "start_time": "2022-05-23T18:28:54.851Z"
   },
   {
    "duration": 55,
    "start_time": "2022-05-23T18:28:54.942Z"
   },
   {
    "duration": 54,
    "start_time": "2022-05-23T18:28:54.999Z"
   },
   {
    "duration": 85,
    "start_time": "2022-05-23T18:28:55.055Z"
   },
   {
    "duration": 48,
    "start_time": "2022-05-23T18:28:55.142Z"
   },
   {
    "duration": 22,
    "start_time": "2022-05-23T18:28:55.194Z"
   },
   {
    "duration": 16,
    "start_time": "2022-05-23T18:28:55.218Z"
   },
   {
    "duration": 51,
    "start_time": "2022-05-23T18:28:55.238Z"
   },
   {
    "duration": 6,
    "start_time": "2022-05-23T18:28:55.291Z"
   },
   {
    "duration": 7,
    "start_time": "2022-05-23T18:28:55.299Z"
   },
   {
    "duration": 15,
    "start_time": "2022-05-23T18:28:55.308Z"
   },
   {
    "duration": 693,
    "start_time": "2022-05-23T18:28:55.326Z"
   },
   {
    "duration": 67,
    "start_time": "2022-05-23T18:28:56.021Z"
   },
   {
    "duration": 60,
    "start_time": "2022-05-23T18:28:56.091Z"
   },
   {
    "duration": 6,
    "start_time": "2022-05-23T18:28:56.183Z"
   },
   {
    "duration": 44,
    "start_time": "2022-05-23T18:28:56.192Z"
   },
   {
    "duration": 72,
    "start_time": "2022-05-23T18:28:56.239Z"
   },
   {
    "duration": 4,
    "start_time": "2022-05-23T18:28:56.314Z"
   },
   {
    "duration": 26,
    "start_time": "2022-05-23T18:28:56.321Z"
   },
   {
    "duration": 695,
    "start_time": "2022-05-23T18:28:56.349Z"
   },
   {
    "duration": 739,
    "start_time": "2022-05-23T18:28:57.047Z"
   },
   {
    "duration": 363,
    "start_time": "2022-05-23T18:28:57.789Z"
   },
   {
    "duration": 12,
    "start_time": "2022-05-23T18:28:58.154Z"
   },
   {
    "duration": 18,
    "start_time": "2022-05-23T18:28:58.168Z"
   },
   {
    "duration": 10,
    "start_time": "2022-05-23T18:28:58.190Z"
   },
   {
    "duration": 19,
    "start_time": "2022-05-23T18:28:58.202Z"
   },
   {
    "duration": 1150,
    "start_time": "2022-05-23T18:33:53.177Z"
   },
   {
    "duration": 177,
    "start_time": "2022-05-23T18:33:54.329Z"
   },
   {
    "duration": 14,
    "start_time": "2022-05-23T18:33:54.508Z"
   },
   {
    "duration": 32,
    "start_time": "2022-05-23T18:33:54.525Z"
   },
   {
    "duration": 153,
    "start_time": "2022-05-23T18:33:54.584Z"
   },
   {
    "duration": 10,
    "start_time": "2022-05-23T18:33:54.739Z"
   },
   {
    "duration": 44,
    "start_time": "2022-05-23T18:33:54.750Z"
   },
   {
    "duration": 101,
    "start_time": "2022-05-23T18:33:54.800Z"
   },
   {
    "duration": 11,
    "start_time": "2022-05-23T18:33:54.905Z"
   },
   {
    "duration": 28,
    "start_time": "2022-05-23T18:33:54.920Z"
   },
   {
    "duration": 15,
    "start_time": "2022-05-23T18:33:54.949Z"
   },
   {
    "duration": 23,
    "start_time": "2022-05-23T18:33:54.966Z"
   },
   {
    "duration": 13,
    "start_time": "2022-05-23T18:33:54.990Z"
   },
   {
    "duration": 28,
    "start_time": "2022-05-23T18:33:55.005Z"
   },
   {
    "duration": 11,
    "start_time": "2022-05-23T18:33:55.034Z"
   },
   {
    "duration": 42,
    "start_time": "2022-05-23T18:33:55.047Z"
   },
   {
    "duration": 46,
    "start_time": "2022-05-23T18:33:55.091Z"
   },
   {
    "duration": 28,
    "start_time": "2022-05-23T18:33:55.139Z"
   },
   {
    "duration": 44,
    "start_time": "2022-05-23T18:33:55.169Z"
   },
   {
    "duration": 4,
    "start_time": "2022-05-23T18:33:55.215Z"
   },
   {
    "duration": 10,
    "start_time": "2022-05-23T18:33:55.221Z"
   },
   {
    "duration": 9,
    "start_time": "2022-05-23T18:33:55.233Z"
   },
   {
    "duration": 6,
    "start_time": "2022-05-23T18:33:55.243Z"
   },
   {
    "duration": 7,
    "start_time": "2022-05-23T18:33:55.251Z"
   },
   {
    "duration": 28,
    "start_time": "2022-05-23T18:33:55.259Z"
   },
   {
    "duration": 41,
    "start_time": "2022-05-23T18:33:55.289Z"
   },
   {
    "duration": 70,
    "start_time": "2022-05-23T18:33:55.332Z"
   },
   {
    "duration": 15,
    "start_time": "2022-05-23T18:33:55.407Z"
   },
   {
    "duration": 19,
    "start_time": "2022-05-23T18:33:55.424Z"
   },
   {
    "duration": 55,
    "start_time": "2022-05-23T18:33:55.445Z"
   },
   {
    "duration": 11,
    "start_time": "2022-05-23T18:33:55.502Z"
   },
   {
    "duration": 39,
    "start_time": "2022-05-23T18:33:55.515Z"
   },
   {
    "duration": 38,
    "start_time": "2022-05-23T18:33:55.556Z"
   },
   {
    "duration": 15,
    "start_time": "2022-05-23T18:33:55.599Z"
   },
   {
    "duration": 42,
    "start_time": "2022-05-23T18:33:55.616Z"
   },
   {
    "duration": 51,
    "start_time": "2022-05-23T18:33:55.661Z"
   },
   {
    "duration": 18,
    "start_time": "2022-05-23T18:33:55.720Z"
   },
   {
    "duration": 17,
    "start_time": "2022-05-23T18:33:55.741Z"
   },
   {
    "duration": 45,
    "start_time": "2022-05-23T18:33:55.760Z"
   },
   {
    "duration": 19,
    "start_time": "2022-05-23T18:33:55.807Z"
   },
   {
    "duration": 8,
    "start_time": "2022-05-23T18:33:55.828Z"
   },
   {
    "duration": 6,
    "start_time": "2022-05-23T18:33:55.838Z"
   },
   {
    "duration": 9,
    "start_time": "2022-05-23T18:33:55.846Z"
   },
   {
    "duration": 202,
    "start_time": "2022-05-23T18:33:55.884Z"
   },
   {
    "duration": 22,
    "start_time": "2022-05-23T18:33:56.088Z"
   },
   {
    "duration": 28,
    "start_time": "2022-05-23T18:33:56.111Z"
   },
   {
    "duration": 3,
    "start_time": "2022-05-23T18:33:56.141Z"
   },
   {
    "duration": 48,
    "start_time": "2022-05-23T18:33:56.147Z"
   },
   {
    "duration": 42,
    "start_time": "2022-05-23T18:33:56.197Z"
   },
   {
    "duration": 4,
    "start_time": "2022-05-23T18:33:56.242Z"
   },
   {
    "duration": 18,
    "start_time": "2022-05-23T18:33:56.248Z"
   },
   {
    "duration": 312,
    "start_time": "2022-05-23T18:33:56.269Z"
   },
   {
    "duration": 483,
    "start_time": "2022-05-23T18:33:56.582Z"
   },
   {
    "duration": 276,
    "start_time": "2022-05-23T18:33:57.066Z"
   },
   {
    "duration": 9,
    "start_time": "2022-05-23T18:33:57.344Z"
   },
   {
    "duration": 6,
    "start_time": "2022-05-23T18:33:57.355Z"
   },
   {
    "duration": 32,
    "start_time": "2022-05-23T18:33:57.363Z"
   },
   {
    "duration": 8,
    "start_time": "2022-05-23T18:33:57.404Z"
   },
   {
    "duration": 1190,
    "start_time": "2022-05-23T18:35:07.869Z"
   },
   {
    "duration": 193,
    "start_time": "2022-05-23T18:35:09.061Z"
   },
   {
    "duration": 13,
    "start_time": "2022-05-23T18:35:09.256Z"
   },
   {
    "duration": 57,
    "start_time": "2022-05-23T18:35:09.271Z"
   },
   {
    "duration": 159,
    "start_time": "2022-05-23T18:35:09.331Z"
   },
   {
    "duration": 13,
    "start_time": "2022-05-23T18:35:09.492Z"
   },
   {
    "duration": 43,
    "start_time": "2022-05-23T18:35:09.507Z"
   },
   {
    "duration": 101,
    "start_time": "2022-05-23T18:35:09.551Z"
   },
   {
    "duration": 7,
    "start_time": "2022-05-23T18:35:09.654Z"
   },
   {
    "duration": 33,
    "start_time": "2022-05-23T18:35:09.663Z"
   },
   {
    "duration": 18,
    "start_time": "2022-05-23T18:35:09.699Z"
   },
   {
    "duration": 10,
    "start_time": "2022-05-23T18:35:09.720Z"
   },
   {
    "duration": 12,
    "start_time": "2022-05-23T18:35:09.732Z"
   },
   {
    "duration": 28,
    "start_time": "2022-05-23T18:35:09.747Z"
   },
   {
    "duration": 34,
    "start_time": "2022-05-23T18:35:09.776Z"
   },
   {
    "duration": 13,
    "start_time": "2022-05-23T18:35:09.811Z"
   },
   {
    "duration": 40,
    "start_time": "2022-05-23T18:35:09.826Z"
   },
   {
    "duration": 52,
    "start_time": "2022-05-23T18:35:09.869Z"
   },
   {
    "duration": 19,
    "start_time": "2022-05-23T18:35:09.923Z"
   },
   {
    "duration": 3,
    "start_time": "2022-05-23T18:35:09.944Z"
   },
   {
    "duration": 9,
    "start_time": "2022-05-23T18:35:09.949Z"
   },
   {
    "duration": 29,
    "start_time": "2022-05-23T18:35:09.959Z"
   },
   {
    "duration": 17,
    "start_time": "2022-05-23T18:35:09.989Z"
   },
   {
    "duration": 14,
    "start_time": "2022-05-23T18:35:10.009Z"
   },
   {
    "duration": 8,
    "start_time": "2022-05-23T18:35:10.025Z"
   },
   {
    "duration": 27,
    "start_time": "2022-05-23T18:35:10.034Z"
   },
   {
    "duration": 73,
    "start_time": "2022-05-23T18:35:10.063Z"
   },
   {
    "duration": 20,
    "start_time": "2022-05-23T18:35:10.189Z"
   },
   {
    "duration": 19,
    "start_time": "2022-05-23T18:35:10.211Z"
   },
   {
    "duration": 79,
    "start_time": "2022-05-23T18:35:10.232Z"
   },
   {
    "duration": 13,
    "start_time": "2022-05-23T18:35:10.313Z"
   },
   {
    "duration": 76,
    "start_time": "2022-05-23T18:35:10.328Z"
   },
   {
    "duration": 84,
    "start_time": "2022-05-23T18:35:10.406Z"
   },
   {
    "duration": 18,
    "start_time": "2022-05-23T18:35:10.492Z"
   },
   {
    "duration": 92,
    "start_time": "2022-05-23T18:35:10.512Z"
   },
   {
    "duration": 86,
    "start_time": "2022-05-23T18:35:10.606Z"
   },
   {
    "duration": 23,
    "start_time": "2022-05-23T18:35:10.697Z"
   },
   {
    "duration": 72,
    "start_time": "2022-05-23T18:35:10.722Z"
   },
   {
    "duration": 23,
    "start_time": "2022-05-23T18:35:10.796Z"
   },
   {
    "duration": 74,
    "start_time": "2022-05-23T18:35:10.821Z"
   },
   {
    "duration": 11,
    "start_time": "2022-05-23T18:35:10.904Z"
   },
   {
    "duration": 7,
    "start_time": "2022-05-23T18:35:10.917Z"
   },
   {
    "duration": 6,
    "start_time": "2022-05-23T18:35:10.925Z"
   },
   {
    "duration": 589,
    "start_time": "2022-05-23T18:35:10.933Z"
   },
   {
    "duration": 70,
    "start_time": "2022-05-23T18:35:11.523Z"
   },
   {
    "duration": 36,
    "start_time": "2022-05-23T18:35:11.597Z"
   },
   {
    "duration": 8,
    "start_time": "2022-05-23T18:35:11.684Z"
   },
   {
    "duration": 29,
    "start_time": "2022-05-23T18:35:11.694Z"
   },
   {
    "duration": 79,
    "start_time": "2022-05-23T18:35:11.725Z"
   },
   {
    "duration": 4,
    "start_time": "2022-05-23T18:35:11.805Z"
   },
   {
    "duration": 88,
    "start_time": "2022-05-23T18:35:11.811Z"
   },
   {
    "duration": 790,
    "start_time": "2022-05-23T18:35:11.903Z"
   },
   {
    "duration": 930,
    "start_time": "2022-05-23T18:35:12.700Z"
   },
   {
    "duration": 644,
    "start_time": "2022-05-23T18:35:13.685Z"
   },
   {
    "duration": 11,
    "start_time": "2022-05-23T18:35:14.384Z"
   },
   {
    "duration": 11,
    "start_time": "2022-05-23T18:35:14.397Z"
   },
   {
    "duration": 6,
    "start_time": "2022-05-23T18:35:14.410Z"
   },
   {
    "duration": 9,
    "start_time": "2022-05-23T18:35:14.418Z"
   },
   {
    "duration": 1172,
    "start_time": "2022-05-23T18:45:19.505Z"
   },
   {
    "duration": 185,
    "start_time": "2022-05-23T18:45:20.679Z"
   },
   {
    "duration": 24,
    "start_time": "2022-05-23T18:45:20.866Z"
   },
   {
    "duration": 43,
    "start_time": "2022-05-23T18:45:20.899Z"
   },
   {
    "duration": 173,
    "start_time": "2022-05-23T18:45:20.945Z"
   },
   {
    "duration": 10,
    "start_time": "2022-05-23T18:45:21.120Z"
   },
   {
    "duration": 37,
    "start_time": "2022-05-23T18:45:21.132Z"
   },
   {
    "duration": 93,
    "start_time": "2022-05-23T18:45:21.188Z"
   },
   {
    "duration": 14,
    "start_time": "2022-05-23T18:45:21.283Z"
   },
   {
    "duration": 35,
    "start_time": "2022-05-23T18:45:21.299Z"
   },
   {
    "duration": 15,
    "start_time": "2022-05-23T18:45:21.336Z"
   },
   {
    "duration": 9,
    "start_time": "2022-05-23T18:45:21.353Z"
   },
   {
    "duration": 37,
    "start_time": "2022-05-23T18:45:21.364Z"
   },
   {
    "duration": 26,
    "start_time": "2022-05-23T18:45:21.406Z"
   },
   {
    "duration": 10,
    "start_time": "2022-05-23T18:45:21.434Z"
   },
   {
    "duration": 21,
    "start_time": "2022-05-23T18:45:21.445Z"
   },
   {
    "duration": 65,
    "start_time": "2022-05-23T18:45:21.468Z"
   },
   {
    "duration": 39,
    "start_time": "2022-05-23T18:45:21.535Z"
   },
   {
    "duration": 32,
    "start_time": "2022-05-23T18:45:21.576Z"
   },
   {
    "duration": 4,
    "start_time": "2022-05-23T18:45:21.610Z"
   },
   {
    "duration": 8,
    "start_time": "2022-05-23T18:45:21.616Z"
   },
   {
    "duration": 8,
    "start_time": "2022-05-23T18:45:21.625Z"
   },
   {
    "duration": 5,
    "start_time": "2022-05-23T18:45:21.635Z"
   },
   {
    "duration": 43,
    "start_time": "2022-05-23T18:45:21.642Z"
   },
   {
    "duration": 11,
    "start_time": "2022-05-23T18:45:21.694Z"
   },
   {
    "duration": 28,
    "start_time": "2022-05-23T18:45:21.708Z"
   },
   {
    "duration": 79,
    "start_time": "2022-05-23T18:45:21.738Z"
   },
   {
    "duration": 14,
    "start_time": "2022-05-23T18:45:21.818Z"
   },
   {
    "duration": 18,
    "start_time": "2022-05-23T18:45:21.834Z"
   },
   {
    "duration": 53,
    "start_time": "2022-05-23T18:45:21.853Z"
   },
   {
    "duration": 13,
    "start_time": "2022-05-23T18:45:21.910Z"
   },
   {
    "duration": 18,
    "start_time": "2022-05-23T18:45:21.924Z"
   },
   {
    "duration": 55,
    "start_time": "2022-05-23T18:45:21.944Z"
   },
   {
    "duration": 13,
    "start_time": "2022-05-23T18:45:22.002Z"
   },
   {
    "duration": 34,
    "start_time": "2022-05-23T18:45:22.017Z"
   },
   {
    "duration": 65,
    "start_time": "2022-05-23T18:45:22.053Z"
   },
   {
    "duration": 22,
    "start_time": "2022-05-23T18:45:22.120Z"
   },
   {
    "duration": 15,
    "start_time": "2022-05-23T18:45:22.144Z"
   },
   {
    "duration": 41,
    "start_time": "2022-05-23T18:45:22.161Z"
   },
   {
    "duration": 23,
    "start_time": "2022-05-23T18:45:22.206Z"
   },
   {
    "duration": 20,
    "start_time": "2022-05-23T18:45:22.233Z"
   },
   {
    "duration": 14,
    "start_time": "2022-05-23T18:45:22.255Z"
   },
   {
    "duration": 14,
    "start_time": "2022-05-23T18:45:22.271Z"
   },
   {
    "duration": 190,
    "start_time": "2022-05-23T18:45:22.287Z"
   },
   {
    "duration": 30,
    "start_time": "2022-05-23T18:45:22.478Z"
   },
   {
    "duration": 29,
    "start_time": "2022-05-23T18:45:22.510Z"
   },
   {
    "duration": 3,
    "start_time": "2022-05-23T18:45:22.541Z"
   },
   {
    "duration": 47,
    "start_time": "2022-05-23T18:45:22.546Z"
   },
   {
    "duration": 34,
    "start_time": "2022-05-23T18:45:22.595Z"
   },
   {
    "duration": 3,
    "start_time": "2022-05-23T18:45:22.631Z"
   },
   {
    "duration": 18,
    "start_time": "2022-05-23T18:45:22.636Z"
   },
   {
    "duration": 284,
    "start_time": "2022-05-23T18:45:22.656Z"
   },
   {
    "duration": 360,
    "start_time": "2022-05-23T18:45:22.943Z"
   },
   {
    "duration": 246,
    "start_time": "2022-05-23T18:45:23.305Z"
   },
   {
    "duration": 10,
    "start_time": "2022-05-23T18:45:23.553Z"
   },
   {
    "duration": 19,
    "start_time": "2022-05-23T18:45:23.583Z"
   },
   {
    "duration": 6,
    "start_time": "2022-05-23T18:45:23.604Z"
   },
   {
    "duration": 8,
    "start_time": "2022-05-23T18:45:23.612Z"
   },
   {
    "duration": 1107,
    "start_time": "2022-05-23T18:52:29.420Z"
   },
   {
    "duration": 187,
    "start_time": "2022-05-23T18:52:30.530Z"
   },
   {
    "duration": 17,
    "start_time": "2022-05-23T18:52:30.719Z"
   },
   {
    "duration": 41,
    "start_time": "2022-05-23T18:52:30.739Z"
   },
   {
    "duration": 163,
    "start_time": "2022-05-23T18:52:30.789Z"
   },
   {
    "duration": 9,
    "start_time": "2022-05-23T18:52:30.954Z"
   },
   {
    "duration": 48,
    "start_time": "2022-05-23T18:52:30.965Z"
   },
   {
    "duration": 99,
    "start_time": "2022-05-23T18:52:31.015Z"
   },
   {
    "duration": 8,
    "start_time": "2022-05-23T18:52:31.116Z"
   },
   {
    "duration": 23,
    "start_time": "2022-05-23T18:52:31.128Z"
   },
   {
    "duration": 14,
    "start_time": "2022-05-23T18:52:31.153Z"
   },
   {
    "duration": 24,
    "start_time": "2022-05-23T18:52:31.169Z"
   },
   {
    "duration": 17,
    "start_time": "2022-05-23T18:52:31.195Z"
   },
   {
    "duration": 26,
    "start_time": "2022-05-23T18:52:31.214Z"
   },
   {
    "duration": 9,
    "start_time": "2022-05-23T18:52:31.242Z"
   },
   {
    "duration": 24,
    "start_time": "2022-05-23T18:52:31.253Z"
   },
   {
    "duration": 51,
    "start_time": "2022-05-23T18:52:31.279Z"
   },
   {
    "duration": 24,
    "start_time": "2022-05-23T18:52:31.331Z"
   },
   {
    "duration": 46,
    "start_time": "2022-05-23T18:52:31.357Z"
   },
   {
    "duration": 5,
    "start_time": "2022-05-23T18:52:31.405Z"
   },
   {
    "duration": 16,
    "start_time": "2022-05-23T18:52:31.412Z"
   },
   {
    "duration": 13,
    "start_time": "2022-05-23T18:52:31.429Z"
   },
   {
    "duration": 10,
    "start_time": "2022-05-23T18:52:31.444Z"
   },
   {
    "duration": 7,
    "start_time": "2022-05-23T18:52:31.456Z"
   },
   {
    "duration": 9,
    "start_time": "2022-05-23T18:52:31.465Z"
   },
   {
    "duration": 36,
    "start_time": "2022-05-23T18:52:31.476Z"
   },
   {
    "duration": 57,
    "start_time": "2022-05-23T18:52:31.514Z"
   },
   {
    "duration": 30,
    "start_time": "2022-05-23T18:52:31.574Z"
   },
   {
    "duration": 17,
    "start_time": "2022-05-23T18:52:31.609Z"
   },
   {
    "duration": 22,
    "start_time": "2022-05-23T18:52:31.628Z"
   },
   {
    "duration": 41,
    "start_time": "2022-05-23T18:52:31.651Z"
   },
   {
    "duration": 22,
    "start_time": "2022-05-23T18:52:31.693Z"
   },
   {
    "duration": 26,
    "start_time": "2022-05-23T18:52:31.718Z"
   },
   {
    "duration": 47,
    "start_time": "2022-05-23T18:52:31.746Z"
   },
   {
    "duration": 35,
    "start_time": "2022-05-23T18:52:31.798Z"
   },
   {
    "duration": 82,
    "start_time": "2022-05-23T18:52:31.835Z"
   },
   {
    "duration": 72,
    "start_time": "2022-05-23T18:52:31.919Z"
   },
   {
    "duration": 19,
    "start_time": "2022-05-23T18:52:31.994Z"
   },
   {
    "duration": 77,
    "start_time": "2022-05-23T18:52:32.015Z"
   },
   {
    "duration": 25,
    "start_time": "2022-05-23T18:52:32.094Z"
   },
   {
    "duration": 66,
    "start_time": "2022-05-23T18:52:32.122Z"
   },
   {
    "duration": 6,
    "start_time": "2022-05-23T18:52:32.191Z"
   },
   {
    "duration": 9,
    "start_time": "2022-05-23T18:52:32.204Z"
   },
   {
    "duration": 401,
    "start_time": "2022-05-23T18:52:32.215Z"
   },
   {
    "duration": 78,
    "start_time": "2022-05-23T18:52:32.619Z"
   },
   {
    "duration": 25,
    "start_time": "2022-05-23T18:52:32.698Z"
   },
   {
    "duration": 4,
    "start_time": "2022-05-23T18:52:32.725Z"
   },
   {
    "duration": 74,
    "start_time": "2022-05-23T18:52:32.730Z"
   },
   {
    "duration": 21,
    "start_time": "2022-05-23T18:52:32.806Z"
   },
   {
    "duration": 64,
    "start_time": "2022-05-23T18:52:32.829Z"
   },
   {
    "duration": 22,
    "start_time": "2022-05-23T18:52:32.895Z"
   },
   {
    "duration": 672,
    "start_time": "2022-05-23T18:52:32.919Z"
   },
   {
    "duration": 538,
    "start_time": "2022-05-23T18:52:33.594Z"
   },
   {
    "duration": 231,
    "start_time": "2022-05-23T18:52:34.134Z"
   },
   {
    "duration": 19,
    "start_time": "2022-05-23T18:52:34.367Z"
   },
   {
    "duration": 7,
    "start_time": "2022-05-23T18:52:34.392Z"
   },
   {
    "duration": 7,
    "start_time": "2022-05-23T18:52:34.401Z"
   },
   {
    "duration": 7,
    "start_time": "2022-05-23T18:52:34.410Z"
   },
   {
    "duration": 1172,
    "start_time": "2022-05-23T18:53:36.622Z"
   },
   {
    "duration": 208,
    "start_time": "2022-05-23T18:53:37.802Z"
   },
   {
    "duration": 19,
    "start_time": "2022-05-23T18:53:38.013Z"
   },
   {
    "duration": 69,
    "start_time": "2022-05-23T18:53:38.036Z"
   },
   {
    "duration": 165,
    "start_time": "2022-05-23T18:53:38.109Z"
   },
   {
    "duration": 17,
    "start_time": "2022-05-23T18:53:38.276Z"
   },
   {
    "duration": 54,
    "start_time": "2022-05-23T18:53:38.300Z"
   },
   {
    "duration": 241,
    "start_time": "2022-05-23T18:53:38.357Z"
   },
   {
    "duration": 11,
    "start_time": "2022-05-23T18:53:38.602Z"
   },
   {
    "duration": 82,
    "start_time": "2022-05-23T18:53:38.616Z"
   },
   {
    "duration": 17,
    "start_time": "2022-05-23T18:53:38.704Z"
   },
   {
    "duration": 21,
    "start_time": "2022-05-23T18:53:38.723Z"
   },
   {
    "duration": 67,
    "start_time": "2022-05-23T18:53:38.745Z"
   },
   {
    "duration": 73,
    "start_time": "2022-05-23T18:53:38.814Z"
   },
   {
    "duration": 15,
    "start_time": "2022-05-23T18:53:38.889Z"
   },
   {
    "duration": 17,
    "start_time": "2022-05-23T18:53:38.907Z"
   },
   {
    "duration": 161,
    "start_time": "2022-05-23T18:53:38.926Z"
   },
   {
    "duration": 49,
    "start_time": "2022-05-23T18:53:39.092Z"
   },
   {
    "duration": 70,
    "start_time": "2022-05-23T18:53:39.143Z"
   },
   {
    "duration": 5,
    "start_time": "2022-05-23T18:53:39.215Z"
   },
   {
    "duration": 72,
    "start_time": "2022-05-23T18:53:39.221Z"
   },
   {
    "duration": 10,
    "start_time": "2022-05-23T18:53:39.295Z"
   },
   {
    "duration": 5,
    "start_time": "2022-05-23T18:53:39.308Z"
   },
   {
    "duration": 5,
    "start_time": "2022-05-23T18:53:39.315Z"
   },
   {
    "duration": 7,
    "start_time": "2022-05-23T18:53:39.322Z"
   },
   {
    "duration": 78,
    "start_time": "2022-05-23T18:53:39.331Z"
   },
   {
    "duration": 113,
    "start_time": "2022-05-23T18:53:39.411Z"
   },
   {
    "duration": 68,
    "start_time": "2022-05-23T18:53:39.527Z"
   },
   {
    "duration": 20,
    "start_time": "2022-05-23T18:53:39.597Z"
   },
   {
    "duration": 88,
    "start_time": "2022-05-23T18:53:39.619Z"
   },
   {
    "duration": 16,
    "start_time": "2022-05-23T18:53:39.713Z"
   },
   {
    "duration": 58,
    "start_time": "2022-05-23T18:53:39.731Z"
   },
   {
    "duration": 35,
    "start_time": "2022-05-23T18:53:39.791Z"
   },
   {
    "duration": 67,
    "start_time": "2022-05-23T18:53:39.828Z"
   },
   {
    "duration": 90,
    "start_time": "2022-05-23T18:53:39.897Z"
   },
   {
    "duration": 35,
    "start_time": "2022-05-23T18:53:39.990Z"
   },
   {
    "duration": 79,
    "start_time": "2022-05-23T18:53:40.027Z"
   },
   {
    "duration": 13,
    "start_time": "2022-05-23T18:53:40.109Z"
   },
   {
    "duration": 70,
    "start_time": "2022-05-23T18:53:40.124Z"
   },
   {
    "duration": 19,
    "start_time": "2022-05-23T18:53:40.196Z"
   },
   {
    "duration": 8,
    "start_time": "2022-05-23T18:53:40.216Z"
   },
   {
    "duration": 58,
    "start_time": "2022-05-23T18:53:40.225Z"
   },
   {
    "duration": 8,
    "start_time": "2022-05-23T18:53:40.284Z"
   },
   {
    "duration": 437,
    "start_time": "2022-05-23T18:53:40.294Z"
   },
   {
    "duration": 25,
    "start_time": "2022-05-23T18:53:40.783Z"
   },
   {
    "duration": 94,
    "start_time": "2022-05-23T18:53:40.810Z"
   },
   {
    "duration": 4,
    "start_time": "2022-05-23T18:53:40.906Z"
   },
   {
    "duration": 19,
    "start_time": "2022-05-23T18:53:40.912Z"
   },
   {
    "duration": 76,
    "start_time": "2022-05-23T18:53:40.933Z"
   },
   {
    "duration": 3,
    "start_time": "2022-05-23T18:53:41.011Z"
   },
   {
    "duration": 75,
    "start_time": "2022-05-23T18:53:41.016Z"
   },
   {
    "duration": 729,
    "start_time": "2022-05-23T18:53:41.092Z"
   },
   {
    "duration": 891,
    "start_time": "2022-05-23T18:53:41.823Z"
   },
   {
    "duration": 518,
    "start_time": "2022-05-23T18:53:42.717Z"
   },
   {
    "duration": 60,
    "start_time": "2022-05-23T18:53:43.237Z"
   },
   {
    "duration": 11,
    "start_time": "2022-05-23T18:53:43.299Z"
   },
   {
    "duration": 6,
    "start_time": "2022-05-23T18:53:43.312Z"
   },
   {
    "duration": 8,
    "start_time": "2022-05-23T18:53:43.319Z"
   },
   {
    "duration": 1053,
    "start_time": "2022-05-23T18:55:55.256Z"
   },
   {
    "duration": 168,
    "start_time": "2022-05-23T18:55:56.310Z"
   },
   {
    "duration": 17,
    "start_time": "2022-05-23T18:55:56.482Z"
   },
   {
    "duration": 25,
    "start_time": "2022-05-23T18:55:56.501Z"
   },
   {
    "duration": 170,
    "start_time": "2022-05-23T18:55:56.528Z"
   },
   {
    "duration": 9,
    "start_time": "2022-05-23T18:55:56.701Z"
   },
   {
    "duration": 23,
    "start_time": "2022-05-23T18:55:56.712Z"
   },
   {
    "duration": 98,
    "start_time": "2022-05-23T18:55:56.737Z"
   },
   {
    "duration": 7,
    "start_time": "2022-05-23T18:55:56.836Z"
   },
   {
    "duration": 23,
    "start_time": "2022-05-23T18:55:56.845Z"
   },
   {
    "duration": 26,
    "start_time": "2022-05-23T18:55:56.870Z"
   },
   {
    "duration": 9,
    "start_time": "2022-05-23T18:55:56.898Z"
   },
   {
    "duration": 12,
    "start_time": "2022-05-23T18:55:56.911Z"
   },
   {
    "duration": 27,
    "start_time": "2022-05-23T18:55:56.925Z"
   },
   {
    "duration": 11,
    "start_time": "2022-05-23T18:55:56.953Z"
   },
   {
    "duration": 37,
    "start_time": "2022-05-23T18:55:56.966Z"
   },
   {
    "duration": 36,
    "start_time": "2022-05-23T18:55:57.006Z"
   },
   {
    "duration": 52,
    "start_time": "2022-05-23T18:55:57.044Z"
   },
   {
    "duration": 19,
    "start_time": "2022-05-23T18:55:57.100Z"
   },
   {
    "duration": 5,
    "start_time": "2022-05-23T18:55:57.121Z"
   },
   {
    "duration": 9,
    "start_time": "2022-05-23T18:55:57.127Z"
   },
   {
    "duration": 63,
    "start_time": "2022-05-23T18:55:57.138Z"
   },
   {
    "duration": 5,
    "start_time": "2022-05-23T18:55:57.202Z"
   },
   {
    "duration": 5,
    "start_time": "2022-05-23T18:55:57.208Z"
   },
   {
    "duration": 15,
    "start_time": "2022-05-23T18:55:57.214Z"
   },
   {
    "duration": 63,
    "start_time": "2022-05-23T18:55:57.231Z"
   },
   {
    "duration": 115,
    "start_time": "2022-05-23T18:55:57.296Z"
   },
   {
    "duration": 11,
    "start_time": "2022-05-23T18:55:57.413Z"
   },
   {
    "duration": 71,
    "start_time": "2022-05-23T18:55:57.426Z"
   },
   {
    "duration": 20,
    "start_time": "2022-05-23T18:55:57.499Z"
   },
   {
    "duration": 67,
    "start_time": "2022-05-23T18:55:57.521Z"
   },
   {
    "duration": 18,
    "start_time": "2022-05-23T18:55:57.595Z"
   },
   {
    "duration": 73,
    "start_time": "2022-05-23T18:55:57.615Z"
   },
   {
    "duration": 18,
    "start_time": "2022-05-23T18:55:57.690Z"
   },
   {
    "duration": 77,
    "start_time": "2022-05-23T18:55:57.710Z"
   },
   {
    "duration": 26,
    "start_time": "2022-05-23T18:55:57.789Z"
   },
   {
    "duration": 69,
    "start_time": "2022-05-23T18:55:57.817Z"
   },
   {
    "duration": 27,
    "start_time": "2022-05-23T18:55:57.887Z"
   },
   {
    "duration": 14,
    "start_time": "2022-05-23T18:55:57.916Z"
   },
   {
    "duration": 28,
    "start_time": "2022-05-23T18:55:57.983Z"
   },
   {
    "duration": 8,
    "start_time": "2022-05-23T18:55:58.014Z"
   },
   {
    "duration": 7,
    "start_time": "2022-05-23T18:55:58.024Z"
   },
   {
    "duration": 10,
    "start_time": "2022-05-23T18:55:58.082Z"
   },
   {
    "duration": 432,
    "start_time": "2022-05-23T18:55:58.093Z"
   },
   {
    "duration": 76,
    "start_time": "2022-05-23T18:55:58.527Z"
   },
   {
    "duration": 23,
    "start_time": "2022-05-23T18:55:58.605Z"
   },
   {
    "duration": 56,
    "start_time": "2022-05-23T18:55:58.630Z"
   },
   {
    "duration": 24,
    "start_time": "2022-05-23T18:55:58.688Z"
   },
   {
    "duration": 84,
    "start_time": "2022-05-23T18:55:58.714Z"
   },
   {
    "duration": 4,
    "start_time": "2022-05-23T18:55:58.801Z"
   },
   {
    "duration": 23,
    "start_time": "2022-05-23T18:55:58.807Z"
   },
   {
    "duration": 565,
    "start_time": "2022-05-23T18:55:58.831Z"
   },
   {
    "duration": 401,
    "start_time": "2022-05-23T18:55:59.398Z"
   },
   {
    "duration": 230,
    "start_time": "2022-05-23T18:55:59.801Z"
   },
   {
    "duration": 9,
    "start_time": "2022-05-23T18:56:00.033Z"
   },
   {
    "duration": 14,
    "start_time": "2022-05-23T18:56:00.043Z"
   },
   {
    "duration": 30,
    "start_time": "2022-05-23T18:56:00.058Z"
   },
   {
    "duration": 18,
    "start_time": "2022-05-23T18:56:00.098Z"
   },
   {
    "duration": 1123,
    "start_time": "2022-05-23T19:00:14.148Z"
   },
   {
    "duration": 163,
    "start_time": "2022-05-23T19:00:15.273Z"
   },
   {
    "duration": 14,
    "start_time": "2022-05-23T19:00:15.438Z"
   },
   {
    "duration": 39,
    "start_time": "2022-05-23T19:00:15.453Z"
   },
   {
    "duration": 134,
    "start_time": "2022-05-23T19:00:15.494Z"
   },
   {
    "duration": 9,
    "start_time": "2022-05-23T19:00:15.630Z"
   },
   {
    "duration": 29,
    "start_time": "2022-05-23T19:00:15.640Z"
   },
   {
    "duration": 93,
    "start_time": "2022-05-23T19:00:15.671Z"
   },
   {
    "duration": 7,
    "start_time": "2022-05-23T19:00:15.766Z"
   },
   {
    "duration": 19,
    "start_time": "2022-05-23T19:00:15.783Z"
   },
   {
    "duration": 15,
    "start_time": "2022-05-23T19:00:15.803Z"
   },
   {
    "duration": 8,
    "start_time": "2022-05-23T19:00:15.819Z"
   },
   {
    "duration": 19,
    "start_time": "2022-05-23T19:00:15.828Z"
   },
   {
    "duration": 29,
    "start_time": "2022-05-23T19:00:15.850Z"
   },
   {
    "duration": 9,
    "start_time": "2022-05-23T19:00:15.881Z"
   },
   {
    "duration": 17,
    "start_time": "2022-05-23T19:00:15.891Z"
   },
   {
    "duration": 35,
    "start_time": "2022-05-23T19:00:15.910Z"
   },
   {
    "duration": 46,
    "start_time": "2022-05-23T19:00:15.947Z"
   },
   {
    "duration": 19,
    "start_time": "2022-05-23T19:00:15.994Z"
   },
   {
    "duration": 4,
    "start_time": "2022-05-23T19:00:16.015Z"
   },
   {
    "duration": 14,
    "start_time": "2022-05-23T19:00:16.021Z"
   },
   {
    "duration": 10,
    "start_time": "2022-05-23T19:00:16.036Z"
   },
   {
    "duration": 7,
    "start_time": "2022-05-23T19:00:16.047Z"
   },
   {
    "duration": 28,
    "start_time": "2022-05-23T19:00:16.056Z"
   },
   {
    "duration": 6,
    "start_time": "2022-05-23T19:00:16.086Z"
   },
   {
    "duration": 25,
    "start_time": "2022-05-23T19:00:16.093Z"
   },
   {
    "duration": 70,
    "start_time": "2022-05-23T19:00:16.120Z"
   },
   {
    "duration": 12,
    "start_time": "2022-05-23T19:00:16.192Z"
   },
   {
    "duration": 13,
    "start_time": "2022-05-23T19:00:16.206Z"
   },
   {
    "duration": 18,
    "start_time": "2022-05-23T19:00:16.221Z"
   },
   {
    "duration": 10,
    "start_time": "2022-05-23T19:00:16.241Z"
   },
   {
    "duration": 17,
    "start_time": "2022-05-23T19:00:16.284Z"
   },
   {
    "duration": 22,
    "start_time": "2022-05-23T19:00:16.303Z"
   },
   {
    "duration": 10,
    "start_time": "2022-05-23T19:00:16.326Z"
   },
   {
    "duration": 137,
    "start_time": "2022-05-23T19:00:16.337Z"
   },
   {
    "duration": 0,
    "start_time": "2022-05-23T19:00:16.475Z"
   },
   {
    "duration": 0,
    "start_time": "2022-05-23T19:00:16.484Z"
   },
   {
    "duration": 0,
    "start_time": "2022-05-23T19:00:16.485Z"
   },
   {
    "duration": 0,
    "start_time": "2022-05-23T19:00:16.486Z"
   },
   {
    "duration": 0,
    "start_time": "2022-05-23T19:00:16.487Z"
   },
   {
    "duration": 0,
    "start_time": "2022-05-23T19:00:16.488Z"
   },
   {
    "duration": 0,
    "start_time": "2022-05-23T19:00:16.489Z"
   },
   {
    "duration": 0,
    "start_time": "2022-05-23T19:00:16.489Z"
   },
   {
    "duration": 0,
    "start_time": "2022-05-23T19:00:16.490Z"
   },
   {
    "duration": 0,
    "start_time": "2022-05-23T19:00:16.491Z"
   },
   {
    "duration": 0,
    "start_time": "2022-05-23T19:00:16.492Z"
   },
   {
    "duration": 0,
    "start_time": "2022-05-23T19:00:16.493Z"
   },
   {
    "duration": 0,
    "start_time": "2022-05-23T19:00:16.494Z"
   },
   {
    "duration": 0,
    "start_time": "2022-05-23T19:00:16.495Z"
   },
   {
    "duration": 0,
    "start_time": "2022-05-23T19:00:16.496Z"
   },
   {
    "duration": 0,
    "start_time": "2022-05-23T19:00:16.497Z"
   },
   {
    "duration": 0,
    "start_time": "2022-05-23T19:00:16.498Z"
   },
   {
    "duration": 0,
    "start_time": "2022-05-23T19:00:16.499Z"
   },
   {
    "duration": 0,
    "start_time": "2022-05-23T19:00:16.500Z"
   },
   {
    "duration": 0,
    "start_time": "2022-05-23T19:00:16.501Z"
   },
   {
    "duration": 0,
    "start_time": "2022-05-23T19:00:16.501Z"
   },
   {
    "duration": 0,
    "start_time": "2022-05-23T19:00:16.502Z"
   },
   {
    "duration": 0,
    "start_time": "2022-05-23T19:00:16.503Z"
   },
   {
    "duration": 1101,
    "start_time": "2022-05-23T19:01:14.055Z"
   },
   {
    "duration": 172,
    "start_time": "2022-05-23T19:01:15.158Z"
   },
   {
    "duration": 14,
    "start_time": "2022-05-23T19:01:15.331Z"
   },
   {
    "duration": 51,
    "start_time": "2022-05-23T19:01:15.346Z"
   },
   {
    "duration": 138,
    "start_time": "2022-05-23T19:01:15.399Z"
   },
   {
    "duration": 9,
    "start_time": "2022-05-23T19:01:15.539Z"
   },
   {
    "duration": 43,
    "start_time": "2022-05-23T19:01:15.549Z"
   },
   {
    "duration": 88,
    "start_time": "2022-05-23T19:01:15.593Z"
   },
   {
    "duration": 18,
    "start_time": "2022-05-23T19:01:15.683Z"
   },
   {
    "duration": 19,
    "start_time": "2022-05-23T19:01:15.703Z"
   },
   {
    "duration": 15,
    "start_time": "2022-05-23T19:01:15.724Z"
   },
   {
    "duration": 10,
    "start_time": "2022-05-23T19:01:15.741Z"
   },
   {
    "duration": 42,
    "start_time": "2022-05-23T19:01:15.752Z"
   },
   {
    "duration": 26,
    "start_time": "2022-05-23T19:01:15.797Z"
   },
   {
    "duration": 10,
    "start_time": "2022-05-23T19:01:15.825Z"
   },
   {
    "duration": 13,
    "start_time": "2022-05-23T19:01:15.837Z"
   },
   {
    "duration": 45,
    "start_time": "2022-05-23T19:01:15.851Z"
   },
   {
    "duration": 24,
    "start_time": "2022-05-23T19:01:15.898Z"
   },
   {
    "duration": 18,
    "start_time": "2022-05-23T19:01:15.924Z"
   },
   {
    "duration": 4,
    "start_time": "2022-05-23T19:01:15.943Z"
   },
   {
    "duration": 7,
    "start_time": "2022-05-23T19:01:15.948Z"
   },
   {
    "duration": 11,
    "start_time": "2022-05-23T19:01:15.957Z"
   },
   {
    "duration": 23,
    "start_time": "2022-05-23T19:01:15.969Z"
   },
   {
    "duration": 4,
    "start_time": "2022-05-23T19:01:15.994Z"
   },
   {
    "duration": 10,
    "start_time": "2022-05-23T19:01:15.999Z"
   },
   {
    "duration": 34,
    "start_time": "2022-05-23T19:01:16.011Z"
   },
   {
    "duration": 67,
    "start_time": "2022-05-23T19:01:16.046Z"
   },
   {
    "duration": 14,
    "start_time": "2022-05-23T19:01:16.114Z"
   },
   {
    "duration": 17,
    "start_time": "2022-05-23T19:01:16.130Z"
   },
   {
    "duration": 55,
    "start_time": "2022-05-23T19:01:16.148Z"
   },
   {
    "duration": 11,
    "start_time": "2022-05-23T19:01:16.205Z"
   },
   {
    "duration": 19,
    "start_time": "2022-05-23T19:01:16.217Z"
   },
   {
    "duration": 24,
    "start_time": "2022-05-23T19:01:16.293Z"
   },
   {
    "duration": 18,
    "start_time": "2022-05-23T19:01:16.319Z"
   },
   {
    "duration": 268,
    "start_time": "2022-05-23T19:01:16.338Z"
   },
   {
    "duration": 0,
    "start_time": "2022-05-23T19:01:16.608Z"
   },
   {
    "duration": 0,
    "start_time": "2022-05-23T19:01:16.609Z"
   },
   {
    "duration": 0,
    "start_time": "2022-05-23T19:01:16.610Z"
   },
   {
    "duration": 0,
    "start_time": "2022-05-23T19:01:16.612Z"
   },
   {
    "duration": 0,
    "start_time": "2022-05-23T19:01:16.613Z"
   },
   {
    "duration": 0,
    "start_time": "2022-05-23T19:01:16.614Z"
   },
   {
    "duration": 0,
    "start_time": "2022-05-23T19:01:16.615Z"
   },
   {
    "duration": 0,
    "start_time": "2022-05-23T19:01:16.616Z"
   },
   {
    "duration": 0,
    "start_time": "2022-05-23T19:01:16.617Z"
   },
   {
    "duration": 0,
    "start_time": "2022-05-23T19:01:16.618Z"
   },
   {
    "duration": 0,
    "start_time": "2022-05-23T19:01:16.619Z"
   },
   {
    "duration": 0,
    "start_time": "2022-05-23T19:01:16.620Z"
   },
   {
    "duration": 0,
    "start_time": "2022-05-23T19:01:16.621Z"
   },
   {
    "duration": 0,
    "start_time": "2022-05-23T19:01:16.622Z"
   },
   {
    "duration": 0,
    "start_time": "2022-05-23T19:01:16.623Z"
   },
   {
    "duration": 0,
    "start_time": "2022-05-23T19:01:16.624Z"
   },
   {
    "duration": 0,
    "start_time": "2022-05-23T19:01:16.625Z"
   },
   {
    "duration": 0,
    "start_time": "2022-05-23T19:01:16.626Z"
   },
   {
    "duration": 0,
    "start_time": "2022-05-23T19:01:16.626Z"
   },
   {
    "duration": 0,
    "start_time": "2022-05-23T19:01:16.627Z"
   },
   {
    "duration": 0,
    "start_time": "2022-05-23T19:01:16.684Z"
   },
   {
    "duration": 0,
    "start_time": "2022-05-23T19:01:16.687Z"
   },
   {
    "duration": 0,
    "start_time": "2022-05-23T19:01:16.689Z"
   },
   {
    "duration": 1152,
    "start_time": "2022-05-23T19:01:47.819Z"
   },
   {
    "duration": 168,
    "start_time": "2022-05-23T19:01:48.973Z"
   },
   {
    "duration": 14,
    "start_time": "2022-05-23T19:01:49.142Z"
   },
   {
    "duration": 35,
    "start_time": "2022-05-23T19:01:49.158Z"
   },
   {
    "duration": 138,
    "start_time": "2022-05-23T19:01:49.195Z"
   },
   {
    "duration": 8,
    "start_time": "2022-05-23T19:01:49.335Z"
   },
   {
    "duration": 38,
    "start_time": "2022-05-23T19:01:49.345Z"
   },
   {
    "duration": 96,
    "start_time": "2022-05-23T19:01:49.385Z"
   },
   {
    "duration": 8,
    "start_time": "2022-05-23T19:01:49.482Z"
   },
   {
    "duration": 19,
    "start_time": "2022-05-23T19:01:49.492Z"
   },
   {
    "duration": 14,
    "start_time": "2022-05-23T19:01:49.513Z"
   },
   {
    "duration": 7,
    "start_time": "2022-05-23T19:01:49.529Z"
   },
   {
    "duration": 13,
    "start_time": "2022-05-23T19:01:49.538Z"
   },
   {
    "duration": 27,
    "start_time": "2022-05-23T19:01:49.583Z"
   },
   {
    "duration": 10,
    "start_time": "2022-05-23T19:01:49.611Z"
   },
   {
    "duration": 21,
    "start_time": "2022-05-23T19:01:49.623Z"
   },
   {
    "duration": 43,
    "start_time": "2022-05-23T19:01:49.646Z"
   },
   {
    "duration": 28,
    "start_time": "2022-05-23T19:01:49.691Z"
   },
   {
    "duration": 23,
    "start_time": "2022-05-23T19:01:49.721Z"
   },
   {
    "duration": 4,
    "start_time": "2022-05-23T19:01:49.746Z"
   },
   {
    "duration": 35,
    "start_time": "2022-05-23T19:01:49.751Z"
   },
   {
    "duration": 17,
    "start_time": "2022-05-23T19:01:49.788Z"
   },
   {
    "duration": 5,
    "start_time": "2022-05-23T19:01:49.806Z"
   },
   {
    "duration": 10,
    "start_time": "2022-05-23T19:01:49.812Z"
   },
   {
    "duration": 7,
    "start_time": "2022-05-23T19:01:49.823Z"
   },
   {
    "duration": 28,
    "start_time": "2022-05-23T19:01:49.832Z"
   },
   {
    "duration": 76,
    "start_time": "2022-05-23T19:01:49.862Z"
   },
   {
    "duration": 14,
    "start_time": "2022-05-23T19:01:49.943Z"
   },
   {
    "duration": 34,
    "start_time": "2022-05-23T19:01:49.959Z"
   },
   {
    "duration": 20,
    "start_time": "2022-05-23T19:01:49.995Z"
   },
   {
    "duration": 11,
    "start_time": "2022-05-23T19:01:50.017Z"
   },
   {
    "duration": 56,
    "start_time": "2022-05-23T19:01:50.030Z"
   },
   {
    "duration": 24,
    "start_time": "2022-05-23T19:01:50.087Z"
   },
   {
    "duration": 11,
    "start_time": "2022-05-23T19:01:50.113Z"
   },
   {
    "duration": 26,
    "start_time": "2022-05-23T19:01:50.126Z"
   },
   {
    "duration": 48,
    "start_time": "2022-05-23T19:01:50.154Z"
   },
   {
    "duration": 15,
    "start_time": "2022-05-23T19:01:50.203Z"
   },
   {
    "duration": 27,
    "start_time": "2022-05-23T19:01:50.220Z"
   },
   {
    "duration": 18,
    "start_time": "2022-05-23T19:01:50.249Z"
   },
   {
    "duration": 15,
    "start_time": "2022-05-23T19:01:50.284Z"
   },
   {
    "duration": 11,
    "start_time": "2022-05-23T19:01:50.300Z"
   },
   {
    "duration": 7,
    "start_time": "2022-05-23T19:01:50.312Z"
   },
   {
    "duration": 6,
    "start_time": "2022-05-23T19:01:50.321Z"
   },
   {
    "duration": 201,
    "start_time": "2022-05-23T19:01:50.328Z"
   },
   {
    "duration": 15,
    "start_time": "2022-05-23T19:01:50.531Z"
   },
   {
    "duration": 32,
    "start_time": "2022-05-23T19:01:50.548Z"
   },
   {
    "duration": 4,
    "start_time": "2022-05-23T19:01:50.583Z"
   },
   {
    "duration": 24,
    "start_time": "2022-05-23T19:01:50.589Z"
   },
   {
    "duration": 36,
    "start_time": "2022-05-23T19:01:50.615Z"
   },
   {
    "duration": 12,
    "start_time": "2022-05-23T19:01:50.653Z"
   },
   {
    "duration": 31,
    "start_time": "2022-05-23T19:01:50.667Z"
   },
   {
    "duration": 242,
    "start_time": "2022-05-23T19:01:50.700Z"
   },
   {
    "duration": 341,
    "start_time": "2022-05-23T19:01:50.944Z"
   },
   {
    "duration": 228,
    "start_time": "2022-05-23T19:01:51.287Z"
   },
   {
    "duration": 9,
    "start_time": "2022-05-23T19:01:51.517Z"
   },
   {
    "duration": 7,
    "start_time": "2022-05-23T19:01:51.528Z"
   },
   {
    "duration": 6,
    "start_time": "2022-05-23T19:01:51.537Z"
   },
   {
    "duration": 39,
    "start_time": "2022-05-23T19:01:51.545Z"
   },
   {
    "duration": 1264,
    "start_time": "2022-05-23T19:02:53.297Z"
   },
   {
    "duration": 213,
    "start_time": "2022-05-23T19:02:54.563Z"
   },
   {
    "duration": 22,
    "start_time": "2022-05-23T19:02:54.778Z"
   },
   {
    "duration": 35,
    "start_time": "2022-05-23T19:02:54.806Z"
   },
   {
    "duration": 202,
    "start_time": "2022-05-23T19:02:54.843Z"
   },
   {
    "duration": 9,
    "start_time": "2022-05-23T19:02:55.047Z"
   },
   {
    "duration": 50,
    "start_time": "2022-05-23T19:02:55.059Z"
   },
   {
    "duration": 124,
    "start_time": "2022-05-23T19:02:55.112Z"
   },
   {
    "duration": 8,
    "start_time": "2022-05-23T19:02:55.238Z"
   },
   {
    "duration": 46,
    "start_time": "2022-05-23T19:02:55.250Z"
   },
   {
    "duration": 17,
    "start_time": "2022-05-23T19:02:55.298Z"
   },
   {
    "duration": 14,
    "start_time": "2022-05-23T19:02:55.319Z"
   },
   {
    "duration": 12,
    "start_time": "2022-05-23T19:02:55.335Z"
   },
   {
    "duration": 46,
    "start_time": "2022-05-23T19:02:55.350Z"
   },
   {
    "duration": 24,
    "start_time": "2022-05-23T19:02:55.399Z"
   },
   {
    "duration": 15,
    "start_time": "2022-05-23T19:02:55.427Z"
   },
   {
    "duration": 70,
    "start_time": "2022-05-23T19:02:55.445Z"
   },
   {
    "duration": 35,
    "start_time": "2022-05-23T19:02:55.519Z"
   },
   {
    "duration": 44,
    "start_time": "2022-05-23T19:02:55.556Z"
   },
   {
    "duration": 13,
    "start_time": "2022-05-23T19:02:55.607Z"
   },
   {
    "duration": 7,
    "start_time": "2022-05-23T19:02:55.622Z"
   },
   {
    "duration": 9,
    "start_time": "2022-05-23T19:02:55.630Z"
   },
   {
    "duration": 4,
    "start_time": "2022-05-23T19:02:55.641Z"
   },
   {
    "duration": 6,
    "start_time": "2022-05-23T19:02:55.647Z"
   },
   {
    "duration": 6,
    "start_time": "2022-05-23T19:02:55.655Z"
   },
   {
    "duration": 42,
    "start_time": "2022-05-23T19:02:55.688Z"
   },
   {
    "duration": 90,
    "start_time": "2022-05-23T19:02:55.737Z"
   },
   {
    "duration": 13,
    "start_time": "2022-05-23T19:02:55.832Z"
   },
   {
    "duration": 19,
    "start_time": "2022-05-23T19:02:55.847Z"
   },
   {
    "duration": 44,
    "start_time": "2022-05-23T19:02:55.867Z"
   },
   {
    "duration": 22,
    "start_time": "2022-05-23T19:02:55.913Z"
   },
   {
    "duration": 19,
    "start_time": "2022-05-23T19:02:55.936Z"
   },
   {
    "duration": 60,
    "start_time": "2022-05-23T19:02:55.957Z"
   },
   {
    "duration": 13,
    "start_time": "2022-05-23T19:02:56.021Z"
   },
   {
    "duration": 51,
    "start_time": "2022-05-23T19:02:56.037Z"
   },
   {
    "duration": 35,
    "start_time": "2022-05-23T19:02:56.095Z"
   },
   {
    "duration": 23,
    "start_time": "2022-05-23T19:02:56.132Z"
   },
   {
    "duration": 36,
    "start_time": "2022-05-23T19:02:56.157Z"
   },
   {
    "duration": 27,
    "start_time": "2022-05-23T19:02:56.195Z"
   },
   {
    "duration": 26,
    "start_time": "2022-05-23T19:02:56.224Z"
   },
   {
    "duration": 7,
    "start_time": "2022-05-23T19:02:56.251Z"
   },
   {
    "duration": 34,
    "start_time": "2022-05-23T19:02:56.260Z"
   },
   {
    "duration": 10,
    "start_time": "2022-05-23T19:02:56.296Z"
   },
   {
    "duration": 511,
    "start_time": "2022-05-23T19:02:56.308Z"
   },
   {
    "duration": 66,
    "start_time": "2022-05-23T19:02:56.824Z"
   },
   {
    "duration": 48,
    "start_time": "2022-05-23T19:02:56.893Z"
   },
   {
    "duration": 4,
    "start_time": "2022-05-23T19:02:56.943Z"
   },
   {
    "duration": 35,
    "start_time": "2022-05-23T19:02:56.983Z"
   },
   {
    "duration": 71,
    "start_time": "2022-05-23T19:02:57.022Z"
   },
   {
    "duration": 4,
    "start_time": "2022-05-23T19:02:57.094Z"
   },
   {
    "duration": 29,
    "start_time": "2022-05-23T19:02:57.100Z"
   },
   {
    "duration": 777,
    "start_time": "2022-05-23T19:02:57.131Z"
   },
   {
    "duration": 1013,
    "start_time": "2022-05-23T19:02:57.910Z"
   },
   {
    "duration": 772,
    "start_time": "2022-05-23T19:02:58.926Z"
   },
   {
    "duration": 52,
    "start_time": "2022-05-23T19:02:59.701Z"
   },
   {
    "duration": 8,
    "start_time": "2022-05-23T19:02:59.757Z"
   },
   {
    "duration": 7,
    "start_time": "2022-05-23T19:02:59.785Z"
   },
   {
    "duration": 8,
    "start_time": "2022-05-23T19:02:59.794Z"
   },
   {
    "duration": 1274,
    "start_time": "2022-05-23T19:20:27.321Z"
   },
   {
    "duration": 244,
    "start_time": "2022-05-23T19:20:28.598Z"
   },
   {
    "duration": 15,
    "start_time": "2022-05-23T19:20:28.843Z"
   },
   {
    "duration": 65,
    "start_time": "2022-05-23T19:20:28.860Z"
   },
   {
    "duration": 202,
    "start_time": "2022-05-23T19:20:28.928Z"
   },
   {
    "duration": 13,
    "start_time": "2022-05-23T19:20:29.132Z"
   },
   {
    "duration": 47,
    "start_time": "2022-05-23T19:20:29.148Z"
   },
   {
    "duration": 123,
    "start_time": "2022-05-23T19:20:29.198Z"
   },
   {
    "duration": 10,
    "start_time": "2022-05-23T19:20:29.325Z"
   },
   {
    "duration": 20,
    "start_time": "2022-05-23T19:20:29.337Z"
   },
   {
    "duration": 31,
    "start_time": "2022-05-23T19:20:29.359Z"
   },
   {
    "duration": 14,
    "start_time": "2022-05-23T19:20:29.393Z"
   },
   {
    "duration": 18,
    "start_time": "2022-05-23T19:20:29.408Z"
   },
   {
    "duration": 29,
    "start_time": "2022-05-23T19:20:29.431Z"
   },
   {
    "duration": 15,
    "start_time": "2022-05-23T19:20:29.462Z"
   },
   {
    "duration": 26,
    "start_time": "2022-05-23T19:20:29.487Z"
   },
   {
    "duration": 49,
    "start_time": "2022-05-23T19:20:29.515Z"
   },
   {
    "duration": 52,
    "start_time": "2022-05-23T19:20:29.566Z"
   },
   {
    "duration": 21,
    "start_time": "2022-05-23T19:20:29.620Z"
   },
   {
    "duration": 5,
    "start_time": "2022-05-23T19:20:29.643Z"
   },
   {
    "duration": 37,
    "start_time": "2022-05-23T19:20:29.649Z"
   },
   {
    "duration": 14,
    "start_time": "2022-05-23T19:20:29.690Z"
   },
   {
    "duration": 8,
    "start_time": "2022-05-23T19:20:29.706Z"
   },
   {
    "duration": 6,
    "start_time": "2022-05-23T19:20:29.716Z"
   },
   {
    "duration": 8,
    "start_time": "2022-05-23T19:20:29.725Z"
   },
   {
    "duration": 50,
    "start_time": "2022-05-23T19:20:29.737Z"
   },
   {
    "duration": 70,
    "start_time": "2022-05-23T19:20:29.800Z"
   },
   {
    "duration": 40,
    "start_time": "2022-05-23T19:20:29.872Z"
   },
   {
    "duration": 21,
    "start_time": "2022-05-23T19:20:29.914Z"
   },
   {
    "duration": 24,
    "start_time": "2022-05-23T19:20:29.937Z"
   },
   {
    "duration": 22,
    "start_time": "2022-05-23T19:20:29.963Z"
   },
   {
    "duration": 34,
    "start_time": "2022-05-23T19:20:29.987Z"
   },
   {
    "duration": 35,
    "start_time": "2022-05-23T19:20:30.029Z"
   },
   {
    "duration": 32,
    "start_time": "2022-05-23T19:20:30.066Z"
   },
   {
    "duration": 39,
    "start_time": "2022-05-23T19:20:30.108Z"
   },
   {
    "duration": 61,
    "start_time": "2022-05-23T19:20:30.150Z"
   },
   {
    "duration": 22,
    "start_time": "2022-05-23T19:20:30.213Z"
   },
   {
    "duration": 13,
    "start_time": "2022-05-23T19:20:30.238Z"
   },
   {
    "duration": 44,
    "start_time": "2022-05-23T19:20:30.254Z"
   },
   {
    "duration": 25,
    "start_time": "2022-05-23T19:20:30.299Z"
   },
   {
    "duration": 8,
    "start_time": "2022-05-23T19:20:30.329Z"
   },
   {
    "duration": 19,
    "start_time": "2022-05-23T19:20:30.339Z"
   },
   {
    "duration": 6,
    "start_time": "2022-05-23T19:20:30.359Z"
   },
   {
    "duration": 220,
    "start_time": "2022-05-23T19:20:30.383Z"
   },
   {
    "duration": 24,
    "start_time": "2022-05-23T19:20:30.605Z"
   },
   {
    "duration": 39,
    "start_time": "2022-05-23T19:20:30.631Z"
   },
   {
    "duration": 18,
    "start_time": "2022-05-23T19:20:30.672Z"
   },
   {
    "duration": 36,
    "start_time": "2022-05-23T19:20:30.692Z"
   },
   {
    "duration": 39,
    "start_time": "2022-05-23T19:20:30.730Z"
   },
   {
    "duration": 33,
    "start_time": "2022-05-23T19:20:30.771Z"
   },
   {
    "duration": 75,
    "start_time": "2022-05-23T19:20:30.806Z"
   },
   {
    "duration": 351,
    "start_time": "2022-05-23T19:20:30.883Z"
   },
   {
    "duration": 371,
    "start_time": "2022-05-23T19:20:31.237Z"
   },
   {
    "duration": 609,
    "start_time": "2022-05-23T19:20:31.610Z"
   },
   {
    "duration": 11,
    "start_time": "2022-05-23T19:20:32.221Z"
   },
   {
    "duration": 57,
    "start_time": "2022-05-23T19:20:32.234Z"
   },
   {
    "duration": 10,
    "start_time": "2022-05-23T19:20:32.293Z"
   },
   {
    "duration": 11,
    "start_time": "2022-05-23T19:20:32.305Z"
   },
   {
    "duration": 1332,
    "start_time": "2022-05-23T19:21:38.929Z"
   },
   {
    "duration": 230,
    "start_time": "2022-05-23T19:21:40.263Z"
   },
   {
    "duration": 30,
    "start_time": "2022-05-23T19:21:40.495Z"
   },
   {
    "duration": 36,
    "start_time": "2022-05-23T19:21:40.527Z"
   },
   {
    "duration": 204,
    "start_time": "2022-05-23T19:21:40.566Z"
   },
   {
    "duration": 20,
    "start_time": "2022-05-23T19:21:40.772Z"
   },
   {
    "duration": 44,
    "start_time": "2022-05-23T19:21:40.794Z"
   },
   {
    "duration": 126,
    "start_time": "2022-05-23T19:21:40.841Z"
   },
   {
    "duration": 12,
    "start_time": "2022-05-23T19:21:40.970Z"
   },
   {
    "duration": 39,
    "start_time": "2022-05-23T19:21:40.985Z"
   },
   {
    "duration": 17,
    "start_time": "2022-05-23T19:21:41.027Z"
   },
   {
    "duration": 11,
    "start_time": "2022-05-23T19:21:41.046Z"
   },
   {
    "duration": 53,
    "start_time": "2022-05-23T19:21:41.060Z"
   },
   {
    "duration": 29,
    "start_time": "2022-05-23T19:21:41.118Z"
   },
   {
    "duration": 16,
    "start_time": "2022-05-23T19:21:41.150Z"
   },
   {
    "duration": 22,
    "start_time": "2022-05-23T19:21:41.168Z"
   },
   {
    "duration": 60,
    "start_time": "2022-05-23T19:21:41.192Z"
   },
   {
    "duration": 67,
    "start_time": "2022-05-23T19:21:41.255Z"
   },
   {
    "duration": 33,
    "start_time": "2022-05-23T19:21:41.324Z"
   },
   {
    "duration": 9,
    "start_time": "2022-05-23T19:21:41.359Z"
   },
   {
    "duration": 22,
    "start_time": "2022-05-23T19:21:41.384Z"
   },
   {
    "duration": 48,
    "start_time": "2022-05-23T19:21:41.408Z"
   },
   {
    "duration": 40,
    "start_time": "2022-05-23T19:21:41.459Z"
   },
   {
    "duration": 34,
    "start_time": "2022-05-23T19:21:41.502Z"
   },
   {
    "duration": 18,
    "start_time": "2022-05-23T19:21:41.539Z"
   },
   {
    "duration": 35,
    "start_time": "2022-05-23T19:21:41.560Z"
   },
   {
    "duration": 65,
    "start_time": "2022-05-23T19:21:41.597Z"
   },
   {
    "duration": 29,
    "start_time": "2022-05-23T19:21:41.664Z"
   },
   {
    "duration": 37,
    "start_time": "2022-05-23T19:21:41.695Z"
   },
   {
    "duration": 37,
    "start_time": "2022-05-23T19:21:41.734Z"
   },
   {
    "duration": 16,
    "start_time": "2022-05-23T19:21:41.773Z"
   },
   {
    "duration": 51,
    "start_time": "2022-05-23T19:21:41.797Z"
   },
   {
    "duration": 70,
    "start_time": "2022-05-23T19:21:41.851Z"
   },
   {
    "duration": 18,
    "start_time": "2022-05-23T19:21:41.923Z"
   },
   {
    "duration": 42,
    "start_time": "2022-05-23T19:21:41.984Z"
   },
   {
    "duration": 78,
    "start_time": "2022-05-23T19:21:42.029Z"
   },
   {
    "duration": 31,
    "start_time": "2022-05-23T19:21:42.109Z"
   },
   {
    "duration": 51,
    "start_time": "2022-05-23T19:21:42.142Z"
   },
   {
    "duration": 30,
    "start_time": "2022-05-23T19:21:42.196Z"
   },
   {
    "duration": 72,
    "start_time": "2022-05-23T19:21:42.230Z"
   },
   {
    "duration": 13,
    "start_time": "2022-05-23T19:21:42.310Z"
   },
   {
    "duration": 71,
    "start_time": "2022-05-23T19:21:42.325Z"
   },
   {
    "duration": 20,
    "start_time": "2022-05-23T19:21:42.398Z"
   },
   {
    "duration": 674,
    "start_time": "2022-05-23T19:21:42.421Z"
   },
   {
    "duration": 29,
    "start_time": "2022-05-23T19:21:43.098Z"
   },
   {
    "duration": 82,
    "start_time": "2022-05-23T19:21:43.131Z"
   },
   {
    "duration": 6,
    "start_time": "2022-05-23T19:21:43.215Z"
   },
   {
    "duration": 95,
    "start_time": "2022-05-23T19:21:43.223Z"
   },
   {
    "duration": 82,
    "start_time": "2022-05-23T19:21:43.321Z"
   },
   {
    "duration": 5,
    "start_time": "2022-05-23T19:21:43.406Z"
   },
   {
    "duration": 79,
    "start_time": "2022-05-23T19:21:43.413Z"
   },
   {
    "duration": 713,
    "start_time": "2022-05-23T19:21:43.494Z"
   },
   {
    "duration": 531,
    "start_time": "2022-05-23T19:21:44.209Z"
   },
   {
    "duration": 300,
    "start_time": "2022-05-23T19:21:44.742Z"
   },
   {
    "duration": 9,
    "start_time": "2022-05-23T19:21:45.043Z"
   },
   {
    "duration": 29,
    "start_time": "2022-05-23T19:21:45.054Z"
   },
   {
    "duration": 39,
    "start_time": "2022-05-23T19:21:45.086Z"
   },
   {
    "duration": 10,
    "start_time": "2022-05-23T19:21:45.130Z"
   },
   {
    "duration": 15,
    "start_time": "2022-05-23T19:35:55.980Z"
   },
   {
    "duration": 1142,
    "start_time": "2022-05-23T19:36:41.681Z"
   },
   {
    "duration": 187,
    "start_time": "2022-05-23T19:36:42.825Z"
   },
   {
    "duration": 16,
    "start_time": "2022-05-23T19:36:43.014Z"
   },
   {
    "duration": 57,
    "start_time": "2022-05-23T19:36:43.031Z"
   },
   {
    "duration": 146,
    "start_time": "2022-05-23T19:36:43.097Z"
   },
   {
    "duration": 10,
    "start_time": "2022-05-23T19:36:43.244Z"
   },
   {
    "duration": 38,
    "start_time": "2022-05-23T19:36:43.256Z"
   },
   {
    "duration": 99,
    "start_time": "2022-05-23T19:36:43.299Z"
   },
   {
    "duration": 12,
    "start_time": "2022-05-23T19:36:43.400Z"
   },
   {
    "duration": 32,
    "start_time": "2022-05-23T19:36:43.414Z"
   },
   {
    "duration": 14,
    "start_time": "2022-05-23T19:36:43.448Z"
   },
   {
    "duration": 30,
    "start_time": "2022-05-23T19:36:43.464Z"
   },
   {
    "duration": 12,
    "start_time": "2022-05-23T19:36:43.495Z"
   },
   {
    "duration": 28,
    "start_time": "2022-05-23T19:36:43.509Z"
   },
   {
    "duration": 10,
    "start_time": "2022-05-23T19:36:43.538Z"
   },
   {
    "duration": 13,
    "start_time": "2022-05-23T19:36:43.550Z"
   },
   {
    "duration": 53,
    "start_time": "2022-05-23T19:36:43.564Z"
   },
   {
    "duration": 27,
    "start_time": "2022-05-23T19:36:43.619Z"
   },
   {
    "duration": 42,
    "start_time": "2022-05-23T19:36:43.648Z"
   },
   {
    "duration": 5,
    "start_time": "2022-05-23T19:36:43.704Z"
   },
   {
    "duration": 8,
    "start_time": "2022-05-23T19:36:43.710Z"
   },
   {
    "duration": 10,
    "start_time": "2022-05-23T19:36:43.719Z"
   },
   {
    "duration": 7,
    "start_time": "2022-05-23T19:36:43.730Z"
   },
   {
    "duration": 12,
    "start_time": "2022-05-23T19:36:43.740Z"
   },
   {
    "duration": 23,
    "start_time": "2022-05-23T19:36:43.753Z"
   },
   {
    "duration": 44,
    "start_time": "2022-05-23T19:36:43.777Z"
   },
   {
    "duration": 55,
    "start_time": "2022-05-23T19:36:43.822Z"
   },
   {
    "duration": 24,
    "start_time": "2022-05-23T19:36:43.879Z"
   },
   {
    "duration": 20,
    "start_time": "2022-05-23T19:36:43.905Z"
   },
   {
    "duration": 20,
    "start_time": "2022-05-23T19:36:43.926Z"
   },
   {
    "duration": 20,
    "start_time": "2022-05-23T19:36:43.947Z"
   },
   {
    "duration": 20,
    "start_time": "2022-05-23T19:36:43.989Z"
   },
   {
    "duration": 24,
    "start_time": "2022-05-23T19:36:44.011Z"
   },
   {
    "duration": 11,
    "start_time": "2022-05-23T19:36:44.037Z"
   },
   {
    "duration": 59,
    "start_time": "2022-05-23T19:36:44.050Z"
   },
   {
    "duration": 23,
    "start_time": "2022-05-23T19:36:44.111Z"
   },
   {
    "duration": 15,
    "start_time": "2022-05-23T19:36:44.136Z"
   },
   {
    "duration": 33,
    "start_time": "2022-05-23T19:36:44.152Z"
   },
   {
    "duration": 19,
    "start_time": "2022-05-23T19:36:44.187Z"
   },
   {
    "duration": 7,
    "start_time": "2022-05-23T19:36:44.208Z"
   },
   {
    "duration": 6,
    "start_time": "2022-05-23T19:36:44.219Z"
   },
   {
    "duration": 208,
    "start_time": "2022-05-23T19:36:44.226Z"
   },
   {
    "duration": 25,
    "start_time": "2022-05-23T19:36:44.437Z"
   },
   {
    "duration": 41,
    "start_time": "2022-05-23T19:36:44.484Z"
   },
   {
    "duration": 7,
    "start_time": "2022-05-23T19:36:44.528Z"
   },
   {
    "duration": 26,
    "start_time": "2022-05-23T19:36:44.540Z"
   },
   {
    "duration": 35,
    "start_time": "2022-05-23T19:36:44.568Z"
   },
   {
    "duration": 4,
    "start_time": "2022-05-23T19:36:44.605Z"
   },
   {
    "duration": 28,
    "start_time": "2022-05-23T19:36:44.611Z"
   },
   {
    "duration": 669,
    "start_time": "2022-05-23T19:36:44.642Z"
   },
   {
    "duration": 791,
    "start_time": "2022-05-23T19:36:45.313Z"
   },
   {
    "duration": 593,
    "start_time": "2022-05-23T19:36:46.106Z"
   },
   {
    "duration": 13,
    "start_time": "2022-05-23T19:36:46.711Z"
   },
   {
    "duration": 9,
    "start_time": "2022-05-23T19:36:46.726Z"
   },
   {
    "duration": 57,
    "start_time": "2022-05-23T19:36:46.737Z"
   },
   {
    "duration": 14,
    "start_time": "2022-05-23T19:36:46.796Z"
   },
   {
    "duration": 1163,
    "start_time": "2022-05-23T19:38:26.412Z"
   },
   {
    "duration": 213,
    "start_time": "2022-05-23T19:38:27.579Z"
   },
   {
    "duration": 39,
    "start_time": "2022-05-23T19:38:27.798Z"
   },
   {
    "duration": 29,
    "start_time": "2022-05-23T19:38:27.839Z"
   },
   {
    "duration": 218,
    "start_time": "2022-05-23T19:38:27.871Z"
   },
   {
    "duration": 13,
    "start_time": "2022-05-23T19:38:28.091Z"
   },
   {
    "duration": 54,
    "start_time": "2022-05-23T19:38:28.107Z"
   },
   {
    "duration": 169,
    "start_time": "2022-05-23T19:38:28.164Z"
   },
   {
    "duration": 14,
    "start_time": "2022-05-23T19:38:28.388Z"
   },
   {
    "duration": 83,
    "start_time": "2022-05-23T19:38:28.405Z"
   },
   {
    "duration": 25,
    "start_time": "2022-05-23T19:38:28.490Z"
   },
   {
    "duration": 12,
    "start_time": "2022-05-23T19:38:28.517Z"
   },
   {
    "duration": 60,
    "start_time": "2022-05-23T19:38:28.532Z"
   },
   {
    "duration": 31,
    "start_time": "2022-05-23T19:38:28.598Z"
   },
   {
    "duration": 54,
    "start_time": "2022-05-23T19:38:28.633Z"
   },
   {
    "duration": 25,
    "start_time": "2022-05-23T19:38:28.690Z"
   },
   {
    "duration": 110,
    "start_time": "2022-05-23T19:38:28.718Z"
   },
   {
    "duration": 91,
    "start_time": "2022-05-23T19:38:28.830Z"
   },
   {
    "duration": 73,
    "start_time": "2022-05-23T19:38:28.922Z"
   },
   {
    "duration": 5,
    "start_time": "2022-05-23T19:38:29.001Z"
   },
   {
    "duration": 5,
    "start_time": "2022-05-23T19:38:29.009Z"
   },
   {
    "duration": 9,
    "start_time": "2022-05-23T19:38:29.015Z"
   },
   {
    "duration": 12,
    "start_time": "2022-05-23T19:38:29.025Z"
   },
   {
    "duration": 64,
    "start_time": "2022-05-23T19:38:29.038Z"
   },
   {
    "duration": 6,
    "start_time": "2022-05-23T19:38:29.106Z"
   },
   {
    "duration": 78,
    "start_time": "2022-05-23T19:38:29.114Z"
   },
   {
    "duration": 135,
    "start_time": "2022-05-23T19:38:29.193Z"
   },
   {
    "duration": 76,
    "start_time": "2022-05-23T19:38:29.330Z"
   },
   {
    "duration": 19,
    "start_time": "2022-05-23T19:38:29.409Z"
   },
   {
    "duration": 82,
    "start_time": "2022-05-23T19:38:29.430Z"
   },
   {
    "duration": 15,
    "start_time": "2022-05-23T19:38:29.515Z"
   },
   {
    "duration": 72,
    "start_time": "2022-05-23T19:38:29.532Z"
   },
   {
    "duration": 79,
    "start_time": "2022-05-23T19:38:29.611Z"
   },
   {
    "duration": 17,
    "start_time": "2022-05-23T19:38:29.692Z"
   },
   {
    "duration": 81,
    "start_time": "2022-05-23T19:38:29.711Z"
   },
   {
    "duration": 30,
    "start_time": "2022-05-23T19:38:29.794Z"
   },
   {
    "duration": 73,
    "start_time": "2022-05-23T19:38:29.826Z"
   },
   {
    "duration": 14,
    "start_time": "2022-05-23T19:38:29.902Z"
   },
   {
    "duration": 70,
    "start_time": "2022-05-23T19:38:29.918Z"
   },
   {
    "duration": 9,
    "start_time": "2022-05-23T19:38:29.990Z"
   },
   {
    "duration": 7,
    "start_time": "2022-05-23T19:38:30.003Z"
   },
   {
    "duration": 502,
    "start_time": "2022-05-23T19:38:30.012Z"
   },
   {
    "duration": 79,
    "start_time": "2022-05-23T19:38:30.516Z"
   },
   {
    "duration": 91,
    "start_time": "2022-05-23T19:38:30.597Z"
   },
   {
    "duration": 6,
    "start_time": "2022-05-23T19:38:30.691Z"
   },
   {
    "duration": 87,
    "start_time": "2022-05-23T19:38:30.700Z"
   },
   {
    "duration": 34,
    "start_time": "2022-05-23T19:38:30.790Z"
   },
   {
    "duration": 5,
    "start_time": "2022-05-23T19:38:30.826Z"
   },
   {
    "duration": 71,
    "start_time": "2022-05-23T19:38:30.832Z"
   },
   {
    "duration": 286,
    "start_time": "2022-05-23T19:38:30.905Z"
   },
   {
    "duration": 347,
    "start_time": "2022-05-23T19:38:31.195Z"
   },
   {
    "duration": 269,
    "start_time": "2022-05-23T19:38:31.544Z"
   },
   {
    "duration": 11,
    "start_time": "2022-05-23T19:38:31.816Z"
   },
   {
    "duration": 8,
    "start_time": "2022-05-23T19:38:31.829Z"
   },
   {
    "duration": 8,
    "start_time": "2022-05-23T19:38:31.840Z"
   },
   {
    "duration": 51,
    "start_time": "2022-05-23T19:38:31.850Z"
   },
   {
    "duration": 1139,
    "start_time": "2022-05-23T19:42:06.810Z"
   },
   {
    "duration": 236,
    "start_time": "2022-05-23T19:42:07.955Z"
   },
   {
    "duration": 17,
    "start_time": "2022-05-23T19:42:08.195Z"
   },
   {
    "duration": 52,
    "start_time": "2022-05-23T19:42:08.213Z"
   },
   {
    "duration": 227,
    "start_time": "2022-05-23T19:42:08.268Z"
   },
   {
    "duration": 15,
    "start_time": "2022-05-23T19:42:08.499Z"
   },
   {
    "duration": 38,
    "start_time": "2022-05-23T19:42:08.516Z"
   },
   {
    "duration": 122,
    "start_time": "2022-05-23T19:42:08.556Z"
   },
   {
    "duration": 16,
    "start_time": "2022-05-23T19:42:08.679Z"
   },
   {
    "duration": 32,
    "start_time": "2022-05-23T19:42:08.699Z"
   },
   {
    "duration": 15,
    "start_time": "2022-05-23T19:42:08.734Z"
   },
   {
    "duration": 9,
    "start_time": "2022-05-23T19:42:08.751Z"
   },
   {
    "duration": 24,
    "start_time": "2022-05-23T19:42:08.783Z"
   },
   {
    "duration": 29,
    "start_time": "2022-05-23T19:42:08.812Z"
   },
   {
    "duration": 55,
    "start_time": "2022-05-23T19:42:08.843Z"
   },
   {
    "duration": 18,
    "start_time": "2022-05-23T19:42:08.902Z"
   },
   {
    "duration": 102,
    "start_time": "2022-05-23T19:42:08.922Z"
   },
   {
    "duration": 94,
    "start_time": "2022-05-23T19:42:09.027Z"
   },
   {
    "duration": 76,
    "start_time": "2022-05-23T19:42:09.123Z"
   },
   {
    "duration": 5,
    "start_time": "2022-05-23T19:42:09.202Z"
   },
   {
    "duration": 7,
    "start_time": "2022-05-23T19:42:09.209Z"
   },
   {
    "duration": 9,
    "start_time": "2022-05-23T19:42:09.217Z"
   },
   {
    "duration": 4,
    "start_time": "2022-05-23T19:42:09.228Z"
   },
   {
    "duration": 51,
    "start_time": "2022-05-23T19:42:09.234Z"
   },
   {
    "duration": 11,
    "start_time": "2022-05-23T19:42:09.286Z"
   },
   {
    "duration": 27,
    "start_time": "2022-05-23T19:42:09.301Z"
   },
   {
    "duration": 166,
    "start_time": "2022-05-23T19:42:09.331Z"
   },
   {
    "duration": 15,
    "start_time": "2022-05-23T19:42:09.501Z"
   },
   {
    "duration": 65,
    "start_time": "2022-05-23T19:42:09.518Z"
   },
   {
    "duration": 25,
    "start_time": "2022-05-23T19:42:09.586Z"
   },
   {
    "duration": 14,
    "start_time": "2022-05-23T19:42:09.613Z"
   },
   {
    "duration": 24,
    "start_time": "2022-05-23T19:42:09.684Z"
   },
   {
    "duration": 80,
    "start_time": "2022-05-23T19:42:09.711Z"
   },
   {
    "duration": 12,
    "start_time": "2022-05-23T19:42:09.793Z"
   },
   {
    "duration": 21,
    "start_time": "2022-05-23T19:42:09.807Z"
   },
   {
    "duration": 32,
    "start_time": "2022-05-23T19:42:09.886Z"
   },
   {
    "duration": 88,
    "start_time": "2022-05-23T19:42:09.920Z"
   },
   {
    "duration": 17,
    "start_time": "2022-05-23T19:42:10.016Z"
   },
   {
    "duration": 62,
    "start_time": "2022-05-23T19:42:10.035Z"
   },
   {
    "duration": 9,
    "start_time": "2022-05-23T19:42:10.099Z"
   },
   {
    "duration": 5,
    "start_time": "2022-05-23T19:42:10.112Z"
   },
   {
    "duration": 407,
    "start_time": "2022-05-23T19:42:10.119Z"
   },
   {
    "duration": 69,
    "start_time": "2022-05-23T19:42:10.528Z"
   },
   {
    "duration": 88,
    "start_time": "2022-05-23T19:42:10.599Z"
   },
   {
    "duration": 3,
    "start_time": "2022-05-23T19:42:10.689Z"
   },
   {
    "duration": 27,
    "start_time": "2022-05-23T19:42:10.699Z"
   },
   {
    "duration": 81,
    "start_time": "2022-05-23T19:42:10.728Z"
   },
   {
    "duration": 4,
    "start_time": "2022-05-23T19:42:10.811Z"
   },
   {
    "duration": 87,
    "start_time": "2022-05-23T19:42:10.817Z"
   },
   {
    "duration": 785,
    "start_time": "2022-05-23T19:42:10.907Z"
   },
   {
    "duration": 795,
    "start_time": "2022-05-23T19:42:11.695Z"
   },
   {
    "duration": 716,
    "start_time": "2022-05-23T19:42:12.492Z"
   },
   {
    "duration": 12,
    "start_time": "2022-05-23T19:42:13.210Z"
   },
   {
    "duration": 60,
    "start_time": "2022-05-23T19:42:13.224Z"
   },
   {
    "duration": 8,
    "start_time": "2022-05-23T19:42:13.288Z"
   },
   {
    "duration": 11,
    "start_time": "2022-05-23T19:42:13.300Z"
   },
   {
    "duration": 1167,
    "start_time": "2022-05-23T19:44:45.863Z"
   },
   {
    "duration": 182,
    "start_time": "2022-05-23T19:44:47.032Z"
   },
   {
    "duration": 17,
    "start_time": "2022-05-23T19:44:47.215Z"
   },
   {
    "duration": 27,
    "start_time": "2022-05-23T19:44:47.234Z"
   },
   {
    "duration": 171,
    "start_time": "2022-05-23T19:44:47.285Z"
   },
   {
    "duration": 10,
    "start_time": "2022-05-23T19:44:47.457Z"
   },
   {
    "duration": 42,
    "start_time": "2022-05-23T19:44:47.469Z"
   },
   {
    "duration": 100,
    "start_time": "2022-05-23T19:44:47.514Z"
   },
   {
    "duration": 9,
    "start_time": "2022-05-23T19:44:47.615Z"
   },
   {
    "duration": 20,
    "start_time": "2022-05-23T19:44:47.626Z"
   },
   {
    "duration": 15,
    "start_time": "2022-05-23T19:44:47.647Z"
   },
   {
    "duration": 40,
    "start_time": "2022-05-23T19:44:47.664Z"
   },
   {
    "duration": 12,
    "start_time": "2022-05-23T19:44:47.710Z"
   },
   {
    "duration": 27,
    "start_time": "2022-05-23T19:44:47.726Z"
   },
   {
    "duration": 14,
    "start_time": "2022-05-23T19:44:47.755Z"
   },
   {
    "duration": 16,
    "start_time": "2022-05-23T19:44:47.785Z"
   },
   {
    "duration": 41,
    "start_time": "2022-05-23T19:44:47.802Z"
   },
   {
    "duration": 60,
    "start_time": "2022-05-23T19:44:47.845Z"
   },
   {
    "duration": 33,
    "start_time": "2022-05-23T19:44:47.907Z"
   },
   {
    "duration": 6,
    "start_time": "2022-05-23T19:44:47.942Z"
   },
   {
    "duration": 10,
    "start_time": "2022-05-23T19:44:47.950Z"
   },
   {
    "duration": 24,
    "start_time": "2022-05-23T19:44:47.962Z"
   },
   {
    "duration": 17,
    "start_time": "2022-05-23T19:44:47.992Z"
   },
   {
    "duration": 5,
    "start_time": "2022-05-23T19:44:48.011Z"
   },
   {
    "duration": 11,
    "start_time": "2022-05-23T19:44:48.018Z"
   },
   {
    "duration": 31,
    "start_time": "2022-05-23T19:44:48.031Z"
   },
   {
    "duration": 93,
    "start_time": "2022-05-23T19:44:48.065Z"
   },
   {
    "duration": 37,
    "start_time": "2022-05-23T19:44:48.161Z"
   },
   {
    "duration": 17,
    "start_time": "2022-05-23T19:44:48.200Z"
   },
   {
    "duration": 27,
    "start_time": "2022-05-23T19:44:48.220Z"
   },
   {
    "duration": 37,
    "start_time": "2022-05-23T19:44:48.250Z"
   },
   {
    "duration": 31,
    "start_time": "2022-05-23T19:44:48.291Z"
   },
   {
    "duration": 27,
    "start_time": "2022-05-23T19:44:48.325Z"
   },
   {
    "duration": 11,
    "start_time": "2022-05-23T19:44:48.354Z"
   },
   {
    "duration": 33,
    "start_time": "2022-05-23T19:44:48.386Z"
   },
   {
    "duration": 24,
    "start_time": "2022-05-23T19:44:48.422Z"
   },
   {
    "duration": 55,
    "start_time": "2022-05-23T19:44:48.449Z"
   },
   {
    "duration": 16,
    "start_time": "2022-05-23T19:44:48.507Z"
   },
   {
    "duration": 22,
    "start_time": "2022-05-23T19:44:48.525Z"
   },
   {
    "duration": 34,
    "start_time": "2022-05-23T19:44:48.550Z"
   },
   {
    "duration": 12,
    "start_time": "2022-05-23T19:44:48.589Z"
   },
   {
    "duration": 208,
    "start_time": "2022-05-23T19:44:48.602Z"
   },
   {
    "duration": 34,
    "start_time": "2022-05-23T19:44:48.811Z"
   },
   {
    "duration": 46,
    "start_time": "2022-05-23T19:44:48.847Z"
   },
   {
    "duration": 6,
    "start_time": "2022-05-23T19:44:48.896Z"
   },
   {
    "duration": 31,
    "start_time": "2022-05-23T19:44:48.903Z"
   },
   {
    "duration": 33,
    "start_time": "2022-05-23T19:44:48.936Z"
   },
   {
    "duration": 16,
    "start_time": "2022-05-23T19:44:48.971Z"
   },
   {
    "duration": 24,
    "start_time": "2022-05-23T19:44:48.994Z"
   },
   {
    "duration": 313,
    "start_time": "2022-05-23T19:44:49.021Z"
   },
   {
    "duration": 385,
    "start_time": "2022-05-23T19:44:49.336Z"
   },
   {
    "duration": 268,
    "start_time": "2022-05-23T19:44:49.724Z"
   },
   {
    "duration": 10,
    "start_time": "2022-05-23T19:44:49.994Z"
   },
   {
    "duration": 9,
    "start_time": "2022-05-23T19:44:50.006Z"
   },
   {
    "duration": 12,
    "start_time": "2022-05-23T19:44:50.017Z"
   },
   {
    "duration": 15,
    "start_time": "2022-05-23T19:44:50.030Z"
   },
   {
    "duration": 12,
    "start_time": "2022-05-23T19:46:25.407Z"
   },
   {
    "duration": 1267,
    "start_time": "2022-05-23T19:53:57.792Z"
   },
   {
    "duration": 180,
    "start_time": "2022-05-23T19:53:59.061Z"
   },
   {
    "duration": 20,
    "start_time": "2022-05-23T19:53:59.243Z"
   },
   {
    "duration": 56,
    "start_time": "2022-05-23T19:53:59.265Z"
   },
   {
    "duration": 145,
    "start_time": "2022-05-23T19:53:59.323Z"
   },
   {
    "duration": 26,
    "start_time": "2022-05-23T19:53:59.470Z"
   },
   {
    "duration": 33,
    "start_time": "2022-05-23T19:53:59.502Z"
   },
   {
    "duration": 270,
    "start_time": "2022-05-23T19:53:59.537Z"
   },
   {
    "duration": 10,
    "start_time": "2022-05-23T19:53:59.809Z"
   },
   {
    "duration": 81,
    "start_time": "2022-05-23T19:53:59.822Z"
   },
   {
    "duration": 18,
    "start_time": "2022-05-23T19:53:59.905Z"
   },
   {
    "duration": 66,
    "start_time": "2022-05-23T19:53:59.925Z"
   },
   {
    "duration": 19,
    "start_time": "2022-05-23T19:53:59.993Z"
   },
   {
    "duration": 70,
    "start_time": "2022-05-23T19:54:00.016Z"
   },
   {
    "duration": 17,
    "start_time": "2022-05-23T19:54:00.093Z"
   },
   {
    "duration": 15,
    "start_time": "2022-05-23T19:54:00.112Z"
   },
   {
    "duration": 156,
    "start_time": "2022-05-23T19:54:00.129Z"
   },
   {
    "duration": 41,
    "start_time": "2022-05-23T19:54:00.287Z"
   },
   {
    "duration": 98,
    "start_time": "2022-05-23T19:54:00.331Z"
   },
   {
    "duration": 11,
    "start_time": "2022-05-23T19:54:00.484Z"
   },
   {
    "duration": 21,
    "start_time": "2022-05-23T19:54:00.497Z"
   },
   {
    "duration": 10,
    "start_time": "2022-05-23T19:54:00.520Z"
   },
   {
    "duration": 51,
    "start_time": "2022-05-23T19:54:00.533Z"
   },
   {
    "duration": 8,
    "start_time": "2022-05-23T19:54:00.586Z"
   },
   {
    "duration": 46,
    "start_time": "2022-05-23T19:54:00.597Z"
   },
   {
    "duration": 90,
    "start_time": "2022-05-23T19:54:00.645Z"
   },
   {
    "duration": 178,
    "start_time": "2022-05-23T19:54:00.737Z"
   },
   {
    "duration": 76,
    "start_time": "2022-05-23T19:54:00.918Z"
   },
   {
    "duration": 19,
    "start_time": "2022-05-23T19:54:00.997Z"
   },
   {
    "duration": 90,
    "start_time": "2022-05-23T19:54:01.018Z"
   },
   {
    "duration": 17,
    "start_time": "2022-05-23T19:54:01.110Z"
   },
   {
    "duration": 76,
    "start_time": "2022-05-23T19:54:01.129Z"
   },
   {
    "duration": 78,
    "start_time": "2022-05-23T19:54:01.208Z"
   },
   {
    "duration": 15,
    "start_time": "2022-05-23T19:54:01.289Z"
   },
   {
    "duration": 87,
    "start_time": "2022-05-23T19:54:01.308Z"
   },
   {
    "duration": 25,
    "start_time": "2022-05-23T19:54:01.397Z"
   },
   {
    "duration": 81,
    "start_time": "2022-05-23T19:54:01.424Z"
   },
   {
    "duration": 19,
    "start_time": "2022-05-23T19:54:01.508Z"
   },
   {
    "duration": 78,
    "start_time": "2022-05-23T19:54:01.529Z"
   },
   {
    "duration": 19,
    "start_time": "2022-05-23T19:54:01.609Z"
   },
   {
    "duration": 8,
    "start_time": "2022-05-23T19:54:01.685Z"
   },
   {
    "duration": 13,
    "start_time": "2022-05-23T19:54:01.698Z"
   },
   {
    "duration": 348,
    "start_time": "2022-05-23T19:54:01.714Z"
   },
   {
    "duration": 27,
    "start_time": "2022-05-23T19:54:02.064Z"
   },
   {
    "duration": 31,
    "start_time": "2022-05-23T19:54:02.093Z"
   },
   {
    "duration": 5,
    "start_time": "2022-05-23T19:54:02.126Z"
   },
   {
    "duration": 29,
    "start_time": "2022-05-23T19:54:02.133Z"
   },
   {
    "duration": 31,
    "start_time": "2022-05-23T19:54:02.184Z"
   },
   {
    "duration": 4,
    "start_time": "2022-05-23T19:54:02.216Z"
   },
   {
    "duration": 22,
    "start_time": "2022-05-23T19:54:02.221Z"
   },
   {
    "duration": 280,
    "start_time": "2022-05-23T19:54:02.245Z"
   },
   {
    "duration": 327,
    "start_time": "2022-05-23T19:54:02.526Z"
   },
   {
    "duration": 256,
    "start_time": "2022-05-23T19:54:02.855Z"
   },
   {
    "duration": 9,
    "start_time": "2022-05-23T19:54:03.113Z"
   },
   {
    "duration": 7,
    "start_time": "2022-05-23T19:54:03.124Z"
   },
   {
    "duration": 10,
    "start_time": "2022-05-23T19:54:03.132Z"
   },
   {
    "duration": 12,
    "start_time": "2022-05-23T19:54:03.144Z"
   },
   {
    "duration": 9,
    "start_time": "2022-05-23T19:54:53.144Z"
   },
   {
    "duration": 1164,
    "start_time": "2022-05-23T19:55:00.123Z"
   },
   {
    "duration": 181,
    "start_time": "2022-05-23T19:55:01.290Z"
   },
   {
    "duration": 29,
    "start_time": "2022-05-23T19:55:01.473Z"
   },
   {
    "duration": 29,
    "start_time": "2022-05-23T19:55:01.505Z"
   },
   {
    "duration": 157,
    "start_time": "2022-05-23T19:55:01.536Z"
   },
   {
    "duration": 16,
    "start_time": "2022-05-23T19:55:01.695Z"
   },
   {
    "duration": 23,
    "start_time": "2022-05-23T19:55:01.714Z"
   },
   {
    "duration": 125,
    "start_time": "2022-05-23T19:55:01.740Z"
   },
   {
    "duration": 24,
    "start_time": "2022-05-23T19:55:01.867Z"
   },
   {
    "duration": 33,
    "start_time": "2022-05-23T19:55:01.895Z"
   },
   {
    "duration": 17,
    "start_time": "2022-05-23T19:55:01.930Z"
   },
   {
    "duration": 9,
    "start_time": "2022-05-23T19:55:01.949Z"
   },
   {
    "duration": 55,
    "start_time": "2022-05-23T19:55:01.960Z"
   },
   {
    "duration": 32,
    "start_time": "2022-05-23T19:55:02.017Z"
   },
   {
    "duration": 11,
    "start_time": "2022-05-23T19:55:02.051Z"
   },
   {
    "duration": 17,
    "start_time": "2022-05-23T19:55:02.064Z"
   },
   {
    "duration": 60,
    "start_time": "2022-05-23T19:55:02.083Z"
   },
   {
    "duration": 26,
    "start_time": "2022-05-23T19:55:02.144Z"
   },
   {
    "duration": 30,
    "start_time": "2022-05-23T19:55:02.172Z"
   },
   {
    "duration": 6,
    "start_time": "2022-05-23T19:55:02.205Z"
   },
   {
    "duration": 17,
    "start_time": "2022-05-23T19:55:02.213Z"
   },
   {
    "duration": 11,
    "start_time": "2022-05-23T19:55:02.231Z"
   },
   {
    "duration": 18,
    "start_time": "2022-05-23T19:55:02.243Z"
   },
   {
    "duration": 6,
    "start_time": "2022-05-23T19:55:02.263Z"
   },
   {
    "duration": 21,
    "start_time": "2022-05-23T19:55:02.271Z"
   },
   {
    "duration": 33,
    "start_time": "2022-05-23T19:55:02.294Z"
   },
   {
    "duration": 99,
    "start_time": "2022-05-23T19:55:02.329Z"
   },
   {
    "duration": 13,
    "start_time": "2022-05-23T19:55:02.433Z"
   },
   {
    "duration": 36,
    "start_time": "2022-05-23T19:55:02.448Z"
   },
   {
    "duration": 28,
    "start_time": "2022-05-23T19:55:02.490Z"
   },
   {
    "duration": 11,
    "start_time": "2022-05-23T19:55:02.521Z"
   },
   {
    "duration": 25,
    "start_time": "2022-05-23T19:55:02.534Z"
   },
   {
    "duration": 48,
    "start_time": "2022-05-23T19:55:02.562Z"
   },
   {
    "duration": 16,
    "start_time": "2022-05-23T19:55:02.613Z"
   },
   {
    "duration": 56,
    "start_time": "2022-05-23T19:55:02.631Z"
   },
   {
    "duration": 25,
    "start_time": "2022-05-23T19:55:02.689Z"
   },
   {
    "duration": 15,
    "start_time": "2022-05-23T19:55:02.716Z"
   },
   {
    "duration": 12,
    "start_time": "2022-05-23T19:55:02.733Z"
   },
   {
    "duration": 48,
    "start_time": "2022-05-23T19:55:02.747Z"
   },
   {
    "duration": 19,
    "start_time": "2022-05-23T19:55:02.796Z"
   },
   {
    "duration": 15,
    "start_time": "2022-05-23T19:55:02.817Z"
   },
   {
    "duration": 7,
    "start_time": "2022-05-23T19:55:02.834Z"
   },
   {
    "duration": 6,
    "start_time": "2022-05-23T19:55:02.842Z"
   },
   {
    "duration": 214,
    "start_time": "2022-05-23T19:55:02.849Z"
   },
   {
    "duration": 34,
    "start_time": "2022-05-23T19:55:03.065Z"
   },
   {
    "duration": 31,
    "start_time": "2022-05-23T19:55:03.101Z"
   },
   {
    "duration": 3,
    "start_time": "2022-05-23T19:55:03.135Z"
   },
   {
    "duration": 20,
    "start_time": "2022-05-23T19:55:03.140Z"
   },
   {
    "duration": 48,
    "start_time": "2022-05-23T19:55:03.162Z"
   },
   {
    "duration": 3,
    "start_time": "2022-05-23T19:55:03.211Z"
   },
   {
    "duration": 30,
    "start_time": "2022-05-23T19:55:03.216Z"
   },
   {
    "duration": 292,
    "start_time": "2022-05-23T19:55:03.248Z"
   },
   {
    "duration": 687,
    "start_time": "2022-05-23T19:55:03.542Z"
   },
   {
    "duration": 560,
    "start_time": "2022-05-23T19:55:04.231Z"
   },
   {
    "duration": 14,
    "start_time": "2022-05-23T19:55:04.794Z"
   },
   {
    "duration": 5,
    "start_time": "2022-05-23T19:55:04.810Z"
   },
   {
    "duration": 7,
    "start_time": "2022-05-23T19:55:04.817Z"
   },
   {
    "duration": 62,
    "start_time": "2022-05-23T19:55:04.826Z"
   },
   {
    "duration": 1133,
    "start_time": "2022-05-23T20:04:42.264Z"
   },
   {
    "duration": 174,
    "start_time": "2022-05-23T20:04:43.399Z"
   },
   {
    "duration": 17,
    "start_time": "2022-05-23T20:04:43.575Z"
   },
   {
    "duration": 32,
    "start_time": "2022-05-23T20:04:43.593Z"
   },
   {
    "duration": 172,
    "start_time": "2022-05-23T20:04:43.627Z"
   },
   {
    "duration": 10,
    "start_time": "2022-05-23T20:04:43.805Z"
   },
   {
    "duration": 24,
    "start_time": "2022-05-23T20:04:43.816Z"
   },
   {
    "duration": 115,
    "start_time": "2022-05-23T20:04:43.842Z"
   },
   {
    "duration": 10,
    "start_time": "2022-05-23T20:04:43.959Z"
   },
   {
    "duration": 37,
    "start_time": "2022-05-23T20:04:43.971Z"
   },
   {
    "duration": 15,
    "start_time": "2022-05-23T20:04:44.009Z"
   },
   {
    "duration": 8,
    "start_time": "2022-05-23T20:04:44.026Z"
   },
   {
    "duration": 13,
    "start_time": "2022-05-23T20:04:44.035Z"
   },
   {
    "duration": 62,
    "start_time": "2022-05-23T20:04:44.051Z"
   },
   {
    "duration": 11,
    "start_time": "2022-05-23T20:04:44.115Z"
   },
   {
    "duration": 12,
    "start_time": "2022-05-23T20:04:44.127Z"
   },
   {
    "duration": 48,
    "start_time": "2022-05-23T20:04:44.141Z"
   },
   {
    "duration": 41,
    "start_time": "2022-05-23T20:04:44.191Z"
   },
   {
    "duration": 19,
    "start_time": "2022-05-23T20:04:44.233Z"
   },
   {
    "duration": 4,
    "start_time": "2022-05-23T20:04:44.254Z"
   },
   {
    "duration": 36,
    "start_time": "2022-05-23T20:04:44.260Z"
   },
   {
    "duration": 10,
    "start_time": "2022-05-23T20:04:44.298Z"
   },
   {
    "duration": 4,
    "start_time": "2022-05-23T20:04:44.310Z"
   },
   {
    "duration": 6,
    "start_time": "2022-05-23T20:04:44.316Z"
   },
   {
    "duration": 7,
    "start_time": "2022-05-23T20:04:44.323Z"
   },
   {
    "duration": 56,
    "start_time": "2022-05-23T20:04:44.331Z"
   },
   {
    "duration": 59,
    "start_time": "2022-05-23T20:04:44.388Z"
   },
   {
    "duration": 12,
    "start_time": "2022-05-23T20:04:44.449Z"
   },
   {
    "duration": 31,
    "start_time": "2022-05-23T20:04:44.463Z"
   },
   {
    "duration": 21,
    "start_time": "2022-05-23T20:04:44.495Z"
   },
   {
    "duration": 11,
    "start_time": "2022-05-23T20:04:44.518Z"
   },
   {
    "duration": 70,
    "start_time": "2022-05-23T20:04:44.531Z"
   },
   {
    "duration": 24,
    "start_time": "2022-05-23T20:04:44.603Z"
   },
   {
    "duration": 11,
    "start_time": "2022-05-23T20:04:44.629Z"
   },
   {
    "duration": 21,
    "start_time": "2022-05-23T20:04:44.642Z"
   },
   {
    "duration": 44,
    "start_time": "2022-05-23T20:04:44.665Z"
   },
   {
    "duration": 16,
    "start_time": "2022-05-23T20:04:44.710Z"
   },
   {
    "duration": 16,
    "start_time": "2022-05-23T20:04:44.727Z"
   },
   {
    "duration": 44,
    "start_time": "2022-05-23T20:04:44.745Z"
   },
   {
    "duration": 21,
    "start_time": "2022-05-23T20:04:44.794Z"
   },
   {
    "duration": 18,
    "start_time": "2022-05-23T20:04:44.821Z"
   },
   {
    "duration": 6,
    "start_time": "2022-05-23T20:04:44.841Z"
   },
   {
    "duration": 41,
    "start_time": "2022-05-23T20:04:44.848Z"
   },
   {
    "duration": 204,
    "start_time": "2022-05-23T20:04:44.897Z"
   },
   {
    "duration": 23,
    "start_time": "2022-05-23T20:04:45.103Z"
   },
   {
    "duration": 28,
    "start_time": "2022-05-23T20:04:45.127Z"
   },
   {
    "duration": 3,
    "start_time": "2022-05-23T20:04:45.157Z"
   },
   {
    "duration": 43,
    "start_time": "2022-05-23T20:04:45.162Z"
   },
   {
    "duration": 32,
    "start_time": "2022-05-23T20:04:45.207Z"
   },
   {
    "duration": 2,
    "start_time": "2022-05-23T20:04:45.242Z"
   },
   {
    "duration": 54,
    "start_time": "2022-05-23T20:04:45.246Z"
   },
   {
    "duration": 256,
    "start_time": "2022-05-23T20:04:45.302Z"
   },
   {
    "duration": 371,
    "start_time": "2022-05-23T20:04:45.560Z"
   },
   {
    "duration": 275,
    "start_time": "2022-05-23T20:04:45.932Z"
   },
   {
    "duration": 10,
    "start_time": "2022-05-23T20:04:46.209Z"
   },
   {
    "duration": 9,
    "start_time": "2022-05-23T20:04:46.221Z"
   },
   {
    "duration": 6,
    "start_time": "2022-05-23T20:04:46.231Z"
   },
   {
    "duration": 8,
    "start_time": "2022-05-23T20:04:46.239Z"
   },
   {
    "duration": 300,
    "start_time": "2022-05-23T20:40:56.659Z"
   },
   {
    "duration": 321,
    "start_time": "2022-05-23T20:41:26.354Z"
   },
   {
    "duration": 300,
    "start_time": "2022-05-23T20:41:32.451Z"
   },
   {
    "duration": 270,
    "start_time": "2022-05-23T20:43:00.145Z"
   },
   {
    "duration": 266,
    "start_time": "2022-05-23T20:43:04.971Z"
   },
   {
    "duration": 268,
    "start_time": "2022-05-23T20:49:45.572Z"
   },
   {
    "duration": 347,
    "start_time": "2022-05-23T20:50:43.238Z"
   },
   {
    "duration": 256,
    "start_time": "2022-05-23T20:50:57.644Z"
   },
   {
    "duration": 220,
    "start_time": "2022-05-23T20:52:10.227Z"
   },
   {
    "duration": 1083,
    "start_time": "2022-05-23T20:55:12.289Z"
   },
   {
    "duration": 166,
    "start_time": "2022-05-23T20:55:13.374Z"
   },
   {
    "duration": 14,
    "start_time": "2022-05-23T20:55:13.541Z"
   },
   {
    "duration": 37,
    "start_time": "2022-05-23T20:55:13.556Z"
   },
   {
    "duration": 150,
    "start_time": "2022-05-23T20:55:13.594Z"
   },
   {
    "duration": 10,
    "start_time": "2022-05-23T20:55:13.746Z"
   },
   {
    "duration": 35,
    "start_time": "2022-05-23T20:55:13.757Z"
   },
   {
    "duration": 90,
    "start_time": "2022-05-23T20:55:13.793Z"
   },
   {
    "duration": 8,
    "start_time": "2022-05-23T20:55:13.885Z"
   },
   {
    "duration": 17,
    "start_time": "2022-05-23T20:55:13.896Z"
   },
   {
    "duration": 15,
    "start_time": "2022-05-23T20:55:13.915Z"
   },
   {
    "duration": 7,
    "start_time": "2022-05-23T20:55:13.931Z"
   },
   {
    "duration": 12,
    "start_time": "2022-05-23T20:55:13.939Z"
   },
   {
    "duration": 32,
    "start_time": "2022-05-23T20:55:13.952Z"
   },
   {
    "duration": 17,
    "start_time": "2022-05-23T20:55:13.985Z"
   },
   {
    "duration": 24,
    "start_time": "2022-05-23T20:55:14.004Z"
   },
   {
    "duration": 46,
    "start_time": "2022-05-23T20:55:14.030Z"
   },
   {
    "duration": 24,
    "start_time": "2022-05-23T20:55:14.078Z"
   },
   {
    "duration": 19,
    "start_time": "2022-05-23T20:55:14.103Z"
   },
   {
    "duration": 3,
    "start_time": "2022-05-23T20:55:14.124Z"
   },
   {
    "duration": 17,
    "start_time": "2022-05-23T20:55:14.129Z"
   },
   {
    "duration": 23,
    "start_time": "2022-05-23T20:55:14.148Z"
   },
   {
    "duration": 4,
    "start_time": "2022-05-23T20:55:14.172Z"
   },
   {
    "duration": 6,
    "start_time": "2022-05-23T20:55:14.177Z"
   },
   {
    "duration": 11,
    "start_time": "2022-05-23T20:55:14.185Z"
   },
   {
    "duration": 25,
    "start_time": "2022-05-23T20:55:14.197Z"
   },
   {
    "duration": 75,
    "start_time": "2022-05-23T20:55:14.224Z"
   },
   {
    "duration": 12,
    "start_time": "2022-05-23T20:55:14.304Z"
   },
   {
    "duration": 22,
    "start_time": "2022-05-23T20:55:14.318Z"
   },
   {
    "duration": 39,
    "start_time": "2022-05-23T20:55:14.342Z"
   },
   {
    "duration": 14,
    "start_time": "2022-05-23T20:55:14.384Z"
   },
   {
    "duration": 36,
    "start_time": "2022-05-23T20:55:14.400Z"
   },
   {
    "duration": 23,
    "start_time": "2022-05-23T20:55:14.438Z"
   },
   {
    "duration": 10,
    "start_time": "2022-05-23T20:55:14.463Z"
   },
   {
    "duration": 19,
    "start_time": "2022-05-23T20:55:14.484Z"
   },
   {
    "duration": 22,
    "start_time": "2022-05-23T20:55:14.504Z"
   },
   {
    "duration": 20,
    "start_time": "2022-05-23T20:55:14.528Z"
   },
   {
    "duration": 35,
    "start_time": "2022-05-23T20:55:14.549Z"
   },
   {
    "duration": 14,
    "start_time": "2022-05-23T20:55:14.586Z"
   },
   {
    "duration": 6,
    "start_time": "2022-05-23T20:55:14.601Z"
   },
   {
    "duration": 185,
    "start_time": "2022-05-23T20:55:14.608Z"
   },
   {
    "duration": 15,
    "start_time": "2022-05-23T20:55:14.795Z"
   },
   {
    "duration": 22,
    "start_time": "2022-05-23T20:55:14.812Z"
   },
   {
    "duration": 4,
    "start_time": "2022-05-23T20:55:14.835Z"
   },
   {
    "duration": 18,
    "start_time": "2022-05-23T20:55:14.840Z"
   },
   {
    "duration": 22,
    "start_time": "2022-05-23T20:55:14.883Z"
   },
   {
    "duration": 4,
    "start_time": "2022-05-23T20:55:14.907Z"
   },
   {
    "duration": 16,
    "start_time": "2022-05-23T20:55:14.913Z"
   },
   {
    "duration": 284,
    "start_time": "2022-05-23T20:55:14.931Z"
   },
   {
    "duration": 317,
    "start_time": "2022-05-23T20:55:15.217Z"
   },
   {
    "duration": 250,
    "start_time": "2022-05-23T20:55:15.537Z"
   },
   {
    "duration": 9,
    "start_time": "2022-05-23T20:55:15.789Z"
   },
   {
    "duration": 11,
    "start_time": "2022-05-23T20:55:15.799Z"
   },
   {
    "duration": 11,
    "start_time": "2022-05-23T20:55:15.811Z"
   },
   {
    "duration": 8,
    "start_time": "2022-05-23T20:55:15.823Z"
   },
   {
    "duration": 106,
    "start_time": "2022-05-23T21:09:30.360Z"
   },
   {
    "duration": 254,
    "start_time": "2022-05-23T21:09:43.840Z"
   },
   {
    "duration": 264,
    "start_time": "2022-05-23T21:11:12.295Z"
   },
   {
    "duration": 261,
    "start_time": "2022-05-23T21:12:41.849Z"
   },
   {
    "duration": 274,
    "start_time": "2022-05-23T21:16:40.378Z"
   },
   {
    "duration": 365,
    "start_time": "2022-05-23T21:49:44.099Z"
   },
   {
    "duration": 256,
    "start_time": "2022-05-23T21:51:17.160Z"
   },
   {
    "duration": 260,
    "start_time": "2022-05-23T21:51:55.289Z"
   },
   {
    "duration": 268,
    "start_time": "2022-05-23T21:51:57.444Z"
   },
   {
    "duration": 256,
    "start_time": "2022-05-23T21:51:59.675Z"
   },
   {
    "duration": 269,
    "start_time": "2022-05-23T21:57:31.768Z"
   },
   {
    "duration": 404,
    "start_time": "2022-05-23T21:58:25.944Z"
   },
   {
    "duration": 257,
    "start_time": "2022-05-23T22:00:33.698Z"
   },
   {
    "duration": 241,
    "start_time": "2022-05-23T22:00:54.719Z"
   },
   {
    "duration": 245,
    "start_time": "2022-05-23T22:01:28.650Z"
   },
   {
    "duration": 253,
    "start_time": "2022-05-23T22:02:21.418Z"
   },
   {
    "duration": 268,
    "start_time": "2022-05-23T22:04:07.852Z"
   },
   {
    "duration": 411,
    "start_time": "2022-05-23T22:04:12.262Z"
   },
   {
    "duration": 278,
    "start_time": "2022-05-23T22:04:20.437Z"
   },
   {
    "duration": 1147,
    "start_time": "2022-05-23T22:06:06.855Z"
   },
   {
    "duration": 172,
    "start_time": "2022-05-23T22:06:08.005Z"
   },
   {
    "duration": 16,
    "start_time": "2022-05-23T22:06:08.179Z"
   },
   {
    "duration": 24,
    "start_time": "2022-05-23T22:06:08.197Z"
   },
   {
    "duration": 138,
    "start_time": "2022-05-23T22:06:08.223Z"
   },
   {
    "duration": 9,
    "start_time": "2022-05-23T22:06:08.363Z"
   },
   {
    "duration": 20,
    "start_time": "2022-05-23T22:06:08.384Z"
   },
   {
    "duration": 94,
    "start_time": "2022-05-23T22:06:08.406Z"
   },
   {
    "duration": 7,
    "start_time": "2022-05-23T22:06:08.502Z"
   },
   {
    "duration": 22,
    "start_time": "2022-05-23T22:06:08.511Z"
   },
   {
    "duration": 15,
    "start_time": "2022-05-23T22:06:08.534Z"
   },
   {
    "duration": 10,
    "start_time": "2022-05-23T22:06:08.551Z"
   },
   {
    "duration": 26,
    "start_time": "2022-05-23T22:06:08.563Z"
   },
   {
    "duration": 29,
    "start_time": "2022-05-23T22:06:08.591Z"
   },
   {
    "duration": 11,
    "start_time": "2022-05-23T22:06:08.622Z"
   },
   {
    "duration": 13,
    "start_time": "2022-05-23T22:06:08.634Z"
   },
   {
    "duration": 49,
    "start_time": "2022-05-23T22:06:08.649Z"
   },
   {
    "duration": 26,
    "start_time": "2022-05-23T22:06:08.700Z"
   },
   {
    "duration": 19,
    "start_time": "2022-05-23T22:06:08.727Z"
   },
   {
    "duration": 3,
    "start_time": "2022-05-23T22:06:08.748Z"
   },
   {
    "duration": 31,
    "start_time": "2022-05-23T22:06:08.753Z"
   },
   {
    "duration": 9,
    "start_time": "2022-05-23T22:06:08.785Z"
   },
   {
    "duration": 7,
    "start_time": "2022-05-23T22:06:08.795Z"
   },
   {
    "duration": 5,
    "start_time": "2022-05-23T22:06:08.803Z"
   },
   {
    "duration": 9,
    "start_time": "2022-05-23T22:06:08.809Z"
   },
   {
    "duration": 24,
    "start_time": "2022-05-23T22:06:08.819Z"
   },
   {
    "duration": 72,
    "start_time": "2022-05-23T22:06:08.845Z"
   },
   {
    "duration": 12,
    "start_time": "2022-05-23T22:06:08.921Z"
   },
   {
    "duration": 18,
    "start_time": "2022-05-23T22:06:08.934Z"
   },
   {
    "duration": 40,
    "start_time": "2022-05-23T22:06:08.954Z"
   },
   {
    "duration": 11,
    "start_time": "2022-05-23T22:06:08.995Z"
   },
   {
    "duration": 20,
    "start_time": "2022-05-23T22:06:09.008Z"
   },
   {
    "duration": 22,
    "start_time": "2022-05-23T22:06:09.030Z"
   },
   {
    "duration": 37,
    "start_time": "2022-05-23T22:06:09.054Z"
   },
   {
    "duration": 20,
    "start_time": "2022-05-23T22:06:09.093Z"
   },
   {
    "duration": 22,
    "start_time": "2022-05-23T22:06:09.115Z"
   },
   {
    "duration": 46,
    "start_time": "2022-05-23T22:06:09.138Z"
   },
   {
    "duration": 22,
    "start_time": "2022-05-23T22:06:09.185Z"
   },
   {
    "duration": 16,
    "start_time": "2022-05-23T22:06:09.209Z"
   },
   {
    "duration": 7,
    "start_time": "2022-05-23T22:06:09.227Z"
   },
   {
    "duration": 184,
    "start_time": "2022-05-23T22:06:09.235Z"
   },
   {
    "duration": 15,
    "start_time": "2022-05-23T22:06:09.421Z"
   },
   {
    "duration": 24,
    "start_time": "2022-05-23T22:06:09.438Z"
   },
   {
    "duration": 20,
    "start_time": "2022-05-23T22:06:09.463Z"
   },
   {
    "duration": 14,
    "start_time": "2022-05-23T22:06:09.485Z"
   },
   {
    "duration": 34,
    "start_time": "2022-05-23T22:06:09.500Z"
   },
   {
    "duration": 3,
    "start_time": "2022-05-23T22:06:09.536Z"
   },
   {
    "duration": 20,
    "start_time": "2022-05-23T22:06:09.541Z"
   },
   {
    "duration": 270,
    "start_time": "2022-05-23T22:06:09.563Z"
   },
   {
    "duration": 324,
    "start_time": "2022-05-23T22:06:09.835Z"
   },
   {
    "duration": 238,
    "start_time": "2022-05-23T22:06:10.161Z"
   },
   {
    "duration": 267,
    "start_time": "2022-05-23T22:06:10.400Z"
   },
   {
    "duration": 275,
    "start_time": "2022-05-23T22:06:10.669Z"
   },
   {
    "duration": 281,
    "start_time": "2022-05-23T22:06:10.945Z"
   },
   {
    "duration": 266,
    "start_time": "2022-05-23T22:06:11.228Z"
   },
   {
    "duration": 369,
    "start_time": "2022-05-23T22:06:11.496Z"
   },
   {
    "duration": 248,
    "start_time": "2022-05-23T22:06:11.867Z"
   },
   {
    "duration": 268,
    "start_time": "2022-05-23T22:06:12.117Z"
   },
   {
    "duration": 260,
    "start_time": "2022-05-23T22:06:12.387Z"
   },
   {
    "duration": 7,
    "start_time": "2022-05-23T22:06:12.649Z"
   },
   {
    "duration": 9,
    "start_time": "2022-05-23T22:06:12.657Z"
   },
   {
    "duration": 17,
    "start_time": "2022-05-23T22:06:12.668Z"
   },
   {
    "duration": 8,
    "start_time": "2022-05-23T22:06:12.687Z"
   },
   {
    "duration": 196,
    "start_time": "2022-05-23T22:19:24.946Z"
   },
   {
    "duration": 196,
    "start_time": "2022-05-23T22:20:14.130Z"
   },
   {
    "duration": 193,
    "start_time": "2022-05-23T22:23:33.453Z"
   },
   {
    "duration": 188,
    "start_time": "2022-05-23T22:23:50.858Z"
   },
   {
    "duration": 212,
    "start_time": "2022-05-23T22:24:16.164Z"
   },
   {
    "duration": 319,
    "start_time": "2022-05-23T22:25:04.701Z"
   },
   {
    "duration": 193,
    "start_time": "2022-05-23T22:25:14.032Z"
   },
   {
    "duration": 208,
    "start_time": "2022-05-23T22:28:03.534Z"
   },
   {
    "duration": 1038,
    "start_time": "2022-05-23T22:40:16.742Z"
   },
   {
    "duration": 190,
    "start_time": "2022-05-23T22:40:17.784Z"
   },
   {
    "duration": 21,
    "start_time": "2022-05-23T22:40:17.976Z"
   },
   {
    "duration": 34,
    "start_time": "2022-05-23T22:40:17.999Z"
   },
   {
    "duration": 149,
    "start_time": "2022-05-23T22:40:18.034Z"
   },
   {
    "duration": 9,
    "start_time": "2022-05-23T22:40:18.185Z"
   },
   {
    "duration": 21,
    "start_time": "2022-05-23T22:40:18.195Z"
   },
   {
    "duration": 97,
    "start_time": "2022-05-23T22:40:18.218Z"
   },
   {
    "duration": 8,
    "start_time": "2022-05-23T22:40:18.316Z"
   },
   {
    "duration": 22,
    "start_time": "2022-05-23T22:40:18.326Z"
   },
   {
    "duration": 15,
    "start_time": "2022-05-23T22:40:18.350Z"
   },
   {
    "duration": 18,
    "start_time": "2022-05-23T22:40:18.367Z"
   },
   {
    "duration": 12,
    "start_time": "2022-05-23T22:40:18.386Z"
   },
   {
    "duration": 28,
    "start_time": "2022-05-23T22:40:18.400Z"
   },
   {
    "duration": 10,
    "start_time": "2022-05-23T22:40:18.429Z"
   },
   {
    "duration": 13,
    "start_time": "2022-05-23T22:40:18.441Z"
   },
   {
    "duration": 51,
    "start_time": "2022-05-23T22:40:18.456Z"
   },
   {
    "duration": 76,
    "start_time": "2022-05-23T22:40:18.509Z"
   },
   {
    "duration": 28,
    "start_time": "2022-05-23T22:40:18.587Z"
   },
   {
    "duration": 4,
    "start_time": "2022-05-23T22:40:18.617Z"
   },
   {
    "duration": 62,
    "start_time": "2022-05-23T22:40:18.622Z"
   },
   {
    "duration": 5,
    "start_time": "2022-05-23T22:40:18.686Z"
   },
   {
    "duration": 5,
    "start_time": "2022-05-23T22:40:18.692Z"
   },
   {
    "duration": 4,
    "start_time": "2022-05-23T22:40:18.698Z"
   },
   {
    "duration": 5,
    "start_time": "2022-05-23T22:40:18.704Z"
   },
   {
    "duration": 76,
    "start_time": "2022-05-23T22:40:18.710Z"
   },
   {
    "duration": 107,
    "start_time": "2022-05-23T22:40:18.788Z"
   },
   {
    "duration": 13,
    "start_time": "2022-05-23T22:40:18.898Z"
   },
   {
    "duration": 72,
    "start_time": "2022-05-23T22:40:18.912Z"
   },
   {
    "duration": 19,
    "start_time": "2022-05-23T22:40:18.986Z"
   },
   {
    "duration": 9,
    "start_time": "2022-05-23T22:40:19.007Z"
   },
   {
    "duration": 68,
    "start_time": "2022-05-23T22:40:19.018Z"
   },
   {
    "duration": 23,
    "start_time": "2022-05-23T22:40:19.088Z"
   },
   {
    "duration": 10,
    "start_time": "2022-05-23T22:40:19.113Z"
   },
   {
    "duration": 77,
    "start_time": "2022-05-23T22:40:19.124Z"
   },
   {
    "duration": 19,
    "start_time": "2022-05-23T22:40:19.202Z"
   },
   {
    "duration": 65,
    "start_time": "2022-05-23T22:40:19.223Z"
   },
   {
    "duration": 43,
    "start_time": "2022-05-23T22:40:19.289Z"
   },
   {
    "duration": 51,
    "start_time": "2022-05-23T22:40:19.334Z"
   },
   {
    "duration": 5,
    "start_time": "2022-05-23T22:40:19.387Z"
   },
   {
    "duration": 323,
    "start_time": "2022-05-23T22:40:19.394Z"
   },
   {
    "duration": 65,
    "start_time": "2022-05-23T22:40:19.720Z"
   },
   {
    "duration": 24,
    "start_time": "2022-05-23T22:40:19.787Z"
   },
   {
    "duration": 4,
    "start_time": "2022-05-23T22:40:19.812Z"
   },
   {
    "duration": 68,
    "start_time": "2022-05-23T22:40:19.817Z"
   },
   {
    "duration": 23,
    "start_time": "2022-05-23T22:40:19.887Z"
   },
   {
    "duration": 3,
    "start_time": "2022-05-23T22:40:19.912Z"
   },
   {
    "duration": 68,
    "start_time": "2022-05-23T22:40:19.916Z"
   },
   {
    "duration": 523,
    "start_time": "2022-05-23T22:40:19.986Z"
   },
   {
    "duration": 365,
    "start_time": "2022-05-23T22:40:20.511Z"
   },
   {
    "duration": 250,
    "start_time": "2022-05-23T22:40:20.878Z"
   },
   {
    "duration": 257,
    "start_time": "2022-05-23T22:40:21.129Z"
   },
   {
    "duration": 278,
    "start_time": "2022-05-23T22:40:21.387Z"
   },
   {
    "duration": 271,
    "start_time": "2022-05-23T22:40:21.667Z"
   },
   {
    "duration": 289,
    "start_time": "2022-05-23T22:40:21.940Z"
   },
   {
    "duration": 366,
    "start_time": "2022-05-23T22:40:22.230Z"
   },
   {
    "duration": 262,
    "start_time": "2022-05-23T22:40:22.598Z"
   },
   {
    "duration": 273,
    "start_time": "2022-05-23T22:40:22.862Z"
   },
   {
    "duration": 259,
    "start_time": "2022-05-23T22:40:23.137Z"
   },
   {
    "duration": 223,
    "start_time": "2022-05-23T22:40:23.398Z"
   },
   {
    "duration": 11,
    "start_time": "2022-05-23T22:40:23.622Z"
   },
   {
    "duration": 7,
    "start_time": "2022-05-23T22:40:23.635Z"
   },
   {
    "duration": 42,
    "start_time": "2022-05-23T22:40:23.643Z"
   },
   {
    "duration": 11,
    "start_time": "2022-05-23T22:40:23.687Z"
   },
   {
    "duration": 357,
    "start_time": "2022-05-23T22:43:37.679Z"
   },
   {
    "duration": 379,
    "start_time": "2022-05-23T22:44:19.942Z"
   },
   {
    "duration": 288,
    "start_time": "2022-05-23T22:46:58.184Z"
   },
   {
    "duration": 270,
    "start_time": "2022-05-23T22:55:55.048Z"
   },
   {
    "duration": 281,
    "start_time": "2022-05-23T23:12:02.760Z"
   },
   {
    "duration": 259,
    "start_time": "2022-05-23T23:14:13.656Z"
   },
   {
    "duration": 262,
    "start_time": "2022-05-23T23:16:17.070Z"
   },
   {
    "duration": 405,
    "start_time": "2022-05-23T23:19:04.527Z"
   },
   {
    "duration": 1086,
    "start_time": "2022-05-23T23:21:26.921Z"
   },
   {
    "duration": 167,
    "start_time": "2022-05-23T23:21:28.009Z"
   },
   {
    "duration": 13,
    "start_time": "2022-05-23T23:21:28.178Z"
   },
   {
    "duration": 24,
    "start_time": "2022-05-23T23:21:28.193Z"
   },
   {
    "duration": 148,
    "start_time": "2022-05-23T23:21:28.219Z"
   },
   {
    "duration": 9,
    "start_time": "2022-05-23T23:21:28.369Z"
   },
   {
    "duration": 31,
    "start_time": "2022-05-23T23:21:28.379Z"
   },
   {
    "duration": 96,
    "start_time": "2022-05-23T23:21:28.411Z"
   },
   {
    "duration": 8,
    "start_time": "2022-05-23T23:21:28.509Z"
   },
   {
    "duration": 33,
    "start_time": "2022-05-23T23:21:28.519Z"
   },
   {
    "duration": 25,
    "start_time": "2022-05-23T23:21:28.554Z"
   },
   {
    "duration": 9,
    "start_time": "2022-05-23T23:21:28.581Z"
   },
   {
    "duration": 18,
    "start_time": "2022-05-23T23:21:28.592Z"
   },
   {
    "duration": 45,
    "start_time": "2022-05-23T23:21:28.613Z"
   },
   {
    "duration": 10,
    "start_time": "2022-05-23T23:21:28.659Z"
   },
   {
    "duration": 19,
    "start_time": "2022-05-23T23:21:28.671Z"
   },
   {
    "duration": 51,
    "start_time": "2022-05-23T23:21:28.691Z"
   },
   {
    "duration": 26,
    "start_time": "2022-05-23T23:21:28.744Z"
   },
   {
    "duration": 23,
    "start_time": "2022-05-23T23:21:28.771Z"
   },
   {
    "duration": 4,
    "start_time": "2022-05-23T23:21:28.796Z"
   },
   {
    "duration": 7,
    "start_time": "2022-05-23T23:21:28.801Z"
   },
   {
    "duration": 8,
    "start_time": "2022-05-23T23:21:28.810Z"
   },
   {
    "duration": 4,
    "start_time": "2022-05-23T23:21:28.820Z"
   },
   {
    "duration": 6,
    "start_time": "2022-05-23T23:21:28.825Z"
   },
   {
    "duration": 5,
    "start_time": "2022-05-23T23:21:28.833Z"
   },
   {
    "duration": 56,
    "start_time": "2022-05-23T23:21:28.840Z"
   },
   {
    "duration": 56,
    "start_time": "2022-05-23T23:21:28.898Z"
   },
   {
    "duration": 32,
    "start_time": "2022-05-23T23:21:28.956Z"
   },
   {
    "duration": 17,
    "start_time": "2022-05-23T23:21:28.990Z"
   },
   {
    "duration": 20,
    "start_time": "2022-05-23T23:21:29.008Z"
   },
   {
    "duration": 10,
    "start_time": "2022-05-23T23:21:29.030Z"
   },
   {
    "duration": 48,
    "start_time": "2022-05-23T23:21:29.042Z"
   },
   {
    "duration": 23,
    "start_time": "2022-05-23T23:21:29.092Z"
   },
   {
    "duration": 11,
    "start_time": "2022-05-23T23:21:29.117Z"
   },
   {
    "duration": 37,
    "start_time": "2022-05-23T23:21:29.129Z"
   },
   {
    "duration": 31,
    "start_time": "2022-05-23T23:21:29.167Z"
   },
   {
    "duration": 14,
    "start_time": "2022-05-23T23:21:29.200Z"
   },
   {
    "duration": 15,
    "start_time": "2022-05-23T23:21:29.215Z"
   },
   {
    "duration": 14,
    "start_time": "2022-05-23T23:21:29.231Z"
   },
   {
    "duration": 38,
    "start_time": "2022-05-23T23:21:29.247Z"
   },
   {
    "duration": 165,
    "start_time": "2022-05-23T23:21:29.289Z"
   },
   {
    "duration": 15,
    "start_time": "2022-05-23T23:21:29.456Z"
   },
   {
    "duration": 32,
    "start_time": "2022-05-23T23:21:29.472Z"
   },
   {
    "duration": 3,
    "start_time": "2022-05-23T23:21:29.505Z"
   },
   {
    "duration": 18,
    "start_time": "2022-05-23T23:21:29.510Z"
   },
   {
    "duration": 21,
    "start_time": "2022-05-23T23:21:29.530Z"
   },
   {
    "duration": 29,
    "start_time": "2022-05-23T23:21:29.554Z"
   },
   {
    "duration": 18,
    "start_time": "2022-05-23T23:21:29.585Z"
   },
   {
    "duration": 256,
    "start_time": "2022-05-23T23:21:29.604Z"
   },
   {
    "duration": 332,
    "start_time": "2022-05-23T23:21:29.862Z"
   },
   {
    "duration": 249,
    "start_time": "2022-05-23T23:21:30.196Z"
   },
   {
    "duration": 278,
    "start_time": "2022-05-23T23:21:30.447Z"
   },
   {
    "duration": 279,
    "start_time": "2022-05-23T23:21:30.726Z"
   },
   {
    "duration": 293,
    "start_time": "2022-05-23T23:21:31.007Z"
   },
   {
    "duration": 266,
    "start_time": "2022-05-23T23:21:31.301Z"
   },
   {
    "duration": 396,
    "start_time": "2022-05-23T23:21:31.569Z"
   },
   {
    "duration": 250,
    "start_time": "2022-05-23T23:21:31.967Z"
   },
   {
    "duration": 269,
    "start_time": "2022-05-23T23:21:32.219Z"
   },
   {
    "duration": 276,
    "start_time": "2022-05-23T23:21:32.490Z"
   },
   {
    "duration": 223,
    "start_time": "2022-05-23T23:21:32.768Z"
   },
   {
    "duration": 10,
    "start_time": "2022-05-23T23:21:32.993Z"
   },
   {
    "duration": 7,
    "start_time": "2022-05-23T23:21:33.005Z"
   },
   {
    "duration": 5,
    "start_time": "2022-05-23T23:21:33.014Z"
   },
   {
    "duration": 9,
    "start_time": "2022-05-23T23:21:33.022Z"
   },
   {
    "duration": 461,
    "start_time": "2022-05-23T23:26:26.906Z"
   },
   {
    "duration": 12,
    "start_time": "2022-05-23T23:26:41.075Z"
   },
   {
    "duration": 240,
    "start_time": "2022-05-23T23:28:12.704Z"
   },
   {
    "duration": 12,
    "start_time": "2022-05-23T23:29:17.643Z"
   },
   {
    "duration": 370,
    "start_time": "2022-05-23T23:29:49.158Z"
   },
   {
    "duration": 1045,
    "start_time": "2022-05-23T23:40:40.833Z"
   },
   {
    "duration": 161,
    "start_time": "2022-05-23T23:40:41.880Z"
   },
   {
    "duration": 15,
    "start_time": "2022-05-23T23:40:42.043Z"
   },
   {
    "duration": 41,
    "start_time": "2022-05-23T23:40:42.061Z"
   },
   {
    "duration": 138,
    "start_time": "2022-05-23T23:40:42.104Z"
   },
   {
    "duration": 10,
    "start_time": "2022-05-23T23:40:42.244Z"
   },
   {
    "duration": 39,
    "start_time": "2022-05-23T23:40:42.255Z"
   },
   {
    "duration": 87,
    "start_time": "2022-05-23T23:40:42.296Z"
   },
   {
    "duration": 8,
    "start_time": "2022-05-23T23:40:42.385Z"
   },
   {
    "duration": 19,
    "start_time": "2022-05-23T23:40:42.397Z"
   },
   {
    "duration": 15,
    "start_time": "2022-05-23T23:40:42.418Z"
   },
   {
    "duration": 8,
    "start_time": "2022-05-23T23:40:42.435Z"
   },
   {
    "duration": 42,
    "start_time": "2022-05-23T23:40:42.445Z"
   },
   {
    "duration": 35,
    "start_time": "2022-05-23T23:40:42.489Z"
   },
   {
    "duration": 10,
    "start_time": "2022-05-23T23:40:42.526Z"
   },
   {
    "duration": 14,
    "start_time": "2022-05-23T23:40:42.538Z"
   },
   {
    "duration": 37,
    "start_time": "2022-05-23T23:40:42.554Z"
   },
   {
    "duration": 28,
    "start_time": "2022-05-23T23:40:42.592Z"
   },
   {
    "duration": 21,
    "start_time": "2022-05-23T23:40:42.622Z"
   },
   {
    "duration": 5,
    "start_time": "2022-05-23T23:40:42.645Z"
   },
   {
    "duration": 32,
    "start_time": "2022-05-23T23:40:42.652Z"
   },
   {
    "duration": 6,
    "start_time": "2022-05-23T23:40:42.686Z"
   },
   {
    "duration": 4,
    "start_time": "2022-05-23T23:40:42.693Z"
   },
   {
    "duration": 5,
    "start_time": "2022-05-23T23:40:42.699Z"
   },
   {
    "duration": 5,
    "start_time": "2022-05-23T23:40:42.705Z"
   },
   {
    "duration": 24,
    "start_time": "2022-05-23T23:40:42.712Z"
   },
   {
    "duration": 89,
    "start_time": "2022-05-23T23:40:42.738Z"
   },
   {
    "duration": 11,
    "start_time": "2022-05-23T23:40:42.831Z"
   },
   {
    "duration": 17,
    "start_time": "2022-05-23T23:40:42.844Z"
   },
   {
    "duration": 35,
    "start_time": "2022-05-23T23:40:42.862Z"
   },
   {
    "duration": 10,
    "start_time": "2022-05-23T23:40:42.898Z"
   },
   {
    "duration": 19,
    "start_time": "2022-05-23T23:40:42.910Z"
   },
   {
    "duration": 22,
    "start_time": "2022-05-23T23:40:42.931Z"
   },
   {
    "duration": 11,
    "start_time": "2022-05-23T23:40:42.983Z"
   },
   {
    "duration": 23,
    "start_time": "2022-05-23T23:40:42.995Z"
   },
   {
    "duration": 19,
    "start_time": "2022-05-23T23:40:43.020Z"
   },
   {
    "duration": 13,
    "start_time": "2022-05-23T23:40:43.040Z"
   },
   {
    "duration": 39,
    "start_time": "2022-05-23T23:40:43.055Z"
   },
   {
    "duration": 14,
    "start_time": "2022-05-23T23:40:43.095Z"
   },
   {
    "duration": 6,
    "start_time": "2022-05-23T23:40:43.110Z"
   },
   {
    "duration": 192,
    "start_time": "2022-05-23T23:40:43.117Z"
   },
   {
    "duration": 15,
    "start_time": "2022-05-23T23:40:43.310Z"
   },
   {
    "duration": 22,
    "start_time": "2022-05-23T23:40:43.326Z"
   },
   {
    "duration": 3,
    "start_time": "2022-05-23T23:40:43.350Z"
   },
   {
    "duration": 37,
    "start_time": "2022-05-23T23:40:43.354Z"
   },
   {
    "duration": 22,
    "start_time": "2022-05-23T23:40:43.392Z"
   },
   {
    "duration": 3,
    "start_time": "2022-05-23T23:40:43.415Z"
   },
   {
    "duration": 16,
    "start_time": "2022-05-23T23:40:43.419Z"
   },
   {
    "duration": 276,
    "start_time": "2022-05-23T23:40:43.437Z"
   },
   {
    "duration": 322,
    "start_time": "2022-05-23T23:40:43.715Z"
   },
   {
    "duration": 237,
    "start_time": "2022-05-23T23:40:44.039Z"
   },
   {
    "duration": 269,
    "start_time": "2022-05-23T23:40:44.277Z"
   },
   {
    "duration": 283,
    "start_time": "2022-05-23T23:40:44.547Z"
   },
   {
    "duration": 291,
    "start_time": "2022-05-23T23:40:44.832Z"
   },
   {
    "duration": 298,
    "start_time": "2022-05-23T23:40:45.125Z"
   },
   {
    "duration": 400,
    "start_time": "2022-05-23T23:40:45.425Z"
   },
   {
    "duration": 256,
    "start_time": "2022-05-23T23:40:45.827Z"
   },
   {
    "duration": 274,
    "start_time": "2022-05-23T23:40:46.086Z"
   },
   {
    "duration": 267,
    "start_time": "2022-05-23T23:40:46.362Z"
   },
   {
    "duration": 247,
    "start_time": "2022-05-23T23:40:46.631Z"
   },
   {
    "duration": 10,
    "start_time": "2022-05-23T23:40:46.880Z"
   },
   {
    "duration": 6,
    "start_time": "2022-05-23T23:40:46.892Z"
   },
   {
    "duration": 8,
    "start_time": "2022-05-23T23:40:46.899Z"
   },
   {
    "duration": 10,
    "start_time": "2022-05-23T23:40:46.909Z"
   },
   {
    "duration": 1079,
    "start_time": "2022-05-23T23:46:16.101Z"
   },
   {
    "duration": 159,
    "start_time": "2022-05-23T23:46:17.184Z"
   },
   {
    "duration": 14,
    "start_time": "2022-05-23T23:46:17.344Z"
   },
   {
    "duration": 32,
    "start_time": "2022-05-23T23:46:17.360Z"
   },
   {
    "duration": 138,
    "start_time": "2022-05-23T23:46:17.393Z"
   },
   {
    "duration": 9,
    "start_time": "2022-05-23T23:46:17.532Z"
   },
   {
    "duration": 26,
    "start_time": "2022-05-23T23:46:17.542Z"
   },
   {
    "duration": 86,
    "start_time": "2022-05-23T23:46:17.584Z"
   },
   {
    "duration": 7,
    "start_time": "2022-05-23T23:46:17.671Z"
   },
   {
    "duration": 19,
    "start_time": "2022-05-23T23:46:17.683Z"
   },
   {
    "duration": 15,
    "start_time": "2022-05-23T23:46:17.704Z"
   },
   {
    "duration": 7,
    "start_time": "2022-05-23T23:46:17.721Z"
   },
   {
    "duration": 11,
    "start_time": "2022-05-23T23:46:17.730Z"
   },
   {
    "duration": 28,
    "start_time": "2022-05-23T23:46:17.743Z"
   },
   {
    "duration": 16,
    "start_time": "2022-05-23T23:46:17.772Z"
   },
   {
    "duration": 11,
    "start_time": "2022-05-23T23:46:17.789Z"
   },
   {
    "duration": 36,
    "start_time": "2022-05-23T23:46:17.801Z"
   },
   {
    "duration": 46,
    "start_time": "2022-05-23T23:46:17.838Z"
   },
   {
    "duration": 26,
    "start_time": "2022-05-23T23:46:17.886Z"
   },
   {
    "duration": 8,
    "start_time": "2022-05-23T23:46:17.914Z"
   },
   {
    "duration": 5,
    "start_time": "2022-05-23T23:46:17.923Z"
   },
   {
    "duration": 9,
    "start_time": "2022-05-23T23:46:17.930Z"
   },
   {
    "duration": 5,
    "start_time": "2022-05-23T23:46:17.940Z"
   },
   {
    "duration": 39,
    "start_time": "2022-05-23T23:46:17.948Z"
   },
   {
    "duration": 6,
    "start_time": "2022-05-23T23:46:17.989Z"
   },
   {
    "duration": 25,
    "start_time": "2022-05-23T23:46:17.998Z"
   },
   {
    "duration": 83,
    "start_time": "2022-05-23T23:46:18.024Z"
   },
   {
    "duration": 11,
    "start_time": "2022-05-23T23:46:18.111Z"
   },
   {
    "duration": 14,
    "start_time": "2022-05-23T23:46:18.124Z"
   },
   {
    "duration": 19,
    "start_time": "2022-05-23T23:46:18.139Z"
   },
   {
    "duration": 10,
    "start_time": "2022-05-23T23:46:18.184Z"
   },
   {
    "duration": 19,
    "start_time": "2022-05-23T23:46:18.196Z"
   },
   {
    "duration": 22,
    "start_time": "2022-05-23T23:46:18.216Z"
   },
   {
    "duration": 12,
    "start_time": "2022-05-23T23:46:18.240Z"
   },
   {
    "duration": 19,
    "start_time": "2022-05-23T23:46:18.283Z"
   },
   {
    "duration": 20,
    "start_time": "2022-05-23T23:46:18.303Z"
   },
   {
    "duration": 14,
    "start_time": "2022-05-23T23:46:18.324Z"
   },
   {
    "duration": 45,
    "start_time": "2022-05-23T23:46:18.339Z"
   },
   {
    "duration": 18,
    "start_time": "2022-05-23T23:46:18.386Z"
   },
   {
    "duration": 6,
    "start_time": "2022-05-23T23:46:18.405Z"
   },
   {
    "duration": 176,
    "start_time": "2022-05-23T23:46:18.412Z"
   },
   {
    "duration": 15,
    "start_time": "2022-05-23T23:46:18.589Z"
   },
   {
    "duration": 24,
    "start_time": "2022-05-23T23:46:18.605Z"
   },
   {
    "duration": 3,
    "start_time": "2022-05-23T23:46:18.631Z"
   },
   {
    "duration": 18,
    "start_time": "2022-05-23T23:46:18.635Z"
   },
   {
    "duration": 45,
    "start_time": "2022-05-23T23:46:18.654Z"
   },
   {
    "duration": 4,
    "start_time": "2022-05-23T23:46:18.701Z"
   },
   {
    "duration": 15,
    "start_time": "2022-05-23T23:46:18.706Z"
   },
   {
    "duration": 267,
    "start_time": "2022-05-23T23:46:18.723Z"
   },
   {
    "duration": 315,
    "start_time": "2022-05-23T23:46:18.992Z"
   },
   {
    "duration": 247,
    "start_time": "2022-05-23T23:46:19.309Z"
   },
   {
    "duration": 273,
    "start_time": "2022-05-23T23:46:19.558Z"
   },
   {
    "duration": 275,
    "start_time": "2022-05-23T23:46:19.833Z"
   },
   {
    "duration": 279,
    "start_time": "2022-05-23T23:46:20.110Z"
   },
   {
    "duration": 283,
    "start_time": "2022-05-23T23:46:20.391Z"
   },
   {
    "duration": 379,
    "start_time": "2022-05-23T23:46:20.676Z"
   },
   {
    "duration": 247,
    "start_time": "2022-05-23T23:46:21.057Z"
   },
   {
    "duration": 263,
    "start_time": "2022-05-23T23:46:21.306Z"
   },
   {
    "duration": 271,
    "start_time": "2022-05-23T23:46:21.571Z"
   },
   {
    "duration": 232,
    "start_time": "2022-05-23T23:46:21.845Z"
   },
   {
    "duration": 10,
    "start_time": "2022-05-23T23:46:22.079Z"
   },
   {
    "duration": 7,
    "start_time": "2022-05-23T23:46:22.091Z"
   },
   {
    "duration": 7,
    "start_time": "2022-05-23T23:46:22.100Z"
   },
   {
    "duration": 11,
    "start_time": "2022-05-23T23:46:22.109Z"
   },
   {
    "duration": 1048,
    "start_time": "2022-05-23T23:53:53.113Z"
   },
   {
    "duration": 164,
    "start_time": "2022-05-23T23:53:54.163Z"
   },
   {
    "duration": 13,
    "start_time": "2022-05-23T23:53:54.330Z"
   },
   {
    "duration": 40,
    "start_time": "2022-05-23T23:53:54.346Z"
   },
   {
    "duration": 152,
    "start_time": "2022-05-23T23:53:54.388Z"
   },
   {
    "duration": 9,
    "start_time": "2022-05-23T23:53:54.541Z"
   },
   {
    "duration": 33,
    "start_time": "2022-05-23T23:53:54.552Z"
   },
   {
    "duration": 90,
    "start_time": "2022-05-23T23:53:54.587Z"
   },
   {
    "duration": 11,
    "start_time": "2022-05-23T23:53:54.679Z"
   },
   {
    "duration": 20,
    "start_time": "2022-05-23T23:53:54.692Z"
   },
   {
    "duration": 14,
    "start_time": "2022-05-23T23:53:54.714Z"
   },
   {
    "duration": 7,
    "start_time": "2022-05-23T23:53:54.730Z"
   },
   {
    "duration": 9,
    "start_time": "2022-05-23T23:53:54.739Z"
   },
   {
    "duration": 28,
    "start_time": "2022-05-23T23:53:54.750Z"
   },
   {
    "duration": 13,
    "start_time": "2022-05-23T23:53:54.779Z"
   },
   {
    "duration": 11,
    "start_time": "2022-05-23T23:53:54.794Z"
   },
   {
    "duration": 35,
    "start_time": "2022-05-23T23:53:54.807Z"
   },
   {
    "duration": 56,
    "start_time": "2022-05-23T23:53:54.844Z"
   },
   {
    "duration": 18,
    "start_time": "2022-05-23T23:53:54.902Z"
   },
   {
    "duration": 3,
    "start_time": "2022-05-23T23:53:54.922Z"
   },
   {
    "duration": 6,
    "start_time": "2022-05-23T23:53:54.927Z"
   },
   {
    "duration": 7,
    "start_time": "2022-05-23T23:53:54.934Z"
   },
   {
    "duration": 4,
    "start_time": "2022-05-23T23:53:54.942Z"
   },
   {
    "duration": 5,
    "start_time": "2022-05-23T23:53:54.947Z"
   },
   {
    "duration": 34,
    "start_time": "2022-05-23T23:53:54.953Z"
   },
   {
    "duration": 27,
    "start_time": "2022-05-23T23:53:54.989Z"
   },
   {
    "duration": 68,
    "start_time": "2022-05-23T23:53:55.018Z"
   },
   {
    "duration": 11,
    "start_time": "2022-05-23T23:53:55.090Z"
   },
   {
    "duration": 17,
    "start_time": "2022-05-23T23:53:55.102Z"
   },
   {
    "duration": 19,
    "start_time": "2022-05-23T23:53:55.120Z"
   },
   {
    "duration": 10,
    "start_time": "2022-05-23T23:53:55.140Z"
   },
   {
    "duration": 48,
    "start_time": "2022-05-23T23:53:55.151Z"
   },
   {
    "duration": 22,
    "start_time": "2022-05-23T23:53:55.201Z"
   },
   {
    "duration": 10,
    "start_time": "2022-05-23T23:53:55.225Z"
   },
   {
    "duration": 50,
    "start_time": "2022-05-23T23:53:55.237Z"
   },
   {
    "duration": 21,
    "start_time": "2022-05-23T23:53:55.289Z"
   },
   {
    "duration": 14,
    "start_time": "2022-05-23T23:53:55.311Z"
   },
   {
    "duration": 12,
    "start_time": "2022-05-23T23:53:55.327Z"
   },
   {
    "duration": 43,
    "start_time": "2022-05-23T23:53:55.340Z"
   },
   {
    "duration": 5,
    "start_time": "2022-05-23T23:53:55.385Z"
   },
   {
    "duration": 156,
    "start_time": "2022-05-23T23:53:55.392Z"
   },
   {
    "duration": 16,
    "start_time": "2022-05-23T23:53:55.550Z"
   },
   {
    "duration": 36,
    "start_time": "2022-05-23T23:53:55.568Z"
   },
   {
    "duration": 10,
    "start_time": "2022-05-23T23:53:55.606Z"
   },
   {
    "duration": 65,
    "start_time": "2022-05-23T23:53:55.617Z"
   },
   {
    "duration": 57,
    "start_time": "2022-05-23T23:53:55.683Z"
   },
   {
    "duration": 3,
    "start_time": "2022-05-23T23:53:55.742Z"
   },
   {
    "duration": 26,
    "start_time": "2022-05-23T23:53:55.747Z"
   },
   {
    "duration": 260,
    "start_time": "2022-05-23T23:53:55.775Z"
   },
   {
    "duration": 590,
    "start_time": "2022-05-23T23:53:56.037Z"
   },
   {
    "duration": 560,
    "start_time": "2022-05-23T23:53:56.628Z"
   },
   {
    "duration": 521,
    "start_time": "2022-05-23T23:53:57.189Z"
   },
   {
    "duration": 381,
    "start_time": "2022-05-23T23:53:57.711Z"
   },
   {
    "duration": 291,
    "start_time": "2022-05-23T23:53:58.094Z"
   },
   {
    "duration": 272,
    "start_time": "2022-05-23T23:53:58.386Z"
   },
   {
    "duration": 377,
    "start_time": "2022-05-23T23:53:58.660Z"
   },
   {
    "duration": 247,
    "start_time": "2022-05-23T23:53:59.039Z"
   },
   {
    "duration": 262,
    "start_time": "2022-05-23T23:53:59.288Z"
   },
   {
    "duration": 269,
    "start_time": "2022-05-23T23:53:59.552Z"
   },
   {
    "duration": 212,
    "start_time": "2022-05-23T23:53:59.823Z"
   },
   {
    "duration": 9,
    "start_time": "2022-05-23T23:54:00.037Z"
   },
   {
    "duration": 8,
    "start_time": "2022-05-23T23:54:00.047Z"
   },
   {
    "duration": 28,
    "start_time": "2022-05-23T23:54:00.056Z"
   },
   {
    "duration": 19,
    "start_time": "2022-05-23T23:54:00.086Z"
   },
   {
    "duration": 1069,
    "start_time": "2022-05-23T23:57:04.694Z"
   },
   {
    "duration": 165,
    "start_time": "2022-05-23T23:57:05.764Z"
   },
   {
    "duration": 13,
    "start_time": "2022-05-23T23:57:05.933Z"
   },
   {
    "duration": 40,
    "start_time": "2022-05-23T23:57:05.947Z"
   },
   {
    "duration": 140,
    "start_time": "2022-05-23T23:57:05.989Z"
   },
   {
    "duration": 9,
    "start_time": "2022-05-23T23:57:06.131Z"
   },
   {
    "duration": 42,
    "start_time": "2022-05-23T23:57:06.142Z"
   },
   {
    "duration": 89,
    "start_time": "2022-05-23T23:57:06.185Z"
   },
   {
    "duration": 8,
    "start_time": "2022-05-23T23:57:06.277Z"
   },
   {
    "duration": 20,
    "start_time": "2022-05-23T23:57:06.287Z"
   },
   {
    "duration": 14,
    "start_time": "2022-05-23T23:57:06.309Z"
   },
   {
    "duration": 7,
    "start_time": "2022-05-23T23:57:06.325Z"
   },
   {
    "duration": 13,
    "start_time": "2022-05-23T23:57:06.334Z"
   },
   {
    "duration": 35,
    "start_time": "2022-05-23T23:57:06.349Z"
   },
   {
    "duration": 9,
    "start_time": "2022-05-23T23:57:06.386Z"
   },
   {
    "duration": 12,
    "start_time": "2022-05-23T23:57:06.397Z"
   },
   {
    "duration": 37,
    "start_time": "2022-05-23T23:57:06.410Z"
   },
   {
    "duration": 53,
    "start_time": "2022-05-23T23:57:06.448Z"
   },
   {
    "duration": 18,
    "start_time": "2022-05-23T23:57:06.503Z"
   },
   {
    "duration": 4,
    "start_time": "2022-05-23T23:57:06.522Z"
   },
   {
    "duration": 9,
    "start_time": "2022-05-23T23:57:06.527Z"
   },
   {
    "duration": 7,
    "start_time": "2022-05-23T23:57:06.538Z"
   },
   {
    "duration": 37,
    "start_time": "2022-05-23T23:57:06.547Z"
   },
   {
    "duration": 5,
    "start_time": "2022-05-23T23:57:06.585Z"
   },
   {
    "duration": 6,
    "start_time": "2022-05-23T23:57:06.592Z"
   },
   {
    "duration": 24,
    "start_time": "2022-05-23T23:57:06.600Z"
   },
   {
    "duration": 85,
    "start_time": "2022-05-23T23:57:06.629Z"
   },
   {
    "duration": 13,
    "start_time": "2022-05-23T23:57:06.716Z"
   },
   {
    "duration": 16,
    "start_time": "2022-05-23T23:57:06.731Z"
   },
   {
    "duration": 48,
    "start_time": "2022-05-23T23:57:06.749Z"
   },
   {
    "duration": 12,
    "start_time": "2022-05-23T23:57:06.799Z"
   },
   {
    "duration": 19,
    "start_time": "2022-05-23T23:57:06.812Z"
   },
   {
    "duration": 51,
    "start_time": "2022-05-23T23:57:06.832Z"
   },
   {
    "duration": 14,
    "start_time": "2022-05-23T23:57:06.885Z"
   },
   {
    "duration": 22,
    "start_time": "2022-05-23T23:57:06.901Z"
   },
   {
    "duration": 21,
    "start_time": "2022-05-23T23:57:06.925Z"
   },
   {
    "duration": 47,
    "start_time": "2022-05-23T23:57:06.948Z"
   },
   {
    "duration": 13,
    "start_time": "2022-05-23T23:57:06.997Z"
   },
   {
    "duration": 14,
    "start_time": "2022-05-23T23:57:07.012Z"
   },
   {
    "duration": 6,
    "start_time": "2022-05-23T23:57:07.027Z"
   },
   {
    "duration": 172,
    "start_time": "2022-05-23T23:57:07.034Z"
   },
   {
    "duration": 14,
    "start_time": "2022-05-23T23:57:07.208Z"
   },
   {
    "duration": 22,
    "start_time": "2022-05-23T23:57:07.224Z"
   },
   {
    "duration": 3,
    "start_time": "2022-05-23T23:57:07.247Z"
   },
   {
    "duration": 38,
    "start_time": "2022-05-23T23:57:07.251Z"
   },
   {
    "duration": 22,
    "start_time": "2022-05-23T23:57:07.290Z"
   },
   {
    "duration": 4,
    "start_time": "2022-05-23T23:57:07.313Z"
   },
   {
    "duration": 18,
    "start_time": "2022-05-23T23:57:07.318Z"
   },
   {
    "duration": 267,
    "start_time": "2022-05-23T23:57:07.337Z"
   },
   {
    "duration": 340,
    "start_time": "2022-05-23T23:57:07.605Z"
   },
   {
    "duration": 252,
    "start_time": "2022-05-23T23:57:07.947Z"
   },
   {
    "duration": 259,
    "start_time": "2022-05-23T23:57:08.201Z"
   },
   {
    "duration": 272,
    "start_time": "2022-05-23T23:57:08.462Z"
   },
   {
    "duration": 286,
    "start_time": "2022-05-23T23:57:08.736Z"
   },
   {
    "duration": 274,
    "start_time": "2022-05-23T23:57:09.024Z"
   },
   {
    "duration": 374,
    "start_time": "2022-05-23T23:57:09.300Z"
   },
   {
    "duration": 252,
    "start_time": "2022-05-23T23:57:09.676Z"
   },
   {
    "duration": 274,
    "start_time": "2022-05-23T23:57:09.931Z"
   },
   {
    "duration": 261,
    "start_time": "2022-05-23T23:57:10.207Z"
   },
   {
    "duration": 220,
    "start_time": "2022-05-23T23:57:10.470Z"
   },
   {
    "duration": 10,
    "start_time": "2022-05-23T23:57:10.692Z"
   },
   {
    "duration": 6,
    "start_time": "2022-05-23T23:57:10.704Z"
   },
   {
    "duration": 7,
    "start_time": "2022-05-23T23:57:10.711Z"
   },
   {
    "duration": 8,
    "start_time": "2022-05-23T23:57:10.720Z"
   },
   {
    "duration": 1238,
    "start_time": "2022-05-24T10:12:00.658Z"
   },
   {
    "duration": 896,
    "start_time": "2022-05-24T10:12:01.898Z"
   },
   {
    "duration": 14,
    "start_time": "2022-05-24T10:12:02.796Z"
   },
   {
    "duration": 27,
    "start_time": "2022-05-24T10:12:02.812Z"
   },
   {
    "duration": 644,
    "start_time": "2022-05-24T10:12:02.841Z"
   },
   {
    "duration": 9,
    "start_time": "2022-05-24T10:12:03.487Z"
   },
   {
    "duration": 22,
    "start_time": "2022-05-24T10:12:03.498Z"
   },
   {
    "duration": 161,
    "start_time": "2022-05-24T10:12:03.522Z"
   },
   {
    "duration": 8,
    "start_time": "2022-05-24T10:12:03.685Z"
   },
   {
    "duration": 20,
    "start_time": "2022-05-24T10:12:03.696Z"
   },
   {
    "duration": 48,
    "start_time": "2022-05-24T10:12:03.718Z"
   },
   {
    "duration": 9,
    "start_time": "2022-05-24T10:12:03.768Z"
   },
   {
    "duration": 13,
    "start_time": "2022-05-24T10:12:03.779Z"
   },
   {
    "duration": 60,
    "start_time": "2022-05-24T10:12:03.794Z"
   },
   {
    "duration": 10,
    "start_time": "2022-05-24T10:12:03.855Z"
   },
   {
    "duration": 13,
    "start_time": "2022-05-24T10:12:03.867Z"
   },
   {
    "duration": 40,
    "start_time": "2022-05-24T10:12:03.882Z"
   },
   {
    "duration": 25,
    "start_time": "2022-05-24T10:12:03.923Z"
   },
   {
    "duration": 20,
    "start_time": "2022-05-24T10:12:03.949Z"
   },
   {
    "duration": 4,
    "start_time": "2022-05-24T10:12:03.970Z"
   },
   {
    "duration": 22,
    "start_time": "2022-05-24T10:12:03.975Z"
   },
   {
    "duration": 9,
    "start_time": "2022-05-24T10:12:03.999Z"
   },
   {
    "duration": 6,
    "start_time": "2022-05-24T10:12:04.010Z"
   },
   {
    "duration": 5,
    "start_time": "2022-05-24T10:12:04.017Z"
   },
   {
    "duration": 7,
    "start_time": "2022-05-24T10:12:04.024Z"
   },
   {
    "duration": 26,
    "start_time": "2022-05-24T10:12:04.032Z"
   },
   {
    "duration": 75,
    "start_time": "2022-05-24T10:12:04.059Z"
   },
   {
    "duration": 13,
    "start_time": "2022-05-24T10:12:04.137Z"
   },
   {
    "duration": 20,
    "start_time": "2022-05-24T10:12:04.151Z"
   },
   {
    "duration": 38,
    "start_time": "2022-05-24T10:12:04.173Z"
   },
   {
    "duration": 11,
    "start_time": "2022-05-24T10:12:04.213Z"
   },
   {
    "duration": 20,
    "start_time": "2022-05-24T10:12:04.225Z"
   },
   {
    "duration": 23,
    "start_time": "2022-05-24T10:12:04.247Z"
   },
   {
    "duration": 30,
    "start_time": "2022-05-24T10:12:04.272Z"
   },
   {
    "duration": 19,
    "start_time": "2022-05-24T10:12:05.960Z"
   },
   {
    "duration": 22,
    "start_time": "2022-05-24T10:12:07.344Z"
   },
   {
    "duration": 22,
    "start_time": "2022-05-24T10:12:15.235Z"
   },
   {
    "duration": 25,
    "start_time": "2022-05-24T10:12:55.324Z"
   },
   {
    "duration": 22,
    "start_time": "2022-05-24T10:12:56.852Z"
   },
   {
    "duration": 21,
    "start_time": "2022-05-24T10:13:05.041Z"
   },
   {
    "duration": 25,
    "start_time": "2022-05-24T10:13:07.572Z"
   },
   {
    "duration": 25,
    "start_time": "2022-05-24T10:13:09.713Z"
   },
   {
    "duration": 21,
    "start_time": "2022-05-24T10:13:41.594Z"
   },
   {
    "duration": 22,
    "start_time": "2022-05-24T10:13:43.845Z"
   },
   {
    "duration": 23,
    "start_time": "2022-05-24T10:13:47.876Z"
   },
   {
    "duration": 19,
    "start_time": "2022-05-24T10:13:53.780Z"
   },
   {
    "duration": 23,
    "start_time": "2022-05-24T10:13:55.252Z"
   },
   {
    "duration": 20,
    "start_time": "2022-05-24T10:14:07.261Z"
   },
   {
    "duration": 20,
    "start_time": "2022-05-24T10:14:34.050Z"
   },
   {
    "duration": 14,
    "start_time": "2022-05-24T10:16:21.207Z"
   },
   {
    "duration": 12,
    "start_time": "2022-05-24T10:16:22.357Z"
   },
   {
    "duration": 14,
    "start_time": "2022-05-24T10:16:23.588Z"
   },
   {
    "duration": 6,
    "start_time": "2022-05-24T10:16:25.306Z"
   },
   {
    "duration": 146,
    "start_time": "2022-05-24T10:16:26.204Z"
   },
   {
    "duration": 15,
    "start_time": "2022-05-24T10:16:26.754Z"
   },
   {
    "duration": 24,
    "start_time": "2022-05-24T10:16:31.234Z"
   },
   {
    "duration": 23,
    "start_time": "2022-05-24T10:18:00.606Z"
   },
   {
    "duration": 25,
    "start_time": "2022-05-24T10:18:02.230Z"
   },
   {
    "duration": 1099,
    "start_time": "2022-05-24T10:18:56.634Z"
   },
   {
    "duration": 171,
    "start_time": "2022-05-24T10:18:57.735Z"
   },
   {
    "duration": 14,
    "start_time": "2022-05-24T10:18:57.908Z"
   },
   {
    "duration": 24,
    "start_time": "2022-05-24T10:18:57.924Z"
   },
   {
    "duration": 151,
    "start_time": "2022-05-24T10:18:57.949Z"
   },
   {
    "duration": 8,
    "start_time": "2022-05-24T10:18:58.102Z"
   },
   {
    "duration": 24,
    "start_time": "2022-05-24T10:18:58.111Z"
   },
   {
    "duration": 104,
    "start_time": "2022-05-24T10:18:58.136Z"
   },
   {
    "duration": 7,
    "start_time": "2022-05-24T10:18:58.242Z"
   },
   {
    "duration": 22,
    "start_time": "2022-05-24T10:18:58.252Z"
   },
   {
    "duration": 20,
    "start_time": "2022-05-24T10:18:58.275Z"
   },
   {
    "duration": 8,
    "start_time": "2022-05-24T10:18:58.297Z"
   },
   {
    "duration": 12,
    "start_time": "2022-05-24T10:18:58.307Z"
   },
   {
    "duration": 30,
    "start_time": "2022-05-24T10:18:58.321Z"
   },
   {
    "duration": 10,
    "start_time": "2022-05-24T10:18:58.352Z"
   },
   {
    "duration": 13,
    "start_time": "2022-05-24T10:18:58.364Z"
   },
   {
    "duration": 54,
    "start_time": "2022-05-24T10:18:58.379Z"
   },
   {
    "duration": 26,
    "start_time": "2022-05-24T10:18:58.435Z"
   },
   {
    "duration": 21,
    "start_time": "2022-05-24T10:18:58.463Z"
   },
   {
    "duration": 4,
    "start_time": "2022-05-24T10:18:58.495Z"
   },
   {
    "duration": 8,
    "start_time": "2022-05-24T10:18:58.501Z"
   },
   {
    "duration": 8,
    "start_time": "2022-05-24T10:18:58.511Z"
   },
   {
    "duration": 4,
    "start_time": "2022-05-24T10:18:58.521Z"
   },
   {
    "duration": 9,
    "start_time": "2022-05-24T10:18:58.527Z"
   },
   {
    "duration": 7,
    "start_time": "2022-05-24T10:18:58.537Z"
   },
   {
    "duration": 25,
    "start_time": "2022-05-24T10:18:58.545Z"
   },
   {
    "duration": 78,
    "start_time": "2022-05-24T10:18:58.572Z"
   },
   {
    "duration": 14,
    "start_time": "2022-05-24T10:18:58.653Z"
   },
   {
    "duration": 36,
    "start_time": "2022-05-24T10:18:58.668Z"
   },
   {
    "duration": 20,
    "start_time": "2022-05-24T10:18:58.706Z"
   },
   {
    "duration": 12,
    "start_time": "2022-05-24T10:18:58.727Z"
   },
   {
    "duration": 17,
    "start_time": "2022-05-24T10:18:58.741Z"
   },
   {
    "duration": 50,
    "start_time": "2022-05-24T10:18:58.760Z"
   },
   {
    "duration": 12,
    "start_time": "2022-05-24T10:18:58.812Z"
   },
   {
    "duration": 21,
    "start_time": "2022-05-24T10:18:58.826Z"
   },
   {
    "duration": 46,
    "start_time": "2022-05-24T10:18:58.849Z"
   },
   {
    "duration": 15,
    "start_time": "2022-05-24T10:18:58.897Z"
   },
   {
    "duration": 13,
    "start_time": "2022-05-24T10:18:58.914Z"
   },
   {
    "duration": 15,
    "start_time": "2022-05-24T10:18:58.928Z"
   },
   {
    "duration": 12,
    "start_time": "2022-05-24T10:18:58.944Z"
   },
   {
    "duration": 178,
    "start_time": "2022-05-24T10:18:58.958Z"
   },
   {
    "duration": 33,
    "start_time": "2022-05-24T10:20:32.467Z"
   },
   {
    "duration": 27,
    "start_time": "2022-05-24T10:20:56.387Z"
   },
   {
    "duration": 25,
    "start_time": "2022-05-24T10:21:22.076Z"
   },
   {
    "duration": 40,
    "start_time": "2022-05-24T10:21:52.684Z"
   },
   {
    "duration": 35,
    "start_time": "2022-05-24T10:22:09.482Z"
   },
   {
    "duration": 26,
    "start_time": "2022-05-24T10:23:49.477Z"
   },
   {
    "duration": 16,
    "start_time": "2022-05-24T10:24:08.214Z"
   },
   {
    "duration": 19,
    "start_time": "2022-05-24T10:26:10.023Z"
   },
   {
    "duration": 1172,
    "start_time": "2022-05-24T10:30:10.619Z"
   },
   {
    "duration": 178,
    "start_time": "2022-05-24T10:30:11.794Z"
   },
   {
    "duration": 15,
    "start_time": "2022-05-24T10:30:11.974Z"
   },
   {
    "duration": 29,
    "start_time": "2022-05-24T10:30:11.996Z"
   },
   {
    "duration": 150,
    "start_time": "2022-05-24T10:30:12.026Z"
   },
   {
    "duration": 20,
    "start_time": "2022-05-24T10:30:12.178Z"
   },
   {
    "duration": 33,
    "start_time": "2022-05-24T10:30:12.200Z"
   },
   {
    "duration": 136,
    "start_time": "2022-05-24T10:30:12.235Z"
   },
   {
    "duration": 8,
    "start_time": "2022-05-24T10:30:12.373Z"
   },
   {
    "duration": 21,
    "start_time": "2022-05-24T10:30:12.395Z"
   },
   {
    "duration": 16,
    "start_time": "2022-05-24T10:30:12.418Z"
   },
   {
    "duration": 9,
    "start_time": "2022-05-24T10:30:12.435Z"
   },
   {
    "duration": 15,
    "start_time": "2022-05-24T10:30:12.446Z"
   },
   {
    "duration": 29,
    "start_time": "2022-05-24T10:30:12.463Z"
   },
   {
    "duration": 10,
    "start_time": "2022-05-24T10:30:12.495Z"
   },
   {
    "duration": 12,
    "start_time": "2022-05-24T10:30:12.507Z"
   },
   {
    "duration": 38,
    "start_time": "2022-05-24T10:30:12.521Z"
   },
   {
    "duration": 50,
    "start_time": "2022-05-24T10:30:12.561Z"
   },
   {
    "duration": 21,
    "start_time": "2022-05-24T10:30:12.613Z"
   },
   {
    "duration": 4,
    "start_time": "2022-05-24T10:30:12.636Z"
   },
   {
    "duration": 10,
    "start_time": "2022-05-24T10:30:12.642Z"
   },
   {
    "duration": 12,
    "start_time": "2022-05-24T10:30:12.653Z"
   },
   {
    "duration": 28,
    "start_time": "2022-05-24T10:30:12.667Z"
   },
   {
    "duration": 6,
    "start_time": "2022-05-24T10:30:12.697Z"
   },
   {
    "duration": 8,
    "start_time": "2022-05-24T10:30:12.704Z"
   },
   {
    "duration": 30,
    "start_time": "2022-05-24T10:30:12.714Z"
   },
   {
    "duration": 74,
    "start_time": "2022-05-24T10:30:12.746Z"
   },
   {
    "duration": 12,
    "start_time": "2022-05-24T10:30:12.823Z"
   },
   {
    "duration": 33,
    "start_time": "2022-05-24T10:30:12.837Z"
   },
   {
    "duration": 22,
    "start_time": "2022-05-24T10:30:12.872Z"
   },
   {
    "duration": 15,
    "start_time": "2022-05-24T10:30:12.896Z"
   },
   {
    "duration": 21,
    "start_time": "2022-05-24T10:30:12.913Z"
   },
   {
    "duration": 30,
    "start_time": "2022-05-24T10:30:12.936Z"
   },
   {
    "duration": 34,
    "start_time": "2022-05-24T10:30:12.968Z"
   },
   {
    "duration": 26,
    "start_time": "2022-05-24T10:30:13.003Z"
   },
   {
    "duration": 134,
    "start_time": "2022-05-24T10:30:13.031Z"
   },
   {
    "duration": 0,
    "start_time": "2022-05-24T10:30:13.167Z"
   },
   {
    "duration": 0,
    "start_time": "2022-05-24T10:30:13.169Z"
   },
   {
    "duration": 0,
    "start_time": "2022-05-24T10:30:13.170Z"
   },
   {
    "duration": 0,
    "start_time": "2022-05-24T10:30:13.171Z"
   },
   {
    "duration": 0,
    "start_time": "2022-05-24T10:30:13.173Z"
   },
   {
    "duration": 0,
    "start_time": "2022-05-24T10:30:13.174Z"
   },
   {
    "duration": 0,
    "start_time": "2022-05-24T10:30:13.178Z"
   },
   {
    "duration": 0,
    "start_time": "2022-05-24T10:30:13.179Z"
   },
   {
    "duration": 0,
    "start_time": "2022-05-24T10:30:13.195Z"
   },
   {
    "duration": 0,
    "start_time": "2022-05-24T10:30:13.196Z"
   },
   {
    "duration": 0,
    "start_time": "2022-05-24T10:30:13.197Z"
   },
   {
    "duration": 0,
    "start_time": "2022-05-24T10:30:13.198Z"
   },
   {
    "duration": 0,
    "start_time": "2022-05-24T10:30:13.199Z"
   },
   {
    "duration": 0,
    "start_time": "2022-05-24T10:30:13.200Z"
   },
   {
    "duration": 0,
    "start_time": "2022-05-24T10:30:13.201Z"
   },
   {
    "duration": 0,
    "start_time": "2022-05-24T10:30:13.202Z"
   },
   {
    "duration": 0,
    "start_time": "2022-05-24T10:30:13.203Z"
   },
   {
    "duration": 0,
    "start_time": "2022-05-24T10:30:13.204Z"
   },
   {
    "duration": 0,
    "start_time": "2022-05-24T10:30:13.205Z"
   },
   {
    "duration": 0,
    "start_time": "2022-05-24T10:30:13.206Z"
   },
   {
    "duration": 0,
    "start_time": "2022-05-24T10:30:13.207Z"
   },
   {
    "duration": 0,
    "start_time": "2022-05-24T10:30:13.208Z"
   },
   {
    "duration": 0,
    "start_time": "2022-05-24T10:30:13.209Z"
   },
   {
    "duration": 0,
    "start_time": "2022-05-24T10:30:13.210Z"
   },
   {
    "duration": 0,
    "start_time": "2022-05-24T10:30:13.211Z"
   },
   {
    "duration": 0,
    "start_time": "2022-05-24T10:30:13.213Z"
   },
   {
    "duration": 0,
    "start_time": "2022-05-24T10:30:13.213Z"
   },
   {
    "duration": 0,
    "start_time": "2022-05-24T10:30:13.214Z"
   },
   {
    "duration": 0,
    "start_time": "2022-05-24T10:30:13.216Z"
   },
   {
    "duration": 1172,
    "start_time": "2022-05-24T10:32:13.171Z"
   },
   {
    "duration": 184,
    "start_time": "2022-05-24T10:32:14.345Z"
   },
   {
    "duration": 15,
    "start_time": "2022-05-24T10:32:14.531Z"
   },
   {
    "duration": 28,
    "start_time": "2022-05-24T10:32:14.548Z"
   },
   {
    "duration": 141,
    "start_time": "2022-05-24T10:32:14.595Z"
   },
   {
    "duration": 10,
    "start_time": "2022-05-24T10:32:14.738Z"
   },
   {
    "duration": 28,
    "start_time": "2022-05-24T10:32:14.750Z"
   },
   {
    "duration": 92,
    "start_time": "2022-05-24T10:32:14.780Z"
   },
   {
    "duration": 8,
    "start_time": "2022-05-24T10:32:14.874Z"
   },
   {
    "duration": 30,
    "start_time": "2022-05-24T10:32:14.885Z"
   },
   {
    "duration": 17,
    "start_time": "2022-05-24T10:32:14.917Z"
   },
   {
    "duration": 10,
    "start_time": "2022-05-24T10:32:14.936Z"
   },
   {
    "duration": 13,
    "start_time": "2022-05-24T10:32:14.948Z"
   },
   {
    "duration": 34,
    "start_time": "2022-05-24T10:32:14.963Z"
   },
   {
    "duration": 12,
    "start_time": "2022-05-24T10:32:14.999Z"
   },
   {
    "duration": 33,
    "start_time": "2022-05-24T10:32:15.013Z"
   },
   {
    "duration": 51,
    "start_time": "2022-05-24T10:32:15.048Z"
   },
   {
    "duration": 28,
    "start_time": "2022-05-24T10:32:15.102Z"
   },
   {
    "duration": 20,
    "start_time": "2022-05-24T10:32:15.132Z"
   },
   {
    "duration": 4,
    "start_time": "2022-05-24T10:32:15.154Z"
   },
   {
    "duration": 13,
    "start_time": "2022-05-24T10:32:15.160Z"
   },
   {
    "duration": 20,
    "start_time": "2022-05-24T10:32:15.175Z"
   },
   {
    "duration": 17,
    "start_time": "2022-05-24T10:32:15.197Z"
   },
   {
    "duration": 17,
    "start_time": "2022-05-24T10:32:15.216Z"
   },
   {
    "duration": 13,
    "start_time": "2022-05-24T10:32:15.235Z"
   },
   {
    "duration": 28,
    "start_time": "2022-05-24T10:32:15.250Z"
   },
   {
    "duration": 57,
    "start_time": "2022-05-24T10:32:15.280Z"
   },
   {
    "duration": 13,
    "start_time": "2022-05-24T10:32:15.341Z"
   },
   {
    "duration": 18,
    "start_time": "2022-05-24T10:32:15.356Z"
   },
   {
    "duration": 40,
    "start_time": "2022-05-24T10:32:15.378Z"
   },
   {
    "duration": 15,
    "start_time": "2022-05-24T10:32:15.420Z"
   },
   {
    "duration": 39,
    "start_time": "2022-05-24T10:32:15.437Z"
   },
   {
    "duration": 34,
    "start_time": "2022-05-24T10:32:15.478Z"
   },
   {
    "duration": 15,
    "start_time": "2022-05-24T10:32:15.514Z"
   },
   {
    "duration": 35,
    "start_time": "2022-05-24T10:32:15.531Z"
   },
   {
    "duration": 38,
    "start_time": "2022-05-24T10:32:15.568Z"
   },
   {
    "duration": 16,
    "start_time": "2022-05-24T10:32:15.608Z"
   },
   {
    "duration": 15,
    "start_time": "2022-05-24T10:32:15.626Z"
   },
   {
    "duration": 16,
    "start_time": "2022-05-24T10:32:15.643Z"
   },
   {
    "duration": 38,
    "start_time": "2022-05-24T10:32:15.661Z"
   },
   {
    "duration": 172,
    "start_time": "2022-05-24T10:32:15.701Z"
   },
   {
    "duration": 21,
    "start_time": "2022-05-24T10:32:15.875Z"
   },
   {
    "duration": 25,
    "start_time": "2022-05-24T10:32:15.898Z"
   },
   {
    "duration": 3,
    "start_time": "2022-05-24T10:32:15.925Z"
   },
   {
    "duration": 23,
    "start_time": "2022-05-24T10:32:15.930Z"
   },
   {
    "duration": 46,
    "start_time": "2022-05-24T10:32:15.955Z"
   },
   {
    "duration": 3,
    "start_time": "2022-05-24T10:32:16.003Z"
   },
   {
    "duration": 19,
    "start_time": "2022-05-24T10:32:16.008Z"
   },
   {
    "duration": 304,
    "start_time": "2022-05-24T10:32:16.029Z"
   },
   {
    "duration": 358,
    "start_time": "2022-05-24T10:32:16.334Z"
   },
   {
    "duration": 269,
    "start_time": "2022-05-24T10:32:16.694Z"
   },
   {
    "duration": 338,
    "start_time": "2022-05-24T10:32:16.965Z"
   },
   {
    "duration": 317,
    "start_time": "2022-05-24T10:32:17.306Z"
   },
   {
    "duration": 301,
    "start_time": "2022-05-24T10:32:17.625Z"
   },
   {
    "duration": 302,
    "start_time": "2022-05-24T10:32:17.927Z"
   },
   {
    "duration": 396,
    "start_time": "2022-05-24T10:32:18.231Z"
   },
   {
    "duration": 267,
    "start_time": "2022-05-24T10:32:18.629Z"
   },
   {
    "duration": 341,
    "start_time": "2022-05-24T10:32:18.898Z"
   },
   {
    "duration": 655,
    "start_time": "2022-05-24T10:32:19.240Z"
   },
   {
    "duration": 501,
    "start_time": "2022-05-24T10:32:19.897Z"
   },
   {
    "duration": 10,
    "start_time": "2022-05-24T10:32:20.401Z"
   },
   {
    "duration": 6,
    "start_time": "2022-05-24T10:32:20.413Z"
   },
   {
    "duration": 7,
    "start_time": "2022-05-24T10:32:20.421Z"
   },
   {
    "duration": 69,
    "start_time": "2022-05-24T10:32:20.430Z"
   }
  ],
  "kernelspec": {
   "display_name": "Python 3 (ipykernel)",
   "language": "python",
   "name": "python3"
  },
  "language_info": {
   "codemirror_mode": {
    "name": "ipython",
    "version": 3
   },
   "file_extension": ".py",
   "mimetype": "text/x-python",
   "name": "python",
   "nbconvert_exporter": "python",
   "pygments_lexer": "ipython3",
   "version": "3.9.7"
  },
  "toc": {
   "base_numbering": 1,
   "nav_menu": {},
   "number_sections": false,
   "sideBar": true,
   "skip_h1_title": false,
   "title_cell": "Table of Contents",
   "title_sidebar": "Содержание",
   "toc_cell": true,
   "toc_position": {
    "height": "calc(100% - 180px)",
    "left": "10px",
    "top": "150px",
    "width": "366.4px"
   },
   "toc_section_display": true,
   "toc_window_display": true
  }
 },
 "nbformat": 4,
 "nbformat_minor": 2
}
