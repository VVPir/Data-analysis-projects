{
 "cells": [
  {
   "cell_type": "markdown",
   "metadata": {
    "id": "E0vqbgi9ay0H"
   },
   "source": [
    "# Яндекс.Музыка"
   ]
  },
  {
   "cell_type": "markdown",
   "metadata": {
    "id": "VUC88oWjTJw2"
   },
   "source": [
    "Сравнение Москвы и Петербурга окружено мифами. Например:\n",
    " * Москва — мегаполис, подчинённый жёсткому ритму рабочей недели;\n",
    " * Петербург — культурная столица, со своими вкусами.\n",
    "\n",
    "На данных Яндекс.Музыки вы сравните поведение пользователей двух столиц.\n",
    "\n",
    "**Цель исследования** — проверьте три гипотезы:\n",
    "1. Активность пользователей зависит от дня недели. Причём в Москве и Петербурге это проявляется по-разному.\n",
    "2. В понедельник утром в Москве преобладают одни жанры, а в Петербурге — другие. Так же и вечером пятницы преобладают разные жанры — в зависимости от города. \n",
    "3. Москва и Петербург предпочитают разные жанры музыки. В Москве чаще слушают поп-музыку, в Петербурге — русский рэп.\n",
    "\n",
    "**Ход исследования**\n",
    "\n",
    "Данные о поведении пользователей вы получите из файла `yandex_music_project.csv`. О качестве данных ничего не известно. Поэтому перед проверкой гипотез понадобится обзор данных. \n",
    "\n",
    "Вы проверите данные на ошибки и оцените их влияние на исследование. Затем, на этапе предобработки вы поищете возможность исправить самые критичные ошибки данных.\n",
    " \n",
    "Таким образом, исследование пройдёт в три этапа:\n",
    " 1. Обзор данных.\n",
    " 2. Предобработка данных.\n",
    " 3. Проверка гипотез.\n",
    "\n"
   ]
  },
  {
   "cell_type": "markdown",
   "metadata": {
    "id": "Ml1hmfXC_Zcs"
   },
   "source": [
    "## Обзор данных\n",
    "\n",
    "Составьте первое представление о данных Яндекс.Музыки.\n",
    "\n",
    "\n"
   ]
  },
  {
   "cell_type": "markdown",
   "metadata": {
    "id": "57eAOGIz_Zcs"
   },
   "source": [
    "Основной инструмент аналитика — `pandas`. Импортируйте эту библиотеку."
   ]
  },
  {
   "cell_type": "code",
   "execution_count": 1,
   "metadata": {
    "id": "AXN7PHPN_Zcs"
   },
   "outputs": [],
   "source": [
    "import pandas as pd# импорт библиотеки pandas"
   ]
  },
  {
   "cell_type": "markdown",
   "metadata": {
    "id": "SG23P8tt_Zcs"
   },
   "source": [
    "Прочитайте файл `yandex_music_project.csv` из папки `/datasets` и сохраните его в переменной `df`:"
   ]
  },
  {
   "cell_type": "code",
   "execution_count": 2,
   "metadata": {
    "id": "fFVu7vqh_Zct"
   },
   "outputs": [],
   "source": [
    "df = pd.read_csv('/datasets/yandex_music_project.csv')# чтение файла с данными и сохранение в df"
   ]
  },
  {
   "cell_type": "markdown",
   "metadata": {
    "id": "rDoOMd3uTqnZ"
   },
   "source": [
    "Выведите на экран первые десять строк таблицы:"
   ]
  },
  {
   "cell_type": "code",
   "execution_count": 3,
   "metadata": {
    "id": "oWTVX3gW_Zct"
   },
   "outputs": [
    {
     "data": {
      "text/html": [
       "<div>\n",
       "<style scoped>\n",
       "    .dataframe tbody tr th:only-of-type {\n",
       "        vertical-align: middle;\n",
       "    }\n",
       "\n",
       "    .dataframe tbody tr th {\n",
       "        vertical-align: top;\n",
       "    }\n",
       "\n",
       "    .dataframe thead th {\n",
       "        text-align: right;\n",
       "    }\n",
       "</style>\n",
       "<table border=\"1\" class=\"dataframe\">\n",
       "  <thead>\n",
       "    <tr style=\"text-align: right;\">\n",
       "      <th></th>\n",
       "      <th>userID</th>\n",
       "      <th>Track</th>\n",
       "      <th>artist</th>\n",
       "      <th>genre</th>\n",
       "      <th>City</th>\n",
       "      <th>time</th>\n",
       "      <th>Day</th>\n",
       "    </tr>\n",
       "  </thead>\n",
       "  <tbody>\n",
       "    <tr>\n",
       "      <th>0</th>\n",
       "      <td>FFB692EC</td>\n",
       "      <td>Kamigata To Boots</td>\n",
       "      <td>The Mass Missile</td>\n",
       "      <td>rock</td>\n",
       "      <td>Saint-Petersburg</td>\n",
       "      <td>20:28:33</td>\n",
       "      <td>Wednesday</td>\n",
       "    </tr>\n",
       "    <tr>\n",
       "      <th>1</th>\n",
       "      <td>55204538</td>\n",
       "      <td>Delayed Because of Accident</td>\n",
       "      <td>Andreas Rönnberg</td>\n",
       "      <td>rock</td>\n",
       "      <td>Moscow</td>\n",
       "      <td>14:07:09</td>\n",
       "      <td>Friday</td>\n",
       "    </tr>\n",
       "    <tr>\n",
       "      <th>2</th>\n",
       "      <td>20EC38</td>\n",
       "      <td>Funiculì funiculà</td>\n",
       "      <td>Mario Lanza</td>\n",
       "      <td>pop</td>\n",
       "      <td>Saint-Petersburg</td>\n",
       "      <td>20:58:07</td>\n",
       "      <td>Wednesday</td>\n",
       "    </tr>\n",
       "    <tr>\n",
       "      <th>3</th>\n",
       "      <td>A3DD03C9</td>\n",
       "      <td>Dragons in the Sunset</td>\n",
       "      <td>Fire + Ice</td>\n",
       "      <td>folk</td>\n",
       "      <td>Saint-Petersburg</td>\n",
       "      <td>08:37:09</td>\n",
       "      <td>Monday</td>\n",
       "    </tr>\n",
       "    <tr>\n",
       "      <th>4</th>\n",
       "      <td>E2DC1FAE</td>\n",
       "      <td>Soul People</td>\n",
       "      <td>Space Echo</td>\n",
       "      <td>dance</td>\n",
       "      <td>Moscow</td>\n",
       "      <td>08:34:34</td>\n",
       "      <td>Monday</td>\n",
       "    </tr>\n",
       "    <tr>\n",
       "      <th>5</th>\n",
       "      <td>842029A1</td>\n",
       "      <td>Преданная</td>\n",
       "      <td>IMPERVTOR</td>\n",
       "      <td>rusrap</td>\n",
       "      <td>Saint-Petersburg</td>\n",
       "      <td>13:09:41</td>\n",
       "      <td>Friday</td>\n",
       "    </tr>\n",
       "    <tr>\n",
       "      <th>6</th>\n",
       "      <td>4CB90AA5</td>\n",
       "      <td>True</td>\n",
       "      <td>Roman Messer</td>\n",
       "      <td>dance</td>\n",
       "      <td>Moscow</td>\n",
       "      <td>13:00:07</td>\n",
       "      <td>Wednesday</td>\n",
       "    </tr>\n",
       "    <tr>\n",
       "      <th>7</th>\n",
       "      <td>F03E1C1F</td>\n",
       "      <td>Feeling This Way</td>\n",
       "      <td>Polina Griffith</td>\n",
       "      <td>dance</td>\n",
       "      <td>Moscow</td>\n",
       "      <td>20:47:49</td>\n",
       "      <td>Wednesday</td>\n",
       "    </tr>\n",
       "    <tr>\n",
       "      <th>8</th>\n",
       "      <td>8FA1D3BE</td>\n",
       "      <td>И вновь продолжается бой</td>\n",
       "      <td>NaN</td>\n",
       "      <td>ruspop</td>\n",
       "      <td>Moscow</td>\n",
       "      <td>09:17:40</td>\n",
       "      <td>Friday</td>\n",
       "    </tr>\n",
       "    <tr>\n",
       "      <th>9</th>\n",
       "      <td>E772D5C0</td>\n",
       "      <td>Pessimist</td>\n",
       "      <td>NaN</td>\n",
       "      <td>dance</td>\n",
       "      <td>Saint-Petersburg</td>\n",
       "      <td>21:20:49</td>\n",
       "      <td>Wednesday</td>\n",
       "    </tr>\n",
       "  </tbody>\n",
       "</table>\n",
       "</div>"
      ],
      "text/plain": [
       "     userID                        Track            artist   genre  \\\n",
       "0  FFB692EC            Kamigata To Boots  The Mass Missile    rock   \n",
       "1  55204538  Delayed Because of Accident  Andreas Rönnberg    rock   \n",
       "2    20EC38            Funiculì funiculà       Mario Lanza     pop   \n",
       "3  A3DD03C9        Dragons in the Sunset        Fire + Ice    folk   \n",
       "4  E2DC1FAE                  Soul People        Space Echo   dance   \n",
       "5  842029A1                    Преданная         IMPERVTOR  rusrap   \n",
       "6  4CB90AA5                         True      Roman Messer   dance   \n",
       "7  F03E1C1F             Feeling This Way   Polina Griffith   dance   \n",
       "8  8FA1D3BE     И вновь продолжается бой               NaN  ruspop   \n",
       "9  E772D5C0                    Pessimist               NaN   dance   \n",
       "\n",
       "             City        time        Day  \n",
       "0  Saint-Petersburg  20:28:33  Wednesday  \n",
       "1            Moscow  14:07:09     Friday  \n",
       "2  Saint-Petersburg  20:58:07  Wednesday  \n",
       "3  Saint-Petersburg  08:37:09     Monday  \n",
       "4            Moscow  08:34:34     Monday  \n",
       "5  Saint-Petersburg  13:09:41     Friday  \n",
       "6            Moscow  13:00:07  Wednesday  \n",
       "7            Moscow  20:47:49  Wednesday  \n",
       "8            Moscow  09:17:40     Friday  \n",
       "9  Saint-Petersburg  21:20:49  Wednesday  "
      ]
     },
     "execution_count": 3,
     "metadata": {},
     "output_type": "execute_result"
    }
   ],
   "source": [
    "df.head(10)# получение первых 10 строк таблицы df"
   ]
  },
  {
   "cell_type": "markdown",
   "metadata": {
    "id": "EO73Kwic_Zct"
   },
   "source": [
    "Одной командой получить общую информацию о таблице:"
   ]
  },
  {
   "cell_type": "code",
   "execution_count": 4,
   "metadata": {
    "id": "DSf2kIb-_Zct"
   },
   "outputs": [
    {
     "name": "stdout",
     "output_type": "stream",
     "text": [
      "<class 'pandas.core.frame.DataFrame'>\n",
      "RangeIndex: 65079 entries, 0 to 65078\n",
      "Data columns (total 7 columns):\n",
      " #   Column    Non-Null Count  Dtype \n",
      "---  ------    --------------  ----- \n",
      " 0     userID  65079 non-null  object\n",
      " 1   Track     63848 non-null  object\n",
      " 2   artist    57876 non-null  object\n",
      " 3   genre     63881 non-null  object\n",
      " 4     City    65079 non-null  object\n",
      " 5   time      65079 non-null  object\n",
      " 6   Day       65079 non-null  object\n",
      "dtypes: object(7)\n",
      "memory usage: 3.5+ MB\n"
     ]
    }
   ],
   "source": [
    "df.info()# получение общей информации о данных в таблице df"
   ]
  },
  {
   "cell_type": "markdown",
   "metadata": {
    "id": "TaQ2Iwbr_Zct"
   },
   "source": [
    "Итак, в таблице семь столбцов. Тип данных во всех столбцах — `object`.\n",
    "\n",
    "Согласно документации к данным:\n",
    "* `userID` — идентификатор пользователя;\n",
    "* `Track` — название трека;  \n",
    "* `artist` — имя исполнителя;\n",
    "* `genre` — название жанра;\n",
    "* `City` — город пользователя;\n",
    "* `time` — время начала прослушивания;\n",
    "* `Day` — день недели.\n",
    "\n",
    "В названиях колонок видны три нарушения стиля:\n",
    "1. Строчные буквы сочетаются с прописными.\n",
    "2. Встречаются пробелы.\n",
    "3. Отсутствует \"змеиный_регистр\".\n",
    "\n",
    "\n",
    "\n",
    "\n",
    "Количество значений в столбцах различается. Значит, в данных есть пропущенные значения.\n"
   ]
  },
  {
   "cell_type": "markdown",
   "metadata": {
    "id": "MCB6-dXG_Zct"
   },
   "source": [
    "**Выводы**\n",
    "\n",
    "В каждой строке таблицы — данные о прослушанном треке. Часть колонок описывает саму композицию: название, исполнителя и жанр. Остальные данные рассказывают о пользователе: из какого он города, когда он слушал музыку. \n",
    "\n",
    "Предварительно можно утверждать, что, данных достаточно для проверки гипотез. Но встречаются пропуски в данных, а в названиях колонок — расхождения с хорошим стилем.\n",
    "\n",
    "Чтобы двигаться дальше, нужно устранить проблемы в данных."
   ]
  },
  {
   "cell_type": "markdown",
   "metadata": {
    "id": "SjYF6Ub9_Zct"
   },
   "source": [
    "## Предобработка данных\n",
    "Исправьте стиль в заголовках столбцов, исключите пропуски. Затем проверьте данные на дубликаты."
   ]
  },
  {
   "cell_type": "markdown",
   "metadata": {
    "id": "dIaKXr29_Zct"
   },
   "source": [
    "### Стиль заголовков\n",
    "Выведите на экран названия столбцов:"
   ]
  },
  {
   "cell_type": "code",
   "execution_count": 5,
   "metadata": {
    "id": "oKOTdF_Q_Zct"
   },
   "outputs": [
    {
     "data": {
      "text/plain": [
       "Index(['  userID', 'Track', 'artist', 'genre', '  City  ', 'time', 'Day'], dtype='object')"
      ]
     },
     "execution_count": 5,
     "metadata": {},
     "output_type": "execute_result"
    }
   ],
   "source": [
    "df.columns # перечень названий столбцов таблицы df"
   ]
  },
  {
   "cell_type": "markdown",
   "metadata": {
    "id": "zj5534cv_Zct"
   },
   "source": [
    "Приведите названия в соответствие с хорошим стилем:\n",
    "* несколько слов в названии запишите в «змеином_регистре»,\n",
    "* все символы сделайте строчными,\n",
    "* устраните пробелы.\n",
    "\n",
    "Для этого переименуйте колонки так:\n",
    "* `'  userID'` → `'user_id'`;\n",
    "* `'Track'` → `'track'`;\n",
    "* `'  City  '` → `'city'`;\n",
    "* `'Day'` → `'day'`."
   ]
  },
  {
   "cell_type": "code",
   "execution_count": 6,
   "metadata": {
    "id": "ISlFqs5y_Zct"
   },
   "outputs": [],
   "source": [
    "df = df.rename(columns={'  userID': 'user_id', 'Track': 'track', '  City  ': 'city', 'Day': 'day'}) # переименование столбцов"
   ]
  },
  {
   "cell_type": "markdown",
   "metadata": {
    "id": "1dqbh00J_Zct"
   },
   "source": [
    "Проверьте результат. Для этого ещё раз выведите на экран названия столбцов:"
   ]
  },
  {
   "cell_type": "code",
   "execution_count": 7,
   "metadata": {
    "id": "d4NOAmTW_Zct"
   },
   "outputs": [
    {
     "data": {
      "text/plain": [
       "Index(['user_id', 'track', 'artist', 'genre', 'city', 'time', 'day'], dtype='object')"
      ]
     },
     "execution_count": 7,
     "metadata": {},
     "output_type": "execute_result"
    }
   ],
   "source": [
    "df.columns # проверка результатов - перечень названий столбцов"
   ]
  },
  {
   "cell_type": "markdown",
   "metadata": {
    "id": "5ISfbcfY_Zct"
   },
   "source": [
    "### Пропуски значений\n",
    "Сначала посчитайте, сколько в таблице пропущенных значений. Для этого достаточно двух методов `pandas`:"
   ]
  },
  {
   "cell_type": "code",
   "execution_count": 8,
   "metadata": {
    "id": "RskX29qr_Zct",
    "scrolled": true
   },
   "outputs": [
    {
     "data": {
      "text/plain": [
       "user_id       0\n",
       "track      1231\n",
       "artist     7203\n",
       "genre      1198\n",
       "city          0\n",
       "time          0\n",
       "day           0\n",
       "dtype: int64"
      ]
     },
     "execution_count": 8,
     "metadata": {},
     "output_type": "execute_result"
    }
   ],
   "source": [
    "df.isna().sum() # подсчёт пропусков"
   ]
  },
  {
   "cell_type": "markdown",
   "metadata": {
    "id": "qubhgnlO_Zct"
   },
   "source": [
    "Не все пропущенные значения влияют на исследование. Так в `track` и `artist` пропуски не важны для вашей работы. Достаточно заменить их явными обозначениями.\n",
    "\n",
    "Но пропуски в `genre` могут помешать сравнению музыкальных вкусов в Москве и Санкт-Петербурге. На практике было бы правильно установить причину пропусков и восстановить данные. Такой возможности нет в учебном проекте. Придётся:\n",
    "* заполнить и эти пропуски явными обозначениями,\n",
    "* оценить, насколько они повредят расчётам. "
   ]
  },
  {
   "cell_type": "markdown",
   "metadata": {
    "id": "fSv2laPA_Zct"
   },
   "source": [
    "Замените пропущенные значения в столбцах `track`, `artist` и `genre` на строку `'unknown'`. Для этого создайте список `columns_to_replace`, переберите его элементы циклом `for` и для каждого столбца выполните замену пропущенных значений:"
   ]
  },
  {
   "cell_type": "code",
   "execution_count": 9,
   "metadata": {
    "id": "KplB5qWs_Zct"
   },
   "outputs": [],
   "source": [
    "columns_to_replace = ['track', 'artist', 'genre'] # перебор названий столбцов в цикле и замена пропущенных значений на 'unknown'\n",
    "for column in columns_to_replace:\n",
    "    df[column] = df[column].fillna('unknown')"
   ]
  },
  {
   "cell_type": "markdown",
   "metadata": {
    "id": "Ilsm-MZo_Zct"
   },
   "source": [
    "Убедитесь, что в таблице не осталось пропусков. Для этого ещё раз посчитайте пропущенные значения."
   ]
  },
  {
   "cell_type": "code",
   "execution_count": 10,
   "metadata": {
    "id": "Tq4nYRX4_Zct"
   },
   "outputs": [
    {
     "data": {
      "text/plain": [
       "user_id    0\n",
       "track      0\n",
       "artist     0\n",
       "genre      0\n",
       "city       0\n",
       "time       0\n",
       "day        0\n",
       "dtype: int64"
      ]
     },
     "execution_count": 10,
     "metadata": {},
     "output_type": "execute_result"
    }
   ],
   "source": [
    "df.isna().sum() # подсчёт пропусков"
   ]
  },
  {
   "cell_type": "markdown",
   "metadata": {
    "id": "BWKRtBJ3_Zct"
   },
   "source": [
    "### Дубликаты\n",
    "Посчитайте явные дубликаты в таблице одной командой:"
   ]
  },
  {
   "cell_type": "code",
   "execution_count": 11,
   "metadata": {
    "id": "36eES_S0_Zct"
   },
   "outputs": [
    {
     "data": {
      "text/plain": [
       "3826"
      ]
     },
     "execution_count": 11,
     "metadata": {},
     "output_type": "execute_result"
    }
   ],
   "source": [
    "df.duplicated().sum() # подсчёт явных дубликатов"
   ]
  },
  {
   "cell_type": "markdown",
   "metadata": {
    "id": "Ot25h6XR_Zct"
   },
   "source": [
    "Вызовите специальный метод `pandas`, чтобы удалить явные дубликаты:"
   ]
  },
  {
   "cell_type": "code",
   "execution_count": 12,
   "metadata": {
    "id": "exFHq6tt_Zct"
   },
   "outputs": [],
   "source": [
    "df = df.drop_duplicates().reset_index(drop=True) # удаление явных дубликатов (с удалением старых индексов и формированием новых)"
   ]
  },
  {
   "cell_type": "markdown",
   "metadata": {
    "id": "Im2YwBEG_Zct"
   },
   "source": [
    "Ещё раз посчитайте явные дубликаты в таблице — убедитесь, что полностью от них избавились:"
   ]
  },
  {
   "cell_type": "code",
   "execution_count": 13,
   "metadata": {
    "id": "-8PuNWQ0_Zct"
   },
   "outputs": [
    {
     "data": {
      "text/plain": [
       "0"
      ]
     },
     "execution_count": 13,
     "metadata": {},
     "output_type": "execute_result"
    }
   ],
   "source": [
    "df.duplicated().sum() # проверка на отсутствие дубликатов"
   ]
  },
  {
   "cell_type": "markdown",
   "metadata": {
    "id": "QlFBsxAr_Zct"
   },
   "source": [
    "Теперь избавьтесь от неявных дубликатов в колонке `genre`. Например, название одного и того же жанра может быть записано немного по-разному. Такие ошибки тоже повлияют на результат исследования."
   ]
  },
  {
   "cell_type": "markdown",
   "metadata": {
    "id": "eSjWwsOh_Zct"
   },
   "source": [
    "Выведите на экран список уникальных названий жанров, отсортированный в алфавитном порядке. Для этого:\n",
    "* извлеките нужный столбец датафрейма, \n",
    "* примените к нему метод сортировки,\n",
    "* для отсортированного столбца вызовите метод, который вернёт уникальные значения из столбца."
   ]
  },
  {
   "cell_type": "code",
   "execution_count": 14,
   "metadata": {
    "id": "JIUcqzZN_Zct"
   },
   "outputs": [
    {
     "data": {
      "text/plain": [
       "array(['acid', 'acoustic', 'action', 'adult', 'africa', 'afrikaans',\n",
       "       'alternative', 'alternativepunk', 'ambient', 'americana',\n",
       "       'animated', 'anime', 'arabesk', 'arabic', 'arena',\n",
       "       'argentinetango', 'art', 'audiobook', 'author', 'avantgarde',\n",
       "       'axé', 'baile', 'balkan', 'beats', 'bigroom', 'black', 'bluegrass',\n",
       "       'blues', 'bollywood', 'bossa', 'brazilian', 'breakbeat', 'breaks',\n",
       "       'broadway', 'cantautori', 'cantopop', 'canzone', 'caribbean',\n",
       "       'caucasian', 'celtic', 'chamber', 'chanson', 'children', 'chill',\n",
       "       'chinese', 'choral', 'christian', 'christmas', 'classical',\n",
       "       'classicmetal', 'club', 'colombian', 'comedy', 'conjazz',\n",
       "       'contemporary', 'country', 'cuban', 'dance', 'dancehall',\n",
       "       'dancepop', 'dark', 'death', 'deep', 'deutschrock', 'deutschspr',\n",
       "       'dirty', 'disco', 'dnb', 'documentary', 'downbeat', 'downtempo',\n",
       "       'drum', 'dub', 'dubstep', 'eastern', 'easy', 'electronic',\n",
       "       'electropop', 'emo', 'entehno', 'epicmetal', 'estrada', 'ethnic',\n",
       "       'eurofolk', 'european', 'experimental', 'extrememetal', 'fado',\n",
       "       'fairytail', 'film', 'fitness', 'flamenco', 'folk', 'folklore',\n",
       "       'folkmetal', 'folkrock', 'folktronica', 'forró', 'frankreich',\n",
       "       'französisch', 'french', 'funk', 'future', 'gangsta', 'garage',\n",
       "       'german', 'ghazal', 'gitarre', 'glitch', 'gospel', 'gothic',\n",
       "       'grime', 'grunge', 'gypsy', 'handsup', \"hard'n'heavy\", 'hardcore',\n",
       "       'hardstyle', 'hardtechno', 'hip', 'hip-hop', 'hiphop',\n",
       "       'historisch', 'holiday', 'hop', 'horror', 'house', 'hymn', 'idm',\n",
       "       'independent', 'indian', 'indie', 'indipop', 'industrial',\n",
       "       'inspirational', 'instrumental', 'international', 'irish', 'jam',\n",
       "       'japanese', 'jazz', 'jewish', 'jpop', 'jungle', 'k-pop',\n",
       "       'karadeniz', 'karaoke', 'kayokyoku', 'korean', 'laiko', 'latin',\n",
       "       'latino', 'leftfield', 'local', 'lounge', 'loungeelectronic',\n",
       "       'lovers', 'malaysian', 'mandopop', 'marschmusik', 'meditative',\n",
       "       'mediterranean', 'melodic', 'metal', 'metalcore', 'mexican',\n",
       "       'middle', 'minimal', 'miscellaneous', 'modern', 'mood', 'mpb',\n",
       "       'muslim', 'native', 'neoklassik', 'neue', 'new', 'newage',\n",
       "       'newwave', 'nu', 'nujazz', 'numetal', 'oceania', 'old', 'opera',\n",
       "       'orchestral', 'other', 'piano', 'podcasts', 'pop', 'popdance',\n",
       "       'popelectronic', 'popeurodance', 'poprussian', 'post',\n",
       "       'posthardcore', 'postrock', 'power', 'progmetal', 'progressive',\n",
       "       'psychedelic', 'punjabi', 'punk', 'quebecois', 'ragga', 'ram',\n",
       "       'rancheras', 'rap', 'rave', 'reggae', 'reggaeton', 'regional',\n",
       "       'relax', 'religious', 'retro', 'rhythm', 'rnb', 'rnr', 'rock',\n",
       "       'rockabilly', 'rockalternative', 'rockindie', 'rockother',\n",
       "       'romance', 'roots', 'ruspop', 'rusrap', 'rusrock', 'russian',\n",
       "       'salsa', 'samba', 'scenic', 'schlager', 'self', 'sertanejo',\n",
       "       'shanson', 'shoegazing', 'showtunes', 'singer', 'ska', 'skarock',\n",
       "       'slow', 'smooth', 'soft', 'soul', 'soulful', 'sound', 'soundtrack',\n",
       "       'southern', 'specialty', 'speech', 'spiritual', 'sport',\n",
       "       'stonerrock', 'surf', 'swing', 'synthpop', 'synthrock',\n",
       "       'sängerportrait', 'tango', 'tanzorchester', 'taraftar', 'tatar',\n",
       "       'tech', 'techno', 'teen', 'thrash', 'top', 'traditional',\n",
       "       'tradjazz', 'trance', 'tribal', 'trip', 'triphop', 'tropical',\n",
       "       'türk', 'türkçe', 'ukrrock', 'unknown', 'urban', 'uzbek',\n",
       "       'variété', 'vi', 'videogame', 'vocal', 'western', 'world',\n",
       "       'worldbeat', 'ïîï', 'электроника'], dtype=object)"
      ]
     },
     "execution_count": 14,
     "metadata": {},
     "output_type": "execute_result"
    }
   ],
   "source": [
    "df_sorted = df.sort_values(by='genre') # Просмотр уникальных названий жанров\n",
    "df_sorted['genre'].unique()"
   ]
  },
  {
   "cell_type": "markdown",
   "metadata": {
    "id": "qej-Qmuo_Zct"
   },
   "source": [
    "Просмотрите список и найдите неявные дубликаты названия `hiphop`. Это могут быть названия с ошибками или альтернативные названия того же жанра.\n",
    "\n",
    "Вы увидите следующие неявные дубликаты:\n",
    "* *hip*,\n",
    "* *hop*,\n",
    "* *hip-hop*.\n",
    "\n",
    "Чтобы очистить от них таблицу, напишите функцию `replace_wrong_genres()` с двумя параметрами: \n",
    "* `wrong_genres` — список дубликатов,\n",
    "* `correct_genre` — строка с правильным значением.\n",
    "\n",
    "Функция должна исправить колонку `genre` в таблице `df`: заменить каждое значение из списка `wrong_genres` на значение из `correct_genre`."
   ]
  },
  {
   "cell_type": "code",
   "execution_count": 15,
   "metadata": {
    "id": "ErNDkmns_Zct"
   },
   "outputs": [],
   "source": [
    "def replace_wrong_genres(wrong_genres, correct_genre, df): # Функция для замены неявных дубликатов\n",
    "    for wrong_genre in wrong_genres: \n",
    "        df['genre'] = df['genre'].replace(wrong_genre, correct_genre)\n",
    "    \n",
    "duplicates = ['hip', 'hop', 'hip-hop']\n",
    "correct = 'hiphop'\n"
   ]
  },
  {
   "cell_type": "markdown",
   "metadata": {
    "id": "aDoBJxbA_Zct"
   },
   "source": [
    "Вызовите `replace_wrong_genres()` и передайте ей такие аргументы, чтобы она устранила неявные дубликаты: вместо `hip`, `hop` и `hip-hop` в таблице должно быть значение `hiphop`:"
   ]
  },
  {
   "cell_type": "code",
   "execution_count": 16,
   "metadata": {
    "id": "YN5i2hpmSo09"
   },
   "outputs": [],
   "source": [
    "replace_wrong_genres(duplicates, correct, df) # Устранение неявных дубликатов"
   ]
  },
  {
   "cell_type": "markdown",
   "metadata": {
    "id": "zQKF16_RG15m"
   },
   "source": [
    "Проверьте, что заменили неправильные названия:\n",
    "\n",
    "*   hip\n",
    "*   hop\n",
    "*   hip-hop\n",
    "\n",
    "Выведите отсортированный список уникальных значений столбца `genre`:"
   ]
  },
  {
   "cell_type": "code",
   "execution_count": 17,
   "metadata": {
    "id": "wvixALnFG15m"
   },
   "outputs": [
    {
     "data": {
      "text/plain": [
       "array(['acid', 'acoustic', 'action', 'adult', 'africa', 'afrikaans',\n",
       "       'alternative', 'alternativepunk', 'ambient', 'americana',\n",
       "       'animated', 'anime', 'arabesk', 'arabic', 'arena',\n",
       "       'argentinetango', 'art', 'audiobook', 'author', 'avantgarde',\n",
       "       'axé', 'baile', 'balkan', 'beats', 'bigroom', 'black', 'bluegrass',\n",
       "       'blues', 'bollywood', 'bossa', 'brazilian', 'breakbeat', 'breaks',\n",
       "       'broadway', 'cantautori', 'cantopop', 'canzone', 'caribbean',\n",
       "       'caucasian', 'celtic', 'chamber', 'chanson', 'children', 'chill',\n",
       "       'chinese', 'choral', 'christian', 'christmas', 'classical',\n",
       "       'classicmetal', 'club', 'colombian', 'comedy', 'conjazz',\n",
       "       'contemporary', 'country', 'cuban', 'dance', 'dancehall',\n",
       "       'dancepop', 'dark', 'death', 'deep', 'deutschrock', 'deutschspr',\n",
       "       'dirty', 'disco', 'dnb', 'documentary', 'downbeat', 'downtempo',\n",
       "       'drum', 'dub', 'dubstep', 'eastern', 'easy', 'electronic',\n",
       "       'electropop', 'emo', 'entehno', 'epicmetal', 'estrada', 'ethnic',\n",
       "       'eurofolk', 'european', 'experimental', 'extrememetal', 'fado',\n",
       "       'fairytail', 'film', 'fitness', 'flamenco', 'folk', 'folklore',\n",
       "       'folkmetal', 'folkrock', 'folktronica', 'forró', 'frankreich',\n",
       "       'französisch', 'french', 'funk', 'future', 'gangsta', 'garage',\n",
       "       'german', 'ghazal', 'gitarre', 'glitch', 'gospel', 'gothic',\n",
       "       'grime', 'grunge', 'gypsy', 'handsup', \"hard'n'heavy\", 'hardcore',\n",
       "       'hardstyle', 'hardtechno', 'hiphop', 'historisch', 'holiday',\n",
       "       'horror', 'house', 'hymn', 'idm', 'independent', 'indian', 'indie',\n",
       "       'indipop', 'industrial', 'inspirational', 'instrumental',\n",
       "       'international', 'irish', 'jam', 'japanese', 'jazz', 'jewish',\n",
       "       'jpop', 'jungle', 'k-pop', 'karadeniz', 'karaoke', 'kayokyoku',\n",
       "       'korean', 'laiko', 'latin', 'latino', 'leftfield', 'local',\n",
       "       'lounge', 'loungeelectronic', 'lovers', 'malaysian', 'mandopop',\n",
       "       'marschmusik', 'meditative', 'mediterranean', 'melodic', 'metal',\n",
       "       'metalcore', 'mexican', 'middle', 'minimal', 'miscellaneous',\n",
       "       'modern', 'mood', 'mpb', 'muslim', 'native', 'neoklassik', 'neue',\n",
       "       'new', 'newage', 'newwave', 'nu', 'nujazz', 'numetal', 'oceania',\n",
       "       'old', 'opera', 'orchestral', 'other', 'piano', 'podcasts', 'pop',\n",
       "       'popdance', 'popelectronic', 'popeurodance', 'poprussian', 'post',\n",
       "       'posthardcore', 'postrock', 'power', 'progmetal', 'progressive',\n",
       "       'psychedelic', 'punjabi', 'punk', 'quebecois', 'ragga', 'ram',\n",
       "       'rancheras', 'rap', 'rave', 'reggae', 'reggaeton', 'regional',\n",
       "       'relax', 'religious', 'retro', 'rhythm', 'rnb', 'rnr', 'rock',\n",
       "       'rockabilly', 'rockalternative', 'rockindie', 'rockother',\n",
       "       'romance', 'roots', 'ruspop', 'rusrap', 'rusrock', 'russian',\n",
       "       'salsa', 'samba', 'scenic', 'schlager', 'self', 'sertanejo',\n",
       "       'shanson', 'shoegazing', 'showtunes', 'singer', 'ska', 'skarock',\n",
       "       'slow', 'smooth', 'soft', 'soul', 'soulful', 'sound', 'soundtrack',\n",
       "       'southern', 'specialty', 'speech', 'spiritual', 'sport',\n",
       "       'stonerrock', 'surf', 'swing', 'synthpop', 'synthrock',\n",
       "       'sängerportrait', 'tango', 'tanzorchester', 'taraftar', 'tatar',\n",
       "       'tech', 'techno', 'teen', 'thrash', 'top', 'traditional',\n",
       "       'tradjazz', 'trance', 'tribal', 'trip', 'triphop', 'tropical',\n",
       "       'türk', 'türkçe', 'ukrrock', 'unknown', 'urban', 'uzbek',\n",
       "       'variété', 'vi', 'videogame', 'vocal', 'western', 'world',\n",
       "       'worldbeat', 'ïîï', 'электроника'], dtype=object)"
      ]
     },
     "execution_count": 17,
     "metadata": {},
     "output_type": "execute_result"
    }
   ],
   "source": [
    "df_sorte = df.sort_values(by='genre')\n",
    "df_sorte['genre'].unique()              # Проверка на неявные дубликаты"
   ]
  },
  {
   "cell_type": "markdown",
   "metadata": {
    "id": "jz6a9-7HQUDd"
   },
   "source": [
    "**Выводы**\n",
    "\n",
    "Предобработка обнаружила три проблемы в данных:\n",
    "\n",
    "- нарушения в стиле заголовков,\n",
    "- пропущенные значения,\n",
    "- дубликаты — явные и неявные.\n",
    "\n",
    "Вы исправили заголовки, чтобы упростить работу с таблицей. Без дубликатов исследование станет более точным.\n",
    "\n",
    "Пропущенные значения вы заменили на `'unknown'`. Ещё предстоит увидеть, не повредят ли исследованию пропуски в колонке `genre`.\n",
    "\n",
    "Теперь можно перейти к проверке гипотез. "
   ]
  },
  {
   "cell_type": "markdown",
   "metadata": {
    "id": "WttZHXH0SqKk"
   },
   "source": [
    "## Проверка гипотез"
   ]
  },
  {
   "cell_type": "markdown",
   "metadata": {
    "id": "Im936VVi_Zcu"
   },
   "source": [
    "### Сравнение поведения пользователей двух столиц"
   ]
  },
  {
   "cell_type": "markdown",
   "metadata": {
    "id": "nwt_MuaL_Zcu"
   },
   "source": [
    "Первая гипотеза утверждает, что пользователи по-разному слушают музыку в Москве и Санкт-Петербурге. Проверьте это предположение по данным о трёх днях недели — понедельнике, среде и пятнице. Для этого:\n",
    "\n",
    "* Разделите пользователей Москвы и Санкт-Петербурга\n",
    "* Сравните, сколько треков послушала каждая группа пользователей в понедельник, среду и пятницу.\n"
   ]
  },
  {
   "cell_type": "markdown",
   "metadata": {
    "id": "8Dw_YMmT_Zcu"
   },
   "source": [
    "Для тренировки сначала выполните каждый из расчётов по отдельности. \n",
    "\n",
    "Оцените активность пользователей в каждом городе. Сгруппируйте данные по городу и посчитайте прослушивания в каждой группе.\n",
    "\n"
   ]
  },
  {
   "cell_type": "code",
   "execution_count": 18,
   "metadata": {
    "id": "0_Qs96oh_Zcu"
   },
   "outputs": [
    {
     "data": {
      "text/plain": [
       "city\n",
       "Moscow              42741\n",
       "Saint-Petersburg    18512\n",
       "Name: track, dtype: int64"
      ]
     },
     "metadata": {},
     "output_type": "display_data"
    }
   ],
   "source": [
    "group_city = df.groupby('city')['track'].count() # Подсчёт прослушиваний в каждом городе\n",
    "display(group_city)\n"
   ]
  },
  {
   "cell_type": "markdown",
   "metadata": {
    "id": "dzli3w8o_Zcu"
   },
   "source": [
    "В Москве прослушиваний больше, чем в Петербурге. Из этого не следует, что московские пользователи чаще слушают музыку. Просто самих пользователей в Москве больше.\n",
    "\n",
    "Теперь сгруппируйте данные по дню недели и подсчитайте прослушивания в понедельник, среду и пятницу. Учтите, что в данных есть информация о прослушиваниях только за эти дни.\n"
   ]
  },
  {
   "cell_type": "code",
   "execution_count": 19,
   "metadata": {
    "id": "uZMKjiJz_Zcu"
   },
   "outputs": [
    {
     "data": {
      "text/plain": [
       "day\n",
       "Friday       21840\n",
       "Monday       21354\n",
       "Wednesday    18059\n",
       "Name: track, dtype: int64"
      ]
     },
     "metadata": {},
     "output_type": "display_data"
    }
   ],
   "source": [
    "group_day = df.groupby('day')['track'].count() # Подсчёт прослушиваний в каждый из трёх дней\n",
    "display(group_day)"
   ]
  },
  {
   "cell_type": "markdown",
   "metadata": {
    "id": "cC2tNrlL_Zcu"
   },
   "source": [
    "В среднем пользователи из двух городов менее активны по средам. Но картина может измениться, если рассмотреть каждый город в отдельности."
   ]
  },
  {
   "cell_type": "markdown",
   "metadata": {
    "id": "POzs8bGa_Zcu"
   },
   "source": [
    "Вы видели, как работает группировка по городу и по дням недели. Теперь напишите функцию, которая объединит два эти расчёта.\n",
    "\n",
    "Создайте функцию `number_tracks()`, которая посчитает прослушивания для заданного дня и города. Ей понадобятся два параметра:\n",
    "* день недели,\n",
    "* название города.\n",
    "\n",
    "В функции сохраните в переменную строки исходной таблицы, у которых значение:\n",
    "  * в колонке `day` равно параметру `day`,\n",
    "  * в колонке `city` равно параметру `city`.\n",
    "\n",
    "Для этого примените последовательную фильтрацию с логической индексацией.\n",
    "\n",
    "Затем посчитайте значения в столбце `user_id` получившейся таблицы. Результат сохраните в новую переменную. Верните эту переменную из функции."
   ]
  },
  {
   "cell_type": "code",
   "execution_count": 20,
   "metadata": {
    "id": "Nz3GdQB1_Zcu"
   },
   "outputs": [],
   "source": [
    "def number_tracks(day, city):\n",
    "    track_list = df[(df['day'] == day) & (df['city'] == city)]\n",
    "    track_list_count = track_list['user_id'].count()\n",
    "    return track_list_count\n",
    "    \n",
    "# <создание функции number_tracks()>\n",
    "# Объявляется функция с двумя параметрами: day, city.\n",
    "# В переменной track_list сохраняются те строки таблицы df, для которых \n",
    "# значение в столбце 'day' равно параметру day и одновременно значение\n",
    "# в столбце 'city' равно параметру city (используйте последовательную фильтрацию\n",
    "# с помощью логической индексации).\n",
    "# В переменной track_list_count сохраняется число значений столбца 'user_id',\n",
    "# рассчитанное методом count() для таблицы track_list.\n",
    "# Функция возвращает число - значение track_list_count.\n",
    "\n",
    "# Функция для подсчёта прослушиваний для конкретного города и дня.\n",
    "# С помощью последовательной фильтрации с логической индексацией она \n",
    "# сначала получит из исходной таблицы строки с нужным днём,\n",
    "# затем из результата отфильтрует строки с нужным городом,\n",
    "# методом count() посчитает количество значений в колонке user_id. \n",
    "# Это количество функция вернёт в качестве результата"
   ]
  },
  {
   "cell_type": "markdown",
   "metadata": {
    "id": "ytf7xFrFJQ2r"
   },
   "source": [
    "Вызовите `number_tracks()` шесть раз, меняя значение параметров — так, чтобы получить данные для каждого города в каждый из трёх дней."
   ]
  },
  {
   "cell_type": "code",
   "execution_count": 21,
   "metadata": {
    "id": "rJcRATNQ_Zcu"
   },
   "outputs": [
    {
     "data": {
      "text/plain": [
       "15740"
      ]
     },
     "execution_count": 21,
     "metadata": {},
     "output_type": "execute_result"
    }
   ],
   "source": [
    "number_tracks('Monday','Moscow') # количество прослушиваний в Москве по понедельникам"
   ]
  },
  {
   "cell_type": "code",
   "execution_count": 22,
   "metadata": {
    "id": "hq_ncZ5T_Zcu"
   },
   "outputs": [
    {
     "data": {
      "text/plain": [
       "5614"
      ]
     },
     "execution_count": 22,
     "metadata": {},
     "output_type": "execute_result"
    }
   ],
   "source": [
    "number_tracks('Monday','Saint-Petersburg') # количество прослушиваний в Санкт-Петербурге по понедельникам"
   ]
  },
  {
   "cell_type": "code",
   "execution_count": 23,
   "metadata": {
    "id": "_NTy2VPU_Zcu"
   },
   "outputs": [
    {
     "data": {
      "text/plain": [
       "11056"
      ]
     },
     "execution_count": 23,
     "metadata": {},
     "output_type": "execute_result"
    }
   ],
   "source": [
    "number_tracks('Wednesday','Moscow') # количество прослушиваний в Москве по средам"
   ]
  },
  {
   "cell_type": "code",
   "execution_count": 24,
   "metadata": {
    "id": "j2y3TAwo_Zcu"
   },
   "outputs": [
    {
     "data": {
      "text/plain": [
       "7003"
      ]
     },
     "execution_count": 24,
     "metadata": {},
     "output_type": "execute_result"
    }
   ],
   "source": [
    "number_tracks('Wednesday','Saint-Petersburg') # количество прослушиваний в Санкт-Петербурге по средам"
   ]
  },
  {
   "cell_type": "code",
   "execution_count": 25,
   "metadata": {
    "id": "vYDw5u_K_Zcu"
   },
   "outputs": [
    {
     "data": {
      "text/plain": [
       "15945"
      ]
     },
     "execution_count": 25,
     "metadata": {},
     "output_type": "execute_result"
    }
   ],
   "source": [
    "number_tracks('Friday','Moscow') # количество прослушиваний в Москве по пятницам"
   ]
  },
  {
   "cell_type": "code",
   "execution_count": 26,
   "metadata": {
    "id": "8_yzFtW3_Zcu"
   },
   "outputs": [
    {
     "data": {
      "text/plain": [
       "5895"
      ]
     },
     "execution_count": 26,
     "metadata": {},
     "output_type": "execute_result"
    }
   ],
   "source": [
    "number_tracks('Friday','Saint-Petersburg') # количество прослушиваний в Санкт-Петербурге по пятницам"
   ]
  },
  {
   "cell_type": "markdown",
   "metadata": {
    "id": "7QXffbO-_Zcu"
   },
   "source": [
    "Создайте c помощью конструктора `pd.DataFrame` таблицу, где\n",
    "* названия колонок — `['city', 'monday', 'wednesday', 'friday']`;\n",
    "* данные — результаты, которые вы получили с помощью `number_tracks`."
   ]
  },
  {
   "cell_type": "code",
   "execution_count": 27,
   "metadata": {
    "id": "APAcLpOr_Zcu"
   },
   "outputs": [
    {
     "data": {
      "text/html": [
       "<div>\n",
       "<style scoped>\n",
       "    .dataframe tbody tr th:only-of-type {\n",
       "        vertical-align: middle;\n",
       "    }\n",
       "\n",
       "    .dataframe tbody tr th {\n",
       "        vertical-align: top;\n",
       "    }\n",
       "\n",
       "    .dataframe thead th {\n",
       "        text-align: right;\n",
       "    }\n",
       "</style>\n",
       "<table border=\"1\" class=\"dataframe\">\n",
       "  <thead>\n",
       "    <tr style=\"text-align: right;\">\n",
       "      <th></th>\n",
       "      <th>city</th>\n",
       "      <th>monday</th>\n",
       "      <th>wednesday</th>\n",
       "      <th>friday</th>\n",
       "    </tr>\n",
       "  </thead>\n",
       "  <tbody>\n",
       "    <tr>\n",
       "      <th>0</th>\n",
       "      <td>Moscow</td>\n",
       "      <td>15740</td>\n",
       "      <td>11056</td>\n",
       "      <td>15945</td>\n",
       "    </tr>\n",
       "    <tr>\n",
       "      <th>1</th>\n",
       "      <td>Saint-Petersburg</td>\n",
       "      <td>5614</td>\n",
       "      <td>7003</td>\n",
       "      <td>5895</td>\n",
       "    </tr>\n",
       "  </tbody>\n",
       "</table>\n",
       "</div>"
      ],
      "text/plain": [
       "               city  monday  wednesday  friday\n",
       "0            Moscow   15740      11056   15945\n",
       "1  Saint-Petersburg    5614       7003    5895"
      ]
     },
     "execution_count": 27,
     "metadata": {},
     "output_type": "execute_result"
    }
   ],
   "source": [
    "columns = ['city', 'monday', 'wednesday', 'friday']  # Таблица с результатами\n",
    "data = [['Moscow', 15740, 11056, 15945], ['Saint-Petersburg', 5614, 7003, 5895]]      \n",
    "    \n",
    "pd.DataFrame(data=data, columns=columns) \n"
   ]
  },
  {
   "cell_type": "markdown",
   "metadata": {
    "id": "-EgPIHYu_Zcu"
   },
   "source": [
    "**Выводы**\n",
    "\n",
    "Данные показывают разницу поведения пользователей:\n",
    "\n",
    "- В Москве пик прослушиваний приходится на понедельник и пятницу, а в среду заметен спад.\n",
    "- В Петербурге, наоборот, больше слушают музыку по средам. Активность в понедельник и пятницу здесь почти в равной мере уступает среде.\n",
    "\n",
    "Значит, данные говорят в пользу первой гипотезы."
   ]
  },
  {
   "cell_type": "markdown",
   "metadata": {
    "id": "atZAxtq4_Zcu"
   },
   "source": [
    "### Музыка в начале и в конце недели"
   ]
  },
  {
   "cell_type": "markdown",
   "metadata": {
    "id": "eXrQqXFH_Zcu"
   },
   "source": [
    "Согласно второй гипотезе, утром в понедельник в Москве преобладают одни жанры, а в Петербурге — другие. Так же и вечером пятницы преобладают разные жанры — в зависимости от города."
   ]
  },
  {
   "cell_type": "markdown",
   "metadata": {
    "id": "S8UcW6Hw_Zcu"
   },
   "source": [
    "Сохраните таблицы с данными в две переменные:\n",
    "* по Москве — в `moscow_general`;\n",
    "* по Санкт-Петербургу — в `spb_general`."
   ]
  },
  {
   "cell_type": "code",
   "execution_count": 28,
   "metadata": {
    "id": "qeaFfM_P_Zcu"
   },
   "outputs": [],
   "source": [
    "moscow_general = df[df['city'] == 'Moscow']  # получение таблицы moscow_general из тех строк таблицы df,\n",
    "                                             # для которых значение в столбце 'city' равно 'Moscow'"
   ]
  },
  {
   "cell_type": "code",
   "execution_count": 29,
   "metadata": {
    "id": "ORaVRKto_Zcu"
   },
   "outputs": [],
   "source": [
    "spb_general = df[df['city'] == 'Saint-Petersburg'] # получение таблицы spb_general из тех строк таблицы df,\n",
    "                                                   # для которых значение в столбце 'city' равно 'Saint-Petersburg'"
   ]
  },
  {
   "cell_type": "markdown",
   "metadata": {
    "id": "MEJV-CX2_Zcu"
   },
   "source": [
    "Создайте функцию `genre_weekday()` с четырьмя параметрами:\n",
    "* таблица (датафрейм) с данными,\n",
    "* день недели,\n",
    "* начальная временная метка в формате 'hh:mm', \n",
    "* последняя временная метка в формате 'hh:mm'.\n",
    "\n",
    "Функция должна вернуть информацию о топ-10 жанров тех треков, которые прослушивали в указанный день, в промежутке между двумя отметками времени."
   ]
  },
  {
   "cell_type": "code",
   "execution_count": 30,
   "metadata": {
    "id": "laJT9BYl_Zcu"
   },
   "outputs": [],
   "source": [
    "def genre_weekday(table, day, time1, time2):\n",
    "    genre_df = table[(table['day'] == day) & (table['time'] > time1) & (table['time'] < time2)]\n",
    "    genre_df_count = genre_df.groupby('genre')['user_id'].count()\n",
    "    genre_df_sorted = genre_df_count.sort_values(ascending=False)\n",
    "    return genre_df_sorted.head(10)\n",
    "\n",
    "\n",
    "# Объявление функции genre_weekday() с параметрами table, day, time1, time2,\n",
    "# которая возвращает информацию о самых популярных жанрах в указанный день в\n",
    "# заданное время:\n",
    "# 1) в переменную genre_df сохраняются те строки переданного датафрейма table, для\n",
    "#    которых одновременно:\n",
    "#    - значение в столбце day равно значению аргумента day\n",
    "#    - значение в столбце time больше значения аргумента time1\n",
    "#    - значение в столбце time меньше значения аргумента time2\n",
    "#    Используйте последовательную фильтрацию с помощью логической индексации.\n",
    "# 2) сгруппировать датафрейм genre_df по столбцу genre, взять один из его\n",
    "#    столбцов и посчитать методом count() количество записей для каждого из\n",
    "#    присутствующих жанров, получившийся Series записать в переменную\n",
    "#    genre_df_count\n",
    "# 3) отсортировать genre_df_count по убыванию встречаемости и сохранить\n",
    "#    в переменную genre_df_sorted\n",
    "# 4) вернуть Series из 10 первых значений genre_df_sorted, это будут топ-10\n",
    "#    популярных жанров (в указанный день, в заданное время)"
   ]
  },
  {
   "cell_type": "markdown",
   "metadata": {
    "id": "la2s2_PF_Zcu"
   },
   "source": [
    "Cравните результаты функции `genre_weekday()` для Москвы и Санкт-Петербурга в понедельник утром (с 7:00 до 11:00) и в пятницу вечером (с 17:00 до 23:00):"
   ]
  },
  {
   "cell_type": "code",
   "execution_count": 31,
   "metadata": {
    "id": "yz7itPUQ_Zcu"
   },
   "outputs": [
    {
     "data": {
      "text/plain": [
       "genre\n",
       "pop            781\n",
       "dance          549\n",
       "electronic     480\n",
       "rock           474\n",
       "hiphop         286\n",
       "ruspop         186\n",
       "world          181\n",
       "rusrap         175\n",
       "alternative    164\n",
       "unknown        161\n",
       "Name: user_id, dtype: int64"
      ]
     },
     "execution_count": 31,
     "metadata": {},
     "output_type": "execute_result"
    }
   ],
   "source": [
    "genre_weekday(moscow_general, 'Monday', '07:00', '11:00')\n",
    "# вызов функции для утра понедельника в Москве (вместо df — таблица moscow_general)\n",
    "# объекты, хранящие время, являются строками и сравниваются как строки\n",
    "# пример вызова: genre_weekday(moscow_general, 'Monday', '07:00', '11:00')"
   ]
  },
  {
   "cell_type": "code",
   "execution_count": 32,
   "metadata": {
    "id": "kwUcHPdy_Zcu"
   },
   "outputs": [
    {
     "data": {
      "text/plain": [
       "genre\n",
       "pop            218\n",
       "dance          182\n",
       "rock           162\n",
       "electronic     147\n",
       "hiphop          80\n",
       "ruspop          64\n",
       "alternative     58\n",
       "rusrap          55\n",
       "jazz            44\n",
       "classical       40\n",
       "Name: user_id, dtype: int64"
      ]
     },
     "execution_count": 32,
     "metadata": {},
     "output_type": "execute_result"
    }
   ],
   "source": [
    "genre_weekday(spb_general, 'Monday', '07:00', '11:00')\n",
    "# вызов функции для утра понедельника в Петербурге (вместо df — таблица spb_general)"
   ]
  },
  {
   "cell_type": "code",
   "execution_count": 33,
   "metadata": {
    "id": "EzXVRE1o_Zcu"
   },
   "outputs": [
    {
     "data": {
      "text/plain": [
       "genre\n",
       "pop            713\n",
       "rock           517\n",
       "dance          495\n",
       "electronic     482\n",
       "hiphop         273\n",
       "world          208\n",
       "ruspop         170\n",
       "alternative    163\n",
       "classical      163\n",
       "rusrap         142\n",
       "Name: user_id, dtype: int64"
      ]
     },
     "execution_count": 33,
     "metadata": {},
     "output_type": "execute_result"
    }
   ],
   "source": [
    "genre_weekday(moscow_general, 'Friday', '17:00', '23:00')# вызов функции для вечера пятницы в Москве"
   ]
  },
  {
   "cell_type": "code",
   "execution_count": 34,
   "metadata": {
    "id": "JZaEKu5v_Zcu"
   },
   "outputs": [
    {
     "data": {
      "text/plain": [
       "genre\n",
       "pop            256\n",
       "electronic     216\n",
       "rock           216\n",
       "dance          210\n",
       "hiphop          97\n",
       "alternative     63\n",
       "jazz            61\n",
       "classical       60\n",
       "rusrap          59\n",
       "world           54\n",
       "Name: user_id, dtype: int64"
      ]
     },
     "execution_count": 34,
     "metadata": {},
     "output_type": "execute_result"
    }
   ],
   "source": [
    "genre_weekday(spb_general, 'Friday', '17:00', '23:00')# вызов функции для вечера пятницы в Петербурге"
   ]
  },
  {
   "cell_type": "markdown",
   "metadata": {
    "id": "wrCe4MNX_Zcu"
   },
   "source": [
    "**Выводы**\n",
    "\n",
    "Если сравнить топ-10 жанров в понедельник утром, можно сделать такие выводы:\n",
    "\n",
    "1. В Москве и Петербурге слушают похожую музыку. Единственное отличие — в московский рейтинг вошёл жанр “world”, а в петербургский — джаз и классика.\n",
    "\n",
    "2. В Москве пропущенных значений оказалось так много, что значение `'unknown'` заняло десятое место среди самых популярных жанров. Значит, пропущенные значения занимают существенную долю в данных и угрожают достоверности исследования.\n",
    "\n",
    "Вечер пятницы не меняет эту картину. Некоторые жанры поднимаются немного выше, другие спускаются, но в целом топ-10 остаётся тем же самым.\n",
    "\n",
    "Таким образом, вторая гипотеза подтвердилась лишь частично:\n",
    "* Пользователи слушают похожую музыку в начале недели и в конце.\n",
    "* Разница между Москвой и Петербургом не слишком выражена. В Москве чаще слушают русскую популярную музыку, в Петербурге — джаз.\n",
    "\n",
    "Однако пропуски в данных ставят под сомнение этот результат. В Москве их так много, что рейтинг топ-10 мог бы выглядеть иначе, если бы не утерянные  данные о жанрах."
   ]
  },
  {
   "cell_type": "markdown",
   "metadata": {
    "id": "JolODAqr_Zcu"
   },
   "source": [
    "### Жанровые предпочтения в Москве и Петербурге\n",
    "\n",
    "Гипотеза: Петербург — столица рэпа, музыку этого жанра там слушают чаще, чем в Москве.  А Москва — город контрастов, в котором, тем не менее, преобладает поп-музыка."
   ]
  },
  {
   "cell_type": "markdown",
   "metadata": {
    "id": "DlegSvaT_Zcu"
   },
   "source": [
    "Сгруппируйте таблицу `moscow_general` по жанру и посчитайте прослушивания треков каждого жанра методом `count()`. Затем отсортируйте результат в порядке убывания и сохраните его в таблице `moscow_genres`."
   ]
  },
  {
   "cell_type": "code",
   "execution_count": 35,
   "metadata": {
    "id": "r19lIPke_Zcu"
   },
   "outputs": [],
   "source": [
    "group_moscow_general = moscow_general.groupby('genre')['user_id'].count()\n",
    "moscow_genres = group_moscow_general.sort_values(ascending=False)\n",
    "\n",
    "# одной строкой: группировка таблицы moscow_general по столбцу 'genre', \n",
    "# подсчёт числа значений 'genre' в этой группировке методом count(), \n",
    "# сортировка получившегося Series в порядке убывания и сохранение в moscow_genres"
   ]
  },
  {
   "cell_type": "markdown",
   "metadata": {
    "id": "6kMuomxTiIr8"
   },
   "source": [
    "Выведите на экран первые десять строк `moscow_genres`:"
   ]
  },
  {
   "cell_type": "code",
   "execution_count": 36,
   "metadata": {
    "id": "WhCSooF8_Zcv"
   },
   "outputs": [
    {
     "data": {
      "text/plain": [
       "genre\n",
       "pop            5892\n",
       "dance          4435\n",
       "rock           3965\n",
       "electronic     3786\n",
       "hiphop         2096\n",
       "classical      1616\n",
       "world          1432\n",
       "alternative    1379\n",
       "ruspop         1372\n",
       "rusrap         1161\n",
       "Name: user_id, dtype: int64"
      ]
     },
     "metadata": {},
     "output_type": "display_data"
    }
   ],
   "source": [
    "display(moscow_genres.head(10))# просмотр первых 10 строк moscow_genres"
   ]
  },
  {
   "cell_type": "markdown",
   "metadata": {
    "id": "cnPG2vnN_Zcv"
   },
   "source": [
    "Теперь повторите то же и для Петербурга.\n",
    "\n",
    "Сгруппируйте таблицу `spb_general` по жанру. Посчитайте прослушивания треков каждого жанра. Результат отсортируйте в порядке убывания и сохраните в таблице `spb_genres`:\n"
   ]
  },
  {
   "cell_type": "code",
   "execution_count": 37,
   "metadata": {
    "id": "gluLIpE7_Zcv"
   },
   "outputs": [],
   "source": [
    "group_spb_general = spb_general.groupby('genre')['user_id'].count()\n",
    "spb_genres = group_spb_general.sort_values(ascending=False)\n",
    "\n",
    "# одной строкой: группировка таблицы spb_general по столбцу 'genre', \n",
    "# подсчёт числа значений 'genre' в этой группировке методом count(), \n",
    "# сортировка получившегося Series в порядке убывания и сохранение в spb_genres"
   ]
  },
  {
   "cell_type": "markdown",
   "metadata": {
    "id": "5Doha_ODgyQ8"
   },
   "source": [
    "Выведите на экран первые десять строк `spb_genres`:"
   ]
  },
  {
   "cell_type": "code",
   "execution_count": 38,
   "metadata": {
    "id": "uaGJHjVU_Zcv"
   },
   "outputs": [
    {
     "data": {
      "text/plain": [
       "genre\n",
       "pop            2431\n",
       "dance          1932\n",
       "rock           1879\n",
       "electronic     1736\n",
       "hiphop          960\n",
       "alternative     649\n",
       "classical       646\n",
       "rusrap          564\n",
       "ruspop          538\n",
       "world           515\n",
       "Name: user_id, dtype: int64"
      ]
     },
     "metadata": {},
     "output_type": "display_data"
    }
   ],
   "source": [
    "display(spb_genres.head(10)) # просмотр первых 10 строк spb_genres"
   ]
  },
  {
   "cell_type": "markdown",
   "metadata": {
    "id": "RY51YJYu_Zcv"
   },
   "source": [
    "**Выводы**"
   ]
  },
  {
   "cell_type": "markdown",
   "metadata": {
    "id": "nVhnJEm__Zcv"
   },
   "source": [
    "Гипотеза частично подтвердилась:\n",
    "* Поп-музыка — самый популярный жанр в Москве, как и предполагала гипотеза. Более того, в топ-10 жанров встречается близкий жанр — русская популярная музыка.\n",
    "* Вопреки ожиданиям, рэп одинаково популярен в Москве и Петербурге. \n"
   ]
  },
  {
   "cell_type": "markdown",
   "metadata": {
    "id": "ykKQ0N65_Zcv"
   },
   "source": [
    "## Итоги исследования"
   ]
  },
  {
   "cell_type": "markdown",
   "metadata": {
    "id": "tjUwbHb3_Zcv"
   },
   "source": [
    "Вы проверили три гипотезы и установили:\n",
    "\n",
    "1. День недели по-разному влияет на активность пользователей в Москве и Петербурге. \n",
    "\n",
    "Первая гипотеза полностью подтвердилась.\n",
    "\n",
    "2. Музыкальные предпочтения не сильно меняются в течение недели — будь то Москва или Петербург. Небольшие различия заметны в начале недели, по понедельникам:\n",
    "* в Москве слушают музыку жанра “world”,\n",
    "* в Петербурге — джаз и классику.\n",
    "\n",
    "Таким образом, вторая гипотеза подтвердилась лишь отчасти. Этот результат мог оказаться иным, если бы не пропуски в данных.\n",
    "\n",
    "3. Во вкусах пользователей Москвы и Петербурга больше общего чем различий. Вопреки ожиданиям, предпочтения жанров в Петербурге напоминают московские.\n",
    "\n",
    "Третья гипотеза не подтвердилась. Если различия в предпочтениях и существуют, на основной массе пользователей они незаметны.\n",
    "\n"
   ]
  },
  {
   "cell_type": "code",
   "execution_count": null,
   "metadata": {},
   "outputs": [],
   "source": []
  }
 ],
 "metadata": {
  "ExecuteTimeLog": [
   {
    "duration": 45,
    "start_time": "2022-03-29T22:07:31.236Z"
   },
   {
    "duration": 418,
    "start_time": "2022-03-29T22:07:51.240Z"
   },
   {
    "duration": 146,
    "start_time": "2022-03-29T22:07:56.076Z"
   },
   {
    "duration": 3,
    "start_time": "2022-03-29T22:07:58.740Z"
   },
   {
    "duration": 16,
    "start_time": "2022-03-29T22:10:47.725Z"
   },
   {
    "duration": 144,
    "start_time": "2022-03-29T22:11:55.610Z"
   },
   {
    "duration": 149,
    "start_time": "2022-03-29T22:11:57.296Z"
   },
   {
    "duration": 3,
    "start_time": "2022-03-29T22:11:59.950Z"
   },
   {
    "duration": 48,
    "start_time": "2022-03-29T22:13:21.298Z"
   },
   {
    "duration": 384,
    "start_time": "2022-03-29T22:13:53.274Z"
   },
   {
    "duration": 3,
    "start_time": "2022-03-29T22:13:58.856Z"
   },
   {
    "duration": 2,
    "start_time": "2022-03-29T22:14:00.247Z"
   },
   {
    "duration": 3,
    "start_time": "2022-03-29T22:14:08.790Z"
   },
   {
    "duration": 26,
    "start_time": "2022-03-29T22:14:14.896Z"
   },
   {
    "duration": 7,
    "start_time": "2022-03-29T22:14:17.087Z"
   },
   {
    "duration": 7,
    "start_time": "2022-03-29T22:14:18.327Z"
   },
   {
    "duration": 6,
    "start_time": "2022-03-29T22:14:19.673Z"
   },
   {
    "duration": 8,
    "start_time": "2022-03-29T22:14:20.692Z"
   },
   {
    "duration": 6,
    "start_time": "2022-03-29T22:14:21.538Z"
   },
   {
    "duration": 7,
    "start_time": "2022-03-29T22:14:24.104Z"
   },
   {
    "duration": 385,
    "start_time": "2022-03-29T22:14:53.885Z"
   },
   {
    "duration": 148,
    "start_time": "2022-03-29T22:14:54.272Z"
   },
   {
    "duration": 17,
    "start_time": "2022-03-29T22:14:54.422Z"
   },
   {
    "duration": 39,
    "start_time": "2022-03-29T22:14:54.441Z"
   },
   {
    "duration": 3,
    "start_time": "2022-03-29T22:14:54.482Z"
   },
   {
    "duration": 9,
    "start_time": "2022-03-29T22:14:54.487Z"
   },
   {
    "duration": 8,
    "start_time": "2022-03-29T22:14:54.497Z"
   },
   {
    "duration": 5,
    "start_time": "2022-03-29T22:14:54.506Z"
   },
   {
    "duration": 6,
    "start_time": "2022-03-29T22:14:54.513Z"
   },
   {
    "duration": 10,
    "start_time": "2022-03-29T22:14:54.520Z"
   },
   {
    "duration": 5,
    "start_time": "2022-03-29T22:14:54.531Z"
   },
   {
    "duration": 10,
    "start_time": "2022-03-29T22:14:54.538Z"
   },
   {
    "duration": 5,
    "start_time": "2022-03-29T22:14:54.549Z"
   },
   {
    "duration": 6,
    "start_time": "2022-03-29T22:14:54.565Z"
   },
   {
    "duration": 7,
    "start_time": "2022-03-29T22:14:54.573Z"
   },
   {
    "duration": 5,
    "start_time": "2022-03-29T22:14:54.581Z"
   },
   {
    "duration": 5,
    "start_time": "2022-03-29T22:14:54.587Z"
   },
   {
    "duration": 4,
    "start_time": "2022-03-29T22:14:54.594Z"
   },
   {
    "duration": 6,
    "start_time": "2022-03-29T22:14:54.600Z"
   },
   {
    "duration": 4,
    "start_time": "2022-03-29T22:14:54.608Z"
   },
   {
    "duration": 10,
    "start_time": "2022-03-29T22:14:54.613Z"
   },
   {
    "duration": 5,
    "start_time": "2022-03-29T22:14:54.624Z"
   },
   {
    "duration": 4,
    "start_time": "2022-03-29T22:14:54.631Z"
   },
   {
    "duration": 4,
    "start_time": "2022-03-29T22:14:54.637Z"
   },
   {
    "duration": 9,
    "start_time": "2022-03-29T22:14:54.643Z"
   },
   {
    "duration": 10,
    "start_time": "2022-03-29T22:14:54.663Z"
   },
   {
    "duration": 12,
    "start_time": "2022-03-29T22:14:54.675Z"
   },
   {
    "duration": 14,
    "start_time": "2022-03-29T22:14:54.689Z"
   },
   {
    "duration": 5,
    "start_time": "2022-03-29T22:14:54.704Z"
   },
   {
    "duration": 5,
    "start_time": "2022-03-29T22:14:54.711Z"
   },
   {
    "duration": 10,
    "start_time": "2022-03-29T22:14:54.717Z"
   },
   {
    "duration": 6,
    "start_time": "2022-03-29T22:14:54.728Z"
   },
   {
    "duration": 11,
    "start_time": "2022-03-29T22:14:54.735Z"
   },
   {
    "duration": 9,
    "start_time": "2022-03-29T22:14:54.747Z"
   },
   {
    "duration": 8,
    "start_time": "2022-03-29T22:14:54.757Z"
   },
   {
    "duration": 5,
    "start_time": "2022-03-29T22:14:54.766Z"
   },
   {
    "duration": 7,
    "start_time": "2022-03-29T22:14:54.772Z"
   },
   {
    "duration": 9,
    "start_time": "2022-03-29T22:14:54.781Z"
   },
   {
    "duration": 73,
    "start_time": "2022-03-30T13:37:50.244Z"
   },
   {
    "duration": 10,
    "start_time": "2022-03-30T13:38:26.452Z"
   },
   {
    "duration": 8,
    "start_time": "2022-03-30T13:38:30.072Z"
   },
   {
    "duration": 10,
    "start_time": "2022-03-30T13:38:31.137Z"
   },
   {
    "duration": 8,
    "start_time": "2022-03-30T13:38:32.968Z"
   },
   {
    "duration": 8,
    "start_time": "2022-03-30T13:38:35.353Z"
   },
   {
    "duration": 525,
    "start_time": "2022-03-30T13:39:06.448Z"
   },
   {
    "duration": 196,
    "start_time": "2022-03-30T13:39:06.976Z"
   },
   {
    "duration": 26,
    "start_time": "2022-03-30T13:39:07.174Z"
   },
   {
    "duration": 43,
    "start_time": "2022-03-30T13:39:07.203Z"
   },
   {
    "duration": 27,
    "start_time": "2022-03-30T13:39:07.249Z"
   },
   {
    "duration": 10,
    "start_time": "2022-03-30T13:39:07.278Z"
   },
   {
    "duration": 11,
    "start_time": "2022-03-30T13:39:07.290Z"
   },
   {
    "duration": 6,
    "start_time": "2022-03-30T13:39:07.304Z"
   },
   {
    "duration": 6,
    "start_time": "2022-03-30T13:39:07.312Z"
   },
   {
    "duration": 10,
    "start_time": "2022-03-30T13:39:07.322Z"
   },
   {
    "duration": 12,
    "start_time": "2022-03-30T13:39:07.334Z"
   },
   {
    "duration": 5,
    "start_time": "2022-03-30T13:39:07.348Z"
   },
   {
    "duration": 18,
    "start_time": "2022-03-30T13:39:07.356Z"
   },
   {
    "duration": 7,
    "start_time": "2022-03-30T13:39:07.376Z"
   },
   {
    "duration": 5,
    "start_time": "2022-03-30T13:39:07.385Z"
   },
   {
    "duration": 5,
    "start_time": "2022-03-30T13:39:07.393Z"
   },
   {
    "duration": 7,
    "start_time": "2022-03-30T13:39:07.400Z"
   },
   {
    "duration": 6,
    "start_time": "2022-03-30T13:39:07.409Z"
   },
   {
    "duration": 5,
    "start_time": "2022-03-30T13:39:07.417Z"
   },
   {
    "duration": 49,
    "start_time": "2022-03-30T13:39:07.425Z"
   },
   {
    "duration": 13,
    "start_time": "2022-03-30T13:39:07.477Z"
   },
   {
    "duration": 12,
    "start_time": "2022-03-30T13:39:07.492Z"
   },
   {
    "duration": 7,
    "start_time": "2022-03-30T13:39:07.506Z"
   },
   {
    "duration": 6,
    "start_time": "2022-03-30T13:39:07.515Z"
   },
   {
    "duration": 11,
    "start_time": "2022-03-30T13:39:07.523Z"
   },
   {
    "duration": 10,
    "start_time": "2022-03-30T13:39:07.536Z"
   },
   {
    "duration": 11,
    "start_time": "2022-03-30T13:39:07.548Z"
   },
   {
    "duration": 3,
    "start_time": "2022-03-30T13:39:07.573Z"
   },
   {
    "duration": 6,
    "start_time": "2022-03-30T13:39:07.579Z"
   },
   {
    "duration": 7,
    "start_time": "2022-03-30T13:39:07.587Z"
   },
   {
    "duration": 10,
    "start_time": "2022-03-30T13:39:07.596Z"
   },
   {
    "duration": 5,
    "start_time": "2022-03-30T13:39:07.608Z"
   },
   {
    "duration": 17,
    "start_time": "2022-03-30T13:39:07.615Z"
   },
   {
    "duration": 7,
    "start_time": "2022-03-30T13:39:07.634Z"
   },
   {
    "duration": 7,
    "start_time": "2022-03-30T13:39:07.643Z"
   },
   {
    "duration": 22,
    "start_time": "2022-03-30T13:39:07.652Z"
   },
   {
    "duration": 7,
    "start_time": "2022-03-30T13:39:07.676Z"
   },
   {
    "duration": 8,
    "start_time": "2022-03-30T13:39:07.685Z"
   },
   {
    "duration": 384,
    "start_time": "2022-03-30T13:58:50.919Z"
   },
   {
    "duration": 145,
    "start_time": "2022-03-30T13:58:51.305Z"
   },
   {
    "duration": 17,
    "start_time": "2022-03-30T13:58:51.452Z"
   },
   {
    "duration": 39,
    "start_time": "2022-03-30T13:58:51.470Z"
   },
   {
    "duration": 4,
    "start_time": "2022-03-30T13:58:51.511Z"
   },
   {
    "duration": 11,
    "start_time": "2022-03-30T13:58:51.517Z"
   },
   {
    "duration": 5,
    "start_time": "2022-03-30T13:58:51.529Z"
   },
   {
    "duration": 3,
    "start_time": "2022-03-30T13:58:51.536Z"
   },
   {
    "duration": 6,
    "start_time": "2022-03-30T13:58:51.541Z"
   },
   {
    "duration": 4,
    "start_time": "2022-03-30T13:58:51.549Z"
   },
   {
    "duration": 7,
    "start_time": "2022-03-30T13:58:51.554Z"
   },
   {
    "duration": 39,
    "start_time": "2022-03-30T13:58:51.562Z"
   },
   {
    "duration": 3,
    "start_time": "2022-03-30T13:58:51.602Z"
   },
   {
    "duration": 3,
    "start_time": "2022-03-30T13:58:51.608Z"
   },
   {
    "duration": 9,
    "start_time": "2022-03-30T13:58:51.613Z"
   },
   {
    "duration": 9,
    "start_time": "2022-03-30T13:58:51.623Z"
   },
   {
    "duration": 7,
    "start_time": "2022-03-30T13:58:51.634Z"
   },
   {
    "duration": 6,
    "start_time": "2022-03-30T13:58:51.643Z"
   },
   {
    "duration": 6,
    "start_time": "2022-03-30T13:58:51.651Z"
   },
   {
    "duration": 8,
    "start_time": "2022-03-30T13:58:51.659Z"
   },
   {
    "duration": 14,
    "start_time": "2022-03-30T13:58:51.669Z"
   },
   {
    "duration": 16,
    "start_time": "2022-03-30T13:58:51.685Z"
   },
   {
    "duration": 3,
    "start_time": "2022-03-30T13:58:51.702Z"
   },
   {
    "duration": 13,
    "start_time": "2022-03-30T13:58:51.707Z"
   },
   {
    "duration": 7,
    "start_time": "2022-03-30T13:58:51.722Z"
   },
   {
    "duration": 10,
    "start_time": "2022-03-30T13:58:51.732Z"
   },
   {
    "duration": 7,
    "start_time": "2022-03-30T13:58:51.744Z"
   },
   {
    "duration": 7,
    "start_time": "2022-03-30T13:58:51.753Z"
   },
   {
    "duration": 8,
    "start_time": "2022-03-30T13:58:51.762Z"
   },
   {
    "duration": 7,
    "start_time": "2022-03-30T13:58:51.772Z"
   },
   {
    "duration": 12,
    "start_time": "2022-03-30T13:58:51.781Z"
   },
   {
    "duration": 6,
    "start_time": "2022-03-30T13:58:51.795Z"
   },
   {
    "duration": 11,
    "start_time": "2022-03-30T13:58:51.803Z"
   },
   {
    "duration": 9,
    "start_time": "2022-03-30T13:58:51.815Z"
   },
   {
    "duration": 7,
    "start_time": "2022-03-30T13:58:51.826Z"
   },
   {
    "duration": 7,
    "start_time": "2022-03-30T13:58:51.835Z"
   },
   {
    "duration": 7,
    "start_time": "2022-03-30T13:58:51.844Z"
   },
   {
    "duration": 8,
    "start_time": "2022-03-30T13:58:51.852Z"
   },
   {
    "duration": 28,
    "start_time": "2022-03-30T14:06:03.511Z"
   },
   {
    "duration": 2,
    "start_time": "2022-03-30T14:09:32.866Z"
   },
   {
    "duration": 160,
    "start_time": "2022-03-30T14:09:32.870Z"
   },
   {
    "duration": 10,
    "start_time": "2022-03-30T14:09:33.031Z"
   },
   {
    "duration": 28,
    "start_time": "2022-03-30T14:09:33.043Z"
   },
   {
    "duration": 13,
    "start_time": "2022-03-30T14:09:33.073Z"
   },
   {
    "duration": 18,
    "start_time": "2022-03-30T14:09:33.087Z"
   },
   {
    "duration": 24,
    "start_time": "2022-03-30T14:09:33.106Z"
   },
   {
    "duration": 44,
    "start_time": "2022-03-30T14:09:33.131Z"
   },
   {
    "duration": 8,
    "start_time": "2022-03-30T14:09:33.177Z"
   },
   {
    "duration": 17,
    "start_time": "2022-03-30T14:09:33.187Z"
   },
   {
    "duration": 7,
    "start_time": "2022-03-30T14:09:33.205Z"
   },
   {
    "duration": 18,
    "start_time": "2022-03-30T14:09:33.213Z"
   },
   {
    "duration": 14,
    "start_time": "2022-03-30T14:09:33.233Z"
   },
   {
    "duration": 14,
    "start_time": "2022-03-30T14:09:33.249Z"
   },
   {
    "duration": 12,
    "start_time": "2022-03-30T14:09:33.265Z"
   },
   {
    "duration": 4,
    "start_time": "2022-03-30T14:09:33.279Z"
   },
   {
    "duration": 13,
    "start_time": "2022-03-30T14:09:33.285Z"
   },
   {
    "duration": 20,
    "start_time": "2022-03-30T14:09:33.300Z"
   },
   {
    "duration": 9,
    "start_time": "2022-03-30T14:09:33.323Z"
   },
   {
    "duration": 6,
    "start_time": "2022-03-30T14:09:33.335Z"
   },
   {
    "duration": 12,
    "start_time": "2022-03-30T14:09:33.343Z"
   },
   {
    "duration": 9,
    "start_time": "2022-03-30T14:09:33.357Z"
   },
   {
    "duration": 6,
    "start_time": "2022-03-30T14:09:33.368Z"
   },
   {
    "duration": 6,
    "start_time": "2022-03-30T14:09:33.377Z"
   },
   {
    "duration": 8,
    "start_time": "2022-03-30T14:09:33.385Z"
   },
   {
    "duration": 9,
    "start_time": "2022-03-30T14:09:33.394Z"
   },
   {
    "duration": 7,
    "start_time": "2022-03-30T14:09:33.405Z"
   },
   {
    "duration": 8,
    "start_time": "2022-03-30T14:09:33.414Z"
   },
   {
    "duration": 7,
    "start_time": "2022-03-30T14:09:33.423Z"
   },
   {
    "duration": 8,
    "start_time": "2022-03-30T14:09:33.432Z"
   },
   {
    "duration": 11,
    "start_time": "2022-03-30T14:09:33.441Z"
   },
   {
    "duration": 8,
    "start_time": "2022-03-30T14:09:33.454Z"
   },
   {
    "duration": 12,
    "start_time": "2022-03-30T14:09:33.463Z"
   },
   {
    "duration": 8,
    "start_time": "2022-03-30T14:09:33.476Z"
   },
   {
    "duration": 14,
    "start_time": "2022-03-30T14:09:33.485Z"
   },
   {
    "duration": 11,
    "start_time": "2022-03-30T14:09:33.501Z"
   },
   {
    "duration": 8,
    "start_time": "2022-03-30T14:09:33.514Z"
   },
   {
    "duration": 8,
    "start_time": "2022-03-30T14:09:33.524Z"
   },
   {
    "duration": 370,
    "start_time": "2022-03-30T14:43:25.041Z"
   },
   {
    "duration": 149,
    "start_time": "2022-03-30T14:43:25.413Z"
   },
   {
    "duration": 17,
    "start_time": "2022-03-30T14:43:25.564Z"
   },
   {
    "duration": 34,
    "start_time": "2022-03-30T14:43:25.583Z"
   },
   {
    "duration": 4,
    "start_time": "2022-03-30T14:43:25.618Z"
   },
   {
    "duration": 14,
    "start_time": "2022-03-30T14:43:25.624Z"
   },
   {
    "duration": 8,
    "start_time": "2022-03-30T14:43:25.640Z"
   },
   {
    "duration": 25,
    "start_time": "2022-03-30T14:43:25.650Z"
   },
   {
    "duration": 3194,
    "start_time": "2022-03-30T14:43:25.677Z"
   },
   {
    "duration": 0,
    "start_time": "2022-03-30T14:43:28.875Z"
   },
   {
    "duration": 0,
    "start_time": "2022-03-30T14:43:28.876Z"
   },
   {
    "duration": 0,
    "start_time": "2022-03-30T14:43:28.877Z"
   },
   {
    "duration": 0,
    "start_time": "2022-03-30T14:43:28.878Z"
   },
   {
    "duration": 0,
    "start_time": "2022-03-30T14:43:28.879Z"
   },
   {
    "duration": 0,
    "start_time": "2022-03-30T14:43:28.880Z"
   },
   {
    "duration": 0,
    "start_time": "2022-03-30T14:43:28.881Z"
   },
   {
    "duration": 0,
    "start_time": "2022-03-30T14:43:28.882Z"
   },
   {
    "duration": 0,
    "start_time": "2022-03-30T14:43:28.883Z"
   },
   {
    "duration": 0,
    "start_time": "2022-03-30T14:43:28.885Z"
   },
   {
    "duration": 0,
    "start_time": "2022-03-30T14:43:28.886Z"
   },
   {
    "duration": 0,
    "start_time": "2022-03-30T14:43:28.887Z"
   },
   {
    "duration": 0,
    "start_time": "2022-03-30T14:43:28.888Z"
   },
   {
    "duration": 0,
    "start_time": "2022-03-30T14:43:28.889Z"
   },
   {
    "duration": 0,
    "start_time": "2022-03-30T14:43:28.890Z"
   },
   {
    "duration": 0,
    "start_time": "2022-03-30T14:43:28.892Z"
   },
   {
    "duration": 0,
    "start_time": "2022-03-30T14:43:28.893Z"
   },
   {
    "duration": 0,
    "start_time": "2022-03-30T14:43:28.894Z"
   },
   {
    "duration": 0,
    "start_time": "2022-03-30T14:43:28.895Z"
   },
   {
    "duration": 0,
    "start_time": "2022-03-30T14:43:28.896Z"
   },
   {
    "duration": 0,
    "start_time": "2022-03-30T14:43:28.897Z"
   },
   {
    "duration": 0,
    "start_time": "2022-03-30T14:43:28.898Z"
   },
   {
    "duration": 0,
    "start_time": "2022-03-30T14:43:28.899Z"
   },
   {
    "duration": 0,
    "start_time": "2022-03-30T14:43:28.900Z"
   },
   {
    "duration": 0,
    "start_time": "2022-03-30T14:43:28.901Z"
   },
   {
    "duration": 0,
    "start_time": "2022-03-30T14:43:28.903Z"
   },
   {
    "duration": 0,
    "start_time": "2022-03-30T14:43:28.903Z"
   },
   {
    "duration": 0,
    "start_time": "2022-03-30T14:43:28.904Z"
   },
   {
    "duration": 0,
    "start_time": "2022-03-30T14:43:28.905Z"
   },
   {
    "duration": 3294,
    "start_time": "2022-03-30T14:45:18.055Z"
   },
   {
    "duration": 409,
    "start_time": "2022-03-30T14:48:10.502Z"
   },
   {
    "duration": 167,
    "start_time": "2022-03-30T14:48:10.914Z"
   },
   {
    "duration": 19,
    "start_time": "2022-03-30T14:48:11.083Z"
   },
   {
    "duration": 31,
    "start_time": "2022-03-30T14:48:11.103Z"
   },
   {
    "duration": 4,
    "start_time": "2022-03-30T14:48:11.137Z"
   },
   {
    "duration": 11,
    "start_time": "2022-03-30T14:48:11.144Z"
   },
   {
    "duration": 5,
    "start_time": "2022-03-30T14:48:11.157Z"
   },
   {
    "duration": 60,
    "start_time": "2022-03-30T14:48:11.164Z"
   },
   {
    "duration": 20,
    "start_time": "2022-03-30T14:48:11.225Z"
   },
   {
    "duration": 26,
    "start_time": "2022-03-30T14:48:11.246Z"
   },
   {
    "duration": 3,
    "start_time": "2022-03-30T14:48:11.273Z"
   },
   {
    "duration": 3,
    "start_time": "2022-03-30T14:48:11.301Z"
   },
   {
    "duration": 4,
    "start_time": "2022-03-30T14:48:11.306Z"
   },
   {
    "duration": 3,
    "start_time": "2022-03-30T14:48:11.313Z"
   },
   {
    "duration": 5,
    "start_time": "2022-03-30T14:48:11.317Z"
   },
   {
    "duration": 7,
    "start_time": "2022-03-30T14:48:11.324Z"
   },
   {
    "duration": 8,
    "start_time": "2022-03-30T14:48:11.333Z"
   },
   {
    "duration": 7,
    "start_time": "2022-03-30T14:48:11.343Z"
   },
   {
    "duration": 8,
    "start_time": "2022-03-30T14:48:11.351Z"
   },
   {
    "duration": 14,
    "start_time": "2022-03-30T14:48:11.361Z"
   },
   {
    "duration": 6,
    "start_time": "2022-03-30T14:48:11.377Z"
   },
   {
    "duration": 16,
    "start_time": "2022-03-30T14:48:11.385Z"
   },
   {
    "duration": 5,
    "start_time": "2022-03-30T14:48:11.403Z"
   },
   {
    "duration": 7,
    "start_time": "2022-03-30T14:48:11.410Z"
   },
   {
    "duration": 9,
    "start_time": "2022-03-30T14:48:11.419Z"
   },
   {
    "duration": 8,
    "start_time": "2022-03-30T14:48:11.430Z"
   },
   {
    "duration": 8,
    "start_time": "2022-03-30T14:48:11.439Z"
   },
   {
    "duration": 8,
    "start_time": "2022-03-30T14:48:11.448Z"
   },
   {
    "duration": 8,
    "start_time": "2022-03-30T14:48:11.458Z"
   },
   {
    "duration": 8,
    "start_time": "2022-03-30T14:48:11.467Z"
   },
   {
    "duration": 11,
    "start_time": "2022-03-30T14:48:11.477Z"
   },
   {
    "duration": 8,
    "start_time": "2022-03-30T14:48:11.490Z"
   },
   {
    "duration": 9,
    "start_time": "2022-03-30T14:48:11.500Z"
   },
   {
    "duration": 9,
    "start_time": "2022-03-30T14:48:11.511Z"
   },
   {
    "duration": 8,
    "start_time": "2022-03-30T14:48:11.521Z"
   },
   {
    "duration": 8,
    "start_time": "2022-03-30T14:48:11.531Z"
   },
   {
    "duration": 7,
    "start_time": "2022-03-30T14:48:11.541Z"
   },
   {
    "duration": 8,
    "start_time": "2022-03-30T14:48:11.550Z"
   },
   {
    "duration": 63,
    "start_time": "2022-03-30T14:50:52.957Z"
   },
   {
    "duration": 63,
    "start_time": "2022-03-30T14:51:03.042Z"
   },
   {
    "duration": 76,
    "start_time": "2022-03-30T14:51:18.277Z"
   },
   {
    "duration": 79,
    "start_time": "2022-03-30T14:53:22.797Z"
   },
   {
    "duration": 61,
    "start_time": "2022-03-30T14:53:24.023Z"
   },
   {
    "duration": 66,
    "start_time": "2022-03-30T15:08:41.437Z"
   },
   {
    "duration": 39,
    "start_time": "2022-03-30T15:10:27.702Z"
   },
   {
    "duration": 42,
    "start_time": "2022-03-30T15:12:24.167Z"
   },
   {
    "duration": 2367,
    "start_time": "2022-03-30T15:12:47.002Z"
   },
   {
    "duration": 46,
    "start_time": "2022-03-30T15:13:10.898Z"
   },
   {
    "duration": 43,
    "start_time": "2022-03-30T15:14:22.021Z"
   },
   {
    "duration": 42,
    "start_time": "2022-03-30T15:21:13.662Z"
   },
   {
    "duration": 417,
    "start_time": "2022-03-30T16:08:30.026Z"
   },
   {
    "duration": 156,
    "start_time": "2022-03-30T16:08:30.445Z"
   },
   {
    "duration": 17,
    "start_time": "2022-03-30T16:08:30.603Z"
   },
   {
    "duration": 31,
    "start_time": "2022-03-30T16:08:30.622Z"
   },
   {
    "duration": 5,
    "start_time": "2022-03-30T16:08:30.656Z"
   },
   {
    "duration": 44,
    "start_time": "2022-03-30T16:08:30.663Z"
   },
   {
    "duration": 13,
    "start_time": "2022-03-30T16:08:30.709Z"
   },
   {
    "duration": 29,
    "start_time": "2022-03-30T16:08:30.724Z"
   },
   {
    "duration": 20,
    "start_time": "2022-03-30T16:08:30.756Z"
   },
   {
    "duration": 67,
    "start_time": "2022-03-30T16:08:30.778Z"
   },
   {
    "duration": 99,
    "start_time": "2022-03-30T16:08:30.847Z"
   },
   {
    "duration": 103,
    "start_time": "2022-03-30T16:08:30.948Z"
   },
   {
    "duration": 71,
    "start_time": "2022-03-30T16:08:31.053Z"
   },
   {
    "duration": 52,
    "start_time": "2022-03-30T16:08:31.129Z"
   },
   {
    "duration": 217,
    "start_time": "2022-03-30T16:08:31.182Z"
   },
   {
    "duration": 0,
    "start_time": "2022-03-30T16:08:31.401Z"
   },
   {
    "duration": 0,
    "start_time": "2022-03-30T16:08:31.403Z"
   },
   {
    "duration": 0,
    "start_time": "2022-03-30T16:08:31.404Z"
   },
   {
    "duration": 0,
    "start_time": "2022-03-30T16:08:31.406Z"
   },
   {
    "duration": 0,
    "start_time": "2022-03-30T16:08:31.406Z"
   },
   {
    "duration": 0,
    "start_time": "2022-03-30T16:08:31.407Z"
   },
   {
    "duration": 0,
    "start_time": "2022-03-30T16:08:31.409Z"
   },
   {
    "duration": 0,
    "start_time": "2022-03-30T16:08:31.410Z"
   },
   {
    "duration": 0,
    "start_time": "2022-03-30T16:08:31.412Z"
   },
   {
    "duration": 0,
    "start_time": "2022-03-30T16:08:31.413Z"
   },
   {
    "duration": 0,
    "start_time": "2022-03-30T16:08:31.414Z"
   },
   {
    "duration": 0,
    "start_time": "2022-03-30T16:08:31.416Z"
   },
   {
    "duration": 1,
    "start_time": "2022-03-30T16:08:31.417Z"
   },
   {
    "duration": 0,
    "start_time": "2022-03-30T16:08:31.419Z"
   },
   {
    "duration": 0,
    "start_time": "2022-03-30T16:08:31.420Z"
   },
   {
    "duration": 0,
    "start_time": "2022-03-30T16:08:31.422Z"
   },
   {
    "duration": 0,
    "start_time": "2022-03-30T16:08:31.424Z"
   },
   {
    "duration": 0,
    "start_time": "2022-03-30T16:08:31.425Z"
   },
   {
    "duration": 0,
    "start_time": "2022-03-30T16:08:31.427Z"
   },
   {
    "duration": 0,
    "start_time": "2022-03-30T16:08:31.428Z"
   },
   {
    "duration": 0,
    "start_time": "2022-03-30T16:08:31.430Z"
   },
   {
    "duration": 0,
    "start_time": "2022-03-30T16:08:31.431Z"
   },
   {
    "duration": 0,
    "start_time": "2022-03-30T16:08:31.433Z"
   },
   {
    "duration": 380,
    "start_time": "2022-03-30T16:09:44.854Z"
   },
   {
    "duration": 143,
    "start_time": "2022-03-30T16:09:45.237Z"
   },
   {
    "duration": 19,
    "start_time": "2022-03-30T16:09:45.382Z"
   },
   {
    "duration": 29,
    "start_time": "2022-03-30T16:09:45.402Z"
   },
   {
    "duration": 4,
    "start_time": "2022-03-30T16:09:45.433Z"
   },
   {
    "duration": 11,
    "start_time": "2022-03-30T16:09:45.438Z"
   },
   {
    "duration": 5,
    "start_time": "2022-03-30T16:09:45.451Z"
   },
   {
    "duration": 48,
    "start_time": "2022-03-30T16:09:45.457Z"
   },
   {
    "duration": 19,
    "start_time": "2022-03-30T16:09:45.507Z"
   },
   {
    "duration": 27,
    "start_time": "2022-03-30T16:09:45.527Z"
   },
   {
    "duration": 86,
    "start_time": "2022-03-30T16:09:45.555Z"
   },
   {
    "duration": 86,
    "start_time": "2022-03-30T16:09:45.643Z"
   },
   {
    "duration": 58,
    "start_time": "2022-03-30T16:09:45.731Z"
   },
   {
    "duration": 41,
    "start_time": "2022-03-30T16:09:45.801Z"
   },
   {
    "duration": 3,
    "start_time": "2022-03-30T16:09:45.843Z"
   },
   {
    "duration": 11,
    "start_time": "2022-03-30T16:09:45.848Z"
   },
   {
    "duration": 7,
    "start_time": "2022-03-30T16:09:45.860Z"
   },
   {
    "duration": 2,
    "start_time": "2022-03-30T16:09:45.869Z"
   },
   {
    "duration": 7,
    "start_time": "2022-03-30T16:09:45.900Z"
   },
   {
    "duration": 5,
    "start_time": "2022-03-30T16:09:45.909Z"
   },
   {
    "duration": 6,
    "start_time": "2022-03-30T16:09:45.916Z"
   },
   {
    "duration": 5,
    "start_time": "2022-03-30T16:09:45.924Z"
   },
   {
    "duration": 8,
    "start_time": "2022-03-30T16:09:45.930Z"
   },
   {
    "duration": 11,
    "start_time": "2022-03-30T16:09:45.940Z"
   },
   {
    "duration": 7,
    "start_time": "2022-03-30T16:09:45.953Z"
   },
   {
    "duration": 11,
    "start_time": "2022-03-30T16:09:45.961Z"
   },
   {
    "duration": 8,
    "start_time": "2022-03-30T16:09:45.974Z"
   },
   {
    "duration": 8,
    "start_time": "2022-03-30T16:09:45.983Z"
   },
   {
    "duration": 9,
    "start_time": "2022-03-30T16:09:45.992Z"
   },
   {
    "duration": 8,
    "start_time": "2022-03-30T16:09:46.002Z"
   },
   {
    "duration": 12,
    "start_time": "2022-03-30T16:09:46.011Z"
   },
   {
    "duration": 7,
    "start_time": "2022-03-30T16:09:46.024Z"
   },
   {
    "duration": 11,
    "start_time": "2022-03-30T16:09:46.033Z"
   },
   {
    "duration": 8,
    "start_time": "2022-03-30T16:09:46.045Z"
   },
   {
    "duration": 8,
    "start_time": "2022-03-30T16:09:46.054Z"
   },
   {
    "duration": 7,
    "start_time": "2022-03-30T16:09:46.064Z"
   },
   {
    "duration": 8,
    "start_time": "2022-03-30T16:09:46.073Z"
   },
   {
    "duration": 8,
    "start_time": "2022-03-30T16:09:46.083Z"
   },
   {
    "duration": 12,
    "start_time": "2022-03-30T16:11:18.401Z"
   },
   {
    "duration": 88,
    "start_time": "2022-03-30T16:12:12.638Z"
   },
   {
    "duration": 435,
    "start_time": "2022-03-30T16:20:46.475Z"
   },
   {
    "duration": 157,
    "start_time": "2022-03-30T16:20:46.912Z"
   },
   {
    "duration": 17,
    "start_time": "2022-03-30T16:20:47.070Z"
   },
   {
    "duration": 37,
    "start_time": "2022-03-30T16:20:47.089Z"
   },
   {
    "duration": 7,
    "start_time": "2022-03-30T16:20:47.128Z"
   },
   {
    "duration": 21,
    "start_time": "2022-03-30T16:20:47.136Z"
   },
   {
    "duration": 18,
    "start_time": "2022-03-30T16:20:47.159Z"
   },
   {
    "duration": 41,
    "start_time": "2022-03-30T16:20:47.179Z"
   },
   {
    "duration": 31,
    "start_time": "2022-03-30T16:20:47.222Z"
   },
   {
    "duration": 25,
    "start_time": "2022-03-30T16:20:47.255Z"
   },
   {
    "duration": 69,
    "start_time": "2022-03-30T16:20:47.281Z"
   },
   {
    "duration": 132,
    "start_time": "2022-03-30T16:20:47.353Z"
   },
   {
    "duration": 101,
    "start_time": "2022-03-30T16:20:47.487Z"
   },
   {
    "duration": 84,
    "start_time": "2022-03-30T16:20:47.606Z"
   },
   {
    "duration": 9,
    "start_time": "2022-03-30T16:20:47.692Z"
   },
   {
    "duration": 10,
    "start_time": "2022-03-30T16:20:47.703Z"
   },
   {
    "duration": 8,
    "start_time": "2022-03-30T16:20:47.715Z"
   },
   {
    "duration": 2,
    "start_time": "2022-03-30T16:20:47.725Z"
   },
   {
    "duration": 5,
    "start_time": "2022-03-30T16:20:47.729Z"
   },
   {
    "duration": 6,
    "start_time": "2022-03-30T16:20:47.736Z"
   },
   {
    "duration": 9,
    "start_time": "2022-03-30T16:20:47.743Z"
   },
   {
    "duration": 8,
    "start_time": "2022-03-30T16:20:47.754Z"
   },
   {
    "duration": 7,
    "start_time": "2022-03-30T16:20:47.764Z"
   },
   {
    "duration": 2,
    "start_time": "2022-03-30T16:20:47.802Z"
   },
   {
    "duration": 4,
    "start_time": "2022-03-30T16:20:47.806Z"
   },
   {
    "duration": 10,
    "start_time": "2022-03-30T16:20:47.812Z"
   },
   {
    "duration": 8,
    "start_time": "2022-03-30T16:20:47.823Z"
   },
   {
    "duration": 7,
    "start_time": "2022-03-30T16:20:47.832Z"
   },
   {
    "duration": 8,
    "start_time": "2022-03-30T16:20:47.841Z"
   },
   {
    "duration": 7,
    "start_time": "2022-03-30T16:20:47.851Z"
   },
   {
    "duration": 10,
    "start_time": "2022-03-30T16:20:47.859Z"
   },
   {
    "duration": 7,
    "start_time": "2022-03-30T16:20:47.871Z"
   },
   {
    "duration": 11,
    "start_time": "2022-03-30T16:20:47.880Z"
   },
   {
    "duration": 8,
    "start_time": "2022-03-30T16:20:47.894Z"
   },
   {
    "duration": 9,
    "start_time": "2022-03-30T16:20:47.903Z"
   },
   {
    "duration": 9,
    "start_time": "2022-03-30T16:20:47.913Z"
   },
   {
    "duration": 7,
    "start_time": "2022-03-30T16:20:47.923Z"
   },
   {
    "duration": 9,
    "start_time": "2022-03-30T16:20:47.932Z"
   },
   {
    "duration": 50,
    "start_time": "2022-03-30T16:31:07.608Z"
   },
   {
    "duration": 403,
    "start_time": "2022-03-30T16:32:11.011Z"
   },
   {
    "duration": 155,
    "start_time": "2022-03-30T16:32:11.416Z"
   },
   {
    "duration": 17,
    "start_time": "2022-03-30T16:32:11.573Z"
   },
   {
    "duration": 35,
    "start_time": "2022-03-30T16:32:11.592Z"
   },
   {
    "duration": 4,
    "start_time": "2022-03-30T16:32:11.628Z"
   },
   {
    "duration": 11,
    "start_time": "2022-03-30T16:32:11.634Z"
   },
   {
    "duration": 6,
    "start_time": "2022-03-30T16:32:11.646Z"
   },
   {
    "duration": 54,
    "start_time": "2022-03-30T16:32:11.654Z"
   },
   {
    "duration": 20,
    "start_time": "2022-03-30T16:32:11.716Z"
   },
   {
    "duration": 25,
    "start_time": "2022-03-30T16:32:11.739Z"
   },
   {
    "duration": 85,
    "start_time": "2022-03-30T16:32:11.766Z"
   },
   {
    "duration": 86,
    "start_time": "2022-03-30T16:32:11.853Z"
   },
   {
    "duration": 65,
    "start_time": "2022-03-30T16:32:11.941Z"
   },
   {
    "duration": 50,
    "start_time": "2022-03-30T16:32:12.007Z"
   },
   {
    "duration": 3,
    "start_time": "2022-03-30T16:32:12.059Z"
   },
   {
    "duration": 11,
    "start_time": "2022-03-30T16:32:12.064Z"
   },
   {
    "duration": 72,
    "start_time": "2022-03-30T16:32:12.077Z"
   },
   {
    "duration": 2,
    "start_time": "2022-03-30T16:32:12.151Z"
   },
   {
    "duration": 5,
    "start_time": "2022-03-30T16:32:12.155Z"
   },
   {
    "duration": 5,
    "start_time": "2022-03-30T16:32:12.162Z"
   },
   {
    "duration": 7,
    "start_time": "2022-03-30T16:32:12.168Z"
   },
   {
    "duration": 5,
    "start_time": "2022-03-30T16:32:12.176Z"
   },
   {
    "duration": 3,
    "start_time": "2022-03-30T16:32:12.202Z"
   },
   {
    "duration": 6,
    "start_time": "2022-03-30T16:32:12.206Z"
   },
   {
    "duration": 7,
    "start_time": "2022-03-30T16:32:12.214Z"
   },
   {
    "duration": 12,
    "start_time": "2022-03-30T16:32:12.222Z"
   },
   {
    "duration": 11,
    "start_time": "2022-03-30T16:32:12.235Z"
   },
   {
    "duration": 7,
    "start_time": "2022-03-30T16:32:12.250Z"
   },
   {
    "duration": 9,
    "start_time": "2022-03-30T16:32:12.258Z"
   },
   {
    "duration": 8,
    "start_time": "2022-03-30T16:32:12.269Z"
   },
   {
    "duration": 12,
    "start_time": "2022-03-30T16:32:12.278Z"
   },
   {
    "duration": 8,
    "start_time": "2022-03-30T16:32:12.292Z"
   },
   {
    "duration": 13,
    "start_time": "2022-03-30T16:32:12.302Z"
   },
   {
    "duration": 7,
    "start_time": "2022-03-30T16:32:12.317Z"
   },
   {
    "duration": 10,
    "start_time": "2022-03-30T16:32:12.325Z"
   },
   {
    "duration": 7,
    "start_time": "2022-03-30T16:32:12.337Z"
   },
   {
    "duration": 8,
    "start_time": "2022-03-30T16:32:12.346Z"
   },
   {
    "duration": 8,
    "start_time": "2022-03-30T16:32:12.355Z"
   },
   {
    "duration": 398,
    "start_time": "2022-03-30T17:10:47.533Z"
   },
   {
    "duration": 162,
    "start_time": "2022-03-30T17:10:47.933Z"
   },
   {
    "duration": 19,
    "start_time": "2022-03-30T17:10:48.097Z"
   },
   {
    "duration": 33,
    "start_time": "2022-03-30T17:10:48.117Z"
   },
   {
    "duration": 5,
    "start_time": "2022-03-30T17:10:48.152Z"
   },
   {
    "duration": 42,
    "start_time": "2022-03-30T17:10:48.159Z"
   },
   {
    "duration": 7,
    "start_time": "2022-03-30T17:10:48.203Z"
   },
   {
    "duration": 28,
    "start_time": "2022-03-30T17:10:48.212Z"
   },
   {
    "duration": 20,
    "start_time": "2022-03-30T17:10:48.242Z"
   },
   {
    "duration": 42,
    "start_time": "2022-03-30T17:10:48.264Z"
   },
   {
    "duration": 70,
    "start_time": "2022-03-30T17:10:48.308Z"
   },
   {
    "duration": 97,
    "start_time": "2022-03-30T17:10:48.380Z"
   },
   {
    "duration": 72,
    "start_time": "2022-03-30T17:10:48.479Z"
   },
   {
    "duration": 68,
    "start_time": "2022-03-30T17:10:48.555Z"
   },
   {
    "duration": 3,
    "start_time": "2022-03-30T17:10:48.625Z"
   },
   {
    "duration": 11,
    "start_time": "2022-03-30T17:10:48.630Z"
   },
   {
    "duration": 70,
    "start_time": "2022-03-30T17:10:48.643Z"
   },
   {
    "duration": 3,
    "start_time": "2022-03-30T17:10:48.714Z"
   },
   {
    "duration": 6,
    "start_time": "2022-03-30T17:10:48.718Z"
   },
   {
    "duration": 6,
    "start_time": "2022-03-30T17:10:48.725Z"
   },
   {
    "duration": 4,
    "start_time": "2022-03-30T17:10:48.733Z"
   },
   {
    "duration": 7,
    "start_time": "2022-03-30T17:10:48.738Z"
   },
   {
    "duration": 6,
    "start_time": "2022-03-30T17:10:48.747Z"
   },
   {
    "duration": 8,
    "start_time": "2022-03-30T17:10:48.754Z"
   },
   {
    "duration": 9,
    "start_time": "2022-03-30T17:10:48.763Z"
   },
   {
    "duration": 9,
    "start_time": "2022-03-30T17:10:48.773Z"
   },
   {
    "duration": 8,
    "start_time": "2022-03-30T17:10:48.802Z"
   },
   {
    "duration": 7,
    "start_time": "2022-03-30T17:10:48.812Z"
   },
   {
    "duration": 9,
    "start_time": "2022-03-30T17:10:48.821Z"
   },
   {
    "duration": 8,
    "start_time": "2022-03-30T17:10:48.831Z"
   },
   {
    "duration": 10,
    "start_time": "2022-03-30T17:10:48.841Z"
   },
   {
    "duration": 8,
    "start_time": "2022-03-30T17:10:48.853Z"
   },
   {
    "duration": 10,
    "start_time": "2022-03-30T17:10:48.862Z"
   },
   {
    "duration": 7,
    "start_time": "2022-03-30T17:10:48.873Z"
   },
   {
    "duration": 7,
    "start_time": "2022-03-30T17:10:48.882Z"
   },
   {
    "duration": 9,
    "start_time": "2022-03-30T17:10:48.891Z"
   },
   {
    "duration": 7,
    "start_time": "2022-03-30T17:10:48.902Z"
   },
   {
    "duration": 6,
    "start_time": "2022-03-30T17:10:48.911Z"
   },
   {
    "duration": 418,
    "start_time": "2022-03-30T17:11:39.103Z"
   },
   {
    "duration": 157,
    "start_time": "2022-03-30T17:11:39.524Z"
   },
   {
    "duration": 23,
    "start_time": "2022-03-30T17:11:39.685Z"
   },
   {
    "duration": 32,
    "start_time": "2022-03-30T17:11:39.710Z"
   },
   {
    "duration": 4,
    "start_time": "2022-03-30T17:11:39.744Z"
   },
   {
    "duration": 15,
    "start_time": "2022-03-30T17:11:39.750Z"
   },
   {
    "duration": 34,
    "start_time": "2022-03-30T17:11:39.767Z"
   },
   {
    "duration": 31,
    "start_time": "2022-03-30T17:11:39.803Z"
   },
   {
    "duration": 23,
    "start_time": "2022-03-30T17:11:39.836Z"
   },
   {
    "duration": 49,
    "start_time": "2022-03-30T17:11:39.861Z"
   },
   {
    "duration": 89,
    "start_time": "2022-03-30T17:11:39.912Z"
   },
   {
    "duration": 98,
    "start_time": "2022-03-30T17:11:40.003Z"
   },
   {
    "duration": 69,
    "start_time": "2022-03-30T17:11:40.106Z"
   },
   {
    "duration": 68,
    "start_time": "2022-03-30T17:11:40.177Z"
   },
   {
    "duration": 4,
    "start_time": "2022-03-30T17:11:40.247Z"
   },
   {
    "duration": 12,
    "start_time": "2022-03-30T17:11:40.253Z"
   },
   {
    "duration": 81,
    "start_time": "2022-03-30T17:11:40.268Z"
   },
   {
    "duration": 3,
    "start_time": "2022-03-30T17:11:40.351Z"
   },
   {
    "duration": 7,
    "start_time": "2022-03-30T17:11:40.356Z"
   },
   {
    "duration": 10,
    "start_time": "2022-03-30T17:11:40.364Z"
   },
   {
    "duration": 16,
    "start_time": "2022-03-30T17:11:40.376Z"
   },
   {
    "duration": 8,
    "start_time": "2022-03-30T17:11:40.393Z"
   },
   {
    "duration": 5,
    "start_time": "2022-03-30T17:11:40.403Z"
   },
   {
    "duration": 8,
    "start_time": "2022-03-30T17:11:40.409Z"
   },
   {
    "duration": 7,
    "start_time": "2022-03-30T17:11:40.418Z"
   },
   {
    "duration": 14,
    "start_time": "2022-03-30T17:11:40.427Z"
   },
   {
    "duration": 12,
    "start_time": "2022-03-30T17:11:40.443Z"
   },
   {
    "duration": 7,
    "start_time": "2022-03-30T17:11:40.457Z"
   },
   {
    "duration": 12,
    "start_time": "2022-03-30T17:11:40.466Z"
   },
   {
    "duration": 11,
    "start_time": "2022-03-30T17:11:40.480Z"
   },
   {
    "duration": 22,
    "start_time": "2022-03-30T17:11:40.493Z"
   },
   {
    "duration": 10,
    "start_time": "2022-03-30T17:11:40.517Z"
   },
   {
    "duration": 11,
    "start_time": "2022-03-30T17:11:40.529Z"
   },
   {
    "duration": 8,
    "start_time": "2022-03-30T17:11:40.542Z"
   },
   {
    "duration": 11,
    "start_time": "2022-03-30T17:11:40.552Z"
   },
   {
    "duration": 8,
    "start_time": "2022-03-30T17:11:40.565Z"
   },
   {
    "duration": 9,
    "start_time": "2022-03-30T17:11:40.575Z"
   },
   {
    "duration": 6,
    "start_time": "2022-03-30T17:11:40.586Z"
   },
   {
    "duration": 6,
    "start_time": "2022-03-30T17:12:57.252Z"
   },
   {
    "duration": 54,
    "start_time": "2022-03-30T17:13:14.970Z"
   },
   {
    "duration": 425,
    "start_time": "2022-03-30T17:16:07.410Z"
   },
   {
    "duration": 176,
    "start_time": "2022-03-30T17:16:07.837Z"
   },
   {
    "duration": 23,
    "start_time": "2022-03-30T17:16:08.015Z"
   },
   {
    "duration": 40,
    "start_time": "2022-03-30T17:16:08.040Z"
   },
   {
    "duration": 7,
    "start_time": "2022-03-30T17:16:08.100Z"
   },
   {
    "duration": 15,
    "start_time": "2022-03-30T17:16:08.109Z"
   },
   {
    "duration": 8,
    "start_time": "2022-03-30T17:16:08.126Z"
   },
   {
    "duration": 66,
    "start_time": "2022-03-30T17:16:08.136Z"
   },
   {
    "duration": 29,
    "start_time": "2022-03-30T17:16:08.205Z"
   },
   {
    "duration": 30,
    "start_time": "2022-03-30T17:16:08.236Z"
   },
   {
    "duration": 107,
    "start_time": "2022-03-30T17:16:08.268Z"
   },
   {
    "duration": 107,
    "start_time": "2022-03-30T17:16:08.377Z"
   },
   {
    "duration": 91,
    "start_time": "2022-03-30T17:16:08.486Z"
   },
   {
    "duration": 66,
    "start_time": "2022-03-30T17:16:08.582Z"
   },
   {
    "duration": 5,
    "start_time": "2022-03-30T17:16:08.650Z"
   },
   {
    "duration": 13,
    "start_time": "2022-03-30T17:16:08.657Z"
   },
   {
    "duration": 74,
    "start_time": "2022-03-30T17:16:08.673Z"
   },
   {
    "duration": 3,
    "start_time": "2022-03-30T17:16:08.749Z"
   },
   {
    "duration": 8,
    "start_time": "2022-03-30T17:16:08.753Z"
   },
   {
    "duration": 7,
    "start_time": "2022-03-30T17:16:08.763Z"
   },
   {
    "duration": 12,
    "start_time": "2022-03-30T17:16:08.771Z"
   },
   {
    "duration": 17,
    "start_time": "2022-03-30T17:16:08.785Z"
   },
   {
    "duration": 10,
    "start_time": "2022-03-30T17:16:08.805Z"
   },
   {
    "duration": 8,
    "start_time": "2022-03-30T17:16:08.817Z"
   },
   {
    "duration": 9,
    "start_time": "2022-03-30T17:16:08.828Z"
   },
   {
    "duration": 14,
    "start_time": "2022-03-30T17:16:08.839Z"
   },
   {
    "duration": 14,
    "start_time": "2022-03-30T17:16:08.854Z"
   },
   {
    "duration": 16,
    "start_time": "2022-03-30T17:16:08.870Z"
   },
   {
    "duration": 18,
    "start_time": "2022-03-30T17:16:08.888Z"
   },
   {
    "duration": 10,
    "start_time": "2022-03-30T17:16:08.908Z"
   },
   {
    "duration": 13,
    "start_time": "2022-03-30T17:16:08.920Z"
   },
   {
    "duration": 10,
    "start_time": "2022-03-30T17:16:08.936Z"
   },
   {
    "duration": 14,
    "start_time": "2022-03-30T17:16:08.948Z"
   },
   {
    "duration": 22,
    "start_time": "2022-03-30T17:16:08.964Z"
   },
   {
    "duration": 12,
    "start_time": "2022-03-30T17:16:08.989Z"
   },
   {
    "duration": 8,
    "start_time": "2022-03-30T17:16:09.003Z"
   },
   {
    "duration": 8,
    "start_time": "2022-03-30T17:16:09.014Z"
   },
   {
    "duration": 10,
    "start_time": "2022-03-30T17:16:09.024Z"
   },
   {
    "duration": 499,
    "start_time": "2022-03-30T17:29:31.832Z"
   },
   {
    "duration": 219,
    "start_time": "2022-03-30T17:29:32.334Z"
   },
   {
    "duration": 20,
    "start_time": "2022-03-30T17:29:32.555Z"
   },
   {
    "duration": 51,
    "start_time": "2022-03-30T17:29:32.578Z"
   },
   {
    "duration": 4,
    "start_time": "2022-03-30T17:29:32.631Z"
   },
   {
    "duration": 13,
    "start_time": "2022-03-30T17:29:32.637Z"
   },
   {
    "duration": 8,
    "start_time": "2022-03-30T17:29:32.652Z"
   },
   {
    "duration": 59,
    "start_time": "2022-03-30T17:29:32.662Z"
   },
   {
    "duration": 22,
    "start_time": "2022-03-30T17:29:32.723Z"
   },
   {
    "duration": 28,
    "start_time": "2022-03-30T17:29:32.748Z"
   },
   {
    "duration": 76,
    "start_time": "2022-03-30T17:29:32.802Z"
   },
   {
    "duration": 89,
    "start_time": "2022-03-30T17:29:32.900Z"
   },
   {
    "duration": 72,
    "start_time": "2022-03-30T17:29:33.002Z"
   },
   {
    "duration": 71,
    "start_time": "2022-03-30T17:29:33.076Z"
   },
   {
    "duration": 145,
    "start_time": "2022-03-30T17:29:33.149Z"
   },
   {
    "duration": 0,
    "start_time": "2022-03-30T17:29:33.296Z"
   },
   {
    "duration": 0,
    "start_time": "2022-03-30T17:29:33.297Z"
   },
   {
    "duration": 0,
    "start_time": "2022-03-30T17:29:33.299Z"
   },
   {
    "duration": 0,
    "start_time": "2022-03-30T17:29:33.301Z"
   },
   {
    "duration": 0,
    "start_time": "2022-03-30T17:29:33.303Z"
   },
   {
    "duration": 0,
    "start_time": "2022-03-30T17:29:33.304Z"
   },
   {
    "duration": 0,
    "start_time": "2022-03-30T17:29:33.305Z"
   },
   {
    "duration": 0,
    "start_time": "2022-03-30T17:29:33.306Z"
   },
   {
    "duration": 0,
    "start_time": "2022-03-30T17:29:33.308Z"
   },
   {
    "duration": 0,
    "start_time": "2022-03-30T17:29:33.311Z"
   },
   {
    "duration": 0,
    "start_time": "2022-03-30T17:29:33.312Z"
   },
   {
    "duration": 0,
    "start_time": "2022-03-30T17:29:33.313Z"
   },
   {
    "duration": 0,
    "start_time": "2022-03-30T17:29:33.315Z"
   },
   {
    "duration": 0,
    "start_time": "2022-03-30T17:29:33.316Z"
   },
   {
    "duration": 0,
    "start_time": "2022-03-30T17:29:33.318Z"
   },
   {
    "duration": 0,
    "start_time": "2022-03-30T17:29:33.319Z"
   },
   {
    "duration": 0,
    "start_time": "2022-03-30T17:29:33.320Z"
   },
   {
    "duration": 0,
    "start_time": "2022-03-30T17:29:33.321Z"
   },
   {
    "duration": 0,
    "start_time": "2022-03-30T17:29:33.322Z"
   },
   {
    "duration": 0,
    "start_time": "2022-03-30T17:29:33.323Z"
   },
   {
    "duration": 0,
    "start_time": "2022-03-30T17:29:33.325Z"
   },
   {
    "duration": 0,
    "start_time": "2022-03-30T17:29:33.326Z"
   },
   {
    "duration": 0,
    "start_time": "2022-03-30T17:29:33.327Z"
   },
   {
    "duration": 452,
    "start_time": "2022-03-30T17:29:59.368Z"
   },
   {
    "duration": 177,
    "start_time": "2022-03-30T17:29:59.822Z"
   },
   {
    "duration": 22,
    "start_time": "2022-03-30T17:30:00.002Z"
   },
   {
    "duration": 36,
    "start_time": "2022-03-30T17:30:00.027Z"
   },
   {
    "duration": 5,
    "start_time": "2022-03-30T17:30:00.065Z"
   },
   {
    "duration": 12,
    "start_time": "2022-03-30T17:30:00.100Z"
   },
   {
    "duration": 12,
    "start_time": "2022-03-30T17:30:00.114Z"
   },
   {
    "duration": 31,
    "start_time": "2022-03-30T17:30:00.128Z"
   },
   {
    "duration": 51,
    "start_time": "2022-03-30T17:30:00.161Z"
   },
   {
    "duration": 37,
    "start_time": "2022-03-30T17:30:00.216Z"
   },
   {
    "duration": 90,
    "start_time": "2022-03-30T17:30:00.255Z"
   },
   {
    "duration": 102,
    "start_time": "2022-03-30T17:30:00.347Z"
   },
   {
    "duration": 78,
    "start_time": "2022-03-30T17:30:00.452Z"
   },
   {
    "duration": 70,
    "start_time": "2022-03-30T17:30:00.532Z"
   },
   {
    "duration": 4,
    "start_time": "2022-03-30T17:30:00.604Z"
   },
   {
    "duration": 32,
    "start_time": "2022-03-30T17:30:00.610Z"
   },
   {
    "duration": 69,
    "start_time": "2022-03-30T17:30:00.644Z"
   },
   {
    "duration": 3,
    "start_time": "2022-03-30T17:30:00.715Z"
   },
   {
    "duration": 14,
    "start_time": "2022-03-30T17:30:00.720Z"
   },
   {
    "duration": 12,
    "start_time": "2022-03-30T17:30:00.737Z"
   },
   {
    "duration": 20,
    "start_time": "2022-03-30T17:30:00.751Z"
   },
   {
    "duration": 11,
    "start_time": "2022-03-30T17:30:00.773Z"
   },
   {
    "duration": 14,
    "start_time": "2022-03-30T17:30:00.786Z"
   },
   {
    "duration": 11,
    "start_time": "2022-03-30T17:30:00.802Z"
   },
   {
    "duration": 19,
    "start_time": "2022-03-30T17:30:00.815Z"
   },
   {
    "duration": 10,
    "start_time": "2022-03-30T17:30:00.837Z"
   },
   {
    "duration": 17,
    "start_time": "2022-03-30T17:30:00.849Z"
   },
   {
    "duration": 12,
    "start_time": "2022-03-30T17:30:00.870Z"
   },
   {
    "duration": 22,
    "start_time": "2022-03-30T17:30:00.884Z"
   },
   {
    "duration": 10,
    "start_time": "2022-03-30T17:30:00.908Z"
   },
   {
    "duration": 19,
    "start_time": "2022-03-30T17:30:00.920Z"
   },
   {
    "duration": 18,
    "start_time": "2022-03-30T17:30:00.941Z"
   },
   {
    "duration": 30,
    "start_time": "2022-03-30T17:30:00.961Z"
   },
   {
    "duration": 21,
    "start_time": "2022-03-30T17:30:00.993Z"
   },
   {
    "duration": 13,
    "start_time": "2022-03-30T17:30:01.017Z"
   },
   {
    "duration": 12,
    "start_time": "2022-03-30T17:30:01.032Z"
   },
   {
    "duration": 23,
    "start_time": "2022-03-30T17:30:01.047Z"
   },
   {
    "duration": 13,
    "start_time": "2022-03-30T17:30:01.073Z"
   },
   {
    "duration": 54,
    "start_time": "2022-03-30T17:32:50.624Z"
   },
   {
    "duration": 501,
    "start_time": "2022-03-30T17:34:13.774Z"
   },
   {
    "duration": 171,
    "start_time": "2022-03-30T17:34:14.277Z"
   },
   {
    "duration": 19,
    "start_time": "2022-03-30T17:34:14.449Z"
   },
   {
    "duration": 48,
    "start_time": "2022-03-30T17:34:14.470Z"
   },
   {
    "duration": 5,
    "start_time": "2022-03-30T17:34:14.520Z"
   },
   {
    "duration": 32,
    "start_time": "2022-03-30T17:34:14.527Z"
   },
   {
    "duration": 20,
    "start_time": "2022-03-30T17:34:14.562Z"
   },
   {
    "duration": 56,
    "start_time": "2022-03-30T17:34:14.584Z"
   },
   {
    "duration": 33,
    "start_time": "2022-03-30T17:34:14.642Z"
   },
   {
    "duration": 33,
    "start_time": "2022-03-30T17:34:14.678Z"
   },
   {
    "duration": 99,
    "start_time": "2022-03-30T17:34:14.713Z"
   },
   {
    "duration": 102,
    "start_time": "2022-03-30T17:34:14.813Z"
   },
   {
    "duration": 70,
    "start_time": "2022-03-30T17:34:14.917Z"
   },
   {
    "duration": 56,
    "start_time": "2022-03-30T17:34:15.002Z"
   },
   {
    "duration": 150,
    "start_time": "2022-03-30T17:34:15.060Z"
   },
   {
    "duration": 0,
    "start_time": "2022-03-30T17:34:15.212Z"
   },
   {
    "duration": 0,
    "start_time": "2022-03-30T17:34:15.213Z"
   },
   {
    "duration": 0,
    "start_time": "2022-03-30T17:34:15.215Z"
   },
   {
    "duration": 0,
    "start_time": "2022-03-30T17:34:15.216Z"
   },
   {
    "duration": 0,
    "start_time": "2022-03-30T17:34:15.217Z"
   },
   {
    "duration": 0,
    "start_time": "2022-03-30T17:34:15.218Z"
   },
   {
    "duration": 0,
    "start_time": "2022-03-30T17:34:15.220Z"
   },
   {
    "duration": 0,
    "start_time": "2022-03-30T17:34:15.221Z"
   },
   {
    "duration": 0,
    "start_time": "2022-03-30T17:34:15.222Z"
   },
   {
    "duration": 0,
    "start_time": "2022-03-30T17:34:15.223Z"
   },
   {
    "duration": 0,
    "start_time": "2022-03-30T17:34:15.224Z"
   },
   {
    "duration": 0,
    "start_time": "2022-03-30T17:34:15.225Z"
   },
   {
    "duration": 0,
    "start_time": "2022-03-30T17:34:15.226Z"
   },
   {
    "duration": 0,
    "start_time": "2022-03-30T17:34:15.228Z"
   },
   {
    "duration": 0,
    "start_time": "2022-03-30T17:34:15.229Z"
   },
   {
    "duration": 0,
    "start_time": "2022-03-30T17:34:15.230Z"
   },
   {
    "duration": 0,
    "start_time": "2022-03-30T17:34:15.232Z"
   },
   {
    "duration": 0,
    "start_time": "2022-03-30T17:34:15.233Z"
   },
   {
    "duration": 0,
    "start_time": "2022-03-30T17:34:15.234Z"
   },
   {
    "duration": 0,
    "start_time": "2022-03-30T17:34:15.236Z"
   },
   {
    "duration": 0,
    "start_time": "2022-03-30T17:34:15.237Z"
   },
   {
    "duration": 0,
    "start_time": "2022-03-30T17:34:15.239Z"
   },
   {
    "duration": 0,
    "start_time": "2022-03-30T17:34:15.240Z"
   },
   {
    "duration": 392,
    "start_time": "2022-03-30T17:34:54.649Z"
   },
   {
    "duration": 163,
    "start_time": "2022-03-30T17:34:55.044Z"
   },
   {
    "duration": 19,
    "start_time": "2022-03-30T17:34:55.209Z"
   },
   {
    "duration": 38,
    "start_time": "2022-03-30T17:34:55.230Z"
   },
   {
    "duration": 4,
    "start_time": "2022-03-30T17:34:55.270Z"
   },
   {
    "duration": 34,
    "start_time": "2022-03-30T17:34:55.276Z"
   },
   {
    "duration": 16,
    "start_time": "2022-03-30T17:34:55.312Z"
   },
   {
    "duration": 47,
    "start_time": "2022-03-30T17:34:55.330Z"
   },
   {
    "duration": 30,
    "start_time": "2022-03-30T17:34:55.380Z"
   },
   {
    "duration": 27,
    "start_time": "2022-03-30T17:34:55.415Z"
   },
   {
    "duration": 95,
    "start_time": "2022-03-30T17:34:55.445Z"
   },
   {
    "duration": 97,
    "start_time": "2022-03-30T17:34:55.542Z"
   },
   {
    "duration": 74,
    "start_time": "2022-03-30T17:34:55.640Z"
   },
   {
    "duration": 51,
    "start_time": "2022-03-30T17:34:55.716Z"
   },
   {
    "duration": 4,
    "start_time": "2022-03-30T17:34:55.769Z"
   },
   {
    "duration": 42,
    "start_time": "2022-03-30T17:34:55.775Z"
   },
   {
    "duration": 54,
    "start_time": "2022-03-30T17:34:55.819Z"
   },
   {
    "duration": 26,
    "start_time": "2022-03-30T17:34:55.875Z"
   },
   {
    "duration": 6,
    "start_time": "2022-03-30T17:34:55.903Z"
   },
   {
    "duration": 7,
    "start_time": "2022-03-30T17:34:55.911Z"
   },
   {
    "duration": 9,
    "start_time": "2022-03-30T17:34:55.919Z"
   },
   {
    "duration": 7,
    "start_time": "2022-03-30T17:34:55.930Z"
   },
   {
    "duration": 12,
    "start_time": "2022-03-30T17:34:55.939Z"
   },
   {
    "duration": 17,
    "start_time": "2022-03-30T17:34:55.953Z"
   },
   {
    "duration": 22,
    "start_time": "2022-03-30T17:34:55.972Z"
   },
   {
    "duration": 14,
    "start_time": "2022-03-30T17:34:55.996Z"
   },
   {
    "duration": 9,
    "start_time": "2022-03-30T17:34:56.012Z"
   },
   {
    "duration": 7,
    "start_time": "2022-03-30T17:34:56.025Z"
   },
   {
    "duration": 11,
    "start_time": "2022-03-30T17:34:56.034Z"
   },
   {
    "duration": 10,
    "start_time": "2022-03-30T17:34:56.048Z"
   },
   {
    "duration": 24,
    "start_time": "2022-03-30T17:34:56.060Z"
   },
   {
    "duration": 13,
    "start_time": "2022-03-30T17:34:56.086Z"
   },
   {
    "duration": 15,
    "start_time": "2022-03-30T17:34:56.101Z"
   },
   {
    "duration": 14,
    "start_time": "2022-03-30T17:34:56.119Z"
   },
   {
    "duration": 17,
    "start_time": "2022-03-30T17:34:56.135Z"
   },
   {
    "duration": 8,
    "start_time": "2022-03-30T17:34:56.155Z"
   },
   {
    "duration": 12,
    "start_time": "2022-03-30T17:34:56.165Z"
   },
   {
    "duration": 9,
    "start_time": "2022-03-30T17:34:56.178Z"
   },
   {
    "duration": 54,
    "start_time": "2022-03-30T17:36:30.333Z"
   },
   {
    "duration": 20,
    "start_time": "2022-03-30T17:37:05.691Z"
   },
   {
    "duration": 55,
    "start_time": "2022-03-30T17:37:09.799Z"
   },
   {
    "duration": 431,
    "start_time": "2022-03-30T17:37:58.792Z"
   },
   {
    "duration": 170,
    "start_time": "2022-03-30T17:37:59.225Z"
   },
   {
    "duration": 20,
    "start_time": "2022-03-30T17:37:59.397Z"
   },
   {
    "duration": 33,
    "start_time": "2022-03-30T17:37:59.421Z"
   },
   {
    "duration": 6,
    "start_time": "2022-03-30T17:37:59.456Z"
   },
   {
    "duration": 49,
    "start_time": "2022-03-30T17:37:59.464Z"
   },
   {
    "duration": 8,
    "start_time": "2022-03-30T17:37:59.515Z"
   },
   {
    "duration": 28,
    "start_time": "2022-03-30T17:37:59.525Z"
   },
   {
    "duration": 49,
    "start_time": "2022-03-30T17:37:59.555Z"
   },
   {
    "duration": 28,
    "start_time": "2022-03-30T17:37:59.607Z"
   },
   {
    "duration": 94,
    "start_time": "2022-03-30T17:37:59.637Z"
   },
   {
    "duration": 96,
    "start_time": "2022-03-30T17:37:59.732Z"
   },
   {
    "duration": 77,
    "start_time": "2022-03-30T17:37:59.830Z"
   },
   {
    "duration": 54,
    "start_time": "2022-03-30T17:37:59.910Z"
   },
   {
    "duration": 4,
    "start_time": "2022-03-30T17:37:59.967Z"
   },
   {
    "duration": 45,
    "start_time": "2022-03-30T17:37:59.974Z"
   },
   {
    "duration": 57,
    "start_time": "2022-03-30T17:38:00.022Z"
   },
   {
    "duration": 3,
    "start_time": "2022-03-30T17:38:00.102Z"
   },
   {
    "duration": 11,
    "start_time": "2022-03-30T17:38:00.106Z"
   },
   {
    "duration": 11,
    "start_time": "2022-03-30T17:38:00.120Z"
   },
   {
    "duration": 12,
    "start_time": "2022-03-30T17:38:00.134Z"
   },
   {
    "duration": 7,
    "start_time": "2022-03-30T17:38:00.148Z"
   },
   {
    "duration": 7,
    "start_time": "2022-03-30T17:38:00.157Z"
   },
   {
    "duration": 7,
    "start_time": "2022-03-30T17:38:00.166Z"
   },
   {
    "duration": 12,
    "start_time": "2022-03-30T17:38:00.174Z"
   },
   {
    "duration": 14,
    "start_time": "2022-03-30T17:38:00.188Z"
   },
   {
    "duration": 14,
    "start_time": "2022-03-30T17:38:00.205Z"
   },
   {
    "duration": 8,
    "start_time": "2022-03-30T17:38:00.223Z"
   },
   {
    "duration": 10,
    "start_time": "2022-03-30T17:38:00.233Z"
   },
   {
    "duration": 10,
    "start_time": "2022-03-30T17:38:00.245Z"
   },
   {
    "duration": 15,
    "start_time": "2022-03-30T17:38:00.257Z"
   },
   {
    "duration": 7,
    "start_time": "2022-03-30T17:38:00.274Z"
   },
   {
    "duration": 14,
    "start_time": "2022-03-30T17:38:00.282Z"
   },
   {
    "duration": 7,
    "start_time": "2022-03-30T17:38:00.298Z"
   },
   {
    "duration": 11,
    "start_time": "2022-03-30T17:38:00.307Z"
   },
   {
    "duration": 18,
    "start_time": "2022-03-30T17:38:00.320Z"
   },
   {
    "duration": 13,
    "start_time": "2022-03-30T17:38:00.340Z"
   },
   {
    "duration": 8,
    "start_time": "2022-03-30T17:38:00.355Z"
   },
   {
    "duration": 441,
    "start_time": "2022-03-30T17:40:52.106Z"
   },
   {
    "duration": 169,
    "start_time": "2022-03-30T17:40:52.549Z"
   },
   {
    "duration": 19,
    "start_time": "2022-03-30T17:40:52.720Z"
   },
   {
    "duration": 33,
    "start_time": "2022-03-30T17:40:52.742Z"
   },
   {
    "duration": 6,
    "start_time": "2022-03-30T17:40:52.800Z"
   },
   {
    "duration": 12,
    "start_time": "2022-03-30T17:40:52.807Z"
   },
   {
    "duration": 7,
    "start_time": "2022-03-30T17:40:52.821Z"
   },
   {
    "duration": 31,
    "start_time": "2022-03-30T17:40:52.830Z"
   },
   {
    "duration": 55,
    "start_time": "2022-03-30T17:40:52.863Z"
   },
   {
    "duration": 28,
    "start_time": "2022-03-30T17:40:52.921Z"
   },
   {
    "duration": 97,
    "start_time": "2022-03-30T17:40:52.951Z"
   },
   {
    "duration": 103,
    "start_time": "2022-03-30T17:40:53.050Z"
   },
   {
    "duration": 75,
    "start_time": "2022-03-30T17:40:53.155Z"
   },
   {
    "duration": 53,
    "start_time": "2022-03-30T17:40:53.231Z"
   },
   {
    "duration": 17,
    "start_time": "2022-03-30T17:40:53.286Z"
   },
   {
    "duration": 19,
    "start_time": "2022-03-30T17:40:53.305Z"
   },
   {
    "duration": 89,
    "start_time": "2022-03-30T17:40:53.326Z"
   },
   {
    "duration": 2,
    "start_time": "2022-03-30T17:40:53.418Z"
   },
   {
    "duration": 8,
    "start_time": "2022-03-30T17:40:53.422Z"
   },
   {
    "duration": 7,
    "start_time": "2022-03-30T17:40:53.432Z"
   },
   {
    "duration": 9,
    "start_time": "2022-03-30T17:40:53.440Z"
   },
   {
    "duration": 5,
    "start_time": "2022-03-30T17:40:53.451Z"
   },
   {
    "duration": 6,
    "start_time": "2022-03-30T17:40:53.458Z"
   },
   {
    "duration": 9,
    "start_time": "2022-03-30T17:40:53.466Z"
   },
   {
    "duration": 25,
    "start_time": "2022-03-30T17:40:53.476Z"
   },
   {
    "duration": 16,
    "start_time": "2022-03-30T17:40:53.503Z"
   },
   {
    "duration": 9,
    "start_time": "2022-03-30T17:40:53.520Z"
   },
   {
    "duration": 10,
    "start_time": "2022-03-30T17:40:53.533Z"
   },
   {
    "duration": 8,
    "start_time": "2022-03-30T17:40:53.545Z"
   },
   {
    "duration": 9,
    "start_time": "2022-03-30T17:40:53.555Z"
   },
   {
    "duration": 11,
    "start_time": "2022-03-30T17:40:53.566Z"
   },
   {
    "duration": 10,
    "start_time": "2022-03-30T17:40:53.579Z"
   },
   {
    "duration": 16,
    "start_time": "2022-03-30T17:40:53.591Z"
   },
   {
    "duration": 8,
    "start_time": "2022-03-30T17:40:53.608Z"
   },
   {
    "duration": 9,
    "start_time": "2022-03-30T17:40:53.618Z"
   },
   {
    "duration": 10,
    "start_time": "2022-03-30T17:40:53.629Z"
   },
   {
    "duration": 9,
    "start_time": "2022-03-30T17:40:53.641Z"
   },
   {
    "duration": 8,
    "start_time": "2022-03-30T17:40:53.652Z"
   },
   {
    "duration": 4,
    "start_time": "2022-03-30T17:41:16.287Z"
   },
   {
    "duration": 19,
    "start_time": "2022-03-30T17:41:19.082Z"
   },
   {
    "duration": 69,
    "start_time": "2022-03-30T17:41:23.242Z"
   },
   {
    "duration": 48,
    "start_time": "2022-03-30T17:42:36.036Z"
   },
   {
    "duration": 392,
    "start_time": "2022-03-30T17:42:59.845Z"
   },
   {
    "duration": 170,
    "start_time": "2022-03-30T17:43:00.239Z"
   },
   {
    "duration": 19,
    "start_time": "2022-03-30T17:43:00.411Z"
   },
   {
    "duration": 31,
    "start_time": "2022-03-30T17:43:00.432Z"
   },
   {
    "duration": 9,
    "start_time": "2022-03-30T17:43:00.465Z"
   },
   {
    "duration": 11,
    "start_time": "2022-03-30T17:43:00.502Z"
   },
   {
    "duration": 21,
    "start_time": "2022-03-30T17:43:00.515Z"
   },
   {
    "duration": 31,
    "start_time": "2022-03-30T17:43:00.538Z"
   },
   {
    "duration": 38,
    "start_time": "2022-03-30T17:43:00.571Z"
   },
   {
    "duration": 31,
    "start_time": "2022-03-30T17:43:00.612Z"
   },
   {
    "duration": 90,
    "start_time": "2022-03-30T17:43:00.645Z"
   },
   {
    "duration": 94,
    "start_time": "2022-03-30T17:43:00.737Z"
   },
   {
    "duration": 83,
    "start_time": "2022-03-30T17:43:00.833Z"
   },
   {
    "duration": 56,
    "start_time": "2022-03-30T17:43:00.917Z"
   },
   {
    "duration": 3,
    "start_time": "2022-03-30T17:43:00.975Z"
   },
   {
    "duration": 40,
    "start_time": "2022-03-30T17:43:00.980Z"
   },
   {
    "duration": 55,
    "start_time": "2022-03-30T17:43:01.022Z"
   },
   {
    "duration": 24,
    "start_time": "2022-03-30T17:43:01.079Z"
   },
   {
    "duration": 12,
    "start_time": "2022-03-30T17:43:01.105Z"
   },
   {
    "duration": 15,
    "start_time": "2022-03-30T17:43:01.119Z"
   },
   {
    "duration": 9,
    "start_time": "2022-03-30T17:43:01.136Z"
   },
   {
    "duration": 5,
    "start_time": "2022-03-30T17:43:01.147Z"
   },
   {
    "duration": 9,
    "start_time": "2022-03-30T17:43:01.154Z"
   },
   {
    "duration": 7,
    "start_time": "2022-03-30T17:43:01.165Z"
   },
   {
    "duration": 27,
    "start_time": "2022-03-30T17:43:01.174Z"
   },
   {
    "duration": 2,
    "start_time": "2022-03-30T17:43:01.203Z"
   },
   {
    "duration": 10,
    "start_time": "2022-03-30T17:43:01.207Z"
   },
   {
    "duration": 12,
    "start_time": "2022-03-30T17:43:01.221Z"
   },
   {
    "duration": 9,
    "start_time": "2022-03-30T17:43:01.234Z"
   },
   {
    "duration": 10,
    "start_time": "2022-03-30T17:43:01.245Z"
   },
   {
    "duration": 12,
    "start_time": "2022-03-30T17:43:01.257Z"
   },
   {
    "duration": 20,
    "start_time": "2022-03-30T17:43:01.271Z"
   },
   {
    "duration": 15,
    "start_time": "2022-03-30T17:43:01.293Z"
   },
   {
    "duration": 8,
    "start_time": "2022-03-30T17:43:01.310Z"
   },
   {
    "duration": 10,
    "start_time": "2022-03-30T17:43:01.320Z"
   },
   {
    "duration": 14,
    "start_time": "2022-03-30T17:43:01.332Z"
   },
   {
    "duration": 8,
    "start_time": "2022-03-30T17:43:01.348Z"
   },
   {
    "duration": 8,
    "start_time": "2022-03-30T17:43:01.358Z"
   },
   {
    "duration": 4,
    "start_time": "2022-03-30T17:43:44.004Z"
   },
   {
    "duration": 11,
    "start_time": "2022-03-30T17:43:46.219Z"
   },
   {
    "duration": 55,
    "start_time": "2022-03-30T17:43:50.465Z"
   },
   {
    "duration": 502,
    "start_time": "2022-03-30T17:44:08.224Z"
   },
   {
    "duration": 225,
    "start_time": "2022-03-30T17:44:08.729Z"
   },
   {
    "duration": 20,
    "start_time": "2022-03-30T17:44:08.955Z"
   },
   {
    "duration": 68,
    "start_time": "2022-03-30T17:44:08.976Z"
   },
   {
    "duration": 4,
    "start_time": "2022-03-30T17:44:09.052Z"
   },
   {
    "duration": 15,
    "start_time": "2022-03-30T17:44:09.059Z"
   },
   {
    "duration": 29,
    "start_time": "2022-03-30T17:44:09.076Z"
   },
   {
    "duration": 44,
    "start_time": "2022-03-30T17:44:09.106Z"
   },
   {
    "duration": 25,
    "start_time": "2022-03-30T17:44:09.152Z"
   },
   {
    "duration": 49,
    "start_time": "2022-03-30T17:44:09.180Z"
   },
   {
    "duration": 105,
    "start_time": "2022-03-30T17:44:09.231Z"
   },
   {
    "duration": 102,
    "start_time": "2022-03-30T17:44:09.338Z"
   },
   {
    "duration": 75,
    "start_time": "2022-03-30T17:44:09.442Z"
   },
   {
    "duration": 54,
    "start_time": "2022-03-30T17:44:09.522Z"
   },
   {
    "duration": 23,
    "start_time": "2022-03-30T17:44:09.578Z"
   },
   {
    "duration": 15,
    "start_time": "2022-03-30T17:44:09.603Z"
   },
   {
    "duration": 53,
    "start_time": "2022-03-30T17:44:09.620Z"
   },
   {
    "duration": 27,
    "start_time": "2022-03-30T17:44:09.675Z"
   },
   {
    "duration": 8,
    "start_time": "2022-03-30T17:44:09.704Z"
   },
   {
    "duration": 9,
    "start_time": "2022-03-30T17:44:09.714Z"
   },
   {
    "duration": 6,
    "start_time": "2022-03-30T17:44:09.725Z"
   },
   {
    "duration": 5,
    "start_time": "2022-03-30T17:44:09.733Z"
   },
   {
    "duration": 5,
    "start_time": "2022-03-30T17:44:09.740Z"
   },
   {
    "duration": 8,
    "start_time": "2022-03-30T17:44:09.746Z"
   },
   {
    "duration": 12,
    "start_time": "2022-03-30T17:44:09.756Z"
   },
   {
    "duration": 3,
    "start_time": "2022-03-30T17:44:09.802Z"
   },
   {
    "duration": 6,
    "start_time": "2022-03-30T17:44:09.807Z"
   },
   {
    "duration": 8,
    "start_time": "2022-03-30T17:44:09.815Z"
   },
   {
    "duration": 7,
    "start_time": "2022-03-30T17:44:09.825Z"
   },
   {
    "duration": 9,
    "start_time": "2022-03-30T17:44:09.834Z"
   },
   {
    "duration": 11,
    "start_time": "2022-03-30T17:44:09.845Z"
   },
   {
    "duration": 8,
    "start_time": "2022-03-30T17:44:09.858Z"
   },
   {
    "duration": 3,
    "start_time": "2022-03-30T17:44:09.901Z"
   },
   {
    "duration": 6,
    "start_time": "2022-03-30T17:44:09.905Z"
   },
   {
    "duration": 7,
    "start_time": "2022-03-30T17:44:09.913Z"
   },
   {
    "duration": 9,
    "start_time": "2022-03-30T17:44:09.921Z"
   },
   {
    "duration": 10,
    "start_time": "2022-03-30T17:44:09.932Z"
   },
   {
    "duration": 7,
    "start_time": "2022-03-30T17:44:09.944Z"
   },
   {
    "duration": 498,
    "start_time": "2022-03-30T17:44:30.759Z"
   },
   {
    "duration": 177,
    "start_time": "2022-03-30T17:44:31.259Z"
   },
   {
    "duration": 20,
    "start_time": "2022-03-30T17:44:31.438Z"
   },
   {
    "duration": 56,
    "start_time": "2022-03-30T17:44:31.460Z"
   },
   {
    "duration": 21,
    "start_time": "2022-03-30T17:44:31.519Z"
   },
   {
    "duration": 17,
    "start_time": "2022-03-30T17:44:31.542Z"
   },
   {
    "duration": 24,
    "start_time": "2022-03-30T17:44:31.562Z"
   },
   {
    "duration": 40,
    "start_time": "2022-03-30T17:44:31.588Z"
   },
   {
    "duration": 30,
    "start_time": "2022-03-30T17:44:31.630Z"
   },
   {
    "duration": 32,
    "start_time": "2022-03-30T17:44:31.662Z"
   },
   {
    "duration": 89,
    "start_time": "2022-03-30T17:44:31.700Z"
   },
   {
    "duration": 87,
    "start_time": "2022-03-30T17:44:31.791Z"
   },
   {
    "duration": 82,
    "start_time": "2022-03-30T17:44:31.880Z"
   },
   {
    "duration": 66,
    "start_time": "2022-03-30T17:44:31.967Z"
   },
   {
    "duration": 5,
    "start_time": "2022-03-30T17:44:32.034Z"
   },
   {
    "duration": 46,
    "start_time": "2022-03-30T17:44:32.040Z"
   },
   {
    "duration": 69,
    "start_time": "2022-03-30T17:44:32.088Z"
   },
   {
    "duration": 2,
    "start_time": "2022-03-30T17:44:32.159Z"
   },
   {
    "duration": 9,
    "start_time": "2022-03-30T17:44:32.163Z"
   },
   {
    "duration": 27,
    "start_time": "2022-03-30T17:44:32.174Z"
   },
   {
    "duration": 60,
    "start_time": "2022-03-30T17:44:32.204Z"
   },
   {
    "duration": 25,
    "start_time": "2022-03-30T17:44:32.266Z"
   },
   {
    "duration": 21,
    "start_time": "2022-03-30T17:44:32.293Z"
   },
   {
    "duration": 25,
    "start_time": "2022-03-30T17:44:32.316Z"
   },
   {
    "duration": 24,
    "start_time": "2022-03-30T17:44:32.344Z"
   },
   {
    "duration": 24,
    "start_time": "2022-03-30T17:44:32.371Z"
   },
   {
    "duration": 25,
    "start_time": "2022-03-30T17:44:32.398Z"
   },
   {
    "duration": 31,
    "start_time": "2022-03-30T17:44:32.425Z"
   },
   {
    "duration": 58,
    "start_time": "2022-03-30T17:44:32.458Z"
   },
   {
    "duration": 63,
    "start_time": "2022-03-30T17:44:32.518Z"
   },
   {
    "duration": 92,
    "start_time": "2022-03-30T17:44:32.583Z"
   },
   {
    "duration": 44,
    "start_time": "2022-03-30T17:44:32.678Z"
   },
   {
    "duration": 106,
    "start_time": "2022-03-30T17:44:32.723Z"
   },
   {
    "duration": 31,
    "start_time": "2022-03-30T17:44:32.831Z"
   },
   {
    "duration": 25,
    "start_time": "2022-03-30T17:44:32.865Z"
   },
   {
    "duration": 26,
    "start_time": "2022-03-30T17:44:32.892Z"
   },
   {
    "duration": 20,
    "start_time": "2022-03-30T17:44:32.920Z"
   },
   {
    "duration": 22,
    "start_time": "2022-03-30T17:44:32.942Z"
   },
   {
    "duration": 4,
    "start_time": "2022-03-30T17:48:56.589Z"
   },
   {
    "duration": 21,
    "start_time": "2022-03-30T17:48:57.719Z"
   },
   {
    "duration": 54,
    "start_time": "2022-03-30T17:49:13.535Z"
   },
   {
    "duration": 4,
    "start_time": "2022-03-30T17:52:19.298Z"
   },
   {
    "duration": 22,
    "start_time": "2022-03-30T17:52:21.103Z"
   },
   {
    "duration": 55,
    "start_time": "2022-03-30T17:52:26.738Z"
   },
   {
    "duration": 4,
    "start_time": "2022-03-30T17:54:50.869Z"
   },
   {
    "duration": 9,
    "start_time": "2022-03-30T17:54:52.160Z"
   },
   {
    "duration": 52,
    "start_time": "2022-03-30T17:54:53.900Z"
   },
   {
    "duration": 47,
    "start_time": "2022-03-30T20:41:07.425Z"
   },
   {
    "duration": 383,
    "start_time": "2022-03-30T20:41:37.935Z"
   },
   {
    "duration": 152,
    "start_time": "2022-03-30T20:41:38.320Z"
   },
   {
    "duration": 17,
    "start_time": "2022-03-30T20:41:38.473Z"
   },
   {
    "duration": 34,
    "start_time": "2022-03-30T20:41:38.492Z"
   },
   {
    "duration": 5,
    "start_time": "2022-03-30T20:41:38.527Z"
   },
   {
    "duration": 12,
    "start_time": "2022-03-30T20:41:38.533Z"
   },
   {
    "duration": 11,
    "start_time": "2022-03-30T20:41:38.547Z"
   },
   {
    "duration": 29,
    "start_time": "2022-03-30T20:41:38.559Z"
   },
   {
    "duration": 37,
    "start_time": "2022-03-30T20:41:38.589Z"
   },
   {
    "duration": 24,
    "start_time": "2022-03-30T20:41:38.629Z"
   },
   {
    "duration": 84,
    "start_time": "2022-03-30T20:41:38.655Z"
   },
   {
    "duration": 81,
    "start_time": "2022-03-30T20:41:38.741Z"
   },
   {
    "duration": 57,
    "start_time": "2022-03-30T20:41:38.823Z"
   },
   {
    "duration": 60,
    "start_time": "2022-03-30T20:41:38.882Z"
   },
   {
    "duration": 3,
    "start_time": "2022-03-30T20:41:38.944Z"
   },
   {
    "duration": 14,
    "start_time": "2022-03-30T20:41:38.949Z"
   },
   {
    "duration": 66,
    "start_time": "2022-03-30T20:41:38.965Z"
   },
   {
    "duration": 11,
    "start_time": "2022-03-30T20:41:39.033Z"
   },
   {
    "duration": 29,
    "start_time": "2022-03-30T20:41:39.045Z"
   },
   {
    "duration": 7,
    "start_time": "2022-03-30T20:41:39.076Z"
   },
   {
    "duration": 6,
    "start_time": "2022-03-30T20:41:39.084Z"
   },
   {
    "duration": 6,
    "start_time": "2022-03-30T20:41:39.092Z"
   },
   {
    "duration": 5,
    "start_time": "2022-03-30T20:41:39.100Z"
   },
   {
    "duration": 6,
    "start_time": "2022-03-30T20:41:39.106Z"
   },
   {
    "duration": 5,
    "start_time": "2022-03-30T20:41:39.113Z"
   },
   {
    "duration": 7,
    "start_time": "2022-03-30T20:41:39.119Z"
   },
   {
    "duration": 4,
    "start_time": "2022-03-30T20:41:39.127Z"
   },
   {
    "duration": 3,
    "start_time": "2022-03-30T20:41:39.134Z"
   },
   {
    "duration": 25,
    "start_time": "2022-03-30T20:41:39.138Z"
   },
   {
    "duration": 23,
    "start_time": "2022-03-30T20:41:39.164Z"
   },
   {
    "duration": 7,
    "start_time": "2022-03-30T20:41:39.188Z"
   },
   {
    "duration": 22,
    "start_time": "2022-03-30T20:41:39.197Z"
   },
   {
    "duration": 27,
    "start_time": "2022-03-30T20:41:39.221Z"
   },
   {
    "duration": 4,
    "start_time": "2022-03-30T20:41:39.249Z"
   },
   {
    "duration": 4,
    "start_time": "2022-03-30T20:41:39.255Z"
   },
   {
    "duration": 4,
    "start_time": "2022-03-30T20:41:39.261Z"
   },
   {
    "duration": 6,
    "start_time": "2022-03-30T20:41:39.266Z"
   },
   {
    "duration": 4,
    "start_time": "2022-03-30T20:41:39.274Z"
   },
   {
    "duration": 11,
    "start_time": "2022-03-30T20:41:49.077Z"
   },
   {
    "duration": 13,
    "start_time": "2022-03-30T20:43:28.995Z"
   },
   {
    "duration": 17,
    "start_time": "2022-03-30T20:46:38.828Z"
   },
   {
    "duration": 11,
    "start_time": "2022-03-30T20:48:51.259Z"
   },
   {
    "duration": 13,
    "start_time": "2022-03-30T20:51:05.539Z"
   },
   {
    "duration": 383,
    "start_time": "2022-03-30T20:52:58.532Z"
   },
   {
    "duration": 154,
    "start_time": "2022-03-30T20:52:58.917Z"
   },
   {
    "duration": 17,
    "start_time": "2022-03-30T20:52:59.073Z"
   },
   {
    "duration": 37,
    "start_time": "2022-03-30T20:52:59.092Z"
   },
   {
    "duration": 4,
    "start_time": "2022-03-30T20:52:59.131Z"
   },
   {
    "duration": 13,
    "start_time": "2022-03-30T20:52:59.136Z"
   },
   {
    "duration": 6,
    "start_time": "2022-03-30T20:52:59.150Z"
   },
   {
    "duration": 25,
    "start_time": "2022-03-30T20:52:59.157Z"
   },
   {
    "duration": 20,
    "start_time": "2022-03-30T20:52:59.209Z"
   },
   {
    "duration": 24,
    "start_time": "2022-03-30T20:52:59.232Z"
   },
   {
    "duration": 85,
    "start_time": "2022-03-30T20:52:59.258Z"
   },
   {
    "duration": 81,
    "start_time": "2022-03-30T20:52:59.345Z"
   },
   {
    "duration": 58,
    "start_time": "2022-03-30T20:52:59.428Z"
   },
   {
    "duration": 58,
    "start_time": "2022-03-30T20:52:59.488Z"
   },
   {
    "duration": 3,
    "start_time": "2022-03-30T20:52:59.548Z"
   },
   {
    "duration": 11,
    "start_time": "2022-03-30T20:52:59.552Z"
   },
   {
    "duration": 69,
    "start_time": "2022-03-30T20:52:59.564Z"
   },
   {
    "duration": 13,
    "start_time": "2022-03-30T20:52:59.634Z"
   },
   {
    "duration": 11,
    "start_time": "2022-03-30T20:52:59.649Z"
   },
   {
    "duration": 3,
    "start_time": "2022-03-30T20:52:59.661Z"
   },
   {
    "duration": 7,
    "start_time": "2022-03-30T20:52:59.665Z"
   },
   {
    "duration": 35,
    "start_time": "2022-03-30T20:52:59.673Z"
   },
   {
    "duration": 3,
    "start_time": "2022-03-30T20:52:59.710Z"
   },
   {
    "duration": 4,
    "start_time": "2022-03-30T20:52:59.714Z"
   },
   {
    "duration": 4,
    "start_time": "2022-03-30T20:52:59.720Z"
   },
   {
    "duration": 4,
    "start_time": "2022-03-30T20:52:59.725Z"
   },
   {
    "duration": 4,
    "start_time": "2022-03-30T20:52:59.731Z"
   },
   {
    "duration": 2,
    "start_time": "2022-03-30T20:52:59.740Z"
   },
   {
    "duration": 4,
    "start_time": "2022-03-30T20:52:59.744Z"
   },
   {
    "duration": 5,
    "start_time": "2022-03-30T20:52:59.749Z"
   },
   {
    "duration": 7,
    "start_time": "2022-03-30T20:52:59.756Z"
   },
   {
    "duration": 5,
    "start_time": "2022-03-30T20:52:59.765Z"
   },
   {
    "duration": 38,
    "start_time": "2022-03-30T20:52:59.771Z"
   },
   {
    "duration": 5,
    "start_time": "2022-03-30T20:52:59.811Z"
   },
   {
    "duration": 8,
    "start_time": "2022-03-30T20:52:59.818Z"
   },
   {
    "duration": 2,
    "start_time": "2022-03-30T20:52:59.830Z"
   },
   {
    "duration": 6,
    "start_time": "2022-03-30T20:52:59.834Z"
   },
   {
    "duration": 6,
    "start_time": "2022-03-30T20:52:59.842Z"
   },
   {
    "duration": 74,
    "start_time": "2022-03-30T21:15:39.656Z"
   },
   {
    "duration": 465,
    "start_time": "2022-03-30T21:23:12.701Z"
   },
   {
    "duration": 180,
    "start_time": "2022-03-30T21:23:13.168Z"
   },
   {
    "duration": 18,
    "start_time": "2022-03-30T21:23:13.350Z"
   },
   {
    "duration": 54,
    "start_time": "2022-03-30T21:23:13.370Z"
   },
   {
    "duration": 3,
    "start_time": "2022-03-30T21:23:13.426Z"
   },
   {
    "duration": 15,
    "start_time": "2022-03-30T21:23:13.431Z"
   },
   {
    "duration": 5,
    "start_time": "2022-03-30T21:23:13.447Z"
   },
   {
    "duration": 25,
    "start_time": "2022-03-30T21:23:13.454Z"
   },
   {
    "duration": 48,
    "start_time": "2022-03-30T21:23:13.481Z"
   },
   {
    "duration": 25,
    "start_time": "2022-03-30T21:23:13.532Z"
   },
   {
    "duration": 94,
    "start_time": "2022-03-30T21:23:13.558Z"
   },
   {
    "duration": 96,
    "start_time": "2022-03-30T21:23:13.653Z"
   },
   {
    "duration": 78,
    "start_time": "2022-03-30T21:23:13.751Z"
   },
   {
    "duration": 50,
    "start_time": "2022-03-30T21:23:13.830Z"
   },
   {
    "duration": 3,
    "start_time": "2022-03-30T21:23:13.882Z"
   },
   {
    "duration": 37,
    "start_time": "2022-03-30T21:23:13.886Z"
   },
   {
    "duration": 49,
    "start_time": "2022-03-30T21:23:13.927Z"
   },
   {
    "duration": 12,
    "start_time": "2022-03-30T21:23:13.978Z"
   },
   {
    "duration": 35,
    "start_time": "2022-03-30T21:23:13.992Z"
   },
   {
    "duration": 68,
    "start_time": "2022-03-30T21:23:14.028Z"
   },
   {
    "duration": 0,
    "start_time": "2022-03-30T21:23:14.098Z"
   },
   {
    "duration": 0,
    "start_time": "2022-03-30T21:23:14.100Z"
   },
   {
    "duration": 0,
    "start_time": "2022-03-30T21:23:14.102Z"
   },
   {
    "duration": 0,
    "start_time": "2022-03-30T21:23:14.103Z"
   },
   {
    "duration": 0,
    "start_time": "2022-03-30T21:23:14.105Z"
   },
   {
    "duration": 0,
    "start_time": "2022-03-30T21:23:14.106Z"
   },
   {
    "duration": 0,
    "start_time": "2022-03-30T21:23:14.108Z"
   },
   {
    "duration": 0,
    "start_time": "2022-03-30T21:23:14.110Z"
   },
   {
    "duration": 0,
    "start_time": "2022-03-30T21:23:14.111Z"
   },
   {
    "duration": 0,
    "start_time": "2022-03-30T21:23:14.113Z"
   },
   {
    "duration": 0,
    "start_time": "2022-03-30T21:23:14.115Z"
   },
   {
    "duration": 0,
    "start_time": "2022-03-30T21:23:14.116Z"
   },
   {
    "duration": 0,
    "start_time": "2022-03-30T21:23:14.118Z"
   },
   {
    "duration": 0,
    "start_time": "2022-03-30T21:23:14.119Z"
   },
   {
    "duration": 0,
    "start_time": "2022-03-30T21:23:14.121Z"
   },
   {
    "duration": 0,
    "start_time": "2022-03-30T21:23:14.122Z"
   },
   {
    "duration": 0,
    "start_time": "2022-03-30T21:23:14.124Z"
   },
   {
    "duration": 0,
    "start_time": "2022-03-30T21:23:14.125Z"
   },
   {
    "duration": 66,
    "start_time": "2022-03-30T21:26:39.078Z"
   },
   {
    "duration": 7,
    "start_time": "2022-03-30T21:26:54.073Z"
   },
   {
    "duration": 419,
    "start_time": "2022-03-30T21:27:02.287Z"
   },
   {
    "duration": 152,
    "start_time": "2022-03-30T21:27:02.709Z"
   },
   {
    "duration": 17,
    "start_time": "2022-03-30T21:27:02.862Z"
   },
   {
    "duration": 39,
    "start_time": "2022-03-30T21:27:02.880Z"
   },
   {
    "duration": 5,
    "start_time": "2022-03-30T21:27:02.921Z"
   },
   {
    "duration": 12,
    "start_time": "2022-03-30T21:27:02.927Z"
   },
   {
    "duration": 12,
    "start_time": "2022-03-30T21:27:02.941Z"
   },
   {
    "duration": 29,
    "start_time": "2022-03-30T21:27:02.955Z"
   },
   {
    "duration": 41,
    "start_time": "2022-03-30T21:27:02.986Z"
   },
   {
    "duration": 23,
    "start_time": "2022-03-30T21:27:03.029Z"
   },
   {
    "duration": 72,
    "start_time": "2022-03-30T21:27:03.054Z"
   },
   {
    "duration": 67,
    "start_time": "2022-03-30T21:27:03.128Z"
   },
   {
    "duration": 64,
    "start_time": "2022-03-30T21:27:03.196Z"
   },
   {
    "duration": 60,
    "start_time": "2022-03-30T21:27:03.264Z"
   },
   {
    "duration": 4,
    "start_time": "2022-03-30T21:27:03.325Z"
   },
   {
    "duration": 14,
    "start_time": "2022-03-30T21:27:03.330Z"
   },
   {
    "duration": 47,
    "start_time": "2022-03-30T21:27:03.346Z"
   },
   {
    "duration": 25,
    "start_time": "2022-03-30T21:27:03.395Z"
   },
   {
    "duration": 12,
    "start_time": "2022-03-30T21:27:03.421Z"
   },
   {
    "duration": 62,
    "start_time": "2022-03-30T21:27:03.435Z"
   },
   {
    "duration": 0,
    "start_time": "2022-03-30T21:27:03.498Z"
   },
   {
    "duration": 0,
    "start_time": "2022-03-30T21:27:03.499Z"
   },
   {
    "duration": 0,
    "start_time": "2022-03-30T21:27:03.501Z"
   },
   {
    "duration": 0,
    "start_time": "2022-03-30T21:27:03.502Z"
   },
   {
    "duration": 0,
    "start_time": "2022-03-30T21:27:03.503Z"
   },
   {
    "duration": 0,
    "start_time": "2022-03-30T21:27:03.504Z"
   },
   {
    "duration": 0,
    "start_time": "2022-03-30T21:27:03.505Z"
   },
   {
    "duration": 0,
    "start_time": "2022-03-30T21:27:03.506Z"
   },
   {
    "duration": 0,
    "start_time": "2022-03-30T21:27:03.507Z"
   },
   {
    "duration": 0,
    "start_time": "2022-03-30T21:27:03.508Z"
   },
   {
    "duration": 0,
    "start_time": "2022-03-30T21:27:03.509Z"
   },
   {
    "duration": 0,
    "start_time": "2022-03-30T21:27:03.510Z"
   },
   {
    "duration": 0,
    "start_time": "2022-03-30T21:27:03.511Z"
   },
   {
    "duration": 0,
    "start_time": "2022-03-30T21:27:03.512Z"
   },
   {
    "duration": 0,
    "start_time": "2022-03-30T21:27:03.513Z"
   },
   {
    "duration": 0,
    "start_time": "2022-03-30T21:27:03.513Z"
   },
   {
    "duration": 1,
    "start_time": "2022-03-30T21:27:03.514Z"
   },
   {
    "duration": 0,
    "start_time": "2022-03-30T21:27:03.515Z"
   },
   {
    "duration": 4,
    "start_time": "2022-03-30T21:32:38.955Z"
   },
   {
    "duration": 12,
    "start_time": "2022-03-30T21:32:42.077Z"
   },
   {
    "duration": 63,
    "start_time": "2022-03-30T21:34:06.537Z"
   },
   {
    "duration": 12,
    "start_time": "2022-03-30T21:34:22.434Z"
   },
   {
    "duration": 16,
    "start_time": "2022-03-30T21:35:32.331Z"
   },
   {
    "duration": 409,
    "start_time": "2022-03-30T21:38:22.713Z"
   },
   {
    "duration": 150,
    "start_time": "2022-03-30T21:38:23.124Z"
   },
   {
    "duration": 17,
    "start_time": "2022-03-30T21:38:23.276Z"
   },
   {
    "duration": 35,
    "start_time": "2022-03-30T21:38:23.294Z"
   },
   {
    "duration": 3,
    "start_time": "2022-03-30T21:38:23.332Z"
   },
   {
    "duration": 12,
    "start_time": "2022-03-30T21:38:23.337Z"
   },
   {
    "duration": 5,
    "start_time": "2022-03-30T21:38:23.350Z"
   },
   {
    "duration": 52,
    "start_time": "2022-03-30T21:38:23.357Z"
   },
   {
    "duration": 19,
    "start_time": "2022-03-30T21:38:23.411Z"
   },
   {
    "duration": 22,
    "start_time": "2022-03-30T21:38:23.432Z"
   },
   {
    "duration": 80,
    "start_time": "2022-03-30T21:38:23.455Z"
   },
   {
    "duration": 82,
    "start_time": "2022-03-30T21:38:23.536Z"
   },
   {
    "duration": 56,
    "start_time": "2022-03-30T21:38:23.620Z"
   },
   {
    "duration": 64,
    "start_time": "2022-03-30T21:38:23.680Z"
   },
   {
    "duration": 3,
    "start_time": "2022-03-30T21:38:23.745Z"
   },
   {
    "duration": 12,
    "start_time": "2022-03-30T21:38:23.750Z"
   },
   {
    "duration": 62,
    "start_time": "2022-03-30T21:38:23.764Z"
   },
   {
    "duration": 14,
    "start_time": "2022-03-30T21:38:23.828Z"
   },
   {
    "duration": 14,
    "start_time": "2022-03-30T21:38:23.844Z"
   },
   {
    "duration": 5,
    "start_time": "2022-03-30T21:38:23.859Z"
   },
   {
    "duration": 48,
    "start_time": "2022-03-30T21:38:23.866Z"
   },
   {
    "duration": 16,
    "start_time": "2022-03-30T21:38:23.916Z"
   },
   {
    "duration": 22,
    "start_time": "2022-03-30T21:38:23.934Z"
   },
   {
    "duration": 14,
    "start_time": "2022-03-30T21:38:23.958Z"
   },
   {
    "duration": 43,
    "start_time": "2022-03-30T21:38:23.974Z"
   },
   {
    "duration": 16,
    "start_time": "2022-03-30T21:38:24.019Z"
   },
   {
    "duration": 3,
    "start_time": "2022-03-30T21:38:24.036Z"
   },
   {
    "duration": 4,
    "start_time": "2022-03-30T21:38:24.041Z"
   },
   {
    "duration": 3,
    "start_time": "2022-03-30T21:38:24.047Z"
   },
   {
    "duration": 4,
    "start_time": "2022-03-30T21:38:24.052Z"
   },
   {
    "duration": 8,
    "start_time": "2022-03-30T21:38:24.057Z"
   },
   {
    "duration": 6,
    "start_time": "2022-03-30T21:38:24.066Z"
   },
   {
    "duration": 22,
    "start_time": "2022-03-30T21:38:24.073Z"
   },
   {
    "duration": 3,
    "start_time": "2022-03-30T21:38:24.108Z"
   },
   {
    "duration": 4,
    "start_time": "2022-03-30T21:38:24.113Z"
   },
   {
    "duration": 17,
    "start_time": "2022-03-30T21:38:24.118Z"
   },
   {
    "duration": 7,
    "start_time": "2022-03-30T21:38:24.137Z"
   },
   {
    "duration": 6,
    "start_time": "2022-03-30T21:38:24.145Z"
   },
   {
    "duration": 68,
    "start_time": "2022-03-30T22:33:30.156Z"
   },
   {
    "duration": 8,
    "start_time": "2022-03-30T22:37:26.741Z"
   },
   {
    "duration": 48,
    "start_time": "2022-03-31T14:03:09.079Z"
   },
   {
    "duration": 412,
    "start_time": "2022-03-31T14:03:26.374Z"
   },
   {
    "duration": 177,
    "start_time": "2022-03-31T14:03:26.788Z"
   },
   {
    "duration": 17,
    "start_time": "2022-03-31T14:03:26.967Z"
   },
   {
    "duration": 31,
    "start_time": "2022-03-31T14:03:26.985Z"
   },
   {
    "duration": 24,
    "start_time": "2022-03-31T14:03:27.018Z"
   },
   {
    "duration": 21,
    "start_time": "2022-03-31T14:03:27.044Z"
   },
   {
    "duration": 10,
    "start_time": "2022-03-31T14:03:27.067Z"
   },
   {
    "duration": 32,
    "start_time": "2022-03-31T14:03:27.079Z"
   },
   {
    "duration": 38,
    "start_time": "2022-03-31T14:03:27.112Z"
   },
   {
    "duration": 26,
    "start_time": "2022-03-31T14:03:27.152Z"
   },
   {
    "duration": 89,
    "start_time": "2022-03-31T14:03:27.180Z"
   },
   {
    "duration": 94,
    "start_time": "2022-03-31T14:03:27.271Z"
   },
   {
    "duration": 72,
    "start_time": "2022-03-31T14:03:27.367Z"
   },
   {
    "duration": 53,
    "start_time": "2022-03-31T14:03:27.446Z"
   },
   {
    "duration": 3,
    "start_time": "2022-03-31T14:03:27.501Z"
   },
   {
    "duration": 15,
    "start_time": "2022-03-31T14:03:27.505Z"
   },
   {
    "duration": 63,
    "start_time": "2022-03-31T14:03:27.537Z"
   },
   {
    "duration": 14,
    "start_time": "2022-03-31T14:03:27.602Z"
   },
   {
    "duration": 38,
    "start_time": "2022-03-31T14:03:27.617Z"
   },
   {
    "duration": 3,
    "start_time": "2022-03-31T14:03:27.657Z"
   },
   {
    "duration": 27,
    "start_time": "2022-03-31T14:03:27.662Z"
   },
   {
    "duration": 14,
    "start_time": "2022-03-31T14:03:27.691Z"
   },
   {
    "duration": 43,
    "start_time": "2022-03-31T14:03:27.706Z"
   },
   {
    "duration": 19,
    "start_time": "2022-03-31T14:03:27.752Z"
   },
   {
    "duration": 20,
    "start_time": "2022-03-31T14:03:27.773Z"
   },
   {
    "duration": 15,
    "start_time": "2022-03-31T14:03:27.795Z"
   },
   {
    "duration": 28,
    "start_time": "2022-03-31T14:03:27.812Z"
   },
   {
    "duration": 1174,
    "start_time": "2022-03-31T14:03:27.843Z"
   },
   {
    "duration": 0,
    "start_time": "2022-03-31T14:03:29.019Z"
   },
   {
    "duration": 0,
    "start_time": "2022-03-31T14:03:29.020Z"
   },
   {
    "duration": 0,
    "start_time": "2022-03-31T14:03:29.021Z"
   },
   {
    "duration": 0,
    "start_time": "2022-03-31T14:03:29.022Z"
   },
   {
    "duration": 0,
    "start_time": "2022-03-31T14:03:29.023Z"
   },
   {
    "duration": 1,
    "start_time": "2022-03-31T14:03:29.023Z"
   },
   {
    "duration": 0,
    "start_time": "2022-03-31T14:03:29.039Z"
   },
   {
    "duration": 0,
    "start_time": "2022-03-31T14:03:29.041Z"
   },
   {
    "duration": 0,
    "start_time": "2022-03-31T14:03:29.043Z"
   },
   {
    "duration": 1,
    "start_time": "2022-03-31T14:03:29.044Z"
   },
   {
    "duration": 1107,
    "start_time": "2022-03-31T14:06:36.922Z"
   },
   {
    "duration": 6,
    "start_time": "2022-03-31T14:08:38.324Z"
   },
   {
    "duration": 9,
    "start_time": "2022-03-31T14:10:08.909Z"
   },
   {
    "duration": 10,
    "start_time": "2022-03-31T14:10:15.249Z"
   },
   {
    "duration": 131,
    "start_time": "2022-03-31T14:11:53.464Z"
   },
   {
    "duration": 5,
    "start_time": "2022-03-31T14:12:25.200Z"
   },
   {
    "duration": 4,
    "start_time": "2022-03-31T14:13:41.154Z"
   },
   {
    "duration": 14,
    "start_time": "2022-03-31T14:14:02.385Z"
   },
   {
    "duration": 15,
    "start_time": "2022-03-31T14:17:10.137Z"
   },
   {
    "duration": 8,
    "start_time": "2022-03-31T14:20:27.886Z"
   },
   {
    "duration": 4,
    "start_time": "2022-03-31T14:22:20.579Z"
   },
   {
    "duration": 15,
    "start_time": "2022-03-31T14:22:35.390Z"
   },
   {
    "duration": 12,
    "start_time": "2022-03-31T14:24:21.331Z"
   },
   {
    "duration": 10,
    "start_time": "2022-03-31T14:26:48.052Z"
   },
   {
    "duration": 9,
    "start_time": "2022-03-31T14:27:48.681Z"
   },
   {
    "duration": 129,
    "start_time": "2022-03-31T14:32:26.471Z"
   },
   {
    "duration": 116,
    "start_time": "2022-03-31T14:32:36.572Z"
   },
   {
    "duration": 15,
    "start_time": "2022-03-31T14:32:49.723Z"
   },
   {
    "duration": 22,
    "start_time": "2022-03-31T14:33:05.618Z"
   },
   {
    "duration": 9,
    "start_time": "2022-03-31T14:42:14.780Z"
   },
   {
    "duration": 20,
    "start_time": "2022-03-31T14:42:31.165Z"
   },
   {
    "duration": 421,
    "start_time": "2022-03-31T14:43:54.827Z"
   },
   {
    "duration": 158,
    "start_time": "2022-03-31T14:43:55.250Z"
   },
   {
    "duration": 18,
    "start_time": "2022-03-31T14:43:55.409Z"
   },
   {
    "duration": 31,
    "start_time": "2022-03-31T14:43:55.437Z"
   },
   {
    "duration": 4,
    "start_time": "2022-03-31T14:43:55.470Z"
   },
   {
    "duration": 16,
    "start_time": "2022-03-31T14:43:55.476Z"
   },
   {
    "duration": 7,
    "start_time": "2022-03-31T14:43:55.493Z"
   },
   {
    "duration": 46,
    "start_time": "2022-03-31T14:43:55.502Z"
   },
   {
    "duration": 24,
    "start_time": "2022-03-31T14:43:55.549Z"
   },
   {
    "duration": 27,
    "start_time": "2022-03-31T14:43:55.576Z"
   },
   {
    "duration": 84,
    "start_time": "2022-03-31T14:43:55.605Z"
   },
   {
    "duration": 85,
    "start_time": "2022-03-31T14:43:55.691Z"
   },
   {
    "duration": 69,
    "start_time": "2022-03-31T14:43:55.778Z"
   },
   {
    "duration": 50,
    "start_time": "2022-03-31T14:43:55.849Z"
   },
   {
    "duration": 3,
    "start_time": "2022-03-31T14:43:55.900Z"
   },
   {
    "duration": 13,
    "start_time": "2022-03-31T14:43:55.905Z"
   },
   {
    "duration": 63,
    "start_time": "2022-03-31T14:43:55.919Z"
   },
   {
    "duration": 12,
    "start_time": "2022-03-31T14:43:55.984Z"
   },
   {
    "duration": 13,
    "start_time": "2022-03-31T14:43:55.997Z"
   },
   {
    "duration": 28,
    "start_time": "2022-03-31T14:43:56.011Z"
   },
   {
    "duration": 22,
    "start_time": "2022-03-31T14:43:56.041Z"
   },
   {
    "duration": 14,
    "start_time": "2022-03-31T14:43:56.065Z"
   },
   {
    "duration": 15,
    "start_time": "2022-03-31T14:43:56.080Z"
   },
   {
    "duration": 41,
    "start_time": "2022-03-31T14:43:56.098Z"
   },
   {
    "duration": 17,
    "start_time": "2022-03-31T14:43:56.140Z"
   },
   {
    "duration": 14,
    "start_time": "2022-03-31T14:43:56.159Z"
   },
   {
    "duration": 20,
    "start_time": "2022-03-31T14:43:56.175Z"
   },
   {
    "duration": 20,
    "start_time": "2022-03-31T14:43:56.199Z"
   },
   {
    "duration": 25,
    "start_time": "2022-03-31T14:43:56.220Z"
   },
   {
    "duration": 2,
    "start_time": "2022-03-31T14:43:56.247Z"
   },
   {
    "duration": 27,
    "start_time": "2022-03-31T14:43:56.252Z"
   },
   {
    "duration": 26,
    "start_time": "2022-03-31T14:43:56.280Z"
   },
   {
    "duration": 19,
    "start_time": "2022-03-31T14:43:56.307Z"
   },
   {
    "duration": 20,
    "start_time": "2022-03-31T14:43:56.327Z"
   },
   {
    "duration": 22,
    "start_time": "2022-03-31T14:43:56.348Z"
   },
   {
    "duration": 15,
    "start_time": "2022-03-31T14:43:56.372Z"
   },
   {
    "duration": 13,
    "start_time": "2022-03-31T14:43:56.389Z"
   },
   {
    "duration": 18,
    "start_time": "2022-03-31T14:43:56.404Z"
   },
   {
    "duration": 4,
    "start_time": "2022-03-31T15:11:01.156Z"
   },
   {
    "duration": 84,
    "start_time": "2022-03-31T15:12:20.391Z"
   },
   {
    "duration": 413,
    "start_time": "2022-03-31T15:17:32.341Z"
   },
   {
    "duration": 162,
    "start_time": "2022-03-31T15:17:32.756Z"
   },
   {
    "duration": 18,
    "start_time": "2022-03-31T15:17:32.920Z"
   },
   {
    "duration": 32,
    "start_time": "2022-03-31T15:17:32.940Z"
   },
   {
    "duration": 4,
    "start_time": "2022-03-31T15:17:32.974Z"
   },
   {
    "duration": 14,
    "start_time": "2022-03-31T15:17:32.980Z"
   },
   {
    "duration": 8,
    "start_time": "2022-03-31T15:17:32.996Z"
   },
   {
    "duration": 51,
    "start_time": "2022-03-31T15:17:33.006Z"
   },
   {
    "duration": 21,
    "start_time": "2022-03-31T15:17:33.059Z"
   },
   {
    "duration": 26,
    "start_time": "2022-03-31T15:17:33.083Z"
   },
   {
    "duration": 94,
    "start_time": "2022-03-31T15:17:33.110Z"
   },
   {
    "duration": 96,
    "start_time": "2022-03-31T15:17:33.206Z"
   },
   {
    "duration": 68,
    "start_time": "2022-03-31T15:17:33.304Z"
   },
   {
    "duration": 49,
    "start_time": "2022-03-31T15:17:33.377Z"
   },
   {
    "duration": 12,
    "start_time": "2022-03-31T15:17:33.428Z"
   },
   {
    "duration": 13,
    "start_time": "2022-03-31T15:17:33.441Z"
   },
   {
    "duration": 48,
    "start_time": "2022-03-31T15:17:33.455Z"
   },
   {
    "duration": 13,
    "start_time": "2022-03-31T15:17:33.505Z"
   },
   {
    "duration": 30,
    "start_time": "2022-03-31T15:17:33.519Z"
   },
   {
    "duration": 3,
    "start_time": "2022-03-31T15:17:33.551Z"
   },
   {
    "duration": 25,
    "start_time": "2022-03-31T15:17:33.556Z"
   },
   {
    "duration": 15,
    "start_time": "2022-03-31T15:17:33.583Z"
   },
   {
    "duration": 41,
    "start_time": "2022-03-31T15:17:33.600Z"
   },
   {
    "duration": 15,
    "start_time": "2022-03-31T15:17:33.643Z"
   },
   {
    "duration": 17,
    "start_time": "2022-03-31T15:17:33.660Z"
   },
   {
    "duration": 14,
    "start_time": "2022-03-31T15:17:33.679Z"
   },
   {
    "duration": 8,
    "start_time": "2022-03-31T15:17:33.695Z"
   },
   {
    "duration": 38,
    "start_time": "2022-03-31T15:17:33.705Z"
   },
   {
    "duration": 9,
    "start_time": "2022-03-31T15:17:33.745Z"
   },
   {
    "duration": 6,
    "start_time": "2022-03-31T15:17:33.756Z"
   },
   {
    "duration": 42,
    "start_time": "2022-03-31T15:17:33.764Z"
   },
   {
    "duration": 7,
    "start_time": "2022-03-31T15:17:33.808Z"
   },
   {
    "duration": 26,
    "start_time": "2022-03-31T15:17:33.816Z"
   },
   {
    "duration": 17,
    "start_time": "2022-03-31T15:17:33.844Z"
   },
   {
    "duration": 22,
    "start_time": "2022-03-31T15:17:33.863Z"
   },
   {
    "duration": 21,
    "start_time": "2022-03-31T15:17:33.887Z"
   },
   {
    "duration": 21,
    "start_time": "2022-03-31T15:17:33.910Z"
   },
   {
    "duration": 27,
    "start_time": "2022-03-31T15:17:33.933Z"
   },
   {
    "duration": 5,
    "start_time": "2022-03-31T15:18:12.089Z"
   },
   {
    "duration": 24,
    "start_time": "2022-03-31T15:18:13.917Z"
   },
   {
    "duration": 4,
    "start_time": "2022-03-31T15:20:40.880Z"
   },
   {
    "duration": 25,
    "start_time": "2022-03-31T15:20:46.020Z"
   },
   {
    "duration": 4,
    "start_time": "2022-03-31T15:24:23.996Z"
   },
   {
    "duration": 77,
    "start_time": "2022-03-31T15:24:25.934Z"
   },
   {
    "duration": 4,
    "start_time": "2022-03-31T15:26:10.994Z"
   },
   {
    "duration": 18,
    "start_time": "2022-03-31T15:26:15.118Z"
   },
   {
    "duration": 13,
    "start_time": "2022-03-31T15:27:50.842Z"
   },
   {
    "duration": 395,
    "start_time": "2022-03-31T15:33:08.857Z"
   },
   {
    "duration": 168,
    "start_time": "2022-03-31T15:33:09.254Z"
   },
   {
    "duration": 18,
    "start_time": "2022-03-31T15:33:09.424Z"
   },
   {
    "duration": 34,
    "start_time": "2022-03-31T15:33:09.444Z"
   },
   {
    "duration": 4,
    "start_time": "2022-03-31T15:33:09.481Z"
   },
   {
    "duration": 14,
    "start_time": "2022-03-31T15:33:09.486Z"
   },
   {
    "duration": 7,
    "start_time": "2022-03-31T15:33:09.502Z"
   },
   {
    "duration": 28,
    "start_time": "2022-03-31T15:33:09.539Z"
   },
   {
    "duration": 23,
    "start_time": "2022-03-31T15:33:09.569Z"
   },
   {
    "duration": 49,
    "start_time": "2022-03-31T15:33:09.594Z"
   },
   {
    "duration": 69,
    "start_time": "2022-03-31T15:33:09.644Z"
   },
   {
    "duration": 107,
    "start_time": "2022-03-31T15:33:09.715Z"
   },
   {
    "duration": 75,
    "start_time": "2022-03-31T15:33:09.824Z"
   },
   {
    "duration": 64,
    "start_time": "2022-03-31T15:33:09.904Z"
   },
   {
    "duration": 4,
    "start_time": "2022-03-31T15:33:09.970Z"
   },
   {
    "duration": 13,
    "start_time": "2022-03-31T15:33:09.976Z"
   },
   {
    "duration": 72,
    "start_time": "2022-03-31T15:33:09.991Z"
   },
   {
    "duration": 16,
    "start_time": "2022-03-31T15:33:10.065Z"
   },
   {
    "duration": 15,
    "start_time": "2022-03-31T15:33:10.083Z"
   },
   {
    "duration": 10,
    "start_time": "2022-03-31T15:33:10.100Z"
   },
   {
    "duration": 40,
    "start_time": "2022-03-31T15:33:10.112Z"
   },
   {
    "duration": 16,
    "start_time": "2022-03-31T15:33:10.154Z"
   },
   {
    "duration": 17,
    "start_time": "2022-03-31T15:33:10.172Z"
   },
   {
    "duration": 16,
    "start_time": "2022-03-31T15:33:10.191Z"
   },
   {
    "duration": 18,
    "start_time": "2022-03-31T15:33:10.238Z"
   },
   {
    "duration": 15,
    "start_time": "2022-03-31T15:33:10.258Z"
   },
   {
    "duration": 24,
    "start_time": "2022-03-31T15:33:10.275Z"
   },
   {
    "duration": 15,
    "start_time": "2022-03-31T15:33:10.301Z"
   },
   {
    "duration": 24,
    "start_time": "2022-03-31T15:33:10.318Z"
   },
   {
    "duration": 5,
    "start_time": "2022-03-31T15:33:10.344Z"
   },
   {
    "duration": 21,
    "start_time": "2022-03-31T15:33:10.351Z"
   },
   {
    "duration": 13,
    "start_time": "2022-03-31T15:33:10.375Z"
   },
   {
    "duration": 17,
    "start_time": "2022-03-31T15:33:10.390Z"
   },
   {
    "duration": 13,
    "start_time": "2022-03-31T15:33:10.439Z"
   },
   {
    "duration": 2,
    "start_time": "2022-03-31T15:33:10.455Z"
   },
   {
    "duration": 14,
    "start_time": "2022-03-31T15:33:10.459Z"
   },
   {
    "duration": 6,
    "start_time": "2022-03-31T15:33:10.475Z"
   },
   {
    "duration": 4,
    "start_time": "2022-03-31T15:33:10.483Z"
   },
   {
    "duration": 33,
    "start_time": "2022-03-31T15:55:11.336Z"
   },
   {
    "duration": 12,
    "start_time": "2022-03-31T15:55:55.281Z"
   },
   {
    "duration": 0,
    "start_time": "2022-03-31T15:58:16.922Z"
   },
   {
    "duration": 1882,
    "start_time": "2022-03-31T15:58:22.312Z"
   },
   {
    "duration": 372,
    "start_time": "2022-03-31T15:58:59.877Z"
   },
   {
    "duration": 154,
    "start_time": "2022-03-31T15:59:00.251Z"
   },
   {
    "duration": 16,
    "start_time": "2022-03-31T15:59:00.407Z"
   },
   {
    "duration": 42,
    "start_time": "2022-03-31T15:59:00.425Z"
   },
   {
    "duration": 5,
    "start_time": "2022-03-31T15:59:00.470Z"
   },
   {
    "duration": 21,
    "start_time": "2022-03-31T15:59:00.477Z"
   },
   {
    "duration": 12,
    "start_time": "2022-03-31T15:59:00.500Z"
   },
   {
    "duration": 38,
    "start_time": "2022-03-31T15:59:00.514Z"
   },
   {
    "duration": 22,
    "start_time": "2022-03-31T15:59:00.554Z"
   },
   {
    "duration": 24,
    "start_time": "2022-03-31T15:59:00.578Z"
   },
   {
    "duration": 81,
    "start_time": "2022-03-31T15:59:00.604Z"
   },
   {
    "duration": 86,
    "start_time": "2022-03-31T15:59:00.687Z"
   },
   {
    "duration": 69,
    "start_time": "2022-03-31T15:59:00.776Z"
   },
   {
    "duration": 49,
    "start_time": "2022-03-31T15:59:00.850Z"
   },
   {
    "duration": 3,
    "start_time": "2022-03-31T15:59:00.901Z"
   },
   {
    "duration": 14,
    "start_time": "2022-03-31T15:59:00.906Z"
   },
   {
    "duration": 49,
    "start_time": "2022-03-31T15:59:00.937Z"
   },
   {
    "duration": 12,
    "start_time": "2022-03-31T15:59:00.988Z"
   },
   {
    "duration": 38,
    "start_time": "2022-03-31T15:59:01.001Z"
   },
   {
    "duration": 3,
    "start_time": "2022-03-31T15:59:01.041Z"
   },
   {
    "duration": 37,
    "start_time": "2022-03-31T15:59:01.046Z"
   },
   {
    "duration": 17,
    "start_time": "2022-03-31T15:59:01.085Z"
   },
   {
    "duration": 23,
    "start_time": "2022-03-31T15:59:01.104Z"
   },
   {
    "duration": 25,
    "start_time": "2022-03-31T15:59:01.129Z"
   },
   {
    "duration": 20,
    "start_time": "2022-03-31T15:59:01.156Z"
   },
   {
    "duration": 24,
    "start_time": "2022-03-31T15:59:01.178Z"
   },
   {
    "duration": 17,
    "start_time": "2022-03-31T15:59:01.204Z"
   },
   {
    "duration": 23,
    "start_time": "2022-03-31T15:59:01.223Z"
   },
   {
    "duration": 14,
    "start_time": "2022-03-31T15:59:01.248Z"
   },
   {
    "duration": 16,
    "start_time": "2022-03-31T15:59:01.264Z"
   },
   {
    "duration": 25,
    "start_time": "2022-03-31T15:59:01.282Z"
   },
   {
    "duration": 14,
    "start_time": "2022-03-31T15:59:01.309Z"
   },
   {
    "duration": 25,
    "start_time": "2022-03-31T15:59:01.325Z"
   },
   {
    "duration": 34,
    "start_time": "2022-03-31T15:59:01.352Z"
   },
   {
    "duration": 1978,
    "start_time": "2022-03-31T15:59:01.388Z"
   },
   {
    "duration": 0,
    "start_time": "2022-03-31T15:59:03.368Z"
   },
   {
    "duration": 0,
    "start_time": "2022-03-31T15:59:03.369Z"
   },
   {
    "duration": 0,
    "start_time": "2022-03-31T15:59:03.370Z"
   },
   {
    "duration": 15,
    "start_time": "2022-03-31T16:01:41.488Z"
   },
   {
    "duration": 9,
    "start_time": "2022-03-31T16:02:28.685Z"
   },
   {
    "duration": 430,
    "start_time": "2022-03-31T16:08:05.606Z"
   },
   {
    "duration": 169,
    "start_time": "2022-03-31T16:08:06.038Z"
   },
   {
    "duration": 18,
    "start_time": "2022-03-31T16:08:06.209Z"
   },
   {
    "duration": 35,
    "start_time": "2022-03-31T16:08:06.229Z"
   },
   {
    "duration": 4,
    "start_time": "2022-03-31T16:08:06.266Z"
   },
   {
    "duration": 15,
    "start_time": "2022-03-31T16:08:06.272Z"
   },
   {
    "duration": 6,
    "start_time": "2022-03-31T16:08:06.289Z"
   },
   {
    "duration": 45,
    "start_time": "2022-03-31T16:08:06.297Z"
   },
   {
    "duration": 18,
    "start_time": "2022-03-31T16:08:06.344Z"
   },
   {
    "duration": 24,
    "start_time": "2022-03-31T16:08:06.363Z"
   },
   {
    "duration": 86,
    "start_time": "2022-03-31T16:08:06.389Z"
   },
   {
    "duration": 84,
    "start_time": "2022-03-31T16:08:06.477Z"
   },
   {
    "duration": 61,
    "start_time": "2022-03-31T16:08:06.563Z"
   },
   {
    "duration": 58,
    "start_time": "2022-03-31T16:08:06.627Z"
   },
   {
    "duration": 3,
    "start_time": "2022-03-31T16:08:06.687Z"
   },
   {
    "duration": 17,
    "start_time": "2022-03-31T16:08:06.692Z"
   },
   {
    "duration": 60,
    "start_time": "2022-03-31T16:08:06.711Z"
   },
   {
    "duration": 14,
    "start_time": "2022-03-31T16:08:06.772Z"
   },
   {
    "duration": 14,
    "start_time": "2022-03-31T16:08:06.787Z"
   },
   {
    "duration": 4,
    "start_time": "2022-03-31T16:08:06.802Z"
   },
   {
    "duration": 45,
    "start_time": "2022-03-31T16:08:06.807Z"
   },
   {
    "duration": 15,
    "start_time": "2022-03-31T16:08:06.854Z"
   },
   {
    "duration": 22,
    "start_time": "2022-03-31T16:08:06.871Z"
   },
   {
    "duration": 17,
    "start_time": "2022-03-31T16:08:06.895Z"
   },
   {
    "duration": 33,
    "start_time": "2022-03-31T16:08:06.914Z"
   },
   {
    "duration": 15,
    "start_time": "2022-03-31T16:08:06.949Z"
   },
   {
    "duration": 8,
    "start_time": "2022-03-31T16:08:06.966Z"
   },
   {
    "duration": 19,
    "start_time": "2022-03-31T16:08:06.976Z"
   },
   {
    "duration": 10,
    "start_time": "2022-03-31T16:08:06.997Z"
   },
   {
    "duration": 29,
    "start_time": "2022-03-31T16:08:07.009Z"
   },
   {
    "duration": 19,
    "start_time": "2022-03-31T16:08:07.040Z"
   },
   {
    "duration": 13,
    "start_time": "2022-03-31T16:08:07.061Z"
   },
   {
    "duration": 17,
    "start_time": "2022-03-31T16:08:07.076Z"
   },
   {
    "duration": 43,
    "start_time": "2022-03-31T16:08:07.095Z"
   },
   {
    "duration": 76,
    "start_time": "2022-03-31T16:08:07.140Z"
   },
   {
    "duration": 0,
    "start_time": "2022-03-31T16:08:07.218Z"
   },
   {
    "duration": 0,
    "start_time": "2022-03-31T16:08:07.219Z"
   },
   {
    "duration": 0,
    "start_time": "2022-03-31T16:08:07.221Z"
   },
   {
    "duration": 112,
    "start_time": "2022-03-31T16:10:05.987Z"
   },
   {
    "duration": 1814,
    "start_time": "2022-03-31T16:10:35.628Z"
   },
   {
    "duration": 0,
    "start_time": "2022-03-31T16:10:37.444Z"
   },
   {
    "duration": 394,
    "start_time": "2022-03-31T16:11:00.062Z"
   },
   {
    "duration": 165,
    "start_time": "2022-03-31T16:11:00.459Z"
   },
   {
    "duration": 21,
    "start_time": "2022-03-31T16:11:00.626Z"
   },
   {
    "duration": 37,
    "start_time": "2022-03-31T16:11:00.649Z"
   },
   {
    "duration": 5,
    "start_time": "2022-03-31T16:11:00.688Z"
   },
   {
    "duration": 17,
    "start_time": "2022-03-31T16:11:00.694Z"
   },
   {
    "duration": 21,
    "start_time": "2022-03-31T16:11:00.713Z"
   },
   {
    "duration": 36,
    "start_time": "2022-03-31T16:11:00.737Z"
   },
   {
    "duration": 26,
    "start_time": "2022-03-31T16:11:00.775Z"
   },
   {
    "duration": 33,
    "start_time": "2022-03-31T16:11:00.804Z"
   },
   {
    "duration": 80,
    "start_time": "2022-03-31T16:11:00.838Z"
   },
   {
    "duration": 95,
    "start_time": "2022-03-31T16:11:00.920Z"
   },
   {
    "duration": 79,
    "start_time": "2022-03-31T16:11:01.017Z"
   },
   {
    "duration": 56,
    "start_time": "2022-03-31T16:11:01.098Z"
   },
   {
    "duration": 22,
    "start_time": "2022-03-31T16:11:01.156Z"
   },
   {
    "duration": 30,
    "start_time": "2022-03-31T16:11:01.179Z"
   },
   {
    "duration": 100,
    "start_time": "2022-03-31T16:11:01.211Z"
   },
   {
    "duration": 13,
    "start_time": "2022-03-31T16:11:01.313Z"
   },
   {
    "duration": 24,
    "start_time": "2022-03-31T16:11:01.327Z"
   },
   {
    "duration": 26,
    "start_time": "2022-03-31T16:11:01.352Z"
   },
   {
    "duration": 61,
    "start_time": "2022-03-31T16:11:01.380Z"
   },
   {
    "duration": 75,
    "start_time": "2022-03-31T16:11:01.442Z"
   },
   {
    "duration": 53,
    "start_time": "2022-03-31T16:11:01.519Z"
   },
   {
    "duration": 28,
    "start_time": "2022-03-31T16:11:01.574Z"
   },
   {
    "duration": 21,
    "start_time": "2022-03-31T16:11:01.603Z"
   },
   {
    "duration": 16,
    "start_time": "2022-03-31T16:11:01.625Z"
   },
   {
    "duration": 26,
    "start_time": "2022-03-31T16:11:01.643Z"
   },
   {
    "duration": 22,
    "start_time": "2022-03-31T16:11:01.673Z"
   },
   {
    "duration": 24,
    "start_time": "2022-03-31T16:11:01.697Z"
   },
   {
    "duration": 10,
    "start_time": "2022-03-31T16:11:01.723Z"
   },
   {
    "duration": 34,
    "start_time": "2022-03-31T16:11:01.734Z"
   },
   {
    "duration": 31,
    "start_time": "2022-03-31T16:11:01.770Z"
   },
   {
    "duration": 24,
    "start_time": "2022-03-31T16:11:01.803Z"
   },
   {
    "duration": 34,
    "start_time": "2022-03-31T16:11:01.829Z"
   },
   {
    "duration": 1939,
    "start_time": "2022-03-31T16:11:01.865Z"
   },
   {
    "duration": 0,
    "start_time": "2022-03-31T16:11:03.806Z"
   },
   {
    "duration": 0,
    "start_time": "2022-03-31T16:11:03.808Z"
   },
   {
    "duration": 0,
    "start_time": "2022-03-31T16:11:03.809Z"
   },
   {
    "duration": 16,
    "start_time": "2022-03-31T16:13:29.533Z"
   },
   {
    "duration": 417,
    "start_time": "2022-03-31T16:14:05.638Z"
   },
   {
    "duration": 160,
    "start_time": "2022-03-31T16:14:06.057Z"
   },
   {
    "duration": 22,
    "start_time": "2022-03-31T16:14:06.218Z"
   },
   {
    "duration": 31,
    "start_time": "2022-03-31T16:14:06.243Z"
   },
   {
    "duration": 4,
    "start_time": "2022-03-31T16:14:06.276Z"
   },
   {
    "duration": 13,
    "start_time": "2022-03-31T16:14:06.282Z"
   },
   {
    "duration": 15,
    "start_time": "2022-03-31T16:14:06.297Z"
   },
   {
    "duration": 44,
    "start_time": "2022-03-31T16:14:06.314Z"
   },
   {
    "duration": 22,
    "start_time": "2022-03-31T16:14:06.360Z"
   },
   {
    "duration": 25,
    "start_time": "2022-03-31T16:14:06.385Z"
   },
   {
    "duration": 86,
    "start_time": "2022-03-31T16:14:06.412Z"
   },
   {
    "duration": 93,
    "start_time": "2022-03-31T16:14:06.500Z"
   },
   {
    "duration": 79,
    "start_time": "2022-03-31T16:14:06.595Z"
   },
   {
    "duration": 50,
    "start_time": "2022-03-31T16:14:06.675Z"
   },
   {
    "duration": 12,
    "start_time": "2022-03-31T16:14:06.727Z"
   },
   {
    "duration": 12,
    "start_time": "2022-03-31T16:14:06.741Z"
   },
   {
    "duration": 50,
    "start_time": "2022-03-31T16:14:06.755Z"
   },
   {
    "duration": 33,
    "start_time": "2022-03-31T16:14:06.806Z"
   },
   {
    "duration": 13,
    "start_time": "2022-03-31T16:14:06.840Z"
   },
   {
    "duration": 3,
    "start_time": "2022-03-31T16:14:06.855Z"
   },
   {
    "duration": 24,
    "start_time": "2022-03-31T16:14:06.860Z"
   },
   {
    "duration": 15,
    "start_time": "2022-03-31T16:14:06.886Z"
   },
   {
    "duration": 42,
    "start_time": "2022-03-31T16:14:06.903Z"
   },
   {
    "duration": 14,
    "start_time": "2022-03-31T16:14:06.947Z"
   },
   {
    "duration": 17,
    "start_time": "2022-03-31T16:14:06.963Z"
   },
   {
    "duration": 14,
    "start_time": "2022-03-31T16:14:06.982Z"
   },
   {
    "duration": 8,
    "start_time": "2022-03-31T16:14:06.998Z"
   },
   {
    "duration": 13,
    "start_time": "2022-03-31T16:14:07.040Z"
   },
   {
    "duration": 11,
    "start_time": "2022-03-31T16:14:07.055Z"
   },
   {
    "duration": 4,
    "start_time": "2022-03-31T16:14:07.068Z"
   },
   {
    "duration": 25,
    "start_time": "2022-03-31T16:14:07.073Z"
   },
   {
    "duration": 39,
    "start_time": "2022-03-31T16:14:07.100Z"
   },
   {
    "duration": 18,
    "start_time": "2022-03-31T16:14:07.140Z"
   },
   {
    "duration": 13,
    "start_time": "2022-03-31T16:14:07.159Z"
   },
   {
    "duration": 97,
    "start_time": "2022-03-31T16:14:07.173Z"
   },
   {
    "duration": 0,
    "start_time": "2022-03-31T16:14:07.272Z"
   },
   {
    "duration": 0,
    "start_time": "2022-03-31T16:14:07.273Z"
   },
   {
    "duration": 0,
    "start_time": "2022-03-31T16:14:07.274Z"
   },
   {
    "duration": 11,
    "start_time": "2022-03-31T16:20:41.242Z"
   },
   {
    "duration": 5,
    "start_time": "2022-03-31T16:20:43.013Z"
   },
   {
    "duration": 442,
    "start_time": "2022-03-31T16:22:55.438Z"
   },
   {
    "duration": 167,
    "start_time": "2022-03-31T16:22:55.882Z"
   },
   {
    "duration": 16,
    "start_time": "2022-03-31T16:22:56.051Z"
   },
   {
    "duration": 30,
    "start_time": "2022-03-31T16:22:56.069Z"
   },
   {
    "duration": 4,
    "start_time": "2022-03-31T16:22:56.102Z"
   },
   {
    "duration": 37,
    "start_time": "2022-03-31T16:22:56.107Z"
   },
   {
    "duration": 10,
    "start_time": "2022-03-31T16:22:56.146Z"
   },
   {
    "duration": 30,
    "start_time": "2022-03-31T16:22:56.158Z"
   },
   {
    "duration": 24,
    "start_time": "2022-03-31T16:22:56.189Z"
   },
   {
    "duration": 34,
    "start_time": "2022-03-31T16:22:56.215Z"
   },
   {
    "duration": 72,
    "start_time": "2022-03-31T16:22:56.250Z"
   },
   {
    "duration": 82,
    "start_time": "2022-03-31T16:22:56.337Z"
   },
   {
    "duration": 71,
    "start_time": "2022-03-31T16:22:56.421Z"
   },
   {
    "duration": 61,
    "start_time": "2022-03-31T16:22:56.497Z"
   },
   {
    "duration": 4,
    "start_time": "2022-03-31T16:22:56.560Z"
   },
   {
    "duration": 14,
    "start_time": "2022-03-31T16:22:56.566Z"
   },
   {
    "duration": 75,
    "start_time": "2022-03-31T16:22:56.583Z"
   },
   {
    "duration": 14,
    "start_time": "2022-03-31T16:22:56.660Z"
   },
   {
    "duration": 12,
    "start_time": "2022-03-31T16:22:56.675Z"
   },
   {
    "duration": 4,
    "start_time": "2022-03-31T16:22:56.689Z"
   },
   {
    "duration": 44,
    "start_time": "2022-03-31T16:22:56.694Z"
   },
   {
    "duration": 15,
    "start_time": "2022-03-31T16:22:56.740Z"
   },
   {
    "duration": 16,
    "start_time": "2022-03-31T16:22:56.757Z"
   },
   {
    "duration": 15,
    "start_time": "2022-03-31T16:22:56.774Z"
   },
   {
    "duration": 48,
    "start_time": "2022-03-31T16:22:56.791Z"
   },
   {
    "duration": 14,
    "start_time": "2022-03-31T16:22:56.840Z"
   },
   {
    "duration": 8,
    "start_time": "2022-03-31T16:22:56.856Z"
   },
   {
    "duration": 12,
    "start_time": "2022-03-31T16:22:56.866Z"
   },
   {
    "duration": 10,
    "start_time": "2022-03-31T16:22:56.880Z"
   },
   {
    "duration": 5,
    "start_time": "2022-03-31T16:22:56.891Z"
   },
   {
    "duration": 49,
    "start_time": "2022-03-31T16:22:56.897Z"
   },
   {
    "duration": 14,
    "start_time": "2022-03-31T16:22:56.948Z"
   },
   {
    "duration": 16,
    "start_time": "2022-03-31T16:22:56.963Z"
   },
   {
    "duration": 13,
    "start_time": "2022-03-31T16:22:56.981Z"
   },
   {
    "duration": 44,
    "start_time": "2022-03-31T16:22:56.996Z"
   },
   {
    "duration": 6,
    "start_time": "2022-03-31T16:22:57.042Z"
   },
   {
    "duration": 10,
    "start_time": "2022-03-31T16:22:57.049Z"
   },
   {
    "duration": 7,
    "start_time": "2022-03-31T16:22:57.061Z"
   },
   {
    "duration": 437,
    "start_time": "2022-03-31T17:09:22.621Z"
   },
   {
    "duration": 244,
    "start_time": "2022-03-31T17:09:23.060Z"
   },
   {
    "duration": 17,
    "start_time": "2022-03-31T17:09:23.306Z"
   },
   {
    "duration": 34,
    "start_time": "2022-03-31T17:09:23.325Z"
   },
   {
    "duration": 4,
    "start_time": "2022-03-31T17:09:23.361Z"
   },
   {
    "duration": 24,
    "start_time": "2022-03-31T17:09:23.367Z"
   },
   {
    "duration": 7,
    "start_time": "2022-03-31T17:09:23.393Z"
   },
   {
    "duration": 47,
    "start_time": "2022-03-31T17:09:23.401Z"
   },
   {
    "duration": 26,
    "start_time": "2022-03-31T17:09:23.450Z"
   },
   {
    "duration": 26,
    "start_time": "2022-03-31T17:09:23.479Z"
   },
   {
    "duration": 89,
    "start_time": "2022-03-31T17:09:23.506Z"
   },
   {
    "duration": 94,
    "start_time": "2022-03-31T17:09:23.597Z"
   },
   {
    "duration": 72,
    "start_time": "2022-03-31T17:09:23.693Z"
   },
   {
    "duration": 50,
    "start_time": "2022-03-31T17:09:23.766Z"
   },
   {
    "duration": 20,
    "start_time": "2022-03-31T17:09:23.818Z"
   },
   {
    "duration": 16,
    "start_time": "2022-03-31T17:09:23.840Z"
   },
   {
    "duration": 51,
    "start_time": "2022-03-31T17:09:23.858Z"
   },
   {
    "duration": 33,
    "start_time": "2022-03-31T17:09:23.911Z"
   },
   {
    "duration": 15,
    "start_time": "2022-03-31T17:09:23.946Z"
   },
   {
    "duration": 5,
    "start_time": "2022-03-31T17:09:23.963Z"
   },
   {
    "duration": 23,
    "start_time": "2022-03-31T17:09:23.970Z"
   },
   {
    "duration": 44,
    "start_time": "2022-03-31T17:09:23.995Z"
   },
   {
    "duration": 16,
    "start_time": "2022-03-31T17:09:24.041Z"
   },
   {
    "duration": 20,
    "start_time": "2022-03-31T17:09:24.058Z"
   },
   {
    "duration": 21,
    "start_time": "2022-03-31T17:09:24.079Z"
   },
   {
    "duration": 45,
    "start_time": "2022-03-31T17:09:24.102Z"
   },
   {
    "duration": 9,
    "start_time": "2022-03-31T17:09:24.149Z"
   },
   {
    "duration": 14,
    "start_time": "2022-03-31T17:09:24.161Z"
   },
   {
    "duration": 10,
    "start_time": "2022-03-31T17:09:24.177Z"
   },
   {
    "duration": 4,
    "start_time": "2022-03-31T17:09:24.189Z"
   },
   {
    "duration": 57,
    "start_time": "2022-03-31T17:09:24.194Z"
   },
   {
    "duration": 13,
    "start_time": "2022-03-31T17:09:24.252Z"
   },
   {
    "duration": 19,
    "start_time": "2022-03-31T17:09:24.267Z"
   },
   {
    "duration": 12,
    "start_time": "2022-03-31T17:09:24.287Z"
   },
   {
    "duration": 40,
    "start_time": "2022-03-31T17:09:24.300Z"
   },
   {
    "duration": 5,
    "start_time": "2022-03-31T17:09:24.342Z"
   },
   {
    "duration": 11,
    "start_time": "2022-03-31T17:09:24.348Z"
   },
   {
    "duration": 5,
    "start_time": "2022-03-31T17:09:24.360Z"
   },
   {
    "duration": 359,
    "start_time": "2022-04-11T11:56:53.566Z"
   },
   {
    "duration": 152,
    "start_time": "2022-04-11T11:56:53.927Z"
   },
   {
    "duration": 17,
    "start_time": "2022-04-11T11:56:54.081Z"
   },
   {
    "duration": 30,
    "start_time": "2022-04-11T11:56:54.108Z"
   },
   {
    "duration": 4,
    "start_time": "2022-04-11T11:56:54.140Z"
   },
   {
    "duration": 15,
    "start_time": "2022-04-11T11:56:54.145Z"
   },
   {
    "duration": 13,
    "start_time": "2022-04-11T11:56:54.161Z"
   },
   {
    "duration": 44,
    "start_time": "2022-04-11T11:56:54.175Z"
   },
   {
    "duration": 30,
    "start_time": "2022-04-11T11:56:54.221Z"
   },
   {
    "duration": 24,
    "start_time": "2022-04-11T11:56:54.252Z"
   },
   {
    "duration": 84,
    "start_time": "2022-04-11T11:56:54.278Z"
   },
   {
    "duration": 84,
    "start_time": "2022-04-11T11:56:54.364Z"
   },
   {
    "duration": 68,
    "start_time": "2022-04-11T11:56:54.450Z"
   },
   {
    "duration": 47,
    "start_time": "2022-04-11T11:56:54.522Z"
   },
   {
    "duration": 3,
    "start_time": "2022-04-11T11:56:54.571Z"
   },
   {
    "duration": 14,
    "start_time": "2022-04-11T11:56:54.575Z"
   },
   {
    "duration": 65,
    "start_time": "2022-04-11T11:56:54.590Z"
   },
   {
    "duration": 12,
    "start_time": "2022-04-11T11:56:54.657Z"
   },
   {
    "duration": 12,
    "start_time": "2022-04-11T11:56:54.670Z"
   },
   {
    "duration": 25,
    "start_time": "2022-04-11T11:56:54.684Z"
   },
   {
    "duration": 21,
    "start_time": "2022-04-11T11:56:54.711Z"
   },
   {
    "duration": 13,
    "start_time": "2022-04-11T11:56:54.734Z"
   },
   {
    "duration": 14,
    "start_time": "2022-04-11T11:56:54.748Z"
   },
   {
    "duration": 12,
    "start_time": "2022-04-11T11:56:54.764Z"
   },
   {
    "duration": 41,
    "start_time": "2022-04-11T11:56:54.778Z"
   },
   {
    "duration": 15,
    "start_time": "2022-04-11T11:56:54.820Z"
   },
   {
    "duration": 8,
    "start_time": "2022-04-11T11:56:54.837Z"
   },
   {
    "duration": 13,
    "start_time": "2022-04-11T11:56:54.846Z"
   },
   {
    "duration": 9,
    "start_time": "2022-04-11T11:56:54.861Z"
   },
   {
    "duration": 36,
    "start_time": "2022-04-11T11:56:54.872Z"
   },
   {
    "duration": 20,
    "start_time": "2022-04-11T11:56:54.911Z"
   },
   {
    "duration": 21,
    "start_time": "2022-04-11T11:56:54.933Z"
   },
   {
    "duration": 18,
    "start_time": "2022-04-11T11:56:54.955Z"
   },
   {
    "duration": 12,
    "start_time": "2022-04-11T11:56:54.975Z"
   },
   {
    "duration": 28,
    "start_time": "2022-04-11T11:56:54.988Z"
   },
   {
    "duration": 4,
    "start_time": "2022-04-11T11:56:55.018Z"
   },
   {
    "duration": 10,
    "start_time": "2022-04-11T11:56:55.024Z"
   },
   {
    "duration": 4,
    "start_time": "2022-04-11T11:56:55.036Z"
   },
   {
    "duration": 16,
    "start_time": "2022-04-11T12:01:47.873Z"
   },
   {
    "duration": 12,
    "start_time": "2022-04-11T12:01:48.314Z"
   },
   {
    "duration": 30512,
    "start_time": "2022-08-24T14:12:05.253Z"
   },
   {
    "duration": 7,
    "start_time": "2022-08-24T14:37:12.576Z"
   },
   {
    "duration": 16300,
    "start_time": "2022-08-24T14:39:33.724Z"
   },
   {
    "duration": 14,
    "start_time": "2022-08-24T14:52:19.177Z"
   },
   {
    "duration": 364,
    "start_time": "2022-08-24T14:53:34.226Z"
   },
   {
    "duration": 442,
    "start_time": "2022-08-24T14:53:34.592Z"
   },
   {
    "duration": 15,
    "start_time": "2022-08-24T14:53:35.036Z"
   },
   {
    "duration": 26,
    "start_time": "2022-08-24T14:53:35.052Z"
   },
   {
    "duration": 4,
    "start_time": "2022-08-24T14:53:35.079Z"
   },
   {
    "duration": 21,
    "start_time": "2022-08-24T14:53:35.084Z"
   },
   {
    "duration": 8,
    "start_time": "2022-08-24T14:53:35.106Z"
   },
   {
    "duration": 35,
    "start_time": "2022-08-24T14:53:35.115Z"
   },
   {
    "duration": 19,
    "start_time": "2022-08-24T14:53:35.151Z"
   },
   {
    "duration": 20,
    "start_time": "2022-08-24T14:53:35.173Z"
   },
   {
    "duration": 62,
    "start_time": "2022-08-24T14:53:35.194Z"
   },
   {
    "duration": 70,
    "start_time": "2022-08-24T14:53:35.257Z"
   },
   {
    "duration": 54,
    "start_time": "2022-08-24T14:53:35.329Z"
   },
   {
    "duration": 56,
    "start_time": "2022-08-24T14:53:35.384Z"
   },
   {
    "duration": 3,
    "start_time": "2022-08-24T14:53:35.442Z"
   },
   {
    "duration": 16,
    "start_time": "2022-08-24T14:53:35.447Z"
   },
   {
    "duration": 52,
    "start_time": "2022-08-24T14:53:35.464Z"
   },
   {
    "duration": 11,
    "start_time": "2022-08-24T14:53:35.518Z"
   },
   {
    "duration": 24,
    "start_time": "2022-08-24T14:53:35.531Z"
   },
   {
    "duration": 20,
    "start_time": "2022-08-24T14:53:35.557Z"
   },
   {
    "duration": 39,
    "start_time": "2022-08-24T14:53:35.579Z"
   },
   {
    "duration": 23,
    "start_time": "2022-08-24T14:53:35.620Z"
   },
   {
    "duration": 20,
    "start_time": "2022-08-24T14:53:35.645Z"
   },
   {
    "duration": 22,
    "start_time": "2022-08-24T14:53:35.667Z"
   },
   {
    "duration": 19,
    "start_time": "2022-08-24T14:53:35.690Z"
   },
   {
    "duration": 37,
    "start_time": "2022-08-24T14:53:35.710Z"
   },
   {
    "duration": 23,
    "start_time": "2022-08-24T14:53:35.749Z"
   },
   {
    "duration": 15,
    "start_time": "2022-08-24T14:53:35.775Z"
   },
   {
    "duration": 22,
    "start_time": "2022-08-24T14:53:35.792Z"
   },
   {
    "duration": 14,
    "start_time": "2022-08-24T14:53:35.815Z"
   },
   {
    "duration": 45,
    "start_time": "2022-08-24T14:53:35.830Z"
   },
   {
    "duration": 35,
    "start_time": "2022-08-24T14:53:35.876Z"
   },
   {
    "duration": 19,
    "start_time": "2022-08-24T14:53:35.912Z"
   },
   {
    "duration": 19,
    "start_time": "2022-08-24T14:53:35.933Z"
   },
   {
    "duration": 19,
    "start_time": "2022-08-24T14:53:35.953Z"
   },
   {
    "duration": 9,
    "start_time": "2022-08-24T14:53:35.974Z"
   },
   {
    "duration": 22,
    "start_time": "2022-08-24T14:53:35.986Z"
   },
   {
    "duration": 12,
    "start_time": "2022-08-24T14:53:36.010Z"
   },
   {
    "duration": 76,
    "start_time": "2022-08-24T14:53:36.024Z"
   },
   {
    "duration": 0,
    "start_time": "2022-08-24T14:53:36.102Z"
   },
   {
    "duration": 0,
    "start_time": "2022-08-24T14:53:36.103Z"
   },
   {
    "duration": 8813,
    "start_time": "2022-08-24T14:54:08.957Z"
   },
   {
    "duration": 16,
    "start_time": "2022-08-24T14:54:23.942Z"
   },
   {
    "duration": 106,
    "start_time": "2022-08-24T16:15:31.094Z"
   },
   {
    "duration": 30,
    "start_time": "2022-08-24T16:15:39.604Z"
   },
   {
    "duration": 14,
    "start_time": "2022-08-24T16:16:03.590Z"
   },
   {
    "duration": 19,
    "start_time": "2022-08-24T16:16:09.517Z"
   },
   {
    "duration": 15,
    "start_time": "2022-08-24T16:16:15.309Z"
   },
   {
    "duration": 14,
    "start_time": "2022-08-24T16:16:25.641Z"
   },
   {
    "duration": 14,
    "start_time": "2022-08-24T16:16:29.580Z"
   },
   {
    "duration": 36,
    "start_time": "2022-08-24T16:58:11.002Z"
   },
   {
    "duration": 7,
    "start_time": "2022-08-24T16:59:02.176Z"
   },
   {
    "duration": 8,
    "start_time": "2022-08-24T16:59:05.329Z"
   },
   {
    "duration": 1473,
    "start_time": "2022-08-24T19:25:32.836Z"
   },
   {
    "duration": 5,
    "start_time": "2022-08-24T19:25:42.154Z"
   }
  ],
  "colab": {
   "collapsed_sections": [
    "E0vqbgi9ay0H",
    "VUC88oWjTJw2"
   ],
   "name": "yandex_music_project.ipynb",
   "provenance": []
  },
  "kernelspec": {
   "display_name": "Python 3 (ipykernel)",
   "language": "python",
   "name": "python3"
  },
  "language_info": {
   "codemirror_mode": {
    "name": "ipython",
    "version": 3
   },
   "file_extension": ".py",
   "mimetype": "text/x-python",
   "name": "python",
   "nbconvert_exporter": "python",
   "pygments_lexer": "ipython3",
   "version": "3.9.7"
  },
  "toc": {
   "base_numbering": 1,
   "nav_menu": {},
   "number_sections": true,
   "sideBar": true,
   "skip_h1_title": true,
   "title_cell": "Table of Contents",
   "title_sidebar": "Содержание",
   "toc_cell": false,
   "toc_position": {},
   "toc_section_display": true,
   "toc_window_display": true
  }
 },
 "nbformat": 4,
 "nbformat_minor": 1
}
