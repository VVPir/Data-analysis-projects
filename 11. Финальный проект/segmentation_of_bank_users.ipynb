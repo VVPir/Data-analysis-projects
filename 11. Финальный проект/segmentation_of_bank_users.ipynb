{
 "cells": [
  {
   "cell_type": "markdown",
   "metadata": {},
   "source": [
    "**<div style=\"font-size: 20px\">Банки — Сегментация пользователей по потреблению</div >**\n",
    "\n",
    "**Материалы:**\n",
    "\n",
    "[Презентция](https://disk.yandex.ru/i/hbcTURTdMxefzw)\n",
    "\n",
    "[Дашборд](https://public.tableau.com/app/profile/john6340/viz/Metanprom_16648077134410/Dashboard1)\n",
    "\n",
    "\n",
    "**Задача:** \n",
    "\n",
    "Проанализировать клиентов регионального банка и сегментировать пользователей по количеству потребляемых продуктов.\n",
    "\n",
    "**Описание данных:**\n",
    "\n",
    "Датасет содержит данные о клиентах банка «Метанпром». Банк располагается в Ярославле и областных городах: Ростов Великий и Рыбинск.\n",
    "\n",
    "Описание:\n",
    "\n",
    "- `userid` — идентификатор пользователя,\n",
    "- `score` — баллы кредитного скоринга,\n",
    "- `City` — город\n",
    "- `Gender` — пол,\n",
    "- `Age` — возраст,\n",
    "- `Objects` — количество объектов в собственности,\n",
    "- `Balance` — баланс на счёте,\n",
    "- `Products` — количество продуктов, которыми пользуется клиент,\n",
    "- `CreditCard` — есть ли кредитная карта,\n",
    "- `Loyalty` — активный клиент,\n",
    "- `estimated_salary` — заработная плата клиента,\n",
    "- `Churn` — ушёл или нет.\n",
    "\n",
    "**План работы:**\n",
    "1. Загрузка данных и предобработка\n",
    "- Исследовать пропущенные значения;\n",
    "- Исследовать соответствие типов;\n",
    "- Исследовать дубликаты;\n",
    "- Проверить корректность наименований колонок;\n",
    "- Заменить пропущенные значения при необходимости.\n",
    "\n",
    "2. Исследовательский анализ данных (EDA)\n",
    "- распределение признаков\n",
    "- распределение признаков для тех, кто ушёл (отток) и тех, кто остался (не попали в отток)\n",
    "- матрица корреляций\n",
    "\n",
    "3. Сегментация\n",
    "- по количеству потребляемых продуктов\n",
    "- распределение признаков для сегментов\n",
    "\n",
    "4. Проверка гипотез:\n",
    "\n",
    "- **H0**: доходы клиентов, которые пользуются двумя продуктами банка, и теми, которые пользуются одним, не различаются\n",
    "\n",
    "- **H1**: доходы клиентов, которые пользуются двумя продуктами банка, и теми, которые пользуются одним, различаются\n",
    "\n",
    "\n",
    "\n",
    "- **H0**: Возраст клиентов, ушедших в отток и оставшихся, не различается \n",
    "\n",
    "- **H1**: Возраст клиентов, ушедших в отток и оставшихся, различается\n",
    "\n",
    "5. Общие выводы и рекомендации"
   ]
  },
  {
   "cell_type": "markdown",
   "metadata": {},
   "source": [
    "### 1.  Загрузка данных и предобработка"
   ]
  },
  {
   "cell_type": "code",
   "execution_count": 1,
   "metadata": {},
   "outputs": [],
   "source": [
    "import pandas as pd\n",
    "import numpy as np\n",
    "from scipy import stats as st\n",
    "import seaborn as sns\n",
    "import matplotlib.pyplot as plt"
   ]
  },
  {
   "cell_type": "code",
   "execution_count": 2,
   "metadata": {},
   "outputs": [
    {
     "data": {
      "text/html": [
       "<div>\n",
       "<style scoped>\n",
       "    .dataframe tbody tr th:only-of-type {\n",
       "        vertical-align: middle;\n",
       "    }\n",
       "\n",
       "    .dataframe tbody tr th {\n",
       "        vertical-align: top;\n",
       "    }\n",
       "\n",
       "    .dataframe thead th {\n",
       "        text-align: right;\n",
       "    }\n",
       "</style>\n",
       "<table border=\"1\" class=\"dataframe\">\n",
       "  <thead>\n",
       "    <tr style=\"text-align: right;\">\n",
       "      <th></th>\n",
       "      <th>userid</th>\n",
       "      <th>score</th>\n",
       "      <th>City</th>\n",
       "      <th>Gender</th>\n",
       "      <th>Age</th>\n",
       "      <th>Objects</th>\n",
       "      <th>Balance</th>\n",
       "      <th>Products</th>\n",
       "      <th>CreditCard</th>\n",
       "      <th>Loyalty</th>\n",
       "      <th>estimated_salary</th>\n",
       "      <th>Churn</th>\n",
       "    </tr>\n",
       "  </thead>\n",
       "  <tbody>\n",
       "    <tr>\n",
       "      <th>0</th>\n",
       "      <td>15677338</td>\n",
       "      <td>619</td>\n",
       "      <td>Ярославль</td>\n",
       "      <td>Ж</td>\n",
       "      <td>42</td>\n",
       "      <td>2</td>\n",
       "      <td>NaN</td>\n",
       "      <td>1</td>\n",
       "      <td>1</td>\n",
       "      <td>1</td>\n",
       "      <td>101348.88</td>\n",
       "      <td>1</td>\n",
       "    </tr>\n",
       "    <tr>\n",
       "      <th>1</th>\n",
       "      <td>15690047</td>\n",
       "      <td>608</td>\n",
       "      <td>Рыбинск</td>\n",
       "      <td>Ж</td>\n",
       "      <td>41</td>\n",
       "      <td>1</td>\n",
       "      <td>83807.86</td>\n",
       "      <td>1</td>\n",
       "      <td>0</td>\n",
       "      <td>1</td>\n",
       "      <td>112542.58</td>\n",
       "      <td>0</td>\n",
       "    </tr>\n",
       "    <tr>\n",
       "      <th>2</th>\n",
       "      <td>15662040</td>\n",
       "      <td>502</td>\n",
       "      <td>Ярославль</td>\n",
       "      <td>Ж</td>\n",
       "      <td>42</td>\n",
       "      <td>8</td>\n",
       "      <td>159660.80</td>\n",
       "      <td>3</td>\n",
       "      <td>1</td>\n",
       "      <td>0</td>\n",
       "      <td>113931.57</td>\n",
       "      <td>1</td>\n",
       "    </tr>\n",
       "    <tr>\n",
       "      <th>3</th>\n",
       "      <td>15744090</td>\n",
       "      <td>699</td>\n",
       "      <td>Ярославль</td>\n",
       "      <td>Ж</td>\n",
       "      <td>39</td>\n",
       "      <td>1</td>\n",
       "      <td>NaN</td>\n",
       "      <td>2</td>\n",
       "      <td>0</td>\n",
       "      <td>0</td>\n",
       "      <td>93826.63</td>\n",
       "      <td>0</td>\n",
       "    </tr>\n",
       "    <tr>\n",
       "      <th>4</th>\n",
       "      <td>15780624</td>\n",
       "      <td>850</td>\n",
       "      <td>Рыбинск</td>\n",
       "      <td>Ж</td>\n",
       "      <td>43</td>\n",
       "      <td>2</td>\n",
       "      <td>125510.82</td>\n",
       "      <td>1</td>\n",
       "      <td>1</td>\n",
       "      <td>1</td>\n",
       "      <td>79084.10</td>\n",
       "      <td>0</td>\n",
       "    </tr>\n",
       "    <tr>\n",
       "      <th>5</th>\n",
       "      <td>15616748</td>\n",
       "      <td>645</td>\n",
       "      <td>Рыбинск</td>\n",
       "      <td>М</td>\n",
       "      <td>44</td>\n",
       "      <td>8</td>\n",
       "      <td>113755.78</td>\n",
       "      <td>2</td>\n",
       "      <td>1</td>\n",
       "      <td>0</td>\n",
       "      <td>149756.71</td>\n",
       "      <td>1</td>\n",
       "    </tr>\n",
       "    <tr>\n",
       "      <th>6</th>\n",
       "      <td>15635267</td>\n",
       "      <td>822</td>\n",
       "      <td>Ярославль</td>\n",
       "      <td>М</td>\n",
       "      <td>50</td>\n",
       "      <td>7</td>\n",
       "      <td>NaN</td>\n",
       "      <td>2</td>\n",
       "      <td>1</td>\n",
       "      <td>1</td>\n",
       "      <td>10062.80</td>\n",
       "      <td>0</td>\n",
       "    </tr>\n",
       "    <tr>\n",
       "      <th>7</th>\n",
       "      <td>15698884</td>\n",
       "      <td>376</td>\n",
       "      <td>Ростов Великий</td>\n",
       "      <td>Ж</td>\n",
       "      <td>29</td>\n",
       "      <td>4</td>\n",
       "      <td>115046.74</td>\n",
       "      <td>4</td>\n",
       "      <td>1</td>\n",
       "      <td>0</td>\n",
       "      <td>119346.88</td>\n",
       "      <td>1</td>\n",
       "    </tr>\n",
       "    <tr>\n",
       "      <th>8</th>\n",
       "      <td>15835101</td>\n",
       "      <td>501</td>\n",
       "      <td>Ярославль</td>\n",
       "      <td>М</td>\n",
       "      <td>44</td>\n",
       "      <td>4</td>\n",
       "      <td>142051.07</td>\n",
       "      <td>2</td>\n",
       "      <td>0</td>\n",
       "      <td>1</td>\n",
       "      <td>74940.50</td>\n",
       "      <td>0</td>\n",
       "    </tr>\n",
       "    <tr>\n",
       "      <th>9</th>\n",
       "      <td>15635125</td>\n",
       "      <td>684</td>\n",
       "      <td>Ярославль</td>\n",
       "      <td>М</td>\n",
       "      <td>27</td>\n",
       "      <td>2</td>\n",
       "      <td>134603.88</td>\n",
       "      <td>1</td>\n",
       "      <td>1</td>\n",
       "      <td>1</td>\n",
       "      <td>71725.73</td>\n",
       "      <td>0</td>\n",
       "    </tr>\n",
       "    <tr>\n",
       "      <th>10</th>\n",
       "      <td>15810557</td>\n",
       "      <td>528</td>\n",
       "      <td>Ярославль</td>\n",
       "      <td>М</td>\n",
       "      <td>31</td>\n",
       "      <td>6</td>\n",
       "      <td>102016.72</td>\n",
       "      <td>2</td>\n",
       "      <td>0</td>\n",
       "      <td>0</td>\n",
       "      <td>80181.12</td>\n",
       "      <td>0</td>\n",
       "    </tr>\n",
       "    <tr>\n",
       "      <th>11</th>\n",
       "      <td>15779909</td>\n",
       "      <td>497</td>\n",
       "      <td>Рыбинск</td>\n",
       "      <td>М</td>\n",
       "      <td>24</td>\n",
       "      <td>3</td>\n",
       "      <td>NaN</td>\n",
       "      <td>2</td>\n",
       "      <td>1</td>\n",
       "      <td>0</td>\n",
       "      <td>76390.01</td>\n",
       "      <td>0</td>\n",
       "    </tr>\n",
       "    <tr>\n",
       "      <th>12</th>\n",
       "      <td>15675000</td>\n",
       "      <td>476</td>\n",
       "      <td>Ярославль</td>\n",
       "      <td>Ж</td>\n",
       "      <td>34</td>\n",
       "      <td>10</td>\n",
       "      <td>NaN</td>\n",
       "      <td>2</td>\n",
       "      <td>1</td>\n",
       "      <td>0</td>\n",
       "      <td>26260.98</td>\n",
       "      <td>0</td>\n",
       "    </tr>\n",
       "    <tr>\n",
       "      <th>13</th>\n",
       "      <td>15734219</td>\n",
       "      <td>549</td>\n",
       "      <td>Ярославль</td>\n",
       "      <td>Ж</td>\n",
       "      <td>25</td>\n",
       "      <td>5</td>\n",
       "      <td>NaN</td>\n",
       "      <td>2</td>\n",
       "      <td>0</td>\n",
       "      <td>0</td>\n",
       "      <td>190857.79</td>\n",
       "      <td>0</td>\n",
       "    </tr>\n",
       "    <tr>\n",
       "      <th>14</th>\n",
       "      <td>15643618</td>\n",
       "      <td>635</td>\n",
       "      <td>Рыбинск</td>\n",
       "      <td>Ж</td>\n",
       "      <td>35</td>\n",
       "      <td>7</td>\n",
       "      <td>NaN</td>\n",
       "      <td>2</td>\n",
       "      <td>1</td>\n",
       "      <td>1</td>\n",
       "      <td>65951.65</td>\n",
       "      <td>0</td>\n",
       "    </tr>\n",
       "  </tbody>\n",
       "</table>\n",
       "</div>"
      ],
      "text/plain": [
       "      userid  score            City Gender  Age  Objects    Balance  Products  \\\n",
       "0   15677338    619       Ярославль      Ж   42        2        NaN         1   \n",
       "1   15690047    608         Рыбинск      Ж   41        1   83807.86         1   \n",
       "2   15662040    502       Ярославль      Ж   42        8  159660.80         3   \n",
       "3   15744090    699       Ярославль      Ж   39        1        NaN         2   \n",
       "4   15780624    850         Рыбинск      Ж   43        2  125510.82         1   \n",
       "5   15616748    645         Рыбинск      М   44        8  113755.78         2   \n",
       "6   15635267    822       Ярославль      М   50        7        NaN         2   \n",
       "7   15698884    376  Ростов Великий      Ж   29        4  115046.74         4   \n",
       "8   15835101    501       Ярославль      М   44        4  142051.07         2   \n",
       "9   15635125    684       Ярославль      М   27        2  134603.88         1   \n",
       "10  15810557    528       Ярославль      М   31        6  102016.72         2   \n",
       "11  15779909    497         Рыбинск      М   24        3        NaN         2   \n",
       "12  15675000    476       Ярославль      Ж   34       10        NaN         2   \n",
       "13  15734219    549       Ярославль      Ж   25        5        NaN         2   \n",
       "14  15643618    635         Рыбинск      Ж   35        7        NaN         2   \n",
       "\n",
       "    CreditCard  Loyalty  estimated_salary  Churn  \n",
       "0            1        1         101348.88      1  \n",
       "1            0        1         112542.58      0  \n",
       "2            1        0         113931.57      1  \n",
       "3            0        0          93826.63      0  \n",
       "4            1        1          79084.10      0  \n",
       "5            1        0         149756.71      1  \n",
       "6            1        1          10062.80      0  \n",
       "7            1        0         119346.88      1  \n",
       "8            0        1          74940.50      0  \n",
       "9            1        1          71725.73      0  \n",
       "10           0        0          80181.12      0  \n",
       "11           1        0          76390.01      0  \n",
       "12           1        0          26260.98      0  \n",
       "13           0        0         190857.79      0  \n",
       "14           1        1          65951.65      0  "
      ]
     },
     "execution_count": 2,
     "metadata": {},
     "output_type": "execute_result"
    }
   ],
   "source": [
    "df = pd.read_csv('/datasets/bank_dataset.csv')\n",
    "df.head(15)"
   ]
  },
  {
   "cell_type": "code",
   "execution_count": 3,
   "metadata": {},
   "outputs": [
    {
     "name": "stdout",
     "output_type": "stream",
     "text": [
      "<class 'pandas.core.frame.DataFrame'>\n",
      "RangeIndex: 10000 entries, 0 to 9999\n",
      "Data columns (total 12 columns):\n",
      " #   Column            Non-Null Count  Dtype  \n",
      "---  ------            --------------  -----  \n",
      " 0   userid            10000 non-null  int64  \n",
      " 1   score             10000 non-null  int64  \n",
      " 2   City              10000 non-null  object \n",
      " 3   Gender            10000 non-null  object \n",
      " 4   Age               10000 non-null  int64  \n",
      " 5   Objects           10000 non-null  int64  \n",
      " 6   Balance           6383 non-null   float64\n",
      " 7   Products          10000 non-null  int64  \n",
      " 8   CreditCard        10000 non-null  int64  \n",
      " 9   Loyalty           10000 non-null  int64  \n",
      " 10  estimated_salary  10000 non-null  float64\n",
      " 11  Churn             10000 non-null  int64  \n",
      "dtypes: float64(2), int64(8), object(2)\n",
      "memory usage: 937.6+ KB\n"
     ]
    }
   ],
   "source": [
    "df.info()"
   ]
  },
  {
   "cell_type": "code",
   "execution_count": 4,
   "metadata": {},
   "outputs": [
    {
     "data": {
      "text/plain": [
       "userid                 0\n",
       "score                  0\n",
       "City                   0\n",
       "Gender                 0\n",
       "Age                    0\n",
       "Objects                0\n",
       "Balance             3617\n",
       "Products               0\n",
       "CreditCard             0\n",
       "Loyalty                0\n",
       "estimated_salary       0\n",
       "Churn                  0\n",
       "dtype: int64"
      ]
     },
     "execution_count": 4,
     "metadata": {},
     "output_type": "execute_result"
    }
   ],
   "source": [
    "df.isna().sum() #пропущенные значения"
   ]
  },
  {
   "cell_type": "code",
   "execution_count": 5,
   "metadata": {},
   "outputs": [
    {
     "data": {
      "text/plain": [
       "0"
      ]
     },
     "execution_count": 5,
     "metadata": {},
     "output_type": "execute_result"
    }
   ],
   "source": [
    "df.duplicated().sum() #дубликаты"
   ]
  },
  {
   "cell_type": "markdown",
   "metadata": {},
   "source": [
    "Датасет состоит из 12 столбцов и 10000 строк. Столбец Balance имеет 3617 пропусков. Возможно это техническая ошибка либо это нулевой баланс на счёте, либо отсутствие у клиента дебетовой карты. С типами данных все в порядке."
   ]
  },
  {
   "cell_type": "markdown",
   "metadata": {},
   "source": [
    "#### Предобработка"
   ]
  },
  {
   "cell_type": "markdown",
   "metadata": {},
   "source": [
    "Заменим пропуски в balance на 0"
   ]
  },
  {
   "cell_type": "code",
   "execution_count": 6,
   "metadata": {},
   "outputs": [],
   "source": [
    "df['Balance'] = df['Balance'].fillna(0)"
   ]
  },
  {
   "cell_type": "code",
   "execution_count": 7,
   "metadata": {},
   "outputs": [],
   "source": [
    "#переведем названия колонок в нижний регистр\n",
    "df.columns = df.columns.str.lower()"
   ]
  },
  {
   "cell_type": "code",
   "execution_count": 8,
   "metadata": {},
   "outputs": [
    {
     "data": {
      "text/plain": [
       "Ярославль         5014\n",
       "Ростов Великий    2509\n",
       "Рыбинск           2477\n",
       "Name: city, dtype: int64"
      ]
     },
     "execution_count": 8,
     "metadata": {},
     "output_type": "execute_result"
    }
   ],
   "source": [
    "df['city'].value_counts()"
   ]
  },
  {
   "cell_type": "markdown",
   "metadata": {},
   "source": [
    "### 2. Исследовательский анализ данных"
   ]
  },
  {
   "cell_type": "code",
   "execution_count": 9,
   "metadata": {},
   "outputs": [
    {
     "data": {
      "text/html": [
       "<div>\n",
       "<style scoped>\n",
       "    .dataframe tbody tr th:only-of-type {\n",
       "        vertical-align: middle;\n",
       "    }\n",
       "\n",
       "    .dataframe tbody tr th {\n",
       "        vertical-align: top;\n",
       "    }\n",
       "\n",
       "    .dataframe thead th {\n",
       "        text-align: right;\n",
       "    }\n",
       "</style>\n",
       "<table border=\"1\" class=\"dataframe\">\n",
       "  <thead>\n",
       "    <tr style=\"text-align: right;\">\n",
       "      <th></th>\n",
       "      <th>count</th>\n",
       "      <th>unique</th>\n",
       "      <th>top</th>\n",
       "      <th>freq</th>\n",
       "      <th>mean</th>\n",
       "      <th>std</th>\n",
       "      <th>min</th>\n",
       "      <th>25%</th>\n",
       "      <th>50%</th>\n",
       "      <th>75%</th>\n",
       "      <th>max</th>\n",
       "    </tr>\n",
       "  </thead>\n",
       "  <tbody>\n",
       "    <tr>\n",
       "      <th>userid</th>\n",
       "      <td>10000.0</td>\n",
       "      <td>NaN</td>\n",
       "      <td>NaN</td>\n",
       "      <td>NaN</td>\n",
       "      <td>15733676.5694</td>\n",
       "      <td>71936.186123</td>\n",
       "      <td>15608437.0</td>\n",
       "      <td>15671264.25</td>\n",
       "      <td>15733474.0</td>\n",
       "      <td>15795969.75</td>\n",
       "      <td>15858426.0</td>\n",
       "    </tr>\n",
       "    <tr>\n",
       "      <th>score</th>\n",
       "      <td>10000.0</td>\n",
       "      <td>NaN</td>\n",
       "      <td>NaN</td>\n",
       "      <td>NaN</td>\n",
       "      <td>650.5288</td>\n",
       "      <td>96.653299</td>\n",
       "      <td>350.0</td>\n",
       "      <td>584.0</td>\n",
       "      <td>652.0</td>\n",
       "      <td>718.0</td>\n",
       "      <td>850.0</td>\n",
       "    </tr>\n",
       "    <tr>\n",
       "      <th>city</th>\n",
       "      <td>10000</td>\n",
       "      <td>3</td>\n",
       "      <td>Ярославль</td>\n",
       "      <td>5014</td>\n",
       "      <td>NaN</td>\n",
       "      <td>NaN</td>\n",
       "      <td>NaN</td>\n",
       "      <td>NaN</td>\n",
       "      <td>NaN</td>\n",
       "      <td>NaN</td>\n",
       "      <td>NaN</td>\n",
       "    </tr>\n",
       "    <tr>\n",
       "      <th>gender</th>\n",
       "      <td>10000</td>\n",
       "      <td>2</td>\n",
       "      <td>М</td>\n",
       "      <td>5457</td>\n",
       "      <td>NaN</td>\n",
       "      <td>NaN</td>\n",
       "      <td>NaN</td>\n",
       "      <td>NaN</td>\n",
       "      <td>NaN</td>\n",
       "      <td>NaN</td>\n",
       "      <td>NaN</td>\n",
       "    </tr>\n",
       "    <tr>\n",
       "      <th>age</th>\n",
       "      <td>10000.0</td>\n",
       "      <td>NaN</td>\n",
       "      <td>NaN</td>\n",
       "      <td>NaN</td>\n",
       "      <td>38.9218</td>\n",
       "      <td>10.487806</td>\n",
       "      <td>18.0</td>\n",
       "      <td>32.0</td>\n",
       "      <td>37.0</td>\n",
       "      <td>44.0</td>\n",
       "      <td>92.0</td>\n",
       "    </tr>\n",
       "    <tr>\n",
       "      <th>objects</th>\n",
       "      <td>10000.0</td>\n",
       "      <td>NaN</td>\n",
       "      <td>NaN</td>\n",
       "      <td>NaN</td>\n",
       "      <td>5.0128</td>\n",
       "      <td>2.892174</td>\n",
       "      <td>0.0</td>\n",
       "      <td>3.0</td>\n",
       "      <td>5.0</td>\n",
       "      <td>7.0</td>\n",
       "      <td>10.0</td>\n",
       "    </tr>\n",
       "    <tr>\n",
       "      <th>balance</th>\n",
       "      <td>10000.0</td>\n",
       "      <td>NaN</td>\n",
       "      <td>NaN</td>\n",
       "      <td>NaN</td>\n",
       "      <td>76485.889288</td>\n",
       "      <td>62397.405202</td>\n",
       "      <td>0.0</td>\n",
       "      <td>0.0</td>\n",
       "      <td>97198.54</td>\n",
       "      <td>127644.24</td>\n",
       "      <td>250898.09</td>\n",
       "    </tr>\n",
       "    <tr>\n",
       "      <th>products</th>\n",
       "      <td>10000.0</td>\n",
       "      <td>NaN</td>\n",
       "      <td>NaN</td>\n",
       "      <td>NaN</td>\n",
       "      <td>1.5302</td>\n",
       "      <td>0.581654</td>\n",
       "      <td>1.0</td>\n",
       "      <td>1.0</td>\n",
       "      <td>1.0</td>\n",
       "      <td>2.0</td>\n",
       "      <td>4.0</td>\n",
       "    </tr>\n",
       "    <tr>\n",
       "      <th>creditcard</th>\n",
       "      <td>10000.0</td>\n",
       "      <td>NaN</td>\n",
       "      <td>NaN</td>\n",
       "      <td>NaN</td>\n",
       "      <td>0.7055</td>\n",
       "      <td>0.45584</td>\n",
       "      <td>0.0</td>\n",
       "      <td>0.0</td>\n",
       "      <td>1.0</td>\n",
       "      <td>1.0</td>\n",
       "      <td>1.0</td>\n",
       "    </tr>\n",
       "    <tr>\n",
       "      <th>loyalty</th>\n",
       "      <td>10000.0</td>\n",
       "      <td>NaN</td>\n",
       "      <td>NaN</td>\n",
       "      <td>NaN</td>\n",
       "      <td>0.5151</td>\n",
       "      <td>0.499797</td>\n",
       "      <td>0.0</td>\n",
       "      <td>0.0</td>\n",
       "      <td>1.0</td>\n",
       "      <td>1.0</td>\n",
       "      <td>1.0</td>\n",
       "    </tr>\n",
       "    <tr>\n",
       "      <th>estimated_salary</th>\n",
       "      <td>10000.0</td>\n",
       "      <td>NaN</td>\n",
       "      <td>NaN</td>\n",
       "      <td>NaN</td>\n",
       "      <td>100090.239881</td>\n",
       "      <td>57510.492818</td>\n",
       "      <td>11.58</td>\n",
       "      <td>51002.11</td>\n",
       "      <td>100193.915</td>\n",
       "      <td>149388.2475</td>\n",
       "      <td>199992.48</td>\n",
       "    </tr>\n",
       "    <tr>\n",
       "      <th>churn</th>\n",
       "      <td>10000.0</td>\n",
       "      <td>NaN</td>\n",
       "      <td>NaN</td>\n",
       "      <td>NaN</td>\n",
       "      <td>0.2037</td>\n",
       "      <td>0.402769</td>\n",
       "      <td>0.0</td>\n",
       "      <td>0.0</td>\n",
       "      <td>0.0</td>\n",
       "      <td>0.0</td>\n",
       "      <td>1.0</td>\n",
       "    </tr>\n",
       "  </tbody>\n",
       "</table>\n",
       "</div>"
      ],
      "text/plain": [
       "                    count unique        top  freq           mean  \\\n",
       "userid            10000.0    NaN        NaN   NaN  15733676.5694   \n",
       "score             10000.0    NaN        NaN   NaN       650.5288   \n",
       "city                10000      3  Ярославль  5014            NaN   \n",
       "gender              10000      2          М  5457            NaN   \n",
       "age               10000.0    NaN        NaN   NaN        38.9218   \n",
       "objects           10000.0    NaN        NaN   NaN         5.0128   \n",
       "balance           10000.0    NaN        NaN   NaN   76485.889288   \n",
       "products          10000.0    NaN        NaN   NaN         1.5302   \n",
       "creditcard        10000.0    NaN        NaN   NaN         0.7055   \n",
       "loyalty           10000.0    NaN        NaN   NaN         0.5151   \n",
       "estimated_salary  10000.0    NaN        NaN   NaN  100090.239881   \n",
       "churn             10000.0    NaN        NaN   NaN         0.2037   \n",
       "\n",
       "                           std         min          25%         50%  \\\n",
       "userid            71936.186123  15608437.0  15671264.25  15733474.0   \n",
       "score                96.653299       350.0        584.0       652.0   \n",
       "city                       NaN         NaN          NaN         NaN   \n",
       "gender                     NaN         NaN          NaN         NaN   \n",
       "age                  10.487806        18.0         32.0        37.0   \n",
       "objects               2.892174         0.0          3.0         5.0   \n",
       "balance           62397.405202         0.0          0.0    97198.54   \n",
       "products              0.581654         1.0          1.0         1.0   \n",
       "creditcard             0.45584         0.0          0.0         1.0   \n",
       "loyalty               0.499797         0.0          0.0         1.0   \n",
       "estimated_salary  57510.492818       11.58     51002.11  100193.915   \n",
       "churn                 0.402769         0.0          0.0         0.0   \n",
       "\n",
       "                          75%         max  \n",
       "userid            15795969.75  15858426.0  \n",
       "score                   718.0       850.0  \n",
       "city                      NaN         NaN  \n",
       "gender                    NaN         NaN  \n",
       "age                      44.0        92.0  \n",
       "objects                   7.0        10.0  \n",
       "balance             127644.24   250898.09  \n",
       "products                  2.0         4.0  \n",
       "creditcard                1.0         1.0  \n",
       "loyalty                   1.0         1.0  \n",
       "estimated_salary  149388.2475   199992.48  \n",
       "churn                     0.0         1.0  "
      ]
     },
     "execution_count": 9,
     "metadata": {},
     "output_type": "execute_result"
    }
   ],
   "source": [
    "df.describe(include='all').T"
   ]
  },
  {
   "cell_type": "markdown",
   "metadata": {},
   "source": [
    "- среднее количество объектов в собственности: 5\n",
    "- среднее количество потребляемых продуктов: 1.5\n",
    "- медианная заработная плата: 100000\n",
    "- средний балл кредитного скоринга: 650\n",
    "- средний возраст: 38 лет"
   ]
  },
  {
   "cell_type": "markdown",
   "metadata": {},
   "source": [
    "Распределение признаков\n"
   ]
  },
  {
   "cell_type": "code",
   "execution_count": 10,
   "metadata": {
    "scrolled": true
   },
   "outputs": [
    {
     "data": {
      "image/png": "[encoded data removed]",
      "text/plain": [
       "<Figure size 432x288 with 1 Axes>"
      ]
     },
     "metadata": {
      "needs_background": "light"
     },
     "output_type": "display_data"
    },
    {
     "data": {
      "image/png": "[encoded data removed]",
      "text/plain": [
       "<Figure size 432x288 with 1 Axes>"
      ]
     },
     "metadata": {
      "needs_background": "light"
     },
     "output_type": "display_data"
    },
    {
     "data": {
      "image/png": "[encoded data removed]",
      "text/plain": [
       "<Figure size 432x288 with 1 Axes>"
      ]
     },
     "metadata": {
      "needs_background": "light"
     },
     "output_type": "display_data"
    },
    {
     "data": {
      "image/png": "[encoded data removed]",
      "text/plain": [
       "<Figure size 432x288 with 1 Axes>"
      ]
     },
     "metadata": {
      "needs_background": "light"
     },
     "output_type": "display_data"
    },
    {
     "data": {
      "image/png": "[encoded data removed]",
      "text/plain": [
       "<Figure size 432x288 with 1 Axes>"
      ]
     },
     "metadata": {
      "needs_background": "light"
     },
     "output_type": "display_data"
    },
    {
     "data": {
      "image/png": "[encoded data removed]",
      "text/plain": [
       "<Figure size 432x288 with 1 Axes>"
      ]
     },
     "metadata": {
      "needs_background": "light"
     },
     "output_type": "display_data"
    },
    {
     "data": {
      "image/png": "[encoded data removed]",
      "text/plain": [
       "<Figure size 432x288 with 1 Axes>"
      ]
     },
     "metadata": {
      "needs_background": "light"
     },
     "output_type": "display_data"
    },
    {
     "data": {
      "image/png": "[encoded data removed]",
      "text/plain": [
       "<Figure size 432x288 with 1 Axes>"
      ]
     },
     "metadata": {
      "needs_background": "light"
     },
     "output_type": "display_data"
    },
    {
     "data": {
      "image/png": "[encoded data removed]",
      "text/plain": [
       "<Figure size 432x288 with 1 Axes>"
      ]
     },
     "metadata": {
      "needs_background": "light"
     },
     "output_type": "display_data"
    }
   ],
   "source": [
    "columns=['score', 'age', 'objects', 'balance', 'products', 'creditcard', 'loyalty', 'estimated_salary', 'churn']\n",
    "for i in range (len(columns)):\n",
    "    df[columns[i]].hist(bins=30)\n",
    "    plt.title('Гистограмма распределения признака ' + columns[i])\n",
    "    plt.xlabel(columns[i])\n",
    "    plt.ylabel('частота')\n",
    "    plt.show()"
   ]
  },
  {
   "cell_type": "markdown",
   "metadata": {},
   "source": [
    "- У большинства клиентов от 600 до 700 баллов кредитного скоринга. В тоже время присутствует аномальное количество клиентов с максимальным количеством баллов.\n",
    "- Большинству клиентов от 32 до 40 лет. Данные распределены нормально\n",
    "- Меньше всего клиентов, у которых 1 объект в собственности, либо объекты отсутствуют \n",
    "- У большинства клиентов от 100000 до 150000 на счете. После замены пропущенных значений на 0 у нас получилось аномально большое количество клиентов с нулевым балансом\n",
    "- Большинство клиентов пользуются 1-2 продуктами. Клиентов, испльзующих от 3 до 4 продуктов, значительно меньшне \n",
    "- Клиентов, использующих кредитную карту, в 2 раза больше\n",
    "- Активные и неактивные пользователи распределены примерно поровну\n",
    "- Заработные платы клиентов распределены равномерно. Средняя з/п составляет 100000\n",
    "- Клиетов, ушедших в отток, в 4 раза меньше"
   ]
  },
  {
   "cell_type": "markdown",
   "metadata": {},
   "source": [
    "#### Взаимосвязь признаков и оттока"
   ]
  },
  {
   "cell_type": "markdown",
   "metadata": {},
   "source": [
    "Построим гистограммы и распределения признаков для тех, кто ушёл (отток) и тех, кто остался (не попали в отток)"
   ]
  },
  {
   "cell_type": "code",
   "execution_count": 11,
   "metadata": {
    "scrolled": true
   },
   "outputs": [
    {
     "data": {
      "image/png": "[encoded data removed]",
      "text/plain": [
       "<Figure size 432x288 with 1 Axes>"
      ]
     },
     "metadata": {
      "needs_background": "light"
     },
     "output_type": "display_data"
    },
    {
     "data": {
      "image/png": "[encoded data removed]",
      "text/plain": [
       "<Figure size 432x288 with 1 Axes>"
      ]
     },
     "metadata": {
      "needs_background": "light"
     },
     "output_type": "display_data"
    },
    {
     "data": {
      "image/png": "[encoded data removed]",
      "text/plain": [
       "<Figure size 432x288 with 1 Axes>"
      ]
     },
     "metadata": {
      "needs_background": "light"
     },
     "output_type": "display_data"
    },
    {
     "data": {
      "image/png": "[encoded data removed]",
      "text/plain": [
       "<Figure size 432x288 with 1 Axes>"
      ]
     },
     "metadata": {
      "needs_background": "light"
     },
     "output_type": "display_data"
    },
    {
     "data": {
      "image/png": "[encoded data removed]",
      "text/plain": [
       "<Figure size 432x288 with 1 Axes>"
      ]
     },
     "metadata": {
      "needs_background": "light"
     },
     "output_type": "display_data"
    },
    {
     "data": {
      "image/png": "[encoded data removed]",
      "text/plain": [
       "<Figure size 432x288 with 1 Axes>"
      ]
     },
     "metadata": {
      "needs_background": "light"
     },
     "output_type": "display_data"
    },
    {
     "data": {
      "image/png": "[encoded data removed]",
      "text/plain": [
       "<Figure size 432x288 with 1 Axes>"
      ]
     },
     "metadata": {
      "needs_background": "light"
     },
     "output_type": "display_data"
    },
    {
     "data": {
      "image/png": "[encoded data removed]",
      "text/plain": [
       "<Figure size 432x288 with 1 Axes>"
      ]
     },
     "metadata": {
      "needs_background": "light"
     },
     "output_type": "display_data"
    },
    {
     "data": {
      "image/png": "[encoded data removed]",
      "text/plain": [
       "<Figure size 432x288 with 1 Axes>"
      ]
     },
     "metadata": {
      "needs_background": "light"
     },
     "output_type": "display_data"
    },
    {
     "data": {
      "image/png": "[encoded data removed]",
      "text/plain": [
       "<Figure size 432x288 with 1 Axes>"
      ]
     },
     "metadata": {
      "needs_background": "light"
     },
     "output_type": "display_data"
    }
   ],
   "source": [
    "for i in df.drop(['churn', 'userid'], axis=1).columns:\n",
    "    df.query('churn==0')[i].hist(bins=20, label='Оствашиеся клиенты')\n",
    "    df.query('churn==1')[i].hist(bins=20, label='Ушедшие клиенты')\n",
    "    plt.title('Распределение признаков')\n",
    "    plt.xlabel(i)\n",
    "    plt.ylabel('Частота')\n",
    "    plt.legend()\n",
    "    plt.show()"
   ]
  },
  {
   "cell_type": "code",
   "execution_count": 12,
   "metadata": {},
   "outputs": [
    {
     "data": {
      "text/html": [
       "<div>\n",
       "<style scoped>\n",
       "    .dataframe tbody tr th:only-of-type {\n",
       "        vertical-align: middle;\n",
       "    }\n",
       "\n",
       "    .dataframe tbody tr th {\n",
       "        vertical-align: top;\n",
       "    }\n",
       "\n",
       "    .dataframe thead th {\n",
       "        text-align: right;\n",
       "    }\n",
       "</style>\n",
       "<table border=\"1\" class=\"dataframe\">\n",
       "  <thead>\n",
       "    <tr style=\"text-align: right;\">\n",
       "      <th></th>\n",
       "      <th>userid</th>\n",
       "      <th>score</th>\n",
       "      <th>age</th>\n",
       "      <th>objects</th>\n",
       "      <th>balance</th>\n",
       "      <th>products</th>\n",
       "      <th>creditcard</th>\n",
       "      <th>loyalty</th>\n",
       "      <th>estimated_salary</th>\n",
       "    </tr>\n",
       "    <tr>\n",
       "      <th>churn</th>\n",
       "      <th></th>\n",
       "      <th></th>\n",
       "      <th></th>\n",
       "      <th></th>\n",
       "      <th></th>\n",
       "      <th></th>\n",
       "      <th></th>\n",
       "      <th></th>\n",
       "      <th></th>\n",
       "    </tr>\n",
       "  </thead>\n",
       "  <tbody>\n",
       "    <tr>\n",
       "      <th>0</th>\n",
       "      <td>1.573390e+07</td>\n",
       "      <td>651.853196</td>\n",
       "      <td>37.408389</td>\n",
       "      <td>5.033279</td>\n",
       "      <td>72745.296779</td>\n",
       "      <td>1.544267</td>\n",
       "      <td>0.707146</td>\n",
       "      <td>0.554565</td>\n",
       "      <td>99738.391772</td>\n",
       "    </tr>\n",
       "    <tr>\n",
       "      <th>1</th>\n",
       "      <td>1.573279e+07</td>\n",
       "      <td>645.351497</td>\n",
       "      <td>44.837997</td>\n",
       "      <td>4.932744</td>\n",
       "      <td>91108.539337</td>\n",
       "      <td>1.475209</td>\n",
       "      <td>0.699067</td>\n",
       "      <td>0.360825</td>\n",
       "      <td>101465.677531</td>\n",
       "    </tr>\n",
       "  </tbody>\n",
       "</table>\n",
       "</div>"
      ],
      "text/plain": [
       "             userid       score        age   objects       balance  products  \\\n",
       "churn                                                                          \n",
       "0      1.573390e+07  651.853196  37.408389  5.033279  72745.296779  1.544267   \n",
       "1      1.573279e+07  645.351497  44.837997  4.932744  91108.539337  1.475209   \n",
       "\n",
       "       creditcard   loyalty  estimated_salary  \n",
       "churn                                          \n",
       "0        0.707146  0.554565      99738.391772  \n",
       "1        0.699067  0.360825     101465.677531  "
      ]
     },
     "execution_count": 12,
     "metadata": {},
     "output_type": "execute_result"
    }
   ],
   "source": [
    "df.groupby('churn').mean()"
   ]
  },
  {
   "cell_type": "markdown",
   "metadata": {},
   "source": [
    "- Среди городов бОльшая доля ушедших клиентов наблюдается в Ростове Великом\n",
    "- Женщины более склонны уходить в отток, чем мужчины\n",
    "- Средний возраст клиентов, ушедших в отток, выше среднего возраста клиентов, которые остались\n",
    "- Чем менее активен клиент, тем он более склонен уйти в отток\n",
    "- Средний баланс на счете у клиентов, которые ушли, выше, чем у клиентов, которые остались.(возможно их не устраивают условия обслуживания в банке)\n",
    "- Самая низкая доля оттока у клиентов, которые пользуются 2 продуктами. Кто пользуются 4 продуктами банка - все попадают в отток. У клиентов с 3 продуктами также наблюдается высокая доля оттока"
   ]
  },
  {
   "cell_type": "markdown",
   "metadata": {},
   "source": [
    "для более детального анализа возраста проведем категоризацию по возрасту, после чего посмотрин на распределение категорий по оттоку и количеству используемых продуктов"
   ]
  },
  {
   "cell_type": "code",
   "execution_count": 13,
   "metadata": {},
   "outputs": [],
   "source": [
    "def age_category(df):\n",
    "    if df['age'] <= 30:\n",
    "        return 'молодой'\n",
    "    elif df['age'] <= 55:\n",
    "        return 'средний возраст'\n",
    "    else:\n",
    "        return 'пенсионный возраст'\n",
    "\n",
    "df['age_category'] = df.apply(age_category, axis=1)"
   ]
  },
  {
   "cell_type": "code",
   "execution_count": 14,
   "metadata": {},
   "outputs": [
    {
     "data": {
      "text/html": [
       "<div>\n",
       "<style scoped>\n",
       "    .dataframe tbody tr th:only-of-type {\n",
       "        vertical-align: middle;\n",
       "    }\n",
       "\n",
       "    .dataframe tbody tr th {\n",
       "        vertical-align: top;\n",
       "    }\n",
       "\n",
       "    .dataframe thead th {\n",
       "        text-align: right;\n",
       "    }\n",
       "</style>\n",
       "<table border=\"1\" class=\"dataframe\">\n",
       "  <thead>\n",
       "    <tr style=\"text-align: right;\">\n",
       "      <th>age_category</th>\n",
       "      <th>молодой</th>\n",
       "      <th>пенсионный возраст</th>\n",
       "      <th>средний возраст</th>\n",
       "    </tr>\n",
       "    <tr>\n",
       "      <th>products</th>\n",
       "      <th></th>\n",
       "      <th></th>\n",
       "      <th></th>\n",
       "    </tr>\n",
       "  </thead>\n",
       "  <tbody>\n",
       "    <tr>\n",
       "      <th>1</th>\n",
       "      <td>910</td>\n",
       "      <td>447</td>\n",
       "      <td>3727</td>\n",
       "    </tr>\n",
       "    <tr>\n",
       "      <th>2</th>\n",
       "      <td>1025</td>\n",
       "      <td>310</td>\n",
       "      <td>3255</td>\n",
       "    </tr>\n",
       "    <tr>\n",
       "      <th>3</th>\n",
       "      <td>31</td>\n",
       "      <td>35</td>\n",
       "      <td>200</td>\n",
       "    </tr>\n",
       "    <tr>\n",
       "      <th>4</th>\n",
       "      <td>2</td>\n",
       "      <td>8</td>\n",
       "      <td>50</td>\n",
       "    </tr>\n",
       "  </tbody>\n",
       "</table>\n",
       "</div>"
      ],
      "text/plain": [
       "age_category  молодой  пенсионный возраст  средний возраст\n",
       "products                                                  \n",
       "1                 910                 447             3727\n",
       "2                1025                 310             3255\n",
       "3                  31                  35              200\n",
       "4                   2                   8               50"
      ]
     },
     "execution_count": 14,
     "metadata": {},
     "output_type": "execute_result"
    }
   ],
   "source": [
    "age_products = df.pivot_table(index='products', columns='age_category', values='userid', aggfunc='count')\n",
    "age_products"
   ]
  },
  {
   "cell_type": "code",
   "execution_count": 15,
   "metadata": {},
   "outputs": [
    {
     "data": {
      "text/html": [
       "<div>\n",
       "<style scoped>\n",
       "    .dataframe tbody tr th:only-of-type {\n",
       "        vertical-align: middle;\n",
       "    }\n",
       "\n",
       "    .dataframe tbody tr th {\n",
       "        vertical-align: top;\n",
       "    }\n",
       "\n",
       "    .dataframe thead th {\n",
       "        text-align: right;\n",
       "    }\n",
       "</style>\n",
       "<table border=\"1\" class=\"dataframe\">\n",
       "  <thead>\n",
       "    <tr style=\"text-align: right;\">\n",
       "      <th>age_category</th>\n",
       "      <th>молодой</th>\n",
       "      <th>пенсионный возраст</th>\n",
       "      <th>средний возраст</th>\n",
       "    </tr>\n",
       "    <tr>\n",
       "      <th>churn</th>\n",
       "      <th></th>\n",
       "      <th></th>\n",
       "      <th></th>\n",
       "    </tr>\n",
       "  </thead>\n",
       "  <tbody>\n",
       "    <tr>\n",
       "      <th>0</th>\n",
       "      <td>1820</td>\n",
       "      <td>506</td>\n",
       "      <td>5637</td>\n",
       "    </tr>\n",
       "    <tr>\n",
       "      <th>1</th>\n",
       "      <td>148</td>\n",
       "      <td>294</td>\n",
       "      <td>1595</td>\n",
       "    </tr>\n",
       "  </tbody>\n",
       "</table>\n",
       "</div>"
      ],
      "text/plain": [
       "age_category  молодой  пенсионный возраст  средний возраст\n",
       "churn                                                     \n",
       "0                1820                 506             5637\n",
       "1                 148                 294             1595"
      ]
     },
     "execution_count": 15,
     "metadata": {},
     "output_type": "execute_result"
    }
   ],
   "source": [
    "age_churn = df.pivot_table(index='churn', columns='age_category', values='userid', aggfunc='count')\n",
    "age_churn"
   ]
  },
  {
   "cell_type": "markdown",
   "metadata": {},
   "source": [
    "Больше всего представлено клиентов среднего возраста. Доля оттока среди категорий самая большая у клиентов пенсионного возраста"
   ]
  },
  {
   "cell_type": "markdown",
   "metadata": {},
   "source": [
    "Построим матрицу корреляций и отобразим её"
   ]
  },
  {
   "cell_type": "code",
   "execution_count": 16,
   "metadata": {
    "scrolled": false
   },
   "outputs": [
    {
     "data": {
      "image/png": "[encoded data removed]",
      "text/plain": [
       "<Figure size 1080x1080 with 2 Axes>"
      ]
     },
     "metadata": {
      "needs_background": "light"
     },
     "output_type": "display_data"
    }
   ],
   "source": [
    "# корреляционная матрица\n",
    "corr_m = df.drop('userid', axis=1).corr()\n",
    "# heatmap\n",
    "plt.figure(figsize = (15,15))\n",
    "sns.heatmap(corr_m, square = True, annot = True)\n",
    "plt.title('Корреляция признаков')\n",
    "plt.show()"
   ]
  },
  {
   "cell_type": "markdown",
   "metadata": {},
   "source": [
    "Больше всего на отток влияют такие признаки, как возраст и активность"
   ]
  },
  {
   "cell_type": "markdown",
   "metadata": {},
   "source": [
    "### 3. Сегментация пользователей  "
   ]
  },
  {
   "cell_type": "markdown",
   "metadata": {},
   "source": [
    "По количеству используемых продуктов "
   ]
  },
  {
   "cell_type": "code",
   "execution_count": 17,
   "metadata": {},
   "outputs": [],
   "source": [
    "list_1=['gender', 'creditcard', 'loyalty', 'churn']\n",
    "list_2=['score', 'balance', 'age', 'estimated_salary', 'objects']"
   ]
  },
  {
   "cell_type": "code",
   "execution_count": 18,
   "metadata": {
    "scrolled": true
   },
   "outputs": [
    {
     "data": {
      "image/png": "[encoded data removed]",
      "text/plain": [
       "<Figure size 864x504 with 1 Axes>"
      ]
     },
     "metadata": {
      "needs_background": "light"
     },
     "output_type": "display_data"
    },
    {
     "data": {
      "image/png": "[encoded data removed]",
      "text/plain": [
       "<Figure size 864x504 with 1 Axes>"
      ]
     },
     "metadata": {},
     "output_type": "display_data"
    },
    {
     "data": {
      "image/png": "[encoded data removed]",
      "text/plain": [
       "<Figure size 864x504 with 1 Axes>"
      ]
     },
     "metadata": {},
     "output_type": "display_data"
    },
    {
     "data": {
      "image/png": "[encoded data removed]",
      "text/plain": [
       "<Figure size 864x504 with 1 Axes>"
      ]
     },
     "metadata": {},
     "output_type": "display_data"
    }
   ],
   "source": [
    "#построим countplot-графики для бинарных признаков\n",
    "for column in list_1:\n",
    "    plt.figure(figsize=(12, 7))\n",
    "    sns.set_style(\"darkgrid\")\n",
    "    sns.countplot(x = df[column], hue='products', data=df)\n",
    "    plt.title('Распределение признаков для сегментов')\n",
    "    plt.ylabel('Частота')\n",
    "    plt.legend()\n",
    "    plt.show()"
   ]
  },
  {
   "cell_type": "markdown",
   "metadata": {},
   "source": [
    "- количество потребляемых продуктов не зависит от пола, наличия  кредитной карты и активности\n"
   ]
  },
  {
   "cell_type": "code",
   "execution_count": 19,
   "metadata": {
    "scrolled": true
   },
   "outputs": [
    {
     "data": {
      "image/png": "[encoded data removed]",
      "text/plain": [
       "<Figure size 864x504 with 1 Axes>"
      ]
     },
     "metadata": {},
     "output_type": "display_data"
    },
    {
     "data": {
      "image/png": "[encoded data removed]",
      "text/plain": [
       "<Figure size 864x504 with 1 Axes>"
      ]
     },
     "metadata": {},
     "output_type": "display_data"
    },
    {
     "data": {
      "image/png": "[encoded data removed]",
      "text/plain": [
       "<Figure size 864x504 with 1 Axes>"
      ]
     },
     "metadata": {},
     "output_type": "display_data"
    },
    {
     "data": {
      "image/png": "[encoded data removed]",
      "text/plain": [
       "<Figure size 864x504 with 1 Axes>"
      ]
     },
     "metadata": {},
     "output_type": "display_data"
    },
    {
     "data": {
      "image/png": "[encoded data removed]",
      "text/plain": [
       "<Figure size 864x504 with 1 Axes>"
      ]
     },
     "metadata": {},
     "output_type": "display_data"
    }
   ],
   "source": [
    "#построим catplot-графики для остальных признаков    \n",
    "for column in list_2:\n",
    "    sns.set_style(\"darkgrid\")\n",
    "    plt.figure(figsize=(12, 7))\n",
    "    sns.boxplot(x='products', y=column, data=df)\n",
    "    plt.title('Распределение признака {} для сегментов'.format(column))\n",
    "    plt.xlabel('Количество продуктов, которыми пользуется клиент')\n",
    "    plt.ylabel(column)\n",
    "    plt.show()"
   ]
  },
  {
   "cell_type": "code",
   "execution_count": 20,
   "metadata": {},
   "outputs": [
    {
     "data": {
      "text/html": [
       "<div>\n",
       "<style scoped>\n",
       "    .dataframe tbody tr th:only-of-type {\n",
       "        vertical-align: middle;\n",
       "    }\n",
       "\n",
       "    .dataframe tbody tr th {\n",
       "        vertical-align: top;\n",
       "    }\n",
       "\n",
       "    .dataframe thead th {\n",
       "        text-align: right;\n",
       "    }\n",
       "</style>\n",
       "<table border=\"1\" class=\"dataframe\">\n",
       "  <thead>\n",
       "    <tr style=\"text-align: right;\">\n",
       "      <th></th>\n",
       "      <th>userid</th>\n",
       "      <th>score</th>\n",
       "      <th>age</th>\n",
       "      <th>objects</th>\n",
       "      <th>balance</th>\n",
       "      <th>creditcard</th>\n",
       "      <th>loyalty</th>\n",
       "      <th>estimated_salary</th>\n",
       "      <th>churn</th>\n",
       "    </tr>\n",
       "    <tr>\n",
       "      <th>products</th>\n",
       "      <th></th>\n",
       "      <th></th>\n",
       "      <th></th>\n",
       "      <th></th>\n",
       "      <th></th>\n",
       "      <th></th>\n",
       "      <th></th>\n",
       "      <th></th>\n",
       "      <th></th>\n",
       "    </tr>\n",
       "  </thead>\n",
       "  <tbody>\n",
       "    <tr>\n",
       "      <th>1</th>\n",
       "      <td>1.573237e+07</td>\n",
       "      <td>649.120968</td>\n",
       "      <td>39.673092</td>\n",
       "      <td>4.974626</td>\n",
       "      <td>98551.870614</td>\n",
       "      <td>0.703777</td>\n",
       "      <td>0.504131</td>\n",
       "      <td>99487.256851</td>\n",
       "      <td>0.277144</td>\n",
       "    </tr>\n",
       "    <tr>\n",
       "      <th>2</th>\n",
       "      <td>1.573484e+07</td>\n",
       "      <td>652.188671</td>\n",
       "      <td>37.753595</td>\n",
       "      <td>5.051852</td>\n",
       "      <td>51879.145813</td>\n",
       "      <td>0.707190</td>\n",
       "      <td>0.532898</td>\n",
       "      <td>100452.012821</td>\n",
       "      <td>0.075817</td>\n",
       "    </tr>\n",
       "    <tr>\n",
       "      <th>3</th>\n",
       "      <td>1.574182e+07</td>\n",
       "      <td>648.105263</td>\n",
       "      <td>43.195489</td>\n",
       "      <td>5.003759</td>\n",
       "      <td>75458.328195</td>\n",
       "      <td>0.714286</td>\n",
       "      <td>0.424812</td>\n",
       "      <td>104318.130564</td>\n",
       "      <td>0.827068</td>\n",
       "    </tr>\n",
       "    <tr>\n",
       "      <th>4</th>\n",
       "      <td>1.571936e+07</td>\n",
       "      <td>653.583333</td>\n",
       "      <td>45.683333</td>\n",
       "      <td>5.300000</td>\n",
       "      <td>93733.135000</td>\n",
       "      <td>0.683333</td>\n",
       "      <td>0.483333</td>\n",
       "      <td>104763.723333</td>\n",
       "      <td>1.000000</td>\n",
       "    </tr>\n",
       "  </tbody>\n",
       "</table>\n",
       "</div>"
      ],
      "text/plain": [
       "                userid       score        age   objects       balance  \\\n",
       "products                                                                \n",
       "1         1.573237e+07  649.120968  39.673092  4.974626  98551.870614   \n",
       "2         1.573484e+07  652.188671  37.753595  5.051852  51879.145813   \n",
       "3         1.574182e+07  648.105263  43.195489  5.003759  75458.328195   \n",
       "4         1.571936e+07  653.583333  45.683333  5.300000  93733.135000   \n",
       "\n",
       "          creditcard   loyalty  estimated_salary     churn  \n",
       "products                                                    \n",
       "1           0.703777  0.504131      99487.256851  0.277144  \n",
       "2           0.707190  0.532898     100452.012821  0.075817  \n",
       "3           0.714286  0.424812     104318.130564  0.827068  \n",
       "4           0.683333  0.483333     104763.723333  1.000000  "
      ]
     },
     "execution_count": 20,
     "metadata": {},
     "output_type": "execute_result"
    }
   ],
   "source": [
    "df.groupby('products').mean()"
   ]
  },
  {
   "cell_type": "markdown",
   "metadata": {},
   "source": [
    "- Баллы кредитного скоринга не зависят на число используемых продуктов\n",
    "- Баланс выше у клиентов, пользующихся либо одним продуктом, либо сразу несколькими.\n",
    "- Самые молодые клиенты пользуются двумя продуктами, а самые взрослые - 3 и 4 продуктами банка\n",
    "- Разница между заработной платой незначительная"
   ]
  },
  {
   "cell_type": "markdown",
   "metadata": {},
   "source": [
    "Портрет клиента, склонного уйти в отток:\n",
    "- Проживает в Ростове Великом \n",
    "- чаще клиент женского пола \n",
    "- средний возраст 40-50 лет\n",
    "- неактивный клиент\n",
    "- пользуется 3-4 продуктами банка\n",
    "- высокий уровень дохода (около 100000)\n",
    "- в среднем имеет 5 объектов в собственности"
   ]
  },
  {
   "cell_type": "markdown",
   "metadata": {},
   "source": [
    "*Описание сегментов:*\n",
    "\n",
    "Сегмент 1:\n",
    "\n",
    "- количество используемых продуктов: 1\n",
    "- отток клиентов: 27.7%\n",
    "- средний возраст: 40 лет\n",
    "- средняя зарплата: 99 000\n",
    "- средний баланс на счёте: 98 000\n",
    "\n",
    "Сегмент 2:\n",
    "\n",
    "- количество используемых продуктов: 2\n",
    "- отток клиентов: 7.6%\n",
    "- средний возраст: 38 лет\n",
    "- средняя зарплата: около 100 000\n",
    "- средний баланс на счёте: 51 000\n",
    "\n",
    "Сегмент 3:\n",
    "\n",
    "- количество используемых продуктов: 3\n",
    "- отток клиентов: 82.7%\n",
    "- средний возраст: 43 лет\n",
    "- средняя зарплата: около 100 000\n",
    "- средний баланс на счёте: 75 000\n",
    "\n",
    "Сегмент 4:\n",
    "\n",
    "- количество используемых продуктов: 4\n",
    "- отток клиентов: 100%\n",
    "- средний возраст: 46 лет\n",
    "- средняя зарплата: около 100 000\n",
    "- средний баланс на счёте: 93 000"
   ]
  },
  {
   "cell_type": "markdown",
   "metadata": {},
   "source": [
    "### 4. Проверка гипотез "
   ]
  },
  {
   "cell_type": "markdown",
   "metadata": {},
   "source": [
    "H0 доходы клиентов, которые пользуются двумя продуктами банка, и теми, которые пользуются одним, не различаются\n",
    "\n",
    "H1 доходы клиентов, которые пользуются двумя продуктами банка, и теми, которые пользуются одним, различаются"
   ]
  },
  {
   "cell_type": "code",
   "execution_count": 21,
   "metadata": {},
   "outputs": [
    {
     "name": "stderr",
     "output_type": "stream",
     "text": [
      "/opt/conda/lib/python3.9/site-packages/seaborn/distributions.py:2557: FutureWarning: `distplot` is a deprecated function and will be removed in a future version. Please adapt your code to use either `displot` (a figure-level function with similar flexibility) or `histplot` (an axes-level function for histograms).\n",
      "  warnings.warn(msg, FutureWarning)\n"
     ]
    },
    {
     "data": {
      "image/png": "[encoded data removed]",
      "text/plain": [
       "<Figure size 432x288 with 1 Axes>"
      ]
     },
     "metadata": {},
     "output_type": "display_data"
    }
   ],
   "source": [
    "sns.distplot(df['estimated_salary']) #распределение доходов клиентов\n",
    "plt.title('Распределение доходов')\n",
    "plt.xlabel('Доходы')\n",
    "plt.ylabel('Плотность')\n",
    "plt.show()"
   ]
  },
  {
   "cell_type": "markdown",
   "metadata": {},
   "source": [
    "Распределение не идеальное, но приближенное к нормальному. Воспользуемся критерием Манна-Уитни, так как он не требует нормального распределения выборок"
   ]
  },
  {
   "cell_type": "code",
   "execution_count": 22,
   "metadata": {},
   "outputs": [
    {
     "name": "stdout",
     "output_type": "stream",
     "text": [
      "p-значение:  0.4079566651927651\n",
      "Не получилось отвергнуть нулевую гипотезу, вывод о различии сделать нельзя\n"
     ]
    }
   ],
   "source": [
    "alpha = 0.05  # критический уровень статистической значимости\n",
    "\n",
    "results = st.mannwhitneyu(df[df['products']==2]['estimated_salary'], df[df['products']==1]['estimated_salary'])\n",
    "\n",
    "print('p-значение: ', results.pvalue)\n",
    "\n",
    "if results.pvalue < alpha:\n",
    "    print('Отвергаем нулевую гипотезу: разница статистически значима')\n",
    "else:\n",
    "    print('Не получилось отвергнуть нулевую гипотезу, вывод о различии сделать нельзя') "
   ]
  },
  {
   "cell_type": "markdown",
   "metadata": {},
   "source": [
    "Статистически значимых различий в доходе клиентов, которые пользуются двумя продуктами банка, и теми, которые пользуются одним, нет"
   ]
  },
  {
   "cell_type": "markdown",
   "metadata": {},
   "source": [
    "H0: Возраст клиентов, ушедших в отток и оставшихся, не различается\n",
    "    \n",
    "H1: Возраст клиентов, ушедших в отток и оставшихся, различается"
   ]
  },
  {
   "cell_type": "markdown",
   "metadata": {},
   "source": [
    "Посмотрим на распределение возраста клиентов"
   ]
  },
  {
   "cell_type": "code",
   "execution_count": 23,
   "metadata": {},
   "outputs": [
    {
     "name": "stderr",
     "output_type": "stream",
     "text": [
      "/opt/conda/lib/python3.9/site-packages/seaborn/distributions.py:2557: FutureWarning: `distplot` is a deprecated function and will be removed in a future version. Please adapt your code to use either `displot` (a figure-level function with similar flexibility) or `histplot` (an axes-level function for histograms).\n",
      "  warnings.warn(msg, FutureWarning)\n"
     ]
    },
    {
     "data": {
      "image/png": "[encoded data removed]",
      "text/plain": [
       "<Figure size 432x288 with 1 Axes>"
      ]
     },
     "metadata": {},
     "output_type": "display_data"
    }
   ],
   "source": [
    "sns.distplot(df['age'])\n",
    "plt.title('Распределение возраста клиентов')\n",
    "plt.xlabel('Возраст')\n",
    "plt.ylabel('Плотность')\n",
    "plt.show()"
   ]
  },
  {
   "cell_type": "markdown",
   "metadata": {},
   "source": [
    "Распределение приближено к нормальному, но есть вбросы ввиде клиентов пожилого возраста. Так же воспользуемся кретерием Манна-Уитни."
   ]
  },
  {
   "cell_type": "code",
   "execution_count": 24,
   "metadata": {},
   "outputs": [
    {
     "name": "stdout",
     "output_type": "stream",
     "text": [
      "p-значение:  3.2104014319371675e-230\n",
      "Отвергаем нулевую гипотезу: разница статистически значима\n"
     ]
    }
   ],
   "source": [
    "alpha = 0.05  # критический уровень статистической значимости\n",
    "\n",
    "results = st.mannwhitneyu(df[df['churn']==1]['age'], df[df['churn']==0]['age'])\n",
    "\n",
    "print('p-значение: ', results.pvalue)\n",
    "\n",
    "if results.pvalue < alpha:\n",
    "    print('Отвергаем нулевую гипотезу: разница статистически значима')\n",
    "else:\n",
    "    print('Не получилось отвергнуть нулевую гипотезу, вывод о различии сделать нельзя') "
   ]
  },
  {
   "cell_type": "markdown",
   "metadata": {},
   "source": [
    "Различие в возрасте тех, кто ушел в отток и кто остался, имеет статистически значимую разницу"
   ]
  },
  {
   "cell_type": "markdown",
   "metadata": {},
   "source": [
    "### 5. Общие выводы и рекомендации"
   ]
  },
  {
   "cell_type": "markdown",
   "metadata": {},
   "source": [
    "В ходе исследования была установлена взаимосвязь признаков и оттока:\n",
    "- среди городов бОльшая доля ушедших клиентов наблюдается в Ростове Великом;\n",
    "- женщины более склонны уходить в отток, чем мужчины;\n",
    "- средний возраст клиентов, ушедших в отток, выше среднего возраста клиентов, которые остались;\n",
    "- чем менее активен клиент, тем он более склонен уйти в отток;\n",
    "- средний баланс на счете у клиентов, которые ушли, выше, чем у клиентов, которые остались;\n",
    "- самая низкая доля оттока у клиентов, которые пользуются 2 продуктами. Кто пользуются 4 продуктами банка - все попадают в отток. У клиентов с 3 продуктами также наблюдается высокая доля оттока.\n",
    "\n",
    "Кроме того, была проведена сегментация пользователей по количеству используемых продуктов:\n",
    "- количество потребляемых продуктов не зависит от пола, наличия  кредитной карты и активности;\n",
    "- баллы кредитного скоринга не зависят на число используемых продуктов;\n",
    "- баланс выше у клиентов, пользующихся либо одним продуктом, либо сразу несколькими;\n",
    "- самые молодые клиенты пользуются двумя продуктами, а самые взрослые - 3 и 4 продуктами банка;\n",
    "- разница между заработной платой незначительная.\n",
    "\n",
    "Описание полученных сегментов:\n",
    "\n",
    "Сегмент 1:\n",
    "\n",
    "- количество используемых продуктов: 1\n",
    "- отток клиентов: 27.7%\n",
    "- средний возраст: 40 лет\n",
    "- средняя зарплата: 99 000\n",
    "- средний баланс на счёте: 98 000\n",
    "\n",
    "Сегмент 2:\n",
    "\n",
    "- количество используемых продуктов: 2\n",
    "- отток клиентов: 7.6%\n",
    "- средний возраст: 38 лет\n",
    "- средняя зарплата: около 100 000\n",
    "- средний баланс на счёте: 51 000\n",
    "\n",
    "Сегмент 3:\n",
    "\n",
    "- количество используемых продуктов: 3\n",
    "- отток клиентов: 82.7%\n",
    "- средний возраст: 43 лет\n",
    "- средняя зарплата: около 100 000\n",
    "- средний баланс на счёте: 75 000\n",
    "\n",
    "Сегмент 4:\n",
    "\n",
    "- количество используемых продуктов: 4\n",
    "- отток клиентов: 100%\n",
    "- средний возраст: 46 лет\n",
    "- средняя зарплата: около 100 000\n",
    "- средний баланс на счёте: 93 000\n",
    "\n",
    "В ходе работы было проверено 2 гипотезы, по результатам которых установлено, что:\n",
    "1. Статистически значимых различий в доходе клиентов, которые пользуются двумя продуктами банка, и теми, которые пользуются одним, нет.\n",
    "2. Различие в возрасте тех, кто ушел в отток и кто остался, имеет статистически значимую разницу.\n",
    "\n",
    "По полученным результатам можно составить портрет клиента, склонного уйти в отток:\n",
    "- проживает в Ростове Великом \n",
    "- чаще клиент женского пола \n",
    "- средний возраст 40-50 лет\n",
    "- неактивный клиент\n",
    "- пользуется 3-4 продуктами банка\n",
    "- высокий уровень дохода (около 100000)\n",
    "- в среднем имеет 5 объектов в собственности\n",
    "\n",
    "Рекомендации:\n",
    "\n",
    "Обратить внимание на клиентов, пользующихся 3 и 4 продуктами банка(сегмент 3 и 4), так как они имеют 82.7% и 100% отток соответственно, и разработать новую стратегии для работы и превлечения новых клиентов. Немаловажно обратить особое внимание на людей пенсионного возраста(основная часть отнесена к сегменту 1 и 2) и ввести льготы на продукты и услуги, так как данная категория клиентов наиболее склонна к оттоку. Возможно необходимо повысить процент по вкладам, так как средний баланс на счете у клиентов, которые ушли, выше, чем у клиентов, которые остались.\n"
   ]
  }
 ],
 "metadata": {
  "ExecuteTimeLog": [
   {
    "duration": 1317,
    "start_time": "2022-09-28T15:42:30.956Z"
   },
   {
    "duration": 133,
    "start_time": "2022-09-28T15:42:32.275Z"
   },
   {
    "duration": 0,
    "start_time": "2022-09-28T15:42:32.411Z"
   },
   {
    "duration": 0,
    "start_time": "2022-09-28T15:42:32.412Z"
   },
   {
    "duration": 0,
    "start_time": "2022-09-28T15:42:32.414Z"
   },
   {
    "duration": 0,
    "start_time": "2022-09-28T15:42:32.416Z"
   },
   {
    "duration": 0,
    "start_time": "2022-09-28T15:42:32.418Z"
   },
   {
    "duration": 0,
    "start_time": "2022-09-28T15:42:32.419Z"
   },
   {
    "duration": 1,
    "start_time": "2022-09-28T15:42:32.420Z"
   },
   {
    "duration": 0,
    "start_time": "2022-09-28T15:42:32.439Z"
   },
   {
    "duration": 0,
    "start_time": "2022-09-28T15:42:32.440Z"
   },
   {
    "duration": 0,
    "start_time": "2022-09-28T15:42:32.442Z"
   },
   {
    "duration": 0,
    "start_time": "2022-09-28T15:42:32.443Z"
   },
   {
    "duration": 0,
    "start_time": "2022-09-28T15:42:32.444Z"
   },
   {
    "duration": 0,
    "start_time": "2022-09-28T15:42:32.446Z"
   },
   {
    "duration": 1,
    "start_time": "2022-09-28T15:42:32.447Z"
   },
   {
    "duration": 0,
    "start_time": "2022-09-28T15:42:32.449Z"
   },
   {
    "duration": 0,
    "start_time": "2022-09-28T15:42:32.450Z"
   },
   {
    "duration": 0,
    "start_time": "2022-09-28T15:42:32.452Z"
   },
   {
    "duration": 0,
    "start_time": "2022-09-28T15:42:32.453Z"
   },
   {
    "duration": 0,
    "start_time": "2022-09-28T15:42:32.455Z"
   },
   {
    "duration": 0,
    "start_time": "2022-09-28T15:42:32.457Z"
   },
   {
    "duration": 0,
    "start_time": "2022-09-28T15:42:32.458Z"
   },
   {
    "duration": 0,
    "start_time": "2022-09-28T15:42:32.459Z"
   },
   {
    "duration": 1188,
    "start_time": "2022-09-28T15:42:45.629Z"
   },
   {
    "duration": 136,
    "start_time": "2022-09-28T15:42:46.819Z"
   },
   {
    "duration": 0,
    "start_time": "2022-09-28T15:42:46.958Z"
   },
   {
    "duration": 0,
    "start_time": "2022-09-28T15:42:46.959Z"
   },
   {
    "duration": 0,
    "start_time": "2022-09-28T15:42:46.960Z"
   },
   {
    "duration": 0,
    "start_time": "2022-09-28T15:42:46.961Z"
   },
   {
    "duration": 0,
    "start_time": "2022-09-28T15:42:46.963Z"
   },
   {
    "duration": 0,
    "start_time": "2022-09-28T15:42:46.964Z"
   },
   {
    "duration": 0,
    "start_time": "2022-09-28T15:42:46.965Z"
   },
   {
    "duration": 0,
    "start_time": "2022-09-28T15:42:46.966Z"
   },
   {
    "duration": 0,
    "start_time": "2022-09-28T15:42:46.967Z"
   },
   {
    "duration": 0,
    "start_time": "2022-09-28T15:42:46.968Z"
   },
   {
    "duration": 0,
    "start_time": "2022-09-28T15:42:46.969Z"
   },
   {
    "duration": 0,
    "start_time": "2022-09-28T15:42:46.970Z"
   },
   {
    "duration": 0,
    "start_time": "2022-09-28T15:42:46.971Z"
   },
   {
    "duration": 0,
    "start_time": "2022-09-28T15:42:46.972Z"
   },
   {
    "duration": 0,
    "start_time": "2022-09-28T15:42:46.973Z"
   },
   {
    "duration": 0,
    "start_time": "2022-09-28T15:42:46.975Z"
   },
   {
    "duration": 0,
    "start_time": "2022-09-28T15:42:46.976Z"
   },
   {
    "duration": 0,
    "start_time": "2022-09-28T15:42:46.977Z"
   },
   {
    "duration": 0,
    "start_time": "2022-09-28T15:42:46.978Z"
   },
   {
    "duration": 0,
    "start_time": "2022-09-28T15:42:46.979Z"
   },
   {
    "duration": 0,
    "start_time": "2022-09-28T15:42:46.980Z"
   },
   {
    "duration": 0,
    "start_time": "2022-09-28T15:42:46.981Z"
   },
   {
    "duration": 1120,
    "start_time": "2022-09-28T15:43:10.489Z"
   },
   {
    "duration": 131,
    "start_time": "2022-09-28T15:43:11.611Z"
   },
   {
    "duration": 0,
    "start_time": "2022-09-28T15:43:11.745Z"
   },
   {
    "duration": 0,
    "start_time": "2022-09-28T15:43:11.746Z"
   },
   {
    "duration": 0,
    "start_time": "2022-09-28T15:43:11.747Z"
   },
   {
    "duration": 0,
    "start_time": "2022-09-28T15:43:11.748Z"
   },
   {
    "duration": 0,
    "start_time": "2022-09-28T15:43:11.749Z"
   },
   {
    "duration": 0,
    "start_time": "2022-09-28T15:43:11.750Z"
   },
   {
    "duration": 0,
    "start_time": "2022-09-28T15:43:11.751Z"
   },
   {
    "duration": 0,
    "start_time": "2022-09-28T15:43:11.752Z"
   },
   {
    "duration": 0,
    "start_time": "2022-09-28T15:43:11.753Z"
   },
   {
    "duration": 0,
    "start_time": "2022-09-28T15:43:11.754Z"
   },
   {
    "duration": 0,
    "start_time": "2022-09-28T15:43:11.755Z"
   },
   {
    "duration": 0,
    "start_time": "2022-09-28T15:43:11.756Z"
   },
   {
    "duration": 0,
    "start_time": "2022-09-28T15:43:11.757Z"
   },
   {
    "duration": 0,
    "start_time": "2022-09-28T15:43:11.758Z"
   },
   {
    "duration": 0,
    "start_time": "2022-09-28T15:43:11.759Z"
   },
   {
    "duration": 0,
    "start_time": "2022-09-28T15:43:11.760Z"
   },
   {
    "duration": 0,
    "start_time": "2022-09-28T15:43:11.761Z"
   },
   {
    "duration": 0,
    "start_time": "2022-09-28T15:43:11.762Z"
   },
   {
    "duration": 0,
    "start_time": "2022-09-28T15:43:11.763Z"
   },
   {
    "duration": 0,
    "start_time": "2022-09-28T15:43:11.764Z"
   },
   {
    "duration": 0,
    "start_time": "2022-09-28T15:43:11.765Z"
   },
   {
    "duration": 0,
    "start_time": "2022-09-28T15:43:11.765Z"
   },
   {
    "duration": 15,
    "start_time": "2022-09-28T15:44:50.058Z"
   },
   {
    "duration": 97,
    "start_time": "2022-09-28T15:48:46.163Z"
   },
   {
    "duration": 1289,
    "start_time": "2022-09-28T15:48:57.053Z"
   },
   {
    "duration": 56,
    "start_time": "2022-09-28T15:48:58.344Z"
   },
   {
    "duration": 14,
    "start_time": "2022-09-28T15:48:58.402Z"
   },
   {
    "duration": 7,
    "start_time": "2022-09-28T15:48:58.418Z"
   },
   {
    "duration": 19,
    "start_time": "2022-09-28T15:48:58.428Z"
   },
   {
    "duration": 3,
    "start_time": "2022-09-28T15:48:58.449Z"
   },
   {
    "duration": 5,
    "start_time": "2022-09-28T15:48:58.454Z"
   },
   {
    "duration": 7,
    "start_time": "2022-09-28T15:48:58.461Z"
   },
   {
    "duration": 70,
    "start_time": "2022-09-28T15:48:58.470Z"
   },
   {
    "duration": 229,
    "start_time": "2022-09-28T15:48:58.542Z"
   },
   {
    "duration": 189,
    "start_time": "2022-09-28T15:48:58.773Z"
   },
   {
    "duration": 176,
    "start_time": "2022-09-28T15:48:58.964Z"
   },
   {
    "duration": 182,
    "start_time": "2022-09-28T15:48:59.142Z"
   },
   {
    "duration": 148,
    "start_time": "2022-09-28T15:48:59.327Z"
   },
   {
    "duration": 153,
    "start_time": "2022-09-28T15:48:59.476Z"
   },
   {
    "duration": 151,
    "start_time": "2022-09-28T15:48:59.630Z"
   },
   {
    "duration": 277,
    "start_time": "2022-09-28T15:48:59.782Z"
   },
   {
    "duration": 245,
    "start_time": "2022-09-28T15:49:00.061Z"
   },
   {
    "duration": 2245,
    "start_time": "2022-09-28T15:49:00.308Z"
   },
   {
    "duration": 1022,
    "start_time": "2022-09-28T15:49:02.554Z"
   },
   {
    "duration": 3,
    "start_time": "2022-09-28T15:49:03.577Z"
   },
   {
    "duration": 1654,
    "start_time": "2022-09-28T15:49:03.582Z"
   },
   {
    "duration": 1949,
    "start_time": "2022-09-28T15:49:05.239Z"
   },
   {
    "duration": 17,
    "start_time": "2022-09-28T15:49:07.191Z"
   },
   {
    "duration": 246,
    "start_time": "2022-09-28T15:58:57.103Z"
   },
   {
    "duration": 202,
    "start_time": "2022-09-28T15:59:01.191Z"
   },
   {
    "duration": 205,
    "start_time": "2022-09-28T15:59:59.939Z"
   },
   {
    "duration": 228,
    "start_time": "2022-09-28T16:00:28.236Z"
   },
   {
    "duration": 188,
    "start_time": "2022-09-28T16:00:47.640Z"
   },
   {
    "duration": 185,
    "start_time": "2022-09-28T16:01:14.892Z"
   },
   {
    "duration": 171,
    "start_time": "2022-09-28T16:01:52.609Z"
   },
   {
    "duration": 397,
    "start_time": "2022-09-28T16:02:07.468Z"
   },
   {
    "duration": 179,
    "start_time": "2022-09-28T16:02:23.680Z"
   },
   {
    "duration": 2564,
    "start_time": "2022-09-28T16:02:33.365Z"
   },
   {
    "duration": 181,
    "start_time": "2022-09-28T16:03:17.007Z"
   },
   {
    "duration": 233,
    "start_time": "2022-09-28T16:03:20.936Z"
   },
   {
    "duration": 258,
    "start_time": "2022-09-28T16:03:35.122Z"
   },
   {
    "duration": 1236,
    "start_time": "2022-09-28T16:03:47.704Z"
   },
   {
    "duration": 64,
    "start_time": "2022-09-28T16:03:48.942Z"
   },
   {
    "duration": 14,
    "start_time": "2022-09-28T16:03:49.007Z"
   },
   {
    "duration": 9,
    "start_time": "2022-09-28T16:03:49.024Z"
   },
   {
    "duration": 12,
    "start_time": "2022-09-28T16:03:49.035Z"
   },
   {
    "duration": 4,
    "start_time": "2022-09-28T16:03:49.048Z"
   },
   {
    "duration": 6,
    "start_time": "2022-09-28T16:03:49.054Z"
   },
   {
    "duration": 10,
    "start_time": "2022-09-28T16:03:49.062Z"
   },
   {
    "duration": 41,
    "start_time": "2022-09-28T16:03:49.073Z"
   },
   {
    "duration": 237,
    "start_time": "2022-09-28T16:03:49.137Z"
   },
   {
    "duration": 213,
    "start_time": "2022-09-28T16:03:49.376Z"
   },
   {
    "duration": 187,
    "start_time": "2022-09-28T16:03:49.591Z"
   },
   {
    "duration": 179,
    "start_time": "2022-09-28T16:03:49.780Z"
   },
   {
    "duration": 158,
    "start_time": "2022-09-28T16:03:49.961Z"
   },
   {
    "duration": 161,
    "start_time": "2022-09-28T16:03:50.121Z"
   },
   {
    "duration": 167,
    "start_time": "2022-09-28T16:03:50.283Z"
   },
   {
    "duration": 377,
    "start_time": "2022-09-28T16:03:50.452Z"
   },
   {
    "duration": 156,
    "start_time": "2022-09-28T16:03:50.838Z"
   },
   {
    "duration": 2332,
    "start_time": "2022-09-28T16:03:50.996Z"
   },
   {
    "duration": 906,
    "start_time": "2022-09-28T16:03:53.330Z"
   },
   {
    "duration": 3,
    "start_time": "2022-09-28T16:03:54.237Z"
   },
   {
    "duration": 1504,
    "start_time": "2022-09-28T16:03:54.242Z"
   },
   {
    "duration": 1950,
    "start_time": "2022-09-28T16:03:55.748Z"
   },
   {
    "duration": 16,
    "start_time": "2022-09-28T16:03:57.700Z"
   },
   {
    "duration": 1524,
    "start_time": "2022-09-29T12:15:05.877Z"
   },
   {
    "duration": 169,
    "start_time": "2022-09-29T12:15:07.403Z"
   },
   {
    "duration": 13,
    "start_time": "2022-09-29T12:15:07.574Z"
   },
   {
    "duration": 8,
    "start_time": "2022-09-29T12:15:07.589Z"
   },
   {
    "duration": 13,
    "start_time": "2022-09-29T12:15:07.599Z"
   },
   {
    "duration": 4,
    "start_time": "2022-09-29T12:15:07.614Z"
   },
   {
    "duration": 6,
    "start_time": "2022-09-29T12:15:07.620Z"
   },
   {
    "duration": 10,
    "start_time": "2022-09-29T12:15:07.628Z"
   },
   {
    "duration": 69,
    "start_time": "2022-09-29T12:15:07.640Z"
   },
   {
    "duration": 255,
    "start_time": "2022-09-29T12:15:07.711Z"
   },
   {
    "duration": 208,
    "start_time": "2022-09-29T12:15:07.968Z"
   },
   {
    "duration": 251,
    "start_time": "2022-09-29T12:15:08.178Z"
   },
   {
    "duration": 395,
    "start_time": "2022-09-29T12:15:08.430Z"
   },
   {
    "duration": 363,
    "start_time": "2022-09-29T12:15:08.828Z"
   },
   {
    "duration": 314,
    "start_time": "2022-09-29T12:15:09.193Z"
   },
   {
    "duration": 295,
    "start_time": "2022-09-29T12:15:09.509Z"
   },
   {
    "duration": 615,
    "start_time": "2022-09-29T12:15:09.806Z"
   },
   {
    "duration": 173,
    "start_time": "2022-09-29T12:15:10.422Z"
   },
   {
    "duration": 2530,
    "start_time": "2022-09-29T12:15:10.597Z"
   },
   {
    "duration": 980,
    "start_time": "2022-09-29T12:15:13.129Z"
   },
   {
    "duration": 3,
    "start_time": "2022-09-29T12:15:14.111Z"
   },
   {
    "duration": 1518,
    "start_time": "2022-09-29T12:15:14.115Z"
   },
   {
    "duration": 1903,
    "start_time": "2022-09-29T12:15:15.635Z"
   },
   {
    "duration": 16,
    "start_time": "2022-09-29T12:15:17.540Z"
   },
   {
    "duration": 1226,
    "start_time": "2022-09-29T12:15:23.688Z"
   },
   {
    "duration": 55,
    "start_time": "2022-09-29T12:15:27.169Z"
   },
   {
    "duration": 15,
    "start_time": "2022-09-29T12:15:33.940Z"
   },
   {
    "duration": 7,
    "start_time": "2022-09-29T12:15:35.936Z"
   },
   {
    "duration": 10,
    "start_time": "2022-09-29T12:15:37.931Z"
   },
   {
    "duration": 5,
    "start_time": "2022-09-29T12:15:40.102Z"
   },
   {
    "duration": 4,
    "start_time": "2022-09-29T12:15:41.071Z"
   },
   {
    "duration": 8,
    "start_time": "2022-09-29T12:15:42.521Z"
   },
   {
    "duration": 46,
    "start_time": "2022-09-29T12:15:44.122Z"
   },
   {
    "duration": 226,
    "start_time": "2022-09-29T12:15:45.890Z"
   },
   {
    "duration": 199,
    "start_time": "2022-09-29T12:15:52.655Z"
   },
   {
    "duration": 171,
    "start_time": "2022-09-29T12:16:00.247Z"
   },
   {
    "duration": 235,
    "start_time": "2022-09-29T12:16:12.092Z"
   },
   {
    "duration": 187,
    "start_time": "2022-09-29T12:16:18.528Z"
   },
   {
    "duration": 206,
    "start_time": "2022-09-29T12:16:32.088Z"
   },
   {
    "duration": 204,
    "start_time": "2022-09-29T12:16:39.230Z"
   },
   {
    "duration": 175,
    "start_time": "2022-09-29T12:16:49.999Z"
   },
   {
    "duration": 332,
    "start_time": "2022-09-29T12:19:35.336Z"
   },
   {
    "duration": 228,
    "start_time": "2022-09-29T12:19:39.471Z"
   },
   {
    "duration": 225,
    "start_time": "2022-09-29T12:19:48.072Z"
   },
   {
    "duration": 205,
    "start_time": "2022-09-29T12:20:16.242Z"
   },
   {
    "duration": 193,
    "start_time": "2022-09-29T12:20:22.968Z"
   },
   {
    "duration": 202,
    "start_time": "2022-09-29T12:20:26.933Z"
   },
   {
    "duration": 345,
    "start_time": "2022-09-29T12:20:31.713Z"
   },
   {
    "duration": 186,
    "start_time": "2022-09-29T12:20:39.933Z"
   },
   {
    "duration": 180,
    "start_time": "2022-09-29T12:20:52.584Z"
   },
   {
    "duration": 177,
    "start_time": "2022-09-29T12:20:58.029Z"
   },
   {
    "duration": 211,
    "start_time": "2022-09-29T12:22:21.923Z"
   },
   {
    "duration": 150,
    "start_time": "2022-09-29T12:22:45.471Z"
   },
   {
    "duration": 150,
    "start_time": "2022-09-29T12:22:51.494Z"
   },
   {
    "duration": 190,
    "start_time": "2022-09-29T12:23:36.111Z"
   },
   {
    "duration": 167,
    "start_time": "2022-09-29T12:23:43.182Z"
   },
   {
    "duration": 153,
    "start_time": "2022-09-29T12:23:54.953Z"
   },
   {
    "duration": 168,
    "start_time": "2022-09-29T12:25:32.182Z"
   },
   {
    "duration": 353,
    "start_time": "2022-09-29T12:25:41.703Z"
   },
   {
    "duration": 256,
    "start_time": "2022-09-29T12:25:47.342Z"
   },
   {
    "duration": 156,
    "start_time": "2022-09-29T12:25:51.452Z"
   },
   {
    "duration": 177,
    "start_time": "2022-09-29T12:27:04.985Z"
   },
   {
    "duration": 172,
    "start_time": "2022-09-29T12:28:51.940Z"
   },
   {
    "duration": 94,
    "start_time": "2022-09-29T12:30:37.819Z"
   },
   {
    "duration": 156,
    "start_time": "2022-09-29T12:30:53.270Z"
   },
   {
    "duration": 133,
    "start_time": "2022-09-29T12:32:26.710Z"
   },
   {
    "duration": 279,
    "start_time": "2022-09-29T12:33:09.300Z"
   },
   {
    "duration": 152,
    "start_time": "2022-09-29T12:33:11.021Z"
   },
   {
    "duration": 2218,
    "start_time": "2022-09-29T12:38:34.566Z"
   },
   {
    "duration": 17,
    "start_time": "2022-09-29T12:53:31.338Z"
   },
   {
    "duration": 73,
    "start_time": "2022-09-29T12:59:57.839Z"
   },
   {
    "duration": 960,
    "start_time": "2022-09-29T13:08:34.481Z"
   },
   {
    "duration": 4,
    "start_time": "2022-09-29T13:12:07.015Z"
   },
   {
    "duration": 1518,
    "start_time": "2022-09-29T13:12:09.691Z"
   },
   {
    "duration": 16,
    "start_time": "2022-09-29T13:13:32.504Z"
   },
   {
    "duration": 1957,
    "start_time": "2022-09-29T13:16:09.797Z"
   },
   {
    "duration": 1749,
    "start_time": "2022-09-29T13:16:32.674Z"
   },
   {
    "duration": 141,
    "start_time": "2022-09-29T13:29:23.321Z"
   },
   {
    "duration": 24,
    "start_time": "2022-09-29T13:29:34.941Z"
   },
   {
    "duration": 21,
    "start_time": "2022-09-29T13:36:05.677Z"
   },
   {
    "duration": 16,
    "start_time": "2022-09-29T13:36:44.689Z"
   },
   {
    "duration": 18,
    "start_time": "2022-09-29T13:36:47.493Z"
   },
   {
    "duration": 15,
    "start_time": "2022-09-29T13:58:40.237Z"
   },
   {
    "duration": 1211,
    "start_time": "2022-09-29T14:04:23.768Z"
   },
   {
    "duration": 65,
    "start_time": "2022-09-29T14:04:24.981Z"
   },
   {
    "duration": 14,
    "start_time": "2022-09-29T14:04:25.047Z"
   },
   {
    "duration": 7,
    "start_time": "2022-09-29T14:04:25.064Z"
   },
   {
    "duration": 33,
    "start_time": "2022-09-29T14:04:25.072Z"
   },
   {
    "duration": 5,
    "start_time": "2022-09-29T14:04:25.107Z"
   },
   {
    "duration": 14,
    "start_time": "2022-09-29T14:04:25.114Z"
   },
   {
    "duration": 10,
    "start_time": "2022-09-29T14:04:25.130Z"
   },
   {
    "duration": 62,
    "start_time": "2022-09-29T14:04:25.143Z"
   },
   {
    "duration": 243,
    "start_time": "2022-09-29T14:04:25.207Z"
   },
   {
    "duration": 188,
    "start_time": "2022-09-29T14:04:25.451Z"
   },
   {
    "duration": 182,
    "start_time": "2022-09-29T14:04:25.641Z"
   },
   {
    "duration": 199,
    "start_time": "2022-09-29T14:04:25.825Z"
   },
   {
    "duration": 172,
    "start_time": "2022-09-29T14:04:26.027Z"
   },
   {
    "duration": 173,
    "start_time": "2022-09-29T14:04:26.201Z"
   },
   {
    "duration": 157,
    "start_time": "2022-09-29T14:04:26.376Z"
   },
   {
    "duration": 384,
    "start_time": "2022-09-29T14:04:26.535Z"
   },
   {
    "duration": 175,
    "start_time": "2022-09-29T14:04:26.921Z"
   },
   {
    "duration": 2585,
    "start_time": "2022-09-29T14:04:27.099Z"
   },
   {
    "duration": 22,
    "start_time": "2022-09-29T14:04:29.685Z"
   },
   {
    "duration": 930,
    "start_time": "2022-09-29T14:04:29.709Z"
   },
   {
    "duration": 3,
    "start_time": "2022-09-29T14:04:30.641Z"
   },
   {
    "duration": 1753,
    "start_time": "2022-09-29T14:04:30.646Z"
   },
   {
    "duration": 1931,
    "start_time": "2022-09-29T14:04:32.402Z"
   },
   {
    "duration": 17,
    "start_time": "2022-09-29T14:04:34.335Z"
   },
   {
    "duration": 14,
    "start_time": "2022-09-29T14:04:34.354Z"
   },
   {
    "duration": 17,
    "start_time": "2022-09-29T14:04:34.392Z"
   },
   {
    "duration": 16,
    "start_time": "2022-09-29T14:05:13.929Z"
   },
   {
    "duration": 295,
    "start_time": "2022-09-29T14:22:16.415Z"
   },
   {
    "duration": 993,
    "start_time": "2022-09-29T14:22:32.030Z"
   },
   {
    "duration": 1136,
    "start_time": "2022-09-29T18:42:25.216Z"
   },
   {
    "duration": 1074,
    "start_time": "2022-09-29T18:51:24.361Z"
   },
   {
    "duration": 3,
    "start_time": "2022-09-29T18:56:53.442Z"
   },
   {
    "duration": 1251,
    "start_time": "2022-09-29T18:56:54.921Z"
   },
   {
    "duration": 3,
    "start_time": "2022-09-29T19:00:51.097Z"
   },
   {
    "duration": 1132,
    "start_time": "2022-09-29T19:00:51.678Z"
   },
   {
    "duration": 1056,
    "start_time": "2022-09-29T19:01:24.929Z"
   },
   {
    "duration": 4,
    "start_time": "2022-09-29T19:03:20.360Z"
   },
   {
    "duration": 766,
    "start_time": "2022-09-29T19:03:23.290Z"
   },
   {
    "duration": 20,
    "start_time": "2022-09-29T19:08:25.914Z"
   },
   {
    "duration": 1203,
    "start_time": "2022-09-29T19:10:49.445Z"
   },
   {
    "duration": 4,
    "start_time": "2022-09-29T19:10:57.961Z"
   },
   {
    "duration": 5,
    "start_time": "2022-09-29T19:11:05.746Z"
   },
   {
    "duration": 14,
    "start_time": "2022-09-29T19:11:21.761Z"
   },
   {
    "duration": 1161,
    "start_time": "2022-09-29T19:11:37.315Z"
   },
   {
    "duration": 56,
    "start_time": "2022-09-29T19:11:38.478Z"
   },
   {
    "duration": 15,
    "start_time": "2022-09-29T19:11:38.536Z"
   },
   {
    "duration": 10,
    "start_time": "2022-09-29T19:11:38.556Z"
   },
   {
    "duration": 16,
    "start_time": "2022-09-29T19:11:38.569Z"
   },
   {
    "duration": 4,
    "start_time": "2022-09-29T19:11:38.590Z"
   },
   {
    "duration": 10,
    "start_time": "2022-09-29T19:11:38.596Z"
   },
   {
    "duration": 10,
    "start_time": "2022-09-29T19:11:38.608Z"
   },
   {
    "duration": 77,
    "start_time": "2022-09-29T19:11:38.620Z"
   },
   {
    "duration": 248,
    "start_time": "2022-09-29T19:11:38.699Z"
   },
   {
    "duration": 186,
    "start_time": "2022-09-29T19:11:38.949Z"
   },
   {
    "duration": 201,
    "start_time": "2022-09-29T19:11:39.137Z"
   },
   {
    "duration": 191,
    "start_time": "2022-09-29T19:11:39.339Z"
   },
   {
    "duration": 166,
    "start_time": "2022-09-29T19:11:39.532Z"
   },
   {
    "duration": 167,
    "start_time": "2022-09-29T19:11:39.699Z"
   },
   {
    "duration": 160,
    "start_time": "2022-09-29T19:11:39.867Z"
   },
   {
    "duration": 382,
    "start_time": "2022-09-29T19:11:40.028Z"
   },
   {
    "duration": 159,
    "start_time": "2022-09-29T19:11:40.412Z"
   },
   {
    "duration": 2524,
    "start_time": "2022-09-29T19:11:40.573Z"
   },
   {
    "duration": 22,
    "start_time": "2022-09-29T19:11:43.099Z"
   },
   {
    "duration": 938,
    "start_time": "2022-09-29T19:11:43.123Z"
   },
   {
    "duration": 3,
    "start_time": "2022-09-29T19:11:44.064Z"
   },
   {
    "duration": 731,
    "start_time": "2022-09-29T19:11:44.069Z"
   },
   {
    "duration": 1065,
    "start_time": "2022-09-29T19:11:44.802Z"
   },
   {
    "duration": 28,
    "start_time": "2022-09-29T19:11:45.869Z"
   },
   {
    "duration": 18,
    "start_time": "2022-09-29T19:11:45.899Z"
   },
   {
    "duration": 20,
    "start_time": "2022-09-29T19:11:45.919Z"
   },
   {
    "duration": 6,
    "start_time": "2022-09-29T19:11:45.941Z"
   },
   {
    "duration": 41,
    "start_time": "2022-09-29T19:11:45.949Z"
   },
   {
    "duration": 16,
    "start_time": "2022-09-29T19:11:45.993Z"
   },
   {
    "duration": 19,
    "start_time": "2022-09-29T19:12:05.136Z"
   },
   {
    "duration": 6,
    "start_time": "2022-09-29T19:12:18.682Z"
   },
   {
    "duration": 16,
    "start_time": "2022-09-29T19:13:58.317Z"
   },
   {
    "duration": 1221,
    "start_time": "2022-09-29T20:01:18.983Z"
   },
   {
    "duration": 57,
    "start_time": "2022-09-29T20:01:20.207Z"
   },
   {
    "duration": 13,
    "start_time": "2022-09-29T20:01:20.266Z"
   },
   {
    "duration": 22,
    "start_time": "2022-09-29T20:01:20.281Z"
   },
   {
    "duration": 30,
    "start_time": "2022-09-29T20:01:20.306Z"
   },
   {
    "duration": 18,
    "start_time": "2022-09-29T20:01:20.338Z"
   },
   {
    "duration": 18,
    "start_time": "2022-09-29T20:01:20.358Z"
   },
   {
    "duration": 20,
    "start_time": "2022-09-29T20:01:20.377Z"
   },
   {
    "duration": 53,
    "start_time": "2022-09-29T20:01:20.398Z"
   },
   {
    "duration": 218,
    "start_time": "2022-09-29T20:01:20.453Z"
   },
   {
    "duration": 205,
    "start_time": "2022-09-29T20:01:20.672Z"
   },
   {
    "duration": 170,
    "start_time": "2022-09-29T20:01:20.879Z"
   },
   {
    "duration": 207,
    "start_time": "2022-09-29T20:01:21.051Z"
   },
   {
    "duration": 189,
    "start_time": "2022-09-29T20:01:21.262Z"
   },
   {
    "duration": 176,
    "start_time": "2022-09-29T20:01:21.453Z"
   },
   {
    "duration": 150,
    "start_time": "2022-09-29T20:01:21.631Z"
   },
   {
    "duration": 436,
    "start_time": "2022-09-29T20:01:21.783Z"
   },
   {
    "duration": 163,
    "start_time": "2022-09-29T20:01:22.221Z"
   },
   {
    "duration": 2344,
    "start_time": "2022-09-29T20:01:22.388Z"
   },
   {
    "duration": 16,
    "start_time": "2022-09-29T20:01:24.734Z"
   },
   {
    "duration": 926,
    "start_time": "2022-09-29T20:01:24.751Z"
   },
   {
    "duration": 4,
    "start_time": "2022-09-29T20:01:25.679Z"
   },
   {
    "duration": 758,
    "start_time": "2022-09-29T20:01:25.684Z"
   },
   {
    "duration": 1060,
    "start_time": "2022-09-29T20:01:26.444Z"
   },
   {
    "duration": 18,
    "start_time": "2022-09-29T20:01:27.506Z"
   },
   {
    "duration": 15,
    "start_time": "2022-09-29T20:01:27.526Z"
   },
   {
    "duration": 14,
    "start_time": "2022-09-29T20:01:27.543Z"
   },
   {
    "duration": 1191,
    "start_time": "2022-10-02T15:12:26.564Z"
   },
   {
    "duration": 92,
    "start_time": "2022-10-02T15:12:27.756Z"
   },
   {
    "duration": 10,
    "start_time": "2022-10-02T15:12:27.850Z"
   },
   {
    "duration": 5,
    "start_time": "2022-10-02T15:12:27.862Z"
   },
   {
    "duration": 8,
    "start_time": "2022-10-02T15:12:27.868Z"
   },
   {
    "duration": 3,
    "start_time": "2022-10-02T15:12:27.877Z"
   },
   {
    "duration": 12,
    "start_time": "2022-10-02T15:12:27.881Z"
   },
   {
    "duration": 8,
    "start_time": "2022-10-02T15:12:27.894Z"
   },
   {
    "duration": 34,
    "start_time": "2022-10-02T15:12:27.908Z"
   },
   {
    "duration": 190,
    "start_time": "2022-10-02T15:12:27.945Z"
   },
   {
    "duration": 153,
    "start_time": "2022-10-02T15:12:28.136Z"
   },
   {
    "duration": 145,
    "start_time": "2022-10-02T15:12:28.291Z"
   },
   {
    "duration": 151,
    "start_time": "2022-10-02T15:12:28.437Z"
   },
   {
    "duration": 129,
    "start_time": "2022-10-02T15:12:28.589Z"
   },
   {
    "duration": 135,
    "start_time": "2022-10-02T15:12:28.720Z"
   },
   {
    "duration": 125,
    "start_time": "2022-10-02T15:12:28.857Z"
   },
   {
    "duration": 280,
    "start_time": "2022-10-02T15:12:28.984Z"
   },
   {
    "duration": 128,
    "start_time": "2022-10-02T15:12:29.265Z"
   },
   {
    "duration": 1886,
    "start_time": "2022-10-02T15:12:29.394Z"
   },
   {
    "duration": 12,
    "start_time": "2022-10-02T15:12:31.282Z"
   },
   {
    "duration": 789,
    "start_time": "2022-10-02T15:12:31.295Z"
   },
   {
    "duration": 3,
    "start_time": "2022-10-02T15:12:32.085Z"
   },
   {
    "duration": 654,
    "start_time": "2022-10-02T15:12:32.089Z"
   },
   {
    "duration": 860,
    "start_time": "2022-10-02T15:12:32.744Z"
   },
   {
    "duration": 13,
    "start_time": "2022-10-02T15:12:33.609Z"
   },
   {
    "duration": 204,
    "start_time": "2022-10-02T15:12:33.623Z"
   },
   {
    "duration": 14,
    "start_time": "2022-10-02T15:12:33.830Z"
   },
   {
    "duration": 10,
    "start_time": "2022-10-02T15:12:33.847Z"
   },
   {
    "duration": 185,
    "start_time": "2022-10-02T15:12:52.627Z"
   },
   {
    "duration": 167,
    "start_time": "2022-10-02T15:13:19.762Z"
   },
   {
    "duration": 270,
    "start_time": "2022-10-02T15:14:01.034Z"
   },
   {
    "duration": 167,
    "start_time": "2022-10-02T15:14:27.410Z"
   },
   {
    "duration": 173,
    "start_time": "2022-10-02T15:15:31.677Z"
   },
   {
    "duration": 169,
    "start_time": "2022-10-02T15:16:10.744Z"
   },
   {
    "duration": 222,
    "start_time": "2022-10-02T15:16:55.901Z"
   },
   {
    "duration": 50,
    "start_time": "2022-10-02T15:29:30.784Z"
   },
   {
    "duration": 1093,
    "start_time": "2022-10-02T15:46:41.406Z"
   },
   {
    "duration": 52,
    "start_time": "2022-10-02T15:46:42.501Z"
   },
   {
    "duration": 12,
    "start_time": "2022-10-02T15:46:42.555Z"
   },
   {
    "duration": 7,
    "start_time": "2022-10-02T15:46:42.568Z"
   },
   {
    "duration": 8,
    "start_time": "2022-10-02T15:46:42.577Z"
   },
   {
    "duration": 3,
    "start_time": "2022-10-02T15:46:42.586Z"
   },
   {
    "duration": 4,
    "start_time": "2022-10-02T15:46:42.590Z"
   },
   {
    "duration": 13,
    "start_time": "2022-10-02T15:46:42.596Z"
   },
   {
    "duration": 32,
    "start_time": "2022-10-02T15:46:42.611Z"
   },
   {
    "duration": 209,
    "start_time": "2022-10-02T15:46:42.644Z"
   },
   {
    "duration": 156,
    "start_time": "2022-10-02T15:46:42.855Z"
   },
   {
    "duration": 136,
    "start_time": "2022-10-02T15:46:43.012Z"
   },
   {
    "duration": 154,
    "start_time": "2022-10-02T15:46:43.149Z"
   },
   {
    "duration": 129,
    "start_time": "2022-10-02T15:46:43.308Z"
   },
   {
    "duration": 132,
    "start_time": "2022-10-02T15:46:43.439Z"
   },
   {
    "duration": 140,
    "start_time": "2022-10-02T15:46:43.572Z"
   },
   {
    "duration": 291,
    "start_time": "2022-10-02T15:46:43.713Z"
   },
   {
    "duration": 132,
    "start_time": "2022-10-02T15:46:44.008Z"
   },
   {
    "duration": 2782,
    "start_time": "2022-10-02T15:46:44.141Z"
   },
   {
    "duration": 14,
    "start_time": "2022-10-02T15:46:46.925Z"
   },
   {
    "duration": 731,
    "start_time": "2022-10-02T15:46:46.941Z"
   },
   {
    "duration": 3,
    "start_time": "2022-10-02T15:46:47.673Z"
   },
   {
    "duration": 638,
    "start_time": "2022-10-02T15:46:47.677Z"
   },
   {
    "duration": 859,
    "start_time": "2022-10-02T15:46:48.316Z"
   },
   {
    "duration": 13,
    "start_time": "2022-10-02T15:46:49.176Z"
   },
   {
    "duration": 183,
    "start_time": "2022-10-02T15:46:49.190Z"
   },
   {
    "duration": 13,
    "start_time": "2022-10-02T15:46:49.375Z"
   },
   {
    "duration": 222,
    "start_time": "2022-10-02T15:46:49.389Z"
   },
   {
    "duration": 12,
    "start_time": "2022-10-02T15:46:49.613Z"
   },
   {
    "duration": 56,
    "start_time": "2022-10-03T16:47:49.314Z"
   },
   {
    "duration": 1248,
    "start_time": "2022-10-03T16:47:58.696Z"
   },
   {
    "duration": 340,
    "start_time": "2022-10-03T16:47:59.946Z"
   },
   {
    "duration": 11,
    "start_time": "2022-10-03T16:48:00.288Z"
   },
   {
    "duration": 27,
    "start_time": "2022-10-03T16:48:00.301Z"
   },
   {
    "duration": 56,
    "start_time": "2022-10-03T16:48:00.329Z"
   },
   {
    "duration": 31,
    "start_time": "2022-10-03T16:48:00.386Z"
   },
   {
    "duration": 34,
    "start_time": "2022-10-03T16:48:00.418Z"
   },
   {
    "duration": 33,
    "start_time": "2022-10-03T16:48:00.454Z"
   },
   {
    "duration": 51,
    "start_time": "2022-10-03T16:48:00.489Z"
   },
   {
    "duration": 184,
    "start_time": "2022-10-03T16:48:00.544Z"
   },
   {
    "duration": 149,
    "start_time": "2022-10-03T16:48:00.730Z"
   },
   {
    "duration": 145,
    "start_time": "2022-10-03T16:48:00.881Z"
   },
   {
    "duration": 180,
    "start_time": "2022-10-03T16:48:01.028Z"
   },
   {
    "duration": 141,
    "start_time": "2022-10-03T16:48:01.210Z"
   },
   {
    "duration": 142,
    "start_time": "2022-10-03T16:48:01.352Z"
   },
   {
    "duration": 127,
    "start_time": "2022-10-03T16:48:01.495Z"
   },
   {
    "duration": 287,
    "start_time": "2022-10-03T16:48:01.623Z"
   },
   {
    "duration": 138,
    "start_time": "2022-10-03T16:48:01.912Z"
   },
   {
    "duration": 2086,
    "start_time": "2022-10-03T16:48:02.052Z"
   },
   {
    "duration": 13,
    "start_time": "2022-10-03T16:48:04.139Z"
   },
   {
    "duration": 842,
    "start_time": "2022-10-03T16:48:04.154Z"
   },
   {
    "duration": 3,
    "start_time": "2022-10-03T16:48:04.997Z"
   },
   {
    "duration": 633,
    "start_time": "2022-10-03T16:48:05.001Z"
   },
   {
    "duration": 917,
    "start_time": "2022-10-03T16:48:05.636Z"
   },
   {
    "duration": 13,
    "start_time": "2022-10-03T16:48:06.555Z"
   },
   {
    "duration": 96,
    "start_time": "2022-10-03T16:48:06.569Z"
   },
   {
    "duration": 0,
    "start_time": "2022-10-03T16:48:06.667Z"
   },
   {
    "duration": 0,
    "start_time": "2022-10-03T16:48:06.668Z"
   },
   {
    "duration": 0,
    "start_time": "2022-10-03T16:48:06.669Z"
   },
   {
    "duration": 0,
    "start_time": "2022-10-03T16:48:06.670Z"
   },
   {
    "duration": 6,
    "start_time": "2022-10-03T16:49:05.343Z"
   },
   {
    "duration": 10,
    "start_time": "2022-10-03T16:49:51.935Z"
   },
   {
    "duration": 9,
    "start_time": "2022-10-03T16:50:14.401Z"
   },
   {
    "duration": 6,
    "start_time": "2022-10-03T16:51:49.039Z"
   },
   {
    "duration": 8,
    "start_time": "2022-10-03T16:52:56.483Z"
   },
   {
    "duration": 8,
    "start_time": "2022-10-03T16:53:26.294Z"
   },
   {
    "duration": 1044,
    "start_time": "2022-10-03T17:21:07.660Z"
   },
   {
    "duration": 49,
    "start_time": "2022-10-03T17:21:08.705Z"
   },
   {
    "duration": 10,
    "start_time": "2022-10-03T17:21:08.755Z"
   },
   {
    "duration": 5,
    "start_time": "2022-10-03T17:21:08.767Z"
   },
   {
    "duration": 13,
    "start_time": "2022-10-03T17:21:08.773Z"
   },
   {
    "duration": 3,
    "start_time": "2022-10-03T17:21:08.787Z"
   },
   {
    "duration": 5,
    "start_time": "2022-10-03T17:21:08.792Z"
   },
   {
    "duration": 9,
    "start_time": "2022-10-03T17:21:08.798Z"
   },
   {
    "duration": 42,
    "start_time": "2022-10-03T17:21:08.808Z"
   },
   {
    "duration": 194,
    "start_time": "2022-10-03T17:21:08.852Z"
   },
   {
    "duration": 148,
    "start_time": "2022-10-03T17:21:09.048Z"
   },
   {
    "duration": 134,
    "start_time": "2022-10-03T17:21:09.197Z"
   },
   {
    "duration": 150,
    "start_time": "2022-10-03T17:21:09.332Z"
   },
   {
    "duration": 130,
    "start_time": "2022-10-03T17:21:09.484Z"
   },
   {
    "duration": 130,
    "start_time": "2022-10-03T17:21:09.616Z"
   },
   {
    "duration": 119,
    "start_time": "2022-10-03T17:21:09.748Z"
   },
   {
    "duration": 290,
    "start_time": "2022-10-03T17:21:09.868Z"
   },
   {
    "duration": 130,
    "start_time": "2022-10-03T17:21:10.160Z"
   },
   {
    "duration": 1977,
    "start_time": "2022-10-03T17:21:10.291Z"
   },
   {
    "duration": 14,
    "start_time": "2022-10-03T17:21:12.269Z"
   },
   {
    "duration": 872,
    "start_time": "2022-10-03T17:21:12.284Z"
   },
   {
    "duration": 2,
    "start_time": "2022-10-03T17:21:13.158Z"
   },
   {
    "duration": 646,
    "start_time": "2022-10-03T17:21:13.162Z"
   },
   {
    "duration": 873,
    "start_time": "2022-10-03T17:21:13.809Z"
   },
   {
    "duration": 185,
    "start_time": "2022-10-03T17:21:14.683Z"
   },
   {
    "duration": 12,
    "start_time": "2022-10-03T17:21:14.870Z"
   },
   {
    "duration": 238,
    "start_time": "2022-10-03T17:21:14.883Z"
   },
   {
    "duration": 12,
    "start_time": "2022-10-03T17:21:15.124Z"
   },
   {
    "duration": 1097,
    "start_time": "2022-10-03T18:10:11.298Z"
   },
   {
    "duration": 48,
    "start_time": "2022-10-03T18:10:12.397Z"
   },
   {
    "duration": 10,
    "start_time": "2022-10-03T18:10:12.447Z"
   },
   {
    "duration": 8,
    "start_time": "2022-10-03T18:10:12.458Z"
   },
   {
    "duration": 10,
    "start_time": "2022-10-03T18:10:12.468Z"
   },
   {
    "duration": 3,
    "start_time": "2022-10-03T18:10:12.479Z"
   },
   {
    "duration": 5,
    "start_time": "2022-10-03T18:10:12.483Z"
   },
   {
    "duration": 8,
    "start_time": "2022-10-03T18:10:12.490Z"
   },
   {
    "duration": 59,
    "start_time": "2022-10-03T18:10:12.499Z"
   },
   {
    "duration": 183,
    "start_time": "2022-10-03T18:10:12.559Z"
   },
   {
    "duration": 151,
    "start_time": "2022-10-03T18:10:12.744Z"
   },
   {
    "duration": 142,
    "start_time": "2022-10-03T18:10:12.896Z"
   },
   {
    "duration": 148,
    "start_time": "2022-10-03T18:10:13.039Z"
   },
   {
    "duration": 131,
    "start_time": "2022-10-03T18:10:13.189Z"
   },
   {
    "duration": 138,
    "start_time": "2022-10-03T18:10:13.323Z"
   },
   {
    "duration": 127,
    "start_time": "2022-10-03T18:10:13.463Z"
   },
   {
    "duration": 294,
    "start_time": "2022-10-03T18:10:13.592Z"
   },
   {
    "duration": 137,
    "start_time": "2022-10-03T18:10:13.888Z"
   },
   {
    "duration": 1985,
    "start_time": "2022-10-03T18:10:14.027Z"
   },
   {
    "duration": 22,
    "start_time": "2022-10-03T18:10:16.014Z"
   },
   {
    "duration": 762,
    "start_time": "2022-10-03T18:10:16.038Z"
   },
   {
    "duration": 3,
    "start_time": "2022-10-03T18:10:16.802Z"
   },
   {
    "duration": 633,
    "start_time": "2022-10-03T18:10:16.807Z"
   },
   {
    "duration": 871,
    "start_time": "2022-10-03T18:10:17.442Z"
   },
   {
    "duration": 180,
    "start_time": "2022-10-03T18:10:18.315Z"
   },
   {
    "duration": 26,
    "start_time": "2022-10-03T18:10:18.497Z"
   },
   {
    "duration": 212,
    "start_time": "2022-10-03T18:10:18.525Z"
   },
   {
    "duration": 12,
    "start_time": "2022-10-03T18:10:18.738Z"
   },
   {
    "duration": 1084,
    "start_time": "2022-10-03T18:27:41.288Z"
   },
   {
    "duration": 49,
    "start_time": "2022-10-03T18:27:42.373Z"
   },
   {
    "duration": 11,
    "start_time": "2022-10-03T18:27:42.424Z"
   },
   {
    "duration": 17,
    "start_time": "2022-10-03T18:27:42.437Z"
   },
   {
    "duration": 35,
    "start_time": "2022-10-03T18:27:42.455Z"
   },
   {
    "duration": 15,
    "start_time": "2022-10-03T18:27:42.491Z"
   },
   {
    "duration": 15,
    "start_time": "2022-10-03T18:27:42.508Z"
   },
   {
    "duration": 17,
    "start_time": "2022-10-03T18:27:42.525Z"
   },
   {
    "duration": 79,
    "start_time": "2022-10-03T18:27:42.544Z"
   },
   {
    "duration": 192,
    "start_time": "2022-10-03T18:27:42.626Z"
   },
   {
    "duration": 146,
    "start_time": "2022-10-03T18:27:42.822Z"
   },
   {
    "duration": 129,
    "start_time": "2022-10-03T18:27:42.969Z"
   },
   {
    "duration": 149,
    "start_time": "2022-10-03T18:27:43.100Z"
   },
   {
    "duration": 134,
    "start_time": "2022-10-03T18:27:43.250Z"
   },
   {
    "duration": 138,
    "start_time": "2022-10-03T18:27:43.385Z"
   },
   {
    "duration": 123,
    "start_time": "2022-10-03T18:27:43.525Z"
   },
   {
    "duration": 485,
    "start_time": "2022-10-03T18:27:43.650Z"
   },
   {
    "duration": 291,
    "start_time": "2022-10-03T18:27:44.137Z"
   },
   {
    "duration": 2514,
    "start_time": "2022-10-03T18:27:44.430Z"
   },
   {
    "duration": 13,
    "start_time": "2022-10-03T18:27:46.946Z"
   },
   {
    "duration": 763,
    "start_time": "2022-10-03T18:27:46.961Z"
   },
   {
    "duration": 2,
    "start_time": "2022-10-03T18:27:47.726Z"
   },
   {
    "duration": 726,
    "start_time": "2022-10-03T18:27:47.730Z"
   },
   {
    "duration": 976,
    "start_time": "2022-10-03T18:27:48.458Z"
   },
   {
    "duration": 213,
    "start_time": "2022-10-03T18:27:49.436Z"
   },
   {
    "duration": 14,
    "start_time": "2022-10-03T18:27:49.651Z"
   },
   {
    "duration": 267,
    "start_time": "2022-10-03T18:27:49.666Z"
   },
   {
    "duration": 15,
    "start_time": "2022-10-03T18:27:49.936Z"
   },
   {
    "duration": 1040,
    "start_time": "2022-10-03T18:32:34.578Z"
   },
   {
    "duration": 57,
    "start_time": "2022-10-03T18:32:35.619Z"
   },
   {
    "duration": 11,
    "start_time": "2022-10-03T18:32:35.678Z"
   },
   {
    "duration": 20,
    "start_time": "2022-10-03T18:32:35.691Z"
   },
   {
    "duration": 25,
    "start_time": "2022-10-03T18:32:35.713Z"
   },
   {
    "duration": 14,
    "start_time": "2022-10-03T18:32:35.739Z"
   },
   {
    "duration": 17,
    "start_time": "2022-10-03T18:32:35.755Z"
   },
   {
    "duration": 16,
    "start_time": "2022-10-03T18:32:35.774Z"
   },
   {
    "duration": 71,
    "start_time": "2022-10-03T18:32:35.792Z"
   },
   {
    "duration": 216,
    "start_time": "2022-10-03T18:32:35.864Z"
   },
   {
    "duration": 187,
    "start_time": "2022-10-03T18:32:36.082Z"
   },
   {
    "duration": 141,
    "start_time": "2022-10-03T18:32:36.270Z"
   },
   {
    "duration": 146,
    "start_time": "2022-10-03T18:32:36.412Z"
   },
   {
    "duration": 137,
    "start_time": "2022-10-03T18:32:36.560Z"
   },
   {
    "duration": 134,
    "start_time": "2022-10-03T18:32:36.699Z"
   },
   {
    "duration": 129,
    "start_time": "2022-10-03T18:32:36.835Z"
   },
   {
    "duration": 308,
    "start_time": "2022-10-03T18:32:36.965Z"
   },
   {
    "duration": 139,
    "start_time": "2022-10-03T18:32:37.275Z"
   },
   {
    "duration": 1911,
    "start_time": "2022-10-03T18:32:37.415Z"
   },
   {
    "duration": 13,
    "start_time": "2022-10-03T18:32:39.327Z"
   },
   {
    "duration": 719,
    "start_time": "2022-10-03T18:32:39.341Z"
   },
   {
    "duration": 2,
    "start_time": "2022-10-03T18:32:40.062Z"
   },
   {
    "duration": 619,
    "start_time": "2022-10-03T18:32:40.065Z"
   },
   {
    "duration": 862,
    "start_time": "2022-10-03T18:32:40.686Z"
   },
   {
    "duration": 217,
    "start_time": "2022-10-03T18:32:41.550Z"
   },
   {
    "duration": 14,
    "start_time": "2022-10-03T18:32:41.768Z"
   },
   {
    "duration": 229,
    "start_time": "2022-10-03T18:32:41.783Z"
   },
   {
    "duration": 18,
    "start_time": "2022-10-03T18:32:42.013Z"
   },
   {
    "duration": 1118,
    "start_time": "2022-10-03T18:37:03.056Z"
   },
   {
    "duration": 50,
    "start_time": "2022-10-03T18:37:04.176Z"
   },
   {
    "duration": 11,
    "start_time": "2022-10-03T18:37:04.228Z"
   },
   {
    "duration": 13,
    "start_time": "2022-10-03T18:37:04.241Z"
   },
   {
    "duration": 11,
    "start_time": "2022-10-03T18:37:04.256Z"
   },
   {
    "duration": 3,
    "start_time": "2022-10-03T18:37:04.268Z"
   },
   {
    "duration": 6,
    "start_time": "2022-10-03T18:37:04.272Z"
   },
   {
    "duration": 9,
    "start_time": "2022-10-03T18:37:04.280Z"
   },
   {
    "duration": 54,
    "start_time": "2022-10-03T18:37:04.290Z"
   },
   {
    "duration": 197,
    "start_time": "2022-10-03T18:37:04.346Z"
   },
   {
    "duration": 151,
    "start_time": "2022-10-03T18:37:04.544Z"
   },
   {
    "duration": 127,
    "start_time": "2022-10-03T18:37:04.697Z"
   },
   {
    "duration": 162,
    "start_time": "2022-10-03T18:37:04.826Z"
   },
   {
    "duration": 144,
    "start_time": "2022-10-03T18:37:04.989Z"
   },
   {
    "duration": 139,
    "start_time": "2022-10-03T18:37:05.134Z"
   },
   {
    "duration": 133,
    "start_time": "2022-10-03T18:37:05.275Z"
   },
   {
    "duration": 325,
    "start_time": "2022-10-03T18:37:05.410Z"
   },
   {
    "duration": 142,
    "start_time": "2022-10-03T18:37:05.737Z"
   },
   {
    "duration": 1961,
    "start_time": "2022-10-03T18:37:05.880Z"
   },
   {
    "duration": 16,
    "start_time": "2022-10-03T18:37:07.842Z"
   },
   {
    "duration": 737,
    "start_time": "2022-10-03T18:37:07.859Z"
   },
   {
    "duration": 2,
    "start_time": "2022-10-03T18:37:08.598Z"
   },
   {
    "duration": 620,
    "start_time": "2022-10-03T18:37:08.601Z"
   },
   {
    "duration": 876,
    "start_time": "2022-10-03T18:37:09.223Z"
   },
   {
    "duration": 186,
    "start_time": "2022-10-03T18:37:10.101Z"
   },
   {
    "duration": 14,
    "start_time": "2022-10-03T18:37:10.288Z"
   },
   {
    "duration": 236,
    "start_time": "2022-10-03T18:37:10.303Z"
   },
   {
    "duration": 11,
    "start_time": "2022-10-03T18:37:10.542Z"
   },
   {
    "duration": 7,
    "start_time": "2022-10-04T10:19:37.590Z"
   },
   {
    "duration": 69,
    "start_time": "2022-10-04T10:25:25.792Z"
   },
   {
    "duration": 52,
    "start_time": "2022-10-04T11:44:00.877Z"
   },
   {
    "duration": 1344,
    "start_time": "2022-10-04T11:44:07.681Z"
   },
   {
    "duration": 96,
    "start_time": "2022-10-04T11:44:09.027Z"
   },
   {
    "duration": 13,
    "start_time": "2022-10-04T11:44:09.126Z"
   },
   {
    "duration": 7,
    "start_time": "2022-10-04T11:44:09.141Z"
   },
   {
    "duration": 12,
    "start_time": "2022-10-04T11:44:09.150Z"
   },
   {
    "duration": 3,
    "start_time": "2022-10-04T11:44:09.164Z"
   },
   {
    "duration": 10,
    "start_time": "2022-10-04T11:44:09.170Z"
   },
   {
    "duration": 10,
    "start_time": "2022-10-04T11:44:09.182Z"
   },
   {
    "duration": 67,
    "start_time": "2022-10-04T11:44:09.193Z"
   },
   {
    "duration": 218,
    "start_time": "2022-10-04T11:44:09.262Z"
   },
   {
    "duration": 182,
    "start_time": "2022-10-04T11:44:09.482Z"
   },
   {
    "duration": 165,
    "start_time": "2022-10-04T11:44:09.666Z"
   },
   {
    "duration": 189,
    "start_time": "2022-10-04T11:44:09.833Z"
   },
   {
    "duration": 155,
    "start_time": "2022-10-04T11:44:10.024Z"
   },
   {
    "duration": 174,
    "start_time": "2022-10-04T11:44:10.180Z"
   },
   {
    "duration": 146,
    "start_time": "2022-10-04T11:44:10.356Z"
   },
   {
    "duration": 376,
    "start_time": "2022-10-04T11:44:10.504Z"
   },
   {
    "duration": 156,
    "start_time": "2022-10-04T11:44:10.882Z"
   },
   {
    "duration": 2298,
    "start_time": "2022-10-04T11:44:11.040Z"
   },
   {
    "duration": 15,
    "start_time": "2022-10-04T11:44:13.340Z"
   },
   {
    "duration": 887,
    "start_time": "2022-10-04T11:44:13.357Z"
   },
   {
    "duration": 3,
    "start_time": "2022-10-04T11:44:14.246Z"
   },
   {
    "duration": 776,
    "start_time": "2022-10-04T11:44:14.250Z"
   },
   {
    "duration": 1049,
    "start_time": "2022-10-04T11:44:15.027Z"
   },
   {
    "duration": 17,
    "start_time": "2022-10-04T11:44:16.077Z"
   },
   {
    "duration": 245,
    "start_time": "2022-10-04T11:44:16.096Z"
   },
   {
    "duration": 16,
    "start_time": "2022-10-04T11:44:16.343Z"
   },
   {
    "duration": 288,
    "start_time": "2022-10-04T11:44:16.362Z"
   },
   {
    "duration": 14,
    "start_time": "2022-10-04T11:44:16.651Z"
   },
   {
    "duration": 45,
    "start_time": "2022-10-04T12:21:57.888Z"
   },
   {
    "duration": 3,
    "start_time": "2022-10-04T12:28:19.314Z"
   },
   {
    "duration": 58,
    "start_time": "2022-10-04T12:28:25.370Z"
   },
   {
    "duration": 975,
    "start_time": "2022-10-04T12:28:53.310Z"
   },
   {
    "duration": 1139,
    "start_time": "2022-10-04T12:29:54.594Z"
   },
   {
    "duration": 54,
    "start_time": "2022-10-04T12:29:55.735Z"
   },
   {
    "duration": 12,
    "start_time": "2022-10-04T12:29:55.791Z"
   },
   {
    "duration": 8,
    "start_time": "2022-10-04T12:29:55.804Z"
   },
   {
    "duration": 17,
    "start_time": "2022-10-04T12:29:55.814Z"
   },
   {
    "duration": 7,
    "start_time": "2022-10-04T12:29:55.832Z"
   },
   {
    "duration": 9,
    "start_time": "2022-10-04T12:29:55.840Z"
   },
   {
    "duration": 9,
    "start_time": "2022-10-04T12:29:55.850Z"
   },
   {
    "duration": 47,
    "start_time": "2022-10-04T12:29:55.861Z"
   },
   {
    "duration": 222,
    "start_time": "2022-10-04T12:29:55.910Z"
   },
   {
    "duration": 174,
    "start_time": "2022-10-04T12:29:56.138Z"
   },
   {
    "duration": 157,
    "start_time": "2022-10-04T12:29:56.314Z"
   },
   {
    "duration": 188,
    "start_time": "2022-10-04T12:29:56.472Z"
   },
   {
    "duration": 157,
    "start_time": "2022-10-04T12:29:56.662Z"
   },
   {
    "duration": 156,
    "start_time": "2022-10-04T12:29:56.821Z"
   },
   {
    "duration": 151,
    "start_time": "2022-10-04T12:29:56.979Z"
   },
   {
    "duration": 432,
    "start_time": "2022-10-04T12:29:57.132Z"
   },
   {
    "duration": 163,
    "start_time": "2022-10-04T12:29:57.565Z"
   },
   {
    "duration": 3,
    "start_time": "2022-10-04T12:30:09.738Z"
   },
   {
    "duration": 99,
    "start_time": "2022-10-04T12:30:23.804Z"
   },
   {
    "duration": 341,
    "start_time": "2022-10-04T12:30:37.979Z"
   },
   {
    "duration": 1557,
    "start_time": "2022-10-04T12:33:47.192Z"
   },
   {
    "duration": 1455,
    "start_time": "2022-10-04T12:34:18.650Z"
   },
   {
    "duration": 1460,
    "start_time": "2022-10-04T12:34:52.437Z"
   },
   {
    "duration": 179,
    "start_time": "2022-10-04T12:37:05.888Z"
   },
   {
    "duration": 1560,
    "start_time": "2022-10-04T12:38:02.585Z"
   },
   {
    "duration": 1609,
    "start_time": "2022-10-04T12:38:08.560Z"
   },
   {
    "duration": 1601,
    "start_time": "2022-10-04T12:38:13.522Z"
   },
   {
    "duration": 178,
    "start_time": "2022-10-04T12:38:25.717Z"
   },
   {
    "duration": 1585,
    "start_time": "2022-10-04T12:38:39.595Z"
   },
   {
    "duration": 1278,
    "start_time": "2022-10-04T12:47:40.577Z"
   },
   {
    "duration": 68,
    "start_time": "2022-10-04T12:47:41.858Z"
   },
   {
    "duration": 15,
    "start_time": "2022-10-04T12:47:41.929Z"
   },
   {
    "duration": 8,
    "start_time": "2022-10-04T12:47:41.947Z"
   },
   {
    "duration": 11,
    "start_time": "2022-10-04T12:47:41.956Z"
   },
   {
    "duration": 4,
    "start_time": "2022-10-04T12:47:41.968Z"
   },
   {
    "duration": 6,
    "start_time": "2022-10-04T12:47:41.974Z"
   },
   {
    "duration": 15,
    "start_time": "2022-10-04T12:47:41.982Z"
   },
   {
    "duration": 66,
    "start_time": "2022-10-04T12:47:41.999Z"
   },
   {
    "duration": 2644,
    "start_time": "2022-10-04T12:47:42.067Z"
   },
   {
    "duration": 2302,
    "start_time": "2022-10-04T12:47:44.713Z"
   },
   {
    "duration": 32,
    "start_time": "2022-10-04T12:47:47.016Z"
   },
   {
    "duration": 1106,
    "start_time": "2022-10-04T12:47:47.050Z"
   },
   {
    "duration": 3,
    "start_time": "2022-10-04T12:47:48.158Z"
   },
   {
    "duration": 834,
    "start_time": "2022-10-04T12:47:48.163Z"
   },
   {
    "duration": 994,
    "start_time": "2022-10-04T12:47:48.999Z"
   },
   {
    "duration": 17,
    "start_time": "2022-10-04T12:47:49.995Z"
   },
   {
    "duration": 269,
    "start_time": "2022-10-04T12:47:50.014Z"
   },
   {
    "duration": 16,
    "start_time": "2022-10-04T12:47:50.285Z"
   },
   {
    "duration": 413,
    "start_time": "2022-10-04T12:47:50.302Z"
   },
   {
    "duration": 23,
    "start_time": "2022-10-04T12:47:50.717Z"
   },
   {
    "duration": 43,
    "start_time": "2022-10-04T13:07:00.651Z"
   },
   {
    "duration": 1569,
    "start_time": "2022-10-04T16:04:21.480Z"
   },
   {
    "duration": 15,
    "start_time": "2022-10-04T16:04:49.996Z"
   },
   {
    "duration": 31,
    "start_time": "2022-10-04T16:04:56.597Z"
   },
   {
    "duration": 14,
    "start_time": "2022-10-04T16:05:20.973Z"
   },
   {
    "duration": 109,
    "start_time": "2022-10-04T16:06:24.151Z"
   },
   {
    "duration": 19,
    "start_time": "2022-10-04T16:06:34.947Z"
   },
   {
    "duration": 8,
    "start_time": "2022-10-04T16:07:58.705Z"
   },
   {
    "duration": 181,
    "start_time": "2022-10-04T16:13:13.293Z"
   },
   {
    "duration": 349,
    "start_time": "2022-10-04T16:13:26.550Z"
   },
   {
    "duration": 366,
    "start_time": "2022-10-04T16:14:36.288Z"
   },
   {
    "duration": 9,
    "start_time": "2022-10-04T16:14:57.803Z"
   },
   {
    "duration": 327,
    "start_time": "2022-10-04T16:16:46.648Z"
   },
   {
    "duration": 336,
    "start_time": "2022-10-04T16:16:52.633Z"
   },
   {
    "duration": 6,
    "start_time": "2022-10-04T17:04:45.131Z"
   },
   {
    "duration": 37,
    "start_time": "2022-10-04T17:05:05.957Z"
   },
   {
    "duration": 38,
    "start_time": "2022-10-04T17:05:18.164Z"
   },
   {
    "duration": 12,
    "start_time": "2022-10-04T17:05:26.019Z"
   },
   {
    "duration": 37,
    "start_time": "2022-10-04T17:05:31.585Z"
   },
   {
    "duration": 88,
    "start_time": "2022-10-04T17:33:15.465Z"
   },
   {
    "duration": 18,
    "start_time": "2022-10-04T17:35:40.186Z"
   },
   {
    "duration": 17,
    "start_time": "2022-10-04T17:36:22.537Z"
   },
   {
    "duration": 20,
    "start_time": "2022-10-04T17:36:37.277Z"
   },
   {
    "duration": 97,
    "start_time": "2022-10-04T17:39:38.431Z"
   },
   {
    "duration": 95,
    "start_time": "2022-10-04T17:40:29.762Z"
   },
   {
    "duration": 17,
    "start_time": "2022-10-04T17:40:37.853Z"
   },
   {
    "duration": 97,
    "start_time": "2022-10-04T17:40:46.523Z"
   },
   {
    "duration": 17,
    "start_time": "2022-10-04T17:40:48.482Z"
   },
   {
    "duration": 10,
    "start_time": "2022-10-04T17:44:43.964Z"
   },
   {
    "duration": 10,
    "start_time": "2022-10-04T17:46:56.900Z"
   },
   {
    "duration": 10,
    "start_time": "2022-10-04T17:47:14.845Z"
   },
   {
    "duration": 9,
    "start_time": "2022-10-04T17:49:41.847Z"
   },
   {
    "duration": 5,
    "start_time": "2022-10-04T17:49:48.451Z"
   },
   {
    "duration": 15,
    "start_time": "2022-10-04T17:50:26.853Z"
   },
   {
    "duration": 10,
    "start_time": "2022-10-04T17:50:39.779Z"
   },
   {
    "duration": 8,
    "start_time": "2022-10-04T17:50:43.559Z"
   },
   {
    "duration": 19,
    "start_time": "2022-10-04T17:57:34.307Z"
   },
   {
    "duration": 26,
    "start_time": "2022-10-04T17:59:53.077Z"
   },
   {
    "duration": 1078,
    "start_time": "2022-10-04T18:11:57.180Z"
   },
   {
    "duration": 55,
    "start_time": "2022-10-04T18:11:58.260Z"
   },
   {
    "duration": 15,
    "start_time": "2022-10-04T18:11:58.317Z"
   },
   {
    "duration": 17,
    "start_time": "2022-10-04T18:11:58.334Z"
   },
   {
    "duration": 25,
    "start_time": "2022-10-04T18:11:58.353Z"
   },
   {
    "duration": 4,
    "start_time": "2022-10-04T18:11:58.379Z"
   },
   {
    "duration": 6,
    "start_time": "2022-10-04T18:11:58.384Z"
   },
   {
    "duration": 8,
    "start_time": "2022-10-04T18:11:58.391Z"
   },
   {
    "duration": 44,
    "start_time": "2022-10-04T18:11:58.401Z"
   },
   {
    "duration": 1512,
    "start_time": "2022-10-04T18:11:58.447Z"
   },
   {
    "duration": 2139,
    "start_time": "2022-10-04T18:11:59.961Z"
   },
   {
    "duration": 15,
    "start_time": "2022-10-04T18:12:02.102Z"
   },
   {
    "duration": 95,
    "start_time": "2022-10-04T18:12:02.119Z"
   },
   {
    "duration": 126,
    "start_time": "2022-10-04T18:12:02.217Z"
   },
   {
    "duration": 0,
    "start_time": "2022-10-04T18:12:02.345Z"
   },
   {
    "duration": 0,
    "start_time": "2022-10-04T18:12:02.346Z"
   },
   {
    "duration": 0,
    "start_time": "2022-10-04T18:12:02.348Z"
   },
   {
    "duration": 0,
    "start_time": "2022-10-04T18:12:02.350Z"
   },
   {
    "duration": 0,
    "start_time": "2022-10-04T18:12:02.351Z"
   },
   {
    "duration": 0,
    "start_time": "2022-10-04T18:12:02.353Z"
   },
   {
    "duration": 0,
    "start_time": "2022-10-04T18:12:02.354Z"
   },
   {
    "duration": 0,
    "start_time": "2022-10-04T18:12:02.356Z"
   },
   {
    "duration": 0,
    "start_time": "2022-10-04T18:12:02.357Z"
   },
   {
    "duration": 0,
    "start_time": "2022-10-04T18:12:02.359Z"
   },
   {
    "duration": 1188,
    "start_time": "2022-10-04T18:12:59.506Z"
   },
   {
    "duration": 54,
    "start_time": "2022-10-04T18:13:00.695Z"
   },
   {
    "duration": 11,
    "start_time": "2022-10-04T18:13:00.751Z"
   },
   {
    "duration": 8,
    "start_time": "2022-10-04T18:13:00.765Z"
   },
   {
    "duration": 12,
    "start_time": "2022-10-04T18:13:00.775Z"
   },
   {
    "duration": 8,
    "start_time": "2022-10-04T18:13:00.788Z"
   },
   {
    "duration": 17,
    "start_time": "2022-10-04T18:13:00.798Z"
   },
   {
    "duration": 12,
    "start_time": "2022-10-04T18:13:00.816Z"
   },
   {
    "duration": 49,
    "start_time": "2022-10-04T18:13:00.829Z"
   },
   {
    "duration": 1504,
    "start_time": "2022-10-04T18:13:00.880Z"
   },
   {
    "duration": 2155,
    "start_time": "2022-10-04T18:13:02.385Z"
   },
   {
    "duration": 14,
    "start_time": "2022-10-04T18:13:04.542Z"
   },
   {
    "duration": 92,
    "start_time": "2022-10-04T18:13:04.558Z"
   },
   {
    "duration": 17,
    "start_time": "2022-10-04T18:13:04.652Z"
   },
   {
    "duration": 13,
    "start_time": "2022-10-04T18:13:04.671Z"
   },
   {
    "duration": 985,
    "start_time": "2022-10-04T18:13:04.686Z"
   },
   {
    "duration": 3,
    "start_time": "2022-10-04T18:13:05.673Z"
   },
   {
    "duration": 713,
    "start_time": "2022-10-04T18:13:05.677Z"
   },
   {
    "duration": 930,
    "start_time": "2022-10-04T18:13:06.392Z"
   },
   {
    "duration": 24,
    "start_time": "2022-10-04T18:13:07.325Z"
   },
   {
    "duration": 308,
    "start_time": "2022-10-04T18:13:07.351Z"
   },
   {
    "duration": 18,
    "start_time": "2022-10-04T18:13:07.661Z"
   },
   {
    "duration": 701,
    "start_time": "2022-10-04T18:13:07.681Z"
   },
   {
    "duration": 70,
    "start_time": "2022-10-04T18:13:08.384Z"
   },
   {
    "duration": 1137,
    "start_time": "2022-10-04T18:17:39.346Z"
   },
   {
    "duration": 54,
    "start_time": "2022-10-04T18:17:40.485Z"
   },
   {
    "duration": 16,
    "start_time": "2022-10-04T18:17:40.542Z"
   },
   {
    "duration": 8,
    "start_time": "2022-10-04T18:17:40.561Z"
   },
   {
    "duration": 14,
    "start_time": "2022-10-04T18:17:40.571Z"
   },
   {
    "duration": 3,
    "start_time": "2022-10-04T18:17:40.587Z"
   },
   {
    "duration": 11,
    "start_time": "2022-10-04T18:17:40.592Z"
   },
   {
    "duration": 36,
    "start_time": "2022-10-04T18:17:40.604Z"
   },
   {
    "duration": 48,
    "start_time": "2022-10-04T18:17:40.641Z"
   },
   {
    "duration": 1588,
    "start_time": "2022-10-04T18:17:40.692Z"
   },
   {
    "duration": 2259,
    "start_time": "2022-10-04T18:17:42.282Z"
   },
   {
    "duration": 20,
    "start_time": "2022-10-04T18:17:44.543Z"
   },
   {
    "duration": 103,
    "start_time": "2022-10-04T18:17:44.566Z"
   },
   {
    "duration": 19,
    "start_time": "2022-10-04T18:17:44.671Z"
   },
   {
    "duration": 17,
    "start_time": "2022-10-04T18:17:44.691Z"
   },
   {
    "duration": 1026,
    "start_time": "2022-10-04T18:17:44.709Z"
   },
   {
    "duration": 4,
    "start_time": "2022-10-04T18:17:45.737Z"
   },
   {
    "duration": 771,
    "start_time": "2022-10-04T18:17:45.743Z"
   },
   {
    "duration": 1065,
    "start_time": "2022-10-04T18:17:46.516Z"
   },
   {
    "duration": 22,
    "start_time": "2022-10-04T18:17:47.585Z"
   },
   {
    "duration": 217,
    "start_time": "2022-10-04T18:17:47.609Z"
   },
   {
    "duration": 23,
    "start_time": "2022-10-04T18:17:47.828Z"
   },
   {
    "duration": 346,
    "start_time": "2022-10-04T18:17:47.852Z"
   },
   {
    "duration": 13,
    "start_time": "2022-10-04T18:17:48.200Z"
   }
  ],
  "kernelspec": {
   "display_name": "Python 3 (ipykernel)",
   "language": "python",
   "name": "python3"
  },
  "language_info": {
   "codemirror_mode": {
    "name": "ipython",
    "version": 3
   },
   "file_extension": ".py",
   "mimetype": "text/x-python",
   "name": "python",
   "nbconvert_exporter": "python",
   "pygments_lexer": "ipython3",
   "version": "3.9.7"
  },
  "toc": {
   "base_numbering": 1,
   "nav_menu": {},
   "number_sections": false,
   "sideBar": true,
   "skip_h1_title": true,
   "title_cell": "Table of Contents",
   "title_sidebar": "Contents",
   "toc_cell": false,
   "toc_position": {
    "height": "calc(100% - 180px)",
    "left": "10px",
    "top": "150px",
    "width": "366.2px"
   },
   "toc_section_display": true,
   "toc_window_display": true
  }
 },
 "nbformat": 4,
 "nbformat_minor": 2
}
