{
 "cells": [
  {
   "cell_type": "markdown",
   "metadata": {},
   "source": [
    "**<div style=\"font-size: 20px\">Проект по SQL</div >**\n",
    "\n",
    "**Задания**\n",
    "\n",
    "- Посчитайте, сколько книг вышло после 1 января 2000 года;\n",
    "- Для каждой книги посчитайте количество обзоров и среднюю оценку;\n",
    "- Определите издательство, которое выпустило наибольшее число книг толще 50 страниц — так вы исключите из анализа брошюры;\n",
    "- Определите автора с самой высокой средней оценкой книг — учитывайте только книги с 50 и более оценками;\n",
    "- Посчитайте среднее количество обзоров от пользователей, которые поставили больше 50 оценок.\n",
    "\n",
    "**Описание данных**\n",
    "\n",
    "Таблица `books`\n",
    "Содержит данные о книгах:\n",
    "\n",
    "- `book_id` — идентификатор книги;\n",
    "- `author_id` — идентификатор автора;\n",
    "- `title` — название книги;\n",
    "- `num_pages` — количество страниц;\n",
    "- `publication_date` — дата публикации книги;\n",
    "- `publisher_id` — идентификатор издателя.\n",
    "\n",
    "Таблица `authors`\n",
    "Содержит данные об авторах:\n",
    "\n",
    "- `author_id` — идентификатор автора;\n",
    "- `author` — имя автора.\n",
    "\n",
    "Таблица `publishers`\n",
    "Содержит данные об издательствах:\n",
    "\n",
    "- `publisher_id` — идентификатор издательства;\n",
    "- `publisher` — название издательства;\n",
    "\n",
    "Таблица `ratings`\n",
    "Содержит данные о пользовательских оценках книг:\n",
    "\n",
    "- `rating_id` — идентификатор оценки;\n",
    "- `book_id` — идентификатор книги;\n",
    "- `username` — имя пользователя, оставившего оценку;\n",
    "- `rating` — оценка книги.\n",
    "\n",
    "Таблица `reviews`\n",
    "Содержит данные о пользовательских обзорах:\n",
    "\n",
    "- `review_id` — идентификатор обзора;\n",
    "- `book_id` — идентификатор книги;\n",
    "- `username` — имя автора обзора;\n",
    "- `text` — текст обзора.\n",
    "    \n"
   ]
  },
  {
   "cell_type": "markdown",
   "metadata": {},
   "source": [
    "## 1. Исследование таблиц"
   ]
  },
  {
   "cell_type": "code",
   "execution_count": 1,
   "metadata": {},
   "outputs": [],
   "source": [
    "import pandas as pd\n",
    "from sqlalchemy import create_engine"
   ]
  },
  {
   "cell_type": "code",
   "execution_count": 2,
   "metadata": {},
   "outputs": [],
   "source": [
    "# устанавливаем параметры\n",
    "\n",
    "db_config = {'user': 'praktikum_student', # имя пользователя\n",
    "'pwd': 'Sdf4$2;d-d30pp', # пароль\n",
    "'host': 'rc1b-wcoijxj3yxfsf3fs.mdb.yandexcloud.net',\n",
    "'port': 6432, # порт подключения\n",
    "'db': 'data-analyst-final-project-db'} # название базы данных\n",
    "\n",
    "connection_string = 'postgresql://{}:{}@{}:{}/{}'.format(db_config['user'],\n",
    "db_config['pwd'],\n",
    "db_config['host'],\n",
    "db_config['port'],\n",
    "db_config['db'])\n",
    "\n",
    "# сохраняем коннектор\n",
    "engine = create_engine(connection_string, connect_args={'sslmode':'require'})"
   ]
  },
  {
   "cell_type": "markdown",
   "metadata": {},
   "source": [
    "**books**"
   ]
  },
  {
   "cell_type": "code",
   "execution_count": 3,
   "metadata": {},
   "outputs": [
    {
     "data": {
      "text/html": [
       "<div>\n",
       "<style scoped>\n",
       "    .dataframe tbody tr th:only-of-type {\n",
       "        vertical-align: middle;\n",
       "    }\n",
       "\n",
       "    .dataframe tbody tr th {\n",
       "        vertical-align: top;\n",
       "    }\n",
       "\n",
       "    .dataframe thead th {\n",
       "        text-align: right;\n",
       "    }\n",
       "</style>\n",
       "<table border=\"1\" class=\"dataframe\">\n",
       "  <thead>\n",
       "    <tr style=\"text-align: right;\">\n",
       "      <th></th>\n",
       "      <th>book_id</th>\n",
       "      <th>author_id</th>\n",
       "      <th>title</th>\n",
       "      <th>num_pages</th>\n",
       "      <th>publication_date</th>\n",
       "      <th>publisher_id</th>\n",
       "    </tr>\n",
       "  </thead>\n",
       "  <tbody>\n",
       "    <tr>\n",
       "      <th>0</th>\n",
       "      <td>1</td>\n",
       "      <td>546</td>\n",
       "      <td>'Salem's Lot</td>\n",
       "      <td>594</td>\n",
       "      <td>2005-11-01</td>\n",
       "      <td>93</td>\n",
       "    </tr>\n",
       "    <tr>\n",
       "      <th>1</th>\n",
       "      <td>2</td>\n",
       "      <td>465</td>\n",
       "      <td>1 000 Places to See Before You Die</td>\n",
       "      <td>992</td>\n",
       "      <td>2003-05-22</td>\n",
       "      <td>336</td>\n",
       "    </tr>\n",
       "    <tr>\n",
       "      <th>2</th>\n",
       "      <td>3</td>\n",
       "      <td>407</td>\n",
       "      <td>13 Little Blue Envelopes (Little Blue Envelope...</td>\n",
       "      <td>322</td>\n",
       "      <td>2010-12-21</td>\n",
       "      <td>135</td>\n",
       "    </tr>\n",
       "    <tr>\n",
       "      <th>3</th>\n",
       "      <td>4</td>\n",
       "      <td>82</td>\n",
       "      <td>1491: New Revelations of the Americas Before C...</td>\n",
       "      <td>541</td>\n",
       "      <td>2006-10-10</td>\n",
       "      <td>309</td>\n",
       "    </tr>\n",
       "    <tr>\n",
       "      <th>4</th>\n",
       "      <td>5</td>\n",
       "      <td>125</td>\n",
       "      <td>1776</td>\n",
       "      <td>386</td>\n",
       "      <td>2006-07-04</td>\n",
       "      <td>268</td>\n",
       "    </tr>\n",
       "  </tbody>\n",
       "</table>\n",
       "</div>"
      ],
      "text/plain": [
       "   book_id  author_id                                              title  \\\n",
       "0        1        546                                       'Salem's Lot   \n",
       "1        2        465                 1 000 Places to See Before You Die   \n",
       "2        3        407  13 Little Blue Envelopes (Little Blue Envelope...   \n",
       "3        4         82  1491: New Revelations of the Americas Before C...   \n",
       "4        5        125                                               1776   \n",
       "\n",
       "   num_pages publication_date  publisher_id  \n",
       "0        594       2005-11-01            93  \n",
       "1        992       2003-05-22           336  \n",
       "2        322       2010-12-21           135  \n",
       "3        541       2006-10-10           309  \n",
       "4        386       2006-07-04           268  "
      ]
     },
     "execution_count": 3,
     "metadata": {},
     "output_type": "execute_result"
    }
   ],
   "source": [
    "query = '''\n",
    "            SELECT * \n",
    "            FROM books\n",
    "        '''\n",
    "books = pd.io.sql.read_sql(query, con = engine)\n",
    "books.head()"
   ]
  },
  {
   "cell_type": "code",
   "execution_count": 4,
   "metadata": {},
   "outputs": [
    {
     "name": "stdout",
     "output_type": "stream",
     "text": [
      "<class 'pandas.core.frame.DataFrame'>\n",
      "RangeIndex: 1000 entries, 0 to 999\n",
      "Data columns (total 6 columns):\n",
      " #   Column            Non-Null Count  Dtype \n",
      "---  ------            --------------  ----- \n",
      " 0   book_id           1000 non-null   int64 \n",
      " 1   author_id         1000 non-null   int64 \n",
      " 2   title             1000 non-null   object\n",
      " 3   num_pages         1000 non-null   int64 \n",
      " 4   publication_date  1000 non-null   object\n",
      " 5   publisher_id      1000 non-null   int64 \n",
      "dtypes: int64(4), object(2)\n",
      "memory usage: 47.0+ KB\n"
     ]
    }
   ],
   "source": [
    "books.info()"
   ]
  },
  {
   "cell_type": "markdown",
   "metadata": {},
   "source": [
    "**authors**"
   ]
  },
  {
   "cell_type": "code",
   "execution_count": 5,
   "metadata": {},
   "outputs": [
    {
     "data": {
      "text/html": [
       "<div>\n",
       "<style scoped>\n",
       "    .dataframe tbody tr th:only-of-type {\n",
       "        vertical-align: middle;\n",
       "    }\n",
       "\n",
       "    .dataframe tbody tr th {\n",
       "        vertical-align: top;\n",
       "    }\n",
       "\n",
       "    .dataframe thead th {\n",
       "        text-align: right;\n",
       "    }\n",
       "</style>\n",
       "<table border=\"1\" class=\"dataframe\">\n",
       "  <thead>\n",
       "    <tr style=\"text-align: right;\">\n",
       "      <th></th>\n",
       "      <th>author_id</th>\n",
       "      <th>author</th>\n",
       "    </tr>\n",
       "  </thead>\n",
       "  <tbody>\n",
       "    <tr>\n",
       "      <th>0</th>\n",
       "      <td>1</td>\n",
       "      <td>A.S. Byatt</td>\n",
       "    </tr>\n",
       "    <tr>\n",
       "      <th>1</th>\n",
       "      <td>2</td>\n",
       "      <td>Aesop/Laura Harris/Laura Gibbs</td>\n",
       "    </tr>\n",
       "    <tr>\n",
       "      <th>2</th>\n",
       "      <td>3</td>\n",
       "      <td>Agatha Christie</td>\n",
       "    </tr>\n",
       "    <tr>\n",
       "      <th>3</th>\n",
       "      <td>4</td>\n",
       "      <td>Alan Brennert</td>\n",
       "    </tr>\n",
       "    <tr>\n",
       "      <th>4</th>\n",
       "      <td>5</td>\n",
       "      <td>Alan Moore/David   Lloyd</td>\n",
       "    </tr>\n",
       "  </tbody>\n",
       "</table>\n",
       "</div>"
      ],
      "text/plain": [
       "   author_id                          author\n",
       "0          1                      A.S. Byatt\n",
       "1          2  Aesop/Laura Harris/Laura Gibbs\n",
       "2          3                 Agatha Christie\n",
       "3          4                   Alan Brennert\n",
       "4          5        Alan Moore/David   Lloyd"
      ]
     },
     "execution_count": 5,
     "metadata": {},
     "output_type": "execute_result"
    }
   ],
   "source": [
    "query = '''\n",
    "            SELECT * \n",
    "            FROM authors\n",
    "        '''\n",
    "authors = pd.io.sql.read_sql(query, con = engine)\n",
    "authors.head()"
   ]
  },
  {
   "cell_type": "code",
   "execution_count": 6,
   "metadata": {},
   "outputs": [
    {
     "name": "stdout",
     "output_type": "stream",
     "text": [
      "<class 'pandas.core.frame.DataFrame'>\n",
      "RangeIndex: 636 entries, 0 to 635\n",
      "Data columns (total 2 columns):\n",
      " #   Column     Non-Null Count  Dtype \n",
      "---  ------     --------------  ----- \n",
      " 0   author_id  636 non-null    int64 \n",
      " 1   author     636 non-null    object\n",
      "dtypes: int64(1), object(1)\n",
      "memory usage: 10.1+ KB\n"
     ]
    }
   ],
   "source": [
    "authors.info()"
   ]
  },
  {
   "cell_type": "markdown",
   "metadata": {},
   "source": [
    "**ratings**"
   ]
  },
  {
   "cell_type": "code",
   "execution_count": 7,
   "metadata": {},
   "outputs": [
    {
     "data": {
      "text/html": [
       "<div>\n",
       "<style scoped>\n",
       "    .dataframe tbody tr th:only-of-type {\n",
       "        vertical-align: middle;\n",
       "    }\n",
       "\n",
       "    .dataframe tbody tr th {\n",
       "        vertical-align: top;\n",
       "    }\n",
       "\n",
       "    .dataframe thead th {\n",
       "        text-align: right;\n",
       "    }\n",
       "</style>\n",
       "<table border=\"1\" class=\"dataframe\">\n",
       "  <thead>\n",
       "    <tr style=\"text-align: right;\">\n",
       "      <th></th>\n",
       "      <th>rating_id</th>\n",
       "      <th>book_id</th>\n",
       "      <th>username</th>\n",
       "      <th>rating</th>\n",
       "    </tr>\n",
       "  </thead>\n",
       "  <tbody>\n",
       "    <tr>\n",
       "      <th>0</th>\n",
       "      <td>1</td>\n",
       "      <td>1</td>\n",
       "      <td>ryanfranco</td>\n",
       "      <td>4</td>\n",
       "    </tr>\n",
       "    <tr>\n",
       "      <th>1</th>\n",
       "      <td>2</td>\n",
       "      <td>1</td>\n",
       "      <td>grantpatricia</td>\n",
       "      <td>2</td>\n",
       "    </tr>\n",
       "    <tr>\n",
       "      <th>2</th>\n",
       "      <td>3</td>\n",
       "      <td>1</td>\n",
       "      <td>brandtandrea</td>\n",
       "      <td>5</td>\n",
       "    </tr>\n",
       "    <tr>\n",
       "      <th>3</th>\n",
       "      <td>4</td>\n",
       "      <td>2</td>\n",
       "      <td>lorichen</td>\n",
       "      <td>3</td>\n",
       "    </tr>\n",
       "    <tr>\n",
       "      <th>4</th>\n",
       "      <td>5</td>\n",
       "      <td>2</td>\n",
       "      <td>mariokeller</td>\n",
       "      <td>2</td>\n",
       "    </tr>\n",
       "  </tbody>\n",
       "</table>\n",
       "</div>"
      ],
      "text/plain": [
       "   rating_id  book_id       username  rating\n",
       "0          1        1     ryanfranco       4\n",
       "1          2        1  grantpatricia       2\n",
       "2          3        1   brandtandrea       5\n",
       "3          4        2       lorichen       3\n",
       "4          5        2    mariokeller       2"
      ]
     },
     "execution_count": 7,
     "metadata": {},
     "output_type": "execute_result"
    }
   ],
   "source": [
    "query = '''\n",
    "            SELECT * \n",
    "            FROM ratings\n",
    "        '''\n",
    "ratings = pd.io.sql.read_sql(query, con = engine)\n",
    "ratings.head()"
   ]
  },
  {
   "cell_type": "code",
   "execution_count": 8,
   "metadata": {},
   "outputs": [
    {
     "name": "stdout",
     "output_type": "stream",
     "text": [
      "<class 'pandas.core.frame.DataFrame'>\n",
      "RangeIndex: 6456 entries, 0 to 6455\n",
      "Data columns (total 4 columns):\n",
      " #   Column     Non-Null Count  Dtype \n",
      "---  ------     --------------  ----- \n",
      " 0   rating_id  6456 non-null   int64 \n",
      " 1   book_id    6456 non-null   int64 \n",
      " 2   username   6456 non-null   object\n",
      " 3   rating     6456 non-null   int64 \n",
      "dtypes: int64(3), object(1)\n",
      "memory usage: 201.9+ KB\n"
     ]
    }
   ],
   "source": [
    "ratings.info()"
   ]
  },
  {
   "cell_type": "markdown",
   "metadata": {},
   "source": [
    "**rewiews**"
   ]
  },
  {
   "cell_type": "code",
   "execution_count": 9,
   "metadata": {},
   "outputs": [
    {
     "data": {
      "text/html": [
       "<div>\n",
       "<style scoped>\n",
       "    .dataframe tbody tr th:only-of-type {\n",
       "        vertical-align: middle;\n",
       "    }\n",
       "\n",
       "    .dataframe tbody tr th {\n",
       "        vertical-align: top;\n",
       "    }\n",
       "\n",
       "    .dataframe thead th {\n",
       "        text-align: right;\n",
       "    }\n",
       "</style>\n",
       "<table border=\"1\" class=\"dataframe\">\n",
       "  <thead>\n",
       "    <tr style=\"text-align: right;\">\n",
       "      <th></th>\n",
       "      <th>review_id</th>\n",
       "      <th>book_id</th>\n",
       "      <th>username</th>\n",
       "      <th>text</th>\n",
       "    </tr>\n",
       "  </thead>\n",
       "  <tbody>\n",
       "    <tr>\n",
       "      <th>0</th>\n",
       "      <td>1</td>\n",
       "      <td>1</td>\n",
       "      <td>brandtandrea</td>\n",
       "      <td>Mention society tell send professor analysis. ...</td>\n",
       "    </tr>\n",
       "    <tr>\n",
       "      <th>1</th>\n",
       "      <td>2</td>\n",
       "      <td>1</td>\n",
       "      <td>ryanfranco</td>\n",
       "      <td>Foot glass pretty audience hit themselves. Amo...</td>\n",
       "    </tr>\n",
       "    <tr>\n",
       "      <th>2</th>\n",
       "      <td>3</td>\n",
       "      <td>2</td>\n",
       "      <td>lorichen</td>\n",
       "      <td>Listen treat keep worry. Miss husband tax but ...</td>\n",
       "    </tr>\n",
       "    <tr>\n",
       "      <th>3</th>\n",
       "      <td>4</td>\n",
       "      <td>3</td>\n",
       "      <td>johnsonamanda</td>\n",
       "      <td>Finally month interesting blue could nature cu...</td>\n",
       "    </tr>\n",
       "    <tr>\n",
       "      <th>4</th>\n",
       "      <td>5</td>\n",
       "      <td>3</td>\n",
       "      <td>scotttamara</td>\n",
       "      <td>Nation purpose heavy give wait song will. List...</td>\n",
       "    </tr>\n",
       "  </tbody>\n",
       "</table>\n",
       "</div>"
      ],
      "text/plain": [
       "   review_id  book_id       username  \\\n",
       "0          1        1   brandtandrea   \n",
       "1          2        1     ryanfranco   \n",
       "2          3        2       lorichen   \n",
       "3          4        3  johnsonamanda   \n",
       "4          5        3    scotttamara   \n",
       "\n",
       "                                                text  \n",
       "0  Mention society tell send professor analysis. ...  \n",
       "1  Foot glass pretty audience hit themselves. Amo...  \n",
       "2  Listen treat keep worry. Miss husband tax but ...  \n",
       "3  Finally month interesting blue could nature cu...  \n",
       "4  Nation purpose heavy give wait song will. List...  "
      ]
     },
     "execution_count": 9,
     "metadata": {},
     "output_type": "execute_result"
    }
   ],
   "source": [
    "query = '''\n",
    "            SELECT * \n",
    "            FROM reviews\n",
    "        '''\n",
    "reviews = pd.io.sql.read_sql(query, con = engine)\n",
    "reviews.head()"
   ]
  },
  {
   "cell_type": "code",
   "execution_count": 10,
   "metadata": {},
   "outputs": [
    {
     "name": "stdout",
     "output_type": "stream",
     "text": [
      "<class 'pandas.core.frame.DataFrame'>\n",
      "RangeIndex: 2793 entries, 0 to 2792\n",
      "Data columns (total 4 columns):\n",
      " #   Column     Non-Null Count  Dtype \n",
      "---  ------     --------------  ----- \n",
      " 0   review_id  2793 non-null   int64 \n",
      " 1   book_id    2793 non-null   int64 \n",
      " 2   username   2793 non-null   object\n",
      " 3   text       2793 non-null   object\n",
      "dtypes: int64(2), object(2)\n",
      "memory usage: 87.4+ KB\n"
     ]
    }
   ],
   "source": [
    "reviews.info()"
   ]
  },
  {
   "cell_type": "markdown",
   "metadata": {},
   "source": [
    "**publishers**"
   ]
  },
  {
   "cell_type": "code",
   "execution_count": 11,
   "metadata": {},
   "outputs": [
    {
     "data": {
      "text/html": [
       "<div>\n",
       "<style scoped>\n",
       "    .dataframe tbody tr th:only-of-type {\n",
       "        vertical-align: middle;\n",
       "    }\n",
       "\n",
       "    .dataframe tbody tr th {\n",
       "        vertical-align: top;\n",
       "    }\n",
       "\n",
       "    .dataframe thead th {\n",
       "        text-align: right;\n",
       "    }\n",
       "</style>\n",
       "<table border=\"1\" class=\"dataframe\">\n",
       "  <thead>\n",
       "    <tr style=\"text-align: right;\">\n",
       "      <th></th>\n",
       "      <th>publisher_id</th>\n",
       "      <th>publisher</th>\n",
       "    </tr>\n",
       "  </thead>\n",
       "  <tbody>\n",
       "    <tr>\n",
       "      <th>0</th>\n",
       "      <td>1</td>\n",
       "      <td>Ace</td>\n",
       "    </tr>\n",
       "    <tr>\n",
       "      <th>1</th>\n",
       "      <td>2</td>\n",
       "      <td>Ace Book</td>\n",
       "    </tr>\n",
       "    <tr>\n",
       "      <th>2</th>\n",
       "      <td>3</td>\n",
       "      <td>Ace Books</td>\n",
       "    </tr>\n",
       "    <tr>\n",
       "      <th>3</th>\n",
       "      <td>4</td>\n",
       "      <td>Ace Hardcover</td>\n",
       "    </tr>\n",
       "    <tr>\n",
       "      <th>4</th>\n",
       "      <td>5</td>\n",
       "      <td>Addison Wesley Publishing Company</td>\n",
       "    </tr>\n",
       "  </tbody>\n",
       "</table>\n",
       "</div>"
      ],
      "text/plain": [
       "   publisher_id                          publisher\n",
       "0             1                                Ace\n",
       "1             2                           Ace Book\n",
       "2             3                          Ace Books\n",
       "3             4                      Ace Hardcover\n",
       "4             5  Addison Wesley Publishing Company"
      ]
     },
     "execution_count": 11,
     "metadata": {},
     "output_type": "execute_result"
    }
   ],
   "source": [
    "query = '''\n",
    "            SELECT * \n",
    "            FROM publishers\n",
    "        '''\n",
    "publishers = pd.io.sql.read_sql(query, con = engine)\n",
    "publishers.head()"
   ]
  },
  {
   "cell_type": "code",
   "execution_count": 12,
   "metadata": {},
   "outputs": [
    {
     "name": "stdout",
     "output_type": "stream",
     "text": [
      "<class 'pandas.core.frame.DataFrame'>\n",
      "RangeIndex: 340 entries, 0 to 339\n",
      "Data columns (total 2 columns):\n",
      " #   Column        Non-Null Count  Dtype \n",
      "---  ------        --------------  ----- \n",
      " 0   publisher_id  340 non-null    int64 \n",
      " 1   publisher     340 non-null    object\n",
      "dtypes: int64(1), object(1)\n",
      "memory usage: 5.4+ KB\n"
     ]
    }
   ],
   "source": [
    "publishers.info()"
   ]
  },
  {
   "cell_type": "markdown",
   "metadata": {},
   "source": [
    "## 2. Запросы SQL"
   ]
  },
  {
   "cell_type": "markdown",
   "metadata": {},
   "source": [
    "### 2.1 Задание №1"
   ]
  },
  {
   "cell_type": "markdown",
   "metadata": {},
   "source": [
    "- Посчитайте, сколько книг вышло после 1 января 2000 года"
   ]
  },
  {
   "cell_type": "code",
   "execution_count": 13,
   "metadata": {},
   "outputs": [
    {
     "data": {
      "text/html": [
       "<div>\n",
       "<style scoped>\n",
       "    .dataframe tbody tr th:only-of-type {\n",
       "        vertical-align: middle;\n",
       "    }\n",
       "\n",
       "    .dataframe tbody tr th {\n",
       "        vertical-align: top;\n",
       "    }\n",
       "\n",
       "    .dataframe thead th {\n",
       "        text-align: right;\n",
       "    }\n",
       "</style>\n",
       "<table border=\"1\" class=\"dataframe\">\n",
       "  <thead>\n",
       "    <tr style=\"text-align: right;\">\n",
       "      <th></th>\n",
       "      <th>count</th>\n",
       "    </tr>\n",
       "  </thead>\n",
       "  <tbody>\n",
       "    <tr>\n",
       "      <th>0</th>\n",
       "      <td>819</td>\n",
       "    </tr>\n",
       "  </tbody>\n",
       "</table>\n",
       "</div>"
      ],
      "text/plain": [
       "   count\n",
       "0    819"
      ]
     },
     "execution_count": 13,
     "metadata": {},
     "output_type": "execute_result"
    }
   ],
   "source": [
    "query1 = '''\n",
    "            SELECT COUNT(book_id)\n",
    "            FROM books\n",
    "            WHERE publication_date > '2000-01-01'\n",
    "        '''\n",
    "pd.io.sql.read_sql(query1, con = engine)"
   ]
  },
  {
   "cell_type": "markdown",
   "metadata": {},
   "source": [
    "После 1 января 2000 года вышло 819 книг"
   ]
  },
  {
   "cell_type": "markdown",
   "metadata": {},
   "source": [
    "### 2.2. Задание №2"
   ]
  },
  {
   "cell_type": "markdown",
   "metadata": {},
   "source": [
    "- Для каждой книги посчитайте количество обзоров и среднюю оценку"
   ]
  },
  {
   "cell_type": "code",
   "execution_count": 14,
   "metadata": {},
   "outputs": [
    {
     "data": {
      "text/html": [
       "<div>\n",
       "<style scoped>\n",
       "    .dataframe tbody tr th:only-of-type {\n",
       "        vertical-align: middle;\n",
       "    }\n",
       "\n",
       "    .dataframe tbody tr th {\n",
       "        vertical-align: top;\n",
       "    }\n",
       "\n",
       "    .dataframe thead th {\n",
       "        text-align: right;\n",
       "    }\n",
       "</style>\n",
       "<table border=\"1\" class=\"dataframe\">\n",
       "  <thead>\n",
       "    <tr style=\"text-align: right;\">\n",
       "      <th></th>\n",
       "      <th>title</th>\n",
       "      <th>id</th>\n",
       "      <th>avg_rating</th>\n",
       "      <th>count_reviews</th>\n",
       "    </tr>\n",
       "  </thead>\n",
       "  <tbody>\n",
       "    <tr>\n",
       "      <th>0</th>\n",
       "      <td>Twilight (Twilight  #1)</td>\n",
       "      <td>948</td>\n",
       "      <td>3.662500</td>\n",
       "      <td>7</td>\n",
       "    </tr>\n",
       "    <tr>\n",
       "      <th>1</th>\n",
       "      <td>Water for Elephants</td>\n",
       "      <td>963</td>\n",
       "      <td>3.977273</td>\n",
       "      <td>6</td>\n",
       "    </tr>\n",
       "    <tr>\n",
       "      <th>2</th>\n",
       "      <td>The Glass Castle</td>\n",
       "      <td>734</td>\n",
       "      <td>4.206897</td>\n",
       "      <td>6</td>\n",
       "    </tr>\n",
       "    <tr>\n",
       "      <th>3</th>\n",
       "      <td>Harry Potter and the Prisoner of Azkaban (Harr...</td>\n",
       "      <td>302</td>\n",
       "      <td>4.414634</td>\n",
       "      <td>6</td>\n",
       "    </tr>\n",
       "    <tr>\n",
       "      <th>4</th>\n",
       "      <td>The Curious Incident of the Dog in the Night-Time</td>\n",
       "      <td>695</td>\n",
       "      <td>4.081081</td>\n",
       "      <td>6</td>\n",
       "    </tr>\n",
       "    <tr>\n",
       "      <th>...</th>\n",
       "      <td>...</td>\n",
       "      <td>...</td>\n",
       "      <td>...</td>\n",
       "      <td>...</td>\n",
       "    </tr>\n",
       "    <tr>\n",
       "      <th>995</th>\n",
       "      <td>Anne Rice's The Vampire Lestat: A Graphic Novel</td>\n",
       "      <td>83</td>\n",
       "      <td>3.666667</td>\n",
       "      <td>0</td>\n",
       "    </tr>\n",
       "    <tr>\n",
       "      <th>996</th>\n",
       "      <td>The Natural Way to Draw</td>\n",
       "      <td>808</td>\n",
       "      <td>3.000000</td>\n",
       "      <td>0</td>\n",
       "    </tr>\n",
       "    <tr>\n",
       "      <th>997</th>\n",
       "      <td>The Cat in the Hat and Other Dr. Seuss Favorites</td>\n",
       "      <td>672</td>\n",
       "      <td>5.000000</td>\n",
       "      <td>0</td>\n",
       "    </tr>\n",
       "    <tr>\n",
       "      <th>998</th>\n",
       "      <td>Essential Tales and Poems</td>\n",
       "      <td>221</td>\n",
       "      <td>4.000000</td>\n",
       "      <td>0</td>\n",
       "    </tr>\n",
       "    <tr>\n",
       "      <th>999</th>\n",
       "      <td>Disney's Beauty and the Beast (A Little Golden...</td>\n",
       "      <td>191</td>\n",
       "      <td>4.000000</td>\n",
       "      <td>0</td>\n",
       "    </tr>\n",
       "  </tbody>\n",
       "</table>\n",
       "<p>1000 rows × 4 columns</p>\n",
       "</div>"
      ],
      "text/plain": [
       "                                                 title   id  avg_rating  \\\n",
       "0                              Twilight (Twilight  #1)  948    3.662500   \n",
       "1                                  Water for Elephants  963    3.977273   \n",
       "2                                     The Glass Castle  734    4.206897   \n",
       "3    Harry Potter and the Prisoner of Azkaban (Harr...  302    4.414634   \n",
       "4    The Curious Incident of the Dog in the Night-Time  695    4.081081   \n",
       "..                                                 ...  ...         ...   \n",
       "995    Anne Rice's The Vampire Lestat: A Graphic Novel   83    3.666667   \n",
       "996                            The Natural Way to Draw  808    3.000000   \n",
       "997   The Cat in the Hat and Other Dr. Seuss Favorites  672    5.000000   \n",
       "998                          Essential Tales and Poems  221    4.000000   \n",
       "999  Disney's Beauty and the Beast (A Little Golden...  191    4.000000   \n",
       "\n",
       "     count_reviews  \n",
       "0                7  \n",
       "1                6  \n",
       "2                6  \n",
       "3                6  \n",
       "4                6  \n",
       "..             ...  \n",
       "995              0  \n",
       "996              0  \n",
       "997              0  \n",
       "998              0  \n",
       "999              0  \n",
       "\n",
       "[1000 rows x 4 columns]"
      ]
     },
     "execution_count": 14,
     "metadata": {},
     "output_type": "execute_result"
    }
   ],
   "source": [
    "query2 = '''\n",
    "            SELECT b.title,\n",
    "                   b.book_id AS id,  \n",
    "                   AVG(rat.rating) AS avg_rating, \n",
    "                   COUNT(DISTINCT rev.text) AS count_reviews  \n",
    "            FROM books AS b\n",
    "            LEFT JOIN ratings AS rat ON rat.book_id = b.book_id\n",
    "            LEFT JOIN reviews AS rev ON rev.book_id = b.book_id\n",
    "            GROUP BY b.title, b.book_id\n",
    "            ORDER BY count_reviews DESC;    \n",
    "        '''\n",
    "pd.io.sql.read_sql(query2, con = engine)"
   ]
  },
  {
   "cell_type": "markdown",
   "metadata": {},
   "source": [
    "Больше всего обзоров выпущено на книгу Twilight"
   ]
  },
  {
   "cell_type": "markdown",
   "metadata": {},
   "source": [
    "### 2.3 Задание №3"
   ]
  },
  {
   "cell_type": "markdown",
   "metadata": {},
   "source": [
    "- Определите издательство, которое выпустило наибольшее число книг толще 50 страниц — так вы исключите из анализа брошюры;"
   ]
  },
  {
   "cell_type": "code",
   "execution_count": 15,
   "metadata": {},
   "outputs": [
    {
     "data": {
      "text/html": [
       "<div>\n",
       "<style scoped>\n",
       "    .dataframe tbody tr th:only-of-type {\n",
       "        vertical-align: middle;\n",
       "    }\n",
       "\n",
       "    .dataframe tbody tr th {\n",
       "        vertical-align: top;\n",
       "    }\n",
       "\n",
       "    .dataframe thead th {\n",
       "        text-align: right;\n",
       "    }\n",
       "</style>\n",
       "<table border=\"1\" class=\"dataframe\">\n",
       "  <thead>\n",
       "    <tr style=\"text-align: right;\">\n",
       "      <th></th>\n",
       "      <th>name</th>\n",
       "      <th>count_books</th>\n",
       "    </tr>\n",
       "  </thead>\n",
       "  <tbody>\n",
       "    <tr>\n",
       "      <th>0</th>\n",
       "      <td>Penguin Books</td>\n",
       "      <td>42</td>\n",
       "    </tr>\n",
       "  </tbody>\n",
       "</table>\n",
       "</div>"
      ],
      "text/plain": [
       "            name  count_books\n",
       "0  Penguin Books           42"
      ]
     },
     "execution_count": 15,
     "metadata": {},
     "output_type": "execute_result"
    }
   ],
   "source": [
    "query3 = '''\n",
    "            SELECT p.publisher AS name,\n",
    "                   COUNT(b.book_id) AS count_books\n",
    "            FROM publishers AS p\n",
    "            LEFT JOIN books AS b ON p.publisher_id = b.publisher_id\n",
    "            WHERE b.num_pages > 50\n",
    "            GROUP BY name\n",
    "            ORDER BY count_books DESC\n",
    "            LIMIT 1;\n",
    "        '''\n",
    "pd.io.sql.read_sql(query3, con = engine)"
   ]
  },
  {
   "cell_type": "markdown",
   "metadata": {},
   "source": [
    "Издательство Penguin Books выпустило 42 книги(наибольшее число книг) толще 50 страниц "
   ]
  },
  {
   "cell_type": "markdown",
   "metadata": {},
   "source": [
    "### 2.4 Задание №4"
   ]
  },
  {
   "cell_type": "markdown",
   "metadata": {},
   "source": [
    "- Определите автора с самой высокой средней оценкой книг — учитывайте только книги с 50 и более оценками;"
   ]
  },
  {
   "cell_type": "code",
   "execution_count": 16,
   "metadata": {},
   "outputs": [
    {
     "data": {
      "text/html": [
       "<div>\n",
       "<style scoped>\n",
       "    .dataframe tbody tr th:only-of-type {\n",
       "        vertical-align: middle;\n",
       "    }\n",
       "\n",
       "    .dataframe tbody tr th {\n",
       "        vertical-align: top;\n",
       "    }\n",
       "\n",
       "    .dataframe thead th {\n",
       "        text-align: right;\n",
       "    }\n",
       "</style>\n",
       "<table border=\"1\" class=\"dataframe\">\n",
       "  <thead>\n",
       "    <tr style=\"text-align: right;\">\n",
       "      <th></th>\n",
       "      <th>author</th>\n",
       "      <th>avg</th>\n",
       "    </tr>\n",
       "  </thead>\n",
       "  <tbody>\n",
       "    <tr>\n",
       "      <th>0</th>\n",
       "      <td>J.K. Rowling/Mary GrandPré</td>\n",
       "      <td>4.283844</td>\n",
       "    </tr>\n",
       "  </tbody>\n",
       "</table>\n",
       "</div>"
      ],
      "text/plain": [
       "                       author       avg\n",
       "0  J.K. Rowling/Mary GrandPré  4.283844"
      ]
     },
     "execution_count": 16,
     "metadata": {},
     "output_type": "execute_result"
    }
   ],
   "source": [
    "query4 = '''\n",
    "            SELECT sub.author AS author,\n",
    "                   AVG(sub.avg_rating) \n",
    "            FROM (SELECT a.author,\n",
    "                         b.book_id,\n",
    "                         AVG(rat.rating) AS avg_rating\n",
    "                  FROM authors AS a  \n",
    "                  LEFT JOIN books AS b ON a.author_id = b.author_id\n",
    "                  LEFT JOIN ratings AS rat ON b.book_id = rat.book_id\n",
    "                  GROUP BY a.author, b.book_id\n",
    "                  HAVING COUNT(rat.rating) >= 50) AS sub\n",
    "            GROUP BY author\n",
    "            ORDER BY AVG(sub.avg_rating) DESC\n",
    "            LIMIT 1;\n",
    "         '''   \n",
    "pd.io.sql.read_sql(query4, con = engine)"
   ]
  },
  {
   "cell_type": "markdown",
   "metadata": {},
   "source": [
    "У автора J.K. Rowling/Mary GrandPré самая высокая средняя оценка книги, учитывая только книги с 50 и более оценками"
   ]
  },
  {
   "cell_type": "markdown",
   "metadata": {},
   "source": [
    "### 2.5 Задание №5"
   ]
  },
  {
   "cell_type": "markdown",
   "metadata": {},
   "source": [
    "- Посчитайте среднее количество обзоров от пользователей, которые поставили больше 50 оценок."
   ]
  },
  {
   "cell_type": "code",
   "execution_count": 17,
   "metadata": {
    "scrolled": true
   },
   "outputs": [
    {
     "data": {
      "text/html": [
       "<div>\n",
       "<style scoped>\n",
       "    .dataframe tbody tr th:only-of-type {\n",
       "        vertical-align: middle;\n",
       "    }\n",
       "\n",
       "    .dataframe tbody tr th {\n",
       "        vertical-align: top;\n",
       "    }\n",
       "\n",
       "    .dataframe thead th {\n",
       "        text-align: right;\n",
       "    }\n",
       "</style>\n",
       "<table border=\"1\" class=\"dataframe\">\n",
       "  <thead>\n",
       "    <tr style=\"text-align: right;\">\n",
       "      <th></th>\n",
       "      <th>avg_count_reviews</th>\n",
       "    </tr>\n",
       "  </thead>\n",
       "  <tbody>\n",
       "    <tr>\n",
       "      <th>0</th>\n",
       "      <td>24.0</td>\n",
       "    </tr>\n",
       "  </tbody>\n",
       "</table>\n",
       "</div>"
      ],
      "text/plain": [
       "   avg_count_reviews\n",
       "0               24.0"
      ]
     },
     "execution_count": 17,
     "metadata": {},
     "output_type": "execute_result"
    }
   ],
   "source": [
    "query5 = '''\n",
    "            SELECT ROUND(AVG(sub.count_reviews)) AS avg_count_reviews \n",
    "            FROM (SELECT COUNT(review_id) AS count_reviews \n",
    "                  FROM reviews\n",
    "                  WHERE username IN (SELECT username\n",
    "                                     FROM ratings\n",
    "                                     GROUP BY username\n",
    "                                     HAVING COUNT(rating) > 50)\n",
    "                  GROUP BY username) AS sub\n",
    "         '''   \n",
    "pd.io.sql.read_sql(query5, con = engine)"
   ]
  },
  {
   "cell_type": "markdown",
   "metadata": {},
   "source": [
    "Среднее количество обзоров от пользователей, которые поставили больше 50 оценок - 24."
   ]
  }
 ],
 "metadata": {
  "ExecuteTimeLog": [
   {
    "duration": 478,
    "start_time": "2022-10-10T11:30:36.633Z"
   },
   {
    "duration": 8212,
    "start_time": "2022-10-10T11:30:37.871Z"
   },
   {
    "duration": 2,
    "start_time": "2022-10-10T11:41:31.089Z"
   },
   {
    "duration": 455,
    "start_time": "2022-10-10T11:48:31.645Z"
   },
   {
    "duration": 5692,
    "start_time": "2022-10-10T11:48:32.102Z"
   },
   {
    "duration": 97,
    "start_time": "2022-10-10T11:51:16.608Z"
   },
   {
    "duration": 85,
    "start_time": "2022-10-10T11:51:32.694Z"
   },
   {
    "duration": 514,
    "start_time": "2022-10-10T11:51:32.781Z"
   },
   {
    "duration": 6273,
    "start_time": "2022-10-10T11:51:33.297Z"
   },
   {
    "duration": 38,
    "start_time": "2022-10-10T11:52:38.469Z"
   },
   {
    "duration": 61,
    "start_time": "2022-10-10T11:54:09.972Z"
   },
   {
    "duration": 78,
    "start_time": "2022-10-10T11:54:17.868Z"
   },
   {
    "duration": 501,
    "start_time": "2022-10-10T11:54:17.948Z"
   },
   {
    "duration": 5885,
    "start_time": "2022-10-10T11:54:18.450Z"
   },
   {
    "duration": 468,
    "start_time": "2022-10-10T11:54:26.947Z"
   },
   {
    "duration": 6559,
    "start_time": "2022-10-10T11:54:27.417Z"
   },
   {
    "duration": 278,
    "start_time": "2022-10-10T14:24:28.847Z"
   },
   {
    "duration": 103,
    "start_time": "2022-10-10T14:25:25.283Z"
   },
   {
    "duration": 99,
    "start_time": "2022-10-10T14:25:37.954Z"
   },
   {
    "duration": 9,
    "start_time": "2022-10-10T14:25:39.150Z"
   },
   {
    "duration": 531,
    "start_time": "2022-10-10T14:34:11.628Z"
   },
   {
    "duration": 8240,
    "start_time": "2022-10-10T14:34:12.161Z"
   },
   {
    "duration": 303,
    "start_time": "2022-10-10T14:34:20.402Z"
   },
   {
    "duration": 21,
    "start_time": "2022-10-10T14:34:20.707Z"
   },
   {
    "duration": 88,
    "start_time": "2022-10-10T14:34:20.731Z"
   },
   {
    "duration": 10,
    "start_time": "2022-10-10T14:34:20.820Z"
   },
   {
    "duration": 126,
    "start_time": "2022-10-10T14:34:20.832Z"
   },
   {
    "duration": 84,
    "start_time": "2022-10-10T14:34:20.960Z"
   },
   {
    "duration": 0,
    "start_time": "2022-10-10T14:34:21.046Z"
   },
   {
    "duration": 0,
    "start_time": "2022-10-10T14:34:21.048Z"
   },
   {
    "duration": 0,
    "start_time": "2022-10-10T14:34:21.049Z"
   },
   {
    "duration": 0,
    "start_time": "2022-10-10T14:34:21.050Z"
   },
   {
    "duration": 6,
    "start_time": "2022-10-10T14:35:39.856Z"
   },
   {
    "duration": 132,
    "start_time": "2022-10-10T14:35:53.195Z"
   },
   {
    "duration": 10,
    "start_time": "2022-10-10T14:35:54.166Z"
   },
   {
    "duration": 148,
    "start_time": "2022-10-10T14:35:57.766Z"
   },
   {
    "duration": 135,
    "start_time": "2022-10-10T14:36:07.962Z"
   },
   {
    "duration": 124,
    "start_time": "2022-10-10T14:36:35.117Z"
   },
   {
    "duration": 9,
    "start_time": "2022-10-10T14:36:36.408Z"
   },
   {
    "duration": 76,
    "start_time": "2022-10-10T14:36:49.378Z"
   },
   {
    "duration": 10,
    "start_time": "2022-10-10T14:36:50.252Z"
   },
   {
    "duration": 75,
    "start_time": "2022-10-10T14:42:02.221Z"
   },
   {
    "duration": 74,
    "start_time": "2022-10-10T14:44:05.152Z"
   },
   {
    "duration": 74,
    "start_time": "2022-10-10T14:52:21.323Z"
   },
   {
    "duration": 79,
    "start_time": "2022-10-10T14:53:36.861Z"
   },
   {
    "duration": 43,
    "start_time": "2022-10-11T12:18:58.268Z"
   },
   {
    "duration": 490,
    "start_time": "2022-10-11T12:19:05.210Z"
   },
   {
    "duration": 5820,
    "start_time": "2022-10-11T12:19:05.703Z"
   },
   {
    "duration": 273,
    "start_time": "2022-10-11T12:19:11.525Z"
   },
   {
    "duration": 11,
    "start_time": "2022-10-11T12:19:11.799Z"
   },
   {
    "duration": 79,
    "start_time": "2022-10-11T12:19:11.812Z"
   },
   {
    "duration": 9,
    "start_time": "2022-10-11T12:19:11.892Z"
   },
   {
    "duration": 107,
    "start_time": "2022-10-11T12:19:11.903Z"
   },
   {
    "duration": 9,
    "start_time": "2022-10-11T12:19:12.012Z"
   },
   {
    "duration": 93,
    "start_time": "2022-10-11T12:19:12.022Z"
   },
   {
    "duration": 10,
    "start_time": "2022-10-11T12:19:12.116Z"
   },
   {
    "duration": 81,
    "start_time": "2022-10-11T12:19:12.128Z"
   },
   {
    "duration": 9,
    "start_time": "2022-10-11T12:19:12.210Z"
   },
   {
    "duration": 77,
    "start_time": "2022-10-11T12:19:12.221Z"
   },
   {
    "duration": 262,
    "start_time": "2022-10-11T12:19:12.300Z"
   },
   {
    "duration": 174,
    "start_time": "2022-10-11T12:20:52.248Z"
   },
   {
    "duration": 133,
    "start_time": "2022-10-11T12:23:59.876Z"
   },
   {
    "duration": 134,
    "start_time": "2022-10-11T12:32:19.063Z"
   },
   {
    "duration": 150,
    "start_time": "2022-10-11T12:33:38.601Z"
   },
   {
    "duration": 126,
    "start_time": "2022-10-11T12:35:46.866Z"
   },
   {
    "duration": 148,
    "start_time": "2022-10-11T12:36:18.823Z"
   },
   {
    "duration": 102,
    "start_time": "2022-10-11T12:36:53.715Z"
   },
   {
    "duration": 124,
    "start_time": "2022-10-11T12:37:36.071Z"
   },
   {
    "duration": 115,
    "start_time": "2022-10-11T12:37:40.975Z"
   },
   {
    "duration": 105,
    "start_time": "2022-10-11T12:37:58.221Z"
   },
   {
    "duration": 104,
    "start_time": "2022-10-11T12:38:22.958Z"
   },
   {
    "duration": 508,
    "start_time": "2022-10-11T12:40:49.277Z"
   },
   {
    "duration": 8962,
    "start_time": "2022-10-11T12:40:49.787Z"
   },
   {
    "duration": 272,
    "start_time": "2022-10-11T12:40:58.750Z"
   },
   {
    "duration": 10,
    "start_time": "2022-10-11T12:40:59.024Z"
   },
   {
    "duration": 82,
    "start_time": "2022-10-11T12:40:59.035Z"
   },
   {
    "duration": 8,
    "start_time": "2022-10-11T12:40:59.118Z"
   },
   {
    "duration": 121,
    "start_time": "2022-10-11T12:40:59.128Z"
   },
   {
    "duration": 9,
    "start_time": "2022-10-11T12:40:59.250Z"
   },
   {
    "duration": 94,
    "start_time": "2022-10-11T12:40:59.260Z"
   },
   {
    "duration": 8,
    "start_time": "2022-10-11T12:40:59.356Z"
   },
   {
    "duration": 87,
    "start_time": "2022-10-11T12:40:59.366Z"
   },
   {
    "duration": 9,
    "start_time": "2022-10-11T12:40:59.455Z"
   },
   {
    "duration": 97,
    "start_time": "2022-10-11T12:40:59.465Z"
   },
   {
    "duration": 85,
    "start_time": "2022-10-11T12:40:59.564Z"
   },
   {
    "duration": 107,
    "start_time": "2022-10-11T12:41:51.533Z"
   },
   {
    "duration": 106,
    "start_time": "2022-10-11T12:42:18.294Z"
   },
   {
    "duration": 104,
    "start_time": "2022-10-11T12:46:02.218Z"
   },
   {
    "duration": 101,
    "start_time": "2022-10-11T12:46:22.910Z"
   },
   {
    "duration": 95,
    "start_time": "2022-10-11T12:46:44.740Z"
   },
   {
    "duration": 11,
    "start_time": "2022-10-11T12:46:50.365Z"
   },
   {
    "duration": 530,
    "start_time": "2022-10-11T12:47:09.511Z"
   },
   {
    "duration": 105,
    "start_time": "2022-10-11T12:47:22.861Z"
   },
   {
    "duration": 102,
    "start_time": "2022-10-11T12:51:17.827Z"
   },
   {
    "duration": 205,
    "start_time": "2022-10-11T12:52:07.169Z"
   },
   {
    "duration": 105,
    "start_time": "2022-10-11T12:52:29.515Z"
   },
   {
    "duration": 120,
    "start_time": "2022-10-11T12:53:13.251Z"
   },
   {
    "duration": 120,
    "start_time": "2022-10-11T12:55:46.193Z"
   },
   {
    "duration": 133,
    "start_time": "2022-10-11T12:58:07.550Z"
   },
   {
    "duration": 130,
    "start_time": "2022-10-11T12:58:31.676Z"
   },
   {
    "duration": 116,
    "start_time": "2022-10-11T12:58:43.586Z"
   },
   {
    "duration": 116,
    "start_time": "2022-10-11T13:00:08.935Z"
   },
   {
    "duration": 114,
    "start_time": "2022-10-11T13:05:15.888Z"
   },
   {
    "duration": 115,
    "start_time": "2022-10-11T13:05:22.678Z"
   },
   {
    "duration": 157,
    "start_time": "2022-10-11T13:16:59.269Z"
   },
   {
    "duration": 166,
    "start_time": "2022-10-11T13:22:45.104Z"
   },
   {
    "duration": 166,
    "start_time": "2022-10-11T13:25:40.335Z"
   },
   {
    "duration": 182,
    "start_time": "2022-10-11T13:26:48.758Z"
   },
   {
    "duration": 78,
    "start_time": "2022-10-11T13:27:21.500Z"
   },
   {
    "duration": 73,
    "start_time": "2022-10-11T13:27:37.301Z"
   },
   {
    "duration": 133,
    "start_time": "2022-10-11T15:09:09.213Z"
   },
   {
    "duration": 144,
    "start_time": "2022-10-11T15:09:20.359Z"
   },
   {
    "duration": 143,
    "start_time": "2022-10-11T15:09:36.253Z"
   },
   {
    "duration": 132,
    "start_time": "2022-10-11T15:10:46.639Z"
   },
   {
    "duration": 146,
    "start_time": "2022-10-11T15:12:46.807Z"
   },
   {
    "duration": 141,
    "start_time": "2022-10-11T15:13:06.769Z"
   },
   {
    "duration": 137,
    "start_time": "2022-10-11T15:13:57.186Z"
   },
   {
    "duration": 135,
    "start_time": "2022-10-11T15:14:19.887Z"
   },
   {
    "duration": 256,
    "start_time": "2022-10-11T15:15:55.305Z"
   },
   {
    "duration": 83,
    "start_time": "2022-10-11T15:16:34.653Z"
   },
   {
    "duration": 78,
    "start_time": "2022-10-11T15:17:21.069Z"
   },
   {
    "duration": 144,
    "start_time": "2022-10-11T15:18:29.261Z"
   },
   {
    "duration": 77,
    "start_time": "2022-10-11T15:18:53.027Z"
   },
   {
    "duration": 80,
    "start_time": "2022-10-11T15:23:08.264Z"
   },
   {
    "duration": 131,
    "start_time": "2022-10-11T15:48:50.013Z"
   },
   {
    "duration": 127,
    "start_time": "2022-10-11T15:48:58.405Z"
   },
   {
    "duration": 133,
    "start_time": "2022-10-11T15:50:06.842Z"
   },
   {
    "duration": 126,
    "start_time": "2022-10-11T15:51:44.778Z"
   },
   {
    "duration": 139,
    "start_time": "2022-10-11T15:53:55.687Z"
   },
   {
    "duration": 150,
    "start_time": "2022-10-11T15:54:03.292Z"
   },
   {
    "duration": 75,
    "start_time": "2022-10-11T15:55:03.685Z"
   },
   {
    "duration": 74,
    "start_time": "2022-10-11T15:55:37.991Z"
   },
   {
    "duration": 140,
    "start_time": "2022-10-11T15:56:27.303Z"
   },
   {
    "duration": 73,
    "start_time": "2022-10-11T15:56:45.060Z"
   },
   {
    "duration": 73,
    "start_time": "2022-10-11T15:57:28.151Z"
   },
   {
    "duration": 74,
    "start_time": "2022-10-11T15:59:55.161Z"
   },
   {
    "duration": 517,
    "start_time": "2022-10-11T16:05:43.398Z"
   },
   {
    "duration": 9421,
    "start_time": "2022-10-11T16:05:43.916Z"
   },
   {
    "duration": 281,
    "start_time": "2022-10-11T16:05:53.339Z"
   },
   {
    "duration": 11,
    "start_time": "2022-10-11T16:05:53.621Z"
   },
   {
    "duration": 96,
    "start_time": "2022-10-11T16:05:53.634Z"
   },
   {
    "duration": 10,
    "start_time": "2022-10-11T16:05:53.731Z"
   },
   {
    "duration": 110,
    "start_time": "2022-10-11T16:05:53.743Z"
   },
   {
    "duration": 9,
    "start_time": "2022-10-11T16:05:53.854Z"
   },
   {
    "duration": 92,
    "start_time": "2022-10-11T16:05:53.865Z"
   },
   {
    "duration": 9,
    "start_time": "2022-10-11T16:05:53.958Z"
   },
   {
    "duration": 74,
    "start_time": "2022-10-11T16:05:53.969Z"
   },
   {
    "duration": 9,
    "start_time": "2022-10-11T16:05:54.045Z"
   },
   {
    "duration": 76,
    "start_time": "2022-10-11T16:05:54.055Z"
   },
   {
    "duration": 96,
    "start_time": "2022-10-11T16:05:54.133Z"
   },
   {
    "duration": 74,
    "start_time": "2022-10-11T16:05:54.231Z"
   },
   {
    "duration": 80,
    "start_time": "2022-10-11T16:05:54.307Z"
   },
   {
    "duration": 82,
    "start_time": "2022-10-11T16:05:54.389Z"
   },
   {
    "duration": 478,
    "start_time": "2022-10-11T16:06:25.725Z"
   },
   {
    "duration": 12124,
    "start_time": "2022-10-11T16:06:26.205Z"
   },
   {
    "duration": 257,
    "start_time": "2022-10-11T16:06:38.330Z"
   },
   {
    "duration": 11,
    "start_time": "2022-10-11T16:06:38.588Z"
   },
   {
    "duration": 78,
    "start_time": "2022-10-11T16:06:38.601Z"
   },
   {
    "duration": 9,
    "start_time": "2022-10-11T16:06:38.681Z"
   },
   {
    "duration": 96,
    "start_time": "2022-10-11T16:06:38.691Z"
   },
   {
    "duration": 10,
    "start_time": "2022-10-11T16:06:38.788Z"
   },
   {
    "duration": 100,
    "start_time": "2022-10-11T16:06:38.799Z"
   },
   {
    "duration": 10,
    "start_time": "2022-10-11T16:06:38.900Z"
   },
   {
    "duration": 74,
    "start_time": "2022-10-11T16:06:38.912Z"
   },
   {
    "duration": 9,
    "start_time": "2022-10-11T16:06:38.988Z"
   },
   {
    "duration": 73,
    "start_time": "2022-10-11T16:06:38.998Z"
   },
   {
    "duration": 94,
    "start_time": "2022-10-11T16:06:39.074Z"
   },
   {
    "duration": 72,
    "start_time": "2022-10-11T16:06:39.169Z"
   },
   {
    "duration": 77,
    "start_time": "2022-10-11T16:06:39.242Z"
   },
   {
    "duration": 71,
    "start_time": "2022-10-11T16:06:39.321Z"
   },
   {
    "duration": 503,
    "start_time": "2022-10-11T18:54:53.213Z"
   },
   {
    "duration": 5082,
    "start_time": "2022-10-11T18:54:53.719Z"
   },
   {
    "duration": 281,
    "start_time": "2022-10-11T18:54:58.802Z"
   },
   {
    "duration": 15,
    "start_time": "2022-10-11T18:54:59.087Z"
   },
   {
    "duration": 79,
    "start_time": "2022-10-11T18:54:59.104Z"
   },
   {
    "duration": 12,
    "start_time": "2022-10-11T18:54:59.185Z"
   },
   {
    "duration": 103,
    "start_time": "2022-10-11T18:54:59.199Z"
   },
   {
    "duration": 11,
    "start_time": "2022-10-11T18:54:59.304Z"
   },
   {
    "duration": 92,
    "start_time": "2022-10-11T18:54:59.317Z"
   },
   {
    "duration": 10,
    "start_time": "2022-10-11T18:54:59.413Z"
   },
   {
    "duration": 81,
    "start_time": "2022-10-11T18:54:59.425Z"
   },
   {
    "duration": 11,
    "start_time": "2022-10-11T18:54:59.508Z"
   },
   {
    "duration": 72,
    "start_time": "2022-10-11T18:54:59.521Z"
   },
   {
    "duration": 96,
    "start_time": "2022-10-11T18:54:59.595Z"
   },
   {
    "duration": 73,
    "start_time": "2022-10-11T18:54:59.693Z"
   },
   {
    "duration": 77,
    "start_time": "2022-10-11T18:54:59.767Z"
   },
   {
    "duration": 73,
    "start_time": "2022-10-11T18:54:59.846Z"
   }
  ],
  "kernelspec": {
   "display_name": "Python 3 (ipykernel)",
   "language": "python",
   "name": "python3"
  },
  "language_info": {
   "codemirror_mode": {
    "name": "ipython",
    "version": 3
   },
   "file_extension": ".py",
   "mimetype": "text/x-python",
   "name": "python",
   "nbconvert_exporter": "python",
   "pygments_lexer": "ipython3",
   "version": "3.9.7"
  },
  "toc": {
   "base_numbering": 1,
   "nav_menu": {},
   "number_sections": false,
   "sideBar": true,
   "skip_h1_title": true,
   "title_cell": "Table of Contents",
   "title_sidebar": "Contents",
   "toc_cell": false,
   "toc_position": {},
   "toc_section_display": true,
   "toc_window_display": false
  }
 },
 "nbformat": 4,
 "nbformat_minor": 2
}
